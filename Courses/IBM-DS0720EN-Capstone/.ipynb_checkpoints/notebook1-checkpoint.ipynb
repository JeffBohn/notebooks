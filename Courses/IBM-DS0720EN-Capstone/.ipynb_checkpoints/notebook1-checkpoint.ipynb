{
 "cells": [
  {
   "cell_type": "markdown",
   "metadata": {},
   "source": [
    "<h1 style=\"text-align:center\">Data Science and Machine Learning Capstone Project</h1>\n",
    "<p style=\"text-align:center\">IBM: DS0720EN</p>\n",
    "<img style=\"text-align:center\" src=\"https://prod-edxapp.edx-cdn.org/static/edx.org/images/logo.790c9a5340cb.png\">\n",
    "<p style=\"text-align:center\">1 of 4</p>"
   ]
  },
  {
   "cell_type": "markdown",
   "metadata": {},
   "source": [
    "# Table of Contents\n",
    "1. [Problem](#problem)\n",
    "    1. [Statement](#statement)\n",
    "    2. [Questions](#questions)\n",
    "2. [Question addressed by this Notebook](#questionheading)\n",
    "    1. [Question](#question)\n",
    "3. [Answer](#answerheading)\n",
    "    1. [Answer](#answer)\n",
    "4. [Approach](#approach)\n",
    "5. [Analysis](#analysis)\n",
    "    1. [Data Handling](#ingestion)\n",
    "        1. [Source](#source)\n",
    "        2. [IBM Cloud](#ingestcloud)\n",
    "        3. [Local](#ingestlocal)\n",
    "    2. [Wrangling](#wrangling)\n",
    "    3. [Images](#images)\n",
    "6. [Insights](#insights)\n",
    "7. [Reasoning](#reasoning)"
   ]
  },
  {
   "cell_type": "markdown",
   "metadata": {},
   "source": [
    "<a id=\"problem\"></a>\n",
    "## Problem\n",
    "---"
   ]
  },
  {
   "cell_type": "markdown",
   "metadata": {},
   "source": [
    "<a id=\"statement\"></a>\n",
    "### Statement"
   ]
  },
  {
   "cell_type": "markdown",
   "metadata": {},
   "source": [
    "The people of New Yorker use the 311 system to report complaints about the non-emergency problems to local authorities. Various agencies in New York are assigned these problems. The Department of Housing Preservation and Development of New York City is the agency that processes 311 complaints that are related to housing and buildings.\n",
    "\n",
    "In the last few years, the number of 311 complaints coming to the Department of Housing Preservation and Development has increased significantly. Although these complaints are not necessarily urgent, the large volume of complaints and the sudden increase is impacting the overall efficiency of operations of the agency.\n",
    "\n",
    "Therefore, the Department of Housing Preservation and Development has approached your organization to help them manage the large volume of 311 complaints they are receiving every year.\n",
    "\n",
    "The agency needs answers to several questions. The answers to those questions must be supported by data and analytics. These are their  questions:"
   ]
  },
  {
   "cell_type": "markdown",
   "metadata": {},
   "source": [
    "<a id=\"questions\"></a>\n",
    "### Questions"
   ]
  },
  {
   "cell_type": "markdown",
   "metadata": {},
   "source": [
    "1.  Which type of complaint should the Department of Housing Preservation and Development of New York City focus on first?\n",
    "2.  Should the Department of Housing Preservation and Development of New York City focus on any particular set of boroughs, ZIP codes, or street (where the complaints are severe) for the specific type of complaints you identified in response to Question 1?\n",
    "3.  Does the Complaint Type that you identified in response to question 1 have an obvious relationship with any particular characteristic or characteristics of the houses or buildings?\n",
    "4.  Can a predictive model be built for a future prediction of the possibility of complaints of the type that you have identified in response to question 1?"
   ]
  },
  {
   "cell_type": "markdown",
   "metadata": {},
   "source": [
    "<a id=\"questionheading\"></a>\n",
    "## Question addressed by this Notebook\n",
    "---"
   ]
  },
  {
   "cell_type": "markdown",
   "metadata": {},
   "source": [
    "<a id=\"question\"></a>\n",
    "### Which type of complaint should the Department of Housing Preservation and Development of New York City focus on first?"
   ]
  },
  {
   "cell_type": "markdown",
   "metadata": {},
   "source": [
    "<a id=\"answerheading\"></a>\n",
    "## Answer\n",
    "---"
   ]
  },
  {
   "cell_type": "markdown",
   "metadata": {},
   "source": [
    "<a id=\"answer\"></a>\n",
    "### Answer"
   ]
  },
  {
   "cell_type": "markdown",
   "metadata": {},
   "source": [
    "<a id=\"approach\"></a>\n",
    "## Approach\n",
    "---"
   ]
  },
  {
   "cell_type": "markdown",
   "metadata": {},
   "source": [
    "<a id=\"analysis\"></a>\n",
    "## Analysis\n",
    "---"
   ]
  },
  {
   "cell_type": "markdown",
   "metadata": {},
   "source": [
    "<a id=\"ingestion\"></a>\n",
    "### Data Handling"
   ]
  },
  {
   "cell_type": "markdown",
   "metadata": {},
   "source": [
    "<a id=\"source\"></a>\n",
    "#### Data Source"
   ]
  },
  {
   "cell_type": "markdown",
   "metadata": {},
   "source": [
    "The course provides the data sources to use as these:  [New York City 311 SODA API Endpoint](https://data.cityofnewyork.us/Social-Services/311-Service-Requests-from-2010-to-Present/erm2-nwe9) and [Primary Land Use Tax Lot Output PLUTO housing dataset](https://www1.nyc.gov/assets/planning/download/zip/data-maps/open-data/nyc_pluto_18v1.zip)."
   ]
  },
  {
   "cell_type": "markdown",
   "metadata": {},
   "source": [
    "A little poking around yields the [Open Data Page schema](https://data.cityofnewyork.us/Social-Services/311-Service-Requests-from-2010-to-Present/erm2-nwe9) and [SODA documentation](https://dev.socrata.com/foundry/data.cityofnewyork.us/fhrw-4uyv)."
   ]
  },
  {
   "cell_type": "markdown",
   "metadata": {},
   "source": [
    "The course provides a [SODA URL](https://data.cityofnewyork.us/resource/fhrw-4uyv.csv?$limit=100000000&Agency=HPD&$select=created_date,unique_key,complaint_type,incident_zip,incident_address,street_name,address_type,city,resolution_description,borough,latitude,longitude,closed_date,location_type,status).  It lets us download a subset of the entire 311 data set.  Only certain columns, sets a maximum number of rows, and limits to the Department of Housing Preservation and Development."
   ]
  },
  {
   "cell_type": "markdown",
   "metadata": {},
   "source": [
    "I will create two additional SODA URL to use for this project:"
   ]
  },
  {
   "cell_type": "markdown",
   "metadata": {},
   "source": [
    "Because the first quiz asks questions only pertaining through December 2018:"
   ]
  },
  {
   "cell_type": "markdown",
   "metadata": {},
   "source": [
    "[Through 2018 Only](https://data.cityofnewyork.us/resource/fhrw-4uyv.csv?$limit=100000000&Agency=HPD&$select=created_date,unique_key,complaint_type,incident_zip,incident_address,street_name,address_type,city,resolution_description,borough,latitude,longitude,closed_date,location_type,status&$where=created_date%3C%3D%272018-12-31T23:59:59.999%27)"
   ]
  },
  {
   "cell_type": "markdown",
   "metadata": {},
   "source": [
    "The data set is still very large, so I will break off just one year to use during initial examination when I am figuring out what approach I will take:"
   ]
  },
  {
   "cell_type": "markdown",
   "metadata": {},
   "source": [
    "[2018 Only](https://data.cityofnewyork.us/resource/fhrw-4uyv.csv?$limit=100000000&Agency=HPD&$select=created_date,unique_key,complaint_type,incident_zip,incident_address,street_name,address_type,city,resolution_description,borough,latitude,longitude,closed_date,location_type,status&$where=created_date%20between%20%272018-01-01T00:00:00.000%27%20and%20%272018-12-31T23:59:59.999%27)"
   ]
  },
  {
   "cell_type": "markdown",
   "metadata": {},
   "source": [
    "The data sets will be read directly into a Pandas Dataframe then saved as \"pickle\" files.  Either locally or in the IBM Cloud, depending on where the notebook is being run."
   ]
  },
  {
   "cell_type": "code",
   "execution_count": 8,
   "metadata": {},
   "outputs": [],
   "source": [
    "import pandas as pd\n",
    "#df = pd.read_csv(\"https://data.cityofnewyork.us/resource/fhrw-4uyv.csv?$limit=100000000&Agency=HPD&$select=created_date,unique_key,complaint_type,incident_zip,incident_address,street_name,address_type,city,resolution_description,borough,latitude,longitude,closed_date,location_type,status&$where=created_date%3C%3D%272018-12-31T23:59:59.999%27\", parse_dates=[1,13])"
   ]
  },
  {
   "cell_type": "code",
   "execution_count": 9,
   "metadata": {},
   "outputs": [
    {
     "data": {
      "text/html": [
       "<div>\n",
       "<style scoped>\n",
       "    .dataframe tbody tr th:only-of-type {\n",
       "        vertical-align: middle;\n",
       "    }\n",
       "\n",
       "    .dataframe tbody tr th {\n",
       "        vertical-align: top;\n",
       "    }\n",
       "\n",
       "    .dataframe thead th {\n",
       "        text-align: right;\n",
       "    }\n",
       "</style>\n",
       "<table border=\"1\" class=\"dataframe\">\n",
       "  <thead>\n",
       "    <tr style=\"text-align: right;\">\n",
       "      <th></th>\n",
       "      <th>created_date</th>\n",
       "      <th>unique_key</th>\n",
       "      <th>complaint_type</th>\n",
       "      <th>incident_zip</th>\n",
       "      <th>incident_address</th>\n",
       "      <th>street_name</th>\n",
       "      <th>address_type</th>\n",
       "      <th>city</th>\n",
       "      <th>resolution_description</th>\n",
       "      <th>borough</th>\n",
       "      <th>latitude</th>\n",
       "      <th>longitude</th>\n",
       "      <th>closed_date</th>\n",
       "      <th>location_type</th>\n",
       "      <th>status</th>\n",
       "    </tr>\n",
       "  </thead>\n",
       "  <tbody>\n",
       "    <tr>\n",
       "      <th>0</th>\n",
       "      <td>2016-09-08T17:33:44.000</td>\n",
       "      <td>34269448</td>\n",
       "      <td>UNSANITARY CONDITION</td>\n",
       "      <td>10460.0</td>\n",
       "      <td>1512 BEACH AVENUE</td>\n",
       "      <td>BEACH AVENUE</td>\n",
       "      <td>ADDRESS</td>\n",
       "      <td>BRONX</td>\n",
       "      <td>The Department of Housing Preservation and Dev...</td>\n",
       "      <td>BRONX</td>\n",
       "      <td>40.837901</td>\n",
       "      <td>-73.867293</td>\n",
       "      <td>2019-09-24T14:31:15.000</td>\n",
       "      <td>RESIDENTIAL BUILDING</td>\n",
       "      <td>Closed</td>\n",
       "    </tr>\n",
       "    <tr>\n",
       "      <th>1</th>\n",
       "      <td>2018-11-16T11:37:56.000</td>\n",
       "      <td>40956852</td>\n",
       "      <td>WATER LEAK</td>\n",
       "      <td>10457.0</td>\n",
       "      <td>230 EAST  173 STREET</td>\n",
       "      <td>EAST  173 STREET</td>\n",
       "      <td>ADDRESS</td>\n",
       "      <td>BRONX</td>\n",
       "      <td>The Department of Housing Preservation and Dev...</td>\n",
       "      <td>BRONX</td>\n",
       "      <td>40.843718</td>\n",
       "      <td>-73.908433</td>\n",
       "      <td>2019-09-11T08:31:39.000</td>\n",
       "      <td>RESIDENTIAL BUILDING</td>\n",
       "      <td>Closed</td>\n",
       "    </tr>\n",
       "    <tr>\n",
       "      <th>2</th>\n",
       "      <td>2018-10-01T16:42:56.000</td>\n",
       "      <td>40426596</td>\n",
       "      <td>APPLIANCE</td>\n",
       "      <td>10460.0</td>\n",
       "      <td>2133 DALY AVENUE</td>\n",
       "      <td>DALY AVENUE</td>\n",
       "      <td>ADDRESS</td>\n",
       "      <td>BRONX</td>\n",
       "      <td>The Department of Housing Preservation and Dev...</td>\n",
       "      <td>BRONX</td>\n",
       "      <td>40.845532</td>\n",
       "      <td>-73.880980</td>\n",
       "      <td>2019-09-06T13:13:13.000</td>\n",
       "      <td>RESIDENTIAL BUILDING</td>\n",
       "      <td>Closed</td>\n",
       "    </tr>\n",
       "    <tr>\n",
       "      <th>3</th>\n",
       "      <td>2018-11-10T06:39:53.000</td>\n",
       "      <td>40904132</td>\n",
       "      <td>HEAT/HOT WATER</td>\n",
       "      <td>10030.0</td>\n",
       "      <td>118 WEST  139 STREET</td>\n",
       "      <td>WEST  139 STREET</td>\n",
       "      <td>ADDRESS</td>\n",
       "      <td>NEW YORK</td>\n",
       "      <td>The complaint you filed is a duplicate of a co...</td>\n",
       "      <td>MANHATTAN</td>\n",
       "      <td>40.817195</td>\n",
       "      <td>-73.940298</td>\n",
       "      <td>2019-08-25T00:00:00.000</td>\n",
       "      <td>RESIDENTIAL BUILDING</td>\n",
       "      <td>Closed</td>\n",
       "    </tr>\n",
       "    <tr>\n",
       "      <th>4</th>\n",
       "      <td>2018-11-10T06:55:58.000</td>\n",
       "      <td>40899286</td>\n",
       "      <td>HEAT/HOT WATER</td>\n",
       "      <td>10030.0</td>\n",
       "      <td>118 WEST  139 STREET</td>\n",
       "      <td>WEST  139 STREET</td>\n",
       "      <td>ADDRESS</td>\n",
       "      <td>NEW YORK</td>\n",
       "      <td>The complaint you filed is a duplicate of a co...</td>\n",
       "      <td>MANHATTAN</td>\n",
       "      <td>40.817195</td>\n",
       "      <td>-73.940298</td>\n",
       "      <td>2019-08-25T00:00:00.000</td>\n",
       "      <td>RESIDENTIAL BUILDING</td>\n",
       "      <td>Closed</td>\n",
       "    </tr>\n",
       "  </tbody>\n",
       "</table>\n",
       "</div>"
      ],
      "text/plain": [
       "              created_date unique_key        complaint_type  incident_zip  \\\n",
       "0  2016-09-08T17:33:44.000   34269448  UNSANITARY CONDITION       10460.0   \n",
       "1  2018-11-16T11:37:56.000   40956852            WATER LEAK       10457.0   \n",
       "2  2018-10-01T16:42:56.000   40426596             APPLIANCE       10460.0   \n",
       "3  2018-11-10T06:39:53.000   40904132        HEAT/HOT WATER       10030.0   \n",
       "4  2018-11-10T06:55:58.000   40899286        HEAT/HOT WATER       10030.0   \n",
       "\n",
       "       incident_address       street_name address_type      city  \\\n",
       "0     1512 BEACH AVENUE      BEACH AVENUE      ADDRESS     BRONX   \n",
       "1  230 EAST  173 STREET  EAST  173 STREET      ADDRESS     BRONX   \n",
       "2      2133 DALY AVENUE       DALY AVENUE      ADDRESS     BRONX   \n",
       "3  118 WEST  139 STREET  WEST  139 STREET      ADDRESS  NEW YORK   \n",
       "4  118 WEST  139 STREET  WEST  139 STREET      ADDRESS  NEW YORK   \n",
       "\n",
       "                              resolution_description    borough   latitude  \\\n",
       "0  The Department of Housing Preservation and Dev...      BRONX  40.837901   \n",
       "1  The Department of Housing Preservation and Dev...      BRONX  40.843718   \n",
       "2  The Department of Housing Preservation and Dev...      BRONX  40.845532   \n",
       "3  The complaint you filed is a duplicate of a co...  MANHATTAN  40.817195   \n",
       "4  The complaint you filed is a duplicate of a co...  MANHATTAN  40.817195   \n",
       "\n",
       "   longitude              closed_date         location_type  status  \n",
       "0 -73.867293  2019-09-24T14:31:15.000  RESIDENTIAL BUILDING  Closed  \n",
       "1 -73.908433  2019-09-11T08:31:39.000  RESIDENTIAL BUILDING  Closed  \n",
       "2 -73.880980  2019-09-06T13:13:13.000  RESIDENTIAL BUILDING  Closed  \n",
       "3 -73.940298  2019-08-25T00:00:00.000  RESIDENTIAL BUILDING  Closed  \n",
       "4 -73.940298  2019-08-25T00:00:00.000  RESIDENTIAL BUILDING  Closed  "
      ]
     },
     "execution_count": 9,
     "metadata": {},
     "output_type": "execute_result"
    }
   ],
   "source": [
    "df.head()"
   ]
  },
  {
   "cell_type": "markdown",
   "metadata": {},
   "source": [
    "<a id=\"ingestcloud\"></a>\n",
    "#### IBM Cloud"
   ]
  },
  {
   "cell_type": "markdown",
   "metadata": {},
   "source": [
    "Code snippets for Uploading and Downloading pickle files between a Pandas data frame and the IBM Cloud."
   ]
  },
  {
   "cell_type": "code",
   "execution_count": 11,
   "metadata": {},
   "outputs": [],
   "source": [
    "# Import IBM specific imports here."
   ]
  },
  {
   "cell_type": "code",
   "execution_count": null,
   "metadata": {},
   "outputs": [],
   "source": [
    "# Create variables needed for IBM Cloud operations.\n",
    "\n",
    "# The values needed to replace the \"xxx\" placeholders in the following sections should be kept secret.\n",
    "# Do not keep them in any notebook that is then uploaded to anywhere publically visible.\n",
    "# These can be obtained by invoking the Watson Studio \"insert to code\" functionality on any uploaded file.\n",
    "# That will generate code with the required values.\n",
    "# Copy / paste from that generated code then discard the generated code.\n",
    "\n",
    "# Create a credentials variable.\n",
    "client_cred = ibm_boto3.client(service_name='xxx',\n",
    "ibm_api_key_id='xxx',\n",
    "ibm_auth_endpoint='xxx',\n",
    "config=Config(signature_version='xxx'),\n",
    "endpoint_url='xxx')\n",
    "\n",
    "# Create a bucket variable.\n",
    "bucket = 'xxx'"
   ]
  },
  {
   "cell_type": "code",
   "execution_count": null,
   "metadata": {},
   "outputs": [],
   "source": [
    "# \"Load\"\n",
    "#Download a pickle file from IBM Cloud Object Store:\n",
    "client_cred.download_file(Bucket=bucket,Key='df_raw_cos.pkl',Filename='./df_raw_local.pkl')\n",
    "#Fill a Dataframe from of the pickle file:\n",
    "df = pd.read_pickle('./df_raw_local.pkl')"
   ]
  },
  {
   "cell_type": "code",
   "execution_count": null,
   "metadata": {},
   "outputs": [],
   "source": [
    "# \"Save\"\n",
    "#Create a pickle file from a dataframe:\n",
    "df.to_pickle('./df_raw.pkl')\n",
    "#Upload a pickle (PKL) file to the IBM Cloud Object Store:\n",
    "client_cred.upload_file('./df_raw.pkl',bucket,'df_raw_cos.pkl')"
   ]
  },
  {
   "cell_type": "markdown",
   "metadata": {},
   "source": [
    "<a id=\"ingestlocal\"></a>\n",
    "#### Local"
   ]
  },
  {
   "cell_type": "markdown",
   "metadata": {},
   "source": [
    "To avoid using up monthly Capacity Unit Hours (CUH) while working on the notebook, the notebook can be hosted on a local machine runnning Jupyter Notebook."
   ]
  },
  {
   "cell_type": "markdown",
   "metadata": {},
   "source": [
    "Code snippets for saving and loading Pandas data frames as local files."
   ]
  },
  {
   "cell_type": "code",
   "execution_count": 12,
   "metadata": {},
   "outputs": [],
   "source": [
    "#set variables to make either operation easier\n",
    "file_path_local = 'C:\\\\Users\\\\It_Co\\\\Documents\\\\DataScience\\\\Capstone\\\\'\n",
    "filename_full = 'ny311full.pkl'\n",
    "filename_small = 'ny311small.pkl'\n",
    "filename_truncated = 'ny311truncated.pkl'"
   ]
  },
  {
   "cell_type": "code",
   "execution_count": 4,
   "metadata": {},
   "outputs": [],
   "source": [
    "#Save\n",
    "#Create a pickle file from a dataframe.\n",
    "df.to_pickle(file_path_local + filename_truncated)"
   ]
  },
  {
   "cell_type": "code",
   "execution_count": null,
   "metadata": {},
   "outputs": [],
   "source": [
    "#Load\n",
    "#Fill a dataframe from a pickle file.\n",
    "df.read_pickle(file_path_local + filename_truncated)"
   ]
  },
  {
   "cell_type": "markdown",
   "metadata": {},
   "source": [
    "<a id=\"wrangling\"></a>\n",
    "### Wrangling"
   ]
  },
  {
   "cell_type": "code",
   "execution_count": null,
   "metadata": {},
   "outputs": [],
   "source": []
  },
  {
   "cell_type": "code",
   "execution_count": null,
   "metadata": {},
   "outputs": [],
   "source": []
  },
  {
   "cell_type": "code",
   "execution_count": null,
   "metadata": {},
   "outputs": [],
   "source": []
  },
  {
   "cell_type": "code",
   "execution_count": null,
   "metadata": {},
   "outputs": [],
   "source": []
  },
  {
   "cell_type": "markdown",
   "metadata": {},
   "source": [
    "<a id=\"saving\"></a>\n",
    "### Saving"
   ]
  },
  {
   "cell_type": "markdown",
   "metadata": {},
   "source": [
    "<a id=\"savecloud\"></a>\n",
    "#### IBM Cloud"
   ]
  },
  {
   "cell_type": "markdown",
   "metadata": {},
   "source": [
    "Set credentials and bucket variables as described in the [Data Ingestion](#ingestcloud) section."
   ]
  },
  {
   "cell_type": "markdown",
   "metadata": {},
   "source": [
    "<a id=\"savelocal\"></a>\n",
    "#### Local"
   ]
  },
  {
   "cell_type": "markdown",
   "metadata": {},
   "source": [
    "Set path and file name variables as described in the [Data Ingestion](#ingestlocal) section."
   ]
  },
  {
   "cell_type": "code",
   "execution_count": 10,
   "metadata": {},
   "outputs": [],
   "source": [
    "#Save the dataset as a pickle file.\n",
    "df.to_pickle(file_path_local + filename_truncated)"
   ]
  },
  {
   "cell_type": "markdown",
   "metadata": {},
   "source": [
    "<a id=\"images\"></a>\n",
    "### Images"
   ]
  },
  {
   "cell_type": "markdown",
   "metadata": {},
   "source": [
    "<a id=\"insights\"></a>\n",
    "## Insights\n",
    "---"
   ]
  },
  {
   "cell_type": "markdown",
   "metadata": {},
   "source": [
    "<a id=\"reasoning\"></a>\n",
    "## Reasoning\n",
    "---"
   ]
  },
  {
   "cell_type": "code",
   "execution_count": null,
   "metadata": {},
   "outputs": [],
   "source": []
  }
 ],
 "metadata": {
  "kernelspec": {
   "display_name": "Python 3",
   "language": "python",
   "name": "python3"
  },
  "language_info": {
   "codemirror_mode": {
    "name": "ipython",
    "version": 3
   },
   "file_extension": ".py",
   "mimetype": "text/x-python",
   "name": "python",
   "nbconvert_exporter": "python",
   "pygments_lexer": "ipython3",
   "version": "3.7.3"
  }
 },
 "nbformat": 4,
 "nbformat_minor": 1
}
