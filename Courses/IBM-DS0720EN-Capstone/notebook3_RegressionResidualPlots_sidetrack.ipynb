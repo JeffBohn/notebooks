{
 "cells": [
  {
   "cell_type": "markdown",
   "metadata": {},
   "source": [
    "<h1 style=\"text-align:center\">Data Science and Machine Learning Capstone Project</h1>\n",
    "<img style=\"float:right\" src=\"https://prod-edxapp.edx-cdn.org/static/edx.org/images/logo.790c9a5340cb.png\">\n",
    "<p style=\"text-align:center\">IBM: DS0720EN</p>\n",
    "<p style=\"text-align:center\">Question 3 of 4</p>"
   ]
  },
  {
   "cell_type": "markdown",
   "metadata": {},
   "source": [
    "1. [Problem Statement](#problem)\n",
    "2. [Question 3](#question)\n",
    "3. [Data Cleaning and Standardization](#wrangling)\n",
    "4. [Analyzing and Visualizing](#analysis)\n",
    "5. [Concluding Remarks](#conclusion)"
   ]
  },
  {
   "cell_type": "markdown",
   "metadata": {},
   "source": [
    "<a id=\"problem\"></a>\n",
    "# Problem Statement\n",
    "---"
   ]
  },
  {
   "cell_type": "markdown",
   "metadata": {},
   "source": [
    "The people of New York use the 311 system to report complaints about the non-emergency problems to local authorities. Various agencies in New York are assigned these problems. The Department of Housing Preservation and Development of New York City is the agency that processes 311 complaints that are related to housing and buildings.\n",
    "\n",
    "In the last few years, the number of 311 complaints coming to the Department of Housing Preservation and Development has increased significantly. Although these complaints are not necessarily urgent, the large volume of complaints and the sudden increase is impacting the overall efficiency of operations of the agency.\n",
    "\n",
    "Therefore, the Department of Housing Preservation and Development has approached your organization to help them manage the large volume of 311 complaints they are receiving every year.\n",
    "\n",
    "The agency needs answers to several questions. The answers to those questions must be supported by data and analytics. These are their  questions:"
   ]
  },
  {
   "cell_type": "markdown",
   "metadata": {},
   "source": [
    "<a id=\"question\"></a>\n",
    "# Question 3\n",
    "---"
   ]
  },
  {
   "cell_type": "markdown",
   "metadata": {},
   "source": [
    "Does the Complaint Type that you identified in response to Question 1 have an obvious relationship with any particular characteristic or characteristic of the Houses?"
   ]
  },
  {
   "cell_type": "markdown",
   "metadata": {},
   "source": [
    "## Approach\n",
    "Determine whether or not there are any correlations between the building characteristics of buildings that experienced HEAT/HOT WATER complaints (from Question 1) relative to the building characteristics of all buildings in the PLUTO house database."
   ]
  },
  {
   "cell_type": "markdown",
   "metadata": {},
   "source": [
    "## Load Data\n",
    "Separately from this notebook:\n",
    "\n",
    "The [New York 311](https://data.cityofnewyork.us/Social-Services/311-Service-Requests-from-2010-to-Present/erm2-nwe9) data was loaded by [SODA](https://data.cityofnewyork.us/resource/fhrw-4uyv.csv?$limit=100000000&Agency=HPD&$select=created_date,unique_key,complaint_type,incident_zip,incident_address,street_name,address_type,city,resolution_description,borough,latitude,longitude,closed_date,location_type,status) into a Pandas DataFrame then saved to a pickle file.\n",
    "\n",
    "The [New York PLUTO](https://data.cityofnewyork.us/City-Government/Primary-Land-Use-Tax-Lot-Output-PLUTO-/xuk2-nczf) data was downloaded.  The instructions at ( Course / 1. Project Challenge Details and Setup / Datasets Used in this Course / Datasets ) said \"Use only the part that is specific to the borough that you are interested in based on your analysis.\"  My answer for Question 2 suggested the borough with the biggest HEAT/HOT WATER problem was BRONX.  For that reason, only the BX_18v1.csv file was loaded into a Pandas DataFrame then saved to a pickle file"
   ]
  },
  {
   "cell_type": "code",
   "execution_count": 1,
   "metadata": {},
   "outputs": [],
   "source": [
    "import pandas as pd\n",
    "import numpy as np\n",
    "%matplotlib inline\n",
    "from matplotlib import pyplot as plt\n",
    "from sklearn.preprocessing import StandardScaler\n",
    "from sklearn.preprocessing import MinMaxScaler\n",
    "import scipy.stats as stats\n",
    "import seaborn as sns\n",
    "from sklearn.model_selection import train_test_split\n",
    "from sklearn.linear_model import LinearRegression\n",
    "from sklearn import linear_model\n",
    "from sklearn.metrics import jaccard_score, classification_report, log_loss, confusion_matrix\n",
    "\n",
    "files_path = 'C:\\\\Users\\\\It_Co\\\\Documents\\\\DataScience\\\\Capstone\\\\' #local\n",
    "#files_path = './' #IBM Cloud / Watson Studio"
   ]
  },
  {
   "cell_type": "code",
   "execution_count": null,
   "metadata": {
    "scrolled": true
   },
   "outputs": [],
   "source": [
    "b311 = pd.read_pickle(files_path + 'ny311full.pkl')\n",
    "\n",
    "#file_columns = ['Address','BldgArea','BldgDepth','BuiltFAR','CommFAR','FacilFAR','Lot','LotArea','LotDepth','NumBldgs','NumFloors','OfficeArea','ResArea','ResidFAR','RetailArea','YearBuilt','YearAlter1','ZipCode', 'YCoord', 'XCoord', 'BldgClass', 'LandUse']\n",
    "#df = pd.read_csv(files_path + 'BX_18v1.csv', usecols=file_columns)\n",
    "#df = pd.concat([df, pd.read_csv(files_path + 'BK_18v1.csv', usecols=file_columns)])\n",
    "#df = pd.concat([df, pd.read_csv(files_path + 'MN_18v1.csv', usecols=file_columns)])\n",
    "#df = pd.concat([df, pd.read_csv(files_path + 'QN_18v1.csv', usecols=file_columns)])\n",
    "#df = pd.concat([df, pd.read_csv(files_path + 'SI_18v1.csv', usecols=file_columns)])\n",
    "#df.to_pickle(files_path + 'q3.pkl')\n",
    "\n",
    "df = pd.read_pickle(files_path + 'q3.pkl')\n",
    "\n",
    "print(\"NY 311 shape %s\" % (b311.shape,))\n",
    "print(\"PLUTO shape %s\" % (df.shape,))"
   ]
  },
  {
   "cell_type": "code",
   "execution_count": null,
   "metadata": {},
   "outputs": [],
   "source": [
    "df.head()"
   ]
  },
  {
   "cell_type": "markdown",
   "metadata": {},
   "source": [
    "<a id=\"wrangling\"></a>\n",
    "# Data Cleaning and Standardization\n",
    "---"
   ]
  },
  {
   "cell_type": "markdown",
   "metadata": {},
   "source": [
    "Correct or remove observations with missing or malformed data.  The 311 and the PLUTO data sets will need to be \"joined\" together by the common \"address\" element, which means the addresses will need to be standardized to a consistent layout to allow the addresses to be compared consistently."
   ]
  },
  {
   "cell_type": "markdown",
   "metadata": {},
   "source": [
    "## NY 311"
   ]
  },
  {
   "cell_type": "markdown",
   "metadata": {},
   "source": [
    "### General"
   ]
  },
  {
   "cell_type": "code",
   "execution_count": null,
   "metadata": {},
   "outputs": [],
   "source": [
    "#Remove columns deemed unnecessary for this question.\n",
    "b311.drop(['created_date','street_name','address_type','resolution_description','closed_date','location_type','status','unique_key','latitude','longitude'], axis=1, inplace=True)\n",
    "#Only use the combined \"heating and hot water\" complaints determined from Question 1.\n",
    "b311['complaint_type'] = b311['complaint_type'].str.upper()\n",
    "b311.drop(b311[b311[\"complaint_type\"].isin([\"HEAT/HOT WATER\",\"HEATING\"])==False].index, axis=0, inplace=True)\n",
    "b311.reset_index(drop=True, inplace=True)\n",
    "#Adjust all relevant strings to uppercase so different casing won't appear as separate values.\n",
    "b311['incident_address'] = b311['incident_address'].str.upper()\n",
    "b311['city'] = b311['city'].str.upper()\n",
    "b311['borough'] = b311['borough'].str.upper()"
   ]
  },
  {
   "cell_type": "code",
   "execution_count": null,
   "metadata": {},
   "outputs": [],
   "source": [
    "#Print some initial information for comparison during later steps.\n",
    "print(\"shape %s\" % str(b311.shape))\n",
    "print(\"--nulls below--\")\n",
    "print(b311.isnull().sum())\n",
    "print(\"--types below--\")\n",
    "print(b311.dtypes)\n",
    "b311.head()"
   ]
  },
  {
   "cell_type": "markdown",
   "metadata": {},
   "source": [
    "### Standardize Borough\n",
    "Leveraging findings found while standardizing during Question 2."
   ]
  },
  {
   "cell_type": "code",
   "execution_count": null,
   "metadata": {},
   "outputs": [],
   "source": [
    "b311['borough'].value_counts()"
   ]
  },
  {
   "cell_type": "code",
   "execution_count": null,
   "metadata": {},
   "outputs": [],
   "source": [
    "#Correct rows where borough was entered in the city column with \"UNSPECIFIED\" in the borough column.\n",
    "five_boroughs = [\"BROOKLYN\",\"BRONX\",\"MANHATTAN\",\"QUEENS\",\"STATEN ISLAND\"]\n",
    "which_rows_to_adjust = b311[(b311[\"borough\"]=='UNSPECIFIED')&b311[\"city\"].isin(five_boroughs)].index\n",
    "b311.loc[which_rows_to_adjust,'borough']=b311.loc[which_rows_to_adjust,'city']\n",
    "b311.loc[which_rows_to_adjust,'city']=np.nan\n",
    "#Drop a few rows of ambiguous data.\n",
    "b311.drop(b311[(b311[\"borough\"]=='MANHATTAN')&(b311[\"city\"]=='BRONX')].index, axis=0, inplace=True)\n",
    "b311.reset_index(drop=True, inplace=True)\n",
    "#Fill in UNSPECIFIED borough when city was entered as NEW YORK.\n",
    "which_rows_to_adjust = b311[(b311[\"borough\"]=='UNSPECIFIED')&(b311[\"city\"]=='NEW YORK')].index\n",
    "b311.loc[which_rows_to_adjust,'borough']=\"MANHATTAN\"\n",
    "b311.loc[which_rows_to_adjust,'city']=np.nan\n",
    "#Although the city for most of the \"NEW YORK\" ones are the only ones that technically got the \"city\" column valued correctly,\n",
    "#since every other row uses city as \"neighborhood\":  Standardize these.\n",
    "which_rows_to_adjust = b311[(b311[\"city\"]=='NEW YORK')].index\n",
    "b311.loc[which_rows_to_adjust,'city']=np.nan\n",
    "#Any still unspecified boroughs with a value in \"city\" are in the Queens borough.  The \"city\" is actually a \"neighborhood\".\n",
    "queens_neighborhoods = b311[(b311['borough']=='UNSPECIFIED')&(b311['city'].isnull()==False)]['city'].unique()\n",
    "#Standardize borough for Queens neighborhoods.\n",
    "which_rows_to_adjust = b311[(b311[\"borough\"]=='UNSPECIFIED')&b311[\"city\"].isin(queens_neighborhoods)].index\n",
    "b311.loc[which_rows_to_adjust,'borough']=\"QUEENS\"\n",
    "#Null the borough if it still shows up as unspecified borough as there is no other information from which to derive it.\n",
    "which_rows_to_adjust = b311[(b311[\"borough\"]=='UNSPECIFIED')&b311[\"city\"].isnull()].index\n",
    "b311.loc[which_rows_to_adjust,'borough']=np.nan"
   ]
  },
  {
   "cell_type": "code",
   "execution_count": null,
   "metadata": {},
   "outputs": [],
   "source": [
    "b311['borough'].value_counts()"
   ]
  },
  {
   "cell_type": "markdown",
   "metadata": {},
   "source": [
    "### Filter NY 311 data by borough to only include BRONX\n",
    "The instructions at ( Course / 1. Project Challenge Details and Setup / Datasets Used in this Course / Datasets ) said \"Use only the part that is specific to the borough that you are interested in based on your analysis.\"  My answer for Question 2 suggested the borough with the biggest HEAT/HOT WATER problem was BRONX.  For that reason, I am only considering the BRONX data."
   ]
  },
  {
   "cell_type": "code",
   "execution_count": null,
   "metadata": {},
   "outputs": [],
   "source": [
    "b311.drop(b311[(b311[\"borough\"]!='BRONX')].index, axis=0, inplace=True)\n",
    "b311.reset_index(drop=True, inplace=True)\n",
    "b311['borough'].value_counts()"
   ]
  },
  {
   "cell_type": "markdown",
   "metadata": {},
   "source": [
    "### Remove unnecessary rows"
   ]
  },
  {
   "cell_type": "code",
   "execution_count": null,
   "metadata": {},
   "outputs": [],
   "source": [
    "# Drop observations with missing address as there will be no way to tie them to any PLUTO data.\n",
    "b311.dropna(subset=['incident_address'], axis=0, inplace=True)\n",
    "b311.reset_index(drop=True, inplace=True)\n",
    "print(b311.isnull().sum())\n",
    "b311['incident_address'].value_counts().head()"
   ]
  },
  {
   "cell_type": "markdown",
   "metadata": {},
   "source": [
    "## BRONX PLUTO"
   ]
  },
  {
   "cell_type": "code",
   "execution_count": null,
   "metadata": {},
   "outputs": [],
   "source": [
    "print(\"shape %s\" % str(df.shape))\n",
    "print(\"---isnull follows---\")\n",
    "print(df.isnull().sum())\n",
    "df.head()"
   ]
  },
  {
   "cell_type": "markdown",
   "metadata": {},
   "source": [
    "### General"
   ]
  },
  {
   "cell_type": "code",
   "execution_count": null,
   "metadata": {},
   "outputs": [],
   "source": [
    "df.dtypes"
   ]
  },
  {
   "cell_type": "code",
   "execution_count": null,
   "metadata": {},
   "outputs": [],
   "source": [
    "#Adjust relevant strings to uppercase so different casing won't appear as separate values.\n",
    "df['Address'] = df['Address'].str.upper()"
   ]
  },
  {
   "cell_type": "code",
   "execution_count": null,
   "metadata": {},
   "outputs": [],
   "source": [
    "# Drop the observations with missing address as there will be no way to tie them to any 311 data.\n",
    "df.dropna(subset=['Address'], axis=0, inplace=True)\n",
    "df.reset_index(drop=True, inplace=True)"
   ]
  },
  {
   "cell_type": "code",
   "execution_count": null,
   "metadata": {},
   "outputs": [],
   "source": [
    "# Drop the observations with missing land use.\n",
    "df.dropna(subset=['LandUse'], axis=0, inplace=True)\n",
    "df.reset_index(drop=True, inplace=True)"
   ]
  },
  {
   "cell_type": "markdown",
   "metadata": {},
   "source": [
    "## Standardization of Addresses\n",
    "Leveraging standardization methods developed during question 2."
   ]
  },
  {
   "cell_type": "code",
   "execution_count": null,
   "metadata": {},
   "outputs": [],
   "source": [
    "print(\"BRONX 311 unique addresses: %s\" % b311['incident_address'].unique().size)\n",
    "print(\"BRONX PLUTO unique addresses: %s\" % df['Address'].unique().size)"
   ]
  },
  {
   "cell_type": "markdown",
   "metadata": {},
   "source": [
    "<p style=\"color:Red;\">Determine how much overlap.  Ideally all 29K BRONX 311 addresses will be represented in the PLUTO set.</p>"
   ]
  },
  {
   "cell_type": "code",
   "execution_count": null,
   "metadata": {},
   "outputs": [],
   "source": [
    "def WhichAddressesNotInPluto(howManyTopToShow):\n",
    "    complaints = set(b311['incident_address'].unique())\n",
    "    pluto = set(df['Address'].unique())\n",
    "    #Determine which 311 addresses were not found in PLUTO to gain insight as to why.\n",
    "    differences = complaints.difference(pluto)\n",
    "    print(\"Records not in PLUTO: %s.  Percent: %s\" % (len(differences), \"{:.2%}\".format(len(differences) / len(complaints))))\n",
    "    print(\"---Top %i---\" % howManyTopToShow)\n",
    "    print(b311[b311['incident_address'].isin(differences)]['incident_address'].value_counts().head(howManyTopToShow))"
   ]
  },
  {
   "cell_type": "code",
   "execution_count": null,
   "metadata": {},
   "outputs": [],
   "source": [
    "WhichAddressesNotInPluto(3)"
   ]
  },
  {
   "cell_type": "markdown",
   "metadata": {},
   "source": [
    "<p style=\"color:Red;\">Over 20 percent of addresses in the BRONX 311 data cannot be merged to the BRONX PLUTO data prior to standardization.</p>"
   ]
  },
  {
   "cell_type": "markdown",
   "metadata": {},
   "source": [
    "### Borrow some python functions developed during question 2\n",
    "With minor improvements to better work with full addresses instead of just street names."
   ]
  },
  {
   "cell_type": "code",
   "execution_count": null,
   "metadata": {},
   "outputs": [],
   "source": [
    "# Some street values have multiple spaces in a row.\n",
    "import re\n",
    "def standardize_spaces(raw):\n",
    "    result = raw.strip() #Remove leading and trailing spaces.\n",
    "    result = re.sub(' +', ' ', result) #Squeeze multiple adjacent spaces into just one space.\n",
    "    return result"
   ]
  },
  {
   "cell_type": "code",
   "execution_count": null,
   "metadata": {},
   "outputs": [],
   "source": [
    "# Some streets have problematic characters.  For example:  ST. ANN'S AVENUE also exists without period or apostophe.\n",
    "problem_characters = ['.', '\\'']\n",
    "def replace_problem_characters(raw):\n",
    "    result = raw\n",
    "    for (character) in problem_characters:\n",
    "        result = result.replace(character,'')\n",
    "    return result"
   ]
  },
  {
   "cell_type": "code",
   "execution_count": null,
   "metadata": {},
   "outputs": [],
   "source": [
    "#Some words are sometimes entered in a non-standard way or with typos need to be standardized.\n",
    "word_replacements = [(\"AVE\",\"AVENUE\"),(\"ST\",\"STREET\"),(\"RD\",\"ROAD\"),(\"FT\",\"FORT\"),(\"BX\",\"BRONX\"),(\"MT\",\"MOUNT\"),\n",
    "                     (\"NICHLAS\",\"NICHOLAS\"),(\"NICHALOS\",\"NICHOLAS\"),(\"EXPRE\",\"EXPRESSWAY\"),(\"HARACE\",\"HORACE\"),\n",
    "                     (\"NO\",\"NORTH\"),(\"AV\",\"AVENUE\"),(\"CRK\",\"CREEK\"),(\"FR\",\"FATHER\"),(\"JR\",\"JUNIOR\"),(\"GR\",\"GRAND\"),\n",
    "                     (\"CT\",\"COURT\"),\n",
    "                     (\"SR\",\"\"), # Service Road.  These are always near a similarly named street.  Lump together.\n",
    "                     (\"QN\",\"QUEENS\"),\n",
    "                     (\"ND\",\"\"), # A space between a number and ND such as EAST 52 ND STREET.  Note ST and RD can be street or road.\n",
    "                     (\"PO\",\"POND\"),(\"BO\",\"BOND\"),(\"GRA\",\"GRAND\"),(\"REV\",\"REVEREND\"),(\"CO-OP\",\"COOP\"),\n",
    "                     (\"GRANDCONCOURSE\", \"GRAND CONCOURSE\"),(\"CENTRL\", \"CENTRAL\"),(\"BLVD\",\"BOULEVARD\"),\n",
    "                     (\"FREDRICK\", \"FREDERICK\"),(\"DOUGLAS\", \"DOUGLASS\"),(\"MALCOM\", \"MALCOMN\"),\n",
    "                     (\"NORTHEN\", \"NORTHERN\"),(\"AVNEUE\",\"AVENUE\"),\n",
    "                    (\"N\",\"NORTH\"),(\"S\",\"SOUTH\"),(\"E\",\"EAST\"),(\"W\",\"WEST\"),(\"SW\",\"SOUTHWEST\"),\n",
    "                             (\"NW\",\"NORTHWEST\"),(\"SE\",\"SOUTHEAST\"),(\"NE\",\"NORTHEAST\")]\n",
    "def replace_words(raw):\n",
    "    split_raw = raw.split()\n",
    "    for (old, new) in word_replacements:\n",
    "        found_at_index = next((i for i, x in enumerate(split_raw) if x==old), None)\n",
    "        if found_at_index!=None:\n",
    "            split_raw[found_at_index] = new\n",
    "    return standardize_spaces(\" \".join(split_raw))"
   ]
  },
  {
   "cell_type": "code",
   "execution_count": null,
   "metadata": {},
   "outputs": [],
   "source": [
    "#Some words are actually prefixes of the following word.  Example the LA prefix of LA GRANGE.\n",
    "word_prefixes = [\"DE\",\"MC\",\"LA\",\"VAN\",\"MAC\",\"CO\"]\n",
    "def concatenate_prefixes(raw):\n",
    "    split_raw = raw.split()\n",
    "    last_word = len(split_raw) - 1\n",
    "    for (prefix) in word_prefixes:\n",
    "        found_at_index = next((i for i, x in enumerate(split_raw) if x==prefix), None)\n",
    "        if found_at_index!=None:\n",
    "            if len(split_raw)>1:\n",
    "                if found_at_index != last_word:\n",
    "                    split_raw[found_at_index] = ''\n",
    "                    split_raw[found_at_index+1] = prefix + split_raw[found_at_index+1]\n",
    "                    return standardize_spaces(\" \".join(split_raw))\n",
    "    return raw"
   ]
  },
  {
   "cell_type": "code",
   "execution_count": null,
   "metadata": {},
   "outputs": [],
   "source": [
    "#Some phrases need custom replacement because they involve multiple words or easily mis-interpretted out of context.\n",
    "phrase_replacements = [(\"DR M L KING JR\",\"MARTIN LUTHER KING\"),(\"DR MARTIN L KING\",\"MARTIN LUTHER KING\"),\n",
    "    (\"MARTIN LUTHER KING\",\"MARTIN LUTHER KING\"),(\"MARTIN L KING JR\",\"MARTIN LUTHER KING\"),\n",
    "    (\"MARTIN L KING\",\"MARTIN LUTHER KING\"),(\"ST NICHOLAS\",\"SAINT NICHOLAS\"),(\"ST JOHN\",\"SAINT JOHN\"),\n",
    "    (\"ST MARK\",\"SAINT MARK\"),(\"ST ANN\",\"SAINT ANN\"),(\"ST LAWRENCE\",\"SAINT LAWRENCE\"),(\"ST PAUL\",\"SAINT PAUL\"),\n",
    "    (\"ST PETER\",\"SAINT PETER\"),(\"ST RAYMOND\",\"SAINT RAYMOND\"),(\"ST THERESA\",\"SAINT THERESA\"),(\"ST FELIX\",\"SAINT FELIX\"),\n",
    "    (\"ST MARY\",\"SAINT MARY\"),(\"ST OUEN\",\"SAINT OUEN\"),(\"ST JAMES\",\"SAINT JAMES\"),(\"ST GEORGE\",\"SAINT GEORGE\"),\n",
    "    (\"ST EDWARD\",\"SAINT EDWARD\"),(\"ST CHARLES\",\"SAINT CHARLES\"),(\"ST FRANCIS\",\"SAINT FRANCIS\"),\n",
    "    (\"ST ANDREW\",\"SAINT ANDREW\"),(\"ST JUDE\",\"SAINT JUDE\"),(\"ST LUKE\",\"SAINT LUKE\"),(\"ST JOSEPH\",\"SAINT JOSEPH\"),\n",
    "    (\"N D PERLMAN\",\"NATHAN PERLMAN\"),(\"O BRIEN\",\"OBRIEN\"),(\"F D R\",\"FDR\"),(\"EXPRESSWAY N SR\",\"EXPRESSWAY SR N\"),\n",
    "    (\"HOR HARDING\",\"HORACE HARDING\"),\n",
    "    (\"SERVICE ROAD\",\"\"), # These are always near a similarly named street. Lump together.\n",
    "    (\"DUMMY\",\"\"),(\"ADAM C POWELL\",\"ADAM CLAYTON POWELL\"),(\"POWELL COVE\",\"POWELLS COVE\")]\n",
    "def replace_phrases(raw):\n",
    "    result = raw\n",
    "    for (old,new) in phrase_replacements:\n",
    "        result = standardize_spaces(result.replace(old,new))\n",
    "    return result"
   ]
  },
  {
   "cell_type": "code",
   "execution_count": null,
   "metadata": {},
   "outputs": [],
   "source": [
    "# 1ST, 2ND, 3RD, 4TH, ... nTH\n",
    "# Remove the suffixes leaving the numbers by themselves.\n",
    "number_suffixes = [\"ST\",\"ND\",\"RD\",\"TH\"]\n",
    "digits=[\"1\",\"2\",\"3\",\"4\",\"5\",\"6\",\"7\",\"8\",\"9\",\"0\"]\n",
    "def remove_number_suffixes(raw):\n",
    "    split_raw = raw.split()\n",
    "    for suffix in number_suffixes:\n",
    "        found_at_index = next((i for i, x in enumerate(split_raw) if x[0] in digits and x.endswith(suffix)), None) \n",
    "        if found_at_index!=None:            \n",
    "            split_raw[found_at_index] = split_raw[found_at_index][:-2]\n",
    "            return standardize_spaces(\" \".join(split_raw))\n",
    "    return raw"
   ]
  },
  {
   "cell_type": "code",
   "execution_count": null,
   "metadata": {},
   "outputs": [],
   "source": [
    "def standardize_street(street):\n",
    "    r = street \n",
    "    r = standardize_spaces(r) \n",
    "    r = replace_problem_characters(r) \n",
    "    r = replace_phrases(r) \n",
    "    r = replace_words(r) \n",
    "    r = concatenate_prefixes(r) \n",
    "    r = remove_number_suffixes(r) \n",
    "    return r"
   ]
  },
  {
   "cell_type": "markdown",
   "metadata": {},
   "source": [
    "### Standardize the address in both the 311 and PLUTO data"
   ]
  },
  {
   "cell_type": "code",
   "execution_count": null,
   "metadata": {},
   "outputs": [],
   "source": [
    "b311['incident_address'] = b311['incident_address'].apply(standardize_street)"
   ]
  },
  {
   "cell_type": "code",
   "execution_count": null,
   "metadata": {},
   "outputs": [],
   "source": [
    "df['Address'] = df['Address'].apply(standardize_street)"
   ]
  },
  {
   "cell_type": "code",
   "execution_count": null,
   "metadata": {},
   "outputs": [],
   "source": [
    "# See if there was an improvement in how well the 311 data can be merged with the PLUTO data by address.\n",
    "WhichAddressesNotInPluto(3)"
   ]
  },
  {
   "cell_type": "markdown",
   "metadata": {},
   "source": [
    "<p style=\"color:Red;\">The percentage of addresses in the 311 data that can be matched to an entry in the PLUTO data set improved measurably.</p>"
   ]
  },
  {
   "cell_type": "code",
   "execution_count": null,
   "metadata": {},
   "outputs": [],
   "source": [
    "df.to_pickle(files_path + 'q3standardized.pkl')"
   ]
  },
  {
   "cell_type": "markdown",
   "metadata": {},
   "source": [
    "## Imputation\n",
    "Handling \"missing\" features.  That are null or have a zero placeholder instead of a \"real\" value."
   ]
  },
  {
   "cell_type": "code",
   "execution_count": null,
   "metadata": {},
   "outputs": [],
   "source": [
    "df = pd.read_pickle(files_path + 'q3standardized.pkl')"
   ]
  },
  {
   "cell_type": "code",
   "execution_count": null,
   "metadata": {},
   "outputs": [],
   "source": [
    "def check_nulls():\n",
    "    for col in df.columns:\n",
    "        nulls = len(df[df[col].isnull()])\n",
    "        if nulls > 0:\n",
    "            print(\"%s:  %i of %i (%s)\" % (col, nulls, df.shape[0], \"{:.2%}\".format(nulls / df.shape[0])))\n",
    "check_nulls()"
   ]
  },
  {
   "cell_type": "code",
   "execution_count": null,
   "metadata": {},
   "outputs": [],
   "source": [
    "#Replace with zeroes to kick these forward to the next section.\n",
    "df['ZipCode'].replace(to_replace=np.nan, value=0, inplace=True)\n",
    "df['XCoord'].replace(to_replace=np.nan, value=0, inplace=True)\n",
    "df['YCoord'].replace(to_replace=np.nan, value=0, inplace=True)\n",
    "check_nulls()"
   ]
  },
  {
   "cell_type": "code",
   "execution_count": null,
   "metadata": {},
   "outputs": [],
   "source": [
    "def check_zeroes():\n",
    "    for col in df.columns:\n",
    "        zeroes = len(df[df[col].eq(0)])\n",
    "        if zeroes > 0:\n",
    "            print(\"%s:  %i of %i (%s)\" % (col, zeroes, df.shape[0], \"{:.2%}\".format(zeroes / df.shape[0])))\n",
    "check_zeroes()"
   ]
  },
  {
   "cell_type": "code",
   "execution_count": null,
   "metadata": {},
   "outputs": [],
   "source": [
    "# Drop rows that have only a small number of zero values in a column.\n",
    "df.drop(df[df[\"ZipCode\"].eq(0)].index, axis=0, inplace=True)\n",
    "df.drop(df[df[\"LotArea\"].eq(0)].index, axis=0, inplace=True)\n",
    "df.drop(df[df[\"LotDepth\"].eq(0)].index, axis=0, inplace=True)\n",
    "df.drop(df[df[\"BldgDepth\"].eq(0)].index, axis=0, inplace=True)\n",
    "df.drop(df[df[\"BuiltFAR\"].eq(0)].index, axis=0, inplace=True)\n",
    "df.drop(df[df[\"FacilFAR\"].eq(0)].index, axis=0, inplace=True)\n",
    "df.reset_index(drop=True, inplace=True)\n",
    "check_zeroes()"
   ]
  },
  {
   "cell_type": "code",
   "execution_count": null,
   "metadata": {},
   "outputs": [],
   "source": [
    "# May need to drop more rows, that had columns with a lot of zeroes in multiple columns.\n",
    "df.drop(df[df[\"NumBldgs\"].eq(0)].index, axis=0, inplace=True)\n",
    "df.drop(df[df[\"NumFloors\"].eq(0)].index, axis=0, inplace=True)\n",
    "df.drop(df[df[\"YearBuilt\"].eq(0)].index, axis=0, inplace=True)\n",
    "df.drop(df[df[\"XCoord\"].eq(0)].index, axis=0, inplace=True)\n",
    "df.drop(df[df[\"YCoord\"].eq(0)].index, axis=0, inplace=True)\n",
    "df.reset_index(drop=True, inplace=True)\n",
    "check_zeroes()"
   ]
  },
  {
   "cell_type": "code",
   "execution_count": null,
   "metadata": {},
   "outputs": [],
   "source": [
    "df.head()"
   ]
  },
  {
   "cell_type": "markdown",
   "metadata": {},
   "source": [
    "## Scaling, Centering"
   ]
  },
  {
   "cell_type": "code",
   "execution_count": null,
   "metadata": {},
   "outputs": [],
   "source": [
    "df.columns"
   ]
  },
  {
   "cell_type": "code",
   "execution_count": null,
   "metadata": {},
   "outputs": [],
   "source": [
    "def scale_and_center(column_name):\n",
    "    scale=MinMaxScaler()\n",
    "    scale.fit(df[[column_name]])\n",
    "    df[[column_name]]=scale.transform(df[[column_name]])\n",
    "#scale_and_center('LotArea')\n",
    "#scale_and_center('BldgArea')\n",
    "#scale_and_center('NumBldgs')\n",
    "#scale_and_center('NumFloors')\n",
    "#scale_and_center('LotDepth')\n",
    "#scale_and_center('BldgDepth')\n",
    "#scale_and_center('YearBuilt')\n",
    "#scale_and_center('BuiltFAR')\n",
    "#scale_and_center('FacilFAR')\n",
    "#scale_and_center('XCoord')\n",
    "#scale_and_center('YCoord')\n",
    "\n",
    "#for f in df.columns:\n",
    "#    scale_and_center(f)"
   ]
  },
  {
   "cell_type": "code",
   "execution_count": null,
   "metadata": {},
   "outputs": [],
   "source": [
    "def scale_and_center_latent(column_name, latent):\n",
    "    scale=MinMaxScaler()\n",
    "    #scale.fit(df.loc[df[latent].eq(1), column_name].to_frame())\n",
    "    df.loc[df[latent].eq(1), column_name] = scale.fit_transform(df.loc[df[latent].eq(1), column_name].to_frame())\n",
    "#scale_and_center_latent('ResArea', 'IsResArea')\n",
    "#scale_and_center_latent('OfficeArea', 'IsOfficeArea')\n",
    "#scale_and_center_latent('RetailArea', 'IsRetailArea')\n",
    "#scale_and_center_latent('YearAlter1', 'IsYearAlter1')\n",
    "#scale_and_center_latent('ResidFAR', 'IsResidFAR')\n",
    "#scale_and_center_latent('CommFAR', 'IsCommFAR')"
   ]
  },
  {
   "cell_type": "code",
   "execution_count": null,
   "metadata": {},
   "outputs": [],
   "source": [
    "df.describe()"
   ]
  },
  {
   "cell_type": "markdown",
   "metadata": {},
   "source": [
    "## Latent variables\n",
    "Derived from the other data"
   ]
  },
  {
   "cell_type": "markdown",
   "metadata": {},
   "source": [
    "### Add qualitative variables based on features with a lot of zeroes\n",
    "Which may indicate they are missing instead of actually zero."
   ]
  },
  {
   "cell_type": "code",
   "execution_count": null,
   "metadata": {},
   "outputs": [],
   "source": [
    "df.insert(len(df.columns) - 1, 'IsResArea', df['ResArea'].ne(0).astype('int64'))\n",
    "df.insert(len(df.columns) - 1, 'IsOfficeArea', df['OfficeArea'].ne(0).astype('int64'))\n",
    "df.insert(len(df.columns) - 1, 'IsRetailArea', df['RetailArea'].ne(0).astype('int64'))\n",
    "df.insert(len(df.columns) - 1, 'IsYearAlter1', df['YearAlter1'].ne(0).astype('int64'))\n",
    "df.insert(len(df.columns) - 1, 'IsResidFAR', df['ResidFAR'].ne(0).astype('int64'))\n",
    "df.insert(len(df.columns) - 1, 'IsCommFAR', df['CommFAR'].ne(0).astype('int64'))"
   ]
  },
  {
   "cell_type": "code",
   "execution_count": null,
   "metadata": {},
   "outputs": [],
   "source": [
    "print(df['IsResArea'].value_counts())\n",
    "print(df['IsOfficeArea'].value_counts())\n",
    "print(df['IsRetailArea'].value_counts())\n",
    "print(df['IsYearAlter1'].value_counts())\n",
    "print(df['IsResidFAR'].value_counts())\n",
    "print(df['IsCommFAR'].value_counts())"
   ]
  },
  {
   "cell_type": "markdown",
   "metadata": {},
   "source": [
    "### Add qualitative variables based on Building Class\n",
    "As they seem like an important \"building characteristic\" to consider."
   ]
  },
  {
   "cell_type": "code",
   "execution_count": null,
   "metadata": {},
   "outputs": [],
   "source": [
    "class_dummies = pd.get_dummies(df['BldgClass'].str.get(0), prefix=\"BuildingClass\")\n",
    "df = pd.concat([df, class_dummies], axis=1)"
   ]
  },
  {
   "cell_type": "markdown",
   "metadata": {},
   "source": [
    "### Add qualitative variables based on Land Use\n",
    "This seem like an important building (or property) characteristic to consider."
   ]
  },
  {
   "cell_type": "code",
   "execution_count": null,
   "metadata": {},
   "outputs": [],
   "source": [
    "class_dummies = pd.get_dummies(df['LandUse'].astype('int64'), prefix=\"LandUse\")\n",
    "df = pd.concat([df, class_dummies], axis=1)"
   ]
  },
  {
   "cell_type": "markdown",
   "metadata": {},
   "source": [
    "### Variables to indicate \"how many\" and \"if any\" HEAT complaints at each address.\n",
    "So that we can see if it correlates to anything else in the data."
   ]
  },
  {
   "cell_type": "code",
   "execution_count": null,
   "metadata": {},
   "outputs": [],
   "source": [
    "df.insert(0, 'IsComplaints', df['Address'].isin(b311['incident_address'].unique()).astype('int64'))\n",
    "counts = b311['incident_address'].value_counts(sort=False).sort_index()\n",
    "df.insert(1, 'Complaints', df['Address'].map(counts))\n",
    "df['Complaints'].replace(to_replace=np.nan, value=0, inplace=True)"
   ]
  },
  {
   "cell_type": "code",
   "execution_count": null,
   "metadata": {},
   "outputs": [],
   "source": [
    "#del b311 # Maybe save a little memory later"
   ]
  },
  {
   "cell_type": "code",
   "execution_count": null,
   "metadata": {},
   "outputs": [],
   "source": [
    "print (\"IsComplaints\")\n",
    "print(df['IsComplaints'].value_counts().head())\n",
    "print (\"Complaints\")\n",
    "print(df['Complaints'].value_counts().head())"
   ]
  },
  {
   "cell_type": "markdown",
   "metadata": {},
   "source": [
    "## Drop columns no longer needed\n",
    "Such as those only needed to derive latent variables."
   ]
  },
  {
   "cell_type": "code",
   "execution_count": null,
   "metadata": {},
   "outputs": [],
   "source": [
    "df.drop(['Lot','ZipCode','Address','XCoord','YCoord','BldgClass','LandUse'], axis=1, inplace=True)\n",
    "df.head()"
   ]
  },
  {
   "cell_type": "markdown",
   "metadata": {},
   "source": [
    "## Save the cleaned data."
   ]
  },
  {
   "cell_type": "code",
   "execution_count": null,
   "metadata": {},
   "outputs": [],
   "source": [
    "df.to_pickle(files_path + 'q3clean.pkl')"
   ]
  },
  {
   "cell_type": "markdown",
   "metadata": {},
   "source": [
    "<p style=\"color:Red;\">Saving the data allows restarting from this point without needing to wait for standardization of addresses and other time to be repeated as work continues.</p>"
   ]
  },
  {
   "cell_type": "markdown",
   "metadata": {},
   "source": [
    "<a id=\"analysis\"></a>\n",
    "# Analyzing and Visualizing\n",
    "---"
   ]
  },
  {
   "cell_type": "markdown",
   "metadata": {},
   "source": [
    "## Load combined and cleaned data"
   ]
  },
  {
   "cell_type": "code",
   "execution_count": 2,
   "metadata": {},
   "outputs": [
    {
     "name": "stdout",
     "output_type": "stream",
     "text": [
      "81947\n",
      "18976\n"
     ]
    }
   ],
   "source": [
    "df = pd.read_pickle(files_path + 'q3clean.pkl')\n",
    "print(df.shape[0])\n",
    "print(len(df[df['Complaints'].ne(0)]))"
   ]
  },
  {
   "cell_type": "markdown",
   "metadata": {},
   "source": [
    "## Analyze, using visualizations as necessary"
   ]
  },
  {
   "cell_type": "markdown",
   "metadata": {},
   "source": [
    "### Regression and Residual plots\n",
    "To measure correlation and correlation shape."
   ]
  },
  {
   "cell_type": "code",
   "execution_count": 3,
   "metadata": {},
   "outputs": [
    {
     "data": {
      "text/plain": [
       "Index(['IsComplaints', 'Complaints', 'LotArea', 'BldgArea', 'ResArea',\n",
       "       'OfficeArea', 'RetailArea', 'NumBldgs', 'NumFloors', 'LotDepth',\n",
       "       'BldgDepth', 'YearBuilt', 'YearAlter1', 'BuiltFAR', 'ResidFAR',\n",
       "       'CommFAR', 'FacilFAR', 'IsResArea', 'IsOfficeArea', 'IsRetailArea',\n",
       "       'IsYearAlter1', 'IsResidFAR', 'IsCommFAR', 'BuildingClass_A',\n",
       "       'BuildingClass_B', 'BuildingClass_C', 'BuildingClass_D',\n",
       "       'BuildingClass_E', 'BuildingClass_F', 'BuildingClass_G',\n",
       "       'BuildingClass_H', 'BuildingClass_I', 'BuildingClass_J',\n",
       "       'BuildingClass_K', 'BuildingClass_L', 'BuildingClass_M',\n",
       "       'BuildingClass_N', 'BuildingClass_O', 'BuildingClass_P',\n",
       "       'BuildingClass_Q', 'BuildingClass_R', 'BuildingClass_S',\n",
       "       'BuildingClass_T', 'BuildingClass_W', 'BuildingClass_Y',\n",
       "       'BuildingClass_Z', 'LandUse_1', 'LandUse_2', 'LandUse_3', 'LandUse_4',\n",
       "       'LandUse_5', 'LandUse_6', 'LandUse_7', 'LandUse_8', 'LandUse_9',\n",
       "       'LandUse_10'],\n",
       "      dtype='object')"
      ]
     },
     "execution_count": 3,
     "metadata": {},
     "output_type": "execute_result"
    }
   ],
   "source": [
    "df.columns"
   ]
  },
  {
   "cell_type": "code",
   "execution_count": 4,
   "metadata": {},
   "outputs": [],
   "source": [
    "def RegressionAndResidual(feature, d): # Dataframe, possibly filtered\n",
    "    #SCALE=StandardScaler(copy=True)\n",
    "    #d[feature] = SCALE.fit_transform(d[[feature]])\n",
    "    #d[\"Complaints\"] = SCALE.fit_transform(d[[\"Complaints\"]])\n",
    "    fig = plt.figure() # create figure\n",
    "    ax1 = fig.add_subplot(1, 2, 1) # add subplot 1 (1 row, 2 columns, first plot)\n",
    "    ax2 = fig.add_subplot(1, 2, 2) # add subplot 2 (1 row, 2 columns, second plot).\n",
    "    sns.regplot(x=feature, y=\"Complaints\", data=d, ax=ax1)\n",
    "    ax1.set_title(feature + ' Regression')\n",
    "    sns.residplot(d[feature], d[\"Complaints\"], ax=ax2)\n",
    "    ax2.set_title ('Residual')\n",
    "    ax2.set_ylabel('')\n",
    "    ax2.set_xlabel('')\n",
    "    plt.show()"
   ]
  },
  {
   "cell_type": "code",
   "execution_count": 5,
   "metadata": {},
   "outputs": [],
   "source": [
    "#RegressionAndResidual(\"LotArea\", df)\n",
    "#RegressionAndResidual(\"BldgArea\", df)\n",
    "#RegressionAndResidual(\"ResArea\", df[df['IsResArea'].ne(0)])\n",
    "#RegressionAndResidual(\"OfficeArea\", df[df['IsOfficeArea'].ne(0)])\n",
    "#RegressionAndResidual(\"RetailArea\", df[df['IsRetailArea'].ne(0)])\n",
    "#RegressionAndResidual(\"YearAlter1\", df[df['IsYearAlter1'].ne(0)])\n",
    "#RegressionAndResidual(\"ResidFAR\", df[df['IsResidFAR'].ne(0)])\n",
    "#RegressionAndResidual(\"CommFAR\", df[df['IsCommFAR'].ne(0)])\n",
    "#RegressionAndResidual(\"NumBldgs\", df)\n",
    "#RegressionAndResidual(\"NumFloors\", df)\n",
    "#RegressionAndResidual(\"LotDepth\", df)\n",
    "#RegressionAndResidual(\"BldgDepth\", df)\n",
    "#RegressionAndResidual(\"YearBuilt\", df)\n",
    "#RegressionAndResidual(\"BuiltFAR\", df)\n",
    "#RegressionAndResidual(\"FacilFAR\", df)"
   ]
  },
  {
   "cell_type": "markdown",
   "metadata": {},
   "source": [
    "<p style=\"color:Red;\">Most of the graphs are curved, suggesting non-linear relationships.</p>"
   ]
  },
  {
   "cell_type": "code",
   "execution_count": null,
   "metadata": {},
   "outputs": [],
   "source": []
  },
  {
   "cell_type": "markdown",
   "metadata": {},
   "source": [
    "### Pearson Correlation"
   ]
  },
  {
   "cell_type": "code",
   "execution_count": 6,
   "metadata": {},
   "outputs": [
    {
     "data": {
      "text/html": [
       "<div>\n",
       "<style scoped>\n",
       "    .dataframe tbody tr th:only-of-type {\n",
       "        vertical-align: middle;\n",
       "    }\n",
       "\n",
       "    .dataframe tbody tr th {\n",
       "        vertical-align: top;\n",
       "    }\n",
       "\n",
       "    .dataframe thead th {\n",
       "        text-align: right;\n",
       "    }\n",
       "</style>\n",
       "<table border=\"1\" class=\"dataframe\">\n",
       "  <thead>\n",
       "    <tr style=\"text-align: right;\">\n",
       "      <th></th>\n",
       "      <th>IsComplaints</th>\n",
       "      <th>Complaints</th>\n",
       "      <th>LotArea</th>\n",
       "      <th>BldgArea</th>\n",
       "      <th>ResArea</th>\n",
       "      <th>OfficeArea</th>\n",
       "      <th>RetailArea</th>\n",
       "      <th>NumBldgs</th>\n",
       "      <th>NumFloors</th>\n",
       "      <th>LotDepth</th>\n",
       "      <th>...</th>\n",
       "      <th>LandUse_1</th>\n",
       "      <th>LandUse_2</th>\n",
       "      <th>LandUse_3</th>\n",
       "      <th>LandUse_4</th>\n",
       "      <th>LandUse_5</th>\n",
       "      <th>LandUse_6</th>\n",
       "      <th>LandUse_7</th>\n",
       "      <th>LandUse_8</th>\n",
       "      <th>LandUse_9</th>\n",
       "      <th>LandUse_10</th>\n",
       "    </tr>\n",
       "  </thead>\n",
       "  <tbody>\n",
       "    <tr>\n",
       "      <th>IsComplaints</th>\n",
       "      <td>1.000000</td>\n",
       "      <td>0.224490</td>\n",
       "      <td>0.016978</td>\n",
       "      <td>0.086552</td>\n",
       "      <td>0.094297</td>\n",
       "      <td>0.010499</td>\n",
       "      <td>0.002664</td>\n",
       "      <td>-0.019713</td>\n",
       "      <td>0.376281</td>\n",
       "      <td>0.012747</td>\n",
       "      <td>...</td>\n",
       "      <td>-0.347156</td>\n",
       "      <td>0.342127</td>\n",
       "      <td>0.229031</td>\n",
       "      <td>0.100239</td>\n",
       "      <td>-0.065717</td>\n",
       "      <td>-0.053770</td>\n",
       "      <td>-0.019365</td>\n",
       "      <td>-0.028646</td>\n",
       "      <td>-0.009163</td>\n",
       "      <td>-0.051706</td>\n",
       "    </tr>\n",
       "    <tr>\n",
       "      <th>Complaints</th>\n",
       "      <td>0.224490</td>\n",
       "      <td>1.000000</td>\n",
       "      <td>0.027824</td>\n",
       "      <td>0.097005</td>\n",
       "      <td>0.107553</td>\n",
       "      <td>-0.002469</td>\n",
       "      <td>0.009093</td>\n",
       "      <td>-0.012045</td>\n",
       "      <td>0.272476</td>\n",
       "      <td>0.042668</td>\n",
       "      <td>...</td>\n",
       "      <td>-0.147378</td>\n",
       "      <td>0.079502</td>\n",
       "      <td>0.239462</td>\n",
       "      <td>0.058523</td>\n",
       "      <td>-0.022693</td>\n",
       "      <td>-0.014263</td>\n",
       "      <td>-0.006274</td>\n",
       "      <td>-0.015669</td>\n",
       "      <td>-0.002843</td>\n",
       "      <td>-0.013649</td>\n",
       "    </tr>\n",
       "    <tr>\n",
       "      <th>LotArea</th>\n",
       "      <td>0.016978</td>\n",
       "      <td>0.027824</td>\n",
       "      <td>1.000000</td>\n",
       "      <td>0.652195</td>\n",
       "      <td>0.536551</td>\n",
       "      <td>0.331601</td>\n",
       "      <td>0.122913</td>\n",
       "      <td>0.526763</td>\n",
       "      <td>0.179297</td>\n",
       "      <td>0.475868</td>\n",
       "      <td>...</td>\n",
       "      <td>-0.087658</td>\n",
       "      <td>-0.024023</td>\n",
       "      <td>0.111610</td>\n",
       "      <td>0.007195</td>\n",
       "      <td>0.035278</td>\n",
       "      <td>0.034615</td>\n",
       "      <td>0.017505</td>\n",
       "      <td>0.135944</td>\n",
       "      <td>0.032992</td>\n",
       "      <td>0.012039</td>\n",
       "    </tr>\n",
       "    <tr>\n",
       "      <th>BldgArea</th>\n",
       "      <td>0.086552</td>\n",
       "      <td>0.097005</td>\n",
       "      <td>0.652195</td>\n",
       "      <td>1.000000</td>\n",
       "      <td>0.936629</td>\n",
       "      <td>0.229593</td>\n",
       "      <td>0.155366</td>\n",
       "      <td>0.613901</td>\n",
       "      <td>0.391107</td>\n",
       "      <td>0.359362</td>\n",
       "      <td>...</td>\n",
       "      <td>-0.133348</td>\n",
       "      <td>0.001648</td>\n",
       "      <td>0.236430</td>\n",
       "      <td>0.045211</td>\n",
       "      <td>0.015688</td>\n",
       "      <td>0.020685</td>\n",
       "      <td>-0.000450</td>\n",
       "      <td>0.087065</td>\n",
       "      <td>-0.000847</td>\n",
       "      <td>0.004404</td>\n",
       "    </tr>\n",
       "    <tr>\n",
       "      <th>ResArea</th>\n",
       "      <td>0.094297</td>\n",
       "      <td>0.107553</td>\n",
       "      <td>0.536551</td>\n",
       "      <td>0.936629</td>\n",
       "      <td>1.000000</td>\n",
       "      <td>0.024955</td>\n",
       "      <td>0.049645</td>\n",
       "      <td>0.620172</td>\n",
       "      <td>0.379064</td>\n",
       "      <td>0.237464</td>\n",
       "      <td>...</td>\n",
       "      <td>-0.099516</td>\n",
       "      <td>0.020534</td>\n",
       "      <td>0.261158</td>\n",
       "      <td>0.043893</td>\n",
       "      <td>-0.020640</td>\n",
       "      <td>-0.012795</td>\n",
       "      <td>-0.005634</td>\n",
       "      <td>-0.014969</td>\n",
       "      <td>-0.002556</td>\n",
       "      <td>-0.012212</td>\n",
       "    </tr>\n",
       "  </tbody>\n",
       "</table>\n",
       "<p>5 rows × 56 columns</p>\n",
       "</div>"
      ],
      "text/plain": [
       "              IsComplaints  Complaints   LotArea  BldgArea   ResArea  \\\n",
       "IsComplaints      1.000000    0.224490  0.016978  0.086552  0.094297   \n",
       "Complaints        0.224490    1.000000  0.027824  0.097005  0.107553   \n",
       "LotArea           0.016978    0.027824  1.000000  0.652195  0.536551   \n",
       "BldgArea          0.086552    0.097005  0.652195  1.000000  0.936629   \n",
       "ResArea           0.094297    0.107553  0.536551  0.936629  1.000000   \n",
       "\n",
       "              OfficeArea  RetailArea  NumBldgs  NumFloors  LotDepth  ...  \\\n",
       "IsComplaints    0.010499    0.002664 -0.019713   0.376281  0.012747  ...   \n",
       "Complaints     -0.002469    0.009093 -0.012045   0.272476  0.042668  ...   \n",
       "LotArea         0.331601    0.122913  0.526763   0.179297  0.475868  ...   \n",
       "BldgArea        0.229593    0.155366  0.613901   0.391107  0.359362  ...   \n",
       "ResArea         0.024955    0.049645  0.620172   0.379064  0.237464  ...   \n",
       "\n",
       "              LandUse_1  LandUse_2  LandUse_3  LandUse_4  LandUse_5  \\\n",
       "IsComplaints  -0.347156   0.342127   0.229031   0.100239  -0.065717   \n",
       "Complaints    -0.147378   0.079502   0.239462   0.058523  -0.022693   \n",
       "LotArea       -0.087658  -0.024023   0.111610   0.007195   0.035278   \n",
       "BldgArea      -0.133348   0.001648   0.236430   0.045211   0.015688   \n",
       "ResArea       -0.099516   0.020534   0.261158   0.043893  -0.020640   \n",
       "\n",
       "              LandUse_6  LandUse_7  LandUse_8  LandUse_9  LandUse_10  \n",
       "IsComplaints  -0.053770  -0.019365  -0.028646  -0.009163   -0.051706  \n",
       "Complaints    -0.014263  -0.006274  -0.015669  -0.002843   -0.013649  \n",
       "LotArea        0.034615   0.017505   0.135944   0.032992    0.012039  \n",
       "BldgArea       0.020685  -0.000450   0.087065  -0.000847    0.004404  \n",
       "ResArea       -0.012795  -0.005634  -0.014969  -0.002556   -0.012212  \n",
       "\n",
       "[5 rows x 56 columns]"
      ]
     },
     "execution_count": 6,
     "metadata": {},
     "output_type": "execute_result"
    }
   ],
   "source": [
    "# Check for correlations with heatmap.\n",
    "AllForHeat = df.corr().transpose()\n",
    "#AllForHeat.shape\n",
    "AllForHeat.head()"
   ]
  },
  {
   "cell_type": "code",
   "execution_count": 7,
   "metadata": {
    "scrolled": false
   },
   "outputs": [
    {
     "data": {
      "image/png": "[encoded data removed]",
      "text/plain": [
       "<Figure size 720x720 with 2 Axes>"
      ]
     },
     "metadata": {
      "needs_background": "light"
     },
     "output_type": "display_data"
    }
   ],
   "source": [
    "fig, ax = plt.subplots(figsize=(10,10))\n",
    "im = ax.pcolor(AllForHeat, cmap='RdBu_r')\n",
    "row_labels = df.columns; col_labels = df.columns\n",
    "ax.set_xticklabels(row_labels, minor = False);ax.set_yticklabels(col_labels, minor = False)\n",
    "#move ticks and labels to the center.\n",
    "ax.set_xticks(np.arange(AllForHeat.shape[1]) + 0.5, minor=False)\n",
    "ax.set_yticks(np.arange(AllForHeat.shape[0]) + 0.5, minor=False)\n",
    "ax.set_title(\"heat map of correlations\")\n",
    "plt.xticks(rotation=90)\n",
    "plt.colorbar(im)\n",
    "plt.show()"
   ]
  },
  {
   "cell_type": "markdown",
   "metadata": {},
   "source": [
    "<p style=\"color:Red;\">Looking along the bottom 2 rows or leftmost 2 columns, there appear to be some correlations, though none super strong.  Try visualizing in a different way.</p>"
   ]
  },
  {
   "cell_type": "code",
   "execution_count": 60,
   "metadata": {},
   "outputs": [
    {
     "data": {
      "image/png": "[encoded data removed]",
      "text/plain": [
       "<Figure size 1008x504 with 1 Axes>"
      ]
     },
     "metadata": {
      "needs_background": "light"
     },
     "output_type": "display_data"
    }
   ],
   "source": [
    "correlations = AllForHeat[['IsComplaints','Complaints']].plot(title=\"Broad Correlation View\",kind='bar',grid=True,figsize=(14,7))\n",
    "row_labels = df.columns\n",
    "plt.xticks(np.arange(0,AllForHeat.shape[0],1),labels=row_labels,rotation=90)\n",
    "plt.yticks(np.arange(-1.0,1.1,0.1))\n",
    "plt.show()"
   ]
  },
  {
   "cell_type": "markdown",
   "metadata": {},
   "source": [
    "<p style=\"color:Red;\">Still a little hard to visualize which are the strongest.  Look at actual numbers.</p>"
   ]
  },
  {
   "cell_type": "code",
   "execution_count": 61,
   "metadata": {},
   "outputs": [
    {
     "name": "stdout",
     "output_type": "stream",
     "text": [
      "Top Correlations\n"
     ]
    },
    {
     "data": {
      "text/html": [
       "<div>\n",
       "<style scoped>\n",
       "    .dataframe tbody tr th:only-of-type {\n",
       "        vertical-align: middle;\n",
       "    }\n",
       "\n",
       "    .dataframe tbody tr th {\n",
       "        vertical-align: top;\n",
       "    }\n",
       "\n",
       "    .dataframe thead th {\n",
       "        text-align: right;\n",
       "    }\n",
       "</style>\n",
       "<table border=\"1\" class=\"dataframe\">\n",
       "  <thead>\n",
       "    <tr style=\"text-align: right;\">\n",
       "      <th></th>\n",
       "      <th>IsComplaints</th>\n",
       "      <th>Complaints</th>\n",
       "    </tr>\n",
       "  </thead>\n",
       "  <tbody>\n",
       "    <tr>\n",
       "      <th>IsComplaints</th>\n",
       "      <td>1.000000</td>\n",
       "      <td>0.224490</td>\n",
       "    </tr>\n",
       "    <tr>\n",
       "      <th>Complaints</th>\n",
       "      <td>0.224490</td>\n",
       "      <td>1.000000</td>\n",
       "    </tr>\n",
       "    <tr>\n",
       "      <th>NumFloors</th>\n",
       "      <td>0.376281</td>\n",
       "      <td>0.272476</td>\n",
       "    </tr>\n",
       "    <tr>\n",
       "      <th>BuiltFAR</th>\n",
       "      <td>0.356718</td>\n",
       "      <td>0.236174</td>\n",
       "    </tr>\n",
       "    <tr>\n",
       "      <th>LandUse_1</th>\n",
       "      <td>-0.347156</td>\n",
       "      <td>-0.147378</td>\n",
       "    </tr>\n",
       "    <tr>\n",
       "      <th>LandUse_2</th>\n",
       "      <td>0.342127</td>\n",
       "      <td>0.079502</td>\n",
       "    </tr>\n",
       "    <tr>\n",
       "      <th>BuildingClass_C</th>\n",
       "      <td>0.341964</td>\n",
       "      <td>0.079674</td>\n",
       "    </tr>\n",
       "    <tr>\n",
       "      <th>ResidFAR</th>\n",
       "      <td>0.319841</td>\n",
       "      <td>0.163121</td>\n",
       "    </tr>\n",
       "    <tr>\n",
       "      <th>FacilFAR</th>\n",
       "      <td>0.300977</td>\n",
       "      <td>0.140097</td>\n",
       "    </tr>\n",
       "    <tr>\n",
       "      <th>BuildingClass_D</th>\n",
       "      <td>0.260713</td>\n",
       "      <td>0.287169</td>\n",
       "    </tr>\n",
       "    <tr>\n",
       "      <th>BuildingClass_A</th>\n",
       "      <td>-0.275174</td>\n",
       "      <td>-0.072933</td>\n",
       "    </tr>\n",
       "    <tr>\n",
       "      <th>BldgDepth</th>\n",
       "      <td>0.261325</td>\n",
       "      <td>0.178679</td>\n",
       "    </tr>\n",
       "    <tr>\n",
       "      <th>LandUse_3</th>\n",
       "      <td>0.229031</td>\n",
       "      <td>0.239462</td>\n",
       "    </tr>\n",
       "  </tbody>\n",
       "</table>\n",
       "</div>"
      ],
      "text/plain": [
       "                 IsComplaints  Complaints\n",
       "IsComplaints         1.000000    0.224490\n",
       "Complaints           0.224490    1.000000\n",
       "NumFloors            0.376281    0.272476\n",
       "BuiltFAR             0.356718    0.236174\n",
       "LandUse_1           -0.347156   -0.147378\n",
       "LandUse_2            0.342127    0.079502\n",
       "BuildingClass_C      0.341964    0.079674\n",
       "ResidFAR             0.319841    0.163121\n",
       "FacilFAR             0.300977    0.140097\n",
       "BuildingClass_D      0.260713    0.287169\n",
       "BuildingClass_A     -0.275174   -0.072933\n",
       "BldgDepth            0.261325    0.178679\n",
       "LandUse_3            0.229031    0.239462"
      ]
     },
     "execution_count": 61,
     "metadata": {},
     "output_type": "execute_result"
    }
   ],
   "source": [
    "#See numerically what the strongest correlations are.\n",
    "correlations = AllForHeat[['IsComplaints','Complaints']].abs()\n",
    "correlations.loc[:,'highest'] = correlations.max(axis=1)\n",
    "correlations['IsComplaints'] = AllForHeat['IsComplaints']\n",
    "correlations['Complaints'] = AllForHeat['Complaints']\n",
    "correlations = correlations[correlations['highest'].ge(0.20)]\n",
    "correlations.sort_values(by='highest', axis=0, ascending=False, inplace=True)\n",
    "correlations.drop(['highest'], axis=1, inplace=True)\n",
    "print(\"Top Correlations\")\n",
    "correlations\n",
    "#correlations = correlations.transpose()\n",
    "#for label in correlations.columns:\n",
    "#    print (label, AllForHeat[label]['IsComplaints'], AllForHeat[label]['Complaints'])"
   ]
  },
  {
   "cell_type": "code",
   "execution_count": 62,
   "metadata": {},
   "outputs": [
    {
     "name": "stdout",
     "output_type": "stream",
     "text": [
      "IsComplaints 1.0 0.0 0.22449006576870828 0.0\n",
      "Complaints 0.22449006576870828 0.0 1.0 0.0\n",
      "NumFloors 0.3762806738645175 0.0 0.27247601401784344 0.0\n",
      "BldgDepth 0.26132517462533006 0.0 0.17867856183017278 0.0\n",
      "BuiltFAR 0.3567179806675729 0.0 0.2361737661040951 0.0\n",
      "ResidFAR 0.31984100334558174 0.0 0.16312061991812135 0.0\n",
      "FacilFAR 0.300977078156299 0.0 0.14009703060688358 0.0\n",
      "BuildingClass_A -0.27517448205890893 0.0 -0.07293306846925786 4.759024823376749e-97\n",
      "BuildingClass_C 0.34196410098960217 0.0 0.0796739919019142 1.6858872848966094e-115\n",
      "BuildingClass_D 0.2607133544422686 0.0 0.2871693822131084 0.0\n",
      "LandUse_1 -0.34715593960008856 0.0 -0.1473784775426233 0.0\n",
      "LandUse_2 0.34212650061982863 0.0 0.07950221957690067 5.216654325331181e-115\n",
      "LandUse_3 0.22903072855670462 0.0 0.2394624979317007 0.0\n"
     ]
    }
   ],
   "source": [
    "# Get the pearson correlations and confidence measures\n",
    "for col in df.columns:\n",
    "    pearson_coef1, p_value1 = stats.pearsonr(df[col], df['IsComplaints'])\n",
    "    pearson_coef2, p_value2 = stats.pearsonr(df[col], df['Complaints'])\n",
    "    if (abs(pearson_coef1) > 0.20 and p_value1 < 0.10) or (abs(pearson_coef2) > 0.20 and p_value2 < 0.10):\n",
    "        print(col, pearson_coef1, p_value1, pearson_coef2, p_value2)"
   ]
  },
  {
   "cell_type": "markdown",
   "metadata": {},
   "source": [
    "<p style=\"color:Red;\">Not really any \"strong\" correlations, but some weak ones with high confidence.  Double check the details of a few of these.</p>"
   ]
  },
  {
   "cell_type": "code",
   "execution_count": 98,
   "metadata": {},
   "outputs": [
    {
     "name": "stdout",
     "output_type": "stream",
     "text": [
      "ResidFAR FacilFAR 0.8569676636765086 0.0\n",
      "ResidFAR BuiltFAR 0.3850564374033568 0.0\n",
      "FacilFAR BuiltFAR 0.37429056324837645 0.0\n",
      "BuildingClass_A LandUse_1 0.4655209377505204 0.0\n",
      "BuildingClass_C LandUse_2 0.9984373965210063 0.0\n",
      "BuildingClass_D LandUse_3 0.888767436463683 0.0\n",
      "NumFloors BuiltFAR 0.5771752060596642 0.0\n",
      "BldgDepth BuiltFAR 0.3788710304736768 0.0\n",
      "NumFloors BldgDepth 0.3370671809911434 0.0\n"
     ]
    }
   ],
   "source": [
    "#check a few of these to see if they are different data points that capture the same relationship.\n",
    "def see_pearson(a,b):\n",
    "    pearson_coef, p_value = stats.pearsonr(df[a], df[b])\n",
    "    print(a, b, pearson_coef, p_value)\n",
    "see_pearson('ResidFAR','FacilFAR')\n",
    "see_pearson('ResidFAR','BuiltFAR')\n",
    "see_pearson('FacilFAR','BuiltFAR')\n",
    "see_pearson('BuildingClass_A','LandUse_1') #Single family\n",
    "see_pearson('BuildingClass_C','LandUse_2') #Walk up apartments\n",
    "see_pearson('BuildingClass_D','LandUse_3') #Elevator apartments\n",
    "see_pearson('NumFloors','BuiltFAR') #Taller buildings have more floor area?\n",
    "see_pearson('BldgDepth','BuiltFAR') #Deeper buildings have more floor area?\n",
    "see_pearson('NumFloors','BldgDepth') #Taller vs Deeper?"
   ]
  },
  {
   "cell_type": "markdown",
   "metadata": {},
   "source": [
    "<p style=\"color:Red;\">ResidFAR and FacilFAR are strongly correlated to each other.  The documentation says FAR is the \"Floor Area Ratio\" between the building and the LOT.  Residential and \"Community Facility\" seem to always be very similar to each other.  There is separate data for building category and land use category.  Similarly there is a strong correspondence between these two values.  The correlations drawn from some of these are essentially saying the same thing.  Furthermore, the ResidFAR and FacilFAR are indications of the \"maximum allowable\" floor area ratios.  The BuiltFAR is the ratio of the ACTUAL floor area to the lot area.</p>\n",
    "<p style=\"color:Red;\"><b>Conclusion:  </b>It Only makes sense to use one of two values that express the same information.  It doesn't make sense to concern ourselves with \"maximum allowable\" in cases where we also have \"actual\".</p>"
   ]
  },
  {
   "cell_type": "markdown",
   "metadata": {},
   "source": [
    "#### Visualize strongest Pearson correlations"
   ]
  },
  {
   "cell_type": "code",
   "execution_count": 96,
   "metadata": {
    "scrolled": false
   },
   "outputs": [
    {
     "data": {
      "image/png": "[encoded data removed]",
      "text/plain": [
       "<Figure size 864x288 with 1 Axes>"
      ]
     },
     "metadata": {
      "needs_background": "light"
     },
     "output_type": "display_data"
    }
   ],
   "source": [
    "strongest = correlations.copy(deep=True)\n",
    "strongest.drop(['IsComplaints','Complaints','FacilFAR',\n",
    "                'BuildingClass_C','BuildingClass_D','BuildingClass_A',\n",
    "                'ResidFAR'\n",
    "                ], axis=0, inplace=True)\n",
    "strongest.rename(mapper={\"IsComplaints\":\"Were there Complaints?\",\n",
    "                         \"Complaints\":\"Number of Complaints\"}, axis=1, inplace=True)\n",
    "strongest.rename(mapper={\"LandUse_1\":\"1&2 Family\",\n",
    "                         \"LandUse_2\":\"Multi Family Walk Up\",\n",
    "                         \"LandUse_3\":\"Multi Family Elevator\",\n",
    "                         'NumFloors':'Floors','BuiltFAR':'Floor Area',\n",
    "                         'BldgDepth':\"Building Depth\"}, axis=0, inplace=True)\n",
    "strongest.plot(title=\"Strongest Correlations View\",kind='bar',grid=True,figsize=(12,4))\n",
    "labels = strongest.index\n",
    "plt.ylabel(\"Correlation to Heating complaints\")\n",
    "plt.xlabel(\"Feature\")\n",
    "plt.xticks(np.arange(0,strongest.shape[0],1),labels=labels, rotation=0,color='blue')\n",
    "plt.yticks(np.arange(-0.4,0.5,0.1),color='blue')\n",
    "plt.show()"
   ]
  },
  {
   "cell_type": "markdown",
   "metadata": {},
   "source": [
    "<a id=\"conclusion\"></a>\n",
    "# Concluding Remarks\n",
    "---"
   ]
  },
  {
   "cell_type": "markdown",
   "metadata": {},
   "source": [
    "<u><b>Yes</b></u>, the HEATING/HOT WATER complaints (question 1) reported in the BRONX borough (question 2) have an obvious relationship with the housing characteristics:\n",
    "<ul>\n",
    "    <li><b><u>Size</u></b>.  The larger the building, the more heating complaints.\n",
    "    <ul>\n",
    "        <li>Number of Floors.  <i>(Correlation:  0.37)</i>.\n",
    "        <li>Floor Area.  <i>(Correlation:  0.35)</i>.\n",
    "        <li>Building Depth.  <i>(Correlation:  0.26)</i>.\n",
    "    </ul>\n",
    "    <li><b><u>Building Type</u></b>.  Certain types are more or less prone to heating complaints than others:\n",
    "    <ul>\n",
    "        <li>One and two family homes.  These are less likely to have heating complaints than other building types.  <i>(Correlation:  -0.34 <u>negative</u>)</i>.\n",
    "        <li>Multi family walk up buildings.  These are the most likely to have complaints.  <i>(Correlation:  0.34)</i>.\n",
    "        <li>Multi family elevator buildings.  These are the second most likely to have complaints. <i>(Correlation:  0.22)</i>.\n",
    "            <ul>\n",
    "                <li><u><b>Additional insight</b></u>:  When there are complaints at elevator buildings it is much more likely there will be a <u>larger number of complaints per address</u> with <i>0.23 correlation</i> compared to <i>only 0.07</i> for the walk up buildings.\n",
    "            </ul>\n",
    "    </ul>\n",
    "</ul>"
   ]
  }
 ],
 "metadata": {
  "kernelspec": {
   "display_name": "Python 3",
   "language": "python",
   "name": "python3"
  },
  "language_info": {
   "codemirror_mode": {
    "name": "ipython",
    "version": 3
   },
   "file_extension": ".py",
   "mimetype": "text/x-python",
   "name": "python",
   "nbconvert_exporter": "python",
   "pygments_lexer": "ipython3",
   "version": "3.7.3"
  }
 },
 "nbformat": 4,
 "nbformat_minor": 1
}
