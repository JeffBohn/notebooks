{
 "cells": [
  {
   "cell_type": "markdown",
   "metadata": {},
   "source": [
    "<h1 style=\"text-align:center\">Data Science and Machine Learning Capstone Project</h1>\n",
    "<img style=\"float:right\" src=\"https://prod-edxapp.edx-cdn.org/static/edx.org/images/logo.790c9a5340cb.png\">\n",
    "<p style=\"text-align:center\">IBM: DS0720EN</p>\n",
    "<p style=\"text-align:center\">Question 2 of 4</p>"
   ]
  },
  {
   "cell_type": "markdown",
   "metadata": {},
   "source": [
    "1. [Problem Statement](#problem)\n",
    "2. [Question 2](#question)\n",
    "3. [Cleaning](#cleaning)\n",
    "4. [Analysis](#analysis)\n",
    "5. [Visualization](#visualize)\n",
    "6. [Concluding Remarks](#conclusion)"
   ]
  },
  {
   "cell_type": "markdown",
   "metadata": {},
   "source": [
    "<a id=\"problem\"></a>\n",
    "# Problem Statement\n",
    "---"
   ]
  },
  {
   "cell_type": "markdown",
   "metadata": {},
   "source": [
    "The people of New York use the 311 system to report complaints about the non-emergency problems to local authorities. Various agencies in New York are assigned these problems. The Department of Housing Preservation and Development of New York City is the agency that processes 311 complaints that are related to housing and buildings.\n",
    "\n",
    "In the last few years, the number of 311 complaints coming to the Department of Housing Preservation and Development has increased significantly. Although these complaints are not necessarily urgent, the large volume of complaints and the sudden increase is impacting the overall efficiency of operations of the agency.\n",
    "\n",
    "Therefore, the Department of Housing Preservation and Development has approached your organization to help them manage the large volume of 311 complaints they are receiving every year.\n",
    "\n",
    "The agency needs answers to several questions. The answers to those questions must be supported by data and analytics. These are their  questions:"
   ]
  },
  {
   "cell_type": "markdown",
   "metadata": {},
   "source": [
    "<a id=\"question\"></a>\n",
    "# Question 2\n",
    "---"
   ]
  },
  {
   "cell_type": "markdown",
   "metadata": {},
   "source": [
    "Should the Department of Housing Preservation and Development of New York City focus on any particular set of boroughs, ZIP codes, or street (where the complaints are severe) for the specific type of complaints you identified in response to Question 1?"
   ]
  },
  {
   "cell_type": "markdown",
   "metadata": {},
   "source": [
    "## Approach\n",
    "Analyze the data to see if there is a higher correlation between the HEATING complaints and any particular borough, ZIP code, or street."
   ]
  },
  {
   "cell_type": "markdown",
   "metadata": {},
   "source": [
    "## Load Data\n",
    "Separately the [New York 311](https://data.cityofnewyork.us/Social-Services/311-Service-Requests-from-2010-to-Present/erm2-nwe9) data was loaded by [SODA](https://data.cityofnewyork.us/resource/fhrw-4uyv.csv?$limit=100000000&Agency=HPD&$select=created_date,unique_key,complaint_type,incident_zip,incident_address,street_name,address_type,city,resolution_description,borough,latitude,longitude,closed_date,location_type,status) into a Pandas DataFrame then saved to a pickle file."
   ]
  },
  {
   "cell_type": "code",
   "execution_count": 1,
   "metadata": {},
   "outputs": [
    {
     "data": {
      "text/plain": [
       "(5862383, 15)"
      ]
     },
     "execution_count": 1,
     "metadata": {},
     "output_type": "execute_result"
    }
   ],
   "source": [
    "import pandas as pd\n",
    "df = pd.read_pickle('C:\\\\Users\\\\It_Co\\\\Documents\\\\DataScience\\\\Capstone\\\\ny311full.pkl') # Local\n",
    "#df = pd.read_pickle('./ny311.pkl') #IBM Cloud / Watson Studio\n",
    "df.shape"
   ]
  },
  {
   "cell_type": "markdown",
   "metadata": {},
   "source": [
    "## Reduce data to relevant rows and columns"
   ]
  },
  {
   "cell_type": "code",
   "execution_count": 2,
   "metadata": {},
   "outputs": [
    {
     "data": {
      "text/plain": [
       "HEAT/HOT WATER    1152592\n",
       "HEATING            887869\n",
       "Name: complaint_type, dtype: int64"
      ]
     },
     "execution_count": 2,
     "metadata": {},
     "output_type": "execute_result"
    }
   ],
   "source": [
    "#Remove rows that were not for the complaint types identified in question one.\n",
    "df.drop(df[df[\"complaint_type\"].isin([\"HEAT/HOT WATER\",\"HEATING\"])==False].index, inplace=True)\n",
    "#Double check that the correct rows were removed.\n",
    "df['complaint_type'].value_counts()"
   ]
  },
  {
   "cell_type": "code",
   "execution_count": 3,
   "metadata": {},
   "outputs": [
    {
     "data": {
      "text/plain": [
       "(2040461, 8)"
      ]
     },
     "execution_count": 3,
     "metadata": {},
     "output_type": "execute_result"
    }
   ],
   "source": [
    "#Remove columns deemed unnecessary for this question.\n",
    "df.drop(['created_date','complaint_type','resolution_description','closed_date','location_type','status','address_type'], axis=1, inplace=True)\n",
    "df.shape"
   ]
  },
  {
   "cell_type": "markdown",
   "metadata": {},
   "source": [
    "<p style=\"color:Red;\"><b>Rationale</b>:  The question only needs to consider the heating complaints, and only needs to consider location related data for each.</p>"
   ]
  },
  {
   "cell_type": "markdown",
   "metadata": {},
   "source": [
    "<a id=\"cleaning\"></a>\n",
    "# Cleaning\n",
    "---"
   ]
  },
  {
   "cell_type": "markdown",
   "metadata": {},
   "source": [
    "<p style=\"color:Red;\"><b>Warning</b>:  This section is very large and complicated.  If desired:"
   ]
  },
  {
   "cell_type": "markdown",
   "metadata": {},
   "source": [
    "[SKIP TO NEXT SECTION](#analysis)"
   ]
  },
  {
   "cell_type": "markdown",
   "metadata": {},
   "source": [
    "## Examine high level pre-cleaning data statistics"
   ]
  },
  {
   "cell_type": "code",
   "execution_count": 4,
   "metadata": {},
   "outputs": [
    {
     "name": "stdout",
     "output_type": "stream",
     "text": [
      "-----High Level statistics before standardization-----\n",
      "\n",
      "--Top 10 Boroughs\n",
      "BRONX            569960\n",
      "BROOKLYN         543166\n",
      "MANHATTAN        398552\n",
      "Unspecified      282917\n",
      "QUEENS           228447\n",
      "STATEN ISLAND     17419\n",
      "Name: borough, dtype: int64\n",
      "\n",
      "--Top 10 ZIP codes\n",
      "11226.0    65493\n",
      "10467.0    62732\n",
      "10458.0    62230\n",
      "10468.0    55022\n",
      "10453.0    54877\n",
      "10452.0    47450\n",
      "10040.0    43318\n",
      "10457.0    43311\n",
      "10031.0    42561\n",
      "10456.0    42078\n",
      "Name: incident_zip, dtype: int64\n",
      "\n",
      "--Top 10 Streets\n",
      "GRAND CONCOURSE             35960\n",
      "BROADWAY                    23497\n",
      "OCEAN AVENUE                17882\n",
      "ARDEN STREET                15841\n",
      "MORRIS AVENUE               15792\n",
      "ST NICHOLAS AVENUE          14945\n",
      "AMSTERDAM AVENUE            11844\n",
      "ELMHURST AVENUE             10946\n",
      "BOYNTON AVENUE              10809\n",
      "DR M L KING JR BOULEVARD    10037\n",
      "Name: street_name, dtype: int64\n",
      "\n",
      "--Nulls\n",
      "unique_key              0\n",
      "incident_zip        18970\n",
      "incident_address        1\n",
      "street_name             1\n",
      "city                18843\n",
      "borough                 0\n",
      "latitude            18966\n",
      "longitude           18966\n",
      "dtype: int64\n",
      "\n",
      "--Distinct streets\n",
      "5980\n"
     ]
    }
   ],
   "source": [
    "def high_level_examination(when):\n",
    "    print(\"-----High Level statistics \" + when + \" standardization-----\")\n",
    "    print(\"\\n--Top 10 Boroughs\")\n",
    "    print(df['borough'].value_counts().head(10))\n",
    "    print(\"\\n--Top 10 ZIP codes\")\n",
    "    print(df['incident_zip'].value_counts().head(10))\n",
    "    print(\"\\n--Top 10 Streets\")\n",
    "    print(df['street_name'].value_counts().head(10))\n",
    "    print(\"\\n--Nulls\")\n",
    "    print(df.isnull().sum())\n",
    "    print(\"\\n--Distinct streets\")\n",
    "    print(df['street_name'].unique().size)\n",
    "high_level_examination(\"before\")"
   ]
  },
  {
   "cell_type": "markdown",
   "metadata": {},
   "source": [
    "<p style=\"color:Red;\"><b>Rationale</b>:  To determine if subsequent cleaning steps end up being worth the effort.</p>"
   ]
  },
  {
   "cell_type": "markdown",
   "metadata": {},
   "source": [
    "## Handle missing values"
   ]
  },
  {
   "cell_type": "code",
   "execution_count": 5,
   "metadata": {},
   "outputs": [
    {
     "data": {
      "text/html": [
       "<div>\n",
       "<style scoped>\n",
       "    .dataframe tbody tr th:only-of-type {\n",
       "        vertical-align: middle;\n",
       "    }\n",
       "\n",
       "    .dataframe tbody tr th {\n",
       "        vertical-align: top;\n",
       "    }\n",
       "\n",
       "    .dataframe thead th {\n",
       "        text-align: right;\n",
       "    }\n",
       "</style>\n",
       "<table border=\"1\" class=\"dataframe\">\n",
       "  <thead>\n",
       "    <tr style=\"text-align: right;\">\n",
       "      <th></th>\n",
       "      <th>unique_key</th>\n",
       "      <th>incident_zip</th>\n",
       "      <th>incident_address</th>\n",
       "      <th>street_name</th>\n",
       "      <th>city</th>\n",
       "      <th>borough</th>\n",
       "      <th>latitude</th>\n",
       "      <th>longitude</th>\n",
       "    </tr>\n",
       "  </thead>\n",
       "  <tbody>\n",
       "    <tr>\n",
       "      <th>count</th>\n",
       "      <td>18970</td>\n",
       "      <td>0.0</td>\n",
       "      <td>18969</td>\n",
       "      <td>18969</td>\n",
       "      <td>127</td>\n",
       "      <td>18970</td>\n",
       "      <td>4.000000</td>\n",
       "      <td>4.000000</td>\n",
       "    </tr>\n",
       "    <tr>\n",
       "      <th>unique</th>\n",
       "      <td>18970</td>\n",
       "      <td>NaN</td>\n",
       "      <td>8306</td>\n",
       "      <td>2205</td>\n",
       "      <td>2</td>\n",
       "      <td>6</td>\n",
       "      <td>NaN</td>\n",
       "      <td>NaN</td>\n",
       "    </tr>\n",
       "    <tr>\n",
       "      <th>top</th>\n",
       "      <td>40955832</td>\n",
       "      <td>NaN</td>\n",
       "      <td>34 ARDEN STREET</td>\n",
       "      <td>GRAND CONCOURSE</td>\n",
       "      <td>QUEENS</td>\n",
       "      <td>BRONX</td>\n",
       "      <td>NaN</td>\n",
       "      <td>NaN</td>\n",
       "    </tr>\n",
       "    <tr>\n",
       "      <th>freq</th>\n",
       "      <td>1</td>\n",
       "      <td>NaN</td>\n",
       "      <td>232</td>\n",
       "      <td>365</td>\n",
       "      <td>121</td>\n",
       "      <td>5957</td>\n",
       "      <td>NaN</td>\n",
       "      <td>NaN</td>\n",
       "    </tr>\n",
       "    <tr>\n",
       "      <th>mean</th>\n",
       "      <td>NaN</td>\n",
       "      <td>NaN</td>\n",
       "      <td>NaN</td>\n",
       "      <td>NaN</td>\n",
       "      <td>NaN</td>\n",
       "      <td>NaN</td>\n",
       "      <td>40.724393</td>\n",
       "      <td>-73.849776</td>\n",
       "    </tr>\n",
       "    <tr>\n",
       "      <th>std</th>\n",
       "      <td>NaN</td>\n",
       "      <td>NaN</td>\n",
       "      <td>NaN</td>\n",
       "      <td>NaN</td>\n",
       "      <td>NaN</td>\n",
       "      <td>NaN</td>\n",
       "      <td>0.000000</td>\n",
       "      <td>0.000000</td>\n",
       "    </tr>\n",
       "    <tr>\n",
       "      <th>min</th>\n",
       "      <td>NaN</td>\n",
       "      <td>NaN</td>\n",
       "      <td>NaN</td>\n",
       "      <td>NaN</td>\n",
       "      <td>NaN</td>\n",
       "      <td>NaN</td>\n",
       "      <td>40.724393</td>\n",
       "      <td>-73.849776</td>\n",
       "    </tr>\n",
       "    <tr>\n",
       "      <th>25%</th>\n",
       "      <td>NaN</td>\n",
       "      <td>NaN</td>\n",
       "      <td>NaN</td>\n",
       "      <td>NaN</td>\n",
       "      <td>NaN</td>\n",
       "      <td>NaN</td>\n",
       "      <td>40.724393</td>\n",
       "      <td>-73.849776</td>\n",
       "    </tr>\n",
       "    <tr>\n",
       "      <th>50%</th>\n",
       "      <td>NaN</td>\n",
       "      <td>NaN</td>\n",
       "      <td>NaN</td>\n",
       "      <td>NaN</td>\n",
       "      <td>NaN</td>\n",
       "      <td>NaN</td>\n",
       "      <td>40.724393</td>\n",
       "      <td>-73.849776</td>\n",
       "    </tr>\n",
       "    <tr>\n",
       "      <th>75%</th>\n",
       "      <td>NaN</td>\n",
       "      <td>NaN</td>\n",
       "      <td>NaN</td>\n",
       "      <td>NaN</td>\n",
       "      <td>NaN</td>\n",
       "      <td>NaN</td>\n",
       "      <td>40.724393</td>\n",
       "      <td>-73.849776</td>\n",
       "    </tr>\n",
       "    <tr>\n",
       "      <th>max</th>\n",
       "      <td>NaN</td>\n",
       "      <td>NaN</td>\n",
       "      <td>NaN</td>\n",
       "      <td>NaN</td>\n",
       "      <td>NaN</td>\n",
       "      <td>NaN</td>\n",
       "      <td>40.724393</td>\n",
       "      <td>-73.849776</td>\n",
       "    </tr>\n",
       "  </tbody>\n",
       "</table>\n",
       "</div>"
      ],
      "text/plain": [
       "       unique_key  incident_zip incident_address      street_name    city  \\\n",
       "count       18970           0.0            18969            18969     127   \n",
       "unique      18970           NaN             8306             2205       2   \n",
       "top      40955832           NaN  34 ARDEN STREET  GRAND CONCOURSE  QUEENS   \n",
       "freq            1           NaN              232              365     121   \n",
       "mean          NaN           NaN              NaN              NaN     NaN   \n",
       "std           NaN           NaN              NaN              NaN     NaN   \n",
       "min           NaN           NaN              NaN              NaN     NaN   \n",
       "25%           NaN           NaN              NaN              NaN     NaN   \n",
       "50%           NaN           NaN              NaN              NaN     NaN   \n",
       "75%           NaN           NaN              NaN              NaN     NaN   \n",
       "max           NaN           NaN              NaN              NaN     NaN   \n",
       "\n",
       "       borough   latitude  longitude  \n",
       "count    18970   4.000000   4.000000  \n",
       "unique       6        NaN        NaN  \n",
       "top      BRONX        NaN        NaN  \n",
       "freq      5957        NaN        NaN  \n",
       "mean       NaN  40.724393 -73.849776  \n",
       "std        NaN   0.000000   0.000000  \n",
       "min        NaN  40.724393 -73.849776  \n",
       "25%        NaN  40.724393 -73.849776  \n",
       "50%        NaN  40.724393 -73.849776  \n",
       "75%        NaN  40.724393 -73.849776  \n",
       "max        NaN  40.724393 -73.849776  "
      ]
     },
     "execution_count": 5,
     "metadata": {},
     "output_type": "execute_result"
    }
   ],
   "source": [
    "#There were some null zip codes.  Examine them more closely.\n",
    "df[df['incident_zip'].isnull()==True].describe(include=\"all\")"
   ]
  },
  {
   "cell_type": "markdown",
   "metadata": {},
   "source": [
    "<p style=\"color:Red;\"><b>Decision</b>:  There is nothing \"worth the trouble\" in the data upon which to try to fill in the missing zip codes.  If these 18K rows were deemed super important, a library for looking up a zip code based on an address would be necessary.  Because these rows still have Borough, don't drop the row.  Just leave them as NaN values.</p>"
   ]
  },
  {
   "cell_type": "code",
   "execution_count": 6,
   "metadata": {},
   "outputs": [
    {
     "data": {
      "text/html": [
       "<div>\n",
       "<style scoped>\n",
       "    .dataframe tbody tr th:only-of-type {\n",
       "        vertical-align: middle;\n",
       "    }\n",
       "\n",
       "    .dataframe tbody tr th {\n",
       "        vertical-align: top;\n",
       "    }\n",
       "\n",
       "    .dataframe thead th {\n",
       "        text-align: right;\n",
       "    }\n",
       "</style>\n",
       "<table border=\"1\" class=\"dataframe\">\n",
       "  <thead>\n",
       "    <tr style=\"text-align: right;\">\n",
       "      <th></th>\n",
       "      <th>unique_key</th>\n",
       "      <th>incident_zip</th>\n",
       "      <th>incident_address</th>\n",
       "      <th>street_name</th>\n",
       "      <th>city</th>\n",
       "      <th>borough</th>\n",
       "      <th>latitude</th>\n",
       "      <th>longitude</th>\n",
       "    </tr>\n",
       "  </thead>\n",
       "  <tbody>\n",
       "    <tr>\n",
       "      <th>251660</th>\n",
       "      <td>21833329</td>\n",
       "      <td>NaN</td>\n",
       "      <td>NaN</td>\n",
       "      <td>NaN</td>\n",
       "      <td>NaN</td>\n",
       "      <td>BRONX</td>\n",
       "      <td>NaN</td>\n",
       "      <td>NaN</td>\n",
       "    </tr>\n",
       "  </tbody>\n",
       "</table>\n",
       "</div>"
      ],
      "text/plain": [
       "       unique_key  incident_zip incident_address street_name city borough  \\\n",
       "251660   21833329           NaN              NaN         NaN  NaN   BRONX   \n",
       "\n",
       "        latitude  longitude  \n",
       "251660       NaN        NaN  "
      ]
     },
     "execution_count": 6,
     "metadata": {},
     "output_type": "execute_result"
    }
   ],
   "source": [
    "# Let's take a look at the one row with the missing street.\n",
    "df[df[\"street_name\"].isnull()]"
   ]
  },
  {
   "cell_type": "markdown",
   "metadata": {},
   "source": [
    "<p style=\"color:Red;\"><b>Decision</b>:  There is nothing in the data upon which to base a guess to the street.  In order to keep anticipated later standardization of the street_name simpler, get rid of the null row.</p>"
   ]
  },
  {
   "cell_type": "code",
   "execution_count": 7,
   "metadata": {},
   "outputs": [],
   "source": [
    "# Drop it.\n",
    "df.drop(df[df[\"street_name\"].isnull()].index, axis=0, inplace=True)"
   ]
  },
  {
   "cell_type": "markdown",
   "metadata": {},
   "source": [
    "## Standardization"
   ]
  },
  {
   "cell_type": "markdown",
   "metadata": {},
   "source": [
    "Change values from different sources into the same format, units, or convention"
   ]
  },
  {
   "cell_type": "markdown",
   "metadata": {},
   "source": [
    "<p style=\"color:Red;\"><b>Decision</b>:I'm potentially going to go a little overboard here.  Just for practice.</p>"
   ]
  },
  {
   "cell_type": "markdown",
   "metadata": {},
   "source": [
    "### General"
   ]
  },
  {
   "cell_type": "code",
   "execution_count": 8,
   "metadata": {},
   "outputs": [],
   "source": [
    "#Normalize all strings to uppercase so different casing won't appear as separate values.\n",
    "df['incident_address'] = df['incident_address'].str.upper()\n",
    "df['street_name'] = df['street_name'].str.upper()\n",
    "df['city'] = df['city'].str.upper()\n",
    "df['borough'] = df['borough'].str.upper()"
   ]
  },
  {
   "cell_type": "markdown",
   "metadata": {},
   "source": [
    "### Borough"
   ]
  },
  {
   "cell_type": "markdown",
   "metadata": {},
   "source": [
    "<p style=\"color:Red;\"><b>Insight:</b>  While looking for null values, I noticed there were rows with the city missing.  How could the city ever be missing, when the borough is filled in?  Let's explore the data to answer this question.</p>"
   ]
  },
  {
   "cell_type": "code",
   "execution_count": 9,
   "metadata": {},
   "outputs": [
    {
     "data": {
      "text/plain": [
       "BRONX            569959\n",
       "BROOKLYN         543166\n",
       "MANHATTAN        398552\n",
       "UNSPECIFIED      282917\n",
       "QUEENS           228447\n",
       "STATEN ISLAND     17419\n",
       "Name: borough, dtype: int64"
      ]
     },
     "execution_count": 9,
     "metadata": {},
     "output_type": "execute_result"
    }
   ],
   "source": [
    "df['borough'].value_counts()"
   ]
  },
  {
   "cell_type": "markdown",
   "metadata": {},
   "source": [
    "<p style=\"color:Red;\">The expected five boroughs, but then also:  UNSPECIFIED.  What does that mean?</p>"
   ]
  },
  {
   "cell_type": "code",
   "execution_count": 10,
   "metadata": {},
   "outputs": [
    {
     "data": {
      "text/plain": [
       "BROOKLYN         93388\n",
       "BRONX            88585\n",
       "NEW YORK         59095\n",
       "JAMAICA           5020\n",
       "STATEN ISLAND     3462\n",
       "Name: city, dtype: int64"
      ]
     },
     "execution_count": 10,
     "metadata": {},
     "output_type": "execute_result"
    }
   ],
   "source": [
    "df[df[\"borough\"]==\"UNSPECIFIED\"][\"city\"].value_counts().head()"
   ]
  },
  {
   "cell_type": "markdown",
   "metadata": {},
   "source": [
    "<p style=\"color:Red;\"><b>Insight</b>:  When the borough is UNSPECIFIED it appears to mean that often either the borough <i>or even a \"neighborhood\" (a division below borough)</i> has been entered in the CITY column.  The city is actually \"correct\" with NEW YORK only 59K times.  The city column is a de-facto \"neighborhood\" column for the most part.</p>"
   ]
  },
  {
   "cell_type": "markdown",
   "metadata": {},
   "source": [
    "<p style=\"color:Red;\">Because borough is something further analysis will key from, standardize the data where possible.</p>"
   ]
  },
  {
   "cell_type": "code",
   "execution_count": 11,
   "metadata": {},
   "outputs": [],
   "source": [
    "#Correct rows where borough was entered in the city column with \"UNSPECIFIED\" in the borough column.\n",
    "import numpy as np\n",
    "five_boroughs = [\"BROOKLYN\",\"BRONX\",\"MANHATTAN\",\"QUEENS\",\"STATEN ISLAND\"]\n",
    "which_rows_to_adjust = df[(df[\"borough\"]=='UNSPECIFIED')&df[\"city\"].isin(five_boroughs)].index\n",
    "df.loc[which_rows_to_adjust,'borough']=df.loc[which_rows_to_adjust,'city']\n",
    "df.loc[which_rows_to_adjust,'city']=np.nan"
   ]
  },
  {
   "cell_type": "markdown",
   "metadata": {},
   "source": [
    "<p style=\"color:Red;\">Almost 200K previously \"UNSPECIFIED\" rows will now show up under the correct borough during later analysis.</p>"
   ]
  },
  {
   "cell_type": "code",
   "execution_count": 12,
   "metadata": {},
   "outputs": [
    {
     "data": {
      "text/plain": [
       "MANHATTAN      393941\n",
       "UNSPECIFIED     59095\n",
       "Name: borough, dtype: int64"
      ]
     },
     "execution_count": 12,
     "metadata": {},
     "output_type": "execute_result"
    }
   ],
   "source": [
    "#See if all the boroughs encompassed when the CITY is showing up as \"New York\"\n",
    "df[df['city']=='NEW YORK']['borough'].value_counts()"
   ]
  },
  {
   "cell_type": "code",
   "execution_count": 13,
   "metadata": {},
   "outputs": [
    {
     "data": {
      "text/plain": [
       "NEW YORK    393941\n",
       "BRONX            9\n",
       "Name: city, dtype: int64"
      ]
     },
     "execution_count": 13,
     "metadata": {},
     "output_type": "execute_result"
    }
   ],
   "source": [
    "#See if all the MANHATTAN borough entries filled in the CITY as \"New York\" if if they sometimes have \"neighborhood\".\n",
    "df[df['borough']=='MANHATTAN']['city'].value_counts()"
   ]
  },
  {
   "cell_type": "markdown",
   "metadata": {},
   "source": [
    "<p style=\"color:Red;\"><b>Decision</b>:  Some data entered very oddly with BRONX as the city and MANHATTAN as the borough.  Ambiguous and only 9 rows out of millions, so drop the data so it won't confuse further analysis.</p>"
   ]
  },
  {
   "cell_type": "code",
   "execution_count": 14,
   "metadata": {},
   "outputs": [
    {
     "name": "stdout",
     "output_type": "stream",
     "text": [
      "(2040460, 8)\n",
      "(2040451, 8)\n"
     ]
    }
   ],
   "source": [
    "print(df.shape) #before\n",
    "#Drop a few rows of ambiguous data.\n",
    "df.drop(df[(df[\"borough\"]=='MANHATTAN')&(df[\"city\"]=='BRONX')].index, axis=0, inplace=True)\n",
    "print(df.shape) #after"
   ]
  },
  {
   "cell_type": "markdown",
   "metadata": {},
   "source": [
    "<p style=\"color:Red;\"><b>Decision</b>:  There are almost 400K rows with city as NEW YORK and the borough is MANHATTAN.  The other 59K rows with city NEW YORK has UNSPECIFIED as the borough.  Assume the borough is also MANHATTAN for those.</p>"
   ]
  },
  {
   "cell_type": "code",
   "execution_count": 15,
   "metadata": {},
   "outputs": [],
   "source": [
    "#Fill in UNSPECIFIED borough when city was entered as NEW YORK.\n",
    "which_rows_to_adjust = df[(df[\"borough\"]=='UNSPECIFIED')&(df[\"city\"]=='NEW YORK')].index\n",
    "df.loc[which_rows_to_adjust,'borough']=\"MANHATTAN\"\n",
    "df.loc[which_rows_to_adjust,'city']=np.nan"
   ]
  },
  {
   "cell_type": "code",
   "execution_count": 16,
   "metadata": {},
   "outputs": [],
   "source": [
    "#Although the city for most of the \"NEW YORK\" ones are the only ones that technically got the \"city\" column valued correctly,\n",
    "#since every other row uses city as \"neighborhood\":  Standardize these.\n",
    "which_rows_to_adjust = df[(df[\"city\"]=='NEW YORK')].index\n",
    "df.loc[which_rows_to_adjust,'city']=np.nan"
   ]
  },
  {
   "cell_type": "code",
   "execution_count": 17,
   "metadata": {},
   "outputs": [
    {
     "data": {
      "text/plain": [
       "BRONX            658544\n",
       "BROOKLYN         636554\n",
       "MANHATTAN        457638\n",
       "QUEENS           228450\n",
       "UNSPECIFIED       38384\n",
       "STATEN ISLAND     20881\n",
       "Name: borough, dtype: int64"
      ]
     },
     "execution_count": 17,
     "metadata": {},
     "output_type": "execute_result"
    }
   ],
   "source": [
    "#Double check how many unspecified boroughs.\n",
    "df['borough'].value_counts()"
   ]
  },
  {
   "cell_type": "markdown",
   "metadata": {},
   "source": [
    "<p style=\"color:Red;\"><b>Decision</b>:  There are still 38K rows with unspecified boroughs, but the neighborhoods are in the city column, so use them to map to boroughs.</p>"
   ]
  },
  {
   "cell_type": "code",
   "execution_count": 18,
   "metadata": {},
   "outputs": [
    {
     "data": {
      "text/plain": [
       "array(['ARVERNE', 'ASTORIA', 'BAYSIDE', 'BELLEROSE', 'BREEZY POINT',\n",
       "       'CAMBRIA HEIGHTS', 'COLLEGE POINT', 'CORONA', 'EAST ELMHURST',\n",
       "       'ELMHURST', 'FAR ROCKAWAY', 'FLORAL PARK', 'FLUSHING',\n",
       "       'FOREST HILLS', 'FRESH MEADOWS', 'GLEN OAKS', 'HOLLIS',\n",
       "       'HOWARD BEACH', 'JACKSON HEIGHTS', 'JAMAICA', 'KEW GARDENS',\n",
       "       'LITTLE NECK', 'LONG ISLAND CITY', 'MASPETH', 'MIDDLE VILLAGE',\n",
       "       'NEW HYDE PARK', 'OAKLAND GARDENS', 'OZONE PARK', 'QUEENS VILLAGE',\n",
       "       'REGO PARK', 'RICHMOND HILL', 'RIDGEWOOD', 'ROCKAWAY PARK',\n",
       "       'ROSEDALE', 'SAINT ALBANS', 'SOUTH OZONE PARK',\n",
       "       'SOUTH RICHMOND HILL', 'SPRINGFIELD GARDENS', 'SUNNYSIDE',\n",
       "       'WHITESTONE', 'WOODHAVEN', 'WOODSIDE'], dtype=object)"
      ]
     },
     "execution_count": 18,
     "metadata": {},
     "output_type": "execute_result"
    }
   ],
   "source": [
    "#See the neighborhoods of the still unspecified boroughs.\n",
    "neighborhoods = df[(df['borough']=='UNSPECIFIED')&(df['city'].isnull()==False)]['city'].unique()\n",
    "neighborhoods.sort()\n",
    "neighborhoods"
   ]
  },
  {
   "cell_type": "markdown",
   "metadata": {},
   "source": [
    "<p style=\"color:Red;\"><b>Insight</b>:  Checking https://en.wikipedia.org/wiki/List_of_Queens_neighborhoods show all but NEW HYDE PARK are in QUEENS.</p>"
   ]
  },
  {
   "cell_type": "markdown",
   "metadata": {},
   "source": [
    "<p style=\"color:Red;\"><b>Decision</b>:  NEW HYDE PARK isn't in any borough but is right on the border with QUEENS, and had only 2 complaints, so just consider it within QUEEENS.</p>"
   ]
  },
  {
   "cell_type": "code",
   "execution_count": 19,
   "metadata": {},
   "outputs": [
    {
     "data": {
      "text/plain": [
       "BRONX            658544\n",
       "BROOKLYN         636554\n",
       "MANHATTAN        457638\n",
       "QUEENS           266565\n",
       "STATEN ISLAND     20881\n",
       "UNSPECIFIED         269\n",
       "Name: borough, dtype: int64"
      ]
     },
     "execution_count": 19,
     "metadata": {},
     "output_type": "execute_result"
    }
   ],
   "source": [
    "#Fix rows with unspecified borough but with a neighborhood (in the city column) that indicates it is in QUEEENS.\n",
    "which_rows_to_adjust = df[(df[\"borough\"]=='UNSPECIFIED')&df[\"city\"].isin(neighborhoods)].index\n",
    "df.loc[which_rows_to_adjust,'borough']=\"QUEENS\"\n",
    "df['borough'].value_counts()"
   ]
  },
  {
   "cell_type": "markdown",
   "metadata": {},
   "source": [
    "<p style=\"color:Red;\"><b>Insight</b>:  The above are some preliminary raw numbers to partially answer part of the the question.</p>"
   ]
  },
  {
   "cell_type": "code",
   "execution_count": 20,
   "metadata": {},
   "outputs": [
    {
     "data": {
      "text/html": [
       "<div>\n",
       "<style scoped>\n",
       "    .dataframe tbody tr th:only-of-type {\n",
       "        vertical-align: middle;\n",
       "    }\n",
       "\n",
       "    .dataframe tbody tr th {\n",
       "        vertical-align: top;\n",
       "    }\n",
       "\n",
       "    .dataframe thead th {\n",
       "        text-align: right;\n",
       "    }\n",
       "</style>\n",
       "<table border=\"1\" class=\"dataframe\">\n",
       "  <thead>\n",
       "    <tr style=\"text-align: right;\">\n",
       "      <th></th>\n",
       "      <th>incident_zip</th>\n",
       "      <th>latitude</th>\n",
       "      <th>longitude</th>\n",
       "    </tr>\n",
       "  </thead>\n",
       "  <tbody>\n",
       "    <tr>\n",
       "      <th>count</th>\n",
       "      <td>0.0</td>\n",
       "      <td>0.0</td>\n",
       "      <td>0.0</td>\n",
       "    </tr>\n",
       "    <tr>\n",
       "      <th>mean</th>\n",
       "      <td>NaN</td>\n",
       "      <td>NaN</td>\n",
       "      <td>NaN</td>\n",
       "    </tr>\n",
       "    <tr>\n",
       "      <th>std</th>\n",
       "      <td>NaN</td>\n",
       "      <td>NaN</td>\n",
       "      <td>NaN</td>\n",
       "    </tr>\n",
       "    <tr>\n",
       "      <th>min</th>\n",
       "      <td>NaN</td>\n",
       "      <td>NaN</td>\n",
       "      <td>NaN</td>\n",
       "    </tr>\n",
       "    <tr>\n",
       "      <th>25%</th>\n",
       "      <td>NaN</td>\n",
       "      <td>NaN</td>\n",
       "      <td>NaN</td>\n",
       "    </tr>\n",
       "    <tr>\n",
       "      <th>50%</th>\n",
       "      <td>NaN</td>\n",
       "      <td>NaN</td>\n",
       "      <td>NaN</td>\n",
       "    </tr>\n",
       "    <tr>\n",
       "      <th>75%</th>\n",
       "      <td>NaN</td>\n",
       "      <td>NaN</td>\n",
       "      <td>NaN</td>\n",
       "    </tr>\n",
       "    <tr>\n",
       "      <th>max</th>\n",
       "      <td>NaN</td>\n",
       "      <td>NaN</td>\n",
       "      <td>NaN</td>\n",
       "    </tr>\n",
       "  </tbody>\n",
       "</table>\n",
       "</div>"
      ],
      "text/plain": [
       "       incident_zip  latitude  longitude\n",
       "count           0.0       0.0        0.0\n",
       "mean            NaN       NaN        NaN\n",
       "std             NaN       NaN        NaN\n",
       "min             NaN       NaN        NaN\n",
       "25%             NaN       NaN        NaN\n",
       "50%             NaN       NaN        NaN\n",
       "75%             NaN       NaN        NaN\n",
       "max             NaN       NaN        NaN"
      ]
     },
     "execution_count": 20,
     "metadata": {},
     "output_type": "execute_result"
    }
   ],
   "source": [
    "#Examine rows for those final 269 unspecified boroughs\n",
    "df[df['borough']=='UNSPECIFIED'].describe()"
   ]
  },
  {
   "cell_type": "markdown",
   "metadata": {},
   "source": [
    "<p style=\"color:Red;\"><b>Decision</b>:  Nothing \"worth the trouble\" to base further adjustments on for only 269 rows.  Set the borough to null on these rows so that they will not skew any subsequent analysis that examines borough.</p>"
   ]
  },
  {
   "cell_type": "code",
   "execution_count": 21,
   "metadata": {},
   "outputs": [],
   "source": [
    "#Fix rows with unspecified borough and no other practical information from which to derive it.\n",
    "which_rows_to_adjust = df[(df[\"borough\"]=='UNSPECIFIED')&df[\"city\"].isnull()].index\n",
    "df.loc[which_rows_to_adjust,'borough']=np.nan"
   ]
  },
  {
   "cell_type": "code",
   "execution_count": 22,
   "metadata": {},
   "outputs": [],
   "source": [
    "#Fix rows with city (neighborhood) equal to borough\n",
    "which_rows_to_adjust = df[(df[\"borough\"]==df[\"city\"])].index\n",
    "df.loc[which_rows_to_adjust,'city']=np.nan"
   ]
  },
  {
   "cell_type": "code",
   "execution_count": 23,
   "metadata": {},
   "outputs": [],
   "source": [
    "#Fix rows with city that started off null or was adjusted subsequently to be null\n",
    "which_rows_to_adjust = df[df[\"city\"].isnull()].index\n",
    "df.loc[which_rows_to_adjust,'city']=\"Unspecified\""
   ]
  },
  {
   "cell_type": "markdown",
   "metadata": {},
   "source": [
    "<p style=\"color:Red;\">At this point borough is reasonably populated with all the UNSPECIFIED and weird cases standardized.</p>"
   ]
  },
  {
   "cell_type": "markdown",
   "metadata": {},
   "source": [
    "### ZIP Code"
   ]
  },
  {
   "cell_type": "code",
   "execution_count": 24,
   "metadata": {},
   "outputs": [
    {
     "name": "stdout",
     "output_type": "stream",
     "text": [
      "(18969, 8)\n",
      "(2021482, 8)\n",
      "(2021482, 8)\n",
      "(2021482, 8)\n"
     ]
    }
   ],
   "source": [
    "#Learn the nature of the zip code data.\n",
    "print(df[(df['incident_zip'].isnull()==True)].shape) # missing\n",
    "print(df[(df['incident_zip'].isnull()==False)].shape) # present\n",
    "print(df[np.logical_and(df['incident_zip'].isnull()==False, df['incident_zip'] % 1.0 == 0.0)].shape) # Anything after the decimal point?\n",
    "print(df[np.logical_and(df['incident_zip']>9999.0, df['incident_zip']<100000.0)].shape) # Exactly five digits?"
   ]
  },
  {
   "cell_type": "markdown",
   "metadata": {},
   "source": [
    "<p style=\"color:Red;\"><b>Insight</b>:  The zip codes are all float64.  All of them have zero after the decimal point.  They are all five digits before the decimal point.  Almost 19K of the 2 Million+ rows are null.</p>"
   ]
  },
  {
   "cell_type": "markdown",
   "metadata": {},
   "source": [
    "### Street"
   ]
  },
  {
   "cell_type": "markdown",
   "metadata": {},
   "source": [
    "<p style=\"color:Red;\"><b>Insight</b>:  Before any attempt at standardization, there were 5980 distinct street_name values in the data.  There are already some clues the same street may show up in more than one form."
   ]
  },
  {
   "cell_type": "markdown",
   "metadata": {},
   "source": [
    "<p style=\"color:Red;\"><b>Goal</b>:  Standardize the street names as much as possible.  The goal being so different representations of the same street are all totaled together as the same street.</p>"
   ]
  },
  {
   "cell_type": "markdown",
   "metadata": {},
   "source": [
    "#### Insights"
   ]
  },
  {
   "cell_type": "markdown",
   "metadata": {},
   "source": [
    "<p style=\"color:Red;\">This section will be added to over and over again with any insights gleaned during the running of cells in the subsequent \"Work area\" section.  This section is placed ahead of that one because the insights will often be captured in the form of coded lists or even function definitions which will be re-run every time they change.</p>"
   ]
  },
  {
   "cell_type": "code",
   "execution_count": 25,
   "metadata": {},
   "outputs": [],
   "source": [
    "# Some street values have multiple spaces in a row.\n",
    "import re\n",
    "def standardize_spaces(raw):\n",
    "    result = raw.strip() #Remove leading and trailing spaces.\n",
    "    result = re.sub(' +', ' ', result) #Squeeze multiple adjacent spaces into just one space.\n",
    "    return result"
   ]
  },
  {
   "cell_type": "code",
   "execution_count": 26,
   "metadata": {},
   "outputs": [],
   "source": [
    "# Some streets have problematic characters.  For example:  ST. ANN'S AVENUE also exists without period or apostophe.\n",
    "problem_characters = ['.', '\\'']\n",
    "def replace_problem_characters(raw):\n",
    "    result = raw\n",
    "    for (character) in problem_characters:\n",
    "        result = result.replace(character,'')\n",
    "    return result"
   ]
  },
  {
   "cell_type": "code",
   "execution_count": 27,
   "metadata": {},
   "outputs": [],
   "source": [
    "#Streets are not always called a \"street\".\n",
    "street_suffixes = [\n",
    "    \"STREET\",\"AVENUE\",\"BOULEVARD\",\"PLACE\",\"ROAD\",\"PARKWAY\",\"CONCOURSE\",\"DRIVE\",\n",
    "    \"TERRACE\",\"HIGHWAY\",\"PARK\",\"EXPRESSWAY\",\"SQUARE\",\"PLAZA\",\"OVAL\",\"CRESCENT\",\n",
    "    \"LANE\",\"COURT\",\"EXTENSION\",\"TURNPIKE\", \"LOOP\", \"ESTATE\", \"WAY\"]"
   ]
  },
  {
   "cell_type": "code",
   "execution_count": 28,
   "metadata": {},
   "outputs": [],
   "source": [
    "#Streets often have a directional element.  Can be different parts of the same street or entirely different streets.\n",
    "street_directionals = [\"SOUTH\",\"NORTH\",\"EAST\",\"WEST\",\"SOUTHWEST\",\"NORTHWEST\",\"SOUTHEAST\",\"NORTHEAST\"]"
   ]
  },
  {
   "cell_type": "code",
   "execution_count": 29,
   "metadata": {},
   "outputs": [],
   "source": [
    "#Some words are sometimes entered in a non-standard way or with typos need to be standardized.\n",
    "word_replacements = [\n",
    "    (\"AVE\",\"AVENUE\"),\n",
    "    (\"ST\",\"STREET\"),\n",
    "    (\"RD\",\"ROAD\"),\n",
    "    (\"FT\",\"FORT\"),\n",
    "    (\"BX\",\"BRONX\"),\n",
    "    (\"MT\",\"MOUNT\"),\n",
    "    (\"NICHLAS\",\"NICHOLAS\"),\n",
    "    (\"NICHALOS\",\"NICHOLAS\"),\n",
    "    (\"EXPRE\",\"EXPRESSWAY\"),\n",
    "    (\"HARACE\",\"HORACE\"),\n",
    "    (\"NO\",\"NORTH\"), \n",
    "    (\"AV\",\"AVENUE\"), \n",
    "    (\"CRK\",\"CREEK\"),\n",
    "    (\"FR\",\"FATHER\"),\n",
    "    (\"JR\",\"JUNIOR\"),\n",
    "    (\"GR\",\"GRAND\"),\n",
    "    (\"CT\",\"COURT\"),\n",
    "    (\"SR\",\"\"), # Service Road.  These are always near a similarly named street.  Lump together.\n",
    "    (\"QN\",\"QUEENS\"),\n",
    "    (\"ND\",\"\"), # A space between a number and ND such as EAST 52 ND STREET.  Note ST and RD can be street or road.\n",
    "    (\"PO\",\"POND\"),\n",
    "    (\"BO\",\"BOND\"),\n",
    "    (\"GRA\",\"GRAND\"),\n",
    "    (\"REV\",\"REVEREND\"),\n",
    "    (\"CO-OP\",\"COOP\"),\n",
    "    (\"GRANDCONCOURSE\", \"GRAND CONCOURSE\"),\n",
    "    (\"CENTRL\", \"CENTRAL\"),\n",
    "    (\"BLVD\",\"BOULEVARD\"),\n",
    "    (\"FREDRICK\", \"FREDERICK\"),\n",
    "    (\"DOUGLAS\", \"DOUGLASS\"),\n",
    "    (\"MALCOM\", \"MALCOMN\"),\n",
    "    (\"NORTHEN\", \"NORTHERN\"),\n",
    "    (\"AVNEUE\",\"AVENUE\")\n",
    "]\n",
    "\n",
    "def replace_words(raw):\n",
    "    split_raw = raw.split()\n",
    "    for (old, new) in word_replacements:\n",
    "        found_at_index = next((i for i, x in enumerate(split_raw) if x==old), None)\n",
    "        if found_at_index!=None:\n",
    "            split_raw[found_at_index] = new\n",
    "            return standardize_spaces(\" \".join(split_raw))\n",
    "    return raw"
   ]
  },
  {
   "cell_type": "code",
   "execution_count": 30,
   "metadata": {},
   "outputs": [],
   "source": [
    "#Abbreviations that are sometimes not abbreviations.  \n",
    "#Only replace them if they are not part of a two word street.\n",
    "#Example:  Change 55 AVENUE N to 55 AVENUE NORTH but do not change AVENUE N to AVENUE NORTH.\n",
    "abbreviation_replacements = [\n",
    "    (\"N\",\"NORTH\"),\n",
    "    (\"S\",\"SOUTH\"),\n",
    "    (\"E\",\"EAST\"),\n",
    "    (\"W\",\"WEST\"),\n",
    "    (\"SW\",\"SOUTHWEST\"),\n",
    "    (\"NW\",\"NORTHWEST\"),\n",
    "    (\"SE\",\"SOUTHEAST\"),\n",
    "    (\"NE\",\"NORTHEAST\")\n",
    "]\n",
    "\n",
    "def replace_tricky_abbreviations(raw):\n",
    "    split_raw = raw.split()\n",
    "    if len(split_raw)!=2:  # AVENUE N, E STREET, etc.\n",
    "        for (old, new) in abbreviation_replacements:\n",
    "            found_at_index = next((i for i, x in enumerate(split_raw) if x==old), None)\n",
    "            if found_at_index!=None:\n",
    "                split_raw[found_at_index] = new\n",
    "                return \" \".join(split_raw)\n",
    "    return raw"
   ]
  },
  {
   "cell_type": "code",
   "execution_count": 31,
   "metadata": {},
   "outputs": [],
   "source": [
    "#Some words are actually prefixes of the following word.  Example the LA prefix of LA GRANGE.\n",
    "word_prefixes = [\"DE\",\"MC\",\"LA\",\"VAN\",\"MAC\",\"CO\"]\n",
    "\n",
    "def concatenate_prefixes(raw):\n",
    "    split_raw = raw.split()\n",
    "    last_word = len(split_raw) - 1\n",
    "    for (prefix) in word_prefixes:\n",
    "        found_at_index = next((i for i, x in enumerate(split_raw) if x==prefix), None)\n",
    "        if found_at_index!=None:\n",
    "            if len(split_raw)>1:\n",
    "                if found_at_index != last_word:\n",
    "                    split_raw[found_at_index] = ''\n",
    "                    split_raw[found_at_index+1] = prefix + split_raw[found_at_index+1]\n",
    "                    return standardize_spaces(\" \".join(split_raw))\n",
    "    return raw"
   ]
  },
  {
   "cell_type": "code",
   "execution_count": 32,
   "metadata": {},
   "outputs": [],
   "source": [
    "#Some phrases need custom replacement because they involve multiple words or easily mis-interpretted out of context.\n",
    "phrase_replacements = [\n",
    "    (\"DR M L KING JR\",\"MARTIN LUTHER KING\"),\n",
    "    (\"DR MARTIN L KING\",\"MARTIN LUTHER KING\"),\n",
    "    (\"MARTIN LUTHER KING\",\"MARTIN LUTHER KING\"),\n",
    "    (\"MARTIN L KING JR\",\"MARTIN LUTHER KING\"),\n",
    "    (\"MARTIN L KING\",\"MARTIN LUTHER KING\"),\n",
    "    (\"ST NICHOLAS\",\"SAINT NICHOLAS\"),\n",
    "    (\"ST JOHN\",\"SAINT JOHN\"),\n",
    "    (\"ST MARK\",\"SAINT MARK\"),\n",
    "    (\"ST ANN\",\"SAINT ANN\"),\n",
    "    (\"ST LAWRENCE\",\"SAINT LAWRENCE\"),\n",
    "    (\"ST PAUL\",\"SAINT PAUL\"),\n",
    "    (\"ST PETER\",\"SAINT PETER\"),\n",
    "    (\"ST RAYMOND\",\"SAINT RAYMOND\"),\n",
    "    (\"ST THERESA\",\"SAINT THERESA\"),\n",
    "    (\"ST FELIX\",\"SAINT FELIX\"),\n",
    "    (\"ST MARY\",\"SAINT MARY\"),\n",
    "    (\"ST OUEN\",\"SAINT OUEN\"),\n",
    "    (\"ST JAMES\",\"SAINT JAMES\"),\n",
    "    (\"ST GEORGE\",\"SAINT GEORGE\"),\n",
    "    (\"ST EDWARD\",\"SAINT EDWARD\"),\n",
    "    (\"ST CHARLES\",\"SAINT CHARLES\"),\n",
    "    (\"ST FRANCIS\",\"SAINT FRANCIS\"),\n",
    "    (\"ST ANDREW\",\"SAINT ANDREW\"),\n",
    "    (\"ST JUDE\",\"SAINT JUDE\"),\n",
    "    (\"ST LUKE\",\"SAINT LUKE\"),\n",
    "    (\"ST JOSEPH\",\"SAINT JOSEPH\"),\n",
    "    (\"N D PERLMAN\",\"NATHAN PERLMAN\"),\n",
    "    (\"O BRIEN\",\"OBRIEN\"),\n",
    "    (\"F D R\",\"FDR\"),\n",
    "    (\"EXPRESSWAY N SR\",\"EXPRESSWAY SR N\"),\n",
    "    (\"HOR HARDING\",\"HORACE HARDING\"),\n",
    "    (\"SERVICE ROAD\",\"\"), # These are always near a similarly named street. Lump together.\n",
    "    (\"DUMMY\",\"\"),\n",
    "    (\"ADAM C POWELL\",\"ADAM CLAYTON POWELL\"),\n",
    "    (\"POWELL COVE\",\"POWELLS COVE\")\n",
    "]\n",
    "\n",
    "def replace_phrases(raw):\n",
    "    result = raw\n",
    "    for (old,new) in phrase_replacements:\n",
    "        result = standardize_spaces(result.replace(old,new))\n",
    "    return result"
   ]
  },
  {
   "cell_type": "code",
   "execution_count": 33,
   "metadata": {},
   "outputs": [],
   "source": [
    "# 1ST, 2ND, 3RD, 4TH, ... nTH\n",
    "# Remove the suffixes leaving the numbers by themselves.\n",
    "number_suffixes = [\"ST\",\"ND\",\"RD\",\"TH\"]\n",
    "digits=[\"1\",\"2\",\"3\",\"4\",\"5\",\"6\",\"7\",\"8\",\"9\",\"0\"]\n",
    "def remove_number_suffixes(raw):\n",
    "    split_raw = raw.split()\n",
    "    for suffix in number_suffixes:\n",
    "        found_at_index = next((i for i, x in enumerate(split_raw) if x[0] in digits and x.endswith(suffix)), None) \n",
    "        if found_at_index!=None:            \n",
    "            split_raw[found_at_index] = split_raw[found_at_index][:-2]\n",
    "            return standardize_spaces(\" \".join(split_raw))\n",
    "    return raw"
   ]
  },
  {
   "cell_type": "code",
   "execution_count": 34,
   "metadata": {},
   "outputs": [],
   "source": [
    "# The different words of each address can be essentially the same but in different orders.  Standardize the order.\n",
    "#\n",
    "# A:  All Numbers, in numerical order.\n",
    "# B:  All Street Suffixes, in alphabetical order.\n",
    "# C:  All Directionals, in alphabetical order.\n",
    "# D:  All other words, in alphabetical within descending word length order.\n",
    "#\n",
    "# The above in this sequence:  A, D, B, C\n",
    "\n",
    "def alphabetical_within_word_length(raw):\n",
    "    return \"{:03d}\".format(999-len(raw)) + raw\n",
    "\n",
    "def standardize_word_order(raw):\n",
    "    numbers = []\n",
    "    suffixes = []\n",
    "    directionals = []\n",
    "    other = []\n",
    "    words = raw.split()\n",
    "    for word in words:\n",
    "        if word.isdigit()==True:\n",
    "            numbers.append(word)\n",
    "        elif word in street_suffixes:\n",
    "            suffixes.append(word)\n",
    "        elif word in street_directionals:\n",
    "            directionals.append(word)\n",
    "        else:\n",
    "            other.append(word)\n",
    "        numbers.sort()\n",
    "        suffixes.sort()\n",
    "        directionals.sort()\n",
    "        other.sort(key=alphabetical_within_word_length)\n",
    "    result = []\n",
    "    result.extend(suffixes)\n",
    "    result.extend(numbers)\n",
    "    result.extend(other)\n",
    "    result.extend(directionals)\n",
    "    return standardize_spaces(\" \".join(result))"
   ]
  },
  {
   "cell_type": "markdown",
   "metadata": {},
   "source": [
    "#### Standardize Function"
   ]
  },
  {
   "cell_type": "markdown",
   "metadata": {},
   "source": [
    "<p style=\"color:Red;\">This function will be built up gradually as insights are gained.  Ultimately resulting in a single function that will standardize a street name.</p>"
   ]
  },
  {
   "cell_type": "code",
   "execution_count": 35,
   "metadata": {},
   "outputs": [],
   "source": [
    "def standardize_street(street):\n",
    "    r = street # 5979.                        Improvement:  0\n",
    "    r = standardize_spaces(r) # 5324.         Improvement:  655\n",
    "    r = replace_problem_characters(r) #5321   Improvement:  3\n",
    "    r = replace_phrases(r) #5305              Improvement:  16\n",
    "    r = replace_words(r) #5193                Improvement:  112\n",
    "    r = replace_tricky_abbreviations(r) #5174 Improvement:  19 \n",
    "    r = concatenate_prefixes(r) #5158         Improvement:  16\n",
    "    r = remove_number_suffixes(r) #5141       Improvement:  17\n",
    "    #r = standardize_word_order(r) #5138      Improvement:  3\n",
    "    return r\n",
    "#Total improvement:  841 less unique street names by consolidating duplicates."
   ]
  },
  {
   "cell_type": "markdown",
   "metadata": {},
   "source": [
    "#### Work Area"
   ]
  },
  {
   "cell_type": "markdown",
   "metadata": {},
   "source": [
    "<p style=\"color:Red;\">The following sections will be run over and over again, not necessarily in order.  Each time with modifications to filter out words already considered, or to drill into a specific case under consideration for further insights.  Each time, the insights gained will be applied within the \"Insights\" section above.</p>"
   ]
  },
  {
   "cell_type": "code",
   "execution_count": 36,
   "metadata": {},
   "outputs": [],
   "source": [
    "#Utility functions to use with the Pandas DataFrame \"apply\" function for filtering out very specific sets of data.\n",
    "\n",
    "def is_word_present(x, word):\n",
    "    split_x = x.split()\n",
    "    if word in split_x:\n",
    "        return True\n",
    "    else:\n",
    "        return False\n",
    "\n",
    "def is_either_word_present(x, w1, w2):\n",
    "    if is_word_present(x,w1):\n",
    "        return True\n",
    "    if is_word_present(x,w2):\n",
    "        return True    \n",
    "    return False    \n",
    "    \n",
    "def is_not_last_word(x, word):\n",
    "    split_x = x.split()\n",
    "    last_word = len(split_x) - 1\n",
    "    if word!=last_word:\n",
    "        return True\n",
    "    else:\n",
    "        return False\n",
    "    \n",
    "def is_word_present_but_not_last(x, word):\n",
    "    if is_word_present(x,word):\n",
    "        if is_not_last_word(x,word):\n",
    "            return True\n",
    "    return False\n",
    "\n",
    "def is_small_alpha_word_present(x, size):\n",
    "    split_x = x.split()\n",
    "    for a in split_x:\n",
    "        if len(a)==size:\n",
    "            if a.isalpha():\n",
    "                return True\n",
    "    return False\n",
    "\n",
    "def any_word_start_with(x, front):\n",
    "    split_x = x.split()\n",
    "    for a in split_x:\n",
    "        if a.startswith(front):\n",
    "            return True\n",
    "    return False"
   ]
  },
  {
   "cell_type": "markdown",
   "metadata": {},
   "source": [
    "<p style=\"color:Red;\">Run the standardizations identified so far.</p>"
   ]
  },
  {
   "cell_type": "code",
   "execution_count": 37,
   "metadata": {},
   "outputs": [],
   "source": [
    "#Standardize what we can\n",
    "df['standardized_street_name'] = df['street_name'].apply(standardize_street)"
   ]
  },
  {
   "cell_type": "markdown",
   "metadata": {},
   "source": [
    "<p style=\"color:Red;\">Examine and measure results of standardization function to gain insights.</p>"
   ]
  },
  {
   "cell_type": "code",
   "execution_count": 38,
   "metadata": {},
   "outputs": [],
   "source": [
    "#df['standardized_street_name'].value_counts()\n",
    "#df[df['standardized_street_name'].apply(is_small_alpha_word_present, args=(4,))]['standardized_street_name'].value_counts()\n",
    "#df[df['standardized_street_name'].apply(is_word_present, args=(\"COOP\",))]['standardized_street_name'].value_counts()\n",
    "#df[df['standardized_street_name'].apply(is_either_word_present, args=(\"SE\",\"SOUTHEAST\",))]['standardized_street_name'].value_counts()\n",
    "#df[df['standardized_street_name'].apply(xxx)]['standardized_street_name'].value_counts()\n",
    "\n",
    "#df[df['standardized_street_name'].str.contains('ADAM')]['standardized_street_name'].value_counts()\n",
    "\n",
    "#df[df['street_name'].str.contains('SOUTHWEST')]['street_name'].value_counts()\n",
    "\n",
    "#uni = df[df['standardized_street_name'].str.startswith('AVENUE')]['standardized_street_name'].unique()\n",
    "#uni.sort()uni.sort()\n",
    "#for i in uni.astype(str):\n",
    "#    print (i[7:])"
   ]
  },
  {
   "cell_type": "code",
   "execution_count": 39,
   "metadata": {},
   "outputs": [],
   "source": [
    "#Get all of the individual words represented within the street_name column in a countable form.\n",
    "#words = list()\n",
    "#df['standardized_street_name'].str.split().apply(words.extend)\n",
    "#print(len(words))\n",
    "#word_series = pd.Series(words)\n",
    "#counts = word_series.value_counts()\n",
    "#print(counts)\n",
    "#counts.drop(counts[counts < 100].index, inplace=True) # Drop words that don't appear often enough to fuss with\n",
    "#counts.drop(counts[counts.index.str.isdigit()].index, inplace=True) # Drop words that are ONLY numbers\n",
    "#counts.shape"
   ]
  },
  {
   "cell_type": "code",
   "execution_count": 40,
   "metadata": {},
   "outputs": [],
   "source": [
    "#Examine groups of words in sorted order to detect ones that are probably different forms of the same word.\n",
    "#counts[counts.index.str.startswith(\"E\")].sort_index().head()\n",
    "#counts.sort_index()"
   ]
  },
  {
   "cell_type": "code",
   "execution_count": 41,
   "metadata": {},
   "outputs": [],
   "source": [
    "#Replace the original street names with the standardized versions.\n",
    "df.drop(\"street_name\", axis = 1, inplace=True)\n",
    "df.rename(columns={'standardized_street_name':'street_name'}, inplace=True)\n",
    "df.reset_index(drop=True, inplace=True)"
   ]
  },
  {
   "cell_type": "markdown",
   "metadata": {},
   "source": [
    "#### Examine post-cleaning data statistics"
   ]
  },
  {
   "cell_type": "code",
   "execution_count": 42,
   "metadata": {},
   "outputs": [
    {
     "name": "stdout",
     "output_type": "stream",
     "text": [
      "-----High Level statistics after standardization-----\n",
      "\n",
      "--Top 10 Boroughs\n",
      "BRONX            658544\n",
      "BROOKLYN         636554\n",
      "MANHATTAN        457638\n",
      "QUEENS           266565\n",
      "STATEN ISLAND     20881\n",
      "Name: borough, dtype: int64\n",
      "\n",
      "--Top 10 ZIP codes\n",
      "11226.0    65493\n",
      "10467.0    62732\n",
      "10458.0    62230\n",
      "10468.0    55022\n",
      "10453.0    54877\n",
      "10452.0    47450\n",
      "10040.0    43318\n",
      "10457.0    43311\n",
      "10031.0    42561\n",
      "10456.0    42078\n",
      "Name: incident_zip, dtype: int64\n",
      "\n",
      "--Top 10 Streets\n",
      "GRAND CONCOURSE                 36247\n",
      "BROADWAY                        23497\n",
      "OCEAN AVENUE                    17882\n",
      "ARDEN STREET                    15841\n",
      "MORRIS AVENUE                   15793\n",
      "SAINT NICHOLAS AVENUE           14945\n",
      "AMSTERDAM AVENUE                11845\n",
      "ELMHURST AVENUE                 10947\n",
      "BOYNTON AVENUE                  10809\n",
      "MARTIN LUTHER KING BOULEVARD    10244\n",
      "Name: street_name, dtype: int64\n",
      "\n",
      "--Nulls\n",
      "unique_key              0\n",
      "incident_zip        18969\n",
      "incident_address        0\n",
      "city                    0\n",
      "borough               269\n",
      "latitude            18965\n",
      "longitude           18965\n",
      "street_name             0\n",
      "dtype: int64\n",
      "\n",
      "--Distinct streets\n",
      "5141\n"
     ]
    }
   ],
   "source": [
    "high_level_examination(\"after\")"
   ]
  },
  {
   "cell_type": "markdown",
   "metadata": {},
   "source": [
    "<a id=\"analysis\"></a>\n",
    "# Analysis\n",
    "---"
   ]
  },
  {
   "cell_type": "markdown",
   "metadata": {},
   "source": [
    "Some of the analysis took place while cleaning the data.  Insights from that effort included:"
   ]
  },
  {
   "cell_type": "markdown",
   "metadata": {},
   "source": [
    "<ul>\n",
    "<li>Many specify a borough in the city field.\n",
    "<li>Many Manhattan complaints enter city and borough differently than the others.\n",
    "<li>Many Queens complaints are entered only with \"neighborhood\" in the city field, without borough.\n",
    "<li>There is quite a bit of variety in how many ways the same streets can be entered.\n",
    "</ul>"
   ]
  },
  {
   "cell_type": "markdown",
   "metadata": {},
   "source": [
    "The main findings will be primarily based on counting the number of complaints in each location by borough, ZIP code and street."
   ]
  },
  {
   "cell_type": "code",
   "execution_count": 43,
   "metadata": {},
   "outputs": [
    {
     "name": "stdout",
     "output_type": "stream",
     "text": [
      "\n",
      "--Top Boroughs\n",
      "BRONX            658544\n",
      "BROOKLYN         636554\n",
      "MANHATTAN        457638\n",
      "QUEENS           266565\n",
      "STATEN ISLAND     20881\n",
      "Name: borough, dtype: int64\n",
      "\n",
      "--Top ZIP codes\n",
      "11226.0    65493\n",
      "10467.0    62732\n",
      "10458.0    62230\n",
      "10468.0    55022\n",
      "10453.0    54877\n",
      "Name: incident_zip, dtype: int64\n",
      "\n",
      "--Top Streets\n",
      "GRAND CONCOURSE    36247\n",
      "BROADWAY           23497\n",
      "OCEAN AVENUE       17882\n",
      "ARDEN STREET       15841\n",
      "MORRIS AVENUE      15793\n",
      "Name: street_name, dtype: int64\n"
     ]
    }
   ],
   "source": [
    "print(\"\\n--Top Boroughs\")\n",
    "print(df['borough'].value_counts().head())\n",
    "print(\"\\n--Top ZIP codes\")\n",
    "print(df['incident_zip'].value_counts().head())\n",
    "print(\"\\n--Top Streets\")\n",
    "print(df['street_name'].value_counts().head())"
   ]
  },
  {
   "cell_type": "code",
   "execution_count": 129,
   "metadata": {},
   "outputs": [],
   "source": [
    "#Examine the data grouped by combinations of borough and zip, and zip and street, etc.\n",
    "counts = df[['unique_key','borough', 'incident_zip']].groupby(['borough', 'incident_zip']).count()\n",
    "counts.columns = ['count']\n",
    "counts = counts[counts['count'] > 30]\n",
    "counts.sort_values(by=['count'], ascending=False, inplace=True)"
   ]
  },
  {
   "cell_type": "code",
   "execution_count": 128,
   "metadata": {},
   "outputs": [
    {
     "data": {
      "text/html": [
       "<div>\n",
       "<style scoped>\n",
       "    .dataframe tbody tr th:only-of-type {\n",
       "        vertical-align: middle;\n",
       "    }\n",
       "\n",
       "    .dataframe tbody tr th {\n",
       "        vertical-align: top;\n",
       "    }\n",
       "\n",
       "    .dataframe thead th {\n",
       "        text-align: right;\n",
       "    }\n",
       "</style>\n",
       "<table border=\"1\" class=\"dataframe\">\n",
       "  <thead>\n",
       "    <tr style=\"text-align: right;\">\n",
       "      <th></th>\n",
       "      <th></th>\n",
       "      <th>count</th>\n",
       "    </tr>\n",
       "    <tr>\n",
       "      <th>borough</th>\n",
       "      <th>incident_zip</th>\n",
       "      <th></th>\n",
       "    </tr>\n",
       "  </thead>\n",
       "  <tbody>\n",
       "    <tr>\n",
       "      <th>BROOKLYN</th>\n",
       "      <th>11226.0</th>\n",
       "      <td>65493</td>\n",
       "    </tr>\n",
       "    <tr>\n",
       "      <th rowspan=\"5\" valign=\"top\">BRONX</th>\n",
       "      <th>10467.0</th>\n",
       "      <td>62732</td>\n",
       "    </tr>\n",
       "    <tr>\n",
       "      <th>10458.0</th>\n",
       "      <td>62230</td>\n",
       "    </tr>\n",
       "    <tr>\n",
       "      <th>10468.0</th>\n",
       "      <td>55022</td>\n",
       "    </tr>\n",
       "    <tr>\n",
       "      <th>10453.0</th>\n",
       "      <td>54877</td>\n",
       "    </tr>\n",
       "    <tr>\n",
       "      <th>10452.0</th>\n",
       "      <td>47450</td>\n",
       "    </tr>\n",
       "    <tr>\n",
       "      <th>MANHATTAN</th>\n",
       "      <th>10040.0</th>\n",
       "      <td>43318</td>\n",
       "    </tr>\n",
       "    <tr>\n",
       "      <th>BRONX</th>\n",
       "      <th>10457.0</th>\n",
       "      <td>43311</td>\n",
       "    </tr>\n",
       "    <tr>\n",
       "      <th>MANHATTAN</th>\n",
       "      <th>10031.0</th>\n",
       "      <td>42561</td>\n",
       "    </tr>\n",
       "    <tr>\n",
       "      <th>BRONX</th>\n",
       "      <th>10456.0</th>\n",
       "      <td>42078</td>\n",
       "    </tr>\n",
       "  </tbody>\n",
       "</table>\n",
       "</div>"
      ],
      "text/plain": [
       "                        count\n",
       "borough   incident_zip       \n",
       "BROOKLYN  11226.0       65493\n",
       "BRONX     10467.0       62732\n",
       "          10458.0       62230\n",
       "          10468.0       55022\n",
       "          10453.0       54877\n",
       "          10452.0       47450\n",
       "MANHATTAN 10040.0       43318\n",
       "BRONX     10457.0       43311\n",
       "MANHATTAN 10031.0       42561\n",
       "BRONX     10456.0       42078"
      ]
     },
     "execution_count": 128,
     "metadata": {},
     "output_type": "execute_result"
    }
   ],
   "source": [
    "counts.head(10)"
   ]
  },
  {
   "cell_type": "code",
   "execution_count": null,
   "metadata": {},
   "outputs": [],
   "source": []
  },
  {
   "cell_type": "code",
   "execution_count": 130,
   "metadata": {},
   "outputs": [],
   "source": [
    "# Get visualizations of all the zip codes in the top boroughs\n",
    "# Get visualizations of the streets in the top zip codes\n",
    "# Form conclusions and make remarks."
   ]
  },
  {
   "cell_type": "markdown",
   "metadata": {},
   "source": [
    "<a id=\"visualize\"></a>\n",
    "# Visualization\n",
    "---"
   ]
  },
  {
   "cell_type": "code",
   "execution_count": 82,
   "metadata": {},
   "outputs": [],
   "source": [
    "graph_width_max = df['borough'].value_counts().max()"
   ]
  },
  {
   "cell_type": "code",
   "execution_count": 83,
   "metadata": {},
   "outputs": [],
   "source": [
    "%matplotlib inline \n",
    "import matplotlib.pyplot as plt"
   ]
  },
  {
   "cell_type": "code",
   "execution_count": 84,
   "metadata": {},
   "outputs": [],
   "source": [
    "#Gather totals for graphic\n",
    "totals_for_graph = df['borough'].value_counts()"
   ]
  },
  {
   "cell_type": "code",
   "execution_count": 85,
   "metadata": {},
   "outputs": [
    {
     "data": {
      "image/png": "[encoded data removed]",
      "text/plain": [
       "<Figure size 936x288 with 1 Axes>"
      ]
     },
     "metadata": {
      "needs_background": "light"
     },
     "output_type": "display_data"
    }
   ],
   "source": [
    "#Plot\n",
    "totals_for_graph.plot(kind='barh', figsize=(13, 4), color='steelblue')\n",
    "plt.xlim = (0, graph_width_max)\n",
    "plt.xlabel('Number of complaints')\n",
    "plt.title('HEATING / HOT WATER complaints by borough')\n",
    "for index, value in enumerate(totals_for_graph): \n",
    "    label = format(int(value), ',') # format int with commas\n",
    "    # place text at the end of bar (subtracting 47000 from x, and 0.1 from y to make it fit within the bar)\n",
    "    plt.annotate(label, xy=(value - 47000, index - 0.10), color='white')\n",
    "plt.show()"
   ]
  },
  {
   "cell_type": "markdown",
   "metadata": {},
   "source": [
    "<a id=\"conclusion\"></a>\n",
    "# Concluding Remarks\n",
    "---"
   ]
  },
  {
   "cell_type": "markdown",
   "metadata": {},
   "source": [
    "xxx."
   ]
  },
  {
   "cell_type": "markdown",
   "metadata": {},
   "source": [
    "The Department of Housing Preservation and Development of New York City should focus on the following particular set of boroughs, ZIP codes, and streets (where the complaints are severe) for the \"HEAT/HOT WATER\" + \"HEATING\" complaint types:"
   ]
  },
  {
   "cell_type": "markdown",
   "metadata": {},
   "source": [
    "<p style=\"color:Red;\">xxx</p>"
   ]
  },
  {
   "cell_type": "markdown",
   "metadata": {},
   "source": [
    "xxx"
   ]
  }
 ],
 "metadata": {
  "kernelspec": {
   "display_name": "Python 3",
   "language": "python",
   "name": "python3"
  },
  "language_info": {
   "codemirror_mode": {
    "name": "ipython",
    "version": 3
   },
   "file_extension": ".py",
   "mimetype": "text/x-python",
   "name": "python",
   "nbconvert_exporter": "python",
   "pygments_lexer": "ipython3",
   "version": "3.7.3"
  }
 },
 "nbformat": 4,
 "nbformat_minor": 1
}
