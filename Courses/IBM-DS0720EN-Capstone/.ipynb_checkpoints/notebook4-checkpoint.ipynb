{
 "cells": [
  {
   "cell_type": "code",
   "execution_count": 1,
   "metadata": {},
   "outputs": [],
   "source": [
    "#Remove incomplete years\n",
    "#Convert dates into something useful\n",
    "#Plot number of heating complaints over time\n",
    "#Work that into an equation.\n",
    "#Tune the equation to be more accurate...\n",
    "    #Test each year against all the other years.  What was that technical term again? K-fold cross-validation.\n",
    "    #Quantitatively measure the test vs. train accuracy as the model gets better fit but before over-fitting it.\n",
    "#Visualizations\n",
    "#Use scientific wording to describe methodology.\n",
    "#Concluding Remarks with prominent header.\n",
    "#Show process.\n",
    "#Explain what trying to predict."
   ]
  },
  {
   "cell_type": "markdown",
   "metadata": {},
   "source": [
    "Use zip code to determine borough in some cases?\n",
    "\n",
    "Look up addresses with missing info in one data set with the address in the other data set?\n",
    "\n",
    "Deal with unbalanced data set?\n",
    "\n",
    "Make sure before dropping a row that it doesn't have valid data in any important rows.  If it is simply a mostly blank row, then drop it.\n",
    "\n",
    "Some features contain hidden clues.  Such as description in the 311 database.  Some of them gave clues that some complaints were duplicates from the same address.\n",
    "\n",
    "Know the difference between median and mean values.\n",
    "\n",
    "Some missing features can be computed from other features.  Like floor area ratio from building area and lot size.\n",
    "\n",
    "Watch for type features that cause other columns to be relevant or not.\n",
    "\n",
    "What is category type?   .astype('category')  In Pandas DataFrame.  One peer changed all categorical variables to this.\n",
    "\n",
    "RandomForestClassifier and RandomForestRegressor can be used to calculate feature importances."
   ]
  },
  {
   "cell_type": "markdown",
   "metadata": {},
   "source": [
    "#### <h1 style=\"text-align:center\">Data Science and Machine Learning Capstone Project</h1>\n",
    "<img style=\"float:right\" src=\"https://prod-edxapp.edx-cdn.org/static/edx.org/images/logo.790c9a5340cb.png\">\n",
    "<p style=\"text-align:center\">IBM: DS0720EN</p>\n",
    "<p style=\"text-align:center\">Question 4 of 4</p>"
   ]
  },
  {
   "cell_type": "markdown",
   "metadata": {},
   "source": [
    "<a id=\"problem\"></a>\n",
    "# Problem Statement\n",
    "---"
   ]
  },
  {
   "cell_type": "markdown",
   "metadata": {},
   "source": [
    "The people of New York use the 311 system to report complaints about the non-emergency problems to local authorities. Various agencies in New York are assigned these problems. The Department of Housing Preservation and Development of New York City is the agency that processes 311 complaints that are related to housing and buildings.\n",
    "\n",
    "In the last few years, the number of 311 complaints coming to the Department of Housing Preservation and Development has increased significantly. Although these complaints are not necessarily urgent, the large volume of complaints and the sudden increase is impacting the overall efficiency of operations of the agency.\n",
    "\n",
    "Therefore, the Department of Housing Preservation and Development has approached your organization to help them manage the large volume of 311 complaints they are receiving every year.\n",
    "\n",
    "The agency needs answers to several questions. The answers to those questions must be supported by data and analytics. These are their  questions:"
   ]
  },
  {
   "cell_type": "markdown",
   "metadata": {},
   "source": [
    "<a id=\"question\"></a>\n",
    "# Question 4\n",
    "---"
   ]
  },
  {
   "cell_type": "markdown",
   "metadata": {},
   "source": [
    "Can a predictive model be built for future prediction of the possibility of complaints of the specific type that you identified in response to Question 1?"
   ]
  },
  {
   "cell_type": "markdown",
   "metadata": {},
   "source": [
    "## Approach\n",
    "Attempt to build a predictive model to predict heating complaints by using past data.\n",
    "Assemble complaint data vs. time.\n",
    "Graph it to get a sense of any patterns.\n",
    "Build model.\n",
    "Test model \n",
    "\n",
    "Determine relationship between number of complaints over time.\n",
    "Establish regression model to calculate number of complaints for each day of the year.\n",
    "\n"
   ]
  },
  {
   "cell_type": "markdown",
   "metadata": {},
   "source": [
    "## Load Data\n",
    "Separately from this notebook:\n",
    "\n",
    "The [New York 311](https://data.cityofnewyork.us/Social-Services/311-Service-Requests-from-2010-to-Present/erm2-nwe9) data was loaded by [SODA](https://data.cityofnewyork.us/resource/fhrw-4uyv.csv?$limit=100000000&Agency=HPD&$select=created_date,unique_key,complaint_type,incident_zip,incident_address,street_name,address_type,city,resolution_description,borough,latitude,longitude,closed_date,location_type,status) into a Pandas DataFrame then saved to a pickle file."
   ]
  },
  {
   "cell_type": "code",
   "execution_count": 2,
   "metadata": {},
   "outputs": [],
   "source": [
    "import pandas as pd\n",
    "import numpy as np\n",
    "%matplotlib inline\n",
    "from matplotlib import pyplot as plt\n",
    "\n",
    "files_path = 'C:\\\\Users\\\\It_Co\\\\Documents\\\\DataScience\\\\Capstone\\\\' #local\n",
    "#files_path = './' #IBM Cloud / Watson Studio"
   ]
  },
  {
   "cell_type": "code",
   "execution_count": 3,
   "metadata": {
    "scrolled": true
   },
   "outputs": [
    {
     "name": "stdout",
     "output_type": "stream",
     "text": [
      "Shape of initial data (5862383, 15)\n"
     ]
    }
   ],
   "source": [
    "# Only load the NY 311 data for this question.\n",
    "df = pd.read_pickle(files_path + 'ny311full.pkl')\n",
    "print(\"Shape of initial data %s\" % (df.shape,))"
   ]
  },
  {
   "cell_type": "markdown",
   "metadata": {},
   "source": [
    "<a id=\"wrangling\"></a>\n",
    "# Data Cleaning and Standardization\n",
    "---"
   ]
  },
  {
   "cell_type": "markdown",
   "metadata": {},
   "source": [
    "### General"
   ]
  },
  {
   "cell_type": "code",
   "execution_count": 4,
   "metadata": {},
   "outputs": [
    {
     "name": "stdout",
     "output_type": "stream",
     "text": [
      "Shape after first feature culling (5862383, 2)\n"
     ]
    }
   ],
   "source": [
    "# Remove features deemed unnecessary for this question.\n",
    "df.drop(['street_name','address_type','resolution_description','closed_date','location_type','status','unique_key','latitude','longitude','incident_zip','incident_address','city','borough'], axis=1, inplace=True)\n",
    "print(\"Shape after first feature culling %s\" % (df.shape,))"
   ]
  },
  {
   "cell_type": "code",
   "execution_count": 5,
   "metadata": {},
   "outputs": [
    {
     "name": "stdout",
     "output_type": "stream",
     "text": [
      "Shape after row culling based on complaint type (2040461, 1)\n"
     ]
    }
   ],
   "source": [
    "# Only use the combined \"heating and hot water\" type of observations determined from Question 1.\n",
    "df['complaint_type'] = df['complaint_type'].str.upper()\n",
    "df.drop(df[df[\"complaint_type\"].isin([\"HEAT/HOT WATER\",\"HEATING\"])==False].index, axis=0, inplace=True)\n",
    "# The complaint type is only used for filtering observations this time.\n",
    "df.drop(['complaint_type'], axis=1, inplace=True)\n",
    "df.reset_index(drop=True, inplace=True)\n",
    "print(\"Shape after row culling based on complaint type %s\" % (df.shape,))"
   ]
  },
  {
   "cell_type": "code",
   "execution_count": 6,
   "metadata": {},
   "outputs": [
    {
     "data": {
      "text/plain": [
       "created_date    object\n",
       "dtype: object"
      ]
     },
     "execution_count": 6,
     "metadata": {},
     "output_type": "execute_result"
    }
   ],
   "source": [
    "# Data types\n",
    "df.dtypes"
   ]
  },
  {
   "cell_type": "code",
   "execution_count": 7,
   "metadata": {},
   "outputs": [
    {
     "data": {
      "text/plain": [
       "created_date    datetime64[ns]\n",
       "dtype: object"
      ]
     },
     "execution_count": 7,
     "metadata": {},
     "output_type": "execute_result"
    }
   ],
   "source": [
    "# Convert the date into actual datetime type.\n",
    "df['created_date'] = pd.to_datetime(df['created_date'])\n",
    "df.dtypes"
   ]
  },
  {
   "cell_type": "code",
   "execution_count": 8,
   "metadata": {},
   "outputs": [
    {
     "data": {
      "text/plain": [
       "created_date    0\n",
       "dtype: int64"
      ]
     },
     "execution_count": 8,
     "metadata": {},
     "output_type": "execute_result"
    }
   ],
   "source": [
    "# Nulls\n",
    "df.isnull().sum()"
   ]
  },
  {
   "cell_type": "code",
   "execution_count": 9,
   "metadata": {},
   "outputs": [
    {
     "data": {
      "text/html": [
       "<div>\n",
       "<style scoped>\n",
       "    .dataframe tbody tr th:only-of-type {\n",
       "        vertical-align: middle;\n",
       "    }\n",
       "\n",
       "    .dataframe tbody tr th {\n",
       "        vertical-align: top;\n",
       "    }\n",
       "\n",
       "    .dataframe thead th {\n",
       "        text-align: right;\n",
       "    }\n",
       "</style>\n",
       "<table border=\"1\" class=\"dataframe\">\n",
       "  <thead>\n",
       "    <tr style=\"text-align: right;\">\n",
       "      <th></th>\n",
       "      <th>created_date</th>\n",
       "    </tr>\n",
       "  </thead>\n",
       "  <tbody>\n",
       "    <tr>\n",
       "      <th>count</th>\n",
       "      <td>2040461</td>\n",
       "    </tr>\n",
       "    <tr>\n",
       "      <th>unique</th>\n",
       "      <td>855540</td>\n",
       "    </tr>\n",
       "    <tr>\n",
       "      <th>top</th>\n",
       "      <td>2013-01-24 00:00:00</td>\n",
       "    </tr>\n",
       "    <tr>\n",
       "      <th>freq</th>\n",
       "      <td>5847</td>\n",
       "    </tr>\n",
       "    <tr>\n",
       "      <th>first</th>\n",
       "      <td>2010-01-01 00:00:00</td>\n",
       "    </tr>\n",
       "    <tr>\n",
       "      <th>last</th>\n",
       "      <td>2019-09-28 23:48:12</td>\n",
       "    </tr>\n",
       "  </tbody>\n",
       "</table>\n",
       "</div>"
      ],
      "text/plain": [
       "               created_date\n",
       "count               2040461\n",
       "unique               855540\n",
       "top     2013-01-24 00:00:00\n",
       "freq                   5847\n",
       "first   2010-01-01 00:00:00\n",
       "last    2019-09-28 23:48:12"
      ]
     },
     "execution_count": 9,
     "metadata": {},
     "output_type": "execute_result"
    }
   ],
   "source": [
    "# Check ranges\n",
    "df.describe()"
   ]
  },
  {
   "cell_type": "markdown",
   "metadata": {},
   "source": [
    "## Latent variables\n",
    "Derived from the other data"
   ]
  },
  {
   "cell_type": "markdown",
   "metadata": {},
   "source": [
    "### Variables to break the created_date into more useable units."
   ]
  },
  {
   "cell_type": "code",
   "execution_count": 10,
   "metadata": {},
   "outputs": [],
   "source": [
    "df['Year'] = df['created_date'].dt.year\n",
    "df['DayOfYear'] = df['created_date'].dt.dayofyear"
   ]
  },
  {
   "cell_type": "markdown",
   "metadata": {},
   "source": [
    "### Structure the data into total complaints per day."
   ]
  },
  {
   "cell_type": "code",
   "execution_count": null,
   "metadata": {},
   "outputs": [],
   "source": [
    "totals = df.groupby(['Year','DayOfYear']).size()\n",
    "totals.head()"
   ]
  },
  {
   "cell_type": "code",
   "execution_count": null,
   "metadata": {},
   "outputs": [],
   "source": []
  },
  {
   "cell_type": "code",
   "execution_count": null,
   "metadata": {},
   "outputs": [],
   "source": []
  },
  {
   "cell_type": "code",
   "execution_count": null,
   "metadata": {},
   "outputs": [],
   "source": []
  },
  {
   "cell_type": "code",
   "execution_count": null,
   "metadata": {},
   "outputs": [],
   "source": []
  },
  {
   "cell_type": "code",
   "execution_count": null,
   "metadata": {},
   "outputs": [],
   "source": []
  },
  {
   "cell_type": "code",
   "execution_count": null,
   "metadata": {},
   "outputs": [],
   "source": []
  },
  {
   "cell_type": "code",
   "execution_count": null,
   "metadata": {},
   "outputs": [],
   "source": []
  },
  {
   "cell_type": "code",
   "execution_count": null,
   "metadata": {},
   "outputs": [],
   "source": [
    "# See ranges\n",
    "min = df['Year'].min()\n",
    "max = df['Year'].max()\n",
    "print(min, max)"
   ]
  },
  {
   "cell_type": "markdown",
   "metadata": {},
   "source": [
    "## Analyze including Visualizations"
   ]
  },
  {
   "cell_type": "code",
   "execution_count": null,
   "metadata": {
    "scrolled": true
   },
   "outputs": [],
   "source": [
    "# Basic visualization\n",
    "totals.plot(title=\"Total Number of complaints each day\")\n",
    "plt.xticks(rotation=90,color='blue')\n",
    "plt.yticks(color='blue')\n",
    "plt.ylabel(\"Complaints\")\n",
    "plt.xlabel(\"Date\")\n",
    "plt.show()"
   ]
  },
  {
   "cell_type": "markdown",
   "metadata": {},
   "source": [
    "<p style=\"color:Red;\"><b>Observation:</b>  There appears to be a general recurring U pattern each year.  Presumably heating complaints higher in the winter months.</p>"
   ]
  },
  {
   "cell_type": "code",
   "execution_count": null,
   "metadata": {},
   "outputs": [],
   "source": []
  },
  {
   "cell_type": "code",
   "execution_count": null,
   "metadata": {},
   "outputs": [],
   "source": []
  },
  {
   "cell_type": "code",
   "execution_count": null,
   "metadata": {},
   "outputs": [],
   "source": []
  },
  {
   "cell_type": "code",
   "execution_count": null,
   "metadata": {},
   "outputs": [],
   "source": []
  },
  {
   "cell_type": "code",
   "execution_count": null,
   "metadata": {},
   "outputs": [],
   "source": []
  },
  {
   "cell_type": "code",
   "execution_count": null,
   "metadata": {},
   "outputs": [],
   "source": []
  },
  {
   "cell_type": "markdown",
   "metadata": {},
   "source": [
    "### Alternative approaches"
   ]
  },
  {
   "cell_type": "markdown",
   "metadata": {},
   "source": [
    "<p style=\"color:Red;\">A few attempts to build a model to see whether the correlations seen with Pearson Correlation above seem correct.</p>"
   ]
  },
  {
   "cell_type": "markdown",
   "metadata": {},
   "source": [
    "<a id=\"conclusion\"></a>\n",
    "# Concluding Remarks\n",
    "---"
   ]
  },
  {
   "cell_type": "code",
   "execution_count": null,
   "metadata": {},
   "outputs": [],
   "source": []
  },
  {
   "cell_type": "code",
   "execution_count": null,
   "metadata": {},
   "outputs": [],
   "source": []
  },
  {
   "cell_type": "code",
   "execution_count": null,
   "metadata": {},
   "outputs": [],
   "source": []
  },
  {
   "cell_type": "markdown",
   "metadata": {},
   "source": [
    "In this exercise, you will use a feature-engineered dataset to determine whether a predictive model can be built to predict the complaint (of the Complaint Type that you decided to focus on in Week 2) by using past data.\n",
    "\n",
    "Using the best model, you need to predict the number of future complaints (of the Complaint Type that you decided to focus on in Question 1)."
   ]
  },
  {
   "cell_type": "code",
   "execution_count": null,
   "metadata": {},
   "outputs": [],
   "source": []
  },
  {
   "cell_type": "code",
   "execution_count": null,
   "metadata": {},
   "outputs": [],
   "source": []
  },
  {
   "cell_type": "markdown",
   "metadata": {},
   "source": [
    "<b><u>Yes</u>, the HEATING/HOT WATER complaints (question 1) reported in the BRONX borough (question 2) have an obvious relationship with the housing characteristics.</b>  Some weak but distinct correlations:\n",
    "<ul>\n",
    "    <li><b><u>Building Type</u></b>.  Certain types are more or less prone to heating complaints than others:\n",
    "    <ul>\n",
    "        <li>Apartments!  <i>(Correlation:  0.43)</i>\n",
    "        <ul>\n",
    "            <li>Walk up apartments.  These are the most likely to have complaints.   <i>(Correlation:  0.34)</i>\n",
    "            <li>Elevator apartments.  These are the second most likely to have complaints. <i>(Correlation:  0.26)</i>\n",
    "        </ul>\n",
    "        <li>One and two family homes.  These are <u>less</u> likely to have heating complaints than other building types.  <i>(Correlation:  -0.34 <u>negative</u>)</i>\n",
    "    </ul>\n",
    "    <li><b><u>Size</u></b>.  The larger the building, the more heating complaints.\n",
    "    <ul>\n",
    "        <li>Number of Floors.  <i>(Correlation:  0.27~0.37)</i>\n",
    "        <li>Floor Area.  <i>(Correlation:  0.23~0.35)</i>\n",
    "        <li>Building Depth.  <i>(Correlation:  0.17~0.26)</i>\n",
    "    </ul>\n",
    "</ul>\n",
    "<u><b>Additional insights</b></u>:\n",
    "<ul>\n",
    "    <li>When there are complaints at elevator apartments it is much more likely there will be a <u>large number of complaints per address</u> with <i>0.28 correlation</i> compared to <i>only 0.07</i> for the walk up apartments.\n",
    "    <li>The land use category 1 encompasses both single and two family homes.  Breaking them down by building class A and B, shows that single family homes contribute much more to the negative correlation to complaints <i>(-0.27)</i> than two family homes. <i>(-0.09)</i>\n",
    "</ul>"
   ]
  }
 ],
 "metadata": {
  "kernelspec": {
   "display_name": "Python 3",
   "language": "python",
   "name": "python3"
  },
  "language_info": {
   "codemirror_mode": {
    "name": "ipython",
    "version": 3
   },
   "file_extension": ".py",
   "mimetype": "text/x-python",
   "name": "python",
   "nbconvert_exporter": "python",
   "pygments_lexer": "ipython3",
   "version": "3.7.3"
  }
 },
 "nbformat": 4,
 "nbformat_minor": 1
}
