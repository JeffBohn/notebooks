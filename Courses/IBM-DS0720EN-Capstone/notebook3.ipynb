{
 "cells": [
  {
   "cell_type": "markdown",
   "metadata": {},
   "source": [
    "<h1 style=\"text-align:center\">Data Science and Machine Learning Capstone Project</h1>\n",
    "<img style=\"float:right\" src=\"https://prod-edxapp.edx-cdn.org/static/edx.org/images/logo.790c9a5340cb.png\">\n",
    "<p style=\"text-align:center\">IBM: DS0720EN</p>\n",
    "<p style=\"text-align:center\">Question 3 of 4</p>"
   ]
  },
  {
   "cell_type": "markdown",
   "metadata": {},
   "source": [
    "1. [Problem Statement](#problem)\n",
    "2. [Question 3](#question)\n",
    "3. [Data Cleaning and Standardization](#wrangling)\n",
    "4. [Analyzing and Visualizing](#analysis)\n",
    "5. [Concluding Remarks](#conclusion)"
   ]
  },
  {
   "cell_type": "markdown",
   "metadata": {},
   "source": [
    "<a id=\"problem\"></a>\n",
    "# Problem Statement\n",
    "---"
   ]
  },
  {
   "cell_type": "markdown",
   "metadata": {},
   "source": [
    "The people of New York use the 311 system to report complaints about the non-emergency problems to local authorities. Various agencies in New York are assigned these problems. The Department of Housing Preservation and Development of New York City is the agency that processes 311 complaints that are related to housing and buildings.\n",
    "\n",
    "In the last few years, the number of 311 complaints coming to the Department of Housing Preservation and Development has increased significantly. Although these complaints are not necessarily urgent, the large volume of complaints and the sudden increase is impacting the overall efficiency of operations of the agency.\n",
    "\n",
    "Therefore, the Department of Housing Preservation and Development has approached your organization to help them manage the large volume of 311 complaints they are receiving every year.\n",
    "\n",
    "The agency needs answers to several questions. The answers to those questions must be supported by data and analytics. These are their  questions:"
   ]
  },
  {
   "cell_type": "markdown",
   "metadata": {},
   "source": [
    "<a id=\"question\"></a>\n",
    "# Question 3\n",
    "---"
   ]
  },
  {
   "cell_type": "markdown",
   "metadata": {},
   "source": [
    "Does the Complaint Type that you identified in response to Question 1 have an obvious relationship with any particular characteristic or characteristic of the Houses?"
   ]
  },
  {
   "cell_type": "markdown",
   "metadata": {},
   "source": [
    "## Approach\n",
    "Determine whether or not there are any correlations between the building characteristics of buildings that experienced HEAT/HOT WATER complaints (from Question 1) relative to the building characteristics of all buildings in the PLUTO house database."
   ]
  },
  {
   "cell_type": "markdown",
   "metadata": {},
   "source": [
    "## Load Data\n",
    "Separately from this notebook:\n",
    "\n",
    "The [New York 311](https://data.cityofnewyork.us/Social-Services/311-Service-Requests-from-2010-to-Present/erm2-nwe9) data was loaded by [SODA](https://data.cityofnewyork.us/resource/fhrw-4uyv.csv?$limit=100000000&Agency=HPD&$select=created_date,unique_key,complaint_type,incident_zip,incident_address,street_name,address_type,city,resolution_description,borough,latitude,longitude,closed_date,location_type,status) into a Pandas DataFrame then saved to a pickle file.\n",
    "\n",
    "The [New York PLUTO](https://data.cityofnewyork.us/City-Government/Primary-Land-Use-Tax-Lot-Output-PLUTO-/xuk2-nczf) data was downloaded.  The instructions at ( Course / 1. Project Challenge Details and Setup / Datasets Used in this Course / Datasets ) said \"Use only the part that is specific to the borough that you are interested in based on your analysis.\"  My answer for Question 2 suggested the borough with the biggest HEAT/HOT WATER problem was BRONX.  For that reason, only the BX_18v1.csv file was loaded into a Pandas DataFrame then saved to a pickle file"
   ]
  },
  {
   "cell_type": "code",
   "execution_count": 1,
   "metadata": {},
   "outputs": [],
   "source": [
    "import pandas as pd\n",
    "import numpy as np\n",
    "%matplotlib inline\n",
    "from matplotlib import pyplot as plt\n",
    "from sklearn.preprocessing import StandardScaler\n",
    "from sklearn.preprocessing import MinMaxScaler\n",
    "import scipy.stats as stats\n",
    "import seaborn as sns\n",
    "from sklearn.model_selection import train_test_split\n",
    "from sklearn.linear_model import LinearRegression\n",
    "from sklearn import linear_model\n",
    "from sklearn.metrics import jaccard_score, classification_report, log_loss, confusion_matrix\n",
    "\n",
    "files_path = 'C:\\\\Users\\\\It_Co\\\\Documents\\\\DataScience\\\\Capstone\\\\' #local\n",
    "#files_path = './' #IBM Cloud / Watson Studio"
   ]
  },
  {
   "cell_type": "code",
   "execution_count": 2,
   "metadata": {
    "scrolled": true
   },
   "outputs": [
    {
     "name": "stdout",
     "output_type": "stream",
     "text": [
      "NY 311 shape (5862383, 15)\n",
      "PLUTO shape (89854, 20)\n"
     ]
    }
   ],
   "source": [
    "b311 = pd.read_pickle(files_path + 'ny311full.pkl')\n",
    "\n",
    "#file_columns = ['Address','BldgArea','BldgDepth','BuiltFAR','CommFAR','FacilFAR','Lot','LotArea','LotDepth','NumBldgs','NumFloors','OfficeArea','ResArea','ResidFAR','RetailArea','YearBuilt','YearAlter1','ZipCode', 'YCoord', 'XCoord']\n",
    "#df = pd.read_csv(files_path + 'BX_18v1.csv', usecols=file_columns)\n",
    "#df = pd.concat([df, pd.read_csv(files_path + 'BK_18v1.csv', usecols=file_columns)])\n",
    "#df = pd.concat([df, pd.read_csv(files_path + 'MN_18v1.csv', usecols=file_columns)])\n",
    "#df = pd.concat([df, pd.read_csv(files_path + 'QN_18v1.csv', usecols=file_columns)])\n",
    "#df = pd.concat([df, pd.read_csv(files_path + 'SI_18v1.csv', usecols=file_columns)])\n",
    "#df.to_pickle(files_path + 'q3.pkl')\n",
    "\n",
    "df = pd.read_pickle(files_path + 'q3.pkl')\n",
    "\n",
    "print(\"NY 311 shape %s\" % (b311.shape,))\n",
    "print(\"PLUTO shape %s\" % (df.shape,))"
   ]
  },
  {
   "cell_type": "markdown",
   "metadata": {},
   "source": [
    "<a id=\"wrangling\"></a>\n",
    "# Data Cleaning and Standardization\n",
    "---"
   ]
  },
  {
   "cell_type": "markdown",
   "metadata": {},
   "source": [
    "Correct or remove observations with missing or malformed data.  The 311 and the PLUTO data sets will need to be \"joined\" together by the common \"address\" element, which means the addresses will need to be standardized to a consistent layout to allow the addresses to be compared consistently."
   ]
  },
  {
   "cell_type": "markdown",
   "metadata": {},
   "source": [
    "## NY 311"
   ]
  },
  {
   "cell_type": "markdown",
   "metadata": {},
   "source": [
    "### General"
   ]
  },
  {
   "cell_type": "code",
   "execution_count": 3,
   "metadata": {},
   "outputs": [],
   "source": [
    "#Remove columns deemed unnecessary for this question.\n",
    "b311.drop(['created_date','street_name','address_type','resolution_description','closed_date','location_type','status','unique_key','latitude','longitude'], axis=1, inplace=True)\n",
    "#Only use the combined \"heating and hot water\" complaints determined from Question 1.\n",
    "b311['complaint_type'] = b311['complaint_type'].str.upper()\n",
    "b311.drop(b311[b311[\"complaint_type\"].isin([\"HEAT/HOT WATER\",\"HEATING\"])==False].index, axis=0, inplace=True)\n",
    "b311.reset_index(drop=True, inplace=True)\n",
    "#Adjust all relevant strings to uppercase so different casing won't appear as separate values.\n",
    "b311['incident_address'] = b311['incident_address'].str.upper()\n",
    "b311['city'] = b311['city'].str.upper()\n",
    "b311['borough'] = b311['borough'].str.upper()"
   ]
  },
  {
   "cell_type": "code",
   "execution_count": 4,
   "metadata": {},
   "outputs": [
    {
     "name": "stdout",
     "output_type": "stream",
     "text": [
      "shape (2040461, 5)\n",
      "--nulls below--\n",
      "complaint_type          0\n",
      "incident_zip        18970\n",
      "incident_address        1\n",
      "city                18843\n",
      "borough                 0\n",
      "dtype: int64\n",
      "--types below--\n",
      "complaint_type       object\n",
      "incident_zip        float64\n",
      "incident_address     object\n",
      "city                 object\n",
      "borough              object\n",
      "dtype: object\n"
     ]
    },
    {
     "data": {
      "text/html": [
       "<div>\n",
       "<style scoped>\n",
       "    .dataframe tbody tr th:only-of-type {\n",
       "        vertical-align: middle;\n",
       "    }\n",
       "\n",
       "    .dataframe tbody tr th {\n",
       "        vertical-align: top;\n",
       "    }\n",
       "\n",
       "    .dataframe thead th {\n",
       "        text-align: right;\n",
       "    }\n",
       "</style>\n",
       "<table border=\"1\" class=\"dataframe\">\n",
       "  <thead>\n",
       "    <tr style=\"text-align: right;\">\n",
       "      <th></th>\n",
       "      <th>complaint_type</th>\n",
       "      <th>incident_zip</th>\n",
       "      <th>incident_address</th>\n",
       "      <th>city</th>\n",
       "      <th>borough</th>\n",
       "    </tr>\n",
       "  </thead>\n",
       "  <tbody>\n",
       "    <tr>\n",
       "      <th>0</th>\n",
       "      <td>HEAT/HOT WATER</td>\n",
       "      <td>11233.0</td>\n",
       "      <td>1711 FULTON STREET</td>\n",
       "      <td>BROOKLYN</td>\n",
       "      <td>BROOKLYN</td>\n",
       "    </tr>\n",
       "    <tr>\n",
       "      <th>1</th>\n",
       "      <td>HEAT/HOT WATER</td>\n",
       "      <td>10457.0</td>\n",
       "      <td>4487 3 AVENUE</td>\n",
       "      <td>BRONX</td>\n",
       "      <td>BRONX</td>\n",
       "    </tr>\n",
       "    <tr>\n",
       "      <th>2</th>\n",
       "      <td>HEAT/HOT WATER</td>\n",
       "      <td>11204.0</td>\n",
       "      <td>6802 18 AVENUE</td>\n",
       "      <td>BROOKLYN</td>\n",
       "      <td>BROOKLYN</td>\n",
       "    </tr>\n",
       "    <tr>\n",
       "      <th>3</th>\n",
       "      <td>HEAT/HOT WATER</td>\n",
       "      <td>10031.0</td>\n",
       "      <td>620 WEST  141 STREET</td>\n",
       "      <td>NEW YORK</td>\n",
       "      <td>MANHATTAN</td>\n",
       "    </tr>\n",
       "    <tr>\n",
       "      <th>4</th>\n",
       "      <td>HEAT/HOT WATER</td>\n",
       "      <td>10032.0</td>\n",
       "      <td>527 WEST  162 STREET</td>\n",
       "      <td>NEW YORK</td>\n",
       "      <td>MANHATTAN</td>\n",
       "    </tr>\n",
       "  </tbody>\n",
       "</table>\n",
       "</div>"
      ],
      "text/plain": [
       "   complaint_type  incident_zip      incident_address      city    borough\n",
       "0  HEAT/HOT WATER       11233.0    1711 FULTON STREET  BROOKLYN   BROOKLYN\n",
       "1  HEAT/HOT WATER       10457.0         4487 3 AVENUE     BRONX      BRONX\n",
       "2  HEAT/HOT WATER       11204.0        6802 18 AVENUE  BROOKLYN   BROOKLYN\n",
       "3  HEAT/HOT WATER       10031.0  620 WEST  141 STREET  NEW YORK  MANHATTAN\n",
       "4  HEAT/HOT WATER       10032.0  527 WEST  162 STREET  NEW YORK  MANHATTAN"
      ]
     },
     "execution_count": 4,
     "metadata": {},
     "output_type": "execute_result"
    }
   ],
   "source": [
    "#Print some initial information for comparison during later steps.\n",
    "print(\"shape %s\" % str(b311.shape))\n",
    "print(\"--nulls below--\")\n",
    "print(b311.isnull().sum())\n",
    "print(\"--types below--\")\n",
    "print(b311.dtypes)\n",
    "b311.head()"
   ]
  },
  {
   "cell_type": "markdown",
   "metadata": {},
   "source": [
    "### Standardize Borough\n",
    "Leveraging findings found while standardizing during Question 2."
   ]
  },
  {
   "cell_type": "code",
   "execution_count": 5,
   "metadata": {},
   "outputs": [
    {
     "data": {
      "text/plain": [
       "BRONX            569960\n",
       "BROOKLYN         543166\n",
       "MANHATTAN        398552\n",
       "UNSPECIFIED      282917\n",
       "QUEENS           228447\n",
       "STATEN ISLAND     17419\n",
       "Name: borough, dtype: int64"
      ]
     },
     "execution_count": 5,
     "metadata": {},
     "output_type": "execute_result"
    }
   ],
   "source": [
    "b311['borough'].value_counts()"
   ]
  },
  {
   "cell_type": "code",
   "execution_count": 6,
   "metadata": {},
   "outputs": [],
   "source": [
    "#Correct rows where borough was entered in the city column with \"UNSPECIFIED\" in the borough column.\n",
    "five_boroughs = [\"BROOKLYN\",\"BRONX\",\"MANHATTAN\",\"QUEENS\",\"STATEN ISLAND\"]\n",
    "which_rows_to_adjust = b311[(b311[\"borough\"]=='UNSPECIFIED')&b311[\"city\"].isin(five_boroughs)].index\n",
    "b311.loc[which_rows_to_adjust,'borough']=b311.loc[which_rows_to_adjust,'city']\n",
    "b311.loc[which_rows_to_adjust,'city']=np.nan\n",
    "#Drop a few rows of ambiguous data.\n",
    "b311.drop(b311[(b311[\"borough\"]=='MANHATTAN')&(b311[\"city\"]=='BRONX')].index, axis=0, inplace=True)\n",
    "b311.reset_index(drop=True, inplace=True)\n",
    "#Fill in UNSPECIFIED borough when city was entered as NEW YORK.\n",
    "which_rows_to_adjust = b311[(b311[\"borough\"]=='UNSPECIFIED')&(b311[\"city\"]=='NEW YORK')].index\n",
    "b311.loc[which_rows_to_adjust,'borough']=\"MANHATTAN\"\n",
    "b311.loc[which_rows_to_adjust,'city']=np.nan\n",
    "#Although the city for most of the \"NEW YORK\" ones are the only ones that technically got the \"city\" column valued correctly,\n",
    "#since every other row uses city as \"neighborhood\":  Standardize these.\n",
    "which_rows_to_adjust = b311[(b311[\"city\"]=='NEW YORK')].index\n",
    "b311.loc[which_rows_to_adjust,'city']=np.nan\n",
    "#Any still unspecified boroughs with a value in \"city\" are in the Queens borough.  The \"city\" is actually a \"neighborhood\".\n",
    "queens_neighborhoods = b311[(b311['borough']=='UNSPECIFIED')&(b311['city'].isnull()==False)]['city'].unique()\n",
    "#Standardize borough for Queens neighborhoods.\n",
    "which_rows_to_adjust = b311[(b311[\"borough\"]=='UNSPECIFIED')&b311[\"city\"].isin(queens_neighborhoods)].index\n",
    "b311.loc[which_rows_to_adjust,'borough']=\"QUEENS\"\n",
    "#Null the borough if it still shows up as unspecified borough as there is no other information from which to derive it.\n",
    "which_rows_to_adjust = b311[(b311[\"borough\"]=='UNSPECIFIED')&b311[\"city\"].isnull()].index\n",
    "b311.loc[which_rows_to_adjust,'borough']=np.nan"
   ]
  },
  {
   "cell_type": "code",
   "execution_count": 7,
   "metadata": {},
   "outputs": [
    {
     "data": {
      "text/plain": [
       "BRONX            658545\n",
       "BROOKLYN         636554\n",
       "MANHATTAN        457638\n",
       "QUEENS           266565\n",
       "STATEN ISLAND     20881\n",
       "Name: borough, dtype: int64"
      ]
     },
     "execution_count": 7,
     "metadata": {},
     "output_type": "execute_result"
    }
   ],
   "source": [
    "b311['borough'].value_counts()"
   ]
  },
  {
   "cell_type": "markdown",
   "metadata": {},
   "source": [
    "### Filter NY 311 data by borough to only include BRONX\n",
    "The instructions at ( Course / 1. Project Challenge Details and Setup / Datasets Used in this Course / Datasets ) said \"Use only the part that is specific to the borough that you are interested in based on your analysis.\"  My answer for Question 2 suggested the borough with the biggest HEAT/HOT WATER problem was BRONX.  For that reason, I am only considering the BRONX data."
   ]
  },
  {
   "cell_type": "code",
   "execution_count": 8,
   "metadata": {},
   "outputs": [
    {
     "data": {
      "text/plain": [
       "BRONX    658545\n",
       "Name: borough, dtype: int64"
      ]
     },
     "execution_count": 8,
     "metadata": {},
     "output_type": "execute_result"
    }
   ],
   "source": [
    "b311.drop(b311[(b311[\"borough\"]!='BRONX')].index, axis=0, inplace=True)\n",
    "b311.reset_index(drop=True, inplace=True)\n",
    "b311['borough'].value_counts()"
   ]
  },
  {
   "cell_type": "markdown",
   "metadata": {},
   "source": [
    "### Remove unnecessary columns\n",
    "These were only necessary to standardize and then filter by borough."
   ]
  },
  {
   "cell_type": "code",
   "execution_count": 9,
   "metadata": {},
   "outputs": [
    {
     "name": "stdout",
     "output_type": "stream",
     "text": [
      "(658545, 3)\n",
      "complaint_type         0\n",
      "incident_zip        5957\n",
      "incident_address       1\n",
      "dtype: int64\n"
     ]
    },
    {
     "data": {
      "text/html": [
       "<div>\n",
       "<style scoped>\n",
       "    .dataframe tbody tr th:only-of-type {\n",
       "        vertical-align: middle;\n",
       "    }\n",
       "\n",
       "    .dataframe tbody tr th {\n",
       "        vertical-align: top;\n",
       "    }\n",
       "\n",
       "    .dataframe thead th {\n",
       "        text-align: right;\n",
       "    }\n",
       "</style>\n",
       "<table border=\"1\" class=\"dataframe\">\n",
       "  <thead>\n",
       "    <tr style=\"text-align: right;\">\n",
       "      <th></th>\n",
       "      <th>complaint_type</th>\n",
       "      <th>incident_zip</th>\n",
       "      <th>incident_address</th>\n",
       "    </tr>\n",
       "  </thead>\n",
       "  <tbody>\n",
       "    <tr>\n",
       "      <th>0</th>\n",
       "      <td>HEAT/HOT WATER</td>\n",
       "      <td>10457.0</td>\n",
       "      <td>4487 3 AVENUE</td>\n",
       "    </tr>\n",
       "    <tr>\n",
       "      <th>1</th>\n",
       "      <td>HEAT/HOT WATER</td>\n",
       "      <td>10467.0</td>\n",
       "      <td>3414 KNOX PLACE</td>\n",
       "    </tr>\n",
       "    <tr>\n",
       "      <th>2</th>\n",
       "      <td>HEAT/HOT WATER</td>\n",
       "      <td>10473.0</td>\n",
       "      <td>2025 SEWARD AVENUE</td>\n",
       "    </tr>\n",
       "  </tbody>\n",
       "</table>\n",
       "</div>"
      ],
      "text/plain": [
       "   complaint_type  incident_zip    incident_address\n",
       "0  HEAT/HOT WATER       10457.0       4487 3 AVENUE\n",
       "1  HEAT/HOT WATER       10467.0     3414 KNOX PLACE\n",
       "2  HEAT/HOT WATER       10473.0  2025 SEWARD AVENUE"
      ]
     },
     "execution_count": 9,
     "metadata": {},
     "output_type": "execute_result"
    }
   ],
   "source": [
    "#Remove columns no longer necessary\n",
    "b311.drop(['borough','city'], axis=1, inplace=True)\n",
    "print(b311.shape)\n",
    "print(b311.isnull().sum())\n",
    "b311.head(3)"
   ]
  },
  {
   "cell_type": "code",
   "execution_count": 10,
   "metadata": {},
   "outputs": [
    {
     "name": "stdout",
     "output_type": "stream",
     "text": [
      "complaint_type         0\n",
      "incident_zip        5956\n",
      "incident_address       0\n",
      "dtype: int64\n"
     ]
    },
    {
     "data": {
      "text/plain": [
       "3810 BAILEY AVENUE          7112\n",
       "1025 BOYNTON AVENUE         5773\n",
       "2090 EAST TREMONT AVENUE    3748\n",
       "888 GRAND CONCOURSE         3211\n",
       "2968 PERRY AVENUE           2830\n",
       "Name: incident_address, dtype: int64"
      ]
     },
     "execution_count": 10,
     "metadata": {},
     "output_type": "execute_result"
    }
   ],
   "source": [
    "# Drop observations with missing address as there will be no way to tie them to any PLUTO data.\n",
    "b311.dropna(subset=['incident_address'], axis=0, inplace=True)\n",
    "b311.reset_index(drop=True, inplace=True)\n",
    "print(b311.isnull().sum())\n",
    "b311['incident_address'].value_counts().head()"
   ]
  },
  {
   "cell_type": "markdown",
   "metadata": {},
   "source": [
    "## BRONX PLUTO"
   ]
  },
  {
   "cell_type": "code",
   "execution_count": 11,
   "metadata": {},
   "outputs": [
    {
     "name": "stdout",
     "output_type": "stream",
     "text": [
      "shape (89854, 20)\n",
      "---isnull follows---\n",
      "Lot              0\n",
      "ZipCode        329\n",
      "Address         69\n",
      "LotArea          0\n",
      "BldgArea         0\n",
      "ResArea          0\n",
      "OfficeArea       0\n",
      "RetailArea       0\n",
      "NumBldgs         0\n",
      "NumFloors        0\n",
      "LotDepth         0\n",
      "BldgDepth        0\n",
      "YearBuilt        0\n",
      "YearAlter1       0\n",
      "BuiltFAR         0\n",
      "ResidFAR         0\n",
      "CommFAR          0\n",
      "FacilFAR         0\n",
      "XCoord        3259\n",
      "YCoord        3259\n",
      "dtype: int64\n"
     ]
    },
    {
     "data": {
      "text/html": [
       "<div>\n",
       "<style scoped>\n",
       "    .dataframe tbody tr th:only-of-type {\n",
       "        vertical-align: middle;\n",
       "    }\n",
       "\n",
       "    .dataframe tbody tr th {\n",
       "        vertical-align: top;\n",
       "    }\n",
       "\n",
       "    .dataframe thead th {\n",
       "        text-align: right;\n",
       "    }\n",
       "</style>\n",
       "<table border=\"1\" class=\"dataframe\">\n",
       "  <thead>\n",
       "    <tr style=\"text-align: right;\">\n",
       "      <th></th>\n",
       "      <th>Lot</th>\n",
       "      <th>ZipCode</th>\n",
       "      <th>Address</th>\n",
       "      <th>LotArea</th>\n",
       "      <th>BldgArea</th>\n",
       "      <th>ResArea</th>\n",
       "      <th>OfficeArea</th>\n",
       "      <th>RetailArea</th>\n",
       "      <th>NumBldgs</th>\n",
       "      <th>NumFloors</th>\n",
       "      <th>LotDepth</th>\n",
       "      <th>BldgDepth</th>\n",
       "      <th>YearBuilt</th>\n",
       "      <th>YearAlter1</th>\n",
       "      <th>BuiltFAR</th>\n",
       "      <th>ResidFAR</th>\n",
       "      <th>CommFAR</th>\n",
       "      <th>FacilFAR</th>\n",
       "      <th>XCoord</th>\n",
       "      <th>YCoord</th>\n",
       "    </tr>\n",
       "  </thead>\n",
       "  <tbody>\n",
       "    <tr>\n",
       "      <th>0</th>\n",
       "      <td>1</td>\n",
       "      <td>10454.0</td>\n",
       "      <td>122 BRUCKNER BOULEVARD</td>\n",
       "      <td>15000</td>\n",
       "      <td>0</td>\n",
       "      <td>0</td>\n",
       "      <td>0</td>\n",
       "      <td>0</td>\n",
       "      <td>1</td>\n",
       "      <td>0.0</td>\n",
       "      <td>200.0</td>\n",
       "      <td>0.0</td>\n",
       "      <td>0</td>\n",
       "      <td>0</td>\n",
       "      <td>0.00</td>\n",
       "      <td>6.02</td>\n",
       "      <td>5.0</td>\n",
       "      <td>6.5</td>\n",
       "      <td>1005957.0</td>\n",
       "      <td>232162.0</td>\n",
       "    </tr>\n",
       "    <tr>\n",
       "      <th>1</th>\n",
       "      <td>4</td>\n",
       "      <td>10454.0</td>\n",
       "      <td>126 BRUCKNER BOULEVARD</td>\n",
       "      <td>13770</td>\n",
       "      <td>752</td>\n",
       "      <td>0</td>\n",
       "      <td>272</td>\n",
       "      <td>0</td>\n",
       "      <td>2</td>\n",
       "      <td>1.0</td>\n",
       "      <td>100.0</td>\n",
       "      <td>16.0</td>\n",
       "      <td>1931</td>\n",
       "      <td>1994</td>\n",
       "      <td>0.05</td>\n",
       "      <td>6.02</td>\n",
       "      <td>5.0</td>\n",
       "      <td>6.5</td>\n",
       "      <td>1006076.0</td>\n",
       "      <td>232156.0</td>\n",
       "    </tr>\n",
       "    <tr>\n",
       "      <th>2</th>\n",
       "      <td>10</td>\n",
       "      <td>10454.0</td>\n",
       "      <td>138 BRUCKNER BOULEVARD</td>\n",
       "      <td>35000</td>\n",
       "      <td>39375</td>\n",
       "      <td>0</td>\n",
       "      <td>0</td>\n",
       "      <td>0</td>\n",
       "      <td>1</td>\n",
       "      <td>2.0</td>\n",
       "      <td>200.0</td>\n",
       "      <td>200.0</td>\n",
       "      <td>1931</td>\n",
       "      <td>0</td>\n",
       "      <td>1.13</td>\n",
       "      <td>6.02</td>\n",
       "      <td>5.0</td>\n",
       "      <td>6.5</td>\n",
       "      <td>1006187.0</td>\n",
       "      <td>232036.0</td>\n",
       "    </tr>\n",
       "    <tr>\n",
       "      <th>3</th>\n",
       "      <td>17</td>\n",
       "      <td>10454.0</td>\n",
       "      <td>144 BRUCKNER BOULEVARD</td>\n",
       "      <td>2500</td>\n",
       "      <td>12500</td>\n",
       "      <td>12500</td>\n",
       "      <td>0</td>\n",
       "      <td>0</td>\n",
       "      <td>1</td>\n",
       "      <td>5.0</td>\n",
       "      <td>100.0</td>\n",
       "      <td>85.0</td>\n",
       "      <td>1931</td>\n",
       "      <td>2001</td>\n",
       "      <td>5.00</td>\n",
       "      <td>6.02</td>\n",
       "      <td>5.0</td>\n",
       "      <td>6.5</td>\n",
       "      <td>1006299.0</td>\n",
       "      <td>232033.0</td>\n",
       "    </tr>\n",
       "    <tr>\n",
       "      <th>4</th>\n",
       "      <td>18</td>\n",
       "      <td>10454.0</td>\n",
       "      <td>148 BRUCKNER BOULEVARD</td>\n",
       "      <td>1875</td>\n",
       "      <td>8595</td>\n",
       "      <td>6876</td>\n",
       "      <td>0</td>\n",
       "      <td>1719</td>\n",
       "      <td>1</td>\n",
       "      <td>5.0</td>\n",
       "      <td>75.0</td>\n",
       "      <td>70.0</td>\n",
       "      <td>1920</td>\n",
       "      <td>2009</td>\n",
       "      <td>4.58</td>\n",
       "      <td>6.02</td>\n",
       "      <td>5.0</td>\n",
       "      <td>6.5</td>\n",
       "      <td>1006363.0</td>\n",
       "      <td>232040.0</td>\n",
       "    </tr>\n",
       "  </tbody>\n",
       "</table>\n",
       "</div>"
      ],
      "text/plain": [
       "   Lot  ZipCode                 Address  LotArea  BldgArea  ResArea  \\\n",
       "0    1  10454.0  122 BRUCKNER BOULEVARD    15000         0        0   \n",
       "1    4  10454.0  126 BRUCKNER BOULEVARD    13770       752        0   \n",
       "2   10  10454.0  138 BRUCKNER BOULEVARD    35000     39375        0   \n",
       "3   17  10454.0  144 BRUCKNER BOULEVARD     2500     12500    12500   \n",
       "4   18  10454.0  148 BRUCKNER BOULEVARD     1875      8595     6876   \n",
       "\n",
       "   OfficeArea  RetailArea  NumBldgs  NumFloors  LotDepth  BldgDepth  \\\n",
       "0           0           0         1        0.0     200.0        0.0   \n",
       "1         272           0         2        1.0     100.0       16.0   \n",
       "2           0           0         1        2.0     200.0      200.0   \n",
       "3           0           0         1        5.0     100.0       85.0   \n",
       "4           0        1719         1        5.0      75.0       70.0   \n",
       "\n",
       "   YearBuilt  YearAlter1  BuiltFAR  ResidFAR  CommFAR  FacilFAR     XCoord  \\\n",
       "0          0           0      0.00      6.02      5.0       6.5  1005957.0   \n",
       "1       1931        1994      0.05      6.02      5.0       6.5  1006076.0   \n",
       "2       1931           0      1.13      6.02      5.0       6.5  1006187.0   \n",
       "3       1931        2001      5.00      6.02      5.0       6.5  1006299.0   \n",
       "4       1920        2009      4.58      6.02      5.0       6.5  1006363.0   \n",
       "\n",
       "     YCoord  \n",
       "0  232162.0  \n",
       "1  232156.0  \n",
       "2  232036.0  \n",
       "3  232033.0  \n",
       "4  232040.0  "
      ]
     },
     "execution_count": 11,
     "metadata": {},
     "output_type": "execute_result"
    }
   ],
   "source": [
    "print(\"shape %s\" % str(df.shape))\n",
    "print(\"---isnull follows---\")\n",
    "print(df.isnull().sum())\n",
    "df.head()"
   ]
  },
  {
   "cell_type": "markdown",
   "metadata": {},
   "source": [
    "### General"
   ]
  },
  {
   "cell_type": "code",
   "execution_count": 12,
   "metadata": {},
   "outputs": [
    {
     "data": {
      "text/plain": [
       "Lot             int64\n",
       "ZipCode       float64\n",
       "Address        object\n",
       "LotArea         int64\n",
       "BldgArea        int64\n",
       "ResArea         int64\n",
       "OfficeArea      int64\n",
       "RetailArea      int64\n",
       "NumBldgs        int64\n",
       "NumFloors     float64\n",
       "LotDepth      float64\n",
       "BldgDepth     float64\n",
       "YearBuilt       int64\n",
       "YearAlter1      int64\n",
       "BuiltFAR      float64\n",
       "ResidFAR      float64\n",
       "CommFAR       float64\n",
       "FacilFAR      float64\n",
       "XCoord        float64\n",
       "YCoord        float64\n",
       "dtype: object"
      ]
     },
     "execution_count": 12,
     "metadata": {},
     "output_type": "execute_result"
    }
   ],
   "source": [
    "df.dtypes"
   ]
  },
  {
   "cell_type": "code",
   "execution_count": 13,
   "metadata": {},
   "outputs": [],
   "source": [
    "#Adjust relevant strings to uppercase so different casing won't appear as separate values.\n",
    "df['Address'] = df['Address'].str.upper()"
   ]
  },
  {
   "cell_type": "code",
   "execution_count": 14,
   "metadata": {},
   "outputs": [],
   "source": [
    "# Drop the observations with missing address as there will be no way to tie them to any 311 data.\n",
    "df.dropna(subset=['Address'], axis=0, inplace=True)\n",
    "df.reset_index(drop=True, inplace=True)"
   ]
  },
  {
   "cell_type": "markdown",
   "metadata": {},
   "source": [
    "## Standardization of Addresses\n",
    "Leveraging standardization methods developed during question 2."
   ]
  },
  {
   "cell_type": "code",
   "execution_count": 15,
   "metadata": {},
   "outputs": [
    {
     "name": "stdout",
     "output_type": "stream",
     "text": [
      "BRONX 311 unique addresses: 23690\n",
      "BRONX PLUTO unique addresses: 87017\n"
     ]
    }
   ],
   "source": [
    "print(\"BRONX 311 unique addresses: %s\" % b311['incident_address'].unique().size)\n",
    "print(\"BRONX PLUTO unique addresses: %s\" % df['Address'].unique().size)"
   ]
  },
  {
   "cell_type": "markdown",
   "metadata": {},
   "source": [
    "<p style=\"color:Red;\">Determine how much overlap.  Ideally all 29K BRONX 311 addresses will be represented in the PLUTO set.</p>"
   ]
  },
  {
   "cell_type": "code",
   "execution_count": 16,
   "metadata": {},
   "outputs": [],
   "source": [
    "def WhichAddressesNotInPluto(howManyTopToShow):\n",
    "    complaints = set(b311['incident_address'].unique())\n",
    "    pluto = set(df['Address'].unique())\n",
    "    #Determine which 311 addresses were not found in PLUTO to gain insight as to why.\n",
    "    differences = complaints.difference(pluto)\n",
    "    print(\"Records not in PLUTO: %s.  Percent: %s\" % (len(differences), \"{:.2%}\".format(len(differences) / len(complaints))))\n",
    "    print(\"---Top %i---\" % howManyTopToShow)\n",
    "    print(b311[b311['incident_address'].isin(differences)]['incident_address'].value_counts().head(howManyTopToShow))"
   ]
  },
  {
   "cell_type": "code",
   "execution_count": 17,
   "metadata": {},
   "outputs": [
    {
     "name": "stdout",
     "output_type": "stream",
     "text": [
      "Records not in PLUTO: 5335.  Percent: 22.52%\n",
      "---Top 3---\n",
      "2090 EAST TREMONT AVENUE         3748\n",
      "266 BEDFORD PARK BOULEVARD       2527\n",
      "1425 DR M L KING JR BOULEVARD    2283\n",
      "Name: incident_address, dtype: int64\n"
     ]
    }
   ],
   "source": [
    "WhichAddressesNotInPluto(3)"
   ]
  },
  {
   "cell_type": "markdown",
   "metadata": {},
   "source": [
    "<p style=\"color:Red;\">Over 20 percent of addresses in the BRONX 311 data cannot be merged to the BRONX PLUTO data prior to standardization.</p>"
   ]
  },
  {
   "cell_type": "markdown",
   "metadata": {},
   "source": [
    "### Borrow some python functions developed during question 2\n",
    "With minor improvements to better work with full addresses instead of just street names."
   ]
  },
  {
   "cell_type": "code",
   "execution_count": 18,
   "metadata": {},
   "outputs": [],
   "source": [
    "# Some street values have multiple spaces in a row.\n",
    "import re\n",
    "def standardize_spaces(raw):\n",
    "    result = raw.strip() #Remove leading and trailing spaces.\n",
    "    result = re.sub(' +', ' ', result) #Squeeze multiple adjacent spaces into just one space.\n",
    "    return result"
   ]
  },
  {
   "cell_type": "code",
   "execution_count": 19,
   "metadata": {},
   "outputs": [],
   "source": [
    "# Some streets have problematic characters.  For example:  ST. ANN'S AVENUE also exists without period or apostophe.\n",
    "problem_characters = ['.', '\\'']\n",
    "def replace_problem_characters(raw):\n",
    "    result = raw\n",
    "    for (character) in problem_characters:\n",
    "        result = result.replace(character,'')\n",
    "    return result"
   ]
  },
  {
   "cell_type": "code",
   "execution_count": 20,
   "metadata": {},
   "outputs": [],
   "source": [
    "#Some words are sometimes entered in a non-standard way or with typos need to be standardized.\n",
    "word_replacements = [(\"AVE\",\"AVENUE\"),(\"ST\",\"STREET\"),(\"RD\",\"ROAD\"),(\"FT\",\"FORT\"),(\"BX\",\"BRONX\"),(\"MT\",\"MOUNT\"),\n",
    "                     (\"NICHLAS\",\"NICHOLAS\"),(\"NICHALOS\",\"NICHOLAS\"),(\"EXPRE\",\"EXPRESSWAY\"),(\"HARACE\",\"HORACE\"),\n",
    "                     (\"NO\",\"NORTH\"),(\"AV\",\"AVENUE\"),(\"CRK\",\"CREEK\"),(\"FR\",\"FATHER\"),(\"JR\",\"JUNIOR\"),(\"GR\",\"GRAND\"),\n",
    "                     (\"CT\",\"COURT\"),\n",
    "                     (\"SR\",\"\"), # Service Road.  These are always near a similarly named street.  Lump together.\n",
    "                     (\"QN\",\"QUEENS\"),\n",
    "                     (\"ND\",\"\"), # A space between a number and ND such as EAST 52 ND STREET.  Note ST and RD can be street or road.\n",
    "                     (\"PO\",\"POND\"),(\"BO\",\"BOND\"),(\"GRA\",\"GRAND\"),(\"REV\",\"REVEREND\"),(\"CO-OP\",\"COOP\"),\n",
    "                     (\"GRANDCONCOURSE\", \"GRAND CONCOURSE\"),(\"CENTRL\", \"CENTRAL\"),(\"BLVD\",\"BOULEVARD\"),\n",
    "                     (\"FREDRICK\", \"FREDERICK\"),(\"DOUGLAS\", \"DOUGLASS\"),(\"MALCOM\", \"MALCOMN\"),\n",
    "                     (\"NORTHEN\", \"NORTHERN\"),(\"AVNEUE\",\"AVENUE\"),\n",
    "                    (\"N\",\"NORTH\"),(\"S\",\"SOUTH\"),(\"E\",\"EAST\"),(\"W\",\"WEST\"),(\"SW\",\"SOUTHWEST\"),\n",
    "                             (\"NW\",\"NORTHWEST\"),(\"SE\",\"SOUTHEAST\"),(\"NE\",\"NORTHEAST\")]\n",
    "def replace_words(raw):\n",
    "    split_raw = raw.split()\n",
    "    for (old, new) in word_replacements:\n",
    "        found_at_index = next((i for i, x in enumerate(split_raw) if x==old), None)\n",
    "        if found_at_index!=None:\n",
    "            split_raw[found_at_index] = new\n",
    "    return standardize_spaces(\" \".join(split_raw))"
   ]
  },
  {
   "cell_type": "code",
   "execution_count": 21,
   "metadata": {},
   "outputs": [],
   "source": [
    "#Some words are actually prefixes of the following word.  Example the LA prefix of LA GRANGE.\n",
    "word_prefixes = [\"DE\",\"MC\",\"LA\",\"VAN\",\"MAC\",\"CO\"]\n",
    "def concatenate_prefixes(raw):\n",
    "    split_raw = raw.split()\n",
    "    last_word = len(split_raw) - 1\n",
    "    for (prefix) in word_prefixes:\n",
    "        found_at_index = next((i for i, x in enumerate(split_raw) if x==prefix), None)\n",
    "        if found_at_index!=None:\n",
    "            if len(split_raw)>1:\n",
    "                if found_at_index != last_word:\n",
    "                    split_raw[found_at_index] = ''\n",
    "                    split_raw[found_at_index+1] = prefix + split_raw[found_at_index+1]\n",
    "                    return standardize_spaces(\" \".join(split_raw))\n",
    "    return raw"
   ]
  },
  {
   "cell_type": "code",
   "execution_count": 22,
   "metadata": {},
   "outputs": [],
   "source": [
    "#Some phrases need custom replacement because they involve multiple words or easily mis-interpretted out of context.\n",
    "phrase_replacements = [(\"DR M L KING JR\",\"MARTIN LUTHER KING\"),(\"DR MARTIN L KING\",\"MARTIN LUTHER KING\"),\n",
    "    (\"MARTIN LUTHER KING\",\"MARTIN LUTHER KING\"),(\"MARTIN L KING JR\",\"MARTIN LUTHER KING\"),\n",
    "    (\"MARTIN L KING\",\"MARTIN LUTHER KING\"),(\"ST NICHOLAS\",\"SAINT NICHOLAS\"),(\"ST JOHN\",\"SAINT JOHN\"),\n",
    "    (\"ST MARK\",\"SAINT MARK\"),(\"ST ANN\",\"SAINT ANN\"),(\"ST LAWRENCE\",\"SAINT LAWRENCE\"),(\"ST PAUL\",\"SAINT PAUL\"),\n",
    "    (\"ST PETER\",\"SAINT PETER\"),(\"ST RAYMOND\",\"SAINT RAYMOND\"),(\"ST THERESA\",\"SAINT THERESA\"),(\"ST FELIX\",\"SAINT FELIX\"),\n",
    "    (\"ST MARY\",\"SAINT MARY\"),(\"ST OUEN\",\"SAINT OUEN\"),(\"ST JAMES\",\"SAINT JAMES\"),(\"ST GEORGE\",\"SAINT GEORGE\"),\n",
    "    (\"ST EDWARD\",\"SAINT EDWARD\"),(\"ST CHARLES\",\"SAINT CHARLES\"),(\"ST FRANCIS\",\"SAINT FRANCIS\"),\n",
    "    (\"ST ANDREW\",\"SAINT ANDREW\"),(\"ST JUDE\",\"SAINT JUDE\"),(\"ST LUKE\",\"SAINT LUKE\"),(\"ST JOSEPH\",\"SAINT JOSEPH\"),\n",
    "    (\"N D PERLMAN\",\"NATHAN PERLMAN\"),(\"O BRIEN\",\"OBRIEN\"),(\"F D R\",\"FDR\"),(\"EXPRESSWAY N SR\",\"EXPRESSWAY SR N\"),\n",
    "    (\"HOR HARDING\",\"HORACE HARDING\"),\n",
    "    (\"SERVICE ROAD\",\"\"), # These are always near a similarly named street. Lump together.\n",
    "    (\"DUMMY\",\"\"),(\"ADAM C POWELL\",\"ADAM CLAYTON POWELL\"),(\"POWELL COVE\",\"POWELLS COVE\")]\n",
    "def replace_phrases(raw):\n",
    "    result = raw\n",
    "    for (old,new) in phrase_replacements:\n",
    "        result = standardize_spaces(result.replace(old,new))\n",
    "    return result"
   ]
  },
  {
   "cell_type": "code",
   "execution_count": 23,
   "metadata": {},
   "outputs": [],
   "source": [
    "# 1ST, 2ND, 3RD, 4TH, ... nTH\n",
    "# Remove the suffixes leaving the numbers by themselves.\n",
    "number_suffixes = [\"ST\",\"ND\",\"RD\",\"TH\"]\n",
    "digits=[\"1\",\"2\",\"3\",\"4\",\"5\",\"6\",\"7\",\"8\",\"9\",\"0\"]\n",
    "def remove_number_suffixes(raw):\n",
    "    split_raw = raw.split()\n",
    "    for suffix in number_suffixes:\n",
    "        found_at_index = next((i for i, x in enumerate(split_raw) if x[0] in digits and x.endswith(suffix)), None) \n",
    "        if found_at_index!=None:            \n",
    "            split_raw[found_at_index] = split_raw[found_at_index][:-2]\n",
    "            return standardize_spaces(\" \".join(split_raw))\n",
    "    return raw"
   ]
  },
  {
   "cell_type": "code",
   "execution_count": 24,
   "metadata": {},
   "outputs": [],
   "source": [
    "def standardize_street(street):\n",
    "    r = street \n",
    "    r = standardize_spaces(r) \n",
    "    r = replace_problem_characters(r) \n",
    "    r = replace_phrases(r) \n",
    "    r = replace_words(r) \n",
    "    r = concatenate_prefixes(r) \n",
    "    r = remove_number_suffixes(r) \n",
    "    return r"
   ]
  },
  {
   "cell_type": "markdown",
   "metadata": {},
   "source": [
    "### Standardize the address in both the 311 and PLUTO data"
   ]
  },
  {
   "cell_type": "code",
   "execution_count": 25,
   "metadata": {},
   "outputs": [],
   "source": [
    "b311['incident_address'] = b311['incident_address'].apply(standardize_street)"
   ]
  },
  {
   "cell_type": "code",
   "execution_count": 26,
   "metadata": {},
   "outputs": [],
   "source": [
    "df['Address'] = df['Address'].apply(standardize_street)"
   ]
  },
  {
   "cell_type": "code",
   "execution_count": 27,
   "metadata": {},
   "outputs": [
    {
     "name": "stdout",
     "output_type": "stream",
     "text": [
      "Records not in PLUTO: 2436.  Percent: 11.24%\n",
      "---Top 3---\n",
      "2090 EAST TREMONT AVENUE             3748\n",
      "1425 MARTIN LUTHER KING BOULEVARD    2283\n",
      "223 NAPLES TERRACE                   1119\n",
      "Name: incident_address, dtype: int64\n"
     ]
    }
   ],
   "source": [
    "# See if there was an improvement in how well the 311 data can be merged with the PLUTO data by address.\n",
    "WhichAddressesNotInPluto(3)"
   ]
  },
  {
   "cell_type": "markdown",
   "metadata": {},
   "source": [
    "<p style=\"color:Red;\">The percentage of addresses in the 311 data that can be matched to an entry in the PLUTO data set improved measurably.</p>"
   ]
  },
  {
   "cell_type": "code",
   "execution_count": 28,
   "metadata": {},
   "outputs": [],
   "source": [
    "#Save the file to more quickly repeat additional work below.\n",
    "df.to_pickle(files_path + 'q3clean.pkl')"
   ]
  },
  {
   "cell_type": "markdown",
   "metadata": {},
   "source": [
    "## Add variable to indicate how many HEAT complaints at each address.\n",
    "So that we can see if it correlates to anything else in the data."
   ]
  },
  {
   "cell_type": "code",
   "execution_count": 29,
   "metadata": {},
   "outputs": [],
   "source": [
    "df = pd.read_pickle(files_path + 'q3clean.pkl')"
   ]
  },
  {
   "cell_type": "code",
   "execution_count": 30,
   "metadata": {},
   "outputs": [],
   "source": [
    "#How many complaints at the address?\n",
    "counts = b311['incident_address'].value_counts(sort=False).sort_index()\n",
    "df['Complaints'] = df['Address'].map(counts)\n",
    "df['Complaints'].replace(to_replace=np.nan, value=0, inplace=True)"
   ]
  },
  {
   "cell_type": "code",
   "execution_count": 31,
   "metadata": {},
   "outputs": [],
   "source": [
    "#del b311 # Maybe save a little memory later"
   ]
  },
  {
   "cell_type": "code",
   "execution_count": 32,
   "metadata": {},
   "outputs": [
    {
     "name": "stdout",
     "output_type": "stream",
     "text": [
      "(89785, 21)\n"
     ]
    },
    {
     "data": {
      "text/plain": [
       "0.0    70520\n",
       "1.0     4874\n",
       "2.0     2285\n",
       "3.0     1380\n",
       "4.0     1012\n",
       "Name: Complaints, dtype: int64"
      ]
     },
     "execution_count": 32,
     "metadata": {},
     "output_type": "execute_result"
    }
   ],
   "source": [
    "print (df.shape)\n",
    "df['Complaints'].value_counts().head()"
   ]
  },
  {
   "cell_type": "code",
   "execution_count": 33,
   "metadata": {},
   "outputs": [
    {
     "data": {
      "text/plain": [
       "89785"
      ]
     },
     "execution_count": 33,
     "metadata": {},
     "output_type": "execute_result"
    }
   ],
   "source": [
    "#Convert each unique address into a unique number.\n",
    "#A category with a lot of different values, not a continuous value.\n",
    "address_lookup = {k:v + 1 for v, k in enumerate(df['Address'].unique().tolist())}\n",
    "df[\"Address\"] = df[\"Address\"].map(address_lookup)\n",
    "len(df)"
   ]
  },
  {
   "cell_type": "code",
   "execution_count": 34,
   "metadata": {},
   "outputs": [],
   "source": [
    "#Save the file to more quickly repeat additional work below.\n",
    "df.to_pickle(files_path + 'q3clean.pkl')"
   ]
  },
  {
   "cell_type": "markdown",
   "metadata": {},
   "source": [
    "<p style=\"color:Red;\">Saving the data allows restarting from this point without needing to wait for standardization of addresses and other time to be repeated as work continues.</p>"
   ]
  },
  {
   "cell_type": "markdown",
   "metadata": {},
   "source": [
    "## Imputation\n",
    "Handling \"missing\" features.  That are null or have a zero placeholder instead of a \"real\" value."
   ]
  },
  {
   "cell_type": "code",
   "execution_count": 35,
   "metadata": {},
   "outputs": [],
   "source": [
    "df = pd.read_pickle(files_path + 'q3clean.pkl')"
   ]
  },
  {
   "cell_type": "code",
   "execution_count": 36,
   "metadata": {},
   "outputs": [
    {
     "name": "stdout",
     "output_type": "stream",
     "text": [
      "ZipCode:  263 of 89785 (0.29%)\n",
      "XCoord:  3190 of 89785 (3.55%)\n",
      "YCoord:  3190 of 89785 (3.55%)\n"
     ]
    }
   ],
   "source": [
    "def check_nulls():\n",
    "    for col in df.columns:\n",
    "        nulls = len(df[df[col].isnull()])\n",
    "        if nulls > 0:\n",
    "            print(\"%s:  %i of %i (%s)\" % (col, nulls, df.shape[0], \"{:.2%}\".format(nulls / df.shape[0])))\n",
    "check_nulls()"
   ]
  },
  {
   "cell_type": "code",
   "execution_count": 37,
   "metadata": {},
   "outputs": [],
   "source": [
    "#Replace with zeroes to kick these forward to the next section.\n",
    "df['ZipCode'].replace(to_replace=np.nan, value=0, inplace=True)\n",
    "df['XCoord'].replace(to_replace=np.nan, value=0, inplace=True)\n",
    "df['YCoord'].replace(to_replace=np.nan, value=0, inplace=True)\n",
    "check_nulls()"
   ]
  },
  {
   "cell_type": "code",
   "execution_count": 38,
   "metadata": {},
   "outputs": [
    {
     "name": "stdout",
     "output_type": "stream",
     "text": [
      "ZipCode:  263 of 89785 (0.29%)\n",
      "LotArea:  234 of 89785 (0.26%)\n",
      "BldgArea:  6355 of 89785 (7.08%)\n",
      "ResArea:  14419 of 89785 (16.06%)\n",
      "OfficeArea:  87250 of 89785 (97.18%)\n",
      "RetailArea:  83893 of 89785 (93.44%)\n",
      "NumBldgs:  6002 of 89785 (6.68%)\n",
      "NumFloors:  6480 of 89785 (7.22%)\n",
      "LotDepth:  192 of 89785 (0.21%)\n",
      "BldgDepth:  6618 of 89785 (7.37%)\n",
      "YearBuilt:  6299 of 89785 (7.02%)\n",
      "YearAlter1:  81843 of 89785 (91.15%)\n",
      "BuiltFAR:  6452 of 89785 (7.19%)\n",
      "ResidFAR:  4295 of 89785 (4.78%)\n",
      "CommFAR:  83764 of 89785 (93.29%)\n",
      "FacilFAR:  1042 of 89785 (1.16%)\n",
      "XCoord:  3190 of 89785 (3.55%)\n",
      "YCoord:  3190 of 89785 (3.55%)\n",
      "Complaints:  70520 of 89785 (78.54%)\n"
     ]
    }
   ],
   "source": [
    "def check_zeroes():\n",
    "    for col in df.columns:\n",
    "        zeroes = len(df[df[col].eq(0)])\n",
    "        if zeroes > 0:\n",
    "            print(\"%s:  %i of %i (%s)\" % (col, zeroes, df.shape[0], \"{:.2%}\".format(zeroes / df.shape[0])))\n",
    "check_zeroes()"
   ]
  },
  {
   "cell_type": "code",
   "execution_count": 39,
   "metadata": {},
   "outputs": [
    {
     "name": "stdout",
     "output_type": "stream",
     "text": [
      "ResArea:  7463 of 82449 (9.05%)\n",
      "OfficeArea:  80067 of 82449 (97.11%)\n",
      "RetailArea:  76654 of 82449 (92.97%)\n",
      "NumBldgs:  61 of 82449 (0.07%)\n",
      "NumFloors:  114 of 82449 (0.14%)\n",
      "YearBuilt:  7 of 82449 (0.01%)\n",
      "YearAlter1:  74686 of 82449 (90.58%)\n",
      "ResidFAR:  2441 of 82449 (2.96%)\n",
      "CommFAR:  78220 of 82449 (94.87%)\n",
      "XCoord:  248 of 82449 (0.30%)\n",
      "YCoord:  248 of 82449 (0.30%)\n",
      "Complaints:  63424 of 82449 (76.93%)\n"
     ]
    }
   ],
   "source": [
    "# Drop rows that have only a small number of zero values in a column.\n",
    "df.drop(df[df[\"ZipCode\"].eq(0)].index, axis=0, inplace=True)\n",
    "df.drop(df[df[\"LotArea\"].eq(0)].index, axis=0, inplace=True)\n",
    "df.drop(df[df[\"LotDepth\"].eq(0)].index, axis=0, inplace=True)\n",
    "df.drop(df[df[\"BldgDepth\"].eq(0)].index, axis=0, inplace=True)\n",
    "df.drop(df[df[\"BuiltFAR\"].eq(0)].index, axis=0, inplace=True)\n",
    "df.drop(df[df[\"FacilFAR\"].eq(0)].index, axis=0, inplace=True)\n",
    "df.reset_index(drop=True, inplace=True)\n",
    "check_zeroes()"
   ]
  },
  {
   "cell_type": "code",
   "execution_count": 40,
   "metadata": {},
   "outputs": [
    {
     "name": "stdout",
     "output_type": "stream",
     "text": [
      "ResArea:  7284 of 82044 (8.88%)\n",
      "OfficeArea:  79675 of 82044 (97.11%)\n",
      "RetailArea:  76268 of 82044 (92.96%)\n",
      "YearAlter1:  74331 of 82044 (90.60%)\n",
      "ResidFAR:  2408 of 82044 (2.94%)\n",
      "CommFAR:  77883 of 82044 (94.93%)\n",
      "Complaints:  63065 of 82044 (76.87%)\n"
     ]
    }
   ],
   "source": [
    "# May need to drop more rows, that had columns with a lot of zeroes in multiple columns.\n",
    "df.drop(df[df[\"NumBldgs\"].eq(0)].index, axis=0, inplace=True)\n",
    "df.drop(df[df[\"NumFloors\"].eq(0)].index, axis=0, inplace=True)\n",
    "df.drop(df[df[\"YearBuilt\"].eq(0)].index, axis=0, inplace=True)\n",
    "df.drop(df[df[\"XCoord\"].eq(0)].index, axis=0, inplace=True)\n",
    "df.drop(df[df[\"YCoord\"].eq(0)].index, axis=0, inplace=True)\n",
    "df.reset_index(drop=True, inplace=True)\n",
    "check_zeroes()"
   ]
  },
  {
   "cell_type": "markdown",
   "metadata": {},
   "source": [
    "<p style=\"color:Red;\">Several features have a significant number of zeroes.  Some even a vast majority of zero values.  This means simply the fact that there was a zero or not could be an important thing to correlate.  I am going to create latent variables for each simply to record the presence of the value or not.  These latent variables can themselves be used to filter when doing regression checks on the root feature.  The latent variables themselves can even be the subject of regression checks.</p>"
   ]
  },
  {
   "cell_type": "code",
   "execution_count": 41,
   "metadata": {},
   "outputs": [],
   "source": [
    "df.insert(len(df.columns) - 1, 'IsResArea', df['ResArea'].ne(0).astype('int64'))\n",
    "df.insert(len(df.columns) - 1, 'IsOfficeArea', df['OfficeArea'].ne(0).astype('int64'))\n",
    "df.insert(len(df.columns) - 1, 'IsRetailArea', df['RetailArea'].ne(0).astype('int64'))\n",
    "df.insert(len(df.columns) - 1, 'IsYearAlter1', df['YearAlter1'].ne(0).astype('int64'))\n",
    "df.insert(len(df.columns) - 1, 'IsResidFAR', df['ResidFAR'].ne(0).astype('int64'))\n",
    "df.insert(len(df.columns) - 1, 'IsCommFAR', df['CommFAR'].ne(0).astype('int64'))"
   ]
  },
  {
   "cell_type": "code",
   "execution_count": 42,
   "metadata": {},
   "outputs": [
    {
     "data": {
      "text/html": [
       "<div>\n",
       "<style scoped>\n",
       "    .dataframe tbody tr th:only-of-type {\n",
       "        vertical-align: middle;\n",
       "    }\n",
       "\n",
       "    .dataframe tbody tr th {\n",
       "        vertical-align: top;\n",
       "    }\n",
       "\n",
       "    .dataframe thead th {\n",
       "        text-align: right;\n",
       "    }\n",
       "</style>\n",
       "<table border=\"1\" class=\"dataframe\">\n",
       "  <thead>\n",
       "    <tr style=\"text-align: right;\">\n",
       "      <th></th>\n",
       "      <th>Lot</th>\n",
       "      <th>ZipCode</th>\n",
       "      <th>Address</th>\n",
       "      <th>LotArea</th>\n",
       "      <th>BldgArea</th>\n",
       "      <th>ResArea</th>\n",
       "      <th>OfficeArea</th>\n",
       "      <th>RetailArea</th>\n",
       "      <th>NumBldgs</th>\n",
       "      <th>NumFloors</th>\n",
       "      <th>...</th>\n",
       "      <th>FacilFAR</th>\n",
       "      <th>XCoord</th>\n",
       "      <th>YCoord</th>\n",
       "      <th>IsResArea</th>\n",
       "      <th>IsOfficeArea</th>\n",
       "      <th>IsRetailArea</th>\n",
       "      <th>IsYearAlter1</th>\n",
       "      <th>IsResidFAR</th>\n",
       "      <th>IsCommFAR</th>\n",
       "      <th>Complaints</th>\n",
       "    </tr>\n",
       "  </thead>\n",
       "  <tbody>\n",
       "    <tr>\n",
       "      <th>0</th>\n",
       "      <td>4</td>\n",
       "      <td>10454.0</td>\n",
       "      <td>2</td>\n",
       "      <td>13770</td>\n",
       "      <td>752</td>\n",
       "      <td>0</td>\n",
       "      <td>272</td>\n",
       "      <td>0</td>\n",
       "      <td>2</td>\n",
       "      <td>1.0</td>\n",
       "      <td>...</td>\n",
       "      <td>6.5</td>\n",
       "      <td>1006076.0</td>\n",
       "      <td>232156.0</td>\n",
       "      <td>0</td>\n",
       "      <td>1</td>\n",
       "      <td>0</td>\n",
       "      <td>1</td>\n",
       "      <td>1</td>\n",
       "      <td>1</td>\n",
       "      <td>0.0</td>\n",
       "    </tr>\n",
       "    <tr>\n",
       "      <th>1</th>\n",
       "      <td>10</td>\n",
       "      <td>10454.0</td>\n",
       "      <td>3</td>\n",
       "      <td>35000</td>\n",
       "      <td>39375</td>\n",
       "      <td>0</td>\n",
       "      <td>0</td>\n",
       "      <td>0</td>\n",
       "      <td>1</td>\n",
       "      <td>2.0</td>\n",
       "      <td>...</td>\n",
       "      <td>6.5</td>\n",
       "      <td>1006187.0</td>\n",
       "      <td>232036.0</td>\n",
       "      <td>0</td>\n",
       "      <td>0</td>\n",
       "      <td>0</td>\n",
       "      <td>0</td>\n",
       "      <td>1</td>\n",
       "      <td>1</td>\n",
       "      <td>0.0</td>\n",
       "    </tr>\n",
       "    <tr>\n",
       "      <th>2</th>\n",
       "      <td>17</td>\n",
       "      <td>10454.0</td>\n",
       "      <td>4</td>\n",
       "      <td>2500</td>\n",
       "      <td>12500</td>\n",
       "      <td>12500</td>\n",
       "      <td>0</td>\n",
       "      <td>0</td>\n",
       "      <td>1</td>\n",
       "      <td>5.0</td>\n",
       "      <td>...</td>\n",
       "      <td>6.5</td>\n",
       "      <td>1006299.0</td>\n",
       "      <td>232033.0</td>\n",
       "      <td>1</td>\n",
       "      <td>0</td>\n",
       "      <td>0</td>\n",
       "      <td>1</td>\n",
       "      <td>1</td>\n",
       "      <td>1</td>\n",
       "      <td>2.0</td>\n",
       "    </tr>\n",
       "    <tr>\n",
       "      <th>3</th>\n",
       "      <td>18</td>\n",
       "      <td>10454.0</td>\n",
       "      <td>5</td>\n",
       "      <td>1875</td>\n",
       "      <td>8595</td>\n",
       "      <td>6876</td>\n",
       "      <td>0</td>\n",
       "      <td>1719</td>\n",
       "      <td>1</td>\n",
       "      <td>5.0</td>\n",
       "      <td>...</td>\n",
       "      <td>6.5</td>\n",
       "      <td>1006363.0</td>\n",
       "      <td>232040.0</td>\n",
       "      <td>1</td>\n",
       "      <td>0</td>\n",
       "      <td>1</td>\n",
       "      <td>1</td>\n",
       "      <td>1</td>\n",
       "      <td>1</td>\n",
       "      <td>13.0</td>\n",
       "    </tr>\n",
       "    <tr>\n",
       "      <th>4</th>\n",
       "      <td>34</td>\n",
       "      <td>10454.0</td>\n",
       "      <td>7</td>\n",
       "      <td>8700</td>\n",
       "      <td>5316</td>\n",
       "      <td>0</td>\n",
       "      <td>0</td>\n",
       "      <td>0</td>\n",
       "      <td>2</td>\n",
       "      <td>1.0</td>\n",
       "      <td>...</td>\n",
       "      <td>6.5</td>\n",
       "      <td>1006046.0</td>\n",
       "      <td>232055.0</td>\n",
       "      <td>0</td>\n",
       "      <td>0</td>\n",
       "      <td>0</td>\n",
       "      <td>0</td>\n",
       "      <td>1</td>\n",
       "      <td>1</td>\n",
       "      <td>0.0</td>\n",
       "    </tr>\n",
       "  </tbody>\n",
       "</table>\n",
       "<p>5 rows × 27 columns</p>\n",
       "</div>"
      ],
      "text/plain": [
       "   Lot  ZipCode  Address  LotArea  BldgArea  ResArea  OfficeArea  RetailArea  \\\n",
       "0    4  10454.0        2    13770       752        0         272           0   \n",
       "1   10  10454.0        3    35000     39375        0           0           0   \n",
       "2   17  10454.0        4     2500     12500    12500           0           0   \n",
       "3   18  10454.0        5     1875      8595     6876           0        1719   \n",
       "4   34  10454.0        7     8700      5316        0           0           0   \n",
       "\n",
       "   NumBldgs  NumFloors  ...  FacilFAR     XCoord    YCoord  IsResArea  \\\n",
       "0         2        1.0  ...       6.5  1006076.0  232156.0          0   \n",
       "1         1        2.0  ...       6.5  1006187.0  232036.0          0   \n",
       "2         1        5.0  ...       6.5  1006299.0  232033.0          1   \n",
       "3         1        5.0  ...       6.5  1006363.0  232040.0          1   \n",
       "4         2        1.0  ...       6.5  1006046.0  232055.0          0   \n",
       "\n",
       "   IsOfficeArea  IsRetailArea  IsYearAlter1  IsResidFAR  IsCommFAR  Complaints  \n",
       "0             1             0             1           1          1         0.0  \n",
       "1             0             0             0           1          1         0.0  \n",
       "2             0             0             1           1          1         2.0  \n",
       "3             0             1             1           1          1        13.0  \n",
       "4             0             0             0           1          1         0.0  \n",
       "\n",
       "[5 rows x 27 columns]"
      ]
     },
     "execution_count": 42,
     "metadata": {},
     "output_type": "execute_result"
    }
   ],
   "source": [
    "df.head()"
   ]
  },
  {
   "cell_type": "code",
   "execution_count": 43,
   "metadata": {},
   "outputs": [
    {
     "name": "stdout",
     "output_type": "stream",
     "text": [
      "1    74760\n",
      "0     7284\n",
      "Name: IsResArea, dtype: int64\n",
      "0    79675\n",
      "1     2369\n",
      "Name: IsOfficeArea, dtype: int64\n",
      "0    76268\n",
      "1     5776\n",
      "Name: IsRetailArea, dtype: int64\n",
      "0    74331\n",
      "1     7713\n",
      "Name: IsYearAlter1, dtype: int64\n",
      "1    79636\n",
      "0     2408\n",
      "Name: IsResidFAR, dtype: int64\n",
      "0    77883\n",
      "1     4161\n",
      "Name: IsCommFAR, dtype: int64\n"
     ]
    }
   ],
   "source": [
    "print(df['IsResArea'].value_counts())\n",
    "print(df['IsOfficeArea'].value_counts())\n",
    "print(df['IsRetailArea'].value_counts())\n",
    "print(df['IsYearAlter1'].value_counts())\n",
    "print(df['IsResidFAR'].value_counts())\n",
    "print(df['IsCommFAR'].value_counts())"
   ]
  },
  {
   "cell_type": "code",
   "execution_count": 92,
   "metadata": {},
   "outputs": [
    {
     "data": {
      "text/plain": [
       "0           7284\n",
       "200            1\n",
       "247            1\n",
       "270            1\n",
       "280            1\n",
       "288            1\n",
       "300            1\n",
       "323            1\n",
       "324            1\n",
       "336            1\n",
       "341            1\n",
       "352            2\n",
       "360            2\n",
       "374            1\n",
       "380            1\n",
       "382            1\n",
       "390            1\n",
       "392            1\n",
       "394            1\n",
       "396            2\n",
       "400            5\n",
       "414            2\n",
       "420            3\n",
       "428            1\n",
       "440            1\n",
       "442            1\n",
       "444            1\n",
       "448            1\n",
       "450            3\n",
       "456            1\n",
       "            ... \n",
       "631178         1\n",
       "638539         1\n",
       "653155         1\n",
       "659606         1\n",
       "665000         1\n",
       "748000         1\n",
       "750000         1\n",
       "753113         1\n",
       "758564         1\n",
       "796368         1\n",
       "799710         1\n",
       "822400         1\n",
       "862500         1\n",
       "864200         1\n",
       "868436         1\n",
       "870740         1\n",
       "905000         1\n",
       "954414         1\n",
       "963564         1\n",
       "970383         1\n",
       "972800         1\n",
       "1073889        1\n",
       "1151670        1\n",
       "1162800        1\n",
       "1197000        1\n",
       "1306230        1\n",
       "1478410        1\n",
       "1539544        1\n",
       "2039000        1\n",
       "13211398       1\n",
       "Name: ResArea, Length: 8558, dtype: int64"
      ]
     },
     "execution_count": 92,
     "metadata": {},
     "output_type": "execute_result"
    }
   ],
   "source": [
    "df['ResArea'].value_counts().sort_index()"
   ]
  },
  {
   "cell_type": "markdown",
   "metadata": {},
   "source": [
    "## Scaling, Centering"
   ]
  },
  {
   "cell_type": "code",
   "execution_count": 44,
   "metadata": {},
   "outputs": [
    {
     "data": {
      "text/plain": [
       "Index(['Lot', 'ZipCode', 'Address', 'LotArea', 'BldgArea', 'ResArea',\n",
       "       'OfficeArea', 'RetailArea', 'NumBldgs', 'NumFloors', 'LotDepth',\n",
       "       'BldgDepth', 'YearBuilt', 'YearAlter1', 'BuiltFAR', 'ResidFAR',\n",
       "       'CommFAR', 'FacilFAR', 'XCoord', 'YCoord', 'IsResArea', 'IsOfficeArea',\n",
       "       'IsRetailArea', 'IsYearAlter1', 'IsResidFAR', 'IsCommFAR',\n",
       "       'Complaints'],\n",
       "      dtype='object')"
      ]
     },
     "execution_count": 44,
     "metadata": {},
     "output_type": "execute_result"
    }
   ],
   "source": [
    "df.columns"
   ]
  },
  {
   "cell_type": "code",
   "execution_count": 45,
   "metadata": {},
   "outputs": [],
   "source": [
    "#Drop location and non-continual label columns\n",
    "df.drop(['Lot','ZipCode','Address','XCoord','YCoord'], axis=1, inplace=True)"
   ]
  },
  {
   "cell_type": "code",
   "execution_count": 46,
   "metadata": {},
   "outputs": [],
   "source": [
    "def scale_and_center(column_name):\n",
    "    scale=MinMaxScaler()\n",
    "    scale.fit(df[[column_name]])\n",
    "    df[[column_name]]=scale.transform(df[[column_name]])\n",
    "#scale_and_center('LotArea')\n",
    "#scale_and_center('BldgArea')\n",
    "#scale_and_center('NumBldgs')\n",
    "#scale_and_center('NumFloors')\n",
    "#scale_and_center('LotDepth')\n",
    "#scale_and_center('BldgDepth')\n",
    "#scale_and_center('YearBuilt')\n",
    "#scale_and_center('BuiltFAR')\n",
    "#scale_and_center('FacilFAR')\n",
    "#scale_and_center('XCoord')\n",
    "#scale_and_center('YCoord')\n",
    "\n",
    "#for f in df.columns:\n",
    "#    scale_and_center(f)"
   ]
  },
  {
   "cell_type": "code",
   "execution_count": 47,
   "metadata": {},
   "outputs": [],
   "source": [
    "def scale_and_center_latent(column_name, latent):\n",
    "    scale=MinMaxScaler()\n",
    "    #scale.fit(df.loc[df[latent].eq(1), column_name].to_frame())\n",
    "    df.loc[df[latent].eq(1), column_name] = scale.fit_transform(df.loc[df[latent].eq(1), column_name].to_frame())\n",
    "#scale_and_center_latent('ResArea', 'IsResArea')\n",
    "#scale_and_center_latent('OfficeArea', 'IsOfficeArea')\n",
    "#scale_and_center_latent('RetailArea', 'IsRetailArea')\n",
    "#scale_and_center_latent('YearAlter1', 'IsYearAlter1')\n",
    "#scale_and_center_latent('ResidFAR', 'IsResidFAR')\n",
    "#scale_and_center_latent('CommFAR', 'IsCommFAR')"
   ]
  },
  {
   "cell_type": "code",
   "execution_count": 48,
   "metadata": {},
   "outputs": [
    {
     "data": {
      "text/html": [
       "<div>\n",
       "<style scoped>\n",
       "    .dataframe tbody tr th:only-of-type {\n",
       "        vertical-align: middle;\n",
       "    }\n",
       "\n",
       "    .dataframe tbody tr th {\n",
       "        vertical-align: top;\n",
       "    }\n",
       "\n",
       "    .dataframe thead th {\n",
       "        text-align: right;\n",
       "    }\n",
       "</style>\n",
       "<table border=\"1\" class=\"dataframe\">\n",
       "  <thead>\n",
       "    <tr style=\"text-align: right;\">\n",
       "      <th></th>\n",
       "      <th>LotArea</th>\n",
       "      <th>BldgArea</th>\n",
       "      <th>ResArea</th>\n",
       "      <th>OfficeArea</th>\n",
       "      <th>RetailArea</th>\n",
       "      <th>NumBldgs</th>\n",
       "      <th>NumFloors</th>\n",
       "      <th>LotDepth</th>\n",
       "      <th>BldgDepth</th>\n",
       "      <th>YearBuilt</th>\n",
       "      <th>...</th>\n",
       "      <th>ResidFAR</th>\n",
       "      <th>CommFAR</th>\n",
       "      <th>FacilFAR</th>\n",
       "      <th>IsResArea</th>\n",
       "      <th>IsOfficeArea</th>\n",
       "      <th>IsRetailArea</th>\n",
       "      <th>IsYearAlter1</th>\n",
       "      <th>IsResidFAR</th>\n",
       "      <th>IsCommFAR</th>\n",
       "      <th>Complaints</th>\n",
       "    </tr>\n",
       "  </thead>\n",
       "  <tbody>\n",
       "    <tr>\n",
       "      <th>count</th>\n",
       "      <td>8.204400e+04</td>\n",
       "      <td>8.204400e+04</td>\n",
       "      <td>8.204400e+04</td>\n",
       "      <td>8.204400e+04</td>\n",
       "      <td>82044.000000</td>\n",
       "      <td>82044.000000</td>\n",
       "      <td>82044.000000</td>\n",
       "      <td>82044.000000</td>\n",
       "      <td>82044.000000</td>\n",
       "      <td>82044.000000</td>\n",
       "      <td>...</td>\n",
       "      <td>82044.000000</td>\n",
       "      <td>82044.000000</td>\n",
       "      <td>82044.000000</td>\n",
       "      <td>82044.000000</td>\n",
       "      <td>82044.000000</td>\n",
       "      <td>82044.000000</td>\n",
       "      <td>82044.000000</td>\n",
       "      <td>82044.000000</td>\n",
       "      <td>82044.000000</td>\n",
       "      <td>82044.000000</td>\n",
       "    </tr>\n",
       "    <tr>\n",
       "      <th>mean</th>\n",
       "      <td>5.828139e+03</td>\n",
       "      <td>8.063525e+03</td>\n",
       "      <td>5.866987e+03</td>\n",
       "      <td>4.906857e+02</td>\n",
       "      <td>365.082882</td>\n",
       "      <td>1.246161</td>\n",
       "      <td>2.449325</td>\n",
       "      <td>103.220705</td>\n",
       "      <td>51.894344</td>\n",
       "      <td>1943.053410</td>\n",
       "      <td>...</td>\n",
       "      <td>1.688262</td>\n",
       "      <td>0.101856</td>\n",
       "      <td>2.864761</td>\n",
       "      <td>0.911218</td>\n",
       "      <td>0.028875</td>\n",
       "      <td>0.070401</td>\n",
       "      <td>0.094011</td>\n",
       "      <td>0.970650</td>\n",
       "      <td>0.050717</td>\n",
       "      <td>7.089976</td>\n",
       "    </tr>\n",
       "    <tr>\n",
       "      <th>std</th>\n",
       "      <td>4.475183e+04</td>\n",
       "      <td>5.877506e+04</td>\n",
       "      <td>5.342376e+04</td>\n",
       "      <td>1.060140e+04</td>\n",
       "      <td>4880.481128</td>\n",
       "      <td>1.401193</td>\n",
       "      <td>1.352179</td>\n",
       "      <td>41.712761</td>\n",
       "      <td>27.689994</td>\n",
       "      <td>29.334944</td>\n",
       "      <td>...</td>\n",
       "      <td>1.280098</td>\n",
       "      <td>0.518485</td>\n",
       "      <td>1.564359</td>\n",
       "      <td>0.284430</td>\n",
       "      <td>0.167455</td>\n",
       "      <td>0.255824</td>\n",
       "      <td>0.291845</td>\n",
       "      <td>0.168787</td>\n",
       "      <td>0.219420</td>\n",
       "      <td>57.567319</td>\n",
       "    </tr>\n",
       "    <tr>\n",
       "      <th>min</th>\n",
       "      <td>2.970000e+02</td>\n",
       "      <td>2.000000e+01</td>\n",
       "      <td>0.000000e+00</td>\n",
       "      <td>0.000000e+00</td>\n",
       "      <td>0.000000</td>\n",
       "      <td>1.000000</td>\n",
       "      <td>0.500000</td>\n",
       "      <td>10.000000</td>\n",
       "      <td>2.000000</td>\n",
       "      <td>1800.000000</td>\n",
       "      <td>...</td>\n",
       "      <td>0.000000</td>\n",
       "      <td>0.000000</td>\n",
       "      <td>1.000000</td>\n",
       "      <td>0.000000</td>\n",
       "      <td>0.000000</td>\n",
       "      <td>0.000000</td>\n",
       "      <td>0.000000</td>\n",
       "      <td>0.000000</td>\n",
       "      <td>0.000000</td>\n",
       "      <td>0.000000</td>\n",
       "    </tr>\n",
       "    <tr>\n",
       "      <th>25%</th>\n",
       "      <td>2.200000e+03</td>\n",
       "      <td>1.728000e+03</td>\n",
       "      <td>1.278000e+03</td>\n",
       "      <td>0.000000e+00</td>\n",
       "      <td>0.000000</td>\n",
       "      <td>1.000000</td>\n",
       "      <td>2.000000</td>\n",
       "      <td>95.000000</td>\n",
       "      <td>36.000000</td>\n",
       "      <td>1921.000000</td>\n",
       "      <td>...</td>\n",
       "      <td>0.900000</td>\n",
       "      <td>0.000000</td>\n",
       "      <td>2.000000</td>\n",
       "      <td>1.000000</td>\n",
       "      <td>0.000000</td>\n",
       "      <td>0.000000</td>\n",
       "      <td>0.000000</td>\n",
       "      <td>1.000000</td>\n",
       "      <td>0.000000</td>\n",
       "      <td>0.000000</td>\n",
       "    </tr>\n",
       "    <tr>\n",
       "      <th>50%</th>\n",
       "      <td>2.500000e+03</td>\n",
       "      <td>2.329000e+03</td>\n",
       "      <td>1.888000e+03</td>\n",
       "      <td>0.000000e+00</td>\n",
       "      <td>0.000000</td>\n",
       "      <td>1.000000</td>\n",
       "      <td>2.000000</td>\n",
       "      <td>100.000000</td>\n",
       "      <td>46.000000</td>\n",
       "      <td>1935.000000</td>\n",
       "      <td>...</td>\n",
       "      <td>1.100000</td>\n",
       "      <td>0.000000</td>\n",
       "      <td>2.000000</td>\n",
       "      <td>1.000000</td>\n",
       "      <td>0.000000</td>\n",
       "      <td>0.000000</td>\n",
       "      <td>0.000000</td>\n",
       "      <td>1.000000</td>\n",
       "      <td>0.000000</td>\n",
       "      <td>0.000000</td>\n",
       "    </tr>\n",
       "    <tr>\n",
       "      <th>75%</th>\n",
       "      <td>4.000000e+03</td>\n",
       "      <td>3.357000e+03</td>\n",
       "      <td>2.695250e+03</td>\n",
       "      <td>0.000000e+00</td>\n",
       "      <td>0.000000</td>\n",
       "      <td>1.000000</td>\n",
       "      <td>3.000000</td>\n",
       "      <td>101.420000</td>\n",
       "      <td>57.000000</td>\n",
       "      <td>1960.000000</td>\n",
       "      <td>...</td>\n",
       "      <td>2.430000</td>\n",
       "      <td>0.000000</td>\n",
       "      <td>4.800000</td>\n",
       "      <td>1.000000</td>\n",
       "      <td>0.000000</td>\n",
       "      <td>0.000000</td>\n",
       "      <td>0.000000</td>\n",
       "      <td>1.000000</td>\n",
       "      <td>0.000000</td>\n",
       "      <td>0.000000</td>\n",
       "    </tr>\n",
       "    <tr>\n",
       "      <th>max</th>\n",
       "      <td>5.612000e+06</td>\n",
       "      <td>1.354011e+07</td>\n",
       "      <td>1.321140e+07</td>\n",
       "      <td>1.311800e+06</td>\n",
       "      <td>598908.000000</td>\n",
       "      <td>251.000000</td>\n",
       "      <td>42.000000</td>\n",
       "      <td>2050.000000</td>\n",
       "      <td>992.000000</td>\n",
       "      <td>2017.000000</td>\n",
       "      <td>...</td>\n",
       "      <td>10.000000</td>\n",
       "      <td>9.000000</td>\n",
       "      <td>10.000000</td>\n",
       "      <td>1.000000</td>\n",
       "      <td>1.000000</td>\n",
       "      <td>1.000000</td>\n",
       "      <td>1.000000</td>\n",
       "      <td>1.000000</td>\n",
       "      <td>1.000000</td>\n",
       "      <td>7112.000000</td>\n",
       "    </tr>\n",
       "  </tbody>\n",
       "</table>\n",
       "<p>8 rows × 22 columns</p>\n",
       "</div>"
      ],
      "text/plain": [
       "            LotArea      BldgArea       ResArea    OfficeArea     RetailArea  \\\n",
       "count  8.204400e+04  8.204400e+04  8.204400e+04  8.204400e+04   82044.000000   \n",
       "mean   5.828139e+03  8.063525e+03  5.866987e+03  4.906857e+02     365.082882   \n",
       "std    4.475183e+04  5.877506e+04  5.342376e+04  1.060140e+04    4880.481128   \n",
       "min    2.970000e+02  2.000000e+01  0.000000e+00  0.000000e+00       0.000000   \n",
       "25%    2.200000e+03  1.728000e+03  1.278000e+03  0.000000e+00       0.000000   \n",
       "50%    2.500000e+03  2.329000e+03  1.888000e+03  0.000000e+00       0.000000   \n",
       "75%    4.000000e+03  3.357000e+03  2.695250e+03  0.000000e+00       0.000000   \n",
       "max    5.612000e+06  1.354011e+07  1.321140e+07  1.311800e+06  598908.000000   \n",
       "\n",
       "           NumBldgs     NumFloors      LotDepth     BldgDepth     YearBuilt  \\\n",
       "count  82044.000000  82044.000000  82044.000000  82044.000000  82044.000000   \n",
       "mean       1.246161      2.449325    103.220705     51.894344   1943.053410   \n",
       "std        1.401193      1.352179     41.712761     27.689994     29.334944   \n",
       "min        1.000000      0.500000     10.000000      2.000000   1800.000000   \n",
       "25%        1.000000      2.000000     95.000000     36.000000   1921.000000   \n",
       "50%        1.000000      2.000000    100.000000     46.000000   1935.000000   \n",
       "75%        1.000000      3.000000    101.420000     57.000000   1960.000000   \n",
       "max      251.000000     42.000000   2050.000000    992.000000   2017.000000   \n",
       "\n",
       "       ...      ResidFAR       CommFAR      FacilFAR     IsResArea  \\\n",
       "count  ...  82044.000000  82044.000000  82044.000000  82044.000000   \n",
       "mean   ...      1.688262      0.101856      2.864761      0.911218   \n",
       "std    ...      1.280098      0.518485      1.564359      0.284430   \n",
       "min    ...      0.000000      0.000000      1.000000      0.000000   \n",
       "25%    ...      0.900000      0.000000      2.000000      1.000000   \n",
       "50%    ...      1.100000      0.000000      2.000000      1.000000   \n",
       "75%    ...      2.430000      0.000000      4.800000      1.000000   \n",
       "max    ...     10.000000      9.000000     10.000000      1.000000   \n",
       "\n",
       "       IsOfficeArea  IsRetailArea  IsYearAlter1    IsResidFAR     IsCommFAR  \\\n",
       "count  82044.000000  82044.000000  82044.000000  82044.000000  82044.000000   \n",
       "mean       0.028875      0.070401      0.094011      0.970650      0.050717   \n",
       "std        0.167455      0.255824      0.291845      0.168787      0.219420   \n",
       "min        0.000000      0.000000      0.000000      0.000000      0.000000   \n",
       "25%        0.000000      0.000000      0.000000      1.000000      0.000000   \n",
       "50%        0.000000      0.000000      0.000000      1.000000      0.000000   \n",
       "75%        0.000000      0.000000      0.000000      1.000000      0.000000   \n",
       "max        1.000000      1.000000      1.000000      1.000000      1.000000   \n",
       "\n",
       "         Complaints  \n",
       "count  82044.000000  \n",
       "mean       7.089976  \n",
       "std       57.567319  \n",
       "min        0.000000  \n",
       "25%        0.000000  \n",
       "50%        0.000000  \n",
       "75%        0.000000  \n",
       "max     7112.000000  \n",
       "\n",
       "[8 rows x 22 columns]"
      ]
     },
     "execution_count": 48,
     "metadata": {},
     "output_type": "execute_result"
    }
   ],
   "source": [
    "df.describe()"
   ]
  },
  {
   "cell_type": "markdown",
   "metadata": {},
   "source": [
    "## Save the cleaned data."
   ]
  },
  {
   "cell_type": "code",
   "execution_count": 49,
   "metadata": {},
   "outputs": [],
   "source": [
    "df.to_pickle(files_path + 'q3clean.pkl')"
   ]
  },
  {
   "cell_type": "markdown",
   "metadata": {},
   "source": [
    "<a id=\"analysis\"></a>\n",
    "# Analyzing and Visualizing\n",
    "---"
   ]
  },
  {
   "cell_type": "markdown",
   "metadata": {},
   "source": [
    "## Load combined and cleaned data"
   ]
  },
  {
   "cell_type": "code",
   "execution_count": 50,
   "metadata": {},
   "outputs": [
    {
     "name": "stdout",
     "output_type": "stream",
     "text": [
      "82044\n",
      "18979\n"
     ]
    }
   ],
   "source": [
    "df = pd.read_pickle(files_path + 'q3clean.pkl')\n",
    "print(df.shape[0])\n",
    "print(len(df[df['Complaints'].ne(0)]))"
   ]
  },
  {
   "cell_type": "markdown",
   "metadata": {},
   "source": [
    "## Analyze, using visualizations as necessary"
   ]
  },
  {
   "cell_type": "markdown",
   "metadata": {},
   "source": [
    "### Regression and Residual plots\n",
    "To measure correlation and correlation shape."
   ]
  },
  {
   "cell_type": "code",
   "execution_count": 51,
   "metadata": {},
   "outputs": [
    {
     "data": {
      "text/plain": [
       "Index(['LotArea', 'BldgArea', 'ResArea', 'OfficeArea', 'RetailArea',\n",
       "       'NumBldgs', 'NumFloors', 'LotDepth', 'BldgDepth', 'YearBuilt',\n",
       "       'YearAlter1', 'BuiltFAR', 'ResidFAR', 'CommFAR', 'FacilFAR',\n",
       "       'IsResArea', 'IsOfficeArea', 'IsRetailArea', 'IsYearAlter1',\n",
       "       'IsResidFAR', 'IsCommFAR', 'Complaints'],\n",
       "      dtype='object')"
      ]
     },
     "execution_count": 51,
     "metadata": {},
     "output_type": "execute_result"
    }
   ],
   "source": [
    "df.columns"
   ]
  },
  {
   "cell_type": "code",
   "execution_count": 89,
   "metadata": {},
   "outputs": [],
   "source": [
    "def RegressionAndResidual(feature, d): # Dataframe, possibly filtered\n",
    "    #SCALE=StandardScaler(copy=True)\n",
    "    #d[feature] = SCALE.fit_transform(d[[feature]])\n",
    "    #d[\"Complaints\"] = SCALE.fit_transform(d[[\"Complaints\"]])\n",
    "    fig = plt.figure() # create figure\n",
    "    ax1 = fig.add_subplot(1, 2, 1) # add subplot 1 (1 row, 2 columns, first plot)\n",
    "    ax2 = fig.add_subplot(1, 2, 2) # add subplot 2 (1 row, 2 columns, second plot).\n",
    "    sns.regplot(x=feature, y=\"Complaints\", data=d, ax=ax1)\n",
    "    ax1.set_title(feature + ' Regression')\n",
    "    sns.residplot(d[feature], d[\"Complaints\"], ax=ax2)\n",
    "    ax2.set_title ('Residual')\n",
    "    ax2.set_ylabel('')\n",
    "    ax2.set_xlabel('')\n",
    "    plt.show()"
   ]
  },
  {
   "cell_type": "code",
   "execution_count": 90,
   "metadata": {},
   "outputs": [
    {
     "data": {
      "image/png": "[encoded data removed]",
      "text/plain": [
       "<Figure size 432x288 with 2 Axes>"
      ]
     },
     "metadata": {
      "needs_background": "light"
     },
     "output_type": "display_data"
    },
    {
     "data": {
      "image/png": "[encoded data removed]",
      "text/plain": [
       "<Figure size 432x288 with 2 Axes>"
      ]
     },
     "metadata": {
      "needs_background": "light"
     },
     "output_type": "display_data"
    },
    {
     "data": {
      "image/png": "[encoded data removed]",
      "text/plain": [
       "<Figure size 432x288 with 2 Axes>"
      ]
     },
     "metadata": {
      "needs_background": "light"
     },
     "output_type": "display_data"
    },
    {
     "data": {
      "image/png": "[encoded data removed]",
      "text/plain": [
       "<Figure size 432x288 with 2 Axes>"
      ]
     },
     "metadata": {
      "needs_background": "light"
     },
     "output_type": "display_data"
    },
    {
     "data": {
      "image/png": "[encoded data removed]",
      "text/plain": [
       "<Figure size 432x288 with 2 Axes>"
      ]
     },
     "metadata": {
      "needs_background": "light"
     },
     "output_type": "display_data"
    },
    {
     "data": {
      "image/png": "[encoded data removed]",
      "text/plain": [
       "<Figure size 432x288 with 2 Axes>"
      ]
     },
     "metadata": {
      "needs_background": "light"
     },
     "output_type": "display_data"
    },
    {
     "data": {
      "image/png": "[encoded data removed]",
      "text/plain": [
       "<Figure size 432x288 with 2 Axes>"
      ]
     },
     "metadata": {
      "needs_background": "light"
     },
     "output_type": "display_data"
    },
    {
     "data": {
      "image/png": "[encoded data removed]",
      "text/plain": [
       "<Figure size 432x288 with 2 Axes>"
      ]
     },
     "metadata": {
      "needs_background": "light"
     },
     "output_type": "display_data"
    },
    {
     "data": {
      "image/png": "[encoded data removed]",
      "text/plain": [
       "<Figure size 432x288 with 2 Axes>"
      ]
     },
     "metadata": {
      "needs_background": "light"
     },
     "output_type": "display_data"
    },
    {
     "data": {
      "image/png": "[encoded data removed]",
      "text/plain": [
       "<Figure size 432x288 with 2 Axes>"
      ]
     },
     "metadata": {
      "needs_background": "light"
     },
     "output_type": "display_data"
    },
    {
     "data": {
      "image/png": "[encoded data removed]",
      "text/plain": [
       "<Figure size 432x288 with 2 Axes>"
      ]
     },
     "metadata": {
      "needs_background": "light"
     },
     "output_type": "display_data"
    },
    {
     "data": {
      "image/png": "[encoded data removed]",
      "text/plain": [
       "<Figure size 432x288 with 2 Axes>"
      ]
     },
     "metadata": {
      "needs_background": "light"
     },
     "output_type": "display_data"
    },
    {
     "data": {
      "image/png": "[encoded data removed]",
      "text/plain": [
       "<Figure size 432x288 with 2 Axes>"
      ]
     },
     "metadata": {
      "needs_background": "light"
     },
     "output_type": "display_data"
    },
    {
     "data": {
      "image/png": "[encoded data removed]",
      "text/plain": [
       "<Figure size 432x288 with 2 Axes>"
      ]
     },
     "metadata": {
      "needs_background": "light"
     },
     "output_type": "display_data"
    },
    {
     "data": {
      "image/png": "[encoded data removed]",
      "text/plain": [
       "<Figure size 432x288 with 2 Axes>"
      ]
     },
     "metadata": {
      "needs_background": "light"
     },
     "output_type": "display_data"
    }
   ],
   "source": [
    "RegressionAndResidual(\"LotArea\", df)\n",
    "RegressionAndResidual(\"BldgArea\", df)\n",
    "RegressionAndResidual(\"ResArea\", df[df['IsResArea'].ne(0)])\n",
    "RegressionAndResidual(\"OfficeArea\", df[df['IsOfficeArea'].ne(0)])\n",
    "RegressionAndResidual(\"RetailArea\", df[df['IsRetailArea'].ne(0)])\n",
    "RegressionAndResidual(\"YearAlter1\", df[df['IsYearAlter1'].ne(0)])\n",
    "RegressionAndResidual(\"ResidFAR\", df[df['IsResidFAR'].ne(0)])\n",
    "RegressionAndResidual(\"CommFAR\", df[df['IsCommFAR'].ne(0)])\n",
    "RegressionAndResidual(\"NumBldgs\", df)\n",
    "RegressionAndResidual(\"NumFloors\", df)\n",
    "RegressionAndResidual(\"LotDepth\", df)\n",
    "RegressionAndResidual(\"BldgDepth\", df)\n",
    "RegressionAndResidual(\"YearBuilt\", df)\n",
    "RegressionAndResidual(\"BuiltFAR\", df)\n",
    "RegressionAndResidual(\"FacilFAR\", df)"
   ]
  },
  {
   "cell_type": "markdown",
   "metadata": {},
   "source": [
    "<p style=\"color:Red;\">Most of the graphs are curved, suggesting non-linear relationships.</p>"
   ]
  },
  {
   "cell_type": "code",
   "execution_count": null,
   "metadata": {},
   "outputs": [],
   "source": []
  },
  {
   "cell_type": "markdown",
   "metadata": {},
   "source": [
    "### Pearson Correlation"
   ]
  },
  {
   "cell_type": "code",
   "execution_count": 58,
   "metadata": {},
   "outputs": [
    {
     "data": {
      "text/html": [
       "<div>\n",
       "<style scoped>\n",
       "    .dataframe tbody tr th:only-of-type {\n",
       "        vertical-align: middle;\n",
       "    }\n",
       "\n",
       "    .dataframe tbody tr th {\n",
       "        vertical-align: top;\n",
       "    }\n",
       "\n",
       "    .dataframe thead th {\n",
       "        text-align: right;\n",
       "    }\n",
       "</style>\n",
       "<table border=\"1\" class=\"dataframe\">\n",
       "  <thead>\n",
       "    <tr style=\"text-align: right;\">\n",
       "      <th></th>\n",
       "      <th>LotArea</th>\n",
       "      <th>BldgArea</th>\n",
       "      <th>ResArea</th>\n",
       "      <th>OfficeArea</th>\n",
       "      <th>RetailArea</th>\n",
       "      <th>NumBldgs</th>\n",
       "      <th>NumFloors</th>\n",
       "      <th>LotDepth</th>\n",
       "      <th>BldgDepth</th>\n",
       "      <th>YearBuilt</th>\n",
       "      <th>...</th>\n",
       "      <th>ResidFAR</th>\n",
       "      <th>CommFAR</th>\n",
       "      <th>FacilFAR</th>\n",
       "      <th>IsResArea</th>\n",
       "      <th>IsOfficeArea</th>\n",
       "      <th>IsRetailArea</th>\n",
       "      <th>IsYearAlter1</th>\n",
       "      <th>IsResidFAR</th>\n",
       "      <th>IsCommFAR</th>\n",
       "      <th>Complaints</th>\n",
       "    </tr>\n",
       "  </thead>\n",
       "  <tbody>\n",
       "    <tr>\n",
       "      <th>LotArea</th>\n",
       "      <td>1.000000</td>\n",
       "      <td>0.615170</td>\n",
       "      <td>0.482160</td>\n",
       "      <td>0.336586</td>\n",
       "      <td>0.110371</td>\n",
       "      <td>0.488403</td>\n",
       "      <td>0.160414</td>\n",
       "      <td>0.493322</td>\n",
       "      <td>0.255314</td>\n",
       "      <td>0.017603</td>\n",
       "      <td>...</td>\n",
       "      <td>0.016300</td>\n",
       "      <td>0.041344</td>\n",
       "      <td>0.033102</td>\n",
       "      <td>-0.104623</td>\n",
       "      <td>0.103973</td>\n",
       "      <td>0.026487</td>\n",
       "      <td>0.074096</td>\n",
       "      <td>-0.048984</td>\n",
       "      <td>0.054362</td>\n",
       "      <td>0.024797</td>\n",
       "    </tr>\n",
       "    <tr>\n",
       "      <th>BldgArea</th>\n",
       "      <td>0.615170</td>\n",
       "      <td>1.000000</td>\n",
       "      <td>0.934357</td>\n",
       "      <td>0.234374</td>\n",
       "      <td>0.154978</td>\n",
       "      <td>0.614317</td>\n",
       "      <td>0.389971</td>\n",
       "      <td>0.363865</td>\n",
       "      <td>0.310811</td>\n",
       "      <td>0.019287</td>\n",
       "      <td>...</td>\n",
       "      <td>0.103847</td>\n",
       "      <td>0.043344</td>\n",
       "      <td>0.110809</td>\n",
       "      <td>-0.064864</td>\n",
       "      <td>0.105804</td>\n",
       "      <td>0.051741</td>\n",
       "      <td>0.103966</td>\n",
       "      <td>-0.020294</td>\n",
       "      <td>0.037685</td>\n",
       "      <td>0.096754</td>\n",
       "    </tr>\n",
       "    <tr>\n",
       "      <th>ResArea</th>\n",
       "      <td>0.482160</td>\n",
       "      <td>0.934357</td>\n",
       "      <td>1.000000</td>\n",
       "      <td>0.024822</td>\n",
       "      <td>0.049650</td>\n",
       "      <td>0.619655</td>\n",
       "      <td>0.378956</td>\n",
       "      <td>0.233395</td>\n",
       "      <td>0.175568</td>\n",
       "      <td>0.007873</td>\n",
       "      <td>...</td>\n",
       "      <td>0.095103</td>\n",
       "      <td>-0.007665</td>\n",
       "      <td>0.087757</td>\n",
       "      <td>0.034279</td>\n",
       "      <td>0.039170</td>\n",
       "      <td>0.029304</td>\n",
       "      <td>0.070810</td>\n",
       "      <td>0.014471</td>\n",
       "      <td>-0.012157</td>\n",
       "      <td>0.107567</td>\n",
       "    </tr>\n",
       "    <tr>\n",
       "      <th>OfficeArea</th>\n",
       "      <td>0.336586</td>\n",
       "      <td>0.234374</td>\n",
       "      <td>0.024822</td>\n",
       "      <td>1.000000</td>\n",
       "      <td>0.049065</td>\n",
       "      <td>0.080114</td>\n",
       "      <td>0.081869</td>\n",
       "      <td>0.261617</td>\n",
       "      <td>0.252565</td>\n",
       "      <td>0.014734</td>\n",
       "      <td>...</td>\n",
       "      <td>0.040636</td>\n",
       "      <td>0.066422</td>\n",
       "      <td>0.050218</td>\n",
       "      <td>-0.136086</td>\n",
       "      <td>0.268424</td>\n",
       "      <td>0.008423</td>\n",
       "      <td>0.062856</td>\n",
       "      <td>-0.026746</td>\n",
       "      <td>0.056511</td>\n",
       "      <td>-0.002492</td>\n",
       "    </tr>\n",
       "    <tr>\n",
       "      <th>RetailArea</th>\n",
       "      <td>0.110371</td>\n",
       "      <td>0.154978</td>\n",
       "      <td>0.049650</td>\n",
       "      <td>0.049065</td>\n",
       "      <td>1.000000</td>\n",
       "      <td>0.042415</td>\n",
       "      <td>0.011686</td>\n",
       "      <td>0.175593</td>\n",
       "      <td>0.242263</td>\n",
       "      <td>0.020925</td>\n",
       "      <td>...</td>\n",
       "      <td>0.062683</td>\n",
       "      <td>0.153935</td>\n",
       "      <td>0.083776</td>\n",
       "      <td>-0.172833</td>\n",
       "      <td>0.063900</td>\n",
       "      <td>0.271825</td>\n",
       "      <td>0.089130</td>\n",
       "      <td>-0.029385</td>\n",
       "      <td>0.122311</td>\n",
       "      <td>0.009099</td>\n",
       "    </tr>\n",
       "  </tbody>\n",
       "</table>\n",
       "<p>5 rows × 22 columns</p>\n",
       "</div>"
      ],
      "text/plain": [
       "             LotArea  BldgArea   ResArea  OfficeArea  RetailArea  NumBldgs  \\\n",
       "LotArea     1.000000  0.615170  0.482160    0.336586    0.110371  0.488403   \n",
       "BldgArea    0.615170  1.000000  0.934357    0.234374    0.154978  0.614317   \n",
       "ResArea     0.482160  0.934357  1.000000    0.024822    0.049650  0.619655   \n",
       "OfficeArea  0.336586  0.234374  0.024822    1.000000    0.049065  0.080114   \n",
       "RetailArea  0.110371  0.154978  0.049650    0.049065    1.000000  0.042415   \n",
       "\n",
       "            NumFloors  LotDepth  BldgDepth  YearBuilt  ...  ResidFAR  \\\n",
       "LotArea      0.160414  0.493322   0.255314   0.017603  ...  0.016300   \n",
       "BldgArea     0.389971  0.363865   0.310811   0.019287  ...  0.103847   \n",
       "ResArea      0.378956  0.233395   0.175568   0.007873  ...  0.095103   \n",
       "OfficeArea   0.081869  0.261617   0.252565   0.014734  ...  0.040636   \n",
       "RetailArea   0.011686  0.175593   0.242263   0.020925  ...  0.062683   \n",
       "\n",
       "             CommFAR  FacilFAR  IsResArea  IsOfficeArea  IsRetailArea  \\\n",
       "LotArea     0.041344  0.033102  -0.104623      0.103973      0.026487   \n",
       "BldgArea    0.043344  0.110809  -0.064864      0.105804      0.051741   \n",
       "ResArea    -0.007665  0.087757   0.034279      0.039170      0.029304   \n",
       "OfficeArea  0.066422  0.050218  -0.136086      0.268424      0.008423   \n",
       "RetailArea  0.153935  0.083776  -0.172833      0.063900      0.271825   \n",
       "\n",
       "            IsYearAlter1  IsResidFAR  IsCommFAR  Complaints  \n",
       "LotArea         0.074096   -0.048984   0.054362    0.024797  \n",
       "BldgArea        0.103966   -0.020294   0.037685    0.096754  \n",
       "ResArea         0.070810    0.014471  -0.012157    0.107567  \n",
       "OfficeArea      0.062856   -0.026746   0.056511   -0.002492  \n",
       "RetailArea      0.089130   -0.029385   0.122311    0.009099  \n",
       "\n",
       "[5 rows x 22 columns]"
      ]
     },
     "execution_count": 58,
     "metadata": {},
     "output_type": "execute_result"
    }
   ],
   "source": [
    "# Check for correlations with heatmap.\n",
    "AllForHeat = df.corr()\n",
    "#AllForHeat.shape\n",
    "AllForHeat.head()"
   ]
  },
  {
   "cell_type": "code",
   "execution_count": 59,
   "metadata": {
    "scrolled": true
   },
   "outputs": [
    {
     "data": {
      "image/png": "[encoded data removed]",
      "text/plain": [
       "<Figure size 432x288 with 2 Axes>"
      ]
     },
     "metadata": {
      "needs_background": "light"
     },
     "output_type": "display_data"
    }
   ],
   "source": [
    "fig, ax = plt.subplots()\n",
    "im = ax.pcolor(AllForHeat, cmap='RdBu_r')\n",
    "row_labels = df.columns; col_labels = df.columns\n",
    "ax.set_xticklabels(row_labels, minor = False);ax.set_yticklabels(col_labels, minor = False)\n",
    "#move ticks and labels to the center.\n",
    "ax.set_xticks(np.arange(AllForHeat.shape[1]) + 0.5, minor=False)\n",
    "ax.set_yticks(np.arange(AllForHeat.shape[0]) + 0.5, minor=False)\n",
    "ax.set_title(\"heat map of correlations\")\n",
    "plt.xticks(rotation=90)\n",
    "plt.colorbar(im)\n",
    "plt.show()"
   ]
  },
  {
   "cell_type": "markdown",
   "metadata": {},
   "source": [
    "<p style=\"color:Red;\">Looking along the top row or rightmost column, there appear to be some correlations, though none super strong.  Looking at the actual numbers might help see them better.</p>"
   ]
  },
  {
   "cell_type": "code",
   "execution_count": 60,
   "metadata": {},
   "outputs": [
    {
     "data": {
      "text/plain": [
       "Complaints      1.000000\n",
       "NumFloors       0.272448\n",
       "BuiltFAR        0.236182\n",
       "BldgDepth       0.178435\n",
       "ResidFAR        0.163001\n",
       "FacilFAR        0.139918\n",
       "ResArea         0.107567\n",
       "BldgArea        0.096754\n",
       "IsYearAlter1    0.067835\n",
       "YearAlter1      0.067543\n",
       "IsRetailArea    0.059201\n",
       "Name: Complaints, dtype: float64"
      ]
     },
     "execution_count": 60,
     "metadata": {},
     "output_type": "execute_result"
    }
   ],
   "source": [
    "#See numerically what the strongest correlations are.\n",
    "AllForHeat[(AllForHeat['Complaints'].ge(0.05))|(AllForHeat['Complaints'].le(-0.05))]['Complaints'].sort_values(ascending=False)"
   ]
  },
  {
   "cell_type": "code",
   "execution_count": null,
   "metadata": {},
   "outputs": [],
   "source": [
    "# Get the pearson correlations and confidence measures\n",
    "for col in df.columns:\n",
    "    pearson_coef, p_value = stats.pearsonr(df[col], df['Complaints'])\n",
    "    if abs(pearson_coef) > 0.20 and p_value < 0.10:\n",
    "        print(col, pearson_coef, p_value)"
   ]
  },
  {
   "cell_type": "markdown",
   "metadata": {},
   "source": [
    "<p style=\"color:Red;\">Not really any \"strong\" correlations, but some weak ones with high confidence.  Double check the details of a few of these.</p>"
   ]
  },
  {
   "cell_type": "code",
   "execution_count": null,
   "metadata": {},
   "outputs": [],
   "source": [
    "# Address correlates?  Why?\n",
    "total = df.shape[0]\n",
    "complainers = df[df['Complaints'].eq(1)].shape[0]\n",
    "print (total, complainers, complainers / total)"
   ]
  },
  {
   "cell_type": "markdown",
   "metadata": {},
   "source": [
    "<p style=\"color:Red;\">I think address correlates just because each address either had a complaint or not, so the correlation is about the same as the percentage that had a complaint.  Also, question 2 already narrowed it down geographically so I'm going to dismiss this \"correlation\" as not relevant to the question at hand.  To a lesser extent the X Coordinate and ZIP code are in the same boat, though there may be a higher (but still very low) correlation than there is with address.</p>"
   ]
  },
  {
   "cell_type": "code",
   "execution_count": null,
   "metadata": {},
   "outputs": [],
   "source": [
    "#YearAlter1 correlates?  Why?\n",
    "total = df.shape[0]\n",
    "never_altered = df[df['Complaints'].eq(0)].shape[0]\n",
    "print (total, never_altered, never_altered / total)"
   ]
  },
  {
   "cell_type": "code",
   "execution_count": null,
   "metadata": {},
   "outputs": [],
   "source": [
    "#Alteration year - take a closer look.\n",
    "alterations = df[['YearAlter1','Complaints']]\n",
    "alterations = pd.concat([alterations, pd.get_dummies(alterations['YearAlter1'])], axis=1)\n",
    "for col in alterations.columns:\n",
    "    pearson_coef, p_value = stats.pearsonr(alterations[col], alterations['Complaints'])\n",
    "    if abs(pearson_coef) > 0.05 and p_value < 0.10:\n",
    "        print(col, pearson_coef, p_value)"
   ]
  },
  {
   "cell_type": "markdown",
   "metadata": {},
   "source": [
    "<p style=\"color:Red;\">The only even mildly significant YearAlter1 correlations are between the observations where this field is zero, which is about 2/3 of the data.  My conclusion is that this is a factor of the high number of zeroes, causing the correlation to skew toward lower numbers, hence the lowest numbers, the zeroes themselves, are considered more correlated.</p>"
   ]
  },
  {
   "cell_type": "code",
   "execution_count": null,
   "metadata": {},
   "outputs": [],
   "source": [
    "#check a few of these to see if they are different data points that capture the same relationship.\n",
    "def see_pearson(a,b):\n",
    "    pearson_coef, p_value = stats.pearsonr(df[a], df[b])\n",
    "    print(a, b, pearson_coef, p_value)\n",
    "see_pearson('ResidFAR','FacilFAR')\n",
    "see_pearson('ResidFAR','BuiltFAR')\n",
    "see_pearson('FacilFAR','BuiltFAR')"
   ]
  },
  {
   "cell_type": "markdown",
   "metadata": {},
   "source": [
    "<p style=\"color:Red;\">ResidFAR and FacilFAR are strongly correlated to each other.  The documentation says FAR is the \"Floor Area Ratio\" between the building and the LOT.  The Resid and Facility variations are about the same.  What they have in common is they are both \"not commercial\".</p>"
   ]
  },
  {
   "cell_type": "markdown",
   "metadata": {},
   "source": [
    "#### Visualize strongest Pearson correlations"
   ]
  },
  {
   "cell_type": "code",
   "execution_count": null,
   "metadata": {
    "scrolled": true
   },
   "outputs": [],
   "source": [
    "#Visualize\n",
    "#df.corr()['Complaints'].map(abs).plot(kind='bar', title='Correlation with heating complaints',figsize=(8,3))\n",
    "df.corr()['Complaints'].plot(kind='bar', grid=True, title='Correlation with heating complaints',figsize=(8,3))\n",
    "plt.xlabel('Building Characteristics'); plt.ylabel('Correlation')\n",
    "plt.show()"
   ]
  },
  {
   "cell_type": "markdown",
   "metadata": {},
   "source": [
    "<a id=\"conclusion\"></a>\n",
    "# Concluding Remarks\n",
    "---"
   ]
  },
  {
   "cell_type": "markdown",
   "metadata": {},
   "source": [
    "The HEATING/HOT WATER complaint types (Question 1) reported in the BRONX borough (question 2) have an obvious relationship with the following housing characteristics:\n",
    "<ul>\n",
    "<li>NumFloors (Number of Floors):  0.37 correlation.\n",
    "<li>BuiltFAR (Total building floor area divided by the area of the tax lot):  0.35 correlation.\n",
    "<li>ResidFAR ():  0.32 correlation.\n",
    "</ul>\n",
    "The inability to compute an effective logistic regression is further evidence that the relationships are not especially strong, but the pearson correlation confidence numbers suggest these measurements are accurate."
   ]
  },
  {
   "cell_type": "markdown",
   "metadata": {},
   "source": [
    "So basically the taller and bigger the floor area of the building, the more heating complaints from that building.  Especially residential buildings."
   ]
  }
 ],
 "metadata": {
  "kernelspec": {
   "display_name": "Python 3",
   "language": "python",
   "name": "python3"
  },
  "language_info": {
   "codemirror_mode": {
    "name": "ipython",
    "version": 3
   },
   "file_extension": ".py",
   "mimetype": "text/x-python",
   "name": "python",
   "nbconvert_exporter": "python",
   "pygments_lexer": "ipython3",
   "version": "3.7.3"
  }
 },
 "nbformat": 4,
 "nbformat_minor": 1
}
