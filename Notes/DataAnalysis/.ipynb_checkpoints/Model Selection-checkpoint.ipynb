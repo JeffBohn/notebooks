{
 "cells": [
  {
   "cell_type": "code",
   "execution_count": 2,
   "metadata": {},
   "outputs": [],
   "source": [
    "#Higher order polynomials\n",
    "\n",
    "#Underfitting:  The model doesn't have the same curves as the data.\n",
    "#Overfitting:  The model has extra curves just to hit specific data, but \n",
    "#  will start to not work as well in areas of missing data.\n",
    "\n",
    "#The training data will have a decreasing training error as the order of the polynomial increases.\n",
    "#Because the model will fit the training data better and better.\n",
    "\n",
    "#The testing error will decrease as the model is better, but will start to rise again if \n",
    "#  it starts to get over-fitted to the test data.\n",
    "\n",
    "#So graph the training error and test error to see where they are both lowest."
   ]
  },
  {
   "cell_type": "code",
   "execution_count": 3,
   "metadata": {},
   "outputs": [],
   "source": [
    "import pandas as pd\n",
    "import numpy as np\n",
    "from sklearn.model_selection import train_test_split\n",
    "from sklearn.linear_model import LinearRegression\n",
    "from sklearn.model_selection import cross_val_score\n",
    "from sklearn.model_selection import cross_val_predict\n",
    "from sklearn.preprocessing import PolynomialFeatures\n",
    "%matplotlib inline\n",
    "from matplotlib import pyplot as plt"
   ]
  },
  {
   "cell_type": "code",
   "execution_count": 4,
   "metadata": {},
   "outputs": [],
   "source": [
    "df = pd.read_csv(\"wrangled_auto.csv\")\n",
    "\n",
    "Y=df['price']\n",
    "#X=df[['horsepower', 'curb-weight', 'engine-size', 'highway-mpg']]\n",
    "X=df[['highway-mpg']]\n",
    "\n",
    "\n",
    "x_train, x_test, y_train, y_test = train_test_split(X, Y, test_size=0.3, random_state=0) #random_state is a random seed."
   ]
  },
  {
   "cell_type": "code",
   "execution_count": 13,
   "metadata": {},
   "outputs": [
    {
     "ename": "TypeError",
     "evalue": "predict() takes 2 positional arguments but 3 were given",
     "output_type": "error",
     "traceback": [
      "\u001b[1;31m---------------------------------------------------------------------------\u001b[0m",
      "\u001b[1;31mTypeError\u001b[0m                                 Traceback (most recent call last)",
      "\u001b[1;32m<ipython-input-13-2acb62271390>\u001b[0m in \u001b[0;36m<module>\u001b[1;34m\u001b[0m\n\u001b[0;32m     11\u001b[0m     \u001b[0mx_test_pr\u001b[0m\u001b[1;33m=\u001b[0m\u001b[0mpr\u001b[0m\u001b[1;33m.\u001b[0m\u001b[0mfit_transform\u001b[0m\u001b[1;33m(\u001b[0m\u001b[0mx_test\u001b[0m\u001b[1;33m[\u001b[0m\u001b[1;33m[\u001b[0m\u001b[1;34m'highway-mpg'\u001b[0m\u001b[1;33m]\u001b[0m\u001b[1;33m]\u001b[0m\u001b[1;33m)\u001b[0m\u001b[1;33m\u001b[0m\u001b[1;33m\u001b[0m\u001b[0m\n\u001b[0;32m     12\u001b[0m     \u001b[0mlr\u001b[0m\u001b[1;33m.\u001b[0m\u001b[0mfit\u001b[0m\u001b[1;33m(\u001b[0m\u001b[0mx_train_pr\u001b[0m\u001b[1;33m,\u001b[0m\u001b[0my_train\u001b[0m\u001b[1;33m)\u001b[0m\u001b[1;33m\u001b[0m\u001b[1;33m\u001b[0m\u001b[0m\n\u001b[1;32m---> 13\u001b[1;33m     \u001b[0mnpredict\u001b[0m \u001b[1;33m=\u001b[0m \u001b[0mlr\u001b[0m\u001b[1;33m.\u001b[0m\u001b[0mpredict\u001b[0m\u001b[1;33m(\u001b[0m\u001b[0mx_train_pr\u001b[0m\u001b[1;33m,\u001b[0m \u001b[0my_train\u001b[0m\u001b[1;33m)\u001b[0m\u001b[1;33m\u001b[0m\u001b[1;33m\u001b[0m\u001b[0m\n\u001b[0m\u001b[0;32m     14\u001b[0m     \u001b[0mRsqu_test\u001b[0m\u001b[1;33m.\u001b[0m\u001b[0mappend\u001b[0m\u001b[1;33m(\u001b[0m\u001b[0mlr\u001b[0m\u001b[1;33m.\u001b[0m\u001b[0mscore\u001b[0m\u001b[1;33m(\u001b[0m\u001b[0mx_test_pr\u001b[0m\u001b[1;33m,\u001b[0m\u001b[0my_test\u001b[0m\u001b[1;33m)\u001b[0m\u001b[1;33m)\u001b[0m\u001b[1;33m\u001b[0m\u001b[1;33m\u001b[0m\u001b[0m\n\u001b[0;32m     15\u001b[0m     \u001b[0mRsqu_train\u001b[0m\u001b[1;33m.\u001b[0m\u001b[0mappend\u001b[0m\u001b[1;33m(\u001b[0m\u001b[0mlr\u001b[0m\u001b[1;33m.\u001b[0m\u001b[0mscore\u001b[0m\u001b[1;33m(\u001b[0m\u001b[0mx_train_pr\u001b[0m\u001b[1;33m,\u001b[0m\u001b[0my_train\u001b[0m\u001b[1;33m)\u001b[0m\u001b[1;33m)\u001b[0m\u001b[1;33m\u001b[0m\u001b[1;33m\u001b[0m\u001b[0m\n",
      "\u001b[1;31mTypeError\u001b[0m: predict() takes 2 positional arguments but 3 were given"
     ]
    }
   ],
   "source": [
    "Rsqu_test=[]\n",
    "Rsqu_train=[]\n",
    "\n",
    "order=[1,2,3,4,5,6,7,8,9,10,11,12,13,14,15,16]\n",
    "\n",
    "lr = LinearRegression()\n",
    "\n",
    "for n in order:\n",
    "    pr=PolynomialFeatures(degree=n, include_bias=False)\n",
    "    x_train_pr=pr.fit_transform(x_train[['highway-mpg']])\n",
    "    x_test_pr=pr.fit_transform(x_test[['highway-mpg']])\n",
    "    lr.fit(x_train_pr,y_train)\n",
    "    Rsqu_test.append(lr.score(x_test_pr,y_test))\n",
    "    Rsqu_train.append(lr.score(x_train_pr,y_train))"
   ]
  },
  {
   "cell_type": "code",
   "execution_count": 7,
   "metadata": {},
   "outputs": [
    {
     "name": "stdout",
     "output_type": "stream",
     "text": [
      "[0.4539458347242429, 0.5931769826120138, 0.616831028253069, 0.6173420937802089, 0.6221087049911929, 0.6268514708009865, 0.6269924010593513, 0.6279281047361143, 0.6294772857328417, 0.6285583155188994, 0.6237293902630295, 0.6156505376029558, 0.6051610553032065, 0.5926232000978315, 0.5777749861698169, 0.5255281096246309]\n"
     ]
    }
   ],
   "source": [
    "print(Rsqu_test)"
   ]
  },
  {
   "cell_type": "code",
   "execution_count": 8,
   "metadata": {},
   "outputs": [
    {
     "name": "stdout",
     "output_type": "stream",
     "text": [
      "[0.4998847732603432, 0.6763386095850084, 0.7017702656546599, 0.7025867728653411, 0.7049411583913284, 0.7059630816144634, 0.7059687477925856, 0.7062970631555209, 0.7063748115690799, 0.7054228476791757, 0.7032764054713686, 0.699929595971009, 0.69506890306233, 0.6880383606054075, 0.6779321717044705, 0.6087800917787943]\n"
     ]
    }
   ],
   "source": [
    "print(Rsqu_train)"
   ]
  },
  {
   "cell_type": "markdown",
   "metadata": {},
   "source": [
    "<h2>Test error vs training error</h2>"
   ]
  },
  {
   "cell_type": "code",
   "execution_count": 9,
   "metadata": {},
   "outputs": [
    {
     "data": {
      "image/png": "[encoded data removed]",
      "text/plain": [
       "<Figure size 432x288 with 1 Axes>"
      ]
     },
     "metadata": {
      "needs_background": "light"
     },
     "output_type": "display_data"
    }
   ],
   "source": [
    "plt.title(\"Comparing test error with training error\")\n",
    "plt.plot(order, Rsqu_test, label=\"test\")\n",
    "plt.plot(order, Rsqu_train, label=\"train\")\n",
    "plt.legend()\n",
    "plt.ylim(0,1)\n",
    "plt.xlabel('Order')\n",
    "plt.ylabel('Error MSE')\n",
    "plt.show()"
   ]
  },
  {
   "cell_type": "code",
   "execution_count": null,
   "metadata": {},
   "outputs": [],
   "source": []
  }
 ],
 "metadata": {
  "kernelspec": {
   "display_name": "Python 3",
   "language": "python",
   "name": "python3"
  },
  "language_info": {
   "codemirror_mode": {
    "name": "ipython",
    "version": 3
   },
   "file_extension": ".py",
   "mimetype": "text/x-python",
   "name": "python",
   "nbconvert_exporter": "python",
   "pygments_lexer": "ipython3",
   "version": "3.7.3"
  }
 },
 "nbformat": 4,
 "nbformat_minor": 2
}
