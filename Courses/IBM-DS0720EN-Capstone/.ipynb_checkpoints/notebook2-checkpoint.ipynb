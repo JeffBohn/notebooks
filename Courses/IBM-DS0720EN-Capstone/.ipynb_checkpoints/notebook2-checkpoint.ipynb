{
 "cells": [
  {
   "cell_type": "markdown",
   "metadata": {},
   "source": [
    "<h1 style=\"text-align:center\">Data Science and Machine Learning Capstone Project</h1>\n",
    "<img style=\"float:right\" src=\"https://prod-edxapp.edx-cdn.org/static/edx.org/images/logo.790c9a5340cb.png\">\n",
    "<p style=\"text-align:center\">IBM: DS0720EN</p>\n",
    "<p style=\"text-align:center\">Question 2 of 4</p>"
   ]
  },
  {
   "cell_type": "markdown",
   "metadata": {},
   "source": [
    "1. [Problem Statement](#problem)\n",
    "2. [Question 2](#question)\n",
    "3. [Cleaning](#cleaning)\n",
    "4. [Analysis](#analysis)\n",
    "5. [Visualization](#visualize)\n",
    "6. [Concluding Remarks](#conclusion)"
   ]
  },
  {
   "cell_type": "markdown",
   "metadata": {},
   "source": [
    "<a id=\"problem\"></a>\n",
    "# Problem Statement\n",
    "---"
   ]
  },
  {
   "cell_type": "markdown",
   "metadata": {},
   "source": [
    "The people of New York use the 311 system to report complaints about the non-emergency problems to local authorities. Various agencies in New York are assigned these problems. The Department of Housing Preservation and Development of New York City is the agency that processes 311 complaints that are related to housing and buildings.\n",
    "\n",
    "In the last few years, the number of 311 complaints coming to the Department of Housing Preservation and Development has increased significantly. Although these complaints are not necessarily urgent, the large volume of complaints and the sudden increase is impacting the overall efficiency of operations of the agency.\n",
    "\n",
    "Therefore, the Department of Housing Preservation and Development has approached your organization to help them manage the large volume of 311 complaints they are receiving every year.\n",
    "\n",
    "The agency needs answers to several questions. The answers to those questions must be supported by data and analytics. These are their  questions:"
   ]
  },
  {
   "cell_type": "markdown",
   "metadata": {},
   "source": [
    "<a id=\"question\"></a>\n",
    "# Question 2\n",
    "---"
   ]
  },
  {
   "cell_type": "markdown",
   "metadata": {},
   "source": [
    "Should the Department of Housing Preservation and Development of New York City focus on any particular set of boroughs, ZIP codes, or street (where the complaints are severe) for the specific type of complaints you identified in response to Question 1?"
   ]
  },
  {
   "cell_type": "markdown",
   "metadata": {},
   "source": [
    "## Approach\n",
    "Analyze the data to see if there is a higher correlation between the HEATING complaints and any particular borough, ZIP code, or street."
   ]
  },
  {
   "cell_type": "markdown",
   "metadata": {},
   "source": [
    "## Load Data\n",
    "Separately the [New York 311](https://data.cityofnewyork.us/Social-Services/311-Service-Requests-from-2010-to-Present/erm2-nwe9) data was loaded by [SODA](https://data.cityofnewyork.us/resource/fhrw-4uyv.csv?$limit=100000000&Agency=HPD&$select=created_date,unique_key,complaint_type,incident_zip,incident_address,street_name,address_type,city,resolution_description,borough,latitude,longitude,closed_date,location_type,status) into a Pandas DataFrame then saved to a pickle file."
   ]
  },
  {
   "cell_type": "code",
   "execution_count": 1,
   "metadata": {},
   "outputs": [
    {
     "data": {
      "text/plain": [
       "(5862383, 15)"
      ]
     },
     "execution_count": 1,
     "metadata": {},
     "output_type": "execute_result"
    }
   ],
   "source": [
    "import pandas as pd\n",
    "df = pd.read_pickle('C:\\\\Users\\\\It_Co\\\\Documents\\\\DataScience\\\\Capstone\\\\ny311full.pkl') # Local\n",
    "#df = pd.read_pickle('./ny311.pkl') #IBM Cloud / Watson Studio\n",
    "df.shape"
   ]
  },
  {
   "cell_type": "markdown",
   "metadata": {},
   "source": [
    "<a id=\"cleaning\"></a>\n",
    "# Cleaning\n",
    "---"
   ]
  },
  {
   "cell_type": "markdown",
   "metadata": {},
   "source": [
    "<p style=\"color:Red;\"><b>Note</b>:  This section became very large.  Before submitting, I cut out much of it, but it is still over half the notebook.  If desired:"
   ]
  },
  {
   "cell_type": "markdown",
   "metadata": {},
   "source": [
    "[SKIP TO NEXT SECTION](#analysis)"
   ]
  },
  {
   "cell_type": "markdown",
   "metadata": {},
   "source": [
    "## Reduce data to relevant rows and columns"
   ]
  },
  {
   "cell_type": "code",
   "execution_count": 2,
   "metadata": {},
   "outputs": [],
   "source": [
    "#Remove rows that were not for the complaint types identified in question one.\n",
    "df.drop(df[df[\"complaint_type\"].isin([\"HEAT/HOT WATER\",\"HEATING\"])==False].index, inplace=True)\n",
    "#Remove columns deemed unnecessary for this question.\n",
    "df.drop(['created_date','complaint_type','resolution_description','closed_date','location_type','status','address_type'], axis=1, inplace=True)"
   ]
  },
  {
   "cell_type": "markdown",
   "metadata": {},
   "source": [
    "## Standardization"
   ]
  },
  {
   "cell_type": "markdown",
   "metadata": {},
   "source": [
    "Change values from different sources into the same format, units, or convention"
   ]
  },
  {
   "cell_type": "markdown",
   "metadata": {},
   "source": [
    "### General standardization"
   ]
  },
  {
   "cell_type": "code",
   "execution_count": 3,
   "metadata": {},
   "outputs": [],
   "source": [
    "#Normalize all strings to uppercase so different casing won't appear as separate values.\n",
    "df['incident_address'] = df['incident_address'].str.upper()\n",
    "df['street_name'] = df['street_name'].str.upper()\n",
    "df['city'] = df['city'].str.upper()\n",
    "df['borough'] = df['borough'].str.upper()"
   ]
  },
  {
   "cell_type": "markdown",
   "metadata": {},
   "source": [
    "### Borough standardization"
   ]
  },
  {
   "cell_type": "code",
   "execution_count": 4,
   "metadata": {},
   "outputs": [
    {
     "data": {
      "text/plain": [
       "BRONX            569960\n",
       "BROOKLYN         543166\n",
       "MANHATTAN        398552\n",
       "UNSPECIFIED      282917\n",
       "QUEENS           228447\n",
       "STATEN ISLAND     17419\n",
       "Name: borough, dtype: int64"
      ]
     },
     "execution_count": 4,
     "metadata": {},
     "output_type": "execute_result"
    }
   ],
   "source": [
    "df['borough'].value_counts()"
   ]
  },
  {
   "cell_type": "markdown",
   "metadata": {},
   "source": [
    "<p style=\"color:Red;\"><b>Insight</b>:  When the borough is UNSPECIFIED it appears to mean that often either the borough <i>or even a \"neighborhood\" (a division below borough)</i> has been entered in the CITY column.  The city is actually \"correct\" with NEW YORK only 59K times.  The city column is a de-facto \"neighborhood\" column for the most part.</p>"
   ]
  },
  {
   "cell_type": "code",
   "execution_count": 5,
   "metadata": {},
   "outputs": [],
   "source": [
    "#Correct rows where borough was entered in the city column with \"UNSPECIFIED\" in the borough column.\n",
    "import numpy as np\n",
    "five_boroughs = [\"BROOKLYN\",\"BRONX\",\"MANHATTAN\",\"QUEENS\",\"STATEN ISLAND\"]\n",
    "which_rows_to_adjust = df[(df[\"borough\"]=='UNSPECIFIED')&df[\"city\"].isin(five_boroughs)].index\n",
    "df.loc[which_rows_to_adjust,'borough']=df.loc[which_rows_to_adjust,'city']\n",
    "df.loc[which_rows_to_adjust,'city']=np.nan\n",
    "#Drop a few rows of ambiguous data.\n",
    "df.drop(df[(df[\"borough\"]=='MANHATTAN')&(df[\"city\"]=='BRONX')].index, axis=0, inplace=True)\n",
    "#Fill in UNSPECIFIED borough when city was entered as NEW YORK.\n",
    "which_rows_to_adjust = df[(df[\"borough\"]=='UNSPECIFIED')&(df[\"city\"]=='NEW YORK')].index\n",
    "df.loc[which_rows_to_adjust,'borough']=\"MANHATTAN\"\n",
    "df.loc[which_rows_to_adjust,'city']=np.nan\n",
    "#Although the city for most of the \"NEW YORK\" ones are the only ones that technically got the \"city\" column valued correctly,\n",
    "#since every other row uses city as \"neighborhood\":  Standardize these.\n",
    "which_rows_to_adjust = df[(df[\"city\"]=='NEW YORK')].index\n",
    "df.loc[which_rows_to_adjust,'city']=np.nan"
   ]
  },
  {
   "cell_type": "markdown",
   "metadata": {},
   "source": [
    "<p style=\"color:Red;\"><b>Decision</b>:  There are still 38K rows with unspecified boroughs, but the neighborhoods are in the city column, so use them to map to boroughs.</p>"
   ]
  },
  {
   "cell_type": "code",
   "execution_count": 6,
   "metadata": {},
   "outputs": [],
   "source": [
    "#See the neighborhoods of the still unspecified boroughs.\n",
    "neighborhoods = df[(df['borough']=='UNSPECIFIED')&(df['city'].isnull()==False)]['city'].unique()\n",
    "neighborhoods.sort()"
   ]
  },
  {
   "cell_type": "code",
   "execution_count": 7,
   "metadata": {},
   "outputs": [
    {
     "data": {
      "text/plain": [
       "BRONX            658545\n",
       "BROOKLYN         636554\n",
       "MANHATTAN        457638\n",
       "QUEENS           266565\n",
       "STATEN ISLAND     20881\n",
       "UNSPECIFIED         269\n",
       "Name: borough, dtype: int64"
      ]
     },
     "execution_count": 7,
     "metadata": {},
     "output_type": "execute_result"
    }
   ],
   "source": [
    "#All the neighborhoods above are in Queens according to Wikipedia.\n",
    "#Standardize borough for these rows with unspecified borough that are in Queens.\n",
    "which_rows_to_adjust = df[(df[\"borough\"]=='UNSPECIFIED')&df[\"city\"].isin(neighborhoods)].index\n",
    "df.loc[which_rows_to_adjust,'borough']=\"QUEENS\"\n",
    "df['borough'].value_counts()"
   ]
  },
  {
   "cell_type": "markdown",
   "metadata": {},
   "source": [
    "<p style=\"color:Red;\"><b>Insight</b>:  The above are some preliminary raw numbers to partially answer part of the the question.</p>"
   ]
  },
  {
   "cell_type": "code",
   "execution_count": 8,
   "metadata": {},
   "outputs": [],
   "source": [
    "#Fix rows with unspecified borough and no other practical information from which to derive it.\n",
    "which_rows_to_adjust = df[(df[\"borough\"]=='UNSPECIFIED')&df[\"city\"].isnull()].index\n",
    "df.loc[which_rows_to_adjust,'borough']=np.nan"
   ]
  },
  {
   "cell_type": "code",
   "execution_count": 9,
   "metadata": {},
   "outputs": [],
   "source": [
    "#Fix rows with city (neighborhood) equal to borough\n",
    "which_rows_to_adjust = df[(df[\"borough\"]==df[\"city\"])].index\n",
    "df.loc[which_rows_to_adjust,'city']=np.nan"
   ]
  },
  {
   "cell_type": "code",
   "execution_count": 10,
   "metadata": {},
   "outputs": [],
   "source": [
    "#Fix rows with city that started off null or was adjusted subsequently to be null\n",
    "which_rows_to_adjust = df[df[\"city\"].isnull()].index\n",
    "df.loc[which_rows_to_adjust,'city']=\"Unspecified\""
   ]
  },
  {
   "cell_type": "markdown",
   "metadata": {},
   "source": [
    "<p style=\"color:Red;\">At this point borough is reasonably populated with all the UNSPECIFIED and weird cases standardized.</p>"
   ]
  },
  {
   "cell_type": "markdown",
   "metadata": {},
   "source": [
    "### ZIP Code standardization"
   ]
  },
  {
   "cell_type": "markdown",
   "metadata": {},
   "source": [
    "<p style=\"color:Red;\"><b>Insight</b>:  The zip codes are all float64.  All of them have zero after the decimal point.  They are all five digits before the decimal point.  Almost 19K of the 2 Million+ rows are null.</p>"
   ]
  },
  {
   "cell_type": "markdown",
   "metadata": {},
   "source": [
    "<p style=\"color:Red;\"><b>Decision</b>:  None are deemed wrong, and there is not a convenient way to obtain values for the missing ones.  So no adjustments.</p>"
   ]
  },
  {
   "cell_type": "markdown",
   "metadata": {},
   "source": [
    "### Street"
   ]
  },
  {
   "cell_type": "markdown",
   "metadata": {},
   "source": [
    "<p style=\"color:Red;\"><b>Insight</b>:  Before any attempt at standardization, there were 5980 distinct street_name values in the data.  There was already some clues the same street may show up in more than one form."
   ]
  },
  {
   "cell_type": "markdown",
   "metadata": {},
   "source": [
    "<p style=\"color:Red;\"><b>Goal</b>:  Standardize the street names as much as possible.  The goal being so different representations of the same street are all totaled together as the same street.</p>"
   ]
  },
  {
   "cell_type": "code",
   "execution_count": 11,
   "metadata": {},
   "outputs": [],
   "source": [
    "# There is one row with a null street, so drop it to avoid errors standardizing it.\n",
    "df.drop(df[df[\"street_name\"].isnull()].index, axis=0, inplace=True)"
   ]
  },
  {
   "cell_type": "markdown",
   "metadata": {},
   "source": [
    "#### Insights\n",
    "Documented here in Python code form, so the \"documentation\" can also later be run to standardize the street names."
   ]
  },
  {
   "cell_type": "code",
   "execution_count": 12,
   "metadata": {},
   "outputs": [],
   "source": [
    "# Some street values have multiple spaces in a row.\n",
    "import re\n",
    "def standardize_spaces(raw):\n",
    "    result = raw.strip() #Remove leading and trailing spaces.\n",
    "    result = re.sub(' +', ' ', result) #Squeeze multiple adjacent spaces into just one space.\n",
    "    return result"
   ]
  },
  {
   "cell_type": "code",
   "execution_count": 13,
   "metadata": {},
   "outputs": [],
   "source": [
    "# Some streets have problematic characters.  For example:  ST. ANN'S AVENUE also exists without period or apostophe.\n",
    "problem_characters = ['.', '\\'']\n",
    "def replace_problem_characters(raw):\n",
    "    result = raw\n",
    "    for (character) in problem_characters:\n",
    "        result = result.replace(character,'')\n",
    "    return result"
   ]
  },
  {
   "cell_type": "code",
   "execution_count": 14,
   "metadata": {},
   "outputs": [],
   "source": [
    "#Streets are not always called a \"street\".\n",
    "street_suffixes = [\"STREET\",\"AVENUE\",\"BOULEVARD\",\"PLACE\",\"ROAD\",\"PARKWAY\",\"CONCOURSE\",\"DRIVE\",\"TERRACE\",\"HIGHWAY\",\"PARK\",\n",
    "                   \"EXPRESSWAY\",\"SQUARE\",\"PLAZA\",\"OVAL\",\"CRESCENT\",\"LANE\",\"COURT\",\"EXTENSION\",\"TURNPIKE\", \"LOOP\", \"ESTATE\", \"WAY\"]"
   ]
  },
  {
   "cell_type": "code",
   "execution_count": 15,
   "metadata": {},
   "outputs": [],
   "source": [
    "#Streets often have a directional element.  Can be different parts of the same street or entirely different streets.\n",
    "street_directionals = [\"SOUTH\",\"NORTH\",\"EAST\",\"WEST\",\"SOUTHWEST\",\"NORTHWEST\",\"SOUTHEAST\",\"NORTHEAST\"]"
   ]
  },
  {
   "cell_type": "code",
   "execution_count": 16,
   "metadata": {},
   "outputs": [],
   "source": [
    "#Some words are sometimes entered in a non-standard way or with typos need to be standardized.\n",
    "word_replacements = [(\"AVE\",\"AVENUE\"),(\"ST\",\"STREET\"),(\"RD\",\"ROAD\"),(\"FT\",\"FORT\"),(\"BX\",\"BRONX\"),(\"MT\",\"MOUNT\"),\n",
    "                     (\"NICHLAS\",\"NICHOLAS\"),(\"NICHALOS\",\"NICHOLAS\"),(\"EXPRE\",\"EXPRESSWAY\"),(\"HARACE\",\"HORACE\"),\n",
    "                     (\"NO\",\"NORTH\"),(\"AV\",\"AVENUE\"),(\"CRK\",\"CREEK\"),(\"FR\",\"FATHER\"),(\"JR\",\"JUNIOR\"),(\"GR\",\"GRAND\"),\n",
    "                     (\"CT\",\"COURT\"),\n",
    "                     (\"SR\",\"\"), # Service Road.  These are always near a similarly named street.  Lump together.\n",
    "                     (\"QN\",\"QUEENS\"),\n",
    "                     (\"ND\",\"\"), # A space between a number and ND such as EAST 52 ND STREET.  Note ST and RD can be street or road.\n",
    "                     (\"PO\",\"POND\"),(\"BO\",\"BOND\"),(\"GRA\",\"GRAND\"),(\"REV\",\"REVEREND\"),(\"CO-OP\",\"COOP\"),\n",
    "                     (\"GRANDCONCOURSE\", \"GRAND CONCOURSE\"),(\"CENTRL\", \"CENTRAL\"),(\"BLVD\",\"BOULEVARD\"),\n",
    "                     (\"FREDRICK\", \"FREDERICK\"),(\"DOUGLAS\", \"DOUGLASS\"),(\"MALCOM\", \"MALCOMN\"),\n",
    "                     (\"NORTHEN\", \"NORTHERN\"),(\"AVNEUE\",\"AVENUE\")]\n",
    "def replace_words(raw):\n",
    "    split_raw = raw.split()\n",
    "    for (old, new) in word_replacements:\n",
    "        found_at_index = next((i for i, x in enumerate(split_raw) if x==old), None)\n",
    "        if found_at_index!=None:\n",
    "            split_raw[found_at_index] = new\n",
    "            return standardize_spaces(\" \".join(split_raw))\n",
    "    return raw"
   ]
  },
  {
   "cell_type": "code",
   "execution_count": 17,
   "metadata": {},
   "outputs": [],
   "source": [
    "#Abbreviations that are sometimes not abbreviations.  \n",
    "#Only replace them if they are not part of a two word street.\n",
    "#Example:  Change 55 AVENUE N to 55 AVENUE NORTH but do not change AVENUE N to AVENUE NORTH.\n",
    "abbreviation_replacements = [(\"N\",\"NORTH\"),(\"S\",\"SOUTH\"),(\"E\",\"EAST\"),(\"W\",\"WEST\"),(\"SW\",\"SOUTHWEST\"),\n",
    "                             (\"NW\",\"NORTHWEST\"),(\"SE\",\"SOUTHEAST\"),(\"NE\",\"NORTHEAST\")]\n",
    "def replace_tricky_abbreviations(raw):\n",
    "    split_raw = raw.split()\n",
    "    if len(split_raw)!=2:  # AVENUE N, E STREET, etc.\n",
    "        for (old, new) in abbreviation_replacements:\n",
    "            found_at_index = next((i for i, x in enumerate(split_raw) if x==old), None)\n",
    "            if found_at_index!=None:\n",
    "                split_raw[found_at_index] = new\n",
    "                return \" \".join(split_raw)\n",
    "    return raw"
   ]
  },
  {
   "cell_type": "code",
   "execution_count": 18,
   "metadata": {},
   "outputs": [],
   "source": [
    "#Some words are actually prefixes of the following word.  Example the LA prefix of LA GRANGE.\n",
    "word_prefixes = [\"DE\",\"MC\",\"LA\",\"VAN\",\"MAC\",\"CO\"]\n",
    "def concatenate_prefixes(raw):\n",
    "    split_raw = raw.split()\n",
    "    last_word = len(split_raw) - 1\n",
    "    for (prefix) in word_prefixes:\n",
    "        found_at_index = next((i for i, x in enumerate(split_raw) if x==prefix), None)\n",
    "        if found_at_index!=None:\n",
    "            if len(split_raw)>1:\n",
    "                if found_at_index != last_word:\n",
    "                    split_raw[found_at_index] = ''\n",
    "                    split_raw[found_at_index+1] = prefix + split_raw[found_at_index+1]\n",
    "                    return standardize_spaces(\" \".join(split_raw))\n",
    "    return raw"
   ]
  },
  {
   "cell_type": "code",
   "execution_count": 19,
   "metadata": {},
   "outputs": [],
   "source": [
    "#Some phrases need custom replacement because they involve multiple words or easily mis-interpretted out of context.\n",
    "phrase_replacements = [(\"DR M L KING JR\",\"MARTIN LUTHER KING\"),(\"DR MARTIN L KING\",\"MARTIN LUTHER KING\"),\n",
    "    (\"MARTIN LUTHER KING\",\"MARTIN LUTHER KING\"),(\"MARTIN L KING JR\",\"MARTIN LUTHER KING\"),\n",
    "    (\"MARTIN L KING\",\"MARTIN LUTHER KING\"),(\"ST NICHOLAS\",\"SAINT NICHOLAS\"),(\"ST JOHN\",\"SAINT JOHN\"),\n",
    "    (\"ST MARK\",\"SAINT MARK\"),(\"ST ANN\",\"SAINT ANN\"),(\"ST LAWRENCE\",\"SAINT LAWRENCE\"),(\"ST PAUL\",\"SAINT PAUL\"),\n",
    "    (\"ST PETER\",\"SAINT PETER\"),(\"ST RAYMOND\",\"SAINT RAYMOND\"),(\"ST THERESA\",\"SAINT THERESA\"),(\"ST FELIX\",\"SAINT FELIX\"),\n",
    "    (\"ST MARY\",\"SAINT MARY\"),(\"ST OUEN\",\"SAINT OUEN\"),(\"ST JAMES\",\"SAINT JAMES\"),(\"ST GEORGE\",\"SAINT GEORGE\"),\n",
    "    (\"ST EDWARD\",\"SAINT EDWARD\"),(\"ST CHARLES\",\"SAINT CHARLES\"),(\"ST FRANCIS\",\"SAINT FRANCIS\"),\n",
    "    (\"ST ANDREW\",\"SAINT ANDREW\"),(\"ST JUDE\",\"SAINT JUDE\"),(\"ST LUKE\",\"SAINT LUKE\"),(\"ST JOSEPH\",\"SAINT JOSEPH\"),\n",
    "    (\"N D PERLMAN\",\"NATHAN PERLMAN\"),(\"O BRIEN\",\"OBRIEN\"),(\"F D R\",\"FDR\"),(\"EXPRESSWAY N SR\",\"EXPRESSWAY SR N\"),\n",
    "    (\"HOR HARDING\",\"HORACE HARDING\"),\n",
    "    (\"SERVICE ROAD\",\"\"), # These are always near a similarly named street. Lump together.\n",
    "    (\"DUMMY\",\"\"),(\"ADAM C POWELL\",\"ADAM CLAYTON POWELL\"),(\"POWELL COVE\",\"POWELLS COVE\")]\n",
    "def replace_phrases(raw):\n",
    "    result = raw\n",
    "    for (old,new) in phrase_replacements:\n",
    "        result = standardize_spaces(result.replace(old,new))\n",
    "    return result"
   ]
  },
  {
   "cell_type": "code",
   "execution_count": 20,
   "metadata": {},
   "outputs": [],
   "source": [
    "# 1ST, 2ND, 3RD, 4TH, ... nTH\n",
    "# Remove the suffixes leaving the numbers by themselves.\n",
    "number_suffixes = [\"ST\",\"ND\",\"RD\",\"TH\"]\n",
    "digits=[\"1\",\"2\",\"3\",\"4\",\"5\",\"6\",\"7\",\"8\",\"9\",\"0\"]\n",
    "def remove_number_suffixes(raw):\n",
    "    split_raw = raw.split()\n",
    "    for suffix in number_suffixes:\n",
    "        found_at_index = next((i for i, x in enumerate(split_raw) if x[0] in digits and x.endswith(suffix)), None) \n",
    "        if found_at_index!=None:            \n",
    "            split_raw[found_at_index] = split_raw[found_at_index][:-2]\n",
    "            return standardize_spaces(\" \".join(split_raw))\n",
    "    return raw"
   ]
  },
  {
   "cell_type": "markdown",
   "metadata": {},
   "source": [
    "#### Standardize Function"
   ]
  },
  {
   "cell_type": "markdown",
   "metadata": {},
   "source": [
    "<p style=\"color:Red;\">This function applies all standardizations.</p>"
   ]
  },
  {
   "cell_type": "code",
   "execution_count": 21,
   "metadata": {},
   "outputs": [],
   "source": [
    "def standardize_street(street):\n",
    "    r = street # 5979.                        Improvement:  0\n",
    "    r = standardize_spaces(r) # 5324.         Improvement:  655\n",
    "    r = replace_problem_characters(r) #5321   Improvement:  3\n",
    "    r = replace_phrases(r) #5305              Improvement:  16\n",
    "    r = replace_words(r) #5193                Improvement:  112\n",
    "    r = replace_tricky_abbreviations(r) #5174 Improvement:  19 \n",
    "    r = concatenate_prefixes(r) #5158         Improvement:  16\n",
    "    r = remove_number_suffixes(r) #5141       Improvement:  17\n",
    "    return r"
   ]
  },
  {
   "cell_type": "markdown",
   "metadata": {},
   "source": [
    "#### Run the standardize function"
   ]
  },
  {
   "cell_type": "code",
   "execution_count": 22,
   "metadata": {},
   "outputs": [
    {
     "name": "stdout",
     "output_type": "stream",
     "text": [
      "Improvement: 14.02%\n"
     ]
    }
   ],
   "source": [
    "before = float(df['street_name'].unique().size)\n",
    "df['street_name'] = df['street_name'].apply(standardize_street)\n",
    "after = float(df['street_name'].unique().size)\n",
    "print(\"Improvement: {:.2%}\".format((before - after) / before))"
   ]
  },
  {
   "cell_type": "markdown",
   "metadata": {},
   "source": [
    "<p style=\"color:Red;\"><b>Insight</b>:  A significant percent of the street were alternate spellings of the same street that would have otherwise been counted as entirely separate streets.  Ultimately these affected the counts proportionally so did not change the final results, but the high percentage suggests it very well could have, had the duplicates been less proptionally distributed.</p>"
   ]
  },
  {
   "cell_type": "markdown",
   "metadata": {},
   "source": [
    "<a id=\"analysis\"></a>\n",
    "# Analysis\n",
    "---"
   ]
  },
  {
   "cell_type": "markdown",
   "metadata": {},
   "source": [
    "Some of the analysis took place while cleaning the data in the previous section.  Insights from that effort included:"
   ]
  },
  {
   "cell_type": "markdown",
   "metadata": {},
   "source": [
    "<ul>\n",
    "<li>Many specify a borough in the city field.\n",
    "<li>Many Manhattan complaints enter city and borough differently than the others.\n",
    "<li>Many Queens complaints are entered only with \"neighborhood\" in the city field, without borough.\n",
    "<li>There is quite a bit of variety in how many ways the same streets can be entered.\n",
    "</ul>"
   ]
  },
  {
   "cell_type": "markdown",
   "metadata": {},
   "source": [
    "The main findings will be primarily based on counting the number of complaints in each location by borough, ZIP code and street."
   ]
  },
  {
   "cell_type": "code",
   "execution_count": 23,
   "metadata": {},
   "outputs": [
    {
     "name": "stdout",
     "output_type": "stream",
     "text": [
      "\n",
      "--Top Boroughs\n",
      "BRONX            658544\n",
      "BROOKLYN         636554\n",
      "MANHATTAN        457638\n",
      "QUEENS           266565\n",
      "STATEN ISLAND     20881\n",
      "Name: borough, dtype: int64\n",
      "\n",
      "--Top ZIP codes\n",
      "11226.0    65493\n",
      "10467.0    62732\n",
      "10458.0    62230\n",
      "10468.0    55022\n",
      "10453.0    54877\n",
      "Name: incident_zip, dtype: int64\n",
      "\n",
      "--Top Streets\n",
      "GRAND CONCOURSE    36247\n",
      "BROADWAY           23497\n",
      "OCEAN AVENUE       17882\n",
      "ARDEN STREET       15841\n",
      "MORRIS AVENUE      15793\n",
      "Name: street_name, dtype: int64\n"
     ]
    }
   ],
   "source": [
    "print(\"\\n--Top Boroughs\")\n",
    "print(df['borough'].value_counts().head())\n",
    "print(\"\\n--Top ZIP codes\")\n",
    "print(df['incident_zip'].value_counts().head())\n",
    "print(\"\\n--Top Streets\")\n",
    "print(df['street_name'].value_counts().head())"
   ]
  },
  {
   "cell_type": "code",
   "execution_count": 24,
   "metadata": {},
   "outputs": [
    {
     "data": {
      "text/html": [
       "<div>\n",
       "<style scoped>\n",
       "    .dataframe tbody tr th:only-of-type {\n",
       "        vertical-align: middle;\n",
       "    }\n",
       "\n",
       "    .dataframe tbody tr th {\n",
       "        vertical-align: top;\n",
       "    }\n",
       "\n",
       "    .dataframe thead th {\n",
       "        text-align: right;\n",
       "    }\n",
       "</style>\n",
       "<table border=\"1\" class=\"dataframe\">\n",
       "  <thead>\n",
       "    <tr style=\"text-align: right;\">\n",
       "      <th></th>\n",
       "      <th></th>\n",
       "      <th>count</th>\n",
       "    </tr>\n",
       "    <tr>\n",
       "      <th>borough</th>\n",
       "      <th>incident_zip</th>\n",
       "      <th></th>\n",
       "    </tr>\n",
       "  </thead>\n",
       "  <tbody>\n",
       "    <tr>\n",
       "      <th>BROOKLYN</th>\n",
       "      <th>11226.0</th>\n",
       "      <td>65493</td>\n",
       "    </tr>\n",
       "    <tr>\n",
       "      <th rowspan=\"5\" valign=\"top\">BRONX</th>\n",
       "      <th>10467.0</th>\n",
       "      <td>62732</td>\n",
       "    </tr>\n",
       "    <tr>\n",
       "      <th>10458.0</th>\n",
       "      <td>62230</td>\n",
       "    </tr>\n",
       "    <tr>\n",
       "      <th>10468.0</th>\n",
       "      <td>55022</td>\n",
       "    </tr>\n",
       "    <tr>\n",
       "      <th>10453.0</th>\n",
       "      <td>54877</td>\n",
       "    </tr>\n",
       "    <tr>\n",
       "      <th>10452.0</th>\n",
       "      <td>47450</td>\n",
       "    </tr>\n",
       "    <tr>\n",
       "      <th>MANHATTAN</th>\n",
       "      <th>10040.0</th>\n",
       "      <td>43318</td>\n",
       "    </tr>\n",
       "    <tr>\n",
       "      <th>BRONX</th>\n",
       "      <th>10457.0</th>\n",
       "      <td>43311</td>\n",
       "    </tr>\n",
       "    <tr>\n",
       "      <th>MANHATTAN</th>\n",
       "      <th>10031.0</th>\n",
       "      <td>42561</td>\n",
       "    </tr>\n",
       "    <tr>\n",
       "      <th>BRONX</th>\n",
       "      <th>10456.0</th>\n",
       "      <td>42078</td>\n",
       "    </tr>\n",
       "  </tbody>\n",
       "</table>\n",
       "</div>"
      ],
      "text/plain": [
       "                        count\n",
       "borough   incident_zip       \n",
       "BROOKLYN  11226.0       65493\n",
       "BRONX     10467.0       62732\n",
       "          10458.0       62230\n",
       "          10468.0       55022\n",
       "          10453.0       54877\n",
       "          10452.0       47450\n",
       "MANHATTAN 10040.0       43318\n",
       "BRONX     10457.0       43311\n",
       "MANHATTAN 10031.0       42561\n",
       "BRONX     10456.0       42078"
      ]
     },
     "execution_count": 24,
     "metadata": {},
     "output_type": "execute_result"
    }
   ],
   "source": [
    "#Examine the data grouped by combinations of borough and zip, and zip and street, etc.\n",
    "counts = df[['unique_key','borough', 'incident_zip']].groupby(['borough', 'incident_zip']).count()\n",
    "counts.columns = ['count']\n",
    "counts = counts[counts['count'] > 30]\n",
    "counts.sort_values(by=['count'], ascending=False, inplace=True)\n",
    "\n",
    "counts.head(10)"
   ]
  },
  {
   "cell_type": "markdown",
   "metadata": {},
   "source": [
    "<a id=\"visualize\"></a>\n",
    "# Visualization\n",
    "---"
   ]
  },
  {
   "cell_type": "code",
   "execution_count": 25,
   "metadata": {},
   "outputs": [],
   "source": [
    "%matplotlib inline \n",
    "import matplotlib.pyplot as plt"
   ]
  },
  {
   "cell_type": "code",
   "execution_count": 26,
   "metadata": {},
   "outputs": [
    {
     "data": {
      "image/png": "[encoded data removed]",
      "text/plain": [
       "<Figure size 936x288 with 1 Axes>"
      ]
     },
     "metadata": {
      "needs_background": "light"
     },
     "output_type": "display_data"
    }
   ],
   "source": [
    "# Graph complaints for each borough.\n",
    "totals_for_graph = df['borough'].value_counts()\n",
    "graph_width_max = totals_for_graph.max()\n",
    "plotted_graph = totals_for_graph.plot(kind='barh', figsize=(13, 4), color='skyblue')\n",
    "plt.xlim = (0, graph_width_max)\n",
    "plt.xlabel('Number of complaints')\n",
    "plt.title('HEATING / HOT WATER complaints by borough')\n",
    "for index, value in enumerate(totals_for_graph): \n",
    "    label_on_bar_text = format(int(value), ',')\n",
    "    plt.annotate(label_on_bar_text, xy=(value, index - 0.10), color='darkblue')\n",
    "plt.show()\n",
    "plt.close()\n",
    "plotted_graph.clear()"
   ]
  },
  {
   "cell_type": "markdown",
   "metadata": {},
   "source": [
    "<p style=\"color:Red;\"><b>Insight</b>:  There is a more severe number of heating / hot water complaints in BRONX and BROOKLYN relative to the other boroughs.</p>"
   ]
  },
  {
   "cell_type": "code",
   "execution_count": 27,
   "metadata": {},
   "outputs": [],
   "source": [
    "# Create a function to draw a bar graph so that it can be used repeatedly to visualize many different things.\n",
    "def draw_graph(current_borough, current_value):\n",
    "    graph_width_max = df[df['borough']==current_borough][current_value]\n",
    "    totals_for_graph = df[df['borough']==current_borough][current_value].value_counts().head(10)\n",
    "    graph_width_max = totals_for_graph.max()\n",
    "    plt.figure()\n",
    "    plotted_graph = totals_for_graph.plot(kind='barh', figsize=(11, 5), color='skyblue')\n",
    "    plt.xlim = (0, graph_width_max)\n",
    "    plt.xlabel('Number of complaints')\n",
    "    plt.title('HEATING / HOT WATER complaints by ' + current_borough + ' ' + current_value)\n",
    "    for index, value in enumerate(totals_for_graph): \n",
    "        label_on_bar_text = format(int(value), ',')\n",
    "        plt.annotate(label_on_bar_text, xy=(value, index - 0.10), color='darkblue')\n",
    "    plt.show()\n",
    "    plt.close()\n",
    "    plotted_graph.clear()"
   ]
  },
  {
   "cell_type": "code",
   "execution_count": 28,
   "metadata": {},
   "outputs": [
    {
     "data": {
      "image/png": "[encoded data removed]",
      "text/plain": [
       "<Figure size 792x360 with 1 Axes>"
      ]
     },
     "metadata": {
      "needs_background": "light"
     },
     "output_type": "display_data"
    }
   ],
   "source": [
    "draw_graph(\"BRONX\", \"incident_zip\")"
   ]
  },
  {
   "cell_type": "markdown",
   "metadata": {},
   "source": [
    "<p style=\"color:Red;\"><b>Insight</b>:  There are plenty of BRONX ZIP codes with a high number of complaints, but it it highest in ZIP codes:  10458 and 10467.</p>"
   ]
  },
  {
   "cell_type": "code",
   "execution_count": 29,
   "metadata": {},
   "outputs": [
    {
     "data": {
      "image/png": "[encoded data removed]",
      "text/plain": [
       "<Figure size 792x360 with 1 Axes>"
      ]
     },
     "metadata": {
      "needs_background": "light"
     },
     "output_type": "display_data"
    }
   ],
   "source": [
    "draw_graph(\"BRONX\", \"street_name\")"
   ]
  },
  {
   "cell_type": "markdown",
   "metadata": {},
   "source": [
    "<p style=\"color:Red;\"><b>Insight</b>:  In the BRONX borough, there are markedly more complaints on street:  GRAND CONCOURSE.</p>"
   ]
  },
  {
   "cell_type": "code",
   "execution_count": 30,
   "metadata": {},
   "outputs": [
    {
     "data": {
      "image/png": "[encoded data removed]",
      "text/plain": [
       "<Figure size 792x360 with 1 Axes>"
      ]
     },
     "metadata": {
      "needs_background": "light"
     },
     "output_type": "display_data"
    }
   ],
   "source": [
    "draw_graph(\"BROOKLYN\", \"incident_zip\")"
   ]
  },
  {
   "cell_type": "markdown",
   "metadata": {},
   "source": [
    "<p style=\"color:Red;\"><b>Insight</b>:  In the BROOKLYN borough, there are markedly more complaints in ZIP code:  11226.</p>"
   ]
  },
  {
   "cell_type": "code",
   "execution_count": 31,
   "metadata": {},
   "outputs": [
    {
     "data": {
      "image/png": "[encoded data removed]",
      "text/plain": [
       "<Figure size 792x360 with 1 Axes>"
      ]
     },
     "metadata": {
      "needs_background": "light"
     },
     "output_type": "display_data"
    }
   ],
   "source": [
    "draw_graph(\"BROOKLYN\", \"street_name\")"
   ]
  },
  {
   "cell_type": "markdown",
   "metadata": {},
   "source": [
    "<p style=\"color:Red;\"><b>Insight</b>:  In the BROOKLYN borough, there are markedly more complaints on street:  OCEAN AVENUE.</p>"
   ]
  },
  {
   "cell_type": "code",
   "execution_count": 32,
   "metadata": {},
   "outputs": [
    {
     "data": {
      "image/png": "[encoded data removed]",
      "text/plain": [
       "<Figure size 792x360 with 1 Axes>"
      ]
     },
     "metadata": {
      "needs_background": "light"
     },
     "output_type": "display_data"
    }
   ],
   "source": [
    "# There was one street in one of the other boroughs noticed during analysis that had a lot of complaints.\n",
    "draw_graph(\"MANHATTAN\", \"street_name\")"
   ]
  },
  {
   "cell_type": "markdown",
   "metadata": {},
   "source": [
    "<p style=\"color:Red;\"><b>Insight</b>:  Even though the MANHATTAN borough as a whole had less complaints than BRONX or BROOKLYN, there were a very large number of complaints on street:  BROADWAY.</p>"
   ]
  },
  {
   "cell_type": "markdown",
   "metadata": {},
   "source": [
    "<a id=\"conclusion\"></a>\n",
    "# Concluding Remarks\n",
    "---"
   ]
  },
  {
   "cell_type": "markdown",
   "metadata": {},
   "source": [
    "The Department of Housing Preservation and Development of New York City should focus on the BRONX and BROOKLYN boroughs in general.  In the BRONX the focus should first be on ZIP codes 10458 and 10467 and along the street named GRAND CONCOURSE.  In BROOKLYN focus first on ZIP code 11226, but then before moving to OCEAN AVENUE first deal with complaints along BROADWAY in the borough of MANHATTAN."
   ]
  }
 ],
 "metadata": {
  "kernelspec": {
   "display_name": "Python 3",
   "language": "python",
   "name": "python3"
  },
  "language_info": {
   "codemirror_mode": {
    "name": "ipython",
    "version": 3
   },
   "file_extension": ".py",
   "mimetype": "text/x-python",
   "name": "python",
   "nbconvert_exporter": "python",
   "pygments_lexer": "ipython3",
   "version": "3.7.3"
  }
 },
 "nbformat": 4,
 "nbformat_minor": 1
}
