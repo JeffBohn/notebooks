{
 "cells": [
  {
   "cell_type": "code",
   "execution_count": null,
   "metadata": {},
   "outputs": [],
   "source": [
    "import pandas as pd"
   ]
  },
  {
   "cell_type": "code",
   "execution_count": null,
   "metadata": {},
   "outputs": [],
   "source": [
    "pd.read_csv()\n",
    "pd.read_csv(header=None)"
   ]
  },
  {
   "cell_type": "code",
   "execution_count": null,
   "metadata": {},
   "outputs": [],
   "source": [
    "#data cleaning, data wrangling"
   ]
  },
  {
   "cell_type": "code",
   "execution_count": null,
   "metadata": {},
   "outputs": [],
   "source": [
    "#check distribution\n",
    "df.describe() # only numeric\n",
    "df.describe(include=\"all\") # every column\n",
    "df[['cola','colb')]].describe() # select columns\n",
    "df.info()"
   ]
  },
  {
   "cell_type": "code",
   "execution_count": null,
   "metadata": {},
   "outputs": [],
   "source": [
    "#make sure data types are proper\n",
    "df.dtypes"
   ]
  },
  {
   "cell_type": "code",
   "execution_count": null,
   "metadata": {},
   "outputs": [],
   "source": [
    "#fill in headers if missing\n",
    "headers = [\"symboling\",\"normalized-losses\",\"make\",\"fuel-type\",\"aspiration\", \"num-of-doors\",\"body-style\",\n",
    "         \"drive-wheels\",\"engine-location\",\"wheel-base\", \"length\",\"width\",\"height\",\"curb-weight\",\"engine-type\",\n",
    "         \"num-of-cylinders\", \"engine-size\",\"fuel-system\",\"bore\",\"stroke\",\"compression-ratio\",\"horsepower\",\n",
    "         \"peak-rpm\",\"city-mpg\",\"highway-mpg\",\"price\"]\n",
    "df.columns = headers"
   ]
  },
  {
   "cell_type": "code",
   "execution_count": null,
   "metadata": {},
   "outputs": [],
   "source": [
    "#identify and handle missing values"
   ]
  },
  {
   "cell_type": "code",
   "execution_count": null,
   "metadata": {},
   "outputs": [],
   "source": [
    "#Options include:\n",
    "#Try to find the missing data by consulting the source.\n",
    "#Remove the data that has the missing piece.  the whole variable or just the row with the missing element.\n",
    "#Replace the missing data with a guess, such as the average or most common value of the other data.\n",
    "#The source of the data might have extra knowledge about the data.  Something like \"that field is often missing on older cars\".\n",
    "#Leave it missing."
   ]
  },
  {
   "cell_type": "code",
   "execution_count": null,
   "metadata": {},
   "outputs": [],
   "source": [
    "#dropping rows with missing data.\n",
    "#axis=0 means drop an entire row\n",
    "#axis=1 means drop an entire column\n",
    "#inplace=True means write the results back into the dataframe.\n",
    "#in this example it is dropping a row from the \"price\" column.\n",
    "df.dropna(subset=[\"price\"], axis=0, inplace=True)\n",
    "#doing this without inplace=True won't change the data, but can display it during testing."
   ]
  },
  {
   "cell_type": "code",
   "execution_count": null,
   "metadata": {},
   "outputs": [],
   "source": [
    "#data formatting\n",
    "#standardize the values into the same format, unit, or convention."
   ]
  },
  {
   "cell_type": "code",
   "execution_count": null,
   "metadata": {},
   "outputs": [],
   "source": [
    "#Adjusting column data for every sample (row) in the column.\n",
    "#This is just adding one, but it could also do things like convert miles to kilometers, etc.\n",
    "#Convert New York to NY, etc.\n",
    "df[\"symboling\"] = df['symboling']+1\n",
    "\n",
    "#another example:\n",
    "df[\"city-mpg\"]= 235/df[\"city-mpg\"]\n",
    "df.rename(columns={\"city_mpg\": \"city-L/100km\"}, inplace=True)  # Change the column heading to reflect what changed.\n",
    "\n",
    "#numbers of type object needing to be converted to a number\n",
    "df[\"price\"] = df[\"price\"].astype(\"int\")\n"
   ]
  },
  {
   "cell_type": "code",
   "execution_count": null,
   "metadata": {},
   "outputs": [],
   "source": [
    "#replacing missing values with the mean value\n",
    "mean = df[\"normalized-losses\"].mean()\n",
    "df[\"normalized-losses\"].replace(np.nan, mean)"
   ]
  },
  {
   "cell_type": "code",
   "execution_count": null,
   "metadata": {},
   "outputs": [],
   "source": [
    "#data normalization (centering / scaling)"
   ]
  },
  {
   "cell_type": "code",
   "execution_count": null,
   "metadata": {},
   "outputs": [],
   "source": [
    "# It may involve changing all values for a column to be between zero and one retaining same proportions with each other."
   ]
  },
  {
   "cell_type": "code",
   "execution_count": null,
   "metadata": {},
   "outputs": [],
   "source": [
    "#simple scaling\n",
    "df[\"length\"] = df[\"length\"]/df[\"length\"].max()\n",
    "#min-max\n",
    "df[\"length\"] = (df[\"length\"]-df[\"length\"].min())/(df[\"length\"].max()-df[\"length\"].min())\n",
    "#z-score.  Mostly -3 to +3.\n",
    "df[\"length\"] = (df[\"length\"]-df[\"length\"].mean())/df[\"length\"].std()"
   ]
  },
  {
   "cell_type": "code",
   "execution_count": null,
   "metadata": {},
   "outputs": [],
   "source": [
    "#save the adjusted data\n",
    "df.to_csv(\"automobile.csv\", index=False)"
   ]
  },
  {
   "cell_type": "code",
   "execution_count": null,
   "metadata": {},
   "outputs": [],
   "source": [
    "#data binning"
   ]
  },
  {
   "cell_type": "code",
   "execution_count": null,
   "metadata": {},
   "outputs": [],
   "source": [
    "#Bins covering equal sized ranges of the range of a value.\n",
    "bins = np.linspace(min(df[\"price\"]), max(df[\"price\"]), 4)  # four equally spaced numbers covering the whole range of prices.\n",
    "    #which results in two on each end, and then two more that break the range into 3 equal areas.\n",
    "group_names[\"Low\",\"Medium\",\"High\"]\n",
    "df[\"price-binned\"]=pd.cut(df[\"price\"], bins, labels=group_names, include_lowest=True)"
   ]
  },
  {
   "cell_type": "code",
   "execution_count": null,
   "metadata": {},
   "outputs": [],
   "source": [
    "#Turn categorical values to quantitative (numeric) variables"
   ]
  },
  {
   "cell_type": "code",
   "execution_count": null,
   "metadata": {},
   "outputs": [],
   "source": [
    "#One-hot encoding adds a column with a 0,1 flag for each category in another column.\n",
    "pd.get_dummies(df['fuel'])  #converts (gas, diesel) into two separate flag columns for gas and diesel."
   ]
  }
 ],
 "metadata": {
  "kernelspec": {
   "display_name": "Python 3",
   "language": "python",
   "name": "python3"
  },
  "language_info": {
   "codemirror_mode": {
    "name": "ipython",
    "version": 3
   },
   "file_extension": ".py",
   "mimetype": "text/x-python",
   "name": "python",
   "nbconvert_exporter": "python",
   "pygments_lexer": "ipython3",
   "version": "3.7.3"
  }
 },
 "nbformat": 4,
 "nbformat_minor": 2
}
