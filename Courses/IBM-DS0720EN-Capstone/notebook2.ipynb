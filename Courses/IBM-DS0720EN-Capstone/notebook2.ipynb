{
 "cells": [
  {
   "cell_type": "markdown",
   "metadata": {},
   "source": [
    "<h1 style=\"text-align:center\">Data Science and Machine Learning Capstone Project</h1>\n",
    "<img style=\"float:right\" src=\"https://prod-edxapp.edx-cdn.org/static/edx.org/images/logo.790c9a5340cb.png\">\n",
    "<p style=\"text-align:center\">IBM: DS0720EN</p>\n",
    "<p style=\"text-align:center\">Question 2 of 4</p>"
   ]
  },
  {
   "cell_type": "markdown",
   "metadata": {},
   "source": [
    "1. [Problem Statement](#problem)\n",
    "2. [Question 2](#question)\n",
    "3. [Analyzing and Visualizing](#analysis)\n",
    "4. [Concluding Remarks](#conclusion)"
   ]
  },
  {
   "cell_type": "markdown",
   "metadata": {},
   "source": [
    "<a id=\"problem\"></a>\n",
    "## Problem Statement\n",
    "---"
   ]
  },
  {
   "cell_type": "markdown",
   "metadata": {},
   "source": [
    "The people of New York use the 311 system to report complaints about the non-emergency problems to local authorities. Various agencies in New York are assigned these problems. The Department of Housing Preservation and Development of New York City is the agency that processes 311 complaints that are related to housing and buildings.\n",
    "\n",
    "In the last few years, the number of 311 complaints coming to the Department of Housing Preservation and Development has increased significantly. Although these complaints are not necessarily urgent, the large volume of complaints and the sudden increase is impacting the overall efficiency of operations of the agency.\n",
    "\n",
    "Therefore, the Department of Housing Preservation and Development has approached your organization to help them manage the large volume of 311 complaints they are receiving every year.\n",
    "\n",
    "The agency needs answers to several questions. The answers to those questions must be supported by data and analytics. These are their  questions:"
   ]
  },
  {
   "cell_type": "markdown",
   "metadata": {},
   "source": [
    "<a id=\"question\"></a>\n",
    "## Question 2\n",
    "---"
   ]
  },
  {
   "cell_type": "markdown",
   "metadata": {},
   "source": [
    "Should the Department of Housing Preservation and Development of New York City focus on any particular set of boroughs, ZIP codes, or street (where the complaints are severe) for the specific type of complaints you identified in response to Question 1?"
   ]
  },
  {
   "cell_type": "markdown",
   "metadata": {},
   "source": [
    "### Approach\n",
    "Analyze the data to see if there is a higher correlation between the HEATING complaints and any particular borough, ZIP code, or street."
   ]
  },
  {
   "cell_type": "markdown",
   "metadata": {},
   "source": [
    "### Load Data\n",
    "Separately the [New York 311](https://data.cityofnewyork.us/Social-Services/311-Service-Requests-from-2010-to-Present/erm2-nwe9) data was loaded by [SODA](https://data.cityofnewyork.us/resource/fhrw-4uyv.csv?$limit=100000000&Agency=HPD&$select=created_date,unique_key,complaint_type,incident_zip,incident_address,street_name,address_type,city,resolution_description,borough,latitude,longitude,closed_date,location_type,status) into a Pandas DataFrame then saved to a pickle file."
   ]
  },
  {
   "cell_type": "code",
   "execution_count": 1,
   "metadata": {},
   "outputs": [
    {
     "data": {
      "text/plain": [
       "(5862383, 15)"
      ]
     },
     "execution_count": 1,
     "metadata": {},
     "output_type": "execute_result"
    }
   ],
   "source": [
    "import pandas as pd\n",
    "df = pd.read_pickle('C:\\\\Users\\\\It_Co\\\\Documents\\\\DataScience\\\\Capstone\\\\ny311full.pkl') # Local\n",
    "#df = pd.read_pickle('./ny311.pkl') #IBM Cloud / Watson Studio\n",
    "df.shape"
   ]
  },
  {
   "cell_type": "markdown",
   "metadata": {},
   "source": [
    "<a id=\"analysis\"></a>\n",
    "### Analyzing and Visualizing\n",
    "---"
   ]
  },
  {
   "cell_type": "markdown",
   "metadata": {},
   "source": [
    "#### Reduce data to relevant rows and columns"
   ]
  },
  {
   "cell_type": "code",
   "execution_count": 2,
   "metadata": {},
   "outputs": [
    {
     "data": {
      "text/plain": [
       "HEAT/HOT WATER    1152592\n",
       "HEATING            887869\n",
       "Name: complaint_type, dtype: int64"
      ]
     },
     "execution_count": 2,
     "metadata": {},
     "output_type": "execute_result"
    }
   ],
   "source": [
    "#Remove rows that were not for the complaint types identified in question one.\n",
    "df.drop(df[df[\"complaint_type\"].isin([\"HEAT/HOT WATER\",\"HEATING\"])==False].index, inplace=True)\n",
    "#Double check that the correct rows were removed.\n",
    "df['complaint_type'].value_counts()"
   ]
  },
  {
   "cell_type": "code",
   "execution_count": 3,
   "metadata": {},
   "outputs": [
    {
     "data": {
      "text/plain": [
       "(2040461, 8)"
      ]
     },
     "execution_count": 3,
     "metadata": {},
     "output_type": "execute_result"
    }
   ],
   "source": [
    "#Remove columns deemed unnecessary for this question.\n",
    "df.drop(['created_date','complaint_type','resolution_description','closed_date','location_type','status','address_type'], axis=1, inplace=True)\n",
    "df.shape"
   ]
  },
  {
   "cell_type": "markdown",
   "metadata": {},
   "source": [
    "#### Wrangle (Clean) the data"
   ]
  },
  {
   "cell_type": "markdown",
   "metadata": {},
   "source": [
    "##### Identify and handle missing values"
   ]
  },
  {
   "cell_type": "code",
   "execution_count": 4,
   "metadata": {},
   "outputs": [
    {
     "data": {
      "text/plain": [
       "unique_key              0\n",
       "incident_zip        18970\n",
       "incident_address        1\n",
       "street_name             1\n",
       "city                18843\n",
       "borough                 0\n",
       "latitude            18966\n",
       "longitude           18966\n",
       "dtype: int64"
      ]
     },
     "execution_count": 4,
     "metadata": {},
     "output_type": "execute_result"
    }
   ],
   "source": [
    "#See if any data is null.\n",
    "df.isnull().sum()"
   ]
  },
  {
   "cell_type": "markdown",
   "metadata": {},
   "source": [
    "<p style=\"color:Red;\"><b>Analysis</b>:  There are three items the question hinges upon:  ZIP Code, Borough, and Street.</p>"
   ]
  },
  {
   "cell_type": "code",
   "execution_count": 5,
   "metadata": {},
   "outputs": [
    {
     "data": {
      "text/html": [
       "<div>\n",
       "<style scoped>\n",
       "    .dataframe tbody tr th:only-of-type {\n",
       "        vertical-align: middle;\n",
       "    }\n",
       "\n",
       "    .dataframe tbody tr th {\n",
       "        vertical-align: top;\n",
       "    }\n",
       "\n",
       "    .dataframe thead th {\n",
       "        text-align: right;\n",
       "    }\n",
       "</style>\n",
       "<table border=\"1\" class=\"dataframe\">\n",
       "  <thead>\n",
       "    <tr style=\"text-align: right;\">\n",
       "      <th></th>\n",
       "      <th>unique_key</th>\n",
       "      <th>incident_zip</th>\n",
       "      <th>incident_address</th>\n",
       "      <th>street_name</th>\n",
       "      <th>city</th>\n",
       "      <th>borough</th>\n",
       "      <th>latitude</th>\n",
       "      <th>longitude</th>\n",
       "    </tr>\n",
       "  </thead>\n",
       "  <tbody>\n",
       "    <tr>\n",
       "      <th>count</th>\n",
       "      <td>18970</td>\n",
       "      <td>0.0</td>\n",
       "      <td>18969</td>\n",
       "      <td>18969</td>\n",
       "      <td>127</td>\n",
       "      <td>18970</td>\n",
       "      <td>4.000000</td>\n",
       "      <td>4.000000</td>\n",
       "    </tr>\n",
       "    <tr>\n",
       "      <th>unique</th>\n",
       "      <td>18970</td>\n",
       "      <td>NaN</td>\n",
       "      <td>8306</td>\n",
       "      <td>2205</td>\n",
       "      <td>2</td>\n",
       "      <td>6</td>\n",
       "      <td>NaN</td>\n",
       "      <td>NaN</td>\n",
       "    </tr>\n",
       "    <tr>\n",
       "      <th>top</th>\n",
       "      <td>24968225</td>\n",
       "      <td>NaN</td>\n",
       "      <td>34 ARDEN STREET</td>\n",
       "      <td>GRAND CONCOURSE</td>\n",
       "      <td>QUEENS</td>\n",
       "      <td>BRONX</td>\n",
       "      <td>NaN</td>\n",
       "      <td>NaN</td>\n",
       "    </tr>\n",
       "    <tr>\n",
       "      <th>freq</th>\n",
       "      <td>1</td>\n",
       "      <td>NaN</td>\n",
       "      <td>232</td>\n",
       "      <td>365</td>\n",
       "      <td>121</td>\n",
       "      <td>5957</td>\n",
       "      <td>NaN</td>\n",
       "      <td>NaN</td>\n",
       "    </tr>\n",
       "    <tr>\n",
       "      <th>mean</th>\n",
       "      <td>NaN</td>\n",
       "      <td>NaN</td>\n",
       "      <td>NaN</td>\n",
       "      <td>NaN</td>\n",
       "      <td>NaN</td>\n",
       "      <td>NaN</td>\n",
       "      <td>40.724393</td>\n",
       "      <td>-73.849776</td>\n",
       "    </tr>\n",
       "    <tr>\n",
       "      <th>std</th>\n",
       "      <td>NaN</td>\n",
       "      <td>NaN</td>\n",
       "      <td>NaN</td>\n",
       "      <td>NaN</td>\n",
       "      <td>NaN</td>\n",
       "      <td>NaN</td>\n",
       "      <td>0.000000</td>\n",
       "      <td>0.000000</td>\n",
       "    </tr>\n",
       "    <tr>\n",
       "      <th>min</th>\n",
       "      <td>NaN</td>\n",
       "      <td>NaN</td>\n",
       "      <td>NaN</td>\n",
       "      <td>NaN</td>\n",
       "      <td>NaN</td>\n",
       "      <td>NaN</td>\n",
       "      <td>40.724393</td>\n",
       "      <td>-73.849776</td>\n",
       "    </tr>\n",
       "    <tr>\n",
       "      <th>25%</th>\n",
       "      <td>NaN</td>\n",
       "      <td>NaN</td>\n",
       "      <td>NaN</td>\n",
       "      <td>NaN</td>\n",
       "      <td>NaN</td>\n",
       "      <td>NaN</td>\n",
       "      <td>40.724393</td>\n",
       "      <td>-73.849776</td>\n",
       "    </tr>\n",
       "    <tr>\n",
       "      <th>50%</th>\n",
       "      <td>NaN</td>\n",
       "      <td>NaN</td>\n",
       "      <td>NaN</td>\n",
       "      <td>NaN</td>\n",
       "      <td>NaN</td>\n",
       "      <td>NaN</td>\n",
       "      <td>40.724393</td>\n",
       "      <td>-73.849776</td>\n",
       "    </tr>\n",
       "    <tr>\n",
       "      <th>75%</th>\n",
       "      <td>NaN</td>\n",
       "      <td>NaN</td>\n",
       "      <td>NaN</td>\n",
       "      <td>NaN</td>\n",
       "      <td>NaN</td>\n",
       "      <td>NaN</td>\n",
       "      <td>40.724393</td>\n",
       "      <td>-73.849776</td>\n",
       "    </tr>\n",
       "    <tr>\n",
       "      <th>max</th>\n",
       "      <td>NaN</td>\n",
       "      <td>NaN</td>\n",
       "      <td>NaN</td>\n",
       "      <td>NaN</td>\n",
       "      <td>NaN</td>\n",
       "      <td>NaN</td>\n",
       "      <td>40.724393</td>\n",
       "      <td>-73.849776</td>\n",
       "    </tr>\n",
       "  </tbody>\n",
       "</table>\n",
       "</div>"
      ],
      "text/plain": [
       "       unique_key  incident_zip incident_address      street_name    city  \\\n",
       "count       18970           0.0            18969            18969     127   \n",
       "unique      18970           NaN             8306             2205       2   \n",
       "top      24968225           NaN  34 ARDEN STREET  GRAND CONCOURSE  QUEENS   \n",
       "freq            1           NaN              232              365     121   \n",
       "mean          NaN           NaN              NaN              NaN     NaN   \n",
       "std           NaN           NaN              NaN              NaN     NaN   \n",
       "min           NaN           NaN              NaN              NaN     NaN   \n",
       "25%           NaN           NaN              NaN              NaN     NaN   \n",
       "50%           NaN           NaN              NaN              NaN     NaN   \n",
       "75%           NaN           NaN              NaN              NaN     NaN   \n",
       "max           NaN           NaN              NaN              NaN     NaN   \n",
       "\n",
       "       borough   latitude  longitude  \n",
       "count    18970   4.000000   4.000000  \n",
       "unique       6        NaN        NaN  \n",
       "top      BRONX        NaN        NaN  \n",
       "freq      5957        NaN        NaN  \n",
       "mean       NaN  40.724393 -73.849776  \n",
       "std        NaN   0.000000   0.000000  \n",
       "min        NaN  40.724393 -73.849776  \n",
       "25%        NaN  40.724393 -73.849776  \n",
       "50%        NaN  40.724393 -73.849776  \n",
       "75%        NaN  40.724393 -73.849776  \n",
       "max        NaN  40.724393 -73.849776  "
      ]
     },
     "execution_count": 5,
     "metadata": {},
     "output_type": "execute_result"
    }
   ],
   "source": [
    "#There were some null zip codes.  Examine them more closely.\n",
    "df[df['incident_zip'].isnull()==True].describe(include=\"all\")"
   ]
  },
  {
   "cell_type": "markdown",
   "metadata": {},
   "source": [
    "<p style=\"color:Red;\"><b>Decision</b>:  There is nothing \"worth the trouble\" in the data upon which to try to fill in the missing zip codes.  If these 18K rows were deemed super important, a library for looking up a zip code based on an address would be necessary.  Because these rows still have Borough, don't drop the row.  Just leave them as NaN values.</p>"
   ]
  },
  {
   "cell_type": "code",
   "execution_count": 6,
   "metadata": {},
   "outputs": [
    {
     "data": {
      "text/html": [
       "<div>\n",
       "<style scoped>\n",
       "    .dataframe tbody tr th:only-of-type {\n",
       "        vertical-align: middle;\n",
       "    }\n",
       "\n",
       "    .dataframe tbody tr th {\n",
       "        vertical-align: top;\n",
       "    }\n",
       "\n",
       "    .dataframe thead th {\n",
       "        text-align: right;\n",
       "    }\n",
       "</style>\n",
       "<table border=\"1\" class=\"dataframe\">\n",
       "  <thead>\n",
       "    <tr style=\"text-align: right;\">\n",
       "      <th></th>\n",
       "      <th>unique_key</th>\n",
       "      <th>incident_zip</th>\n",
       "      <th>incident_address</th>\n",
       "      <th>street_name</th>\n",
       "      <th>city</th>\n",
       "      <th>borough</th>\n",
       "      <th>latitude</th>\n",
       "      <th>longitude</th>\n",
       "    </tr>\n",
       "  </thead>\n",
       "  <tbody>\n",
       "    <tr>\n",
       "      <th>251660</th>\n",
       "      <td>21833329</td>\n",
       "      <td>NaN</td>\n",
       "      <td>NaN</td>\n",
       "      <td>NaN</td>\n",
       "      <td>NaN</td>\n",
       "      <td>BRONX</td>\n",
       "      <td>NaN</td>\n",
       "      <td>NaN</td>\n",
       "    </tr>\n",
       "  </tbody>\n",
       "</table>\n",
       "</div>"
      ],
      "text/plain": [
       "       unique_key  incident_zip incident_address street_name city borough  \\\n",
       "251660   21833329           NaN              NaN         NaN  NaN   BRONX   \n",
       "\n",
       "        latitude  longitude  \n",
       "251660       NaN        NaN  "
      ]
     },
     "execution_count": 6,
     "metadata": {},
     "output_type": "execute_result"
    }
   ],
   "source": [
    "# Let's take a look at the one row with the missing street.\n",
    "df[df[\"street_name\"].isnull()]"
   ]
  },
  {
   "cell_type": "markdown",
   "metadata": {},
   "source": [
    "<p style=\"color:Red;\"><b>Decision</b>:  There is nothing in the data upon which to base a guess to the street.  In order to keep anticipated later standardization of the street_name simpler, get rid of the null row.</p>"
   ]
  },
  {
   "cell_type": "code",
   "execution_count": 7,
   "metadata": {},
   "outputs": [],
   "source": [
    "# Drop it.\n",
    "df.drop(df[df[\"street_name\"].isnull()].index, axis=0, inplace=True)"
   ]
  },
  {
   "cell_type": "markdown",
   "metadata": {},
   "source": [
    "##### Standardize values from different sources into the same format, units, or convention"
   ]
  },
  {
   "cell_type": "markdown",
   "metadata": {},
   "source": [
    "<p style=\"color:Red;\"><b>Decision</b>:  While looking for null values, I noticed there were rows with the city missing.  How could the city ever be missing, when the borough is filled in?  Let's explore the data to answer this question.</p>"
   ]
  },
  {
   "cell_type": "code",
   "execution_count": 10,
   "metadata": {},
   "outputs": [],
   "source": [
    "#Normalize all strings to uppercase so different casing won't appear as separate values.\n",
    "df['incident_address'] = df['incident_address'].str.upper()\n",
    "df['street_name'] = df['street_name'].str.upper()\n",
    "df['city'] = df['city'].str.upper()\n",
    "df['borough'] = df['borough'].str.upper()"
   ]
  },
  {
   "cell_type": "code",
   "execution_count": 11,
   "metadata": {},
   "outputs": [
    {
     "data": {
      "text/plain": [
       "BRONX            569959\n",
       "BROOKLYN         543166\n",
       "MANHATTAN        398552\n",
       "UNSPECIFIED      282917\n",
       "QUEENS           228447\n",
       "STATEN ISLAND     17419\n",
       "Name: borough, dtype: int64"
      ]
     },
     "execution_count": 11,
     "metadata": {},
     "output_type": "execute_result"
    }
   ],
   "source": [
    "df['borough'].value_counts()"
   ]
  },
  {
   "cell_type": "markdown",
   "metadata": {},
   "source": [
    "<p style=\"color:Red;\">The expected five boroughs, but then also:  UNSPECIFIED.  What does that mean?</p>"
   ]
  },
  {
   "cell_type": "code",
   "execution_count": 12,
   "metadata": {},
   "outputs": [
    {
     "data": {
      "text/plain": [
       "BROOKLYN               93388\n",
       "BRONX                  88585\n",
       "NEW YORK               59095\n",
       "JAMAICA                 5020\n",
       "STATEN ISLAND           3462\n",
       "ASTORIA                 3381\n",
       "FLUSHING                3154\n",
       "RIDGEWOOD               2273\n",
       "FAR ROCKAWAY            2040\n",
       "WOODSIDE                1773\n",
       "ELMHURST                1696\n",
       "JACKSON HEIGHTS         1479\n",
       "CORONA                  1398\n",
       "FOREST HILLS            1340\n",
       "REGO PARK               1134\n",
       "SOUTH RICHMOND HILL     1005\n",
       "QUEENS VILLAGE           928\n",
       "SUNNYSIDE                877\n",
       "OZONE PARK               835\n",
       "RICHMOND HILL            778\n",
       "HOLLIS                   776\n",
       "WOODHAVEN                770\n",
       "EAST ELMHURST            752\n",
       "SPRINGFIELD GARDENS      675\n",
       "SAINT ALBANS             660\n",
       "SOUTH OZONE PARK         606\n",
       "KEW GARDENS              599\n",
       "ARVERNE                  589\n",
       "LONG ISLAND CITY         454\n",
       "ROSEDALE                 416\n",
       "OAKLAND GARDENS          397\n",
       "MASPETH                  363\n",
       "ROCKAWAY PARK            361\n",
       "BAYSIDE                  236\n",
       "FRESH MEADOWS            225\n",
       "COLLEGE POINT            225\n",
       "MIDDLE VILLAGE           221\n",
       "LITTLE NECK              159\n",
       "WHITESTONE               139\n",
       "HOWARD BEACH             127\n",
       "CAMBRIA HEIGHTS          127\n",
       "GLEN OAKS                 56\n",
       "BELLEROSE                 45\n",
       "FLORAL PARK               18\n",
       "BREEZY POINT               6\n",
       "QUEENS                     3\n",
       "NEW HYDE PARK              2\n",
       "Name: city, dtype: int64"
      ]
     },
     "execution_count": 12,
     "metadata": {},
     "output_type": "execute_result"
    }
   ],
   "source": [
    "df[df[\"borough\"]==\"UNSPECIFIED\"][\"city\"].value_counts()"
   ]
  },
  {
   "cell_type": "markdown",
   "metadata": {},
   "source": [
    "<p style=\"color:Red;\"><b>Insight</b>:  When the borough is UNSPECIFIED it appears to mean that often either the borough <i>or even a \"neighborhood\" (a division below borough)</i> has been entered in the CITY column.  The city is actually \"correct\" with NEW YORK only 59K times.  The city column is a de-facto \"neighborhood\" column for the most part.</p>"
   ]
  },
  {
   "cell_type": "markdown",
   "metadata": {},
   "source": [
    "<p style=\"color:Red;\">Because borough is something further analysis will key from, standardize the data where possible.</p>"
   ]
  },
  {
   "cell_type": "code",
   "execution_count": 13,
   "metadata": {},
   "outputs": [],
   "source": [
    "import numpy as np\n",
    "#Correct rows where borough was entered in the city column with \"UNSPECIFIED\" in the borough column.\n",
    "five_boroughs = [\"BROOKLYN\",\"BRONX\",\"MANHATTAN\",\"QUEENS\",\"STATEN ISLAND\"]\n",
    "which_rows_to_adjust = df[(df[\"borough\"]=='UNSPECIFIED')&df[\"city\"].isin(five_boroughs)].index\n",
    "df.loc[which_rows_to_adjust,'borough']=df.loc[which_rows_to_adjust,'city']\n",
    "df.loc[which_rows_to_adjust,'city']=np.nan"
   ]
  },
  {
   "cell_type": "markdown",
   "metadata": {},
   "source": [
    "<p style=\"color:Red;\">Almost 200K previously \"UNSPECIFIED\" rows will now show up under the correct borough during later analysis.</p>"
   ]
  },
  {
   "cell_type": "code",
   "execution_count": 14,
   "metadata": {},
   "outputs": [
    {
     "data": {
      "text/plain": [
       "MANHATTAN      393941\n",
       "UNSPECIFIED     59095\n",
       "Name: borough, dtype: int64"
      ]
     },
     "execution_count": 14,
     "metadata": {},
     "output_type": "execute_result"
    }
   ],
   "source": [
    "#See if all the boroughs encompassed when the CITY is showing up as \"New York\"\n",
    "df[df['city']=='NEW YORK']['borough'].value_counts()"
   ]
  },
  {
   "cell_type": "code",
   "execution_count": 15,
   "metadata": {},
   "outputs": [
    {
     "data": {
      "text/plain": [
       "NEW YORK    393941\n",
       "BRONX            9\n",
       "Name: city, dtype: int64"
      ]
     },
     "execution_count": 15,
     "metadata": {},
     "output_type": "execute_result"
    }
   ],
   "source": [
    "#See if all the MANHATTAN borough entries filled in the CITY as \"New York\" if if they sometimes have \"neighborhood\".\n",
    "df[df['borough']=='MANHATTAN']['city'].value_counts()"
   ]
  },
  {
   "cell_type": "markdown",
   "metadata": {},
   "source": [
    "<p style=\"color:Red;\"><b>Insight</b>:  Some data entered very oddly with BRONX as the city and MANHATTAN as the borough.</p>"
   ]
  },
  {
   "cell_type": "markdown",
   "metadata": {},
   "source": [
    "<p style=\"color:Red;\"><b>Decision</b>:  Ambiguous and only 9 rows out of millions, so drop the data so it won't confuse further analysis.</p>"
   ]
  },
  {
   "cell_type": "code",
   "execution_count": 16,
   "metadata": {},
   "outputs": [
    {
     "name": "stdout",
     "output_type": "stream",
     "text": [
      "(2040460, 8)\n",
      "(2040451, 8)\n"
     ]
    }
   ],
   "source": [
    "print(df.shape) #before\n",
    "#Drop a few rows of ambiguous data.\n",
    "df.drop(df[(df[\"borough\"]=='MANHATTAN')&(df[\"city\"]=='BRONX')].index, axis=0, inplace=True)\n",
    "print(df.shape) #after"
   ]
  },
  {
   "cell_type": "markdown",
   "metadata": {},
   "source": [
    "<p style=\"color:Red;\"><b>Decision</b>:  There are almost 400K rows with city as NEW YORK and the borough is MANHATTAN.  The other 59K rows with city NEW YORK has UNSPECIFIED as the borough.  Assume the borough is also MANHATTAN for those.</p>"
   ]
  },
  {
   "cell_type": "code",
   "execution_count": 17,
   "metadata": {},
   "outputs": [],
   "source": [
    "#Fill in UNSPECIFIED borough when city was entered as NEW YORK.\n",
    "which_rows_to_adjust = df[(df[\"borough\"]=='UNSPECIFIED')&(df[\"city\"]=='NEW YORK')].index\n",
    "df.loc[which_rows_to_adjust,'borough']=\"MANHATTAN\"\n",
    "df.loc[which_rows_to_adjust,'city']=np.nan"
   ]
  },
  {
   "cell_type": "code",
   "execution_count": 19,
   "metadata": {},
   "outputs": [],
   "source": [
    "#Although the city for most of the \"NEW YORK\" ones are the only ones that technically got the \"city\" column valued correctly,\n",
    "#since every other row uses city as \"neighborhood\":  Standardize these.\n",
    "which_rows_to_adjust = df[(df[\"city\"]=='NEW YORK')].index\n",
    "df.loc[which_rows_to_adjust,'city']=np.nan"
   ]
  },
  {
   "cell_type": "code",
   "execution_count": 20,
   "metadata": {},
   "outputs": [
    {
     "data": {
      "text/plain": [
       "BRONX            658544\n",
       "BROOKLYN         636554\n",
       "MANHATTAN        457638\n",
       "QUEENS           228450\n",
       "UNSPECIFIED       38384\n",
       "STATEN ISLAND     20881\n",
       "Name: borough, dtype: int64"
      ]
     },
     "execution_count": 20,
     "metadata": {},
     "output_type": "execute_result"
    }
   ],
   "source": [
    "#Double check how many unspecified boroughs.\n",
    "df['borough'].value_counts()"
   ]
  },
  {
   "cell_type": "markdown",
   "metadata": {},
   "source": [
    "<p style=\"color:Red;\"><b>Decision</b>:  There are still 38K rows with unspecified boroughs, but the neighborhoods are in the city column, so use them to map to boroughs.</p>"
   ]
  },
  {
   "cell_type": "code",
   "execution_count": 21,
   "metadata": {},
   "outputs": [
    {
     "data": {
      "text/plain": [
       "array(['ARVERNE', 'ASTORIA', 'BAYSIDE', 'BELLEROSE', 'BREEZY POINT',\n",
       "       'CAMBRIA HEIGHTS', 'COLLEGE POINT', 'CORONA', 'EAST ELMHURST',\n",
       "       'ELMHURST', 'FAR ROCKAWAY', 'FLORAL PARK', 'FLUSHING',\n",
       "       'FOREST HILLS', 'FRESH MEADOWS', 'GLEN OAKS', 'HOLLIS',\n",
       "       'HOWARD BEACH', 'JACKSON HEIGHTS', 'JAMAICA', 'KEW GARDENS',\n",
       "       'LITTLE NECK', 'LONG ISLAND CITY', 'MASPETH', 'MIDDLE VILLAGE',\n",
       "       'NEW HYDE PARK', 'OAKLAND GARDENS', 'OZONE PARK', 'QUEENS VILLAGE',\n",
       "       'REGO PARK', 'RICHMOND HILL', 'RIDGEWOOD', 'ROCKAWAY PARK',\n",
       "       'ROSEDALE', 'SAINT ALBANS', 'SOUTH OZONE PARK',\n",
       "       'SOUTH RICHMOND HILL', 'SPRINGFIELD GARDENS', 'SUNNYSIDE',\n",
       "       'WHITESTONE', 'WOODHAVEN', 'WOODSIDE'], dtype=object)"
      ]
     },
     "execution_count": 21,
     "metadata": {},
     "output_type": "execute_result"
    }
   ],
   "source": [
    "#See the neighborhoods of the still unspecified boroughs.\n",
    "neighborhoods = df[(df['borough']=='UNSPECIFIED')&(df['city'].isnull()==False)]['city'].unique()\n",
    "neighborhoods.sort()\n",
    "neighborhoods"
   ]
  },
  {
   "cell_type": "markdown",
   "metadata": {},
   "source": [
    "<p style=\"color:Red;\"><b>Insight</b>:  Checking https://en.wikipedia.org/wiki/List_of_Queens_neighborhoods show all but NEW HYDE PARK are in QUEENS.</p>"
   ]
  },
  {
   "cell_type": "markdown",
   "metadata": {},
   "source": [
    "<p style=\"color:Red;\"><b>Decision</b>:  NEW HYDE PARK isn't in any borough but is right on the border with QUEENS, and had only 2 complaints, so just consider it within QUEEENS.</p>"
   ]
  },
  {
   "cell_type": "code",
   "execution_count": 22,
   "metadata": {},
   "outputs": [
    {
     "data": {
      "text/plain": [
       "BRONX            658544\n",
       "BROOKLYN         636554\n",
       "MANHATTAN        457638\n",
       "QUEENS           266565\n",
       "STATEN ISLAND     20881\n",
       "UNSPECIFIED         269\n",
       "Name: borough, dtype: int64"
      ]
     },
     "execution_count": 22,
     "metadata": {},
     "output_type": "execute_result"
    }
   ],
   "source": [
    "#Fix rows with unspecified borough but with a neighborhood (in the city column) that indicates it is in QUEEENS.\n",
    "which_rows_to_adjust = df[(df[\"borough\"]=='UNSPECIFIED')&df[\"city\"].isin(neighborhoods)].index\n",
    "df.loc[which_rows_to_adjust,'borough']=\"QUEENS\"\n",
    "df['borough'].value_counts()"
   ]
  },
  {
   "cell_type": "markdown",
   "metadata": {},
   "source": [
    "<p style=\"color:Red;\"><b>Insight</b>:  The above will ultimately become the raw numbers to partially answer part of the the question.</p>"
   ]
  },
  {
   "cell_type": "code",
   "execution_count": 23,
   "metadata": {},
   "outputs": [
    {
     "data": {
      "text/html": [
       "<div>\n",
       "<style scoped>\n",
       "    .dataframe tbody tr th:only-of-type {\n",
       "        vertical-align: middle;\n",
       "    }\n",
       "\n",
       "    .dataframe tbody tr th {\n",
       "        vertical-align: top;\n",
       "    }\n",
       "\n",
       "    .dataframe thead th {\n",
       "        text-align: right;\n",
       "    }\n",
       "</style>\n",
       "<table border=\"1\" class=\"dataframe\">\n",
       "  <thead>\n",
       "    <tr style=\"text-align: right;\">\n",
       "      <th></th>\n",
       "      <th>incident_zip</th>\n",
       "      <th>latitude</th>\n",
       "      <th>longitude</th>\n",
       "    </tr>\n",
       "  </thead>\n",
       "  <tbody>\n",
       "    <tr>\n",
       "      <th>count</th>\n",
       "      <td>0.0</td>\n",
       "      <td>0.0</td>\n",
       "      <td>0.0</td>\n",
       "    </tr>\n",
       "    <tr>\n",
       "      <th>mean</th>\n",
       "      <td>NaN</td>\n",
       "      <td>NaN</td>\n",
       "      <td>NaN</td>\n",
       "    </tr>\n",
       "    <tr>\n",
       "      <th>std</th>\n",
       "      <td>NaN</td>\n",
       "      <td>NaN</td>\n",
       "      <td>NaN</td>\n",
       "    </tr>\n",
       "    <tr>\n",
       "      <th>min</th>\n",
       "      <td>NaN</td>\n",
       "      <td>NaN</td>\n",
       "      <td>NaN</td>\n",
       "    </tr>\n",
       "    <tr>\n",
       "      <th>25%</th>\n",
       "      <td>NaN</td>\n",
       "      <td>NaN</td>\n",
       "      <td>NaN</td>\n",
       "    </tr>\n",
       "    <tr>\n",
       "      <th>50%</th>\n",
       "      <td>NaN</td>\n",
       "      <td>NaN</td>\n",
       "      <td>NaN</td>\n",
       "    </tr>\n",
       "    <tr>\n",
       "      <th>75%</th>\n",
       "      <td>NaN</td>\n",
       "      <td>NaN</td>\n",
       "      <td>NaN</td>\n",
       "    </tr>\n",
       "    <tr>\n",
       "      <th>max</th>\n",
       "      <td>NaN</td>\n",
       "      <td>NaN</td>\n",
       "      <td>NaN</td>\n",
       "    </tr>\n",
       "  </tbody>\n",
       "</table>\n",
       "</div>"
      ],
      "text/plain": [
       "       incident_zip  latitude  longitude\n",
       "count           0.0       0.0        0.0\n",
       "mean            NaN       NaN        NaN\n",
       "std             NaN       NaN        NaN\n",
       "min             NaN       NaN        NaN\n",
       "25%             NaN       NaN        NaN\n",
       "50%             NaN       NaN        NaN\n",
       "75%             NaN       NaN        NaN\n",
       "max             NaN       NaN        NaN"
      ]
     },
     "execution_count": 23,
     "metadata": {},
     "output_type": "execute_result"
    }
   ],
   "source": [
    "#Examine rows for those final 269 unspecified boroughs\n",
    "df[df['borough']=='UNSPECIFIED'].describe()"
   ]
  },
  {
   "cell_type": "markdown",
   "metadata": {},
   "source": [
    "<p style=\"color:Red;\"><b>Decision</b>:  Nothing \"worth the trouble\" to base further adjustments on for only 269 rows.  Set the borough to null on these rows so that they will not skew any subsequent analysis that examines borough.</p>"
   ]
  },
  {
   "cell_type": "code",
   "execution_count": 24,
   "metadata": {},
   "outputs": [],
   "source": [
    "#Fix rows with unspecified borough and no other practical information from which to derive it.\n",
    "which_rows_to_adjust = df[(df[\"borough\"]=='UNSPECIFIED')&df[\"city\"].isnull()].index\n",
    "df.loc[which_rows_to_adjust,'borough']=np.nan"
   ]
  },
  {
   "cell_type": "code",
   "execution_count": 25,
   "metadata": {},
   "outputs": [],
   "source": [
    "#Fix rows with city (neighborhood) equal to borough\n",
    "which_rows_to_adjust = df[(df[\"borough\"]==df[\"city\"])].index\n",
    "df.loc[which_rows_to_adjust,'city']=np.nan"
   ]
  },
  {
   "cell_type": "code",
   "execution_count": 26,
   "metadata": {},
   "outputs": [],
   "source": [
    "#Fix rows with city that started off null or was adjusted subsequently to be null\n",
    "which_rows_to_adjust = df[df[\"city\"].isnull()].index\n",
    "df.loc[which_rows_to_adjust,'city']=\"Unspecified\""
   ]
  },
  {
   "cell_type": "markdown",
   "metadata": {},
   "source": [
    "<p style=\"color:Red;\">At this point borough is reasonably populated with all the UNSPECIFIED and weird cases standardized.</p>"
   ]
  },
  {
   "cell_type": "code",
   "execution_count": 27,
   "metadata": {},
   "outputs": [
    {
     "name": "stdout",
     "output_type": "stream",
     "text": [
      "(18969, 8)\n",
      "(2021482, 8)\n",
      "(2021482, 8)\n",
      "(0, 8)\n",
      "(0, 8)\n",
      "(2021482, 8)\n"
     ]
    }
   ],
   "source": [
    "#Learn the nature of the zip code data.\n",
    "print(df[(df['incident_zip'].isnull()==True)].shape)\n",
    "print(df[(df['incident_zip'].isnull()==False)].shape)\n",
    "print(df[(df['incident_zip'].isnull()==False)&(df['incident_zip'] % 1.0 == 0.0)].shape)\n",
    "print(df[(df['incident_zip']<10000.0)].shape)\n",
    "print(df[(df['incident_zip']>99999.0)].shape)\n",
    "print(df[(df['incident_zip']>9999.0)&(df['incident_zip']<100000.0)].shape)"
   ]
  },
  {
   "cell_type": "markdown",
   "metadata": {},
   "source": [
    "<p style=\"color:Red;\"><b>Insight</b>:  The zip codes are all float64.  All of them have zero after the decimal point.  They are all five digits before the decimal point.  Almost 19K of the 2 Million+ rows are null.</p>"
   ]
  },
  {
   "cell_type": "markdown",
   "metadata": {},
   "source": [
    "<p style=\"color:Red;\">The question calls for using street too.</p>"
   ]
  },
  {
   "cell_type": "code",
   "execution_count": 28,
   "metadata": {},
   "outputs": [
    {
     "data": {
      "text/plain": [
       "GRAND CONCOURSE                   35960\n",
       "BROADWAY                          23497\n",
       "OCEAN AVENUE                      17882\n",
       "ARDEN STREET                      15841\n",
       "MORRIS AVENUE                     15792\n",
       "ST NICHOLAS AVENUE                14945\n",
       "AMSTERDAM AVENUE                  11844\n",
       "ELMHURST AVENUE                   10946\n",
       "BOYNTON AVENUE                    10809\n",
       "DR M L KING JR BOULEVARD          10037\n",
       "OCEAN PARKWAY                      9965\n",
       "WALTON AVENUE                      9579\n",
       "BAILEY AVENUE                      9561\n",
       "RIVERSIDE DRIVE                    9189\n",
       "LINDEN BOULEVARD                   9173\n",
       "SEDGWICK AVENUE                    9111\n",
       "DECATUR AVENUE                     9095\n",
       "NOSTRAND AVENUE                    8826\n",
       "CRESTON AVENUE                     8683\n",
       "SHERMAN AVENUE                     7885\n",
       "BEDFORD AVENUE                     7530\n",
       "SHERIDAN AVENUE                    7502\n",
       "EASTERN PARKWAY                    7424\n",
       "3 AVENUE                           7323\n",
       "WALLACE AVENUE                     7287\n",
       "2 AVENUE                           7172\n",
       "DAVIDSON AVENUE                    6840\n",
       "FT WASHINGTON AVENUE               6698\n",
       "NEW YORK AVENUE                    6663\n",
       "VALENTINE AVENUE                   6565\n",
       "                                  ...  \n",
       "BEACH   40 STREET                     1\n",
       "CROWN AVENUE                          1\n",
       "REMSEN PLACE                          1\n",
       "FERRIS STREET                         1\n",
       "FOSTER AVE                            1\n",
       "BRIGHTON    1 COURT                   1\n",
       "TOMPKINS AVE                          1\n",
       "MC LAUGHLIN AVENUE                    1\n",
       "PEMBROKE AVENUE                       1\n",
       "163 DRIVE                             1\n",
       "UNKNOWN                               1\n",
       "HORACE HARDING EXPRESSWAY SR N        1\n",
       "ELMIRA AVENUE                         1\n",
       "ALBEE AVENUE                          1\n",
       "MARTINEAU STREET                      1\n",
       "STONE AVENUE                          1\n",
       "EAST 183RD STREET                     1\n",
       "VIETOR AVE                            1\n",
       "SHILOH STREET                         1\n",
       "BEACH 56                              1\n",
       "WINDING WOODS LOOP                    1\n",
       "JAMES COURT                           1\n",
       "MILLS AVENUE                          1\n",
       "ARIEL PLACE                           1\n",
       "WILLETT STREET                        1\n",
       "MARSHALL DRIVE                        1\n",
       "PRENTISS AVENUE                       1\n",
       "W 147 STREET                          1\n",
       "ALAMEDA AVENUE                        1\n",
       "GUNNISON COURT                        1\n",
       "Name: street_name, Length: 5979, dtype: int64"
      ]
     },
     "execution_count": 28,
     "metadata": {},
     "output_type": "execute_result"
    }
   ],
   "source": [
    "df['street_name'].value_counts()"
   ]
  },
  {
   "cell_type": "markdown",
   "metadata": {},
   "source": [
    "<p style=\"color:Red;\"><b>Insight</b>:  Before any attempt at standardization, there are 5979 distinct street_name values in the data.  There does not appear to be much standardization in the data."
   ]
  },
  {
   "cell_type": "markdown",
   "metadata": {},
   "source": [
    "<p style=\"color:Red;\"><b>Goal</b>:  Standardize the street names so different representations of the same street are all counted into the same totals."
   ]
  },
  {
   "cell_type": "markdown",
   "metadata": {},
   "source": [
    "<p style=\"color:Red;\"><b>Insights</b></p>\n",
    "<p>This section will be added to over and over again with any insights gleaned during the running of cells in the subsequent \"Work area\" section.  This section is placed ahead of that one because sometimes the insights will usually be captured in the form of coded lists or even function definitions which will be re-run every time they change.</p>"
   ]
  },
  {
   "cell_type": "code",
   "execution_count": 252,
   "metadata": {},
   "outputs": [],
   "source": [
    "# Some street values have multiple spaces in a row.\n",
    "import re\n",
    "def standardize_spaces(street):\n",
    "    effective_street = street.strip() #Remove leading and trailing spaces.\n",
    "    effective_street = re.sub(' +', ' ', effective_street) #Squeeze multiple adjacent spaces into just one space.\n",
    "    return effective_street"
   ]
  },
  {
   "cell_type": "code",
   "execution_count": 253,
   "metadata": {},
   "outputs": [],
   "source": [
    "# Some streets have problematic characters.  For example:  ST. ANN'S AVENUE also exists without period or apostophe.\n",
    "problem_characters = ['.', '\\'']\n",
    "def replace_problem_characters(raw):\n",
    "    result = raw\n",
    "    for (character) in problem_characters:\n",
    "        result = result.replace(character,'')\n",
    "    return result"
   ]
  },
  {
   "cell_type": "code",
   "execution_count": 254,
   "metadata": {},
   "outputs": [],
   "source": [
    "#Streets are not always called a street.\n",
    "street_suffixes = [\n",
    "    \"STREET\",\"AVENUE\",\"BOULEVARD\",\"PLACE\",\"ROAD\",\"PARKWAY\",\"CONCOURSE\",\"DRIVE\",\n",
    "    \"TERRACE\",\"HIGHWAY\",\"PARK\",\"EXPRESSWAY\",\"SQUARE\",\"PLAZA\",\"OVAL\",\"CRESCENT\",\n",
    "    \"LANE\",\"COURT\",\"EXTENSION\",\"TURNPIKE\", \"LOOP\", \"ESTATE\",\n",
    "    \"SR\" #Service Road\n",
    "]"
   ]
  },
  {
   "cell_type": "code",
   "execution_count": 255,
   "metadata": {},
   "outputs": [],
   "source": [
    "#Streets often have a directional element\n",
    "directionals = [\"SOUTH\",\"NORTH\",\"EAST\",\"WEST\"]"
   ]
  },
  {
   "cell_type": "code",
   "execution_count": 256,
   "metadata": {},
   "outputs": [],
   "source": [
    "#Some streets are known by just one name\n",
    "mononymous_streets = [\"BROADWAY\",\"BOWERY\"]"
   ]
  },
  {
   "cell_type": "code",
   "execution_count": 257,
   "metadata": {},
   "outputs": [],
   "source": [
    "#Some words that are entered in a non-standard way or with typos need to be standardized.\n",
    "word_replacements = [\n",
    "    (\"AVE\",\"AVENUE\"),\n",
    "    (\"ST\",\"STREET\"),\n",
    "    (\"RD\",\"ROAD\"),\n",
    "    (\"NICHLAS\",\"NICHOLAS\"),\n",
    "    (\"NICHALOS\",\"NICHOLAS\")\n",
    "]\n",
    "\n",
    "def replace_words(raw):\n",
    "    split_raw = raw.split()\n",
    "    for (old, new) in word_replacements:\n",
    "        found_at_index = next((i for i, x in enumerate(split_raw) if x==old), None)\n",
    "        if found_at_index!=None:\n",
    "            split_raw[found_at_index] = new\n",
    "    return \" \".join(split_raw)"
   ]
  },
  {
   "cell_type": "code",
   "execution_count": 258,
   "metadata": {},
   "outputs": [],
   "source": [
    "#Abbreviations that are sometimes not abbreviations.  Example:  AVENUE N.\n",
    "abbreviation_replacements = [\n",
    "    (\"N\",\"NORTH\"),\n",
    "    (\"S\",\"SOUTH\"),\n",
    "    (\"E\",\"EAST\"),\n",
    "    (\"W\",\"WEST\")\n",
    "]\n",
    "\n",
    "def replace_tricky_abbreviations(raw):\n",
    "    split_raw = raw.split()\n",
    "    if len(split_raw)!=2:  # AVENUE N, E STREET, etc.\n",
    "        for (old, new) in abbreviation_replacements:\n",
    "            found_at_index = next((i for i, x in enumerate(split_raw) if x==old), None)\n",
    "            if found_at_index!=None:\n",
    "                split_raw[found_at_index] = new\n",
    "    return \" \".join(split_raw)"
   ]
  },
  {
   "cell_type": "code",
   "execution_count": 259,
   "metadata": {},
   "outputs": [],
   "source": [
    "#Some phrases need custom replacement because they involve words that individually would be mis-interpretted.\n",
    "phrase_replacements = [\n",
    "    (\"DR M L KING JR\",\"MARTIN LUTHER KING\"),\n",
    "    (\"DR MARTIN L KING\",\"MARTIN LUTHER KING\"),\n",
    "    (\"MARTIN LUTHER KING\",\"MARTIN LUTHER KING\"),\n",
    "    (\"MARTIN L KING JR\",\"MARTIN LUTHER KING\"),\n",
    "    (\"MARTIN L KING\",\"MARTIN LUTHER KING\"),\n",
    "    (\"ST NICHOLAS\",\"SAINT NICHOLAS\"),\n",
    "    (\"ST JOHN\",\"SAINT JOHN\"),\n",
    "    (\"ST MARK\",\"SAINT MARK\"),\n",
    "    (\"ST ANN\",\"SAINT ANN\"),\n",
    "    (\"ST LAWRENCE\",\"SAINT LAWRENCE\"),\n",
    "    (\"ST PAUL\",\"SAINT PAUL\"),\n",
    "    (\"ST PETER\",\"SAINT PETER\"),\n",
    "    (\"ST RAYMOND\",\"SAINT RAYMOND\"),\n",
    "    (\"ST THERESA\",\"SAINT THERESA\"),\n",
    "    (\"ST FELIX\",\"SAINT FELIX\"),\n",
    "    (\"ST MARY\",\"SAINT MARY\"),\n",
    "    (\"ST OUEN\",\"SAINT OUEN\"),\n",
    "    (\"ST JAMES\",\"SAINT JAMES\"),\n",
    "    (\"ST GEORGE\",\"SAINT GEORGE\"),\n",
    "    (\"ST EDWARD\",\"SAINT EDWARD\"),\n",
    "    (\"ST CHARLES\",\"SAINT CHARLES\"),\n",
    "    (\"ST FRANCIS\",\"SAINT FRANCIS\"),\n",
    "    (\"ST ANDREW\",\"SAINT ANDREW\"),\n",
    "    (\"ST JUDE\",\"SAINT JUDE\"),\n",
    "    (\"ST LUKE\",\"SAINT LUKE\"),\n",
    "    (\"ST JOSEPH\",\"SAINT JOSEPH\"),\n",
    "    (\"N D PERLMAN\",\"NATHAN PERLMAN\"),\n",
    "    (\"O BRIEN\",\"OBRIEN\"),\n",
    "    (\"F D R\",\"FDR\"),\n",
    "    (\"EXPRESSWAY N SR\",\"EXPRESSWAY SR N\")\n",
    "]\n",
    "\n",
    "def replace_phrases(raw):\n",
    "    result = raw\n",
    "    for (old,new) in phrase_replacements:\n",
    "        result = result.replace(old,new)\n",
    "    return result"
   ]
  },
  {
   "cell_type": "markdown",
   "metadata": {},
   "source": [
    "<p style=\"color:Red;\"><b>Standardize Function</b></p>\n",
    "<p>This function will be built up gradually as insights are gained.  Ultimately resulting in a single function that will standardize a street name.</p>"
   ]
  },
  {
   "cell_type": "code",
   "execution_count": 260,
   "metadata": {},
   "outputs": [],
   "source": [
    "def standardize_street(street):\n",
    "    r = street\n",
    "    r = standardize_spaces(r)\n",
    "    r = replace_problem_characters(r)\n",
    "    r = replace_phrases(r)\n",
    "    r = replace_words(r)\n",
    "    r = replace_tricky_abbreviations(r)\n",
    "    return r"
   ]
  },
  {
   "cell_type": "markdown",
   "metadata": {},
   "source": [
    "<p style=\"color:Red;\"><b>Work area</b></p>\n",
    "<p>The following sections will be run over and over again, not necessarily in order.  Each time with modifications to filter out words already considered, or to drill into a specific case under consideration for further insights.  Each time, the insights gained will be applied within the \"Insights\" section above.</p>"
   ]
  },
  {
   "cell_type": "code",
   "execution_count": 261,
   "metadata": {},
   "outputs": [],
   "source": [
    "def is_word_present(x, word):\n",
    "    split_x = x.split()\n",
    "    if word in split_x:\n",
    "        return True\n",
    "    else:\n",
    "        return False\n",
    "\n",
    "def is_not_last_word(x, word):\n",
    "    split_x = x.split()\n",
    "    last_word = len(split_x) - 1\n",
    "    if word!=last_word:\n",
    "        return True\n",
    "    else:\n",
    "        return False\n",
    "    \n",
    "def is_word_present_but_not_last(x, word):\n",
    "    if is_word_present(x,word):\n",
    "        if is_not_last_word(x,word):\n",
    "            return True\n",
    "    return False\n",
    "\n",
    "def is_small_alpha_word_present(x, size):\n",
    "    split_x = x.split()\n",
    "    for a in split_x:\n",
    "        if len(a)==size:\n",
    "            if a.isalpha():\n",
    "                return True\n",
    "    return False"
   ]
  },
  {
   "cell_type": "code",
   "execution_count": 262,
   "metadata": {},
   "outputs": [],
   "source": [
    "#Standardize what we can\n",
    "df['standardized_street_name'] = df['street_name'].apply(standardize_street)"
   ]
  },
  {
   "cell_type": "code",
   "execution_count": 263,
   "metadata": {},
   "outputs": [],
   "source": [
    "#Examine the partially standardized results to gain more insights.\n",
    "#The following cell needs to change often.  Only the most common types of lines are shown."
   ]
  },
  {
   "cell_type": "code",
   "execution_count": 264,
   "metadata": {},
   "outputs": [
    {
     "data": {
      "text/plain": [
       "FT WASHINGTON AVENUE                  6698\n",
       "DE KALB AVENUE                        3689\n",
       "MT HOPE PLACE                         1433\n",
       "FT HAMILTON PARKWAY                   1016\n",
       "MC DONALD AVENUE                       707\n",
       "MC CLELLAN STREET                      559\n",
       "FT INDEPENDENCE STREET                 514\n",
       "MC KEEVER PLACE                        505\n",
       "HOR HARDING EXPRESSWAY SR NORTH        367\n",
       "SHORE PARKWAY SR NORTH                 357\n",
       "MC GRAW AVENUE                         354\n",
       "MT MORRIS PARK WEST                    338\n",
       "FT GEORGE AVENUE                       297\n",
       "SHORE PARKWAY SR SOUTH                 256\n",
       "DE REIMER AVENUE                       252\n",
       "MC BRIDE STREET                        237\n",
       "FR CAPODANNO BOULEVARD                 213\n",
       "LA FONTAINE AVENUE                     212\n",
       "MC KINLEY AVENUE                       137\n",
       "FT GREENE PLACE                        137\n",
       "DE WITT AVENUE                         136\n",
       "EAST MT EDEN AVENUE                    115\n",
       "VAN WYCK EXPRESSWAY SR WEST            109\n",
       "MC GUINNESS BOULEVARD                   81\n",
       "WEST MT EDEN AVENUE                     77\n",
       "DE SALES PLACE                          70\n",
       "ADAM C POWELL JR BOULEVARD              61\n",
       "HOR HARDING EXPRESSWAY SR SOUTH         60\n",
       "CLEARVIEW EXPRESSWAY SR WEST            57\n",
       "MC CLEAN AVENUE                         53\n",
       "                                      ... \n",
       "LA FORGE PLACE                           4\n",
       "HANCOCK PL                               4\n",
       "CROTONA PARK NO                          4\n",
       "CROSS ISLE PARKWAY SR NORTH              4\n",
       "ENGLAND THRUWAY SR                       3\n",
       "HORACE HARDING EXPRESSWAY SR NORTH       3\n",
       "CROSS ISLAND PARKWAY SR SOUTH            3\n",
       "FT HILL CIRCLE                           2\n",
       "MC DERMOTT AVENUE                        2\n",
       "CO OP CITY BOULEVARD                     2\n",
       "MC KIBBIN COURT                          2\n",
       "ADAM CLAYTON POWELL JR BOULEVARD         2\n",
       "DE RUYTER PLACE                          2\n",
       "MC LAUGHLIN AVENUE                       1\n",
       "MC DONOUGH PLACE                         1\n",
       "MC CULLY AVENUE                          1\n",
       "HA DOOP PLAZA                            1\n",
       "THROGS NECK EXPRESSWAY SR                1\n",
       "MC ARTHUR AVENUE                         1\n",
       "52 ND ROAD                               1\n",
       "GR CONCOURSE                             1\n",
       "MC LAUGHLIN STREET                       1\n",
       "CROSS BX SERVICE ROAD SOUTH              1\n",
       "EAST MT EDEN PARKWAY                     1\n",
       "LA FORGE AVENUE                          1\n",
       "QN MIDTOWN EXPRESSWAY SR SOUTH           1\n",
       "GREENPOINT AV BR OVR NEWTOWN CRK         1\n",
       "WHITESTONE EXPRESSWAY SR EAST            1\n",
       "HUTCH RIVER PARKWAY SR                   1\n",
       "MACAMB PL                                1\n",
       "Name: standardized_street_name, Length: 86, dtype: int64"
      ]
     },
     "execution_count": 264,
     "metadata": {},
     "output_type": "execute_result"
    }
   ],
   "source": [
    "#df['standardized_street_name'].value_counts()\n",
    "df[df['standardized_street_name'].apply(is_small_alpha_word_present, args=(2,))]['standardized_street_name'].value_counts()\n",
    "#df[df['standardized_street_name'].apply(xxx)]['standardized_street_name'].value_counts()\n",
    "#df[df['standardized_street_name'].str.contains('F D R')]['standardized_street_name'].value_counts()"
   ]
  },
  {
   "cell_type": "code",
   "execution_count": null,
   "metadata": {},
   "outputs": [],
   "source": []
  },
  {
   "cell_type": "code",
   "execution_count": null,
   "metadata": {},
   "outputs": [],
   "source": []
  },
  {
   "cell_type": "code",
   "execution_count": null,
   "metadata": {},
   "outputs": [],
   "source": [
    "# Continue here\n",
    "#\n",
    "# Examine the above.  Decide if it is worth standardizing \"MC\" (space or no space after), \"FT\" (fort), etc."
   ]
  },
  {
   "cell_type": "code",
   "execution_count": null,
   "metadata": {},
   "outputs": [],
   "source": []
  },
  {
   "cell_type": "code",
   "execution_count": null,
   "metadata": {},
   "outputs": [],
   "source": []
  },
  {
   "cell_type": "code",
   "execution_count": 34,
   "metadata": {},
   "outputs": [
    {
     "data": {
      "text/plain": [
       "AVENUE         869520\n",
       "STREET         786344\n",
       "EAST           248298\n",
       "WEST           179592\n",
       "BOULEVARD       76973\n",
       "PLACE           76390\n",
       "ROAD            59069\n",
       "PARKWAY         48542\n",
       "GRAND           43831\n",
       "CONCOURSE       36598\n",
       "ST              35569\n",
       "OCEAN           28277\n",
       "BROADWAY        24642\n",
       "PARK            24258\n",
       "NICHOLAS        17809\n",
       "MORRIS          17225\n",
       "ARDEN           15847\n",
       "SOUTH           15811\n",
       "DRIVE           15639\n",
       "WASHINGTON      13737\n",
       "NORTH           13418\n",
       "BEACH           13079\n",
       "AMSTERDAM       11845\n",
       "L               11487\n",
       "3               11238\n",
       "LINDEN          10995\n",
       "BEDFORD         10988\n",
       "ELMHURST        10947\n",
       "TERRACE         10942\n",
       "BOYNTON         10815\n",
       "                ...  \n",
       "SEGART              1\n",
       "URSINA              1\n",
       "2177                1\n",
       "ND                  1\n",
       "ZION                1\n",
       "HOLSMAN             1\n",
       "TENTH               1\n",
       "WOLFFE              1\n",
       "FORBEL              1\n",
       "CLEARMONT           1\n",
       "LORIN               1\n",
       "HA                  1\n",
       "BRADEY              1\n",
       "DOOP                1\n",
       "HARVEY              1\n",
       "ODONNELL            1\n",
       "MAYFIELD            1\n",
       "TIER                1\n",
       "116TH               1\n",
       "THOLLEN             1\n",
       "AV                  1\n",
       "GIBSON              1\n",
       "RARITAN             1\n",
       "WATERSTONE          1\n",
       "COMMODORE           1\n",
       "KNICKERBOCK         1\n",
       "STALIE              1\n",
       "GRAVES              1\n",
       "CHERYL              1\n",
       "BISHOP              1\n",
       "Length: 3143, dtype: int64"
      ]
     },
     "execution_count": 34,
     "metadata": {},
     "output_type": "execute_result"
    }
   ],
   "source": [
    "#Get all of the individual words represented within the street_name column in a countable form.\n",
    "words = list()\n",
    "df['standardized_street_name'].str.split().apply(words.extend)\n",
    "word_series = pd.Series(words)\n",
    "counts = word_series.value_counts()\n",
    "counts"
   ]
  },
  {
   "cell_type": "code",
   "execution_count": 33,
   "metadata": {},
   "outputs": [
    {
     "data": {
      "text/plain": [
       "(1308,)"
      ]
     },
     "execution_count": 33,
     "metadata": {},
     "output_type": "execute_result"
    }
   ],
   "source": [
    "# Drop words that don't appear often enough to fuss with\n",
    "counts.drop(counts[counts < 100].index, inplace=True) \n",
    "counts.shape"
   ]
  },
  {
   "cell_type": "code",
   "execution_count": null,
   "metadata": {},
   "outputs": [],
   "source": [
    "# Drop words that are ONLY numbers\n",
    "counts.drop(counts[counts.index.str.isdigit()].index, inplace=True) \n",
    "counts.shape"
   ]
  },
  {
   "cell_type": "code",
   "execution_count": 35,
   "metadata": {},
   "outputs": [
    {
     "data": {
      "text/html": [
       "<div>\n",
       "<style scoped>\n",
       "    .dataframe tbody tr th:only-of-type {\n",
       "        vertical-align: middle;\n",
       "    }\n",
       "\n",
       "    .dataframe tbody tr th {\n",
       "        vertical-align: top;\n",
       "    }\n",
       "\n",
       "    .dataframe thead th {\n",
       "        text-align: right;\n",
       "    }\n",
       "</style>\n",
       "<table border=\"1\" class=\"dataframe\">\n",
       "  <thead>\n",
       "    <tr style=\"text-align: right;\">\n",
       "      <th></th>\n",
       "      <th>unique_key</th>\n",
       "      <th>incident_zip</th>\n",
       "      <th>incident_address</th>\n",
       "      <th>street_name</th>\n",
       "      <th>city</th>\n",
       "      <th>borough</th>\n",
       "      <th>latitude</th>\n",
       "      <th>longitude</th>\n",
       "    </tr>\n",
       "  </thead>\n",
       "  <tbody>\n",
       "    <tr>\n",
       "      <th>2</th>\n",
       "      <td>43917912</td>\n",
       "      <td>11233.0</td>\n",
       "      <td>1711 FULTON STREET</td>\n",
       "      <td>FULTON STREET</td>\n",
       "      <td>Unspecified</td>\n",
       "      <td>BROOKLYN</td>\n",
       "      <td>40.679340</td>\n",
       "      <td>-73.930435</td>\n",
       "    </tr>\n",
       "    <tr>\n",
       "      <th>25</th>\n",
       "      <td>43916888</td>\n",
       "      <td>10031.0</td>\n",
       "      <td>620 WEST  141 STREET</td>\n",
       "      <td>WEST  141 STREET</td>\n",
       "      <td>Unspecified</td>\n",
       "      <td>MANHATTAN</td>\n",
       "      <td>40.824162</td>\n",
       "      <td>-73.952978</td>\n",
       "    </tr>\n",
       "    <tr>\n",
       "      <th>26</th>\n",
       "      <td>43917860</td>\n",
       "      <td>10032.0</td>\n",
       "      <td>527 WEST  162 STREET</td>\n",
       "      <td>WEST  162 STREET</td>\n",
       "      <td>Unspecified</td>\n",
       "      <td>MANHATTAN</td>\n",
       "      <td>40.836441</td>\n",
       "      <td>-73.940802</td>\n",
       "    </tr>\n",
       "    <tr>\n",
       "      <th>34</th>\n",
       "      <td>43920891</td>\n",
       "      <td>10009.0</td>\n",
       "      <td>635 EAST   11 STREET</td>\n",
       "      <td>EAST   11 STREET</td>\n",
       "      <td>Unspecified</td>\n",
       "      <td>MANHATTAN</td>\n",
       "      <td>40.726767</td>\n",
       "      <td>-73.977783</td>\n",
       "    </tr>\n",
       "    <tr>\n",
       "      <th>37</th>\n",
       "      <td>43919611</td>\n",
       "      <td>11225.0</td>\n",
       "      <td>1087 CARROLL STREET</td>\n",
       "      <td>CARROLL STREET</td>\n",
       "      <td>Unspecified</td>\n",
       "      <td>BROOKLYN</td>\n",
       "      <td>40.667366</td>\n",
       "      <td>-73.953965</td>\n",
       "    </tr>\n",
       "    <tr>\n",
       "      <th>38</th>\n",
       "      <td>43920920</td>\n",
       "      <td>11234.0</td>\n",
       "      <td>1495 EAST   46 STREET</td>\n",
       "      <td>EAST   46 STREET</td>\n",
       "      <td>Unspecified</td>\n",
       "      <td>BROOKLYN</td>\n",
       "      <td>40.624272</td>\n",
       "      <td>-73.931343</td>\n",
       "    </tr>\n",
       "    <tr>\n",
       "      <th>44</th>\n",
       "      <td>43919638</td>\n",
       "      <td>10002.0</td>\n",
       "      <td>246 BROOME STREET</td>\n",
       "      <td>BROOME STREET</td>\n",
       "      <td>Unspecified</td>\n",
       "      <td>MANHATTAN</td>\n",
       "      <td>40.717936</td>\n",
       "      <td>-73.989585</td>\n",
       "    </tr>\n",
       "    <tr>\n",
       "      <th>59</th>\n",
       "      <td>43914332</td>\n",
       "      <td>10002.0</td>\n",
       "      <td>135 ELDRIDGE STREET</td>\n",
       "      <td>ELDRIDGE STREET</td>\n",
       "      <td>Unspecified</td>\n",
       "      <td>MANHATTAN</td>\n",
       "      <td>40.718995</td>\n",
       "      <td>-73.991544</td>\n",
       "    </tr>\n",
       "    <tr>\n",
       "      <th>65</th>\n",
       "      <td>43915680</td>\n",
       "      <td>10002.0</td>\n",
       "      <td>575 GRAND STREET</td>\n",
       "      <td>GRAND STREET</td>\n",
       "      <td>Unspecified</td>\n",
       "      <td>MANHATTAN</td>\n",
       "      <td>40.713707</td>\n",
       "      <td>-73.979140</td>\n",
       "    </tr>\n",
       "    <tr>\n",
       "      <th>66</th>\n",
       "      <td>43914296</td>\n",
       "      <td>11233.0</td>\n",
       "      <td>1711 FULTON STREET</td>\n",
       "      <td>FULTON STREET</td>\n",
       "      <td>Unspecified</td>\n",
       "      <td>BROOKLYN</td>\n",
       "      <td>40.679340</td>\n",
       "      <td>-73.930435</td>\n",
       "    </tr>\n",
       "    <tr>\n",
       "      <th>86</th>\n",
       "      <td>43915710</td>\n",
       "      <td>10009.0</td>\n",
       "      <td>715 EAST    5 STREET</td>\n",
       "      <td>EAST    5 STREET</td>\n",
       "      <td>Unspecified</td>\n",
       "      <td>MANHATTAN</td>\n",
       "      <td>40.722771</td>\n",
       "      <td>-73.979422</td>\n",
       "    </tr>\n",
       "    <tr>\n",
       "      <th>88</th>\n",
       "      <td>43914343</td>\n",
       "      <td>10033.0</td>\n",
       "      <td>608 WEST  177 STREET</td>\n",
       "      <td>WEST  177 STREET</td>\n",
       "      <td>Unspecified</td>\n",
       "      <td>MANHATTAN</td>\n",
       "      <td>40.846877</td>\n",
       "      <td>-73.936003</td>\n",
       "    </tr>\n",
       "    <tr>\n",
       "      <th>89</th>\n",
       "      <td>43915679</td>\n",
       "      <td>11233.0</td>\n",
       "      <td>1711 FULTON STREET</td>\n",
       "      <td>FULTON STREET</td>\n",
       "      <td>Unspecified</td>\n",
       "      <td>BROOKLYN</td>\n",
       "      <td>40.679340</td>\n",
       "      <td>-73.930435</td>\n",
       "    </tr>\n",
       "    <tr>\n",
       "      <th>90</th>\n",
       "      <td>43915969</td>\n",
       "      <td>10461.0</td>\n",
       "      <td>2446 LYVERE STREET</td>\n",
       "      <td>LYVERE STREET</td>\n",
       "      <td>Unspecified</td>\n",
       "      <td>BRONX</td>\n",
       "      <td>40.842477</td>\n",
       "      <td>-73.852270</td>\n",
       "    </tr>\n",
       "    <tr>\n",
       "      <th>91</th>\n",
       "      <td>43915712</td>\n",
       "      <td>11213.0</td>\n",
       "      <td>1074 EASTERN PARKWAY</td>\n",
       "      <td>EASTERN PARKWAY</td>\n",
       "      <td>Unspecified</td>\n",
       "      <td>BROOKLYN</td>\n",
       "      <td>40.668878</td>\n",
       "      <td>-73.932717</td>\n",
       "    </tr>\n",
       "    <tr>\n",
       "      <th>95</th>\n",
       "      <td>43914289</td>\n",
       "      <td>10027.0</td>\n",
       "      <td>147 WEST  127 STREET</td>\n",
       "      <td>WEST  127 STREET</td>\n",
       "      <td>Unspecified</td>\n",
       "      <td>MANHATTAN</td>\n",
       "      <td>40.809653</td>\n",
       "      <td>-73.945883</td>\n",
       "    </tr>\n",
       "    <tr>\n",
       "      <th>104</th>\n",
       "      <td>43914331</td>\n",
       "      <td>10466.0</td>\n",
       "      <td>925 EAST  225 STREET</td>\n",
       "      <td>EAST  225 STREET</td>\n",
       "      <td>Unspecified</td>\n",
       "      <td>BRONX</td>\n",
       "      <td>40.885697</td>\n",
       "      <td>-73.853816</td>\n",
       "    </tr>\n",
       "    <tr>\n",
       "      <th>110</th>\n",
       "      <td>43915672</td>\n",
       "      <td>11233.0</td>\n",
       "      <td>1325 EASTERN PARKWAY</td>\n",
       "      <td>EASTERN PARKWAY</td>\n",
       "      <td>Unspecified</td>\n",
       "      <td>BROOKLYN</td>\n",
       "      <td>40.668448</td>\n",
       "      <td>-73.924235</td>\n",
       "    </tr>\n",
       "    <tr>\n",
       "      <th>118</th>\n",
       "      <td>43914344</td>\n",
       "      <td>11225.0</td>\n",
       "      <td>2 STODDARD PLACE</td>\n",
       "      <td>STODDARD PLACE</td>\n",
       "      <td>Unspecified</td>\n",
       "      <td>BROOKLYN</td>\n",
       "      <td>40.665478</td>\n",
       "      <td>-73.955938</td>\n",
       "    </tr>\n",
       "    <tr>\n",
       "      <th>134</th>\n",
       "      <td>43914334</td>\n",
       "      <td>11233.0</td>\n",
       "      <td>1711 FULTON STREET</td>\n",
       "      <td>FULTON STREET</td>\n",
       "      <td>Unspecified</td>\n",
       "      <td>BROOKLYN</td>\n",
       "      <td>40.679340</td>\n",
       "      <td>-73.930435</td>\n",
       "    </tr>\n",
       "    <tr>\n",
       "      <th>139</th>\n",
       "      <td>43914333</td>\n",
       "      <td>11225.0</td>\n",
       "      <td>2 STODDARD PLACE</td>\n",
       "      <td>STODDARD PLACE</td>\n",
       "      <td>Unspecified</td>\n",
       "      <td>BROOKLYN</td>\n",
       "      <td>40.665478</td>\n",
       "      <td>-73.955938</td>\n",
       "    </tr>\n",
       "    <tr>\n",
       "      <th>145</th>\n",
       "      <td>43915966</td>\n",
       "      <td>11213.0</td>\n",
       "      <td>1225 EASTERN PARKWAY</td>\n",
       "      <td>EASTERN PARKWAY</td>\n",
       "      <td>Unspecified</td>\n",
       "      <td>BROOKLYN</td>\n",
       "      <td>40.668615</td>\n",
       "      <td>-73.927552</td>\n",
       "    </tr>\n",
       "    <tr>\n",
       "      <th>154</th>\n",
       "      <td>43914342</td>\n",
       "      <td>11225.0</td>\n",
       "      <td>2 STODDARD PLACE</td>\n",
       "      <td>STODDARD PLACE</td>\n",
       "      <td>Unspecified</td>\n",
       "      <td>BROOKLYN</td>\n",
       "      <td>40.665478</td>\n",
       "      <td>-73.955938</td>\n",
       "    </tr>\n",
       "    <tr>\n",
       "      <th>159</th>\n",
       "      <td>43917880</td>\n",
       "      <td>11233.0</td>\n",
       "      <td>1711 FULTON STREET</td>\n",
       "      <td>FULTON STREET</td>\n",
       "      <td>Unspecified</td>\n",
       "      <td>BROOKLYN</td>\n",
       "      <td>40.679340</td>\n",
       "      <td>-73.930435</td>\n",
       "    </tr>\n",
       "    <tr>\n",
       "      <th>162</th>\n",
       "      <td>43917911</td>\n",
       "      <td>11234.0</td>\n",
       "      <td>1495 EAST   46 STREET</td>\n",
       "      <td>EAST   46 STREET</td>\n",
       "      <td>Unspecified</td>\n",
       "      <td>BROOKLYN</td>\n",
       "      <td>40.624272</td>\n",
       "      <td>-73.931343</td>\n",
       "    </tr>\n",
       "    <tr>\n",
       "      <th>167</th>\n",
       "      <td>43920889</td>\n",
       "      <td>11224.0</td>\n",
       "      <td>2970 WEST   24 STREET</td>\n",
       "      <td>WEST   24 STREET</td>\n",
       "      <td>Unspecified</td>\n",
       "      <td>BROOKLYN</td>\n",
       "      <td>40.574134</td>\n",
       "      <td>-73.990810</td>\n",
       "    </tr>\n",
       "    <tr>\n",
       "      <th>171</th>\n",
       "      <td>43918902</td>\n",
       "      <td>10459.0</td>\n",
       "      <td>906 SIMPSON STREET</td>\n",
       "      <td>SIMPSON STREET</td>\n",
       "      <td>Unspecified</td>\n",
       "      <td>BRONX</td>\n",
       "      <td>40.820123</td>\n",
       "      <td>-73.893605</td>\n",
       "    </tr>\n",
       "    <tr>\n",
       "      <th>172</th>\n",
       "      <td>43916882</td>\n",
       "      <td>10044.0</td>\n",
       "      <td>661 MAIN STREET</td>\n",
       "      <td>MAIN STREET</td>\n",
       "      <td>Unspecified</td>\n",
       "      <td>MANHATTAN</td>\n",
       "      <td>40.764283</td>\n",
       "      <td>-73.947577</td>\n",
       "    </tr>\n",
       "    <tr>\n",
       "      <th>177</th>\n",
       "      <td>43916891</td>\n",
       "      <td>11234.0</td>\n",
       "      <td>1495 EAST   46 STREET</td>\n",
       "      <td>EAST   46 STREET</td>\n",
       "      <td>Unspecified</td>\n",
       "      <td>BROOKLYN</td>\n",
       "      <td>40.624272</td>\n",
       "      <td>-73.931343</td>\n",
       "    </tr>\n",
       "    <tr>\n",
       "      <th>183</th>\n",
       "      <td>43916873</td>\n",
       "      <td>11203.0</td>\n",
       "      <td>428 EAST   46 STREET</td>\n",
       "      <td>EAST   46 STREET</td>\n",
       "      <td>Unspecified</td>\n",
       "      <td>BROOKLYN</td>\n",
       "      <td>40.651123</td>\n",
       "      <td>-73.934234</td>\n",
       "    </tr>\n",
       "    <tr>\n",
       "      <th>...</th>\n",
       "      <td>...</td>\n",
       "      <td>...</td>\n",
       "      <td>...</td>\n",
       "      <td>...</td>\n",
       "      <td>...</td>\n",
       "      <td>...</td>\n",
       "      <td>...</td>\n",
       "      <td>...</td>\n",
       "    </tr>\n",
       "    <tr>\n",
       "      <th>5861959</th>\n",
       "      <td>42050837</td>\n",
       "      <td>11204.0</td>\n",
       "      <td>1436 WEST    8 STREET</td>\n",
       "      <td>WEST    8 STREET</td>\n",
       "      <td>Unspecified</td>\n",
       "      <td>BROOKLYN</td>\n",
       "      <td>40.611704</td>\n",
       "      <td>-73.982366</td>\n",
       "    </tr>\n",
       "    <tr>\n",
       "      <th>5861963</th>\n",
       "      <td>42050969</td>\n",
       "      <td>11212.0</td>\n",
       "      <td>272 EAST   98 STREET</td>\n",
       "      <td>EAST   98 STREET</td>\n",
       "      <td>Unspecified</td>\n",
       "      <td>BROOKLYN</td>\n",
       "      <td>40.661025</td>\n",
       "      <td>-73.918517</td>\n",
       "    </tr>\n",
       "    <tr>\n",
       "      <th>5861971</th>\n",
       "      <td>42050928</td>\n",
       "      <td>10458.0</td>\n",
       "      <td>357 EAST  201 STREET</td>\n",
       "      <td>EAST  201 STREET</td>\n",
       "      <td>Unspecified</td>\n",
       "      <td>BRONX</td>\n",
       "      <td>40.869586</td>\n",
       "      <td>-73.882632</td>\n",
       "    </tr>\n",
       "    <tr>\n",
       "      <th>5861973</th>\n",
       "      <td>42051015</td>\n",
       "      <td>10039.0</td>\n",
       "      <td>283 WEST  147 STREET</td>\n",
       "      <td>WEST  147 STREET</td>\n",
       "      <td>Unspecified</td>\n",
       "      <td>MANHATTAN</td>\n",
       "      <td>40.823832</td>\n",
       "      <td>-73.940235</td>\n",
       "    </tr>\n",
       "    <tr>\n",
       "      <th>5862072</th>\n",
       "      <td>42051334</td>\n",
       "      <td>11226.0</td>\n",
       "      <td>255 EAST   18 STREET</td>\n",
       "      <td>EAST   18 STREET</td>\n",
       "      <td>Unspecified</td>\n",
       "      <td>BROOKLYN</td>\n",
       "      <td>40.645196</td>\n",
       "      <td>-73.962257</td>\n",
       "    </tr>\n",
       "    <tr>\n",
       "      <th>5862113</th>\n",
       "      <td>42052173</td>\n",
       "      <td>11105.0</td>\n",
       "      <td>21-68 35 STREET</td>\n",
       "      <td>35 STREET</td>\n",
       "      <td>ASTORIA</td>\n",
       "      <td>QUEENS</td>\n",
       "      <td>40.775536</td>\n",
       "      <td>-73.908101</td>\n",
       "    </tr>\n",
       "    <tr>\n",
       "      <th>5862130</th>\n",
       "      <td>42052165</td>\n",
       "      <td>10002.0</td>\n",
       "      <td>299 BROOME STREET</td>\n",
       "      <td>BROOME STREET</td>\n",
       "      <td>Unspecified</td>\n",
       "      <td>MANHATTAN</td>\n",
       "      <td>40.718691</td>\n",
       "      <td>-73.992125</td>\n",
       "    </tr>\n",
       "    <tr>\n",
       "      <th>5862133</th>\n",
       "      <td>42052235</td>\n",
       "      <td>11105.0</td>\n",
       "      <td>21-68 35 STREET</td>\n",
       "      <td>35 STREET</td>\n",
       "      <td>ASTORIA</td>\n",
       "      <td>QUEENS</td>\n",
       "      <td>40.775536</td>\n",
       "      <td>-73.908101</td>\n",
       "    </tr>\n",
       "    <tr>\n",
       "      <th>5862139</th>\n",
       "      <td>42052023</td>\n",
       "      <td>11105.0</td>\n",
       "      <td>21-49 41 STREET</td>\n",
       "      <td>41 STREET</td>\n",
       "      <td>ASTORIA</td>\n",
       "      <td>QUEENS</td>\n",
       "      <td>40.773261</td>\n",
       "      <td>-73.904190</td>\n",
       "    </tr>\n",
       "    <tr>\n",
       "      <th>5862144</th>\n",
       "      <td>42052168</td>\n",
       "      <td>10451.0</td>\n",
       "      <td>775 CONCOURSE VILLAGE EAST</td>\n",
       "      <td>CONCOURSE VILLAGE EAST</td>\n",
       "      <td>Unspecified</td>\n",
       "      <td>BRONX</td>\n",
       "      <td>40.823224</td>\n",
       "      <td>-73.919763</td>\n",
       "    </tr>\n",
       "    <tr>\n",
       "      <th>5862155</th>\n",
       "      <td>42052176</td>\n",
       "      <td>10471.0</td>\n",
       "      <td>600 WEST  246 STREET</td>\n",
       "      <td>WEST  246 STREET</td>\n",
       "      <td>Unspecified</td>\n",
       "      <td>BRONX</td>\n",
       "      <td>40.892614</td>\n",
       "      <td>-73.910207</td>\n",
       "    </tr>\n",
       "    <tr>\n",
       "      <th>5862159</th>\n",
       "      <td>42052219</td>\n",
       "      <td>10030.0</td>\n",
       "      <td>137 WEST  141 STREET</td>\n",
       "      <td>WEST  141 STREET</td>\n",
       "      <td>Unspecified</td>\n",
       "      <td>MANHATTAN</td>\n",
       "      <td>40.818268</td>\n",
       "      <td>-73.938939</td>\n",
       "    </tr>\n",
       "    <tr>\n",
       "      <th>5862161</th>\n",
       "      <td>42052159</td>\n",
       "      <td>11220.0</td>\n",
       "      <td>861 48 STREET</td>\n",
       "      <td>48 STREET</td>\n",
       "      <td>Unspecified</td>\n",
       "      <td>BROOKLYN</td>\n",
       "      <td>40.641472</td>\n",
       "      <td>-74.001265</td>\n",
       "    </tr>\n",
       "    <tr>\n",
       "      <th>5862162</th>\n",
       "      <td>42052024</td>\n",
       "      <td>10026.0</td>\n",
       "      <td>307 WEST  114 STREET</td>\n",
       "      <td>WEST  114 STREET</td>\n",
       "      <td>Unspecified</td>\n",
       "      <td>MANHATTAN</td>\n",
       "      <td>40.803270</td>\n",
       "      <td>-73.956663</td>\n",
       "    </tr>\n",
       "    <tr>\n",
       "      <th>5862165</th>\n",
       "      <td>42052017</td>\n",
       "      <td>11233.0</td>\n",
       "      <td>1933 FULTON STREET</td>\n",
       "      <td>FULTON STREET</td>\n",
       "      <td>Unspecified</td>\n",
       "      <td>BROOKLYN</td>\n",
       "      <td>40.678715</td>\n",
       "      <td>-73.918636</td>\n",
       "    </tr>\n",
       "    <tr>\n",
       "      <th>5862176</th>\n",
       "      <td>42052224</td>\n",
       "      <td>10030.0</td>\n",
       "      <td>137 WEST  141 STREET</td>\n",
       "      <td>WEST  141 STREET</td>\n",
       "      <td>Unspecified</td>\n",
       "      <td>MANHATTAN</td>\n",
       "      <td>40.818268</td>\n",
       "      <td>-73.938939</td>\n",
       "    </tr>\n",
       "    <tr>\n",
       "      <th>5862177</th>\n",
       "      <td>42052155</td>\n",
       "      <td>10022.0</td>\n",
       "      <td>410 EAST   59 STREET</td>\n",
       "      <td>EAST   59 STREET</td>\n",
       "      <td>Unspecified</td>\n",
       "      <td>MANHATTAN</td>\n",
       "      <td>40.759400</td>\n",
       "      <td>-73.961474</td>\n",
       "    </tr>\n",
       "    <tr>\n",
       "      <th>5862181</th>\n",
       "      <td>42052199</td>\n",
       "      <td>10002.0</td>\n",
       "      <td>299 BROOME STREET</td>\n",
       "      <td>BROOME STREET</td>\n",
       "      <td>Unspecified</td>\n",
       "      <td>MANHATTAN</td>\n",
       "      <td>40.718691</td>\n",
       "      <td>-73.992125</td>\n",
       "    </tr>\n",
       "    <tr>\n",
       "      <th>5862221</th>\n",
       "      <td>42053266</td>\n",
       "      <td>11208.0</td>\n",
       "      <td>584 LOGAN STREET</td>\n",
       "      <td>LOGAN STREET</td>\n",
       "      <td>Unspecified</td>\n",
       "      <td>BROOKLYN</td>\n",
       "      <td>40.671619</td>\n",
       "      <td>-73.875418</td>\n",
       "    </tr>\n",
       "    <tr>\n",
       "      <th>5862253</th>\n",
       "      <td>42053246</td>\n",
       "      <td>10030.0</td>\n",
       "      <td>137 WEST  141 STREET</td>\n",
       "      <td>WEST  141 STREET</td>\n",
       "      <td>Unspecified</td>\n",
       "      <td>MANHATTAN</td>\n",
       "      <td>40.818268</td>\n",
       "      <td>-73.938939</td>\n",
       "    </tr>\n",
       "    <tr>\n",
       "      <th>5862266</th>\n",
       "      <td>42053141</td>\n",
       "      <td>11368.0</td>\n",
       "      <td>37-25 98 STREET</td>\n",
       "      <td>98 STREET</td>\n",
       "      <td>CORONA</td>\n",
       "      <td>QUEENS</td>\n",
       "      <td>40.751438</td>\n",
       "      <td>-73.868714</td>\n",
       "    </tr>\n",
       "    <tr>\n",
       "      <th>5862291</th>\n",
       "      <td>42053228</td>\n",
       "      <td>11222.0</td>\n",
       "      <td>72 DIAMOND STREET</td>\n",
       "      <td>DIAMOND STREET</td>\n",
       "      <td>Unspecified</td>\n",
       "      <td>BROOKLYN</td>\n",
       "      <td>40.725412</td>\n",
       "      <td>-73.946727</td>\n",
       "    </tr>\n",
       "    <tr>\n",
       "      <th>5862299</th>\n",
       "      <td>42053142</td>\n",
       "      <td>11421.0</td>\n",
       "      <td>86-04 96 STREET</td>\n",
       "      <td>96 STREET</td>\n",
       "      <td>WOODHAVEN</td>\n",
       "      <td>QUEENS</td>\n",
       "      <td>40.695707</td>\n",
       "      <td>-73.849408</td>\n",
       "    </tr>\n",
       "    <tr>\n",
       "      <th>5862326</th>\n",
       "      <td>42053248</td>\n",
       "      <td>11216.0</td>\n",
       "      <td>1144 BERGEN STREET</td>\n",
       "      <td>BERGEN STREET</td>\n",
       "      <td>Unspecified</td>\n",
       "      <td>BROOKLYN</td>\n",
       "      <td>40.675979</td>\n",
       "      <td>-73.947960</td>\n",
       "    </tr>\n",
       "    <tr>\n",
       "      <th>5862332</th>\n",
       "      <td>42053179</td>\n",
       "      <td>11236.0</td>\n",
       "      <td>972 EAST   81 STREET</td>\n",
       "      <td>EAST   81 STREET</td>\n",
       "      <td>Unspecified</td>\n",
       "      <td>BROOKLYN</td>\n",
       "      <td>40.634710</td>\n",
       "      <td>-73.911080</td>\n",
       "    </tr>\n",
       "    <tr>\n",
       "      <th>5862339</th>\n",
       "      <td>42053271</td>\n",
       "      <td>11233.0</td>\n",
       "      <td>737 MAC DONOUGH STREET</td>\n",
       "      <td>MAC DONOUGH STREET</td>\n",
       "      <td>Unspecified</td>\n",
       "      <td>BROOKLYN</td>\n",
       "      <td>40.684140</td>\n",
       "      <td>-73.916567</td>\n",
       "    </tr>\n",
       "    <tr>\n",
       "      <th>5862351</th>\n",
       "      <td>42053229</td>\n",
       "      <td>11234.0</td>\n",
       "      <td>2147 EAST   35 STREET</td>\n",
       "      <td>EAST   35 STREET</td>\n",
       "      <td>Unspecified</td>\n",
       "      <td>BROOKLYN</td>\n",
       "      <td>40.606858</td>\n",
       "      <td>-73.929387</td>\n",
       "    </tr>\n",
       "    <tr>\n",
       "      <th>5862357</th>\n",
       "      <td>42053289</td>\n",
       "      <td>10033.0</td>\n",
       "      <td>12 PINEHURST AVENUE</td>\n",
       "      <td>PINEHURST AVENUE</td>\n",
       "      <td>Unspecified</td>\n",
       "      <td>MANHATTAN</td>\n",
       "      <td>40.848460</td>\n",
       "      <td>-73.940303</td>\n",
       "    </tr>\n",
       "    <tr>\n",
       "      <th>5862359</th>\n",
       "      <td>42053310</td>\n",
       "      <td>11233.0</td>\n",
       "      <td>205 SUMPTER STREET</td>\n",
       "      <td>SUMPTER STREET</td>\n",
       "      <td>Unspecified</td>\n",
       "      <td>BROOKLYN</td>\n",
       "      <td>40.680284</td>\n",
       "      <td>-73.917512</td>\n",
       "    </tr>\n",
       "    <tr>\n",
       "      <th>5862360</th>\n",
       "      <td>42053306</td>\n",
       "      <td>11230.0</td>\n",
       "      <td>1585 EAST   14 STREET</td>\n",
       "      <td>EAST   14 STREET</td>\n",
       "      <td>Unspecified</td>\n",
       "      <td>BROOKLYN</td>\n",
       "      <td>40.610940</td>\n",
       "      <td>-73.959629</td>\n",
       "    </tr>\n",
       "  </tbody>\n",
       "</table>\n",
       "<p>959083 rows × 8 columns</p>\n",
       "</div>"
      ],
      "text/plain": [
       "        unique_key  incident_zip            incident_address  \\\n",
       "2         43917912       11233.0          1711 FULTON STREET   \n",
       "25        43916888       10031.0        620 WEST  141 STREET   \n",
       "26        43917860       10032.0        527 WEST  162 STREET   \n",
       "34        43920891       10009.0        635 EAST   11 STREET   \n",
       "37        43919611       11225.0         1087 CARROLL STREET   \n",
       "38        43920920       11234.0       1495 EAST   46 STREET   \n",
       "44        43919638       10002.0           246 BROOME STREET   \n",
       "59        43914332       10002.0         135 ELDRIDGE STREET   \n",
       "65        43915680       10002.0            575 GRAND STREET   \n",
       "66        43914296       11233.0          1711 FULTON STREET   \n",
       "86        43915710       10009.0        715 EAST    5 STREET   \n",
       "88        43914343       10033.0        608 WEST  177 STREET   \n",
       "89        43915679       11233.0          1711 FULTON STREET   \n",
       "90        43915969       10461.0          2446 LYVERE STREET   \n",
       "91        43915712       11213.0        1074 EASTERN PARKWAY   \n",
       "95        43914289       10027.0        147 WEST  127 STREET   \n",
       "104       43914331       10466.0        925 EAST  225 STREET   \n",
       "110       43915672       11233.0        1325 EASTERN PARKWAY   \n",
       "118       43914344       11225.0            2 STODDARD PLACE   \n",
       "134       43914334       11233.0          1711 FULTON STREET   \n",
       "139       43914333       11225.0            2 STODDARD PLACE   \n",
       "145       43915966       11213.0        1225 EASTERN PARKWAY   \n",
       "154       43914342       11225.0            2 STODDARD PLACE   \n",
       "159       43917880       11233.0          1711 FULTON STREET   \n",
       "162       43917911       11234.0       1495 EAST   46 STREET   \n",
       "167       43920889       11224.0       2970 WEST   24 STREET   \n",
       "171       43918902       10459.0          906 SIMPSON STREET   \n",
       "172       43916882       10044.0             661 MAIN STREET   \n",
       "177       43916891       11234.0       1495 EAST   46 STREET   \n",
       "183       43916873       11203.0        428 EAST   46 STREET   \n",
       "...            ...           ...                         ...   \n",
       "5861959   42050837       11204.0       1436 WEST    8 STREET   \n",
       "5861963   42050969       11212.0        272 EAST   98 STREET   \n",
       "5861971   42050928       10458.0        357 EAST  201 STREET   \n",
       "5861973   42051015       10039.0        283 WEST  147 STREET   \n",
       "5862072   42051334       11226.0        255 EAST   18 STREET   \n",
       "5862113   42052173       11105.0             21-68 35 STREET   \n",
       "5862130   42052165       10002.0           299 BROOME STREET   \n",
       "5862133   42052235       11105.0             21-68 35 STREET   \n",
       "5862139   42052023       11105.0             21-49 41 STREET   \n",
       "5862144   42052168       10451.0  775 CONCOURSE VILLAGE EAST   \n",
       "5862155   42052176       10471.0        600 WEST  246 STREET   \n",
       "5862159   42052219       10030.0        137 WEST  141 STREET   \n",
       "5862161   42052159       11220.0               861 48 STREET   \n",
       "5862162   42052024       10026.0        307 WEST  114 STREET   \n",
       "5862165   42052017       11233.0          1933 FULTON STREET   \n",
       "5862176   42052224       10030.0        137 WEST  141 STREET   \n",
       "5862177   42052155       10022.0        410 EAST   59 STREET   \n",
       "5862181   42052199       10002.0           299 BROOME STREET   \n",
       "5862221   42053266       11208.0            584 LOGAN STREET   \n",
       "5862253   42053246       10030.0        137 WEST  141 STREET   \n",
       "5862266   42053141       11368.0             37-25 98 STREET   \n",
       "5862291   42053228       11222.0           72 DIAMOND STREET   \n",
       "5862299   42053142       11421.0             86-04 96 STREET   \n",
       "5862326   42053248       11216.0          1144 BERGEN STREET   \n",
       "5862332   42053179       11236.0        972 EAST   81 STREET   \n",
       "5862339   42053271       11233.0      737 MAC DONOUGH STREET   \n",
       "5862351   42053229       11234.0       2147 EAST   35 STREET   \n",
       "5862357   42053289       10033.0         12 PINEHURST AVENUE   \n",
       "5862359   42053310       11233.0          205 SUMPTER STREET   \n",
       "5862360   42053306       11230.0       1585 EAST   14 STREET   \n",
       "\n",
       "                    street_name         city    borough   latitude  longitude  \n",
       "2                 FULTON STREET  Unspecified   BROOKLYN  40.679340 -73.930435  \n",
       "25             WEST  141 STREET  Unspecified  MANHATTAN  40.824162 -73.952978  \n",
       "26             WEST  162 STREET  Unspecified  MANHATTAN  40.836441 -73.940802  \n",
       "34             EAST   11 STREET  Unspecified  MANHATTAN  40.726767 -73.977783  \n",
       "37               CARROLL STREET  Unspecified   BROOKLYN  40.667366 -73.953965  \n",
       "38             EAST   46 STREET  Unspecified   BROOKLYN  40.624272 -73.931343  \n",
       "44                BROOME STREET  Unspecified  MANHATTAN  40.717936 -73.989585  \n",
       "59              ELDRIDGE STREET  Unspecified  MANHATTAN  40.718995 -73.991544  \n",
       "65                 GRAND STREET  Unspecified  MANHATTAN  40.713707 -73.979140  \n",
       "66                FULTON STREET  Unspecified   BROOKLYN  40.679340 -73.930435  \n",
       "86             EAST    5 STREET  Unspecified  MANHATTAN  40.722771 -73.979422  \n",
       "88             WEST  177 STREET  Unspecified  MANHATTAN  40.846877 -73.936003  \n",
       "89                FULTON STREET  Unspecified   BROOKLYN  40.679340 -73.930435  \n",
       "90                LYVERE STREET  Unspecified      BRONX  40.842477 -73.852270  \n",
       "91              EASTERN PARKWAY  Unspecified   BROOKLYN  40.668878 -73.932717  \n",
       "95             WEST  127 STREET  Unspecified  MANHATTAN  40.809653 -73.945883  \n",
       "104            EAST  225 STREET  Unspecified      BRONX  40.885697 -73.853816  \n",
       "110             EASTERN PARKWAY  Unspecified   BROOKLYN  40.668448 -73.924235  \n",
       "118              STODDARD PLACE  Unspecified   BROOKLYN  40.665478 -73.955938  \n",
       "134               FULTON STREET  Unspecified   BROOKLYN  40.679340 -73.930435  \n",
       "139              STODDARD PLACE  Unspecified   BROOKLYN  40.665478 -73.955938  \n",
       "145             EASTERN PARKWAY  Unspecified   BROOKLYN  40.668615 -73.927552  \n",
       "154              STODDARD PLACE  Unspecified   BROOKLYN  40.665478 -73.955938  \n",
       "159               FULTON STREET  Unspecified   BROOKLYN  40.679340 -73.930435  \n",
       "162            EAST   46 STREET  Unspecified   BROOKLYN  40.624272 -73.931343  \n",
       "167            WEST   24 STREET  Unspecified   BROOKLYN  40.574134 -73.990810  \n",
       "171              SIMPSON STREET  Unspecified      BRONX  40.820123 -73.893605  \n",
       "172                 MAIN STREET  Unspecified  MANHATTAN  40.764283 -73.947577  \n",
       "177            EAST   46 STREET  Unspecified   BROOKLYN  40.624272 -73.931343  \n",
       "183            EAST   46 STREET  Unspecified   BROOKLYN  40.651123 -73.934234  \n",
       "...                         ...          ...        ...        ...        ...  \n",
       "5861959        WEST    8 STREET  Unspecified   BROOKLYN  40.611704 -73.982366  \n",
       "5861963        EAST   98 STREET  Unspecified   BROOKLYN  40.661025 -73.918517  \n",
       "5861971        EAST  201 STREET  Unspecified      BRONX  40.869586 -73.882632  \n",
       "5861973        WEST  147 STREET  Unspecified  MANHATTAN  40.823832 -73.940235  \n",
       "5862072        EAST   18 STREET  Unspecified   BROOKLYN  40.645196 -73.962257  \n",
       "5862113               35 STREET      ASTORIA     QUEENS  40.775536 -73.908101  \n",
       "5862130           BROOME STREET  Unspecified  MANHATTAN  40.718691 -73.992125  \n",
       "5862133               35 STREET      ASTORIA     QUEENS  40.775536 -73.908101  \n",
       "5862139               41 STREET      ASTORIA     QUEENS  40.773261 -73.904190  \n",
       "5862144  CONCOURSE VILLAGE EAST  Unspecified      BRONX  40.823224 -73.919763  \n",
       "5862155        WEST  246 STREET  Unspecified      BRONX  40.892614 -73.910207  \n",
       "5862159        WEST  141 STREET  Unspecified  MANHATTAN  40.818268 -73.938939  \n",
       "5862161               48 STREET  Unspecified   BROOKLYN  40.641472 -74.001265  \n",
       "5862162        WEST  114 STREET  Unspecified  MANHATTAN  40.803270 -73.956663  \n",
       "5862165           FULTON STREET  Unspecified   BROOKLYN  40.678715 -73.918636  \n",
       "5862176        WEST  141 STREET  Unspecified  MANHATTAN  40.818268 -73.938939  \n",
       "5862177        EAST   59 STREET  Unspecified  MANHATTAN  40.759400 -73.961474  \n",
       "5862181           BROOME STREET  Unspecified  MANHATTAN  40.718691 -73.992125  \n",
       "5862221            LOGAN STREET  Unspecified   BROOKLYN  40.671619 -73.875418  \n",
       "5862253        WEST  141 STREET  Unspecified  MANHATTAN  40.818268 -73.938939  \n",
       "5862266               98 STREET       CORONA     QUEENS  40.751438 -73.868714  \n",
       "5862291          DIAMOND STREET  Unspecified   BROOKLYN  40.725412 -73.946727  \n",
       "5862299               96 STREET    WOODHAVEN     QUEENS  40.695707 -73.849408  \n",
       "5862326           BERGEN STREET  Unspecified   BROOKLYN  40.675979 -73.947960  \n",
       "5862332        EAST   81 STREET  Unspecified   BROOKLYN  40.634710 -73.911080  \n",
       "5862339      MAC DONOUGH STREET  Unspecified   BROOKLYN  40.684140 -73.916567  \n",
       "5862351        EAST   35 STREET  Unspecified   BROOKLYN  40.606858 -73.929387  \n",
       "5862357        PINEHURST AVENUE  Unspecified  MANHATTAN  40.848460 -73.940303  \n",
       "5862359          SUMPTER STREET  Unspecified   BROOKLYN  40.680284 -73.917512  \n",
       "5862360        EAST   14 STREET  Unspecified   BROOKLYN  40.610940 -73.959629  \n",
       "\n",
       "[959083 rows x 8 columns]"
      ]
     },
     "execution_count": 35,
     "metadata": {},
     "output_type": "execute_result"
    }
   ],
   "source": [
    "df[(df['street_name'].isnull()==False)&(df['street_name'].str.contains('ST'))]"
   ]
  },
  {
   "cell_type": "markdown",
   "metadata": {},
   "source": [
    "<p style=\"color:Red;\">What standardizations can we do based on these insights?</p>"
   ]
  },
  {
   "cell_type": "code",
   "execution_count": null,
   "metadata": {},
   "outputs": [],
   "source": [
    "#Code helpers to standardize\n",
    "\n",
    "def fix_last_word(street, old, new):\n",
    "    split_street = street.split()\n",
    "    last_index = len(split_street) - 1\n",
    "    if split_street[last_index]==old:\n",
    "        split_street[last_index] = new\n",
    "    effective_street = \" \".join(split_street)\n",
    "    return effective_street\n",
    "\n",
    "def fix_middle_words(street, old, new):\n",
    "    split_street = street.split()\n",
    "    found_at_index = next((i for i, x in enumerate(split_street) if x==old), None)\n",
    "    last_index = len(split_street) - 1\n",
    "    if found_at_index!=None:\n",
    "        if found_at_index!=last_index:\n",
    "            split_street[found_at_index] = new\n",
    "    effective_street = \" \".join(split_street)\n",
    "    return effective_street\n",
    "\n",
    "def standardize_mlk(street):\n",
    "    effective_street = street\n",
    "    effective_street = effective_street.replace(\"DR M L KING JR\",\"mlk\")\n",
    "    effective_street = effective_street.replace(\"DR MARTIN L KING\",\"mlk\")\n",
    "    effective_street = effective_street.replace(\"MARTIN LUTHER KING\",\"mlk\")\n",
    "    effective_street = effective_street.replace(\"MARTIN L KING JR\",\"mlk\")\n",
    "    effective_street = effective_street.replace(\"MARTIN L KING\",\"mlk\")\n",
    "    effective_street = effective_street.replace(\"mlk\",\"MARTIN LUTHER KING\")\n",
    "    return effective_street\n",
    "\n",
    "def standardize_street(street):\n",
    "    effective_street = street.strip() #Remove leading and trailing spaces.\n",
    "    effective_street = re.sub(' +', ' ', effective_street) #Squeeze multiple spaces to one space.\n",
    "    \n",
    "    effective_street = street_mlk(effective_street)\n",
    "    effective_street = fix_last_word(effective_street,\"AVE\",\"AVENUE\")\n",
    "    effective_street = fix_last_word(effective_street,\"ST\",\"STREET\")\n",
    "    effective_street = fix_last_word(effective_street,\"RD\",\"ROAD\")\n",
    "    \n",
    "    split_street = effective_street.split()\n",
    "    last_word = split_street[-1]\n",
    "   \n",
    "    if street in popular_streets:\n",
    "        return \"accounted for - popular\"\n",
    "    if (len(split_street)==2)&(last_word in popular_suffixes):\n",
    "        return \"accounted for - 2 word normal\"\n",
    "    if (len(split_street)==2)&(split_street[0]==\"AVENUE\"):\n",
    "        return \"accounted for - avenue X\"\n",
    "    if (last_word in directionals)&(len(split_street)>2):\n",
    "        if (split_street[-2] in popular_suffixes):\n",
    "            return \"accounted for - normal with directional\"\n",
    "    if (len(split_street)==2)&(split_street[0] in directionals):\n",
    "        if (split_street[1] in popular_streets):\n",
    "            return \"accounted for - directional popular\"\n",
    "    \n",
    "    return effective_street\n",
    "    #return last_word"
   ]
  },
  {
   "cell_type": "code",
   "execution_count": null,
   "metadata": {},
   "outputs": [],
   "source": [
    "# Create a new column by applying the standardizations to each street.\n",
    "df['standardized_street_name'] = df['street_name'].apply(standardize_street)"
   ]
  },
  {
   "cell_type": "code",
   "execution_count": null,
   "metadata": {},
   "outputs": [],
   "source": []
  },
  {
   "cell_type": "code",
   "execution_count": null,
   "metadata": {},
   "outputs": [],
   "source": [
    "df['normalized_street_name'].value_counts()"
   ]
  },
  {
   "cell_type": "code",
   "execution_count": null,
   "metadata": {},
   "outputs": [],
   "source": [
    "df[df['normalized_street_name']=='SOUTH']['street_name'].value_counts()"
   ]
  },
  {
   "cell_type": "code",
   "execution_count": null,
   "metadata": {},
   "outputs": [],
   "source": [
    "df[(df['street_name'].isnull()==False)&(df['street_name'].str.contains('  '))].head()"
   ]
  },
  {
   "cell_type": "code",
   "execution_count": null,
   "metadata": {},
   "outputs": [],
   "source": [
    "df[df['street_name'].str.contains('CONCOURSE')]['street_name'].value_counts()"
   ]
  },
  {
   "cell_type": "markdown",
   "metadata": {},
   "source": [
    "### Visualize data"
   ]
  },
  {
   "cell_type": "code",
   "execution_count": null,
   "metadata": {},
   "outputs": [],
   "source": [
    "graph_width_max = df['borough'].value_counts().max()"
   ]
  },
  {
   "cell_type": "code",
   "execution_count": null,
   "metadata": {},
   "outputs": [],
   "source": [
    "%matplotlib inline \n",
    "import matplotlib.pyplot as plt"
   ]
  },
  {
   "cell_type": "code",
   "execution_count": null,
   "metadata": {},
   "outputs": [],
   "source": [
    "#Gather totals for graphic\n",
    "totals_for_graph = df['borough'].value_counts()"
   ]
  },
  {
   "cell_type": "code",
   "execution_count": null,
   "metadata": {},
   "outputs": [],
   "source": [
    "#Plot\n",
    "totals_for_graph.plot(kind='barh', figsize=(13, 4), color='steelblue')\n",
    "plt.xlim = (0, graph_width_max)\n",
    "plt.xlabel('Number of complaints')\n",
    "plt.title('HEATING / HOT WATER complaints by borough')\n",
    "for index, value in enumerate(totals_for_graph): \n",
    "    label = format(int(value), ',') # format int with commas\n",
    "    # place text at the end of bar (subtracting 47000 from x, and 0.1 from y to make it fit within the bar)\n",
    "    plt.annotate(label, xy=(value - 47000, index - 0.10), color='white')\n",
    "plt.show()"
   ]
  },
  {
   "cell_type": "markdown",
   "metadata": {},
   "source": [
    "<a id=\"conclusion\"></a>\n",
    "## Concluding Remarks\n",
    "---"
   ]
  },
  {
   "cell_type": "markdown",
   "metadata": {},
   "source": [
    "xxx."
   ]
  },
  {
   "cell_type": "markdown",
   "metadata": {},
   "source": [
    "The Department of Housing Preservation and Development of New York City should focus on the following particular set of boroughs, ZIP codes, and streets (where the complaints are severe) for the \"HEAT/HOT WATER\" + \"HEATING\" complaint types:"
   ]
  },
  {
   "cell_type": "markdown",
   "metadata": {},
   "source": [
    "<p style=\"color:Red;\">xxx</p>"
   ]
  },
  {
   "cell_type": "markdown",
   "metadata": {},
   "source": [
    "xxx"
   ]
  }
 ],
 "metadata": {
  "kernelspec": {
   "display_name": "Python 3",
   "language": "python",
   "name": "python3"
  },
  "language_info": {
   "codemirror_mode": {
    "name": "ipython",
    "version": 3
   },
   "file_extension": ".py",
   "mimetype": "text/x-python",
   "name": "python",
   "nbconvert_exporter": "python",
   "pygments_lexer": "ipython3",
   "version": "3.7.3"
  }
 },
 "nbformat": 4,
 "nbformat_minor": 1
}
