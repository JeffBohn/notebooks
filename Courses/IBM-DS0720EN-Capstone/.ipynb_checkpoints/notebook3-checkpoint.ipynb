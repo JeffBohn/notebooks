{
 "cells": [
  {
   "cell_type": "markdown",
   "metadata": {},
   "source": [
    "<h1 style=\"text-align:center\">Data Science and Machine Learning Capstone Project</h1>\n",
    "<img style=\"float:right\" src=\"https://prod-edxapp.edx-cdn.org/static/edx.org/images/logo.790c9a5340cb.png\">\n",
    "<p style=\"text-align:center\">IBM: DS0720EN</p>\n",
    "<p style=\"text-align:center\">Question 3 of 4</p>"
   ]
  },
  {
   "cell_type": "markdown",
   "metadata": {},
   "source": [
    "1. [Problem Statement](#problem)\n",
    "2. [Question 3](#question)\n",
    "3. [Data Cleaning and Standardization](#wrangling)\n",
    "4. [Analyzing and Visualizing](#analysis)\n",
    "5. [Concluding Remarks](#conclusion)"
   ]
  },
  {
   "cell_type": "markdown",
   "metadata": {},
   "source": [
    "<a id=\"problem\"></a>\n",
    "# Problem Statement\n",
    "---"
   ]
  },
  {
   "cell_type": "markdown",
   "metadata": {},
   "source": [
    "The people of New York use the 311 system to report complaints about the non-emergency problems to local authorities. Various agencies in New York are assigned these problems. The Department of Housing Preservation and Development of New York City is the agency that processes 311 complaints that are related to housing and buildings.\n",
    "\n",
    "In the last few years, the number of 311 complaints coming to the Department of Housing Preservation and Development has increased significantly. Although these complaints are not necessarily urgent, the large volume of complaints and the sudden increase is impacting the overall efficiency of operations of the agency.\n",
    "\n",
    "Therefore, the Department of Housing Preservation and Development has approached your organization to help them manage the large volume of 311 complaints they are receiving every year.\n",
    "\n",
    "The agency needs answers to several questions. The answers to those questions must be supported by data and analytics. These are their  questions:"
   ]
  },
  {
   "cell_type": "markdown",
   "metadata": {},
   "source": [
    "<a id=\"question\"></a>\n",
    "# Question 3\n",
    "---"
   ]
  },
  {
   "cell_type": "markdown",
   "metadata": {},
   "source": [
    "Does the Complaint Type that you identified in response to Question 1 have an obvious relationship with any particular characteristic or characteristic of the Houses?"
   ]
  },
  {
   "cell_type": "markdown",
   "metadata": {},
   "source": [
    "## Approach\n",
    "Determine whether or not there are any correlations between the building characteristics of buildings that experienced HEAT/HOT WATER complaints (from Question 1) relative to the building characteristics of all buildings in the PLUTO house database."
   ]
  },
  {
   "cell_type": "markdown",
   "metadata": {},
   "source": [
    "## Load Data\n",
    "Separately from this notebook:\n",
    "\n",
    "The [New York 311](https://data.cityofnewyork.us/Social-Services/311-Service-Requests-from-2010-to-Present/erm2-nwe9) data was loaded by [SODA](https://data.cityofnewyork.us/resource/fhrw-4uyv.csv?$limit=100000000&Agency=HPD&$select=created_date,unique_key,complaint_type,incident_zip,incident_address,street_name,address_type,city,resolution_description,borough,latitude,longitude,closed_date,location_type,status) into a Pandas DataFrame then saved to a pickle file.\n",
    "\n",
    "The [New York PLUTO](https://data.cityofnewyork.us/City-Government/Primary-Land-Use-Tax-Lot-Output-PLUTO-/xuk2-nczf) data was downloaded.  The instructions at ( Course / 1. Project Challenge Details and Setup / Datasets Used in this Course / Datasets ) said \"Use only the part that is specific to the borough that you are interested in based on your analysis.\"  My answer for Question 2 suggested the borough with the biggest HEAT/HOT WATER problem was BRONX.  For that reason, only the BX_18v1.csv file was loaded into a Pandas DataFrame then saved to a pickle file"
   ]
  },
  {
   "cell_type": "code",
   "execution_count": 1,
   "metadata": {},
   "outputs": [],
   "source": [
    "import pandas as pd\n",
    "import numpy as np\n",
    "%matplotlib inline\n",
    "from matplotlib import pyplot as plt\n",
    "from sklearn.preprocessing import StandardScaler\n",
    "from sklearn.preprocessing import RobustScaler\n",
    "import scipy.stats as stats\n",
    "import seaborn as sns\n",
    "from sklearn.model_selection import train_test_split\n",
    "from sklearn.linear_model import LinearRegression\n",
    "from sklearn import linear_model\n",
    "from sklearn.impute import SimpleImputer\n",
    "\n",
    "files_path = 'C:\\\\Users\\\\It_Co\\\\Documents\\\\DataScience\\\\Capstone\\\\' #local\n",
    "#files_path = './' #IBM Cloud / Watson Studio"
   ]
  },
  {
   "cell_type": "code",
   "execution_count": 2,
   "metadata": {
    "scrolled": true
   },
   "outputs": [
    {
     "name": "stdout",
     "output_type": "stream",
     "text": [
      "NY 311 shape (5862383, 15)\n",
      "PLUTO shape (859212, 20)\n"
     ]
    }
   ],
   "source": [
    "b311 = pd.read_pickle(files_path + 'ny311full.pkl')\n",
    "\n",
    "#file_columns = ['Address','BldgArea','BldgDepth','BuiltFAR','CommFAR','FacilFAR','Lot','LotArea','LotDepth','NumBldgs','NumFloors','OfficeArea','ResArea','ResidFAR','RetailArea','YearBuilt','YearAlter1','ZipCode', 'YCoord', 'XCoord']\n",
    "#df = pd.read_csv(files_path + 'BX_18v1.csv', usecols=file_columns)\n",
    "#df = pd.concat([df, pd.read_csv(files_path + 'BK_18v1.csv', usecols=file_columns)])\n",
    "#df = pd.concat([df, pd.read_csv(files_path + 'MN_18v1.csv', usecols=file_columns)])\n",
    "#df = pd.concat([df, pd.read_csv(files_path + 'QN_18v1.csv', usecols=file_columns)])\n",
    "#df = pd.concat([df, pd.read_csv(files_path + 'SI_18v1.csv', usecols=file_columns)])\n",
    "#df.to_pickle(files_path + 'q3.pkl')\n",
    "\n",
    "df = pd.read_pickle(files_path + 'q3.pkl')\n",
    "\n",
    "print(\"NY 311 shape %s\" % (b311.shape,))\n",
    "print(\"PLUTO shape %s\" % (df.shape,))"
   ]
  },
  {
   "cell_type": "markdown",
   "metadata": {},
   "source": [
    "<a id=\"wrangling\"></a>\n",
    "# Data Cleaning and Standardization\n",
    "---"
   ]
  },
  {
   "cell_type": "markdown",
   "metadata": {},
   "source": [
    "Correct or remove observations with missing or malformed data.  The 311 and the PLUTO data sets will need to be \"joined\" together by the common \"address\" element, which means the addresses will need to be standardized to a consistent layout to allow the addresses to be compared consistently."
   ]
  },
  {
   "cell_type": "markdown",
   "metadata": {},
   "source": [
    "## NY 311"
   ]
  },
  {
   "cell_type": "markdown",
   "metadata": {},
   "source": [
    "### General"
   ]
  },
  {
   "cell_type": "code",
   "execution_count": 3,
   "metadata": {},
   "outputs": [],
   "source": [
    "#Remove columns deemed unnecessary for this question.\n",
    "b311.drop(['created_date','street_name','address_type','resolution_description','closed_date','location_type','status','unique_key','latitude','longitude'], axis=1, inplace=True)\n",
    "#Only use the combined \"heating and hot water\" complaints determined from Question 1.\n",
    "b311['complaint_type'] = b311['complaint_type'].str.upper()\n",
    "b311.drop(b311[b311[\"complaint_type\"].isin([\"HEAT/HOT WATER\",\"HEATING\"])==False].index, axis=0, inplace=True)\n",
    "b311.reset_index(drop=True, inplace=True)\n",
    "#Adjust all relevant strings to uppercase so different casing won't appear as separate values.\n",
    "b311['incident_address'] = b311['incident_address'].str.upper()\n",
    "b311['city'] = b311['city'].str.upper()\n",
    "b311['borough'] = b311['borough'].str.upper()"
   ]
  },
  {
   "cell_type": "code",
   "execution_count": 4,
   "metadata": {},
   "outputs": [
    {
     "name": "stdout",
     "output_type": "stream",
     "text": [
      "shape (2040461, 5)\n",
      "--nulls below--\n",
      "complaint_type          0\n",
      "incident_zip        18970\n",
      "incident_address        1\n",
      "city                18843\n",
      "borough                 0\n",
      "dtype: int64\n",
      "--types below--\n",
      "complaint_type       object\n",
      "incident_zip        float64\n",
      "incident_address     object\n",
      "city                 object\n",
      "borough              object\n",
      "dtype: object\n"
     ]
    },
    {
     "data": {
      "text/html": [
       "<div>\n",
       "<style scoped>\n",
       "    .dataframe tbody tr th:only-of-type {\n",
       "        vertical-align: middle;\n",
       "    }\n",
       "\n",
       "    .dataframe tbody tr th {\n",
       "        vertical-align: top;\n",
       "    }\n",
       "\n",
       "    .dataframe thead th {\n",
       "        text-align: right;\n",
       "    }\n",
       "</style>\n",
       "<table border=\"1\" class=\"dataframe\">\n",
       "  <thead>\n",
       "    <tr style=\"text-align: right;\">\n",
       "      <th></th>\n",
       "      <th>complaint_type</th>\n",
       "      <th>incident_zip</th>\n",
       "      <th>incident_address</th>\n",
       "      <th>city</th>\n",
       "      <th>borough</th>\n",
       "    </tr>\n",
       "  </thead>\n",
       "  <tbody>\n",
       "    <tr>\n",
       "      <th>0</th>\n",
       "      <td>HEAT/HOT WATER</td>\n",
       "      <td>11233.0</td>\n",
       "      <td>1711 FULTON STREET</td>\n",
       "      <td>BROOKLYN</td>\n",
       "      <td>BROOKLYN</td>\n",
       "    </tr>\n",
       "    <tr>\n",
       "      <th>1</th>\n",
       "      <td>HEAT/HOT WATER</td>\n",
       "      <td>10457.0</td>\n",
       "      <td>4487 3 AVENUE</td>\n",
       "      <td>BRONX</td>\n",
       "      <td>BRONX</td>\n",
       "    </tr>\n",
       "    <tr>\n",
       "      <th>2</th>\n",
       "      <td>HEAT/HOT WATER</td>\n",
       "      <td>11204.0</td>\n",
       "      <td>6802 18 AVENUE</td>\n",
       "      <td>BROOKLYN</td>\n",
       "      <td>BROOKLYN</td>\n",
       "    </tr>\n",
       "    <tr>\n",
       "      <th>3</th>\n",
       "      <td>HEAT/HOT WATER</td>\n",
       "      <td>10031.0</td>\n",
       "      <td>620 WEST  141 STREET</td>\n",
       "      <td>NEW YORK</td>\n",
       "      <td>MANHATTAN</td>\n",
       "    </tr>\n",
       "    <tr>\n",
       "      <th>4</th>\n",
       "      <td>HEAT/HOT WATER</td>\n",
       "      <td>10032.0</td>\n",
       "      <td>527 WEST  162 STREET</td>\n",
       "      <td>NEW YORK</td>\n",
       "      <td>MANHATTAN</td>\n",
       "    </tr>\n",
       "  </tbody>\n",
       "</table>\n",
       "</div>"
      ],
      "text/plain": [
       "   complaint_type  incident_zip      incident_address      city    borough\n",
       "0  HEAT/HOT WATER       11233.0    1711 FULTON STREET  BROOKLYN   BROOKLYN\n",
       "1  HEAT/HOT WATER       10457.0         4487 3 AVENUE     BRONX      BRONX\n",
       "2  HEAT/HOT WATER       11204.0        6802 18 AVENUE  BROOKLYN   BROOKLYN\n",
       "3  HEAT/HOT WATER       10031.0  620 WEST  141 STREET  NEW YORK  MANHATTAN\n",
       "4  HEAT/HOT WATER       10032.0  527 WEST  162 STREET  NEW YORK  MANHATTAN"
      ]
     },
     "execution_count": 4,
     "metadata": {},
     "output_type": "execute_result"
    }
   ],
   "source": [
    "#Print some initial information for comparison during later steps.\n",
    "print(\"shape %s\" % str(b311.shape))\n",
    "print(\"--nulls below--\")\n",
    "print(b311.isnull().sum())\n",
    "print(\"--types below--\")\n",
    "print(b311.dtypes)\n",
    "b311.head()"
   ]
  },
  {
   "cell_type": "markdown",
   "metadata": {},
   "source": [
    "### Standardize Borough\n",
    "Leveraging findings found while standardizing during Question 2."
   ]
  },
  {
   "cell_type": "code",
   "execution_count": 5,
   "metadata": {},
   "outputs": [
    {
     "data": {
      "text/plain": [
       "BRONX            569960\n",
       "BROOKLYN         543166\n",
       "MANHATTAN        398552\n",
       "UNSPECIFIED      282917\n",
       "QUEENS           228447\n",
       "STATEN ISLAND     17419\n",
       "Name: borough, dtype: int64"
      ]
     },
     "execution_count": 5,
     "metadata": {},
     "output_type": "execute_result"
    }
   ],
   "source": [
    "b311['borough'].value_counts()"
   ]
  },
  {
   "cell_type": "code",
   "execution_count": 6,
   "metadata": {},
   "outputs": [],
   "source": [
    "#Correct rows where borough was entered in the city column with \"UNSPECIFIED\" in the borough column.\n",
    "five_boroughs = [\"BROOKLYN\",\"BRONX\",\"MANHATTAN\",\"QUEENS\",\"STATEN ISLAND\"]\n",
    "which_rows_to_adjust = b311[(b311[\"borough\"]=='UNSPECIFIED')&b311[\"city\"].isin(five_boroughs)].index\n",
    "b311.loc[which_rows_to_adjust,'borough']=b311.loc[which_rows_to_adjust,'city']\n",
    "b311.loc[which_rows_to_adjust,'city']=np.nan\n",
    "#Drop a few rows of ambiguous data.\n",
    "b311.drop(b311[(b311[\"borough\"]=='MANHATTAN')&(b311[\"city\"]=='BRONX')].index, axis=0, inplace=True)\n",
    "b311.reset_index(drop=True, inplace=True)\n",
    "#Fill in UNSPECIFIED borough when city was entered as NEW YORK.\n",
    "which_rows_to_adjust = b311[(b311[\"borough\"]=='UNSPECIFIED')&(b311[\"city\"]=='NEW YORK')].index\n",
    "b311.loc[which_rows_to_adjust,'borough']=\"MANHATTAN\"\n",
    "b311.loc[which_rows_to_adjust,'city']=np.nan\n",
    "#Although the city for most of the \"NEW YORK\" ones are the only ones that technically got the \"city\" column valued correctly,\n",
    "#since every other row uses city as \"neighborhood\":  Standardize these.\n",
    "which_rows_to_adjust = b311[(b311[\"city\"]=='NEW YORK')].index\n",
    "b311.loc[which_rows_to_adjust,'city']=np.nan\n",
    "#Any still unspecified boroughs with a value in \"city\" are in the Queens borough.  The \"city\" is actually a \"neighborhood\".\n",
    "queens_neighborhoods = b311[(b311['borough']=='UNSPECIFIED')&(b311['city'].isnull()==False)]['city'].unique()\n",
    "#Standardize borough for Queens neighborhoods.\n",
    "which_rows_to_adjust = b311[(b311[\"borough\"]=='UNSPECIFIED')&b311[\"city\"].isin(queens_neighborhoods)].index\n",
    "b311.loc[which_rows_to_adjust,'borough']=\"QUEENS\"\n",
    "#Null the borough if it still shows up as unspecified borough as there is no other information from which to derive it.\n",
    "which_rows_to_adjust = b311[(b311[\"borough\"]=='UNSPECIFIED')&b311[\"city\"].isnull()].index\n",
    "b311.loc[which_rows_to_adjust,'borough']=np.nan"
   ]
  },
  {
   "cell_type": "code",
   "execution_count": 7,
   "metadata": {},
   "outputs": [
    {
     "data": {
      "text/plain": [
       "BRONX            658545\n",
       "BROOKLYN         636554\n",
       "MANHATTAN        457638\n",
       "QUEENS           266565\n",
       "STATEN ISLAND     20881\n",
       "Name: borough, dtype: int64"
      ]
     },
     "execution_count": 7,
     "metadata": {},
     "output_type": "execute_result"
    }
   ],
   "source": [
    "b311['borough'].value_counts()"
   ]
  },
  {
   "cell_type": "markdown",
   "metadata": {},
   "source": [
    "### Filter NY 311 data by borough to only include BRONX\n",
    "The instructions at ( Course / 1. Project Challenge Details and Setup / Datasets Used in this Course / Datasets ) said \"Use only the part that is specific to the borough that you are interested in based on your analysis.\"  My answer for Question 2 suggested the borough with the biggest HEAT/HOT WATER problem was BRONX.  For that reason, I am only considering the BRONX data."
   ]
  },
  {
   "cell_type": "code",
   "execution_count": 8,
   "metadata": {},
   "outputs": [],
   "source": [
    "#b311.drop(b311[(b311[\"borough\"]!='BRONX')].index, axis=0, inplace=True)\n",
    "#b311.reset_index(drop=True, inplace=True)\n",
    "#b311['borough'].value_counts()"
   ]
  },
  {
   "cell_type": "markdown",
   "metadata": {},
   "source": [
    "### Remove unnecessary columns\n",
    "These were only necessary to standardize and then filter by borough."
   ]
  },
  {
   "cell_type": "code",
   "execution_count": 9,
   "metadata": {},
   "outputs": [
    {
     "name": "stdout",
     "output_type": "stream",
     "text": [
      "(2040452, 3)\n",
      "complaint_type          0\n",
      "incident_zip        18970\n",
      "incident_address        1\n",
      "dtype: int64\n"
     ]
    },
    {
     "data": {
      "text/html": [
       "<div>\n",
       "<style scoped>\n",
       "    .dataframe tbody tr th:only-of-type {\n",
       "        vertical-align: middle;\n",
       "    }\n",
       "\n",
       "    .dataframe tbody tr th {\n",
       "        vertical-align: top;\n",
       "    }\n",
       "\n",
       "    .dataframe thead th {\n",
       "        text-align: right;\n",
       "    }\n",
       "</style>\n",
       "<table border=\"1\" class=\"dataframe\">\n",
       "  <thead>\n",
       "    <tr style=\"text-align: right;\">\n",
       "      <th></th>\n",
       "      <th>complaint_type</th>\n",
       "      <th>incident_zip</th>\n",
       "      <th>incident_address</th>\n",
       "    </tr>\n",
       "  </thead>\n",
       "  <tbody>\n",
       "    <tr>\n",
       "      <th>0</th>\n",
       "      <td>HEAT/HOT WATER</td>\n",
       "      <td>11233.0</td>\n",
       "      <td>1711 FULTON STREET</td>\n",
       "    </tr>\n",
       "    <tr>\n",
       "      <th>1</th>\n",
       "      <td>HEAT/HOT WATER</td>\n",
       "      <td>10457.0</td>\n",
       "      <td>4487 3 AVENUE</td>\n",
       "    </tr>\n",
       "    <tr>\n",
       "      <th>2</th>\n",
       "      <td>HEAT/HOT WATER</td>\n",
       "      <td>11204.0</td>\n",
       "      <td>6802 18 AVENUE</td>\n",
       "    </tr>\n",
       "  </tbody>\n",
       "</table>\n",
       "</div>"
      ],
      "text/plain": [
       "   complaint_type  incident_zip    incident_address\n",
       "0  HEAT/HOT WATER       11233.0  1711 FULTON STREET\n",
       "1  HEAT/HOT WATER       10457.0       4487 3 AVENUE\n",
       "2  HEAT/HOT WATER       11204.0      6802 18 AVENUE"
      ]
     },
     "execution_count": 9,
     "metadata": {},
     "output_type": "execute_result"
    }
   ],
   "source": [
    "#Remove columns no longer necessary\n",
    "b311.drop(['borough','city'], axis=1, inplace=True)\n",
    "print(b311.shape)\n",
    "print(b311.isnull().sum())\n",
    "b311.head(3)"
   ]
  },
  {
   "cell_type": "code",
   "execution_count": 10,
   "metadata": {},
   "outputs": [
    {
     "name": "stdout",
     "output_type": "stream",
     "text": [
      "complaint_type          0\n",
      "incident_zip        18969\n",
      "incident_address        0\n",
      "dtype: int64\n"
     ]
    },
    {
     "data": {
      "text/plain": [
       "34 ARDEN STREET          13819\n",
       "89-21 ELMHURST AVENUE    10139\n",
       "3810 BAILEY AVENUE        7112\n",
       "1025 BOYNTON AVENUE       5773\n",
       "9511 SHORE ROAD           4396\n",
       "Name: incident_address, dtype: int64"
      ]
     },
     "execution_count": 10,
     "metadata": {},
     "output_type": "execute_result"
    }
   ],
   "source": [
    "# Drop observations with missing address as there will be no way to tie them to any PLUTO data.\n",
    "b311.dropna(subset=['incident_address'], axis=0, inplace=True)\n",
    "b311.reset_index(drop=True, inplace=True)\n",
    "print(b311.isnull().sum())\n",
    "b311['incident_address'].value_counts().head()"
   ]
  },
  {
   "cell_type": "markdown",
   "metadata": {},
   "source": [
    "## BRONX PLUTO"
   ]
  },
  {
   "cell_type": "code",
   "execution_count": 11,
   "metadata": {},
   "outputs": [
    {
     "name": "stdout",
     "output_type": "stream",
     "text": [
      "shape (859212, 20)\n",
      "---isnull follows---\n",
      "Lot               0\n",
      "ZipCode        4154\n",
      "Address         512\n",
      "LotArea           0\n",
      "BldgArea          0\n",
      "ResArea           0\n",
      "OfficeArea        0\n",
      "RetailArea        0\n",
      "NumBldgs          0\n",
      "NumFloors         0\n",
      "LotDepth          0\n",
      "BldgDepth         0\n",
      "YearBuilt         0\n",
      "YearAlter1        0\n",
      "BuiltFAR          0\n",
      "ResidFAR          0\n",
      "CommFAR           0\n",
      "FacilFAR          0\n",
      "XCoord        23956\n",
      "YCoord        23956\n",
      "dtype: int64\n"
     ]
    },
    {
     "data": {
      "text/html": [
       "<div>\n",
       "<style scoped>\n",
       "    .dataframe tbody tr th:only-of-type {\n",
       "        vertical-align: middle;\n",
       "    }\n",
       "\n",
       "    .dataframe tbody tr th {\n",
       "        vertical-align: top;\n",
       "    }\n",
       "\n",
       "    .dataframe thead th {\n",
       "        text-align: right;\n",
       "    }\n",
       "</style>\n",
       "<table border=\"1\" class=\"dataframe\">\n",
       "  <thead>\n",
       "    <tr style=\"text-align: right;\">\n",
       "      <th></th>\n",
       "      <th>Lot</th>\n",
       "      <th>ZipCode</th>\n",
       "      <th>Address</th>\n",
       "      <th>LotArea</th>\n",
       "      <th>BldgArea</th>\n",
       "      <th>ResArea</th>\n",
       "      <th>OfficeArea</th>\n",
       "      <th>RetailArea</th>\n",
       "      <th>NumBldgs</th>\n",
       "      <th>NumFloors</th>\n",
       "      <th>LotDepth</th>\n",
       "      <th>BldgDepth</th>\n",
       "      <th>YearBuilt</th>\n",
       "      <th>YearAlter1</th>\n",
       "      <th>BuiltFAR</th>\n",
       "      <th>ResidFAR</th>\n",
       "      <th>CommFAR</th>\n",
       "      <th>FacilFAR</th>\n",
       "      <th>XCoord</th>\n",
       "      <th>YCoord</th>\n",
       "    </tr>\n",
       "  </thead>\n",
       "  <tbody>\n",
       "    <tr>\n",
       "      <th>0</th>\n",
       "      <td>1</td>\n",
       "      <td>10454.0</td>\n",
       "      <td>122 BRUCKNER BOULEVARD</td>\n",
       "      <td>15000</td>\n",
       "      <td>0</td>\n",
       "      <td>0</td>\n",
       "      <td>0</td>\n",
       "      <td>0</td>\n",
       "      <td>1</td>\n",
       "      <td>0.0</td>\n",
       "      <td>200.0</td>\n",
       "      <td>0.0</td>\n",
       "      <td>0</td>\n",
       "      <td>0</td>\n",
       "      <td>0.00</td>\n",
       "      <td>6.02</td>\n",
       "      <td>5.0</td>\n",
       "      <td>6.5</td>\n",
       "      <td>1005957.0</td>\n",
       "      <td>232162.0</td>\n",
       "    </tr>\n",
       "    <tr>\n",
       "      <th>1</th>\n",
       "      <td>4</td>\n",
       "      <td>10454.0</td>\n",
       "      <td>126 BRUCKNER BOULEVARD</td>\n",
       "      <td>13770</td>\n",
       "      <td>752</td>\n",
       "      <td>0</td>\n",
       "      <td>272</td>\n",
       "      <td>0</td>\n",
       "      <td>2</td>\n",
       "      <td>1.0</td>\n",
       "      <td>100.0</td>\n",
       "      <td>16.0</td>\n",
       "      <td>1931</td>\n",
       "      <td>1994</td>\n",
       "      <td>0.05</td>\n",
       "      <td>6.02</td>\n",
       "      <td>5.0</td>\n",
       "      <td>6.5</td>\n",
       "      <td>1006076.0</td>\n",
       "      <td>232156.0</td>\n",
       "    </tr>\n",
       "    <tr>\n",
       "      <th>2</th>\n",
       "      <td>10</td>\n",
       "      <td>10454.0</td>\n",
       "      <td>138 BRUCKNER BOULEVARD</td>\n",
       "      <td>35000</td>\n",
       "      <td>39375</td>\n",
       "      <td>0</td>\n",
       "      <td>0</td>\n",
       "      <td>0</td>\n",
       "      <td>1</td>\n",
       "      <td>2.0</td>\n",
       "      <td>200.0</td>\n",
       "      <td>200.0</td>\n",
       "      <td>1931</td>\n",
       "      <td>0</td>\n",
       "      <td>1.13</td>\n",
       "      <td>6.02</td>\n",
       "      <td>5.0</td>\n",
       "      <td>6.5</td>\n",
       "      <td>1006187.0</td>\n",
       "      <td>232036.0</td>\n",
       "    </tr>\n",
       "    <tr>\n",
       "      <th>3</th>\n",
       "      <td>17</td>\n",
       "      <td>10454.0</td>\n",
       "      <td>144 BRUCKNER BOULEVARD</td>\n",
       "      <td>2500</td>\n",
       "      <td>12500</td>\n",
       "      <td>12500</td>\n",
       "      <td>0</td>\n",
       "      <td>0</td>\n",
       "      <td>1</td>\n",
       "      <td>5.0</td>\n",
       "      <td>100.0</td>\n",
       "      <td>85.0</td>\n",
       "      <td>1931</td>\n",
       "      <td>2001</td>\n",
       "      <td>5.00</td>\n",
       "      <td>6.02</td>\n",
       "      <td>5.0</td>\n",
       "      <td>6.5</td>\n",
       "      <td>1006299.0</td>\n",
       "      <td>232033.0</td>\n",
       "    </tr>\n",
       "    <tr>\n",
       "      <th>4</th>\n",
       "      <td>18</td>\n",
       "      <td>10454.0</td>\n",
       "      <td>148 BRUCKNER BOULEVARD</td>\n",
       "      <td>1875</td>\n",
       "      <td>8595</td>\n",
       "      <td>6876</td>\n",
       "      <td>0</td>\n",
       "      <td>1719</td>\n",
       "      <td>1</td>\n",
       "      <td>5.0</td>\n",
       "      <td>75.0</td>\n",
       "      <td>70.0</td>\n",
       "      <td>1920</td>\n",
       "      <td>2009</td>\n",
       "      <td>4.58</td>\n",
       "      <td>6.02</td>\n",
       "      <td>5.0</td>\n",
       "      <td>6.5</td>\n",
       "      <td>1006363.0</td>\n",
       "      <td>232040.0</td>\n",
       "    </tr>\n",
       "  </tbody>\n",
       "</table>\n",
       "</div>"
      ],
      "text/plain": [
       "   Lot  ZipCode                 Address  LotArea  BldgArea  ResArea  \\\n",
       "0    1  10454.0  122 BRUCKNER BOULEVARD    15000         0        0   \n",
       "1    4  10454.0  126 BRUCKNER BOULEVARD    13770       752        0   \n",
       "2   10  10454.0  138 BRUCKNER BOULEVARD    35000     39375        0   \n",
       "3   17  10454.0  144 BRUCKNER BOULEVARD     2500     12500    12500   \n",
       "4   18  10454.0  148 BRUCKNER BOULEVARD     1875      8595     6876   \n",
       "\n",
       "   OfficeArea  RetailArea  NumBldgs  NumFloors  LotDepth  BldgDepth  \\\n",
       "0           0           0         1        0.0     200.0        0.0   \n",
       "1         272           0         2        1.0     100.0       16.0   \n",
       "2           0           0         1        2.0     200.0      200.0   \n",
       "3           0           0         1        5.0     100.0       85.0   \n",
       "4           0        1719         1        5.0      75.0       70.0   \n",
       "\n",
       "   YearBuilt  YearAlter1  BuiltFAR  ResidFAR  CommFAR  FacilFAR     XCoord  \\\n",
       "0          0           0      0.00      6.02      5.0       6.5  1005957.0   \n",
       "1       1931        1994      0.05      6.02      5.0       6.5  1006076.0   \n",
       "2       1931           0      1.13      6.02      5.0       6.5  1006187.0   \n",
       "3       1931        2001      5.00      6.02      5.0       6.5  1006299.0   \n",
       "4       1920        2009      4.58      6.02      5.0       6.5  1006363.0   \n",
       "\n",
       "     YCoord  \n",
       "0  232162.0  \n",
       "1  232156.0  \n",
       "2  232036.0  \n",
       "3  232033.0  \n",
       "4  232040.0  "
      ]
     },
     "execution_count": 11,
     "metadata": {},
     "output_type": "execute_result"
    }
   ],
   "source": [
    "print(\"shape %s\" % str(df.shape))\n",
    "print(\"---isnull follows---\")\n",
    "print(df.isnull().sum())\n",
    "df.head()"
   ]
  },
  {
   "cell_type": "markdown",
   "metadata": {},
   "source": [
    "### General"
   ]
  },
  {
   "cell_type": "code",
   "execution_count": 12,
   "metadata": {},
   "outputs": [
    {
     "data": {
      "text/plain": [
       "Lot             int64\n",
       "ZipCode       float64\n",
       "Address        object\n",
       "LotArea         int64\n",
       "BldgArea        int64\n",
       "ResArea         int64\n",
       "OfficeArea      int64\n",
       "RetailArea      int64\n",
       "NumBldgs        int64\n",
       "NumFloors     float64\n",
       "LotDepth      float64\n",
       "BldgDepth     float64\n",
       "YearBuilt       int64\n",
       "YearAlter1      int64\n",
       "BuiltFAR      float64\n",
       "ResidFAR      float64\n",
       "CommFAR       float64\n",
       "FacilFAR      float64\n",
       "XCoord        float64\n",
       "YCoord        float64\n",
       "dtype: object"
      ]
     },
     "execution_count": 12,
     "metadata": {},
     "output_type": "execute_result"
    }
   ],
   "source": [
    "df.dtypes"
   ]
  },
  {
   "cell_type": "code",
   "execution_count": 13,
   "metadata": {},
   "outputs": [],
   "source": [
    "#Adjust relevant strings to uppercase so different casing won't appear as separate values.\n",
    "df['Address'] = df['Address'].str.upper()"
   ]
  },
  {
   "cell_type": "code",
   "execution_count": 14,
   "metadata": {},
   "outputs": [],
   "source": [
    "# Drop the observations with missing address as there will be no way to tie them to any 311 data.\n",
    "df.dropna(subset=['Address'], axis=0, inplace=True)\n",
    "df.reset_index(drop=True, inplace=True)"
   ]
  },
  {
   "cell_type": "markdown",
   "metadata": {},
   "source": [
    "## Standardization of Addresses\n",
    "Leveraging standardization methods developed during question 2."
   ]
  },
  {
   "cell_type": "code",
   "execution_count": 15,
   "metadata": {},
   "outputs": [
    {
     "name": "stdout",
     "output_type": "stream",
     "text": [
      "BRONX 311 unique addresses: 133091\n",
      "BRONX PLUTO unique addresses: 828643\n"
     ]
    }
   ],
   "source": [
    "print(\"BRONX 311 unique addresses: %s\" % b311['incident_address'].unique().size)\n",
    "print(\"BRONX PLUTO unique addresses: %s\" % df['Address'].unique().size)"
   ]
  },
  {
   "cell_type": "markdown",
   "metadata": {},
   "source": [
    "<p style=\"color:Red;\">Determine how much overlap.  Ideally all 29K BRONX 311 addresses will be represented in the PLUTO set.</p>"
   ]
  },
  {
   "cell_type": "code",
   "execution_count": 16,
   "metadata": {},
   "outputs": [],
   "source": [
    "def WhichAddressesNotInPluto(howManyTopToShow):\n",
    "    complaints = set(b311['incident_address'].unique())\n",
    "    pluto = set(df['Address'].unique())\n",
    "    #Determine which 311 addresses were not found in PLUTO to gain insight as to why.\n",
    "    differences = complaints.difference(pluto)\n",
    "    print(\"Records not in PLUTO: %s.  Percent: %s\" % (len(differences), \"{:.2%}\".format(len(differences) / len(complaints))))\n",
    "    print(\"---Top %i---\" % howManyTopToShow)\n",
    "    print(b311[b311['incident_address'].isin(differences)]['incident_address'].value_counts().head(howManyTopToShow))"
   ]
  },
  {
   "cell_type": "code",
   "execution_count": 17,
   "metadata": {},
   "outputs": [
    {
     "name": "stdout",
     "output_type": "stream",
     "text": [
      "Records not in PLUTO: 29943.  Percent: 22.50%\n",
      "---Top 3---\n",
      "89-21 ELMHURST AVENUE         10139\n",
      "2090 EAST TREMONT AVENUE       3748\n",
      "266 BEDFORD PARK BOULEVARD     2527\n",
      "Name: incident_address, dtype: int64\n"
     ]
    }
   ],
   "source": [
    "WhichAddressesNotInPluto(3)"
   ]
  },
  {
   "cell_type": "markdown",
   "metadata": {},
   "source": [
    "<p style=\"color:Red;\">Over 20 percent of addresses in the BRONX 311 data cannot be merged to the BRONX PLUTO data.</p>"
   ]
  },
  {
   "cell_type": "markdown",
   "metadata": {},
   "source": [
    "### Borrow some python functions developed during question 2\n",
    "With minor improvements to better work with full addresses instead of just street names."
   ]
  },
  {
   "cell_type": "code",
   "execution_count": 18,
   "metadata": {},
   "outputs": [],
   "source": [
    "# Some street values have multiple spaces in a row.\n",
    "import re\n",
    "def standardize_spaces(raw):\n",
    "    result = raw.strip() #Remove leading and trailing spaces.\n",
    "    result = re.sub(' +', ' ', result) #Squeeze multiple adjacent spaces into just one space.\n",
    "    return result"
   ]
  },
  {
   "cell_type": "code",
   "execution_count": 19,
   "metadata": {},
   "outputs": [],
   "source": [
    "# Some streets have problematic characters.  For example:  ST. ANN'S AVENUE also exists without period or apostophe.\n",
    "problem_characters = ['.', '\\'']\n",
    "def replace_problem_characters(raw):\n",
    "    result = raw\n",
    "    for (character) in problem_characters:\n",
    "        result = result.replace(character,'')\n",
    "    return result"
   ]
  },
  {
   "cell_type": "code",
   "execution_count": 20,
   "metadata": {},
   "outputs": [],
   "source": [
    "#Some words are sometimes entered in a non-standard way or with typos need to be standardized.\n",
    "word_replacements = [(\"AVE\",\"AVENUE\"),(\"ST\",\"STREET\"),(\"RD\",\"ROAD\"),(\"FT\",\"FORT\"),(\"BX\",\"BRONX\"),(\"MT\",\"MOUNT\"),\n",
    "                     (\"NICHLAS\",\"NICHOLAS\"),(\"NICHALOS\",\"NICHOLAS\"),(\"EXPRE\",\"EXPRESSWAY\"),(\"HARACE\",\"HORACE\"),\n",
    "                     (\"NO\",\"NORTH\"),(\"AV\",\"AVENUE\"),(\"CRK\",\"CREEK\"),(\"FR\",\"FATHER\"),(\"JR\",\"JUNIOR\"),(\"GR\",\"GRAND\"),\n",
    "                     (\"CT\",\"COURT\"),\n",
    "                     (\"SR\",\"\"), # Service Road.  These are always near a similarly named street.  Lump together.\n",
    "                     (\"QN\",\"QUEENS\"),\n",
    "                     (\"ND\",\"\"), # A space between a number and ND such as EAST 52 ND STREET.  Note ST and RD can be street or road.\n",
    "                     (\"PO\",\"POND\"),(\"BO\",\"BOND\"),(\"GRA\",\"GRAND\"),(\"REV\",\"REVEREND\"),(\"CO-OP\",\"COOP\"),\n",
    "                     (\"GRANDCONCOURSE\", \"GRAND CONCOURSE\"),(\"CENTRL\", \"CENTRAL\"),(\"BLVD\",\"BOULEVARD\"),\n",
    "                     (\"FREDRICK\", \"FREDERICK\"),(\"DOUGLAS\", \"DOUGLASS\"),(\"MALCOM\", \"MALCOMN\"),\n",
    "                     (\"NORTHEN\", \"NORTHERN\"),(\"AVNEUE\",\"AVENUE\"),\n",
    "                    (\"N\",\"NORTH\"),(\"S\",\"SOUTH\"),(\"E\",\"EAST\"),(\"W\",\"WEST\"),(\"SW\",\"SOUTHWEST\"),\n",
    "                             (\"NW\",\"NORTHWEST\"),(\"SE\",\"SOUTHEAST\"),(\"NE\",\"NORTHEAST\")]\n",
    "def replace_words(raw):\n",
    "    split_raw = raw.split()\n",
    "    for (old, new) in word_replacements:\n",
    "        found_at_index = next((i for i, x in enumerate(split_raw) if x==old), None)\n",
    "        if found_at_index!=None:\n",
    "            split_raw[found_at_index] = new\n",
    "    return standardize_spaces(\" \".join(split_raw))"
   ]
  },
  {
   "cell_type": "code",
   "execution_count": 21,
   "metadata": {},
   "outputs": [],
   "source": [
    "#Some words are actually prefixes of the following word.  Example the LA prefix of LA GRANGE.\n",
    "word_prefixes = [\"DE\",\"MC\",\"LA\",\"VAN\",\"MAC\",\"CO\"]\n",
    "def concatenate_prefixes(raw):\n",
    "    split_raw = raw.split()\n",
    "    last_word = len(split_raw) - 1\n",
    "    for (prefix) in word_prefixes:\n",
    "        found_at_index = next((i for i, x in enumerate(split_raw) if x==prefix), None)\n",
    "        if found_at_index!=None:\n",
    "            if len(split_raw)>1:\n",
    "                if found_at_index != last_word:\n",
    "                    split_raw[found_at_index] = ''\n",
    "                    split_raw[found_at_index+1] = prefix + split_raw[found_at_index+1]\n",
    "                    return standardize_spaces(\" \".join(split_raw))\n",
    "    return raw"
   ]
  },
  {
   "cell_type": "code",
   "execution_count": 22,
   "metadata": {},
   "outputs": [],
   "source": [
    "#Some phrases need custom replacement because they involve multiple words or easily mis-interpretted out of context.\n",
    "phrase_replacements = [(\"DR M L KING JR\",\"MARTIN LUTHER KING\"),(\"DR MARTIN L KING\",\"MARTIN LUTHER KING\"),\n",
    "    (\"MARTIN LUTHER KING\",\"MARTIN LUTHER KING\"),(\"MARTIN L KING JR\",\"MARTIN LUTHER KING\"),\n",
    "    (\"MARTIN L KING\",\"MARTIN LUTHER KING\"),(\"ST NICHOLAS\",\"SAINT NICHOLAS\"),(\"ST JOHN\",\"SAINT JOHN\"),\n",
    "    (\"ST MARK\",\"SAINT MARK\"),(\"ST ANN\",\"SAINT ANN\"),(\"ST LAWRENCE\",\"SAINT LAWRENCE\"),(\"ST PAUL\",\"SAINT PAUL\"),\n",
    "    (\"ST PETER\",\"SAINT PETER\"),(\"ST RAYMOND\",\"SAINT RAYMOND\"),(\"ST THERESA\",\"SAINT THERESA\"),(\"ST FELIX\",\"SAINT FELIX\"),\n",
    "    (\"ST MARY\",\"SAINT MARY\"),(\"ST OUEN\",\"SAINT OUEN\"),(\"ST JAMES\",\"SAINT JAMES\"),(\"ST GEORGE\",\"SAINT GEORGE\"),\n",
    "    (\"ST EDWARD\",\"SAINT EDWARD\"),(\"ST CHARLES\",\"SAINT CHARLES\"),(\"ST FRANCIS\",\"SAINT FRANCIS\"),\n",
    "    (\"ST ANDREW\",\"SAINT ANDREW\"),(\"ST JUDE\",\"SAINT JUDE\"),(\"ST LUKE\",\"SAINT LUKE\"),(\"ST JOSEPH\",\"SAINT JOSEPH\"),\n",
    "    (\"N D PERLMAN\",\"NATHAN PERLMAN\"),(\"O BRIEN\",\"OBRIEN\"),(\"F D R\",\"FDR\"),(\"EXPRESSWAY N SR\",\"EXPRESSWAY SR N\"),\n",
    "    (\"HOR HARDING\",\"HORACE HARDING\"),\n",
    "    (\"SERVICE ROAD\",\"\"), # These are always near a similarly named street. Lump together.\n",
    "    (\"DUMMY\",\"\"),(\"ADAM C POWELL\",\"ADAM CLAYTON POWELL\"),(\"POWELL COVE\",\"POWELLS COVE\")]\n",
    "def replace_phrases(raw):\n",
    "    result = raw\n",
    "    for (old,new) in phrase_replacements:\n",
    "        result = standardize_spaces(result.replace(old,new))\n",
    "    return result"
   ]
  },
  {
   "cell_type": "code",
   "execution_count": 23,
   "metadata": {},
   "outputs": [],
   "source": [
    "# 1ST, 2ND, 3RD, 4TH, ... nTH\n",
    "# Remove the suffixes leaving the numbers by themselves.\n",
    "number_suffixes = [\"ST\",\"ND\",\"RD\",\"TH\"]\n",
    "digits=[\"1\",\"2\",\"3\",\"4\",\"5\",\"6\",\"7\",\"8\",\"9\",\"0\"]\n",
    "def remove_number_suffixes(raw):\n",
    "    split_raw = raw.split()\n",
    "    for suffix in number_suffixes:\n",
    "        found_at_index = next((i for i, x in enumerate(split_raw) if x[0] in digits and x.endswith(suffix)), None) \n",
    "        if found_at_index!=None:            \n",
    "            split_raw[found_at_index] = split_raw[found_at_index][:-2]\n",
    "            return standardize_spaces(\" \".join(split_raw))\n",
    "    return raw"
   ]
  },
  {
   "cell_type": "code",
   "execution_count": 24,
   "metadata": {},
   "outputs": [],
   "source": [
    "def standardize_street(street):\n",
    "    r = street \n",
    "    r = standardize_spaces(r) \n",
    "    r = replace_problem_characters(r) \n",
    "    r = replace_phrases(r) \n",
    "    r = replace_words(r) \n",
    "    r = concatenate_prefixes(r) \n",
    "    r = remove_number_suffixes(r) \n",
    "    return r"
   ]
  },
  {
   "cell_type": "markdown",
   "metadata": {},
   "source": [
    "### Standardize the address in both the 311 and PLUTO data"
   ]
  },
  {
   "cell_type": "code",
   "execution_count": 25,
   "metadata": {},
   "outputs": [],
   "source": [
    "b311['incident_address'] = b311['incident_address'].apply(standardize_street)"
   ]
  },
  {
   "cell_type": "code",
   "execution_count": 26,
   "metadata": {},
   "outputs": [],
   "source": [
    "df['Address'] = df['Address'].apply(standardize_street)"
   ]
  },
  {
   "cell_type": "code",
   "execution_count": 27,
   "metadata": {},
   "outputs": [
    {
     "name": "stdout",
     "output_type": "stream",
     "text": [
      "Records not in PLUTO: 14510.  Percent: 11.78%\n",
      "---Top 3---\n",
      "89-21 ELMHURST AVENUE       10139\n",
      "2090 EAST TREMONT AVENUE     3748\n",
      "1711 FULTON STREET           2382\n",
      "Name: incident_address, dtype: int64\n"
     ]
    }
   ],
   "source": [
    "# See if there was an improvement in how well the 311 data can be merged with the PLUTO data by address.\n",
    "WhichAddressesNotInPluto(3)"
   ]
  },
  {
   "cell_type": "markdown",
   "metadata": {},
   "source": [
    "<p style=\"color:Red;\">The percentage of addresses in the 311 data that can be matched to an entry in the PLUTO data set improved.</p>"
   ]
  },
  {
   "cell_type": "markdown",
   "metadata": {},
   "source": [
    "## Add column to PLUTO to indicate if an address had a HEAT complaint.\n",
    "So that we can more conveniently see if it correlates to anything else in the data."
   ]
  },
  {
   "cell_type": "code",
   "execution_count": 29,
   "metadata": {},
   "outputs": [
    {
     "ename": "NameError",
     "evalue": "name 'b311' is not defined",
     "output_type": "error",
     "traceback": [
      "\u001b[1;31m---------------------------------------------------------------------------\u001b[0m",
      "\u001b[1;31mNameError\u001b[0m                                 Traceback (most recent call last)",
      "\u001b[1;32m<ipython-input-29-356d35ade187>\u001b[0m in \u001b[0;36m<module>\u001b[1;34m\u001b[0m\n\u001b[1;32m----> 1\u001b[1;33m \u001b[0mcomplaints\u001b[0m \u001b[1;33m=\u001b[0m \u001b[0mdf\u001b[0m\u001b[1;33m[\u001b[0m\u001b[1;34m'Address'\u001b[0m\u001b[1;33m]\u001b[0m\u001b[1;33m.\u001b[0m\u001b[0misin\u001b[0m\u001b[1;33m(\u001b[0m\u001b[0mb311\u001b[0m\u001b[1;33m[\u001b[0m\u001b[1;34m'incident_address'\u001b[0m\u001b[1;33m]\u001b[0m\u001b[1;33m.\u001b[0m\u001b[0munique\u001b[0m\u001b[1;33m(\u001b[0m\u001b[1;33m)\u001b[0m\u001b[1;33m)\u001b[0m\u001b[1;33m\u001b[0m\u001b[1;33m\u001b[0m\u001b[0m\n\u001b[0m\u001b[0;32m      2\u001b[0m \u001b[0mcomplaints\u001b[0m \u001b[1;33m=\u001b[0m \u001b[0mcomplaints\u001b[0m\u001b[1;33m.\u001b[0m\u001b[0mastype\u001b[0m\u001b[1;33m(\u001b[0m\u001b[1;34m'int64'\u001b[0m\u001b[1;33m)\u001b[0m\u001b[1;33m\u001b[0m\u001b[1;33m\u001b[0m\u001b[0m\n\u001b[0;32m      3\u001b[0m \u001b[0mdf\u001b[0m\u001b[1;33m[\u001b[0m\u001b[1;34m'Complaints'\u001b[0m\u001b[1;33m]\u001b[0m \u001b[1;33m=\u001b[0m \u001b[0mcomplaints\u001b[0m\u001b[1;33m\u001b[0m\u001b[1;33m\u001b[0m\u001b[0m\n\u001b[0;32m      4\u001b[0m \u001b[1;32mdel\u001b[0m \u001b[0mb311\u001b[0m \u001b[1;31m# Maybe save a little memory later\u001b[0m\u001b[1;33m\u001b[0m\u001b[1;33m\u001b[0m\u001b[0m\n\u001b[0;32m      5\u001b[0m \u001b[0mprint\u001b[0m \u001b[1;33m(\u001b[0m\u001b[0mdf\u001b[0m\u001b[1;33m.\u001b[0m\u001b[0mshape\u001b[0m\u001b[1;33m)\u001b[0m\u001b[1;33m\u001b[0m\u001b[1;33m\u001b[0m\u001b[0m\n",
      "\u001b[1;31mNameError\u001b[0m: name 'b311' is not defined"
     ]
    }
   ],
   "source": [
    "complaints = df['Address'].isin(b311['incident_address'].unique())\n",
    "complaints = complaints.astype('int64')\n",
    "df['Complaints'] = complaints\n",
    "del b311 # Maybe save a little memory later\n",
    "print (df.shape)\n",
    "df['Complaints'].value_counts()"
   ]
  },
  {
   "cell_type": "code",
   "execution_count": 30,
   "metadata": {},
   "outputs": [
    {
     "data": {
      "text/html": [
       "<div>\n",
       "<style scoped>\n",
       "    .dataframe tbody tr th:only-of-type {\n",
       "        vertical-align: middle;\n",
       "    }\n",
       "\n",
       "    .dataframe tbody tr th {\n",
       "        vertical-align: top;\n",
       "    }\n",
       "\n",
       "    .dataframe thead th {\n",
       "        text-align: right;\n",
       "    }\n",
       "</style>\n",
       "<table border=\"1\" class=\"dataframe\">\n",
       "  <thead>\n",
       "    <tr style=\"text-align: right;\">\n",
       "      <th></th>\n",
       "      <th>Lot</th>\n",
       "      <th>ZipCode</th>\n",
       "      <th>LotArea</th>\n",
       "      <th>BldgArea</th>\n",
       "      <th>ResArea</th>\n",
       "      <th>OfficeArea</th>\n",
       "      <th>RetailArea</th>\n",
       "      <th>NumBldgs</th>\n",
       "      <th>NumFloors</th>\n",
       "      <th>LotDepth</th>\n",
       "      <th>BldgDepth</th>\n",
       "      <th>YearBuilt</th>\n",
       "      <th>YearAlter1</th>\n",
       "      <th>BuiltFAR</th>\n",
       "      <th>ResidFAR</th>\n",
       "      <th>CommFAR</th>\n",
       "      <th>FacilFAR</th>\n",
       "      <th>XCoord</th>\n",
       "      <th>YCoord</th>\n",
       "      <th>Complaints</th>\n",
       "    </tr>\n",
       "  </thead>\n",
       "  <tbody>\n",
       "    <tr>\n",
       "      <th>count</th>\n",
       "      <td>858700.000000</td>\n",
       "      <td>855042.000000</td>\n",
       "      <td>8.587000e+05</td>\n",
       "      <td>8.587000e+05</td>\n",
       "      <td>8.587000e+05</td>\n",
       "      <td>8.587000e+05</td>\n",
       "      <td>8.587000e+05</td>\n",
       "      <td>858700.000000</td>\n",
       "      <td>858700.000000</td>\n",
       "      <td>858700.000000</td>\n",
       "      <td>858700.000000</td>\n",
       "      <td>858700.000000</td>\n",
       "      <td>858700.000000</td>\n",
       "      <td>858700.000000</td>\n",
       "      <td>858700.000000</td>\n",
       "      <td>858700.000000</td>\n",
       "      <td>858700.000000</td>\n",
       "      <td>8.352550e+05</td>\n",
       "      <td>835255.000000</td>\n",
       "      <td>858700.000000</td>\n",
       "    </tr>\n",
       "    <tr>\n",
       "      <th>mean</th>\n",
       "      <td>133.139106</td>\n",
       "      <td>11012.397156</td>\n",
       "      <td>7.937188e+03</td>\n",
       "      <td>6.386988e+03</td>\n",
       "      <td>4.041039e+03</td>\n",
       "      <td>7.604151e+02</td>\n",
       "      <td>3.218284e+02</td>\n",
       "      <td>1.281528</td>\n",
       "      <td>2.322383</td>\n",
       "      <td>103.933073</td>\n",
       "      <td>46.089354</td>\n",
       "      <td>1841.033246</td>\n",
       "      <td>205.639885</td>\n",
       "      <td>1.089342</td>\n",
       "      <td>1.374386</td>\n",
       "      <td>0.206211</td>\n",
       "      <td>2.233684</td>\n",
       "      <td>1.006248e+06</td>\n",
       "      <td>191558.875965</td>\n",
       "      <td>0.129318</td>\n",
       "    </tr>\n",
       "    <tr>\n",
       "      <th>std</th>\n",
       "      <td>744.304868</td>\n",
       "      <td>471.199936</td>\n",
       "      <td>3.726031e+05</td>\n",
       "      <td>6.017997e+04</td>\n",
       "      <td>3.084617e+04</td>\n",
       "      <td>2.129321e+04</td>\n",
       "      <td>5.799191e+03</td>\n",
       "      <td>2.867314</td>\n",
       "      <td>1.984065</td>\n",
       "      <td>68.834637</td>\n",
       "      <td>36.615385</td>\n",
       "      <td>429.903929</td>\n",
       "      <td>607.299102</td>\n",
       "      <td>8.443385</td>\n",
       "      <td>1.384590</td>\n",
       "      <td>1.099938</td>\n",
       "      <td>1.690635</td>\n",
       "      <td>3.231902e+04</td>\n",
       "      <td>30521.576048</td>\n",
       "      <td>0.335551</td>\n",
       "    </tr>\n",
       "    <tr>\n",
       "      <th>min</th>\n",
       "      <td>1.000000</td>\n",
       "      <td>10001.000000</td>\n",
       "      <td>0.000000e+00</td>\n",
       "      <td>0.000000e+00</td>\n",
       "      <td>0.000000e+00</td>\n",
       "      <td>0.000000e+00</td>\n",
       "      <td>0.000000e+00</td>\n",
       "      <td>0.000000</td>\n",
       "      <td>0.000000</td>\n",
       "      <td>0.000000</td>\n",
       "      <td>0.000000</td>\n",
       "      <td>0.000000</td>\n",
       "      <td>0.000000</td>\n",
       "      <td>0.000000</td>\n",
       "      <td>0.000000</td>\n",
       "      <td>0.000000</td>\n",
       "      <td>0.000000</td>\n",
       "      <td>9.131230e+05</td>\n",
       "      <td>120308.000000</td>\n",
       "      <td>0.000000</td>\n",
       "    </tr>\n",
       "    <tr>\n",
       "      <th>25%</th>\n",
       "      <td>19.000000</td>\n",
       "      <td>10466.000000</td>\n",
       "      <td>2.000000e+03</td>\n",
       "      <td>1.375000e+03</td>\n",
       "      <td>1.196000e+03</td>\n",
       "      <td>0.000000e+00</td>\n",
       "      <td>0.000000e+00</td>\n",
       "      <td>1.000000</td>\n",
       "      <td>2.000000</td>\n",
       "      <td>97.420000</td>\n",
       "      <td>34.000000</td>\n",
       "      <td>1920.000000</td>\n",
       "      <td>0.000000</td>\n",
       "      <td>0.470000</td>\n",
       "      <td>0.600000</td>\n",
       "      <td>0.000000</td>\n",
       "      <td>1.000000</td>\n",
       "      <td>9.895890e+05</td>\n",
       "      <td>168268.000000</td>\n",
       "      <td>0.000000</td>\n",
       "    </tr>\n",
       "    <tr>\n",
       "      <th>50%</th>\n",
       "      <td>38.000000</td>\n",
       "      <td>11221.000000</td>\n",
       "      <td>2.517000e+03</td>\n",
       "      <td>2.000000e+03</td>\n",
       "      <td>1.648000e+03</td>\n",
       "      <td>0.000000e+00</td>\n",
       "      <td>0.000000e+00</td>\n",
       "      <td>1.000000</td>\n",
       "      <td>2.000000</td>\n",
       "      <td>100.000000</td>\n",
       "      <td>42.500000</td>\n",
       "      <td>1930.000000</td>\n",
       "      <td>0.000000</td>\n",
       "      <td>0.730000</td>\n",
       "      <td>0.900000</td>\n",
       "      <td>0.000000</td>\n",
       "      <td>2.000000</td>\n",
       "      <td>1.008787e+06</td>\n",
       "      <td>189230.000000</td>\n",
       "      <td>0.000000</td>\n",
       "    </tr>\n",
       "    <tr>\n",
       "      <th>75%</th>\n",
       "      <td>64.000000</td>\n",
       "      <td>11370.000000</td>\n",
       "      <td>4.000000e+03</td>\n",
       "      <td>3.000000e+03</td>\n",
       "      <td>2.400000e+03</td>\n",
       "      <td>0.000000e+00</td>\n",
       "      <td>0.000000e+00</td>\n",
       "      <td>2.000000</td>\n",
       "      <td>2.500000</td>\n",
       "      <td>100.000000</td>\n",
       "      <td>53.000000</td>\n",
       "      <td>1955.000000</td>\n",
       "      <td>0.000000</td>\n",
       "      <td>1.220000</td>\n",
       "      <td>2.000000</td>\n",
       "      <td>0.000000</td>\n",
       "      <td>2.000000</td>\n",
       "      <td>1.029096e+06</td>\n",
       "      <td>210993.000000</td>\n",
       "      <td>0.000000</td>\n",
       "    </tr>\n",
       "    <tr>\n",
       "      <th>max</th>\n",
       "      <td>9978.000000</td>\n",
       "      <td>12345.000000</td>\n",
       "      <td>2.147557e+08</td>\n",
       "      <td>2.400000e+07</td>\n",
       "      <td>1.321140e+07</td>\n",
       "      <td>3.583167e+06</td>\n",
       "      <td>2.192088e+06</td>\n",
       "      <td>1850.000000</td>\n",
       "      <td>205.000000</td>\n",
       "      <td>9999.000000</td>\n",
       "      <td>9388.000000</td>\n",
       "      <td>2040.000000</td>\n",
       "      <td>2017.000000</td>\n",
       "      <td>5801.000000</td>\n",
       "      <td>12.000000</td>\n",
       "      <td>15.000000</td>\n",
       "      <td>15.000000</td>\n",
       "      <td>1.067279e+06</td>\n",
       "      <td>272275.000000</td>\n",
       "      <td>1.000000</td>\n",
       "    </tr>\n",
       "  </tbody>\n",
       "</table>\n",
       "</div>"
      ],
      "text/plain": [
       "                 Lot        ZipCode       LotArea      BldgArea       ResArea  \\\n",
       "count  858700.000000  855042.000000  8.587000e+05  8.587000e+05  8.587000e+05   \n",
       "mean      133.139106   11012.397156  7.937188e+03  6.386988e+03  4.041039e+03   \n",
       "std       744.304868     471.199936  3.726031e+05  6.017997e+04  3.084617e+04   \n",
       "min         1.000000   10001.000000  0.000000e+00  0.000000e+00  0.000000e+00   \n",
       "25%        19.000000   10466.000000  2.000000e+03  1.375000e+03  1.196000e+03   \n",
       "50%        38.000000   11221.000000  2.517000e+03  2.000000e+03  1.648000e+03   \n",
       "75%        64.000000   11370.000000  4.000000e+03  3.000000e+03  2.400000e+03   \n",
       "max      9978.000000   12345.000000  2.147557e+08  2.400000e+07  1.321140e+07   \n",
       "\n",
       "         OfficeArea    RetailArea       NumBldgs      NumFloors  \\\n",
       "count  8.587000e+05  8.587000e+05  858700.000000  858700.000000   \n",
       "mean   7.604151e+02  3.218284e+02       1.281528       2.322383   \n",
       "std    2.129321e+04  5.799191e+03       2.867314       1.984065   \n",
       "min    0.000000e+00  0.000000e+00       0.000000       0.000000   \n",
       "25%    0.000000e+00  0.000000e+00       1.000000       2.000000   \n",
       "50%    0.000000e+00  0.000000e+00       1.000000       2.000000   \n",
       "75%    0.000000e+00  0.000000e+00       2.000000       2.500000   \n",
       "max    3.583167e+06  2.192088e+06    1850.000000     205.000000   \n",
       "\n",
       "            LotDepth      BldgDepth      YearBuilt     YearAlter1  \\\n",
       "count  858700.000000  858700.000000  858700.000000  858700.000000   \n",
       "mean      103.933073      46.089354    1841.033246     205.639885   \n",
       "std        68.834637      36.615385     429.903929     607.299102   \n",
       "min         0.000000       0.000000       0.000000       0.000000   \n",
       "25%        97.420000      34.000000    1920.000000       0.000000   \n",
       "50%       100.000000      42.500000    1930.000000       0.000000   \n",
       "75%       100.000000      53.000000    1955.000000       0.000000   \n",
       "max      9999.000000    9388.000000    2040.000000    2017.000000   \n",
       "\n",
       "            BuiltFAR       ResidFAR        CommFAR       FacilFAR  \\\n",
       "count  858700.000000  858700.000000  858700.000000  858700.000000   \n",
       "mean        1.089342       1.374386       0.206211       2.233684   \n",
       "std         8.443385       1.384590       1.099938       1.690635   \n",
       "min         0.000000       0.000000       0.000000       0.000000   \n",
       "25%         0.470000       0.600000       0.000000       1.000000   \n",
       "50%         0.730000       0.900000       0.000000       2.000000   \n",
       "75%         1.220000       2.000000       0.000000       2.000000   \n",
       "max      5801.000000      12.000000      15.000000      15.000000   \n",
       "\n",
       "             XCoord         YCoord     Complaints  \n",
       "count  8.352550e+05  835255.000000  858700.000000  \n",
       "mean   1.006248e+06  191558.875965       0.129318  \n",
       "std    3.231902e+04   30521.576048       0.335551  \n",
       "min    9.131230e+05  120308.000000       0.000000  \n",
       "25%    9.895890e+05  168268.000000       0.000000  \n",
       "50%    1.008787e+06  189230.000000       0.000000  \n",
       "75%    1.029096e+06  210993.000000       0.000000  \n",
       "max    1.067279e+06  272275.000000       1.000000  "
      ]
     },
     "execution_count": 30,
     "metadata": {},
     "output_type": "execute_result"
    }
   ],
   "source": [
    "df.describe()"
   ]
  },
  {
   "cell_type": "code",
   "execution_count": 31,
   "metadata": {},
   "outputs": [],
   "source": [
    "#Building info that do not feature any actual buildings\n",
    "df.drop(df[df[\"NumBldgs\"]==0].index, axis=0, inplace=True)\n",
    "df.reset_index(drop=True, inplace=True) #reset indexes since columns or rows have been dropped."
   ]
  },
  {
   "cell_type": "code",
   "execution_count": 32,
   "metadata": {},
   "outputs": [
    {
     "data": {
      "text/html": [
       "<div>\n",
       "<style scoped>\n",
       "    .dataframe tbody tr th:only-of-type {\n",
       "        vertical-align: middle;\n",
       "    }\n",
       "\n",
       "    .dataframe tbody tr th {\n",
       "        vertical-align: top;\n",
       "    }\n",
       "\n",
       "    .dataframe thead th {\n",
       "        text-align: right;\n",
       "    }\n",
       "</style>\n",
       "<table border=\"1\" class=\"dataframe\">\n",
       "  <thead>\n",
       "    <tr style=\"text-align: right;\">\n",
       "      <th></th>\n",
       "      <th>Lot</th>\n",
       "      <th>ZipCode</th>\n",
       "      <th>LotArea</th>\n",
       "      <th>BldgArea</th>\n",
       "      <th>ResArea</th>\n",
       "      <th>OfficeArea</th>\n",
       "      <th>RetailArea</th>\n",
       "      <th>NumBldgs</th>\n",
       "      <th>NumFloors</th>\n",
       "      <th>LotDepth</th>\n",
       "      <th>BldgDepth</th>\n",
       "      <th>YearBuilt</th>\n",
       "      <th>YearAlter1</th>\n",
       "      <th>BuiltFAR</th>\n",
       "      <th>ResidFAR</th>\n",
       "      <th>CommFAR</th>\n",
       "      <th>FacilFAR</th>\n",
       "      <th>XCoord</th>\n",
       "      <th>YCoord</th>\n",
       "      <th>Complaints</th>\n",
       "    </tr>\n",
       "  </thead>\n",
       "  <tbody>\n",
       "    <tr>\n",
       "      <th>count</th>\n",
       "      <td>817964.000000</td>\n",
       "      <td>817874.000000</td>\n",
       "      <td>8.179640e+05</td>\n",
       "      <td>8.179640e+05</td>\n",
       "      <td>8.179640e+05</td>\n",
       "      <td>8.179640e+05</td>\n",
       "      <td>8.179640e+05</td>\n",
       "      <td>817964.000000</td>\n",
       "      <td>817964.000000</td>\n",
       "      <td>817964.000000</td>\n",
       "      <td>817964.000000</td>\n",
       "      <td>817964.000000</td>\n",
       "      <td>817964.000000</td>\n",
       "      <td>817964.000000</td>\n",
       "      <td>817964.000000</td>\n",
       "      <td>817964.000000</td>\n",
       "      <td>817964.000000</td>\n",
       "      <td>8.160010e+05</td>\n",
       "      <td>816001.000000</td>\n",
       "      <td>817964.000000</td>\n",
       "    </tr>\n",
       "    <tr>\n",
       "      <th>mean</th>\n",
       "      <td>133.390038</td>\n",
       "      <td>11018.109852</td>\n",
       "      <td>6.752081e+03</td>\n",
       "      <td>6.667055e+03</td>\n",
       "      <td>4.221146e+03</td>\n",
       "      <td>7.959744e+02</td>\n",
       "      <td>3.353060e+02</td>\n",
       "      <td>1.345350</td>\n",
       "      <td>2.434317</td>\n",
       "      <td>102.620117</td>\n",
       "      <td>48.330554</td>\n",
       "      <td>1930.456378</td>\n",
       "      <td>215.506997</td>\n",
       "      <td>1.140045</td>\n",
       "      <td>1.378903</td>\n",
       "      <td>0.193520</td>\n",
       "      <td>2.231773</td>\n",
       "      <td>1.006327e+06</td>\n",
       "      <td>191467.834140</td>\n",
       "      <td>0.135067</td>\n",
       "    </tr>\n",
       "    <tr>\n",
       "      <th>std</th>\n",
       "      <td>750.727500</td>\n",
       "      <td>468.279363</td>\n",
       "      <td>2.897446e+05</td>\n",
       "      <td>6.155718e+04</td>\n",
       "      <td>3.151038e+04</td>\n",
       "      <td>2.178623e+04</td>\n",
       "      <td>5.922891e+03</td>\n",
       "      <td>2.923195</td>\n",
       "      <td>1.942450</td>\n",
       "      <td>55.606386</td>\n",
       "      <td>36.012925</td>\n",
       "      <td>145.065298</td>\n",
       "      <td>619.981488</td>\n",
       "      <td>8.643097</td>\n",
       "      <td>1.370207</td>\n",
       "      <td>1.078729</td>\n",
       "      <td>1.670645</td>\n",
       "      <td>3.241595e+04</td>\n",
       "      <td>30462.330627</td>\n",
       "      <td>0.341795</td>\n",
       "    </tr>\n",
       "    <tr>\n",
       "      <th>min</th>\n",
       "      <td>1.000000</td>\n",
       "      <td>10001.000000</td>\n",
       "      <td>0.000000e+00</td>\n",
       "      <td>0.000000e+00</td>\n",
       "      <td>0.000000e+00</td>\n",
       "      <td>0.000000e+00</td>\n",
       "      <td>0.000000e+00</td>\n",
       "      <td>1.000000</td>\n",
       "      <td>0.000000</td>\n",
       "      <td>0.000000</td>\n",
       "      <td>0.000000</td>\n",
       "      <td>0.000000</td>\n",
       "      <td>0.000000</td>\n",
       "      <td>0.000000</td>\n",
       "      <td>0.000000</td>\n",
       "      <td>0.000000</td>\n",
       "      <td>0.000000</td>\n",
       "      <td>9.131230e+05</td>\n",
       "      <td>120308.000000</td>\n",
       "      <td>0.000000</td>\n",
       "    </tr>\n",
       "    <tr>\n",
       "      <th>25%</th>\n",
       "      <td>19.000000</td>\n",
       "      <td>10466.000000</td>\n",
       "      <td>2.000000e+03</td>\n",
       "      <td>1.444000e+03</td>\n",
       "      <td>1.248000e+03</td>\n",
       "      <td>0.000000e+00</td>\n",
       "      <td>0.000000e+00</td>\n",
       "      <td>1.000000</td>\n",
       "      <td>2.000000</td>\n",
       "      <td>98.000000</td>\n",
       "      <td>35.000000</td>\n",
       "      <td>1920.000000</td>\n",
       "      <td>0.000000</td>\n",
       "      <td>0.500000</td>\n",
       "      <td>0.600000</td>\n",
       "      <td>0.000000</td>\n",
       "      <td>1.000000</td>\n",
       "      <td>9.895620e+05</td>\n",
       "      <td>168202.000000</td>\n",
       "      <td>0.000000</td>\n",
       "    </tr>\n",
       "    <tr>\n",
       "      <th>50%</th>\n",
       "      <td>38.000000</td>\n",
       "      <td>11221.000000</td>\n",
       "      <td>2.514000e+03</td>\n",
       "      <td>2.056000e+03</td>\n",
       "      <td>1.710000e+03</td>\n",
       "      <td>0.000000e+00</td>\n",
       "      <td>0.000000e+00</td>\n",
       "      <td>1.000000</td>\n",
       "      <td>2.000000</td>\n",
       "      <td>100.000000</td>\n",
       "      <td>44.000000</td>\n",
       "      <td>1931.000000</td>\n",
       "      <td>0.000000</td>\n",
       "      <td>0.760000</td>\n",
       "      <td>0.900000</td>\n",
       "      <td>0.000000</td>\n",
       "      <td>2.000000</td>\n",
       "      <td>1.008912e+06</td>\n",
       "      <td>189208.000000</td>\n",
       "      <td>0.000000</td>\n",
       "    </tr>\n",
       "    <tr>\n",
       "      <th>75%</th>\n",
       "      <td>63.000000</td>\n",
       "      <td>11370.000000</td>\n",
       "      <td>4.000000e+03</td>\n",
       "      <td>3.060000e+03</td>\n",
       "      <td>2.440000e+03</td>\n",
       "      <td>0.000000e+00</td>\n",
       "      <td>0.000000e+00</td>\n",
       "      <td>2.000000</td>\n",
       "      <td>2.500000</td>\n",
       "      <td>100.000000</td>\n",
       "      <td>54.000000</td>\n",
       "      <td>1960.000000</td>\n",
       "      <td>0.000000</td>\n",
       "      <td>1.260000</td>\n",
       "      <td>2.000000</td>\n",
       "      <td>0.000000</td>\n",
       "      <td>2.000000</td>\n",
       "      <td>1.029357e+06</td>\n",
       "      <td>210845.000000</td>\n",
       "      <td>0.000000</td>\n",
       "    </tr>\n",
       "    <tr>\n",
       "      <th>max</th>\n",
       "      <td>9978.000000</td>\n",
       "      <td>12345.000000</td>\n",
       "      <td>2.147557e+08</td>\n",
       "      <td>2.400000e+07</td>\n",
       "      <td>1.321140e+07</td>\n",
       "      <td>3.583167e+06</td>\n",
       "      <td>2.192088e+06</td>\n",
       "      <td>1850.000000</td>\n",
       "      <td>119.000000</td>\n",
       "      <td>9999.000000</td>\n",
       "      <td>9388.000000</td>\n",
       "      <td>2040.000000</td>\n",
       "      <td>2017.000000</td>\n",
       "      <td>5801.000000</td>\n",
       "      <td>12.000000</td>\n",
       "      <td>15.000000</td>\n",
       "      <td>15.000000</td>\n",
       "      <td>1.067279e+06</td>\n",
       "      <td>272275.000000</td>\n",
       "      <td>1.000000</td>\n",
       "    </tr>\n",
       "  </tbody>\n",
       "</table>\n",
       "</div>"
      ],
      "text/plain": [
       "                 Lot        ZipCode       LotArea      BldgArea       ResArea  \\\n",
       "count  817964.000000  817874.000000  8.179640e+05  8.179640e+05  8.179640e+05   \n",
       "mean      133.390038   11018.109852  6.752081e+03  6.667055e+03  4.221146e+03   \n",
       "std       750.727500     468.279363  2.897446e+05  6.155718e+04  3.151038e+04   \n",
       "min         1.000000   10001.000000  0.000000e+00  0.000000e+00  0.000000e+00   \n",
       "25%        19.000000   10466.000000  2.000000e+03  1.444000e+03  1.248000e+03   \n",
       "50%        38.000000   11221.000000  2.514000e+03  2.056000e+03  1.710000e+03   \n",
       "75%        63.000000   11370.000000  4.000000e+03  3.060000e+03  2.440000e+03   \n",
       "max      9978.000000   12345.000000  2.147557e+08  2.400000e+07  1.321140e+07   \n",
       "\n",
       "         OfficeArea    RetailArea       NumBldgs      NumFloors  \\\n",
       "count  8.179640e+05  8.179640e+05  817964.000000  817964.000000   \n",
       "mean   7.959744e+02  3.353060e+02       1.345350       2.434317   \n",
       "std    2.178623e+04  5.922891e+03       2.923195       1.942450   \n",
       "min    0.000000e+00  0.000000e+00       1.000000       0.000000   \n",
       "25%    0.000000e+00  0.000000e+00       1.000000       2.000000   \n",
       "50%    0.000000e+00  0.000000e+00       1.000000       2.000000   \n",
       "75%    0.000000e+00  0.000000e+00       2.000000       2.500000   \n",
       "max    3.583167e+06  2.192088e+06    1850.000000     119.000000   \n",
       "\n",
       "            LotDepth      BldgDepth      YearBuilt     YearAlter1  \\\n",
       "count  817964.000000  817964.000000  817964.000000  817964.000000   \n",
       "mean      102.620117      48.330554    1930.456378     215.506997   \n",
       "std        55.606386      36.012925     145.065298     619.981488   \n",
       "min         0.000000       0.000000       0.000000       0.000000   \n",
       "25%        98.000000      35.000000    1920.000000       0.000000   \n",
       "50%       100.000000      44.000000    1931.000000       0.000000   \n",
       "75%       100.000000      54.000000    1960.000000       0.000000   \n",
       "max      9999.000000    9388.000000    2040.000000    2017.000000   \n",
       "\n",
       "            BuiltFAR       ResidFAR        CommFAR       FacilFAR  \\\n",
       "count  817964.000000  817964.000000  817964.000000  817964.000000   \n",
       "mean        1.140045       1.378903       0.193520       2.231773   \n",
       "std         8.643097       1.370207       1.078729       1.670645   \n",
       "min         0.000000       0.000000       0.000000       0.000000   \n",
       "25%         0.500000       0.600000       0.000000       1.000000   \n",
       "50%         0.760000       0.900000       0.000000       2.000000   \n",
       "75%         1.260000       2.000000       0.000000       2.000000   \n",
       "max      5801.000000      12.000000      15.000000      15.000000   \n",
       "\n",
       "             XCoord         YCoord     Complaints  \n",
       "count  8.160010e+05  816001.000000  817964.000000  \n",
       "mean   1.006327e+06  191467.834140       0.135067  \n",
       "std    3.241595e+04   30462.330627       0.341795  \n",
       "min    9.131230e+05  120308.000000       0.000000  \n",
       "25%    9.895620e+05  168202.000000       0.000000  \n",
       "50%    1.008912e+06  189208.000000       0.000000  \n",
       "75%    1.029357e+06  210845.000000       0.000000  \n",
       "max    1.067279e+06  272275.000000       1.000000  "
      ]
     },
     "execution_count": 32,
     "metadata": {},
     "output_type": "execute_result"
    }
   ],
   "source": [
    "df.describe()"
   ]
  },
  {
   "cell_type": "code",
   "execution_count": 33,
   "metadata": {},
   "outputs": [
    {
     "data": {
      "text/html": [
       "<div>\n",
       "<style scoped>\n",
       "    .dataframe tbody tr th:only-of-type {\n",
       "        vertical-align: middle;\n",
       "    }\n",
       "\n",
       "    .dataframe tbody tr th {\n",
       "        vertical-align: top;\n",
       "    }\n",
       "\n",
       "    .dataframe thead th {\n",
       "        text-align: right;\n",
       "    }\n",
       "</style>\n",
       "<table border=\"1\" class=\"dataframe\">\n",
       "  <thead>\n",
       "    <tr style=\"text-align: right;\">\n",
       "      <th></th>\n",
       "      <th>Lot</th>\n",
       "      <th>ZipCode</th>\n",
       "      <th>LotArea</th>\n",
       "      <th>BldgArea</th>\n",
       "      <th>ResArea</th>\n",
       "      <th>OfficeArea</th>\n",
       "      <th>RetailArea</th>\n",
       "      <th>NumBldgs</th>\n",
       "      <th>NumFloors</th>\n",
       "      <th>LotDepth</th>\n",
       "      <th>BldgDepth</th>\n",
       "      <th>YearBuilt</th>\n",
       "      <th>YearAlter1</th>\n",
       "      <th>BuiltFAR</th>\n",
       "      <th>ResidFAR</th>\n",
       "      <th>CommFAR</th>\n",
       "      <th>FacilFAR</th>\n",
       "      <th>XCoord</th>\n",
       "      <th>YCoord</th>\n",
       "      <th>Complaints</th>\n",
       "    </tr>\n",
       "  </thead>\n",
       "  <tbody>\n",
       "    <tr>\n",
       "      <th>count</th>\n",
       "      <td>814360.000000</td>\n",
       "      <td>814278.000000</td>\n",
       "      <td>8.143600e+05</td>\n",
       "      <td>8.143600e+05</td>\n",
       "      <td>8.143600e+05</td>\n",
       "      <td>8.143600e+05</td>\n",
       "      <td>8.143600e+05</td>\n",
       "      <td>814360.000000</td>\n",
       "      <td>814360.000000</td>\n",
       "      <td>814360.000000</td>\n",
       "      <td>814360.000000</td>\n",
       "      <td>814360.000000</td>\n",
       "      <td>814360.000000</td>\n",
       "      <td>814360.000000</td>\n",
       "      <td>814360.000000</td>\n",
       "      <td>814360.000000</td>\n",
       "      <td>814360.000000</td>\n",
       "      <td>8.127050e+05</td>\n",
       "      <td>812705.000000</td>\n",
       "      <td>814360.000000</td>\n",
       "    </tr>\n",
       "    <tr>\n",
       "      <th>mean</th>\n",
       "      <td>132.666216</td>\n",
       "      <td>11018.307095</td>\n",
       "      <td>6.579695e+03</td>\n",
       "      <td>6.696561e+03</td>\n",
       "      <td>4.239827e+03</td>\n",
       "      <td>7.994970e+02</td>\n",
       "      <td>3.367899e+02</td>\n",
       "      <td>1.344273</td>\n",
       "      <td>2.442863</td>\n",
       "      <td>102.411495</td>\n",
       "      <td>48.512273</td>\n",
       "      <td>1936.890983</td>\n",
       "      <td>216.441327</td>\n",
       "      <td>1.145090</td>\n",
       "      <td>1.378423</td>\n",
       "      <td>0.190474</td>\n",
       "      <td>2.228742</td>\n",
       "      <td>1.006331e+06</td>\n",
       "      <td>191443.361338</td>\n",
       "      <td>0.135526</td>\n",
       "    </tr>\n",
       "    <tr>\n",
       "      <th>std</th>\n",
       "      <td>747.182839</td>\n",
       "      <td>468.246268</td>\n",
       "      <td>2.864553e+05</td>\n",
       "      <td>6.169164e+04</td>\n",
       "      <td>3.157878e+04</td>\n",
       "      <td>2.183432e+04</td>\n",
       "      <td>5.935940e+03</td>\n",
       "      <td>2.911703</td>\n",
       "      <td>1.937615</td>\n",
       "      <td>52.900220</td>\n",
       "      <td>35.899533</td>\n",
       "      <td>93.060954</td>\n",
       "      <td>621.161592</td>\n",
       "      <td>8.661867</td>\n",
       "      <td>1.367387</td>\n",
       "      <td>1.072816</td>\n",
       "      <td>1.667029</td>\n",
       "      <td>3.244274e+04</td>\n",
       "      <td>30463.208111</td>\n",
       "      <td>0.342285</td>\n",
       "    </tr>\n",
       "    <tr>\n",
       "      <th>min</th>\n",
       "      <td>1.000000</td>\n",
       "      <td>10001.000000</td>\n",
       "      <td>0.000000e+00</td>\n",
       "      <td>1.000000e+00</td>\n",
       "      <td>0.000000e+00</td>\n",
       "      <td>0.000000e+00</td>\n",
       "      <td>0.000000e+00</td>\n",
       "      <td>1.000000</td>\n",
       "      <td>0.000000</td>\n",
       "      <td>0.000000</td>\n",
       "      <td>0.000000</td>\n",
       "      <td>0.000000</td>\n",
       "      <td>0.000000</td>\n",
       "      <td>0.000000</td>\n",
       "      <td>0.000000</td>\n",
       "      <td>0.000000</td>\n",
       "      <td>0.000000</td>\n",
       "      <td>9.131230e+05</td>\n",
       "      <td>120308.000000</td>\n",
       "      <td>0.000000</td>\n",
       "    </tr>\n",
       "    <tr>\n",
       "      <th>25%</th>\n",
       "      <td>19.000000</td>\n",
       "      <td>10466.000000</td>\n",
       "      <td>2.000000e+03</td>\n",
       "      <td>1.456000e+03</td>\n",
       "      <td>1.248000e+03</td>\n",
       "      <td>0.000000e+00</td>\n",
       "      <td>0.000000e+00</td>\n",
       "      <td>1.000000</td>\n",
       "      <td>2.000000</td>\n",
       "      <td>98.000000</td>\n",
       "      <td>35.000000</td>\n",
       "      <td>1920.000000</td>\n",
       "      <td>0.000000</td>\n",
       "      <td>0.510000</td>\n",
       "      <td>0.600000</td>\n",
       "      <td>0.000000</td>\n",
       "      <td>1.000000</td>\n",
       "      <td>9.895540e+05</td>\n",
       "      <td>168171.000000</td>\n",
       "      <td>0.000000</td>\n",
       "    </tr>\n",
       "    <tr>\n",
       "      <th>50%</th>\n",
       "      <td>38.000000</td>\n",
       "      <td>11221.000000</td>\n",
       "      <td>2.513000e+03</td>\n",
       "      <td>2.063000e+03</td>\n",
       "      <td>1.717000e+03</td>\n",
       "      <td>0.000000e+00</td>\n",
       "      <td>0.000000e+00</td>\n",
       "      <td>1.000000</td>\n",
       "      <td>2.000000</td>\n",
       "      <td>100.000000</td>\n",
       "      <td>44.000000</td>\n",
       "      <td>1931.000000</td>\n",
       "      <td>0.000000</td>\n",
       "      <td>0.760000</td>\n",
       "      <td>0.900000</td>\n",
       "      <td>0.000000</td>\n",
       "      <td>2.000000</td>\n",
       "      <td>1.008926e+06</td>\n",
       "      <td>189196.000000</td>\n",
       "      <td>0.000000</td>\n",
       "    </tr>\n",
       "    <tr>\n",
       "      <th>75%</th>\n",
       "      <td>63.000000</td>\n",
       "      <td>11370.000000</td>\n",
       "      <td>4.000000e+03</td>\n",
       "      <td>3.072000e+03</td>\n",
       "      <td>2.444000e+03</td>\n",
       "      <td>0.000000e+00</td>\n",
       "      <td>0.000000e+00</td>\n",
       "      <td>2.000000</td>\n",
       "      <td>2.500000</td>\n",
       "      <td>100.000000</td>\n",
       "      <td>54.000000</td>\n",
       "      <td>1960.000000</td>\n",
       "      <td>0.000000</td>\n",
       "      <td>1.260000</td>\n",
       "      <td>2.000000</td>\n",
       "      <td>0.000000</td>\n",
       "      <td>2.000000</td>\n",
       "      <td>1.029403e+06</td>\n",
       "      <td>210828.000000</td>\n",
       "      <td>0.000000</td>\n",
       "    </tr>\n",
       "    <tr>\n",
       "      <th>max</th>\n",
       "      <td>9978.000000</td>\n",
       "      <td>12345.000000</td>\n",
       "      <td>2.147557e+08</td>\n",
       "      <td>2.400000e+07</td>\n",
       "      <td>1.321140e+07</td>\n",
       "      <td>3.583167e+06</td>\n",
       "      <td>2.192088e+06</td>\n",
       "      <td>1850.000000</td>\n",
       "      <td>119.000000</td>\n",
       "      <td>9999.000000</td>\n",
       "      <td>9388.000000</td>\n",
       "      <td>2040.000000</td>\n",
       "      <td>2017.000000</td>\n",
       "      <td>5801.000000</td>\n",
       "      <td>12.000000</td>\n",
       "      <td>15.000000</td>\n",
       "      <td>15.000000</td>\n",
       "      <td>1.067279e+06</td>\n",
       "      <td>272275.000000</td>\n",
       "      <td>1.000000</td>\n",
       "    </tr>\n",
       "  </tbody>\n",
       "</table>\n",
       "</div>"
      ],
      "text/plain": [
       "                 Lot        ZipCode       LotArea      BldgArea       ResArea  \\\n",
       "count  814360.000000  814278.000000  8.143600e+05  8.143600e+05  8.143600e+05   \n",
       "mean      132.666216   11018.307095  6.579695e+03  6.696561e+03  4.239827e+03   \n",
       "std       747.182839     468.246268  2.864553e+05  6.169164e+04  3.157878e+04   \n",
       "min         1.000000   10001.000000  0.000000e+00  1.000000e+00  0.000000e+00   \n",
       "25%        19.000000   10466.000000  2.000000e+03  1.456000e+03  1.248000e+03   \n",
       "50%        38.000000   11221.000000  2.513000e+03  2.063000e+03  1.717000e+03   \n",
       "75%        63.000000   11370.000000  4.000000e+03  3.072000e+03  2.444000e+03   \n",
       "max      9978.000000   12345.000000  2.147557e+08  2.400000e+07  1.321140e+07   \n",
       "\n",
       "         OfficeArea    RetailArea       NumBldgs      NumFloors  \\\n",
       "count  8.143600e+05  8.143600e+05  814360.000000  814360.000000   \n",
       "mean   7.994970e+02  3.367899e+02       1.344273       2.442863   \n",
       "std    2.183432e+04  5.935940e+03       2.911703       1.937615   \n",
       "min    0.000000e+00  0.000000e+00       1.000000       0.000000   \n",
       "25%    0.000000e+00  0.000000e+00       1.000000       2.000000   \n",
       "50%    0.000000e+00  0.000000e+00       1.000000       2.000000   \n",
       "75%    0.000000e+00  0.000000e+00       2.000000       2.500000   \n",
       "max    3.583167e+06  2.192088e+06    1850.000000     119.000000   \n",
       "\n",
       "            LotDepth      BldgDepth      YearBuilt     YearAlter1  \\\n",
       "count  814360.000000  814360.000000  814360.000000  814360.000000   \n",
       "mean      102.411495      48.512273    1936.890983     216.441327   \n",
       "std        52.900220      35.899533      93.060954     621.161592   \n",
       "min         0.000000       0.000000       0.000000       0.000000   \n",
       "25%        98.000000      35.000000    1920.000000       0.000000   \n",
       "50%       100.000000      44.000000    1931.000000       0.000000   \n",
       "75%       100.000000      54.000000    1960.000000       0.000000   \n",
       "max      9999.000000    9388.000000    2040.000000    2017.000000   \n",
       "\n",
       "            BuiltFAR       ResidFAR        CommFAR       FacilFAR  \\\n",
       "count  814360.000000  814360.000000  814360.000000  814360.000000   \n",
       "mean        1.145090       1.378423       0.190474       2.228742   \n",
       "std         8.661867       1.367387       1.072816       1.667029   \n",
       "min         0.000000       0.000000       0.000000       0.000000   \n",
       "25%         0.510000       0.600000       0.000000       1.000000   \n",
       "50%         0.760000       0.900000       0.000000       2.000000   \n",
       "75%         1.260000       2.000000       0.000000       2.000000   \n",
       "max      5801.000000      12.000000      15.000000      15.000000   \n",
       "\n",
       "             XCoord         YCoord     Complaints  \n",
       "count  8.127050e+05  812705.000000  814360.000000  \n",
       "mean   1.006331e+06  191443.361338       0.135526  \n",
       "std    3.244274e+04   30463.208111       0.342285  \n",
       "min    9.131230e+05  120308.000000       0.000000  \n",
       "25%    9.895540e+05  168171.000000       0.000000  \n",
       "50%    1.008926e+06  189196.000000       0.000000  \n",
       "75%    1.029403e+06  210828.000000       0.000000  \n",
       "max    1.067279e+06  272275.000000       1.000000  "
      ]
     },
     "execution_count": 33,
     "metadata": {},
     "output_type": "execute_result"
    }
   ],
   "source": [
    "#Buildings that have no area recorded for the building\n",
    "df.drop(df[df[\"BldgArea\"]==0].index, axis=0, inplace=True)\n",
    "df.reset_index(drop=True, inplace=True) #reset indexes since columns or rows have been dropped.\n",
    "df.describe()"
   ]
  },
  {
   "cell_type": "code",
   "execution_count": 34,
   "metadata": {},
   "outputs": [
    {
     "data": {
      "text/html": [
       "<div>\n",
       "<style scoped>\n",
       "    .dataframe tbody tr th:only-of-type {\n",
       "        vertical-align: middle;\n",
       "    }\n",
       "\n",
       "    .dataframe tbody tr th {\n",
       "        vertical-align: top;\n",
       "    }\n",
       "\n",
       "    .dataframe thead th {\n",
       "        text-align: right;\n",
       "    }\n",
       "</style>\n",
       "<table border=\"1\" class=\"dataframe\">\n",
       "  <thead>\n",
       "    <tr style=\"text-align: right;\">\n",
       "      <th></th>\n",
       "      <th>Lot</th>\n",
       "      <th>ZipCode</th>\n",
       "      <th>LotArea</th>\n",
       "      <th>BldgArea</th>\n",
       "      <th>ResArea</th>\n",
       "      <th>OfficeArea</th>\n",
       "      <th>RetailArea</th>\n",
       "      <th>NumBldgs</th>\n",
       "      <th>NumFloors</th>\n",
       "      <th>LotDepth</th>\n",
       "      <th>BldgDepth</th>\n",
       "      <th>YearBuilt</th>\n",
       "      <th>YearAlter1</th>\n",
       "      <th>BuiltFAR</th>\n",
       "      <th>ResidFAR</th>\n",
       "      <th>CommFAR</th>\n",
       "      <th>FacilFAR</th>\n",
       "      <th>XCoord</th>\n",
       "      <th>YCoord</th>\n",
       "      <th>Complaints</th>\n",
       "    </tr>\n",
       "  </thead>\n",
       "  <tbody>\n",
       "    <tr>\n",
       "      <th>count</th>\n",
       "      <td>812669.000000</td>\n",
       "      <td>812591.000000</td>\n",
       "      <td>8.126690e+05</td>\n",
       "      <td>8.126690e+05</td>\n",
       "      <td>8.126690e+05</td>\n",
       "      <td>8.126690e+05</td>\n",
       "      <td>8.126690e+05</td>\n",
       "      <td>812669.000000</td>\n",
       "      <td>812669.000000</td>\n",
       "      <td>812669.000000</td>\n",
       "      <td>812669.000000</td>\n",
       "      <td>812669.000000</td>\n",
       "      <td>812669.000000</td>\n",
       "      <td>812669.000000</td>\n",
       "      <td>812669.000000</td>\n",
       "      <td>812669.000000</td>\n",
       "      <td>812669.000000</td>\n",
       "      <td>8.110730e+05</td>\n",
       "      <td>811073.000000</td>\n",
       "      <td>812669.000000</td>\n",
       "    </tr>\n",
       "    <tr>\n",
       "      <th>mean</th>\n",
       "      <td>127.548982</td>\n",
       "      <td>11018.520229</td>\n",
       "      <td>6.500128e+03</td>\n",
       "      <td>6.640719e+03</td>\n",
       "      <td>4.207640e+03</td>\n",
       "      <td>7.923670e+02</td>\n",
       "      <td>3.338673e+02</td>\n",
       "      <td>1.344058</td>\n",
       "      <td>2.442095</td>\n",
       "      <td>102.454966</td>\n",
       "      <td>48.595435</td>\n",
       "      <td>1940.921262</td>\n",
       "      <td>216.768497</td>\n",
       "      <td>1.144400</td>\n",
       "      <td>1.376499</td>\n",
       "      <td>0.188832</td>\n",
       "      <td>2.226406</td>\n",
       "      <td>1.006350e+06</td>\n",
       "      <td>191443.974373</td>\n",
       "      <td>0.135575</td>\n",
       "    </tr>\n",
       "    <tr>\n",
       "      <th>std</th>\n",
       "      <td>721.947974</td>\n",
       "      <td>468.097814</td>\n",
       "      <td>2.860074e+05</td>\n",
       "      <td>6.139482e+04</td>\n",
       "      <td>3.148121e+04</td>\n",
       "      <td>2.172220e+04</td>\n",
       "      <td>5.927963e+03</td>\n",
       "      <td>2.911231</td>\n",
       "      <td>1.921056</td>\n",
       "      <td>51.968134</td>\n",
       "      <td>35.862150</td>\n",
       "      <td>29.255735</td>\n",
       "      <td>621.573490</td>\n",
       "      <td>8.664204</td>\n",
       "      <td>1.363789</td>\n",
       "      <td>1.067196</td>\n",
       "      <td>1.663490</td>\n",
       "      <td>3.245016e+04</td>\n",
       "      <td>30467.460184</td>\n",
       "      <td>0.342337</td>\n",
       "    </tr>\n",
       "    <tr>\n",
       "      <th>min</th>\n",
       "      <td>1.000000</td>\n",
       "      <td>10001.000000</td>\n",
       "      <td>0.000000e+00</td>\n",
       "      <td>1.000000e+00</td>\n",
       "      <td>0.000000e+00</td>\n",
       "      <td>0.000000e+00</td>\n",
       "      <td>0.000000e+00</td>\n",
       "      <td>1.000000</td>\n",
       "      <td>0.000000</td>\n",
       "      <td>0.000000</td>\n",
       "      <td>0.000000</td>\n",
       "      <td>1661.000000</td>\n",
       "      <td>0.000000</td>\n",
       "      <td>0.000000</td>\n",
       "      <td>0.000000</td>\n",
       "      <td>0.000000</td>\n",
       "      <td>0.000000</td>\n",
       "      <td>9.131230e+05</td>\n",
       "      <td>120308.000000</td>\n",
       "      <td>0.000000</td>\n",
       "    </tr>\n",
       "    <tr>\n",
       "      <th>25%</th>\n",
       "      <td>19.000000</td>\n",
       "      <td>10466.000000</td>\n",
       "      <td>2.000000e+03</td>\n",
       "      <td>1.455000e+03</td>\n",
       "      <td>1.248000e+03</td>\n",
       "      <td>0.000000e+00</td>\n",
       "      <td>0.000000e+00</td>\n",
       "      <td>1.000000</td>\n",
       "      <td>2.000000</td>\n",
       "      <td>98.000000</td>\n",
       "      <td>35.000000</td>\n",
       "      <td>1920.000000</td>\n",
       "      <td>0.000000</td>\n",
       "      <td>0.510000</td>\n",
       "      <td>0.600000</td>\n",
       "      <td>0.000000</td>\n",
       "      <td>1.000000</td>\n",
       "      <td>9.895680e+05</td>\n",
       "      <td>168165.000000</td>\n",
       "      <td>0.000000</td>\n",
       "    </tr>\n",
       "    <tr>\n",
       "      <th>50%</th>\n",
       "      <td>38.000000</td>\n",
       "      <td>11221.000000</td>\n",
       "      <td>2.516000e+03</td>\n",
       "      <td>2.060000e+03</td>\n",
       "      <td>1.716000e+03</td>\n",
       "      <td>0.000000e+00</td>\n",
       "      <td>0.000000e+00</td>\n",
       "      <td>1.000000</td>\n",
       "      <td>2.000000</td>\n",
       "      <td>100.000000</td>\n",
       "      <td>44.000000</td>\n",
       "      <td>1931.000000</td>\n",
       "      <td>0.000000</td>\n",
       "      <td>0.760000</td>\n",
       "      <td>0.900000</td>\n",
       "      <td>0.000000</td>\n",
       "      <td>2.000000</td>\n",
       "      <td>1.008957e+06</td>\n",
       "      <td>189191.000000</td>\n",
       "      <td>0.000000</td>\n",
       "    </tr>\n",
       "    <tr>\n",
       "      <th>75%</th>\n",
       "      <td>63.000000</td>\n",
       "      <td>11370.000000</td>\n",
       "      <td>4.000000e+03</td>\n",
       "      <td>3.064000e+03</td>\n",
       "      <td>2.441000e+03</td>\n",
       "      <td>0.000000e+00</td>\n",
       "      <td>0.000000e+00</td>\n",
       "      <td>2.000000</td>\n",
       "      <td>2.500000</td>\n",
       "      <td>100.000000</td>\n",
       "      <td>54.000000</td>\n",
       "      <td>1960.000000</td>\n",
       "      <td>0.000000</td>\n",
       "      <td>1.260000</td>\n",
       "      <td>2.000000</td>\n",
       "      <td>0.000000</td>\n",
       "      <td>2.000000</td>\n",
       "      <td>1.029433e+06</td>\n",
       "      <td>210830.000000</td>\n",
       "      <td>0.000000</td>\n",
       "    </tr>\n",
       "    <tr>\n",
       "      <th>max</th>\n",
       "      <td>9978.000000</td>\n",
       "      <td>12345.000000</td>\n",
       "      <td>2.147557e+08</td>\n",
       "      <td>2.400000e+07</td>\n",
       "      <td>1.321140e+07</td>\n",
       "      <td>3.583167e+06</td>\n",
       "      <td>2.192088e+06</td>\n",
       "      <td>1850.000000</td>\n",
       "      <td>119.000000</td>\n",
       "      <td>9999.000000</td>\n",
       "      <td>9388.000000</td>\n",
       "      <td>2040.000000</td>\n",
       "      <td>2017.000000</td>\n",
       "      <td>5801.000000</td>\n",
       "      <td>12.000000</td>\n",
       "      <td>15.000000</td>\n",
       "      <td>15.000000</td>\n",
       "      <td>1.067279e+06</td>\n",
       "      <td>272275.000000</td>\n",
       "      <td>1.000000</td>\n",
       "    </tr>\n",
       "  </tbody>\n",
       "</table>\n",
       "</div>"
      ],
      "text/plain": [
       "                 Lot        ZipCode       LotArea      BldgArea       ResArea  \\\n",
       "count  812669.000000  812591.000000  8.126690e+05  8.126690e+05  8.126690e+05   \n",
       "mean      127.548982   11018.520229  6.500128e+03  6.640719e+03  4.207640e+03   \n",
       "std       721.947974     468.097814  2.860074e+05  6.139482e+04  3.148121e+04   \n",
       "min         1.000000   10001.000000  0.000000e+00  1.000000e+00  0.000000e+00   \n",
       "25%        19.000000   10466.000000  2.000000e+03  1.455000e+03  1.248000e+03   \n",
       "50%        38.000000   11221.000000  2.516000e+03  2.060000e+03  1.716000e+03   \n",
       "75%        63.000000   11370.000000  4.000000e+03  3.064000e+03  2.441000e+03   \n",
       "max      9978.000000   12345.000000  2.147557e+08  2.400000e+07  1.321140e+07   \n",
       "\n",
       "         OfficeArea    RetailArea       NumBldgs      NumFloors  \\\n",
       "count  8.126690e+05  8.126690e+05  812669.000000  812669.000000   \n",
       "mean   7.923670e+02  3.338673e+02       1.344058       2.442095   \n",
       "std    2.172220e+04  5.927963e+03       2.911231       1.921056   \n",
       "min    0.000000e+00  0.000000e+00       1.000000       0.000000   \n",
       "25%    0.000000e+00  0.000000e+00       1.000000       2.000000   \n",
       "50%    0.000000e+00  0.000000e+00       1.000000       2.000000   \n",
       "75%    0.000000e+00  0.000000e+00       2.000000       2.500000   \n",
       "max    3.583167e+06  2.192088e+06    1850.000000     119.000000   \n",
       "\n",
       "            LotDepth      BldgDepth      YearBuilt     YearAlter1  \\\n",
       "count  812669.000000  812669.000000  812669.000000  812669.000000   \n",
       "mean      102.454966      48.595435    1940.921262     216.768497   \n",
       "std        51.968134      35.862150      29.255735     621.573490   \n",
       "min         0.000000       0.000000    1661.000000       0.000000   \n",
       "25%        98.000000      35.000000    1920.000000       0.000000   \n",
       "50%       100.000000      44.000000    1931.000000       0.000000   \n",
       "75%       100.000000      54.000000    1960.000000       0.000000   \n",
       "max      9999.000000    9388.000000    2040.000000    2017.000000   \n",
       "\n",
       "            BuiltFAR       ResidFAR        CommFAR       FacilFAR  \\\n",
       "count  812669.000000  812669.000000  812669.000000  812669.000000   \n",
       "mean        1.144400       1.376499       0.188832       2.226406   \n",
       "std         8.664204       1.363789       1.067196       1.663490   \n",
       "min         0.000000       0.000000       0.000000       0.000000   \n",
       "25%         0.510000       0.600000       0.000000       1.000000   \n",
       "50%         0.760000       0.900000       0.000000       2.000000   \n",
       "75%         1.260000       2.000000       0.000000       2.000000   \n",
       "max      5801.000000      12.000000      15.000000      15.000000   \n",
       "\n",
       "             XCoord         YCoord     Complaints  \n",
       "count  8.110730e+05  811073.000000  812669.000000  \n",
       "mean   1.006350e+06  191443.974373       0.135575  \n",
       "std    3.245016e+04   30467.460184       0.342337  \n",
       "min    9.131230e+05  120308.000000       0.000000  \n",
       "25%    9.895680e+05  168165.000000       0.000000  \n",
       "50%    1.008957e+06  189191.000000       0.000000  \n",
       "75%    1.029433e+06  210830.000000       0.000000  \n",
       "max    1.067279e+06  272275.000000       1.000000  "
      ]
     },
     "execution_count": 34,
     "metadata": {},
     "output_type": "execute_result"
    }
   ],
   "source": [
    "#Buildings with no year that it was built recorded.\n",
    "df.drop(df[df[\"YearBuilt\"]==0].index, axis=0, inplace=True)\n",
    "df.reset_index(drop=True, inplace=True) #reset indexes since columns or rows have been dropped.\n",
    "df.describe()"
   ]
  },
  {
   "cell_type": "code",
   "execution_count": 35,
   "metadata": {},
   "outputs": [
    {
     "data": {
      "text/html": [
       "<div>\n",
       "<style scoped>\n",
       "    .dataframe tbody tr th:only-of-type {\n",
       "        vertical-align: middle;\n",
       "    }\n",
       "\n",
       "    .dataframe tbody tr th {\n",
       "        vertical-align: top;\n",
       "    }\n",
       "\n",
       "    .dataframe thead th {\n",
       "        text-align: right;\n",
       "    }\n",
       "</style>\n",
       "<table border=\"1\" class=\"dataframe\">\n",
       "  <thead>\n",
       "    <tr style=\"text-align: right;\">\n",
       "      <th></th>\n",
       "      <th>Lot</th>\n",
       "      <th>ZipCode</th>\n",
       "      <th>LotArea</th>\n",
       "      <th>BldgArea</th>\n",
       "      <th>ResArea</th>\n",
       "      <th>OfficeArea</th>\n",
       "      <th>RetailArea</th>\n",
       "      <th>NumBldgs</th>\n",
       "      <th>NumFloors</th>\n",
       "      <th>LotDepth</th>\n",
       "      <th>BldgDepth</th>\n",
       "      <th>YearBuilt</th>\n",
       "      <th>YearAlter1</th>\n",
       "      <th>BuiltFAR</th>\n",
       "      <th>ResidFAR</th>\n",
       "      <th>CommFAR</th>\n",
       "      <th>FacilFAR</th>\n",
       "      <th>XCoord</th>\n",
       "      <th>YCoord</th>\n",
       "      <th>Complaints</th>\n",
       "    </tr>\n",
       "  </thead>\n",
       "  <tbody>\n",
       "    <tr>\n",
       "      <th>count</th>\n",
       "      <td>812103.000000</td>\n",
       "      <td>812029.000000</td>\n",
       "      <td>8.121030e+05</td>\n",
       "      <td>8.121030e+05</td>\n",
       "      <td>8.121030e+05</td>\n",
       "      <td>8.121030e+05</td>\n",
       "      <td>8.121030e+05</td>\n",
       "      <td>812103.000000</td>\n",
       "      <td>812103.000000</td>\n",
       "      <td>812103.000000</td>\n",
       "      <td>812103.000000</td>\n",
       "      <td>812103.000000</td>\n",
       "      <td>812103.000000</td>\n",
       "      <td>812103.000000</td>\n",
       "      <td>812103.000000</td>\n",
       "      <td>812103.000000</td>\n",
       "      <td>812103.000000</td>\n",
       "      <td>8.105470e+05</td>\n",
       "      <td>810547.000000</td>\n",
       "      <td>812103.000000</td>\n",
       "    </tr>\n",
       "    <tr>\n",
       "      <th>mean</th>\n",
       "      <td>127.558052</td>\n",
       "      <td>11018.669605</td>\n",
       "      <td>6.303383e+03</td>\n",
       "      <td>6.602289e+03</td>\n",
       "      <td>4.208748e+03</td>\n",
       "      <td>7.919997e+02</td>\n",
       "      <td>3.339922e+02</td>\n",
       "      <td>1.343801</td>\n",
       "      <td>2.443797</td>\n",
       "      <td>102.424551</td>\n",
       "      <td>48.604507</td>\n",
       "      <td>1940.885613</td>\n",
       "      <td>216.733877</td>\n",
       "      <td>1.144131</td>\n",
       "      <td>1.376478</td>\n",
       "      <td>0.188716</td>\n",
       "      <td>2.226370</td>\n",
       "      <td>1.006354e+06</td>\n",
       "      <td>191440.858267</td>\n",
       "      <td>0.135611</td>\n",
       "    </tr>\n",
       "    <tr>\n",
       "      <th>std</th>\n",
       "      <td>722.130467</td>\n",
       "      <td>468.054520</td>\n",
       "      <td>2.758742e+05</td>\n",
       "      <td>5.522988e+04</td>\n",
       "      <td>3.148955e+04</td>\n",
       "      <td>2.172392e+04</td>\n",
       "      <td>5.929917e+03</td>\n",
       "      <td>2.905444</td>\n",
       "      <td>1.920643</td>\n",
       "      <td>51.535136</td>\n",
       "      <td>35.858423</td>\n",
       "      <td>29.219757</td>\n",
       "      <td>621.528145</td>\n",
       "      <td>8.666124</td>\n",
       "      <td>1.363604</td>\n",
       "      <td>1.066896</td>\n",
       "      <td>1.663273</td>\n",
       "      <td>3.245101e+04</td>\n",
       "      <td>30464.034623</td>\n",
       "      <td>0.342375</td>\n",
       "    </tr>\n",
       "    <tr>\n",
       "      <th>min</th>\n",
       "      <td>1.000000</td>\n",
       "      <td>10001.000000</td>\n",
       "      <td>0.000000e+00</td>\n",
       "      <td>1.000000e+00</td>\n",
       "      <td>0.000000e+00</td>\n",
       "      <td>0.000000e+00</td>\n",
       "      <td>0.000000e+00</td>\n",
       "      <td>1.000000</td>\n",
       "      <td>0.500000</td>\n",
       "      <td>0.000000</td>\n",
       "      <td>0.000000</td>\n",
       "      <td>1661.000000</td>\n",
       "      <td>0.000000</td>\n",
       "      <td>0.000000</td>\n",
       "      <td>0.000000</td>\n",
       "      <td>0.000000</td>\n",
       "      <td>0.000000</td>\n",
       "      <td>9.131230e+05</td>\n",
       "      <td>120308.000000</td>\n",
       "      <td>0.000000</td>\n",
       "    </tr>\n",
       "    <tr>\n",
       "      <th>25%</th>\n",
       "      <td>19.000000</td>\n",
       "      <td>10466.000000</td>\n",
       "      <td>2.000000e+03</td>\n",
       "      <td>1.454000e+03</td>\n",
       "      <td>1.249000e+03</td>\n",
       "      <td>0.000000e+00</td>\n",
       "      <td>0.000000e+00</td>\n",
       "      <td>1.000000</td>\n",
       "      <td>2.000000</td>\n",
       "      <td>98.000000</td>\n",
       "      <td>35.000000</td>\n",
       "      <td>1920.000000</td>\n",
       "      <td>0.000000</td>\n",
       "      <td>0.510000</td>\n",
       "      <td>0.600000</td>\n",
       "      <td>0.000000</td>\n",
       "      <td>1.000000</td>\n",
       "      <td>9.895700e+05</td>\n",
       "      <td>168164.500000</td>\n",
       "      <td>0.000000</td>\n",
       "    </tr>\n",
       "    <tr>\n",
       "      <th>50%</th>\n",
       "      <td>38.000000</td>\n",
       "      <td>11221.000000</td>\n",
       "      <td>2.516000e+03</td>\n",
       "      <td>2.060000e+03</td>\n",
       "      <td>1.716000e+03</td>\n",
       "      <td>0.000000e+00</td>\n",
       "      <td>0.000000e+00</td>\n",
       "      <td>1.000000</td>\n",
       "      <td>2.000000</td>\n",
       "      <td>100.000000</td>\n",
       "      <td>44.000000</td>\n",
       "      <td>1931.000000</td>\n",
       "      <td>0.000000</td>\n",
       "      <td>0.760000</td>\n",
       "      <td>0.900000</td>\n",
       "      <td>0.000000</td>\n",
       "      <td>2.000000</td>\n",
       "      <td>1.008958e+06</td>\n",
       "      <td>189190.000000</td>\n",
       "      <td>0.000000</td>\n",
       "    </tr>\n",
       "    <tr>\n",
       "      <th>75%</th>\n",
       "      <td>63.000000</td>\n",
       "      <td>11370.000000</td>\n",
       "      <td>4.000000e+03</td>\n",
       "      <td>3.063000e+03</td>\n",
       "      <td>2.441000e+03</td>\n",
       "      <td>0.000000e+00</td>\n",
       "      <td>0.000000e+00</td>\n",
       "      <td>2.000000</td>\n",
       "      <td>2.500000</td>\n",
       "      <td>100.000000</td>\n",
       "      <td>54.000000</td>\n",
       "      <td>1960.000000</td>\n",
       "      <td>0.000000</td>\n",
       "      <td>1.260000</td>\n",
       "      <td>2.000000</td>\n",
       "      <td>0.000000</td>\n",
       "      <td>2.000000</td>\n",
       "      <td>1.029445e+06</td>\n",
       "      <td>210822.000000</td>\n",
       "      <td>0.000000</td>\n",
       "    </tr>\n",
       "    <tr>\n",
       "      <th>max</th>\n",
       "      <td>9978.000000</td>\n",
       "      <td>12345.000000</td>\n",
       "      <td>2.147557e+08</td>\n",
       "      <td>1.709504e+07</td>\n",
       "      <td>1.321140e+07</td>\n",
       "      <td>3.583167e+06</td>\n",
       "      <td>2.192088e+06</td>\n",
       "      <td>1850.000000</td>\n",
       "      <td>119.000000</td>\n",
       "      <td>9999.000000</td>\n",
       "      <td>9388.000000</td>\n",
       "      <td>2040.000000</td>\n",
       "      <td>2017.000000</td>\n",
       "      <td>5801.000000</td>\n",
       "      <td>12.000000</td>\n",
       "      <td>15.000000</td>\n",
       "      <td>15.000000</td>\n",
       "      <td>1.067279e+06</td>\n",
       "      <td>272275.000000</td>\n",
       "      <td>1.000000</td>\n",
       "    </tr>\n",
       "  </tbody>\n",
       "</table>\n",
       "</div>"
      ],
      "text/plain": [
       "                 Lot        ZipCode       LotArea      BldgArea       ResArea  \\\n",
       "count  812103.000000  812029.000000  8.121030e+05  8.121030e+05  8.121030e+05   \n",
       "mean      127.558052   11018.669605  6.303383e+03  6.602289e+03  4.208748e+03   \n",
       "std       722.130467     468.054520  2.758742e+05  5.522988e+04  3.148955e+04   \n",
       "min         1.000000   10001.000000  0.000000e+00  1.000000e+00  0.000000e+00   \n",
       "25%        19.000000   10466.000000  2.000000e+03  1.454000e+03  1.249000e+03   \n",
       "50%        38.000000   11221.000000  2.516000e+03  2.060000e+03  1.716000e+03   \n",
       "75%        63.000000   11370.000000  4.000000e+03  3.063000e+03  2.441000e+03   \n",
       "max      9978.000000   12345.000000  2.147557e+08  1.709504e+07  1.321140e+07   \n",
       "\n",
       "         OfficeArea    RetailArea       NumBldgs      NumFloors  \\\n",
       "count  8.121030e+05  8.121030e+05  812103.000000  812103.000000   \n",
       "mean   7.919997e+02  3.339922e+02       1.343801       2.443797   \n",
       "std    2.172392e+04  5.929917e+03       2.905444       1.920643   \n",
       "min    0.000000e+00  0.000000e+00       1.000000       0.500000   \n",
       "25%    0.000000e+00  0.000000e+00       1.000000       2.000000   \n",
       "50%    0.000000e+00  0.000000e+00       1.000000       2.000000   \n",
       "75%    0.000000e+00  0.000000e+00       2.000000       2.500000   \n",
       "max    3.583167e+06  2.192088e+06    1850.000000     119.000000   \n",
       "\n",
       "            LotDepth      BldgDepth      YearBuilt     YearAlter1  \\\n",
       "count  812103.000000  812103.000000  812103.000000  812103.000000   \n",
       "mean      102.424551      48.604507    1940.885613     216.733877   \n",
       "std        51.535136      35.858423      29.219757     621.528145   \n",
       "min         0.000000       0.000000    1661.000000       0.000000   \n",
       "25%        98.000000      35.000000    1920.000000       0.000000   \n",
       "50%       100.000000      44.000000    1931.000000       0.000000   \n",
       "75%       100.000000      54.000000    1960.000000       0.000000   \n",
       "max      9999.000000    9388.000000    2040.000000    2017.000000   \n",
       "\n",
       "            BuiltFAR       ResidFAR        CommFAR       FacilFAR  \\\n",
       "count  812103.000000  812103.000000  812103.000000  812103.000000   \n",
       "mean        1.144131       1.376478       0.188716       2.226370   \n",
       "std         8.666124       1.363604       1.066896       1.663273   \n",
       "min         0.000000       0.000000       0.000000       0.000000   \n",
       "25%         0.510000       0.600000       0.000000       1.000000   \n",
       "50%         0.760000       0.900000       0.000000       2.000000   \n",
       "75%         1.260000       2.000000       0.000000       2.000000   \n",
       "max      5801.000000      12.000000      15.000000      15.000000   \n",
       "\n",
       "             XCoord         YCoord     Complaints  \n",
       "count  8.105470e+05  810547.000000  812103.000000  \n",
       "mean   1.006354e+06  191440.858267       0.135611  \n",
       "std    3.245101e+04   30464.034623       0.342375  \n",
       "min    9.131230e+05  120308.000000       0.000000  \n",
       "25%    9.895700e+05  168164.500000       0.000000  \n",
       "50%    1.008958e+06  189190.000000       0.000000  \n",
       "75%    1.029445e+06  210822.000000       0.000000  \n",
       "max    1.067279e+06  272275.000000       1.000000  "
      ]
     },
     "execution_count": 35,
     "metadata": {},
     "output_type": "execute_result"
    }
   ],
   "source": [
    "#Buildings with no floors.\n",
    "df.drop(df[df[\"NumFloors\"]==0].index, axis=0, inplace=True)\n",
    "df.reset_index(drop=True, inplace=True) #reset indexes since columns or rows have been dropped.\n",
    "df.describe()"
   ]
  },
  {
   "cell_type": "code",
   "execution_count": 36,
   "metadata": {},
   "outputs": [
    {
     "name": "stdout",
     "output_type": "stream",
     "text": [
      "Lot              0\n",
      "ZipCode         74\n",
      "Address          0\n",
      "LotArea          0\n",
      "BldgArea         0\n",
      "ResArea          0\n",
      "OfficeArea       0\n",
      "RetailArea       0\n",
      "NumBldgs         0\n",
      "NumFloors        0\n",
      "LotDepth         0\n",
      "BldgDepth        0\n",
      "YearBuilt        0\n",
      "YearAlter1       0\n",
      "BuiltFAR         0\n",
      "ResidFAR         0\n",
      "CommFAR          0\n",
      "FacilFAR         0\n",
      "XCoord        1556\n",
      "YCoord        1556\n",
      "Complaints       0\n",
      "dtype: int64\n"
     ]
    }
   ],
   "source": [
    "#Check  for any nulls that didn't get matched out of existence.\n",
    "print(df.isnull().sum())"
   ]
  },
  {
   "cell_type": "code",
   "execution_count": 37,
   "metadata": {},
   "outputs": [
    {
     "data": {
      "text/plain": [
       "(810543, 21)"
      ]
     },
     "execution_count": 37,
     "metadata": {},
     "output_type": "execute_result"
    }
   ],
   "source": [
    "#Drop null values.\n",
    "df.dropna(subset=['ZipCode'], axis=0, inplace=True)\n",
    "df.dropna(subset=['XCoord'], axis=0, inplace=True)\n",
    "df.dropna(subset=['YCoord'], axis=0, inplace=True)\n",
    "df.reset_index(drop=True, inplace=True)\n",
    "df.shape"
   ]
  },
  {
   "cell_type": "code",
   "execution_count": 38,
   "metadata": {},
   "outputs": [
    {
     "data": {
      "text/plain": [
       "Lot             int64\n",
       "ZipCode       float64\n",
       "Address        object\n",
       "LotArea         int64\n",
       "BldgArea        int64\n",
       "ResArea         int64\n",
       "OfficeArea      int64\n",
       "RetailArea      int64\n",
       "NumBldgs        int64\n",
       "NumFloors     float64\n",
       "LotDepth      float64\n",
       "BldgDepth     float64\n",
       "YearBuilt       int64\n",
       "YearAlter1      int64\n",
       "BuiltFAR      float64\n",
       "ResidFAR      float64\n",
       "CommFAR       float64\n",
       "FacilFAR      float64\n",
       "XCoord        float64\n",
       "YCoord        float64\n",
       "Complaints      int64\n",
       "dtype: object"
      ]
     },
     "execution_count": 38,
     "metadata": {},
     "output_type": "execute_result"
    }
   ],
   "source": [
    "#Adjust data types to be more favorable for correlating.\n",
    "df.dtypes"
   ]
  },
  {
   "cell_type": "code",
   "execution_count": 39,
   "metadata": {},
   "outputs": [
    {
     "data": {
      "text/plain": [
       "810543"
      ]
     },
     "execution_count": 39,
     "metadata": {},
     "output_type": "execute_result"
    }
   ],
   "source": [
    "#Convert each unique address into a unique number.\n",
    "address_lookup = {k:v for v, k in enumerate(df['Address'].unique().tolist())}\n",
    "df[\"Address\"] = df[\"Address\"].map(address_lookup)\n",
    "len(df)"
   ]
  },
  {
   "cell_type": "markdown",
   "metadata": {},
   "source": [
    "## Imputation\n",
    "Handling where \"missing\" features have zero instead of a \"real\" value."
   ]
  },
  {
   "cell_type": "code",
   "execution_count": 40,
   "metadata": {},
   "outputs": [
    {
     "name": "stdout",
     "output_type": "stream",
     "text": [
      "(810543, 21)\n",
      "Index(['Lot', 'ZipCode', 'Address', 'LotArea', 'BldgArea', 'ResArea',\n",
      "       'OfficeArea', 'RetailArea', 'NumBldgs', 'NumFloors', 'LotDepth',\n",
      "       'BldgDepth', 'YearBuilt', 'YearAlter1', 'BuiltFAR', 'ResidFAR',\n",
      "       'CommFAR', 'FacilFAR', 'XCoord', 'YCoord', 'Complaints'],\n",
      "      dtype='object')\n"
     ]
    },
    {
     "data": {
      "text/html": [
       "<div>\n",
       "<style scoped>\n",
       "    .dataframe tbody tr th:only-of-type {\n",
       "        vertical-align: middle;\n",
       "    }\n",
       "\n",
       "    .dataframe tbody tr th {\n",
       "        vertical-align: top;\n",
       "    }\n",
       "\n",
       "    .dataframe thead th {\n",
       "        text-align: right;\n",
       "    }\n",
       "</style>\n",
       "<table border=\"1\" class=\"dataframe\">\n",
       "  <thead>\n",
       "    <tr style=\"text-align: right;\">\n",
       "      <th></th>\n",
       "      <th>Lot</th>\n",
       "      <th>ZipCode</th>\n",
       "      <th>Address</th>\n",
       "      <th>LotArea</th>\n",
       "      <th>BldgArea</th>\n",
       "      <th>ResArea</th>\n",
       "      <th>OfficeArea</th>\n",
       "      <th>RetailArea</th>\n",
       "      <th>NumBldgs</th>\n",
       "      <th>NumFloors</th>\n",
       "      <th>...</th>\n",
       "      <th>BldgDepth</th>\n",
       "      <th>YearBuilt</th>\n",
       "      <th>YearAlter1</th>\n",
       "      <th>BuiltFAR</th>\n",
       "      <th>ResidFAR</th>\n",
       "      <th>CommFAR</th>\n",
       "      <th>FacilFAR</th>\n",
       "      <th>XCoord</th>\n",
       "      <th>YCoord</th>\n",
       "      <th>Complaints</th>\n",
       "    </tr>\n",
       "  </thead>\n",
       "  <tbody>\n",
       "    <tr>\n",
       "      <th>0</th>\n",
       "      <td>4</td>\n",
       "      <td>10454.0</td>\n",
       "      <td>0</td>\n",
       "      <td>13770</td>\n",
       "      <td>752</td>\n",
       "      <td>0</td>\n",
       "      <td>272</td>\n",
       "      <td>0</td>\n",
       "      <td>2</td>\n",
       "      <td>1.0</td>\n",
       "      <td>...</td>\n",
       "      <td>16.0</td>\n",
       "      <td>1931</td>\n",
       "      <td>1994</td>\n",
       "      <td>0.05</td>\n",
       "      <td>6.02</td>\n",
       "      <td>5.0</td>\n",
       "      <td>6.5</td>\n",
       "      <td>1006076.0</td>\n",
       "      <td>232156.0</td>\n",
       "      <td>0</td>\n",
       "    </tr>\n",
       "  </tbody>\n",
       "</table>\n",
       "<p>1 rows × 21 columns</p>\n",
       "</div>"
      ],
      "text/plain": [
       "   Lot  ZipCode  Address  LotArea  BldgArea  ResArea  OfficeArea  RetailArea  \\\n",
       "0    4  10454.0        0    13770       752        0         272           0   \n",
       "\n",
       "   NumBldgs  NumFloors  ...  BldgDepth  YearBuilt  YearAlter1  BuiltFAR  \\\n",
       "0         2        1.0  ...       16.0       1931        1994      0.05   \n",
       "\n",
       "   ResidFAR  CommFAR  FacilFAR     XCoord    YCoord  Complaints  \n",
       "0      6.02      5.0       6.5  1006076.0  232156.0           0  \n",
       "\n",
       "[1 rows x 21 columns]"
      ]
     },
     "execution_count": 40,
     "metadata": {},
     "output_type": "execute_result"
    }
   ],
   "source": [
    "print(df.shape)\n",
    "print(df.columns)\n",
    "df.head(1)"
   ]
  },
  {
   "cell_type": "code",
   "execution_count": 41,
   "metadata": {},
   "outputs": [
    {
     "data": {
      "text/plain": [
       "7739      0\n",
       "124266    0\n",
       "131702    0\n",
       "143560    0\n",
       "145208    1\n",
       "148038    0\n",
       "156573    0\n",
       "210333    0\n",
       "230788    0\n",
       "276095    0\n",
       "277065    0\n",
       "295481    1\n",
       "340968    0\n",
       "341743    0\n",
       "349834    0\n",
       "361135    0\n",
       "366349    0\n",
       "417273    1\n",
       "436437    0\n",
       "437381    1\n",
       "499827    0\n",
       "499847    0\n",
       "Name: LotArea, dtype: int64"
      ]
     },
     "execution_count": 41,
     "metadata": {},
     "output_type": "execute_result"
    }
   ],
   "source": [
    "df[df['LotArea'].le(1)]['LotArea'] #Check for zero values."
   ]
  },
  {
   "cell_type": "code",
   "execution_count": 42,
   "metadata": {},
   "outputs": [
    {
     "data": {
      "text/plain": [
       "(810525, 21)"
      ]
     },
     "execution_count": 42,
     "metadata": {},
     "output_type": "execute_result"
    }
   ],
   "source": [
    "#Even one row with lot area zero could disrupt calculations of the range and mess up scaling and centering.\n",
    "df.drop(df[df[\"LotArea\"].eq(0)].index, axis=0, inplace=True)\n",
    "df.reset_index(drop=True, inplace=True)\n",
    "df.shape"
   ]
  },
  {
   "cell_type": "code",
   "execution_count": 43,
   "metadata": {},
   "outputs": [
    {
     "name": "stdout",
     "output_type": "stream",
     "text": [
      "Lot:  range 1 min (21205 of these) thru 7533 \n",
      "ZipCode:  range 10001 min (888 of these) thru 12345 \n",
      "Address:  range 0 min (1 of these) thru 804860 \n",
      "LotArea:  range 1 min (4 of these) thru 214755710 \n",
      "BldgArea:  range 1 min (7 of these) thru 17095037 \n",
      "ResArea:  range 0 min (52372 of these) thru 13211398 \n",
      "OfficeArea:  range 0 min (784834 of these) thru 3583167 \n",
      "RetailArea:  range 0 min (747080 of these) thru 2192088 \n",
      "NumBldgs:  range 1 min (578387 of these) thru 1850 \n",
      "NumFloors:  range 0 min (2 of these) thru 119 \n",
      "LotDepth:  range 0 min (1365 of these) thru 9999 \n",
      "BldgDepth:  range 0 min (3679 of these) thru 9388 \n",
      "YearBuilt:  range 1661 min (1 of these) thru 2040 \n",
      "YearAlter1:  range 0 min (722637 of these) thru 2017 \n",
      "BuiltFAR:  range 0 min (261 of these) thru 5801 \n",
      "ResidFAR:  range 0 min (21760 of these) thru 12 \n",
      "CommFAR:  range 0 min (764732 of these) thru 15 \n",
      "FacilFAR:  range 0 min (3450 of these) thru 15 \n",
      "XCoord:  range 913123 min (1 of these) thru 1067279 \n",
      "YCoord:  range 120308 min (1 of these) thru 272275 \n",
      "Complaints:  range 0 min (700492 of these) thru 1 \n"
     ]
    }
   ],
   "source": [
    "# Checking one at at time is tedious.  Just get them all at once.\n",
    "for col in df.columns:\n",
    "    print(\"%s:  range %i min (%i of these) thru %i \" % (col, df[col].min(), len(df[df[col].eq(df[col].min())]), df[col].max()))"
   ]
  },
  {
   "cell_type": "code",
   "execution_count": 44,
   "metadata": {},
   "outputs": [],
   "source": [
    "# Based on the above, the features likely benefiting from imputation are:  \n",
    "# OfficeArea, ResArea, RetailArea, LotDepth, BldgDepth, YearAlter1, BuiltFAR, ResidFAR, CommFAR, FacilFAR\n",
    "# Documentation says zero can be ambiguous for some fields.\n",
    "# It's either not available or not applicable.  One would need imputation, the other would be valid.\n",
    "# This applies to:\n",
    "# OfficeArea\n",
    "# ResArea\n",
    "# RetailArea\n",
    "# The following is unclear what a zero means, but may indicate buildings that have never been modified:\n",
    "# YearAlter1\n",
    "from sklearn.impute import SimpleImputer\n",
    "imp = SimpleImputer(missing_values=0, strategy='mean')\n",
    "def imputate_column(col):\n",
    "    imp.fit(df[[col]])\n",
    "    df[[col]] = imp.transform(df[[col]])\n",
    "imputate_column('LotDepth')\n",
    "imputate_column('BldgDepth')\n",
    "imputate_column('BuiltFAR')\n",
    "imputate_column('ResidFAR')\n",
    "imputate_column('CommFAR')\n",
    "imputate_column('FacilFAR')\n",
    "imputate_column('OfficeArea')\n",
    "imputate_column('ResArea')\n",
    "imputate_column('RetailArea')"
   ]
  },
  {
   "cell_type": "markdown",
   "metadata": {},
   "source": [
    "## Scaling, Centering"
   ]
  },
  {
   "cell_type": "code",
   "execution_count": 45,
   "metadata": {},
   "outputs": [],
   "source": [
    "def scale_and_center(column_name):\n",
    "    scale=RobustScaler()\n",
    "    scale.fit(df[[column_name]])\n",
    "    df[[column_name]]=scale.transform(df[[column_name]])\n",
    "scale_and_center('LotDepth')\n",
    "scale_and_center('BldgDepth')\n",
    "scale_and_center('BuiltFAR')\n",
    "scale_and_center('ResidFAR')\n",
    "scale_and_center('CommFAR')\n",
    "scale_and_center('FacilFAR')\n",
    "scale_and_center('OfficeArea')\n",
    "scale_and_center('ResArea')\n",
    "scale_and_center('RetailArea')"
   ]
  },
  {
   "cell_type": "code",
   "execution_count": 47,
   "metadata": {},
   "outputs": [
    {
     "data": {
      "text/plain": [
       "(810525, 21)"
      ]
     },
     "execution_count": 47,
     "metadata": {},
     "output_type": "execute_result"
    }
   ],
   "source": [
    "df.shape"
   ]
  },
  {
   "cell_type": "markdown",
   "metadata": {},
   "source": [
    "## Save the cleaned data."
   ]
  },
  {
   "cell_type": "code",
   "execution_count": 48,
   "metadata": {},
   "outputs": [],
   "source": [
    "df.to_pickle(files_path + 'q3clean.pkl')"
   ]
  },
  {
   "cell_type": "markdown",
   "metadata": {},
   "source": [
    "<a id=\"analysis\"></a>\n",
    "# Analyzing and Visualizing\n",
    "---"
   ]
  },
  {
   "cell_type": "markdown",
   "metadata": {},
   "source": [
    "## Load combined and cleaned data"
   ]
  },
  {
   "cell_type": "code",
   "execution_count": 49,
   "metadata": {},
   "outputs": [
    {
     "name": "stdout",
     "output_type": "stream",
     "text": [
      "(810525, 21)\n",
      "Lot           0\n",
      "ZipCode       0\n",
      "Address       0\n",
      "LotArea       0\n",
      "BldgArea      0\n",
      "ResArea       0\n",
      "OfficeArea    0\n",
      "RetailArea    0\n",
      "NumBldgs      0\n",
      "NumFloors     0\n",
      "LotDepth      0\n",
      "BldgDepth     0\n",
      "YearBuilt     0\n",
      "YearAlter1    0\n",
      "BuiltFAR      0\n",
      "ResidFAR      0\n",
      "CommFAR       0\n",
      "FacilFAR      0\n",
      "XCoord        0\n",
      "YCoord        0\n",
      "Complaints    0\n",
      "dtype: int64\n"
     ]
    },
    {
     "data": {
      "text/plain": [
       "Lot             int64\n",
       "ZipCode       float64\n",
       "Address         int64\n",
       "LotArea         int64\n",
       "BldgArea        int64\n",
       "ResArea       float64\n",
       "OfficeArea    float64\n",
       "RetailArea    float64\n",
       "NumBldgs        int64\n",
       "NumFloors     float64\n",
       "LotDepth      float64\n",
       "BldgDepth     float64\n",
       "YearBuilt       int64\n",
       "YearAlter1      int64\n",
       "BuiltFAR      float64\n",
       "ResidFAR      float64\n",
       "CommFAR       float64\n",
       "FacilFAR      float64\n",
       "XCoord        float64\n",
       "YCoord        float64\n",
       "Complaints      int64\n",
       "dtype: object"
      ]
     },
     "execution_count": 49,
     "metadata": {},
     "output_type": "execute_result"
    }
   ],
   "source": [
    "df = pd.read_pickle(files_path + 'q3clean.pkl')\n",
    "print(df.shape)\n",
    "print(df.isnull().sum())\n",
    "df.dtypes"
   ]
  },
  {
   "cell_type": "markdown",
   "metadata": {},
   "source": [
    "## Analyze, using visualizations as necessary"
   ]
  },
  {
   "cell_type": "markdown",
   "metadata": {},
   "source": [
    "### Logistic Regression\n",
    "Logistic Regression instead of Linear chosen because the Y values are zero or one, so this is a classifier rather than continuous."
   ]
  },
  {
   "cell_type": "code",
   "execution_count": 57,
   "metadata": {},
   "outputs": [
    {
     "name": "stdout",
     "output_type": "stream",
     "text": [
      "number of test samples : 162105\n",
      "number of training samples: 648420\n"
     ]
    }
   ],
   "source": [
    "y_data = df['Complaints']\n",
    "x_data = df #.drop('Complaints',axis=1)\n",
    "x_train,x_test,y_train,y_test = train_test_split(x_data,y_data,test_size=0.20,random_state=1)\n",
    "print(\"number of test samples :\", x_test.shape[0])\n",
    "print(\"number of training samples:\",x_train.shape[0])"
   ]
  },
  {
   "cell_type": "code",
   "execution_count": 65,
   "metadata": {},
   "outputs": [
    {
     "name": "stdout",
     "output_type": "stream",
     "text": [
      "['Lot']     0.8632429598099997\n",
      "['ZipCode']     0.8632429598099997\n",
      "['Address']     0.8632429598099997\n",
      "['LotArea']     0.8632429598099997\n",
      "['BldgArea']     0.862613738009315\n",
      "['ResArea']     0.8647666635822461\n",
      "['OfficeArea']     0.8607630856543599\n",
      "['RetailArea']     0.8632429598099997\n",
      "['NumBldgs']     0.8632429598099997\n",
      "['NumFloors']     0.8609234755251226\n",
      "['LotDepth']     0.8631997779217174\n",
      "['BldgDepth']     0.859461460164708\n",
      "['YearBuilt']     0.8632429598099997\n",
      "['YearAlter1']     0.8632429598099997\n",
      "['BuiltFAR']     0.860534838530582\n",
      "['ResidFAR']     0.8589062644582215\n",
      "['CommFAR']     0.8632429598099997\n",
      "['FacilFAR']     0.859461460164708\n",
      "['XCoord']     0.8632429598099997\n",
      "['YCoord']     0.8632429598099997\n",
      "['Complaints']     1.0\n",
      "['NumFloors', 'BuiltFAR']     0.8606212023071466\n",
      "['NumFloors', 'BuiltFAR', 'ResArea']     0.8617439314024861\n"
     ]
    }
   ],
   "source": [
    "def score_logistic_regression(features):\n",
    "    m = linear_model.LogisticRegression(solver='lbfgs', multi_class='auto', max_iter=150)\n",
    "    m.fit(x_train[features], y_train)  \n",
    "    print(features, \"   \", m.score(x_test[features], y_test))\n",
    "for col in x_train.columns:\n",
    "    score_logistic_regression([col])\n",
    "score_logistic_regression(['NumFloors','BuiltFAR'])\n",
    "score_logistic_regression(['NumFloors','BuiltFAR','ResArea'])"
   ]
  },
  {
   "cell_type": "markdown",
   "metadata": {},
   "source": [
    "# CONTINUE HERE"
   ]
  },
  {
   "cell_type": "markdown",
   "metadata": {},
   "source": [
    "<p style=\"color:Red;\">The strongest relationships are with 'NumFloors','BuiltFAR', and 'ResArea', but the correlations do not seem very strong when viewed in this manner.</p>"
   ]
  },
  {
   "cell_type": "markdown",
   "metadata": {},
   "source": [
    "### Pearson Correlation\n",
    "Measure the correlations with confidence factors."
   ]
  },
  {
   "cell_type": "code",
   "execution_count": 67,
   "metadata": {},
   "outputs": [
    {
     "data": {
      "text/plain": [
       "(21, 21)"
      ]
     },
     "execution_count": 67,
     "metadata": {},
     "output_type": "execute_result"
    }
   ],
   "source": [
    "# Check for correlations with heatmap.\n",
    "AllForHeat = df.corr()\n",
    "AllForHeat.shape"
   ]
  },
  {
   "cell_type": "code",
   "execution_count": 68,
   "metadata": {
    "scrolled": true
   },
   "outputs": [
    {
     "data": {
      "image/png": "[encoded data removed]",
      "text/plain": [
       "<Figure size 432x288 with 2 Axes>"
      ]
     },
     "metadata": {
      "needs_background": "light"
     },
     "output_type": "display_data"
    }
   ],
   "source": [
    "fig, ax = plt.subplots()\n",
    "im = ax.pcolor(AllForHeat, cmap='RdBu_r')\n",
    "row_labels = df.columns; col_labels = df.columns\n",
    "ax.set_xticklabels(row_labels, minor = False);ax.set_yticklabels(col_labels, minor = False)\n",
    "#move ticks and labels to the center.\n",
    "ax.set_xticks(np.arange(AllForHeat.shape[1]) + 0.5, minor=False)\n",
    "ax.set_yticks(np.arange(AllForHeat.shape[0]) + 0.5, minor=False)\n",
    "ax.set_title(\"heat map of correlations\")\n",
    "plt.xticks(rotation=90)\n",
    "plt.colorbar(im)\n",
    "plt.show()"
   ]
  },
  {
   "cell_type": "markdown",
   "metadata": {},
   "source": [
    "<p style=\"color:Red;\">Looking along the top row or rightmost column, there appear to be some correlations, though none super strong.  Looking at the actual numbers might help see them better.</p>"
   ]
  },
  {
   "cell_type": "code",
   "execution_count": 69,
   "metadata": {},
   "outputs": [
    {
     "data": {
      "text/plain": [
       "Complaints    1.000000\n",
       "ResidFAR      0.279159\n",
       "FacilFAR      0.269556\n",
       "NumFloors     0.218504\n",
       "BldgDepth     0.161117\n",
       "YCoord        0.143919\n",
       "YearAlter1    0.112475\n",
       "ResArea       0.110868\n",
       "BldgArea      0.075113\n",
       "ZipCode      -0.089329\n",
       "YearBuilt    -0.105077\n",
       "Address      -0.194605\n",
       "Name: Complaints, dtype: float64"
      ]
     },
     "execution_count": 69,
     "metadata": {},
     "output_type": "execute_result"
    }
   ],
   "source": [
    "#See numerically what the strongest correlations are.\n",
    "AllForHeat[(AllForHeat['Complaints'].ge(0.05))|(AllForHeat['Complaints'].le(-0.05))]['Complaints'].sort_values(ascending=False)"
   ]
  },
  {
   "cell_type": "code",
   "execution_count": 70,
   "metadata": {},
   "outputs": [
    {
     "name": "stdout",
     "output_type": "stream",
     "text": [
      "NumFloors 0.2185036434019137 0.0\n",
      "ResidFAR 0.27915855254963007 0.0\n",
      "FacilFAR 0.2695561974780525 0.0\n",
      "Complaints 1.0 0.0\n"
     ]
    }
   ],
   "source": [
    "# Get the pearson correlations and confidence measures\n",
    "for col in df.columns:\n",
    "    pearson_coef, p_value = stats.pearsonr(df[col], df['Complaints'])\n",
    "    if abs(pearson_coef) > 0.20 and p_value < 0.10:\n",
    "        print(col, pearson_coef, p_value)"
   ]
  },
  {
   "cell_type": "markdown",
   "metadata": {},
   "source": [
    "<p style=\"color:Red;\">Not really any \"strong\" correlations, but some weak ones with high confidence.  Double check the details of a few of these.</p>"
   ]
  },
  {
   "cell_type": "code",
   "execution_count": 71,
   "metadata": {},
   "outputs": [
    {
     "name": "stdout",
     "output_type": "stream",
     "text": [
      "810525 110033 0.13575522038185128\n"
     ]
    }
   ],
   "source": [
    "# Address correlates?  Why?\n",
    "total = df.shape[0]\n",
    "complainers = df[df['Complaints'].eq(1)].shape[0]\n",
    "print (total, complainers, complainers / total)"
   ]
  },
  {
   "cell_type": "markdown",
   "metadata": {},
   "source": [
    "<p style=\"color:Red;\">I think address correlates just because each address either had a complaint or not, so the correlation is about the same as the percentage that had a complaint.  Also, question 2 already narrowed it down geographically so I'm going to dismiss this \"correlation\" as not relevant to the question at hand.  To a lesser extent the X Coordinate and ZIP code are in the same boat, though there may be a higher (but still very low) correlation than there is with address.</p>"
   ]
  },
  {
   "cell_type": "code",
   "execution_count": 72,
   "metadata": {},
   "outputs": [
    {
     "name": "stdout",
     "output_type": "stream",
     "text": [
      "810525 700492 0.8642447796181487\n"
     ]
    }
   ],
   "source": [
    "#YearAlter1 correlates?  Why?\n",
    "total = df.shape[0]\n",
    "never_altered = df[df['Complaints'].eq(0)].shape[0]\n",
    "print (total, never_altered, never_altered / total)"
   ]
  },
  {
   "cell_type": "code",
   "execution_count": 73,
   "metadata": {},
   "outputs": [
    {
     "name": "stdout",
     "output_type": "stream",
     "text": [
      "YearAlter1 0.1124746248682413 0.0\n",
      "Complaints 1.0 0.0\n",
      "0 -0.1131084098730802 0.0\n",
      "1986 0.055983903490951226 0.0\n",
      "1987 0.06345844653483688 0.0\n",
      "1988 0.06592333362010831 0.0\n"
     ]
    }
   ],
   "source": [
    "#Alteration year - take a closer look.\n",
    "alterations = df[['YearAlter1','Complaints']]\n",
    "alterations = pd.concat([alterations, pd.get_dummies(alterations['YearAlter1'])], axis=1)\n",
    "for col in alterations.columns:\n",
    "    pearson_coef, p_value = stats.pearsonr(alterations[col], alterations['Complaints'])\n",
    "    if abs(pearson_coef) > 0.05 and p_value < 0.10:\n",
    "        print(col, pearson_coef, p_value)"
   ]
  },
  {
   "cell_type": "markdown",
   "metadata": {},
   "source": [
    "<p style=\"color:Red;\">The only even mildly significant YearAlter1 correlations are between the observations where this field is zero, which is about 2/3 of the data.  My conclusion is that this is a factor of the high number of zeroes, causing the correlation to skew toward lower numbers, hence the lowest numbers, the zeroes themselves, are considered more correlated.</p>"
   ]
  },
  {
   "cell_type": "code",
   "execution_count": 74,
   "metadata": {},
   "outputs": [
    {
     "name": "stdout",
     "output_type": "stream",
     "text": [
      "YearBuilt -0.10507714326841693 0.0\n",
      "Complaints 1.0 0.0\n",
      "1900 0.0847446717657995 0.0\n",
      "1910 0.062409235390841054 0.0\n",
      "1926 0.06685168185282911 0.0\n",
      "1927 0.06651337090859968 0.0\n",
      "1928 0.07403302838782908 0.0\n",
      "1931 0.09997417216497549 0.0\n",
      "1940 -0.05032811534875334 0.0\n",
      "1950 -0.061680555757309 0.0\n"
     ]
    }
   ],
   "source": [
    "#Year built - take a closer look.\n",
    "alterations = df[['YearBuilt','Complaints']]\n",
    "alterations = pd.concat([alterations, pd.get_dummies(alterations['YearBuilt'])], axis=1)\n",
    "for col in alterations.columns:\n",
    "    pearson_coef, p_value = stats.pearsonr(alterations[col], alterations['Complaints'])\n",
    "    if abs(pearson_coef) > 0.05 and p_value < 0.10:\n",
    "        print(col, pearson_coef, p_value)"
   ]
  },
  {
   "cell_type": "markdown",
   "metadata": {},
   "source": [
    "<p style=\"color:Red;\">I was half expecting to see a trend where the complaints got worse or better with the age of the building, but it doesn't really look like that is the case, or if so, then it is more complicated than just the age of the building.  For example, there are no complaints for buildings built in the 1930's but that might just mean there were not many new buildings being constructed during the great depression.</p>"
   ]
  },
  {
   "cell_type": "code",
   "execution_count": 75,
   "metadata": {},
   "outputs": [
    {
     "name": "stdout",
     "output_type": "stream",
     "text": [
      "ResidFAR FacilFAR 0.8846472522160574 0.0\n",
      "ResidFAR BuiltFAR 0.10725362706492285 0.0\n",
      "FacilFAR BuiltFAR 0.10295852745927525 0.0\n"
     ]
    }
   ],
   "source": [
    "#check a few of these to see if they are different data points that capture the same relationship.\n",
    "def see_pearson(a,b):\n",
    "    pearson_coef, p_value = stats.pearsonr(df[a], df[b])\n",
    "    print(a, b, pearson_coef, p_value)\n",
    "see_pearson('ResidFAR','FacilFAR')\n",
    "see_pearson('ResidFAR','BuiltFAR')\n",
    "see_pearson('FacilFAR','BuiltFAR')"
   ]
  },
  {
   "cell_type": "markdown",
   "metadata": {},
   "source": [
    "<p style=\"color:Red;\">ResidFAR and FacilFAR are strongly correlated to each other.  The documentation suggests FAR is the \"Floor Area Ratio\" between the building and the LOT.  The Resid and Facility variations are about the same.  What they have in common is they are both \"not commercial\".</p>"
   ]
  },
  {
   "cell_type": "markdown",
   "metadata": {},
   "source": [
    "#### Visualize strongest Pearson correlations"
   ]
  },
  {
   "cell_type": "code",
   "execution_count": 76,
   "metadata": {
    "scrolled": true
   },
   "outputs": [
    {
     "data": {
      "image/png": "[encoded data removed]",
      "text/plain": [
       "<Figure size 576x216 with 1 Axes>"
      ]
     },
     "metadata": {
      "needs_background": "light"
     },
     "output_type": "display_data"
    }
   ],
   "source": [
    "#Visualize\n",
    "df.corr()['Complaints'].map(abs).plot(kind='bar', title='Correlation with heating complaints',figsize=(8,3))\n",
    "plt.xlabel('Building Characteristics'); plt.ylabel('Correlation')\n",
    "plt.show()"
   ]
  },
  {
   "cell_type": "markdown",
   "metadata": {},
   "source": [
    "<a id=\"conclusion\"></a>\n",
    "# Concluding Remarks\n",
    "---"
   ]
  },
  {
   "cell_type": "markdown",
   "metadata": {},
   "source": [
    "The HEATING/HOT WATER complaint types (Question 1) reported in the BRONX borough (question 2) have an obvious (though still somewhat weak) relationship with the following housing characteristics:\n",
    "<ul>\n",
    "<li>NumFloors (Number of Floors):  0.37 correlation.\n",
    "<li>ResidFAR (Maximum Allowable Residential Floor Area Ratio):  0.31 correlation.\n",
    "</ul>"
   ]
  },
  {
   "cell_type": "markdown",
   "metadata": {},
   "source": [
    "Additionally there are a few even weaker correlations to the following building characteristics:\n",
    "<ul>\n",
    "<li>BldgDepth (Building’s depth, which is the effective perpendicular distance):  0.23 correlation.\n",
    "<li>BldgArea (Total Building Floor Area):  0.07 correlation.\n",
    "<li>ResArea (Residential Floor Area):  0.08 correlation.\n",
    "</ul>"
   ]
  },
  {
   "cell_type": "markdown",
   "metadata": {},
   "source": [
    "So it appears to basically be the larger the building, and the more residential it is, the more heating complaints."
   ]
  }
 ],
 "metadata": {
  "kernelspec": {
   "display_name": "Python 3",
   "language": "python",
   "name": "python3"
  },
  "language_info": {
   "codemirror_mode": {
    "name": "ipython",
    "version": 3
   },
   "file_extension": ".py",
   "mimetype": "text/x-python",
   "name": "python",
   "nbconvert_exporter": "python",
   "pygments_lexer": "ipython3",
   "version": "3.7.3"
  }
 },
 "nbformat": 4,
 "nbformat_minor": 1
}
