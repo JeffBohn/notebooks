{
 "cells": [
  {
   "cell_type": "code",
   "execution_count": 85,
   "metadata": {},
   "outputs": [],
   "source": [
    "#Higher order polynomials\n",
    "\n",
    "#Underfitting:  The model doesn't have the same curves as the data.\n",
    "#Overfitting:  The model has extra curves just to hit specific data, but \n",
    "#  will start to not work as well in areas of missing data.\n",
    "\n",
    "#The training data will have a decreasing training error as the order of the polynomial increases.\n",
    "#Because the model will fit the training data better and better.\n",
    "\n",
    "#The testing error will decrease as the model is better, but will start to rise again if \n",
    "#  it starts to get over-fitted to the test data.\n",
    "\n",
    "#So graph the training error and test error to see where they are both lowest."
   ]
  },
  {
   "cell_type": "code",
   "execution_count": 86,
   "metadata": {},
   "outputs": [],
   "source": [
    "import pandas as pd\n",
    "import numpy as np\n",
    "from sklearn.model_selection import train_test_split\n",
    "from sklearn.linear_model import LinearRegression\n",
    "from sklearn.model_selection import cross_val_score\n",
    "from sklearn.model_selection import cross_val_predict\n",
    "from sklearn.preprocessing import PolynomialFeatures\n",
    "from sklearn.metrics import mean_squared_error\n",
    "%matplotlib inline\n",
    "from matplotlib import pyplot as plt"
   ]
  },
  {
   "cell_type": "code",
   "execution_count": 87,
   "metadata": {},
   "outputs": [],
   "source": [
    "df = pd.read_csv(\"wrangled_auto.csv\")\n",
    "\n",
    "Criteria = ['horsepower', 'highway-mpg']\n",
    "\n",
    "Y=df['price']\n",
    "#X=df[['horsepower', 'curb-weight', 'engine-size', 'highway-mpg']]\n",
    "X=df[Criteria]\n",
    "#print(df.columns)\n",
    "\n",
    "x_train, x_test, y_train, y_test = train_test_split(X, Y, test_size=0.3, random_state=0) #random_state is a random seed."
   ]
  },
  {
   "cell_type": "code",
   "execution_count": 88,
   "metadata": {},
   "outputs": [],
   "source": [
    "#print(y_test)"
   ]
  },
  {
   "cell_type": "markdown",
   "metadata": {},
   "source": [
    "R Squared checking of various orders"
   ]
  },
  {
   "cell_type": "code",
   "execution_count": 89,
   "metadata": {},
   "outputs": [],
   "source": [
    "Rsqu_test=[]\n",
    "Rsqu_train=[]\n",
    "\n",
    "order=[1,2,3,4,5,6]\n",
    "\n",
    "lr = LinearRegression()\n",
    "\n",
    "for n in order:\n",
    "    pr=PolynomialFeatures(degree=n, include_bias=False)\n",
    "    x_train_pr=pr.fit_transform(x_train[Criteria])\n",
    "    x_test_pr=pr.fit_transform(x_test[Criteria])\n",
    "    lr.fit(x_train_pr,y_train)\n",
    "    Rsqu_test.append(lr.score(x_test_pr,y_test))\n",
    "    Rsqu_train.append(lr.score(x_train_pr,y_train))"
   ]
  },
  {
   "cell_type": "code",
   "execution_count": 90,
   "metadata": {},
   "outputs": [
    {
     "name": "stdout",
     "output_type": "stream",
     "text": [
      "[0.6805258729035923, 0.5816587359147349, 0.6848736157403243, -0.12485402245448339, -23.84094457931444, -35.97194209394575]\n"
     ]
    }
   ],
   "source": [
    "print(Rsqu_test)"
   ]
  },
  {
   "cell_type": "code",
   "execution_count": 91,
   "metadata": {},
   "outputs": [
    {
     "name": "stdout",
     "output_type": "stream",
     "text": [
      "[0.6174603890089526, 0.735227496471596, 0.7474555108288512, 0.7753861122593638, 0.8616899513592143, 0.8643892425571795]\n"
     ]
    }
   ],
   "source": [
    "print(Rsqu_train)"
   ]
  },
  {
   "cell_type": "markdown",
   "metadata": {},
   "source": [
    "<h2>Test error vs training error</h2>"
   ]
  },
  {
   "cell_type": "code",
   "execution_count": 93,
   "metadata": {},
   "outputs": [
    {
     "data": {
      "image/png": "[encoded data removed]",
      "text/plain": [
       "<Figure size 432x288 with 1 Axes>"
      ]
     },
     "metadata": {
      "needs_background": "light"
     },
     "output_type": "display_data"
    }
   ],
   "source": [
    "plt.title(\"Comparing margins of error.  Test r2 vs training r2\")\n",
    "plt.plot(order, Rsqu_test, label=\"test\")\n",
    "plt.plot(order, Rsqu_train, label=\"train\")\n",
    "plt.legend()\n",
    "plt.ylim(0,1)\n",
    "plt.xlabel('Order')\n",
    "plt.ylabel('Error R2')\n",
    "plt.show()"
   ]
  },
  {
   "cell_type": "markdown",
   "metadata": {},
   "source": [
    "<h2>Analysis</h2>"
   ]
  },
  {
   "cell_type": "markdown",
   "metadata": {},
   "source": [
    "Since R2 approaching one means the best fit, it shows that the training set gets better and better the higher order the polynomial, as it is getting increasingly better fit, eventually being \"over-fit\"."
   ]
  },
  {
   "cell_type": "markdown",
   "metadata": {},
   "source": [
    "Applying the same model on the test set shows mediocre increasing to good results orders 1 thru 3 as the model becomes generally better for all data.  Then becomes much worse after that, as the model starts to become over-fit to the training data and thus starts to work more poorly on the test data."
   ]
  },
  {
   "cell_type": "markdown",
   "metadata": {},
   "source": [
    "<h2>Conclusion</h2>"
   ]
  },
  {
   "cell_type": "markdown",
   "metadata": {},
   "source": [
    "The model is underfitted before 3 and overfitted after 3"
   ]
  },
  {
   "cell_type": "code",
   "execution_count": null,
   "metadata": {},
   "outputs": [],
   "source": []
  }
 ],
 "metadata": {
  "kernelspec": {
   "display_name": "Python 3",
   "language": "python",
   "name": "python3"
  },
  "language_info": {
   "codemirror_mode": {
    "name": "ipython",
    "version": 3
   },
   "file_extension": ".py",
   "mimetype": "text/x-python",
   "name": "python",
   "nbconvert_exporter": "python",
   "pygments_lexer": "ipython3",
   "version": "3.7.3"
  }
 },
 "nbformat": 4,
 "nbformat_minor": 2
}
