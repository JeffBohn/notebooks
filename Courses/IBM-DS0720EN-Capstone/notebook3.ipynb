{
 "cells": [
  {
   "cell_type": "markdown",
   "metadata": {},
   "source": [
    "<h1 style=\"text-align:center\">Data Science and Machine Learning Capstone Project</h1>\n",
    "<img style=\"float:right\" src=\"https://prod-edxapp.edx-cdn.org/static/edx.org/images/logo.790c9a5340cb.png\">\n",
    "<p style=\"text-align:center\">IBM: DS0720EN</p>\n",
    "<p style=\"text-align:center\">Question 3 of 4</p>"
   ]
  },
  {
   "cell_type": "markdown",
   "metadata": {},
   "source": [
    "1. [Problem Statement](#problem)\n",
    "2. [Question 3](#question)\n",
    "3. [Data Cleaning and Standardization](#wrangling)\n",
    "4. [Analyzing and Visualizing](#analysis)\n",
    "5. [Concluding Remarks](#conclusion)"
   ]
  },
  {
   "cell_type": "markdown",
   "metadata": {},
   "source": [
    "<a id=\"problem\"></a>\n",
    "# Problem Statement\n",
    "---"
   ]
  },
  {
   "cell_type": "markdown",
   "metadata": {},
   "source": [
    "The people of New York use the 311 system to report complaints about the non-emergency problems to local authorities. Various agencies in New York are assigned these problems. The Department of Housing Preservation and Development of New York City is the agency that processes 311 complaints that are related to housing and buildings.\n",
    "\n",
    "In the last few years, the number of 311 complaints coming to the Department of Housing Preservation and Development has increased significantly. Although these complaints are not necessarily urgent, the large volume of complaints and the sudden increase is impacting the overall efficiency of operations of the agency.\n",
    "\n",
    "Therefore, the Department of Housing Preservation and Development has approached your organization to help them manage the large volume of 311 complaints they are receiving every year.\n",
    "\n",
    "The agency needs answers to several questions. The answers to those questions must be supported by data and analytics. These are their  questions:"
   ]
  },
  {
   "cell_type": "markdown",
   "metadata": {},
   "source": [
    "<a id=\"question\"></a>\n",
    "# Question 3\n",
    "---"
   ]
  },
  {
   "cell_type": "markdown",
   "metadata": {},
   "source": [
    "Does the Complaint Type that you identified in response to Question 1 have an obvious relationship with any particular characteristic or characteristic of the Houses?"
   ]
  },
  {
   "cell_type": "markdown",
   "metadata": {},
   "source": [
    "## Approach\n",
    "Determine whether or not there are any correlations between the building characteristics of buildings that experienced HEAT/HOT WATER complaints (from Question 1) relative to the building characteristics of all buildings in the PLUTO house database."
   ]
  },
  {
   "cell_type": "markdown",
   "metadata": {},
   "source": [
    "## Load Data\n",
    "Separately from this notebook:\n",
    "\n",
    "The [New York 311](https://data.cityofnewyork.us/Social-Services/311-Service-Requests-from-2010-to-Present/erm2-nwe9) data was loaded by [SODA](https://data.cityofnewyork.us/resource/fhrw-4uyv.csv?$limit=100000000&Agency=HPD&$select=created_date,unique_key,complaint_type,incident_zip,incident_address,street_name,address_type,city,resolution_description,borough,latitude,longitude,closed_date,location_type,status) into a Pandas DataFrame then saved to a pickle file.\n",
    "\n",
    "The [New York PLUTO](https://data.cityofnewyork.us/City-Government/Primary-Land-Use-Tax-Lot-Output-PLUTO-/xuk2-nczf) data was downloaded.  The instructions at ( Course / 1. Project Challenge Details and Setup / Datasets Used in this Course / Datasets ) said \"Use only the part that is specific to the borough that you are interested in based on your analysis.\"  My answer for Question 2 suggested the borough with the biggest HEAT/HOT WATER problem was BRONX.  For that reason, only the BX_18v1.csv file was loaded into a Pandas DataFrame then saved to a pickle file"
   ]
  },
  {
   "cell_type": "code",
   "execution_count": 1,
   "metadata": {},
   "outputs": [],
   "source": [
    "import pandas as pd\n",
    "import numpy as np\n",
    "%matplotlib inline\n",
    "from matplotlib import pyplot as plt\n",
    "from sklearn.preprocessing import StandardScaler\n",
    "from sklearn.preprocessing import MinMaxScaler\n",
    "import scipy.stats as stats\n",
    "import seaborn as sns\n",
    "from sklearn.model_selection import train_test_split\n",
    "from sklearn.linear_model import LinearRegression\n",
    "from sklearn import linear_model\n",
    "from sklearn.metrics import jaccard_score, classification_report, log_loss, confusion_matrix\n",
    "\n",
    "files_path = 'C:\\\\Users\\\\It_Co\\\\Documents\\\\DataScience\\\\Capstone\\\\' #local\n",
    "#files_path = './' #IBM Cloud / Watson Studio"
   ]
  },
  {
   "cell_type": "code",
   "execution_count": 2,
   "metadata": {
    "scrolled": true
   },
   "outputs": [
    {
     "name": "stdout",
     "output_type": "stream",
     "text": [
      "NY 311 shape (5862383, 15)\n",
      "PLUTO shape (89854, 20)\n"
     ]
    }
   ],
   "source": [
    "b311 = pd.read_pickle(files_path + 'ny311full.pkl')\n",
    "\n",
    "#file_columns = ['Address','BldgArea','BldgDepth','BuiltFAR','CommFAR','FacilFAR','Lot','LotArea','LotDepth','NumBldgs','NumFloors','OfficeArea','ResArea','ResidFAR','RetailArea','YearBuilt','YearAlter1','ZipCode', 'YCoord', 'XCoord']\n",
    "#df = pd.read_csv(files_path + 'BX_18v1.csv', usecols=file_columns)\n",
    "#df = pd.concat([df, pd.read_csv(files_path + 'BK_18v1.csv', usecols=file_columns)])\n",
    "#df = pd.concat([df, pd.read_csv(files_path + 'MN_18v1.csv', usecols=file_columns)])\n",
    "#df = pd.concat([df, pd.read_csv(files_path + 'QN_18v1.csv', usecols=file_columns)])\n",
    "#df = pd.concat([df, pd.read_csv(files_path + 'SI_18v1.csv', usecols=file_columns)])\n",
    "#df.to_pickle(files_path + 'q3.pkl')\n",
    "\n",
    "df = pd.read_pickle(files_path + 'q3.pkl')\n",
    "\n",
    "print(\"NY 311 shape %s\" % (b311.shape,))\n",
    "print(\"PLUTO shape %s\" % (df.shape,))"
   ]
  },
  {
   "cell_type": "markdown",
   "metadata": {},
   "source": [
    "<a id=\"wrangling\"></a>\n",
    "# Data Cleaning and Standardization\n",
    "---"
   ]
  },
  {
   "cell_type": "markdown",
   "metadata": {},
   "source": [
    "Correct or remove observations with missing or malformed data.  The 311 and the PLUTO data sets will need to be \"joined\" together by the common \"address\" element, which means the addresses will need to be standardized to a consistent layout to allow the addresses to be compared consistently."
   ]
  },
  {
   "cell_type": "markdown",
   "metadata": {},
   "source": [
    "## NY 311"
   ]
  },
  {
   "cell_type": "markdown",
   "metadata": {},
   "source": [
    "### General"
   ]
  },
  {
   "cell_type": "code",
   "execution_count": 3,
   "metadata": {},
   "outputs": [],
   "source": [
    "#Remove columns deemed unnecessary for this question.\n",
    "b311.drop(['created_date','street_name','address_type','resolution_description','closed_date','location_type','status','unique_key','latitude','longitude'], axis=1, inplace=True)\n",
    "#Only use the combined \"heating and hot water\" complaints determined from Question 1.\n",
    "b311['complaint_type'] = b311['complaint_type'].str.upper()\n",
    "b311.drop(b311[b311[\"complaint_type\"].isin([\"HEAT/HOT WATER\",\"HEATING\"])==False].index, axis=0, inplace=True)\n",
    "b311.reset_index(drop=True, inplace=True)\n",
    "#Adjust all relevant strings to uppercase so different casing won't appear as separate values.\n",
    "b311['incident_address'] = b311['incident_address'].str.upper()\n",
    "b311['city'] = b311['city'].str.upper()\n",
    "b311['borough'] = b311['borough'].str.upper()"
   ]
  },
  {
   "cell_type": "code",
   "execution_count": 4,
   "metadata": {},
   "outputs": [
    {
     "name": "stdout",
     "output_type": "stream",
     "text": [
      "shape (2040461, 5)\n",
      "--nulls below--\n",
      "complaint_type          0\n",
      "incident_zip        18970\n",
      "incident_address        1\n",
      "city                18843\n",
      "borough                 0\n",
      "dtype: int64\n",
      "--types below--\n",
      "complaint_type       object\n",
      "incident_zip        float64\n",
      "incident_address     object\n",
      "city                 object\n",
      "borough              object\n",
      "dtype: object\n"
     ]
    },
    {
     "data": {
      "text/html": [
       "<div>\n",
       "<style scoped>\n",
       "    .dataframe tbody tr th:only-of-type {\n",
       "        vertical-align: middle;\n",
       "    }\n",
       "\n",
       "    .dataframe tbody tr th {\n",
       "        vertical-align: top;\n",
       "    }\n",
       "\n",
       "    .dataframe thead th {\n",
       "        text-align: right;\n",
       "    }\n",
       "</style>\n",
       "<table border=\"1\" class=\"dataframe\">\n",
       "  <thead>\n",
       "    <tr style=\"text-align: right;\">\n",
       "      <th></th>\n",
       "      <th>complaint_type</th>\n",
       "      <th>incident_zip</th>\n",
       "      <th>incident_address</th>\n",
       "      <th>city</th>\n",
       "      <th>borough</th>\n",
       "    </tr>\n",
       "  </thead>\n",
       "  <tbody>\n",
       "    <tr>\n",
       "      <th>0</th>\n",
       "      <td>HEAT/HOT WATER</td>\n",
       "      <td>11233.0</td>\n",
       "      <td>1711 FULTON STREET</td>\n",
       "      <td>BROOKLYN</td>\n",
       "      <td>BROOKLYN</td>\n",
       "    </tr>\n",
       "    <tr>\n",
       "      <th>1</th>\n",
       "      <td>HEAT/HOT WATER</td>\n",
       "      <td>10457.0</td>\n",
       "      <td>4487 3 AVENUE</td>\n",
       "      <td>BRONX</td>\n",
       "      <td>BRONX</td>\n",
       "    </tr>\n",
       "    <tr>\n",
       "      <th>2</th>\n",
       "      <td>HEAT/HOT WATER</td>\n",
       "      <td>11204.0</td>\n",
       "      <td>6802 18 AVENUE</td>\n",
       "      <td>BROOKLYN</td>\n",
       "      <td>BROOKLYN</td>\n",
       "    </tr>\n",
       "    <tr>\n",
       "      <th>3</th>\n",
       "      <td>HEAT/HOT WATER</td>\n",
       "      <td>10031.0</td>\n",
       "      <td>620 WEST  141 STREET</td>\n",
       "      <td>NEW YORK</td>\n",
       "      <td>MANHATTAN</td>\n",
       "    </tr>\n",
       "    <tr>\n",
       "      <th>4</th>\n",
       "      <td>HEAT/HOT WATER</td>\n",
       "      <td>10032.0</td>\n",
       "      <td>527 WEST  162 STREET</td>\n",
       "      <td>NEW YORK</td>\n",
       "      <td>MANHATTAN</td>\n",
       "    </tr>\n",
       "  </tbody>\n",
       "</table>\n",
       "</div>"
      ],
      "text/plain": [
       "   complaint_type  incident_zip      incident_address      city    borough\n",
       "0  HEAT/HOT WATER       11233.0    1711 FULTON STREET  BROOKLYN   BROOKLYN\n",
       "1  HEAT/HOT WATER       10457.0         4487 3 AVENUE     BRONX      BRONX\n",
       "2  HEAT/HOT WATER       11204.0        6802 18 AVENUE  BROOKLYN   BROOKLYN\n",
       "3  HEAT/HOT WATER       10031.0  620 WEST  141 STREET  NEW YORK  MANHATTAN\n",
       "4  HEAT/HOT WATER       10032.0  527 WEST  162 STREET  NEW YORK  MANHATTAN"
      ]
     },
     "execution_count": 4,
     "metadata": {},
     "output_type": "execute_result"
    }
   ],
   "source": [
    "#Print some initial information for comparison during later steps.\n",
    "print(\"shape %s\" % str(b311.shape))\n",
    "print(\"--nulls below--\")\n",
    "print(b311.isnull().sum())\n",
    "print(\"--types below--\")\n",
    "print(b311.dtypes)\n",
    "b311.head()"
   ]
  },
  {
   "cell_type": "markdown",
   "metadata": {},
   "source": [
    "### Standardize Borough\n",
    "Leveraging findings found while standardizing during Question 2."
   ]
  },
  {
   "cell_type": "code",
   "execution_count": 5,
   "metadata": {},
   "outputs": [
    {
     "data": {
      "text/plain": [
       "BRONX            569960\n",
       "BROOKLYN         543166\n",
       "MANHATTAN        398552\n",
       "UNSPECIFIED      282917\n",
       "QUEENS           228447\n",
       "STATEN ISLAND     17419\n",
       "Name: borough, dtype: int64"
      ]
     },
     "execution_count": 5,
     "metadata": {},
     "output_type": "execute_result"
    }
   ],
   "source": [
    "b311['borough'].value_counts()"
   ]
  },
  {
   "cell_type": "code",
   "execution_count": 6,
   "metadata": {},
   "outputs": [],
   "source": [
    "#Correct rows where borough was entered in the city column with \"UNSPECIFIED\" in the borough column.\n",
    "five_boroughs = [\"BROOKLYN\",\"BRONX\",\"MANHATTAN\",\"QUEENS\",\"STATEN ISLAND\"]\n",
    "which_rows_to_adjust = b311[(b311[\"borough\"]=='UNSPECIFIED')&b311[\"city\"].isin(five_boroughs)].index\n",
    "b311.loc[which_rows_to_adjust,'borough']=b311.loc[which_rows_to_adjust,'city']\n",
    "b311.loc[which_rows_to_adjust,'city']=np.nan\n",
    "#Drop a few rows of ambiguous data.\n",
    "b311.drop(b311[(b311[\"borough\"]=='MANHATTAN')&(b311[\"city\"]=='BRONX')].index, axis=0, inplace=True)\n",
    "b311.reset_index(drop=True, inplace=True)\n",
    "#Fill in UNSPECIFIED borough when city was entered as NEW YORK.\n",
    "which_rows_to_adjust = b311[(b311[\"borough\"]=='UNSPECIFIED')&(b311[\"city\"]=='NEW YORK')].index\n",
    "b311.loc[which_rows_to_adjust,'borough']=\"MANHATTAN\"\n",
    "b311.loc[which_rows_to_adjust,'city']=np.nan\n",
    "#Although the city for most of the \"NEW YORK\" ones are the only ones that technically got the \"city\" column valued correctly,\n",
    "#since every other row uses city as \"neighborhood\":  Standardize these.\n",
    "which_rows_to_adjust = b311[(b311[\"city\"]=='NEW YORK')].index\n",
    "b311.loc[which_rows_to_adjust,'city']=np.nan\n",
    "#Any still unspecified boroughs with a value in \"city\" are in the Queens borough.  The \"city\" is actually a \"neighborhood\".\n",
    "queens_neighborhoods = b311[(b311['borough']=='UNSPECIFIED')&(b311['city'].isnull()==False)]['city'].unique()\n",
    "#Standardize borough for Queens neighborhoods.\n",
    "which_rows_to_adjust = b311[(b311[\"borough\"]=='UNSPECIFIED')&b311[\"city\"].isin(queens_neighborhoods)].index\n",
    "b311.loc[which_rows_to_adjust,'borough']=\"QUEENS\"\n",
    "#Null the borough if it still shows up as unspecified borough as there is no other information from which to derive it.\n",
    "which_rows_to_adjust = b311[(b311[\"borough\"]=='UNSPECIFIED')&b311[\"city\"].isnull()].index\n",
    "b311.loc[which_rows_to_adjust,'borough']=np.nan"
   ]
  },
  {
   "cell_type": "code",
   "execution_count": 7,
   "metadata": {},
   "outputs": [
    {
     "data": {
      "text/plain": [
       "BRONX            658545\n",
       "BROOKLYN         636554\n",
       "MANHATTAN        457638\n",
       "QUEENS           266565\n",
       "STATEN ISLAND     20881\n",
       "Name: borough, dtype: int64"
      ]
     },
     "execution_count": 7,
     "metadata": {},
     "output_type": "execute_result"
    }
   ],
   "source": [
    "b311['borough'].value_counts()"
   ]
  },
  {
   "cell_type": "markdown",
   "metadata": {},
   "source": [
    "### Filter NY 311 data by borough to only include BRONX\n",
    "The instructions at ( Course / 1. Project Challenge Details and Setup / Datasets Used in this Course / Datasets ) said \"Use only the part that is specific to the borough that you are interested in based on your analysis.\"  My answer for Question 2 suggested the borough with the biggest HEAT/HOT WATER problem was BRONX.  For that reason, I am only considering the BRONX data."
   ]
  },
  {
   "cell_type": "code",
   "execution_count": 8,
   "metadata": {},
   "outputs": [
    {
     "data": {
      "text/plain": [
       "BRONX    658545\n",
       "Name: borough, dtype: int64"
      ]
     },
     "execution_count": 8,
     "metadata": {},
     "output_type": "execute_result"
    }
   ],
   "source": [
    "b311.drop(b311[(b311[\"borough\"]!='BRONX')].index, axis=0, inplace=True)\n",
    "b311.reset_index(drop=True, inplace=True)\n",
    "b311['borough'].value_counts()"
   ]
  },
  {
   "cell_type": "markdown",
   "metadata": {},
   "source": [
    "### Remove unnecessary columns\n",
    "These were only necessary to standardize and then filter by borough."
   ]
  },
  {
   "cell_type": "code",
   "execution_count": 9,
   "metadata": {},
   "outputs": [
    {
     "name": "stdout",
     "output_type": "stream",
     "text": [
      "(658545, 3)\n",
      "complaint_type         0\n",
      "incident_zip        5957\n",
      "incident_address       1\n",
      "dtype: int64\n"
     ]
    },
    {
     "data": {
      "text/html": [
       "<div>\n",
       "<style scoped>\n",
       "    .dataframe tbody tr th:only-of-type {\n",
       "        vertical-align: middle;\n",
       "    }\n",
       "\n",
       "    .dataframe tbody tr th {\n",
       "        vertical-align: top;\n",
       "    }\n",
       "\n",
       "    .dataframe thead th {\n",
       "        text-align: right;\n",
       "    }\n",
       "</style>\n",
       "<table border=\"1\" class=\"dataframe\">\n",
       "  <thead>\n",
       "    <tr style=\"text-align: right;\">\n",
       "      <th></th>\n",
       "      <th>complaint_type</th>\n",
       "      <th>incident_zip</th>\n",
       "      <th>incident_address</th>\n",
       "    </tr>\n",
       "  </thead>\n",
       "  <tbody>\n",
       "    <tr>\n",
       "      <th>0</th>\n",
       "      <td>HEAT/HOT WATER</td>\n",
       "      <td>10457.0</td>\n",
       "      <td>4487 3 AVENUE</td>\n",
       "    </tr>\n",
       "    <tr>\n",
       "      <th>1</th>\n",
       "      <td>HEAT/HOT WATER</td>\n",
       "      <td>10467.0</td>\n",
       "      <td>3414 KNOX PLACE</td>\n",
       "    </tr>\n",
       "    <tr>\n",
       "      <th>2</th>\n",
       "      <td>HEAT/HOT WATER</td>\n",
       "      <td>10473.0</td>\n",
       "      <td>2025 SEWARD AVENUE</td>\n",
       "    </tr>\n",
       "  </tbody>\n",
       "</table>\n",
       "</div>"
      ],
      "text/plain": [
       "   complaint_type  incident_zip    incident_address\n",
       "0  HEAT/HOT WATER       10457.0       4487 3 AVENUE\n",
       "1  HEAT/HOT WATER       10467.0     3414 KNOX PLACE\n",
       "2  HEAT/HOT WATER       10473.0  2025 SEWARD AVENUE"
      ]
     },
     "execution_count": 9,
     "metadata": {},
     "output_type": "execute_result"
    }
   ],
   "source": [
    "#Remove columns no longer necessary\n",
    "b311.drop(['borough','city'], axis=1, inplace=True)\n",
    "print(b311.shape)\n",
    "print(b311.isnull().sum())\n",
    "b311.head(3)"
   ]
  },
  {
   "cell_type": "code",
   "execution_count": 10,
   "metadata": {},
   "outputs": [
    {
     "name": "stdout",
     "output_type": "stream",
     "text": [
      "complaint_type         0\n",
      "incident_zip        5956\n",
      "incident_address       0\n",
      "dtype: int64\n"
     ]
    },
    {
     "data": {
      "text/plain": [
       "3810 BAILEY AVENUE          7112\n",
       "1025 BOYNTON AVENUE         5773\n",
       "2090 EAST TREMONT AVENUE    3748\n",
       "888 GRAND CONCOURSE         3211\n",
       "2968 PERRY AVENUE           2830\n",
       "Name: incident_address, dtype: int64"
      ]
     },
     "execution_count": 10,
     "metadata": {},
     "output_type": "execute_result"
    }
   ],
   "source": [
    "# Drop observations with missing address as there will be no way to tie them to any PLUTO data.\n",
    "b311.dropna(subset=['incident_address'], axis=0, inplace=True)\n",
    "b311.reset_index(drop=True, inplace=True)\n",
    "print(b311.isnull().sum())\n",
    "b311['incident_address'].value_counts().head()"
   ]
  },
  {
   "cell_type": "markdown",
   "metadata": {},
   "source": [
    "## BRONX PLUTO"
   ]
  },
  {
   "cell_type": "code",
   "execution_count": 11,
   "metadata": {},
   "outputs": [
    {
     "name": "stdout",
     "output_type": "stream",
     "text": [
      "shape (89854, 20)\n",
      "---isnull follows---\n",
      "Lot              0\n",
      "ZipCode        329\n",
      "Address         69\n",
      "LotArea          0\n",
      "BldgArea         0\n",
      "ResArea          0\n",
      "OfficeArea       0\n",
      "RetailArea       0\n",
      "NumBldgs         0\n",
      "NumFloors        0\n",
      "LotDepth         0\n",
      "BldgDepth        0\n",
      "YearBuilt        0\n",
      "YearAlter1       0\n",
      "BuiltFAR         0\n",
      "ResidFAR         0\n",
      "CommFAR          0\n",
      "FacilFAR         0\n",
      "XCoord        3259\n",
      "YCoord        3259\n",
      "dtype: int64\n"
     ]
    },
    {
     "data": {
      "text/html": [
       "<div>\n",
       "<style scoped>\n",
       "    .dataframe tbody tr th:only-of-type {\n",
       "        vertical-align: middle;\n",
       "    }\n",
       "\n",
       "    .dataframe tbody tr th {\n",
       "        vertical-align: top;\n",
       "    }\n",
       "\n",
       "    .dataframe thead th {\n",
       "        text-align: right;\n",
       "    }\n",
       "</style>\n",
       "<table border=\"1\" class=\"dataframe\">\n",
       "  <thead>\n",
       "    <tr style=\"text-align: right;\">\n",
       "      <th></th>\n",
       "      <th>Lot</th>\n",
       "      <th>ZipCode</th>\n",
       "      <th>Address</th>\n",
       "      <th>LotArea</th>\n",
       "      <th>BldgArea</th>\n",
       "      <th>ResArea</th>\n",
       "      <th>OfficeArea</th>\n",
       "      <th>RetailArea</th>\n",
       "      <th>NumBldgs</th>\n",
       "      <th>NumFloors</th>\n",
       "      <th>LotDepth</th>\n",
       "      <th>BldgDepth</th>\n",
       "      <th>YearBuilt</th>\n",
       "      <th>YearAlter1</th>\n",
       "      <th>BuiltFAR</th>\n",
       "      <th>ResidFAR</th>\n",
       "      <th>CommFAR</th>\n",
       "      <th>FacilFAR</th>\n",
       "      <th>XCoord</th>\n",
       "      <th>YCoord</th>\n",
       "    </tr>\n",
       "  </thead>\n",
       "  <tbody>\n",
       "    <tr>\n",
       "      <th>0</th>\n",
       "      <td>1</td>\n",
       "      <td>10454.0</td>\n",
       "      <td>122 BRUCKNER BOULEVARD</td>\n",
       "      <td>15000</td>\n",
       "      <td>0</td>\n",
       "      <td>0</td>\n",
       "      <td>0</td>\n",
       "      <td>0</td>\n",
       "      <td>1</td>\n",
       "      <td>0.0</td>\n",
       "      <td>200.0</td>\n",
       "      <td>0.0</td>\n",
       "      <td>0</td>\n",
       "      <td>0</td>\n",
       "      <td>0.00</td>\n",
       "      <td>6.02</td>\n",
       "      <td>5.0</td>\n",
       "      <td>6.5</td>\n",
       "      <td>1005957.0</td>\n",
       "      <td>232162.0</td>\n",
       "    </tr>\n",
       "    <tr>\n",
       "      <th>1</th>\n",
       "      <td>4</td>\n",
       "      <td>10454.0</td>\n",
       "      <td>126 BRUCKNER BOULEVARD</td>\n",
       "      <td>13770</td>\n",
       "      <td>752</td>\n",
       "      <td>0</td>\n",
       "      <td>272</td>\n",
       "      <td>0</td>\n",
       "      <td>2</td>\n",
       "      <td>1.0</td>\n",
       "      <td>100.0</td>\n",
       "      <td>16.0</td>\n",
       "      <td>1931</td>\n",
       "      <td>1994</td>\n",
       "      <td>0.05</td>\n",
       "      <td>6.02</td>\n",
       "      <td>5.0</td>\n",
       "      <td>6.5</td>\n",
       "      <td>1006076.0</td>\n",
       "      <td>232156.0</td>\n",
       "    </tr>\n",
       "    <tr>\n",
       "      <th>2</th>\n",
       "      <td>10</td>\n",
       "      <td>10454.0</td>\n",
       "      <td>138 BRUCKNER BOULEVARD</td>\n",
       "      <td>35000</td>\n",
       "      <td>39375</td>\n",
       "      <td>0</td>\n",
       "      <td>0</td>\n",
       "      <td>0</td>\n",
       "      <td>1</td>\n",
       "      <td>2.0</td>\n",
       "      <td>200.0</td>\n",
       "      <td>200.0</td>\n",
       "      <td>1931</td>\n",
       "      <td>0</td>\n",
       "      <td>1.13</td>\n",
       "      <td>6.02</td>\n",
       "      <td>5.0</td>\n",
       "      <td>6.5</td>\n",
       "      <td>1006187.0</td>\n",
       "      <td>232036.0</td>\n",
       "    </tr>\n",
       "    <tr>\n",
       "      <th>3</th>\n",
       "      <td>17</td>\n",
       "      <td>10454.0</td>\n",
       "      <td>144 BRUCKNER BOULEVARD</td>\n",
       "      <td>2500</td>\n",
       "      <td>12500</td>\n",
       "      <td>12500</td>\n",
       "      <td>0</td>\n",
       "      <td>0</td>\n",
       "      <td>1</td>\n",
       "      <td>5.0</td>\n",
       "      <td>100.0</td>\n",
       "      <td>85.0</td>\n",
       "      <td>1931</td>\n",
       "      <td>2001</td>\n",
       "      <td>5.00</td>\n",
       "      <td>6.02</td>\n",
       "      <td>5.0</td>\n",
       "      <td>6.5</td>\n",
       "      <td>1006299.0</td>\n",
       "      <td>232033.0</td>\n",
       "    </tr>\n",
       "    <tr>\n",
       "      <th>4</th>\n",
       "      <td>18</td>\n",
       "      <td>10454.0</td>\n",
       "      <td>148 BRUCKNER BOULEVARD</td>\n",
       "      <td>1875</td>\n",
       "      <td>8595</td>\n",
       "      <td>6876</td>\n",
       "      <td>0</td>\n",
       "      <td>1719</td>\n",
       "      <td>1</td>\n",
       "      <td>5.0</td>\n",
       "      <td>75.0</td>\n",
       "      <td>70.0</td>\n",
       "      <td>1920</td>\n",
       "      <td>2009</td>\n",
       "      <td>4.58</td>\n",
       "      <td>6.02</td>\n",
       "      <td>5.0</td>\n",
       "      <td>6.5</td>\n",
       "      <td>1006363.0</td>\n",
       "      <td>232040.0</td>\n",
       "    </tr>\n",
       "  </tbody>\n",
       "</table>\n",
       "</div>"
      ],
      "text/plain": [
       "   Lot  ZipCode                 Address  LotArea  BldgArea  ResArea  \\\n",
       "0    1  10454.0  122 BRUCKNER BOULEVARD    15000         0        0   \n",
       "1    4  10454.0  126 BRUCKNER BOULEVARD    13770       752        0   \n",
       "2   10  10454.0  138 BRUCKNER BOULEVARD    35000     39375        0   \n",
       "3   17  10454.0  144 BRUCKNER BOULEVARD     2500     12500    12500   \n",
       "4   18  10454.0  148 BRUCKNER BOULEVARD     1875      8595     6876   \n",
       "\n",
       "   OfficeArea  RetailArea  NumBldgs  NumFloors  LotDepth  BldgDepth  \\\n",
       "0           0           0         1        0.0     200.0        0.0   \n",
       "1         272           0         2        1.0     100.0       16.0   \n",
       "2           0           0         1        2.0     200.0      200.0   \n",
       "3           0           0         1        5.0     100.0       85.0   \n",
       "4           0        1719         1        5.0      75.0       70.0   \n",
       "\n",
       "   YearBuilt  YearAlter1  BuiltFAR  ResidFAR  CommFAR  FacilFAR     XCoord  \\\n",
       "0          0           0      0.00      6.02      5.0       6.5  1005957.0   \n",
       "1       1931        1994      0.05      6.02      5.0       6.5  1006076.0   \n",
       "2       1931           0      1.13      6.02      5.0       6.5  1006187.0   \n",
       "3       1931        2001      5.00      6.02      5.0       6.5  1006299.0   \n",
       "4       1920        2009      4.58      6.02      5.0       6.5  1006363.0   \n",
       "\n",
       "     YCoord  \n",
       "0  232162.0  \n",
       "1  232156.0  \n",
       "2  232036.0  \n",
       "3  232033.0  \n",
       "4  232040.0  "
      ]
     },
     "execution_count": 11,
     "metadata": {},
     "output_type": "execute_result"
    }
   ],
   "source": [
    "print(\"shape %s\" % str(df.shape))\n",
    "print(\"---isnull follows---\")\n",
    "print(df.isnull().sum())\n",
    "df.head()"
   ]
  },
  {
   "cell_type": "markdown",
   "metadata": {},
   "source": [
    "### General"
   ]
  },
  {
   "cell_type": "code",
   "execution_count": 12,
   "metadata": {},
   "outputs": [
    {
     "data": {
      "text/plain": [
       "Lot             int64\n",
       "ZipCode       float64\n",
       "Address        object\n",
       "LotArea         int64\n",
       "BldgArea        int64\n",
       "ResArea         int64\n",
       "OfficeArea      int64\n",
       "RetailArea      int64\n",
       "NumBldgs        int64\n",
       "NumFloors     float64\n",
       "LotDepth      float64\n",
       "BldgDepth     float64\n",
       "YearBuilt       int64\n",
       "YearAlter1      int64\n",
       "BuiltFAR      float64\n",
       "ResidFAR      float64\n",
       "CommFAR       float64\n",
       "FacilFAR      float64\n",
       "XCoord        float64\n",
       "YCoord        float64\n",
       "dtype: object"
      ]
     },
     "execution_count": 12,
     "metadata": {},
     "output_type": "execute_result"
    }
   ],
   "source": [
    "df.dtypes"
   ]
  },
  {
   "cell_type": "code",
   "execution_count": 13,
   "metadata": {},
   "outputs": [],
   "source": [
    "#Adjust relevant strings to uppercase so different casing won't appear as separate values.\n",
    "df['Address'] = df['Address'].str.upper()"
   ]
  },
  {
   "cell_type": "code",
   "execution_count": 14,
   "metadata": {},
   "outputs": [],
   "source": [
    "# Drop the observations with missing address as there will be no way to tie them to any 311 data.\n",
    "df.dropna(subset=['Address'], axis=0, inplace=True)\n",
    "df.reset_index(drop=True, inplace=True)"
   ]
  },
  {
   "cell_type": "markdown",
   "metadata": {},
   "source": [
    "## Standardization of Addresses\n",
    "Leveraging standardization methods developed during question 2."
   ]
  },
  {
   "cell_type": "code",
   "execution_count": 15,
   "metadata": {},
   "outputs": [
    {
     "name": "stdout",
     "output_type": "stream",
     "text": [
      "BRONX 311 unique addresses: 23690\n",
      "BRONX PLUTO unique addresses: 87017\n"
     ]
    }
   ],
   "source": [
    "print(\"BRONX 311 unique addresses: %s\" % b311['incident_address'].unique().size)\n",
    "print(\"BRONX PLUTO unique addresses: %s\" % df['Address'].unique().size)"
   ]
  },
  {
   "cell_type": "markdown",
   "metadata": {},
   "source": [
    "<p style=\"color:Red;\">Determine how much overlap.  Ideally all 29K BRONX 311 addresses will be represented in the PLUTO set.</p>"
   ]
  },
  {
   "cell_type": "code",
   "execution_count": 16,
   "metadata": {},
   "outputs": [],
   "source": [
    "def WhichAddressesNotInPluto(howManyTopToShow):\n",
    "    complaints = set(b311['incident_address'].unique())\n",
    "    pluto = set(df['Address'].unique())\n",
    "    #Determine which 311 addresses were not found in PLUTO to gain insight as to why.\n",
    "    differences = complaints.difference(pluto)\n",
    "    print(\"Records not in PLUTO: %s.  Percent: %s\" % (len(differences), \"{:.2%}\".format(len(differences) / len(complaints))))\n",
    "    print(\"---Top %i---\" % howManyTopToShow)\n",
    "    print(b311[b311['incident_address'].isin(differences)]['incident_address'].value_counts().head(howManyTopToShow))"
   ]
  },
  {
   "cell_type": "code",
   "execution_count": 17,
   "metadata": {},
   "outputs": [
    {
     "name": "stdout",
     "output_type": "stream",
     "text": [
      "Records not in PLUTO: 5335.  Percent: 22.52%\n",
      "---Top 3---\n",
      "2090 EAST TREMONT AVENUE         3748\n",
      "266 BEDFORD PARK BOULEVARD       2527\n",
      "1425 DR M L KING JR BOULEVARD    2283\n",
      "Name: incident_address, dtype: int64\n"
     ]
    }
   ],
   "source": [
    "WhichAddressesNotInPluto(3)"
   ]
  },
  {
   "cell_type": "markdown",
   "metadata": {},
   "source": [
    "<p style=\"color:Red;\">Over 20 percent of addresses in the BRONX 311 data cannot be merged to the BRONX PLUTO data prior to standardization.</p>"
   ]
  },
  {
   "cell_type": "markdown",
   "metadata": {},
   "source": [
    "### Borrow some python functions developed during question 2\n",
    "With minor improvements to better work with full addresses instead of just street names."
   ]
  },
  {
   "cell_type": "code",
   "execution_count": 18,
   "metadata": {},
   "outputs": [],
   "source": [
    "# Some street values have multiple spaces in a row.\n",
    "import re\n",
    "def standardize_spaces(raw):\n",
    "    result = raw.strip() #Remove leading and trailing spaces.\n",
    "    result = re.sub(' +', ' ', result) #Squeeze multiple adjacent spaces into just one space.\n",
    "    return result"
   ]
  },
  {
   "cell_type": "code",
   "execution_count": 19,
   "metadata": {},
   "outputs": [],
   "source": [
    "# Some streets have problematic characters.  For example:  ST. ANN'S AVENUE also exists without period or apostophe.\n",
    "problem_characters = ['.', '\\'']\n",
    "def replace_problem_characters(raw):\n",
    "    result = raw\n",
    "    for (character) in problem_characters:\n",
    "        result = result.replace(character,'')\n",
    "    return result"
   ]
  },
  {
   "cell_type": "code",
   "execution_count": 20,
   "metadata": {},
   "outputs": [],
   "source": [
    "#Some words are sometimes entered in a non-standard way or with typos need to be standardized.\n",
    "word_replacements = [(\"AVE\",\"AVENUE\"),(\"ST\",\"STREET\"),(\"RD\",\"ROAD\"),(\"FT\",\"FORT\"),(\"BX\",\"BRONX\"),(\"MT\",\"MOUNT\"),\n",
    "                     (\"NICHLAS\",\"NICHOLAS\"),(\"NICHALOS\",\"NICHOLAS\"),(\"EXPRE\",\"EXPRESSWAY\"),(\"HARACE\",\"HORACE\"),\n",
    "                     (\"NO\",\"NORTH\"),(\"AV\",\"AVENUE\"),(\"CRK\",\"CREEK\"),(\"FR\",\"FATHER\"),(\"JR\",\"JUNIOR\"),(\"GR\",\"GRAND\"),\n",
    "                     (\"CT\",\"COURT\"),\n",
    "                     (\"SR\",\"\"), # Service Road.  These are always near a similarly named street.  Lump together.\n",
    "                     (\"QN\",\"QUEENS\"),\n",
    "                     (\"ND\",\"\"), # A space between a number and ND such as EAST 52 ND STREET.  Note ST and RD can be street or road.\n",
    "                     (\"PO\",\"POND\"),(\"BO\",\"BOND\"),(\"GRA\",\"GRAND\"),(\"REV\",\"REVEREND\"),(\"CO-OP\",\"COOP\"),\n",
    "                     (\"GRANDCONCOURSE\", \"GRAND CONCOURSE\"),(\"CENTRL\", \"CENTRAL\"),(\"BLVD\",\"BOULEVARD\"),\n",
    "                     (\"FREDRICK\", \"FREDERICK\"),(\"DOUGLAS\", \"DOUGLASS\"),(\"MALCOM\", \"MALCOMN\"),\n",
    "                     (\"NORTHEN\", \"NORTHERN\"),(\"AVNEUE\",\"AVENUE\"),\n",
    "                    (\"N\",\"NORTH\"),(\"S\",\"SOUTH\"),(\"E\",\"EAST\"),(\"W\",\"WEST\"),(\"SW\",\"SOUTHWEST\"),\n",
    "                             (\"NW\",\"NORTHWEST\"),(\"SE\",\"SOUTHEAST\"),(\"NE\",\"NORTHEAST\")]\n",
    "def replace_words(raw):\n",
    "    split_raw = raw.split()\n",
    "    for (old, new) in word_replacements:\n",
    "        found_at_index = next((i for i, x in enumerate(split_raw) if x==old), None)\n",
    "        if found_at_index!=None:\n",
    "            split_raw[found_at_index] = new\n",
    "    return standardize_spaces(\" \".join(split_raw))"
   ]
  },
  {
   "cell_type": "code",
   "execution_count": 21,
   "metadata": {},
   "outputs": [],
   "source": [
    "#Some words are actually prefixes of the following word.  Example the LA prefix of LA GRANGE.\n",
    "word_prefixes = [\"DE\",\"MC\",\"LA\",\"VAN\",\"MAC\",\"CO\"]\n",
    "def concatenate_prefixes(raw):\n",
    "    split_raw = raw.split()\n",
    "    last_word = len(split_raw) - 1\n",
    "    for (prefix) in word_prefixes:\n",
    "        found_at_index = next((i for i, x in enumerate(split_raw) if x==prefix), None)\n",
    "        if found_at_index!=None:\n",
    "            if len(split_raw)>1:\n",
    "                if found_at_index != last_word:\n",
    "                    split_raw[found_at_index] = ''\n",
    "                    split_raw[found_at_index+1] = prefix + split_raw[found_at_index+1]\n",
    "                    return standardize_spaces(\" \".join(split_raw))\n",
    "    return raw"
   ]
  },
  {
   "cell_type": "code",
   "execution_count": 22,
   "metadata": {},
   "outputs": [],
   "source": [
    "#Some phrases need custom replacement because they involve multiple words or easily mis-interpretted out of context.\n",
    "phrase_replacements = [(\"DR M L KING JR\",\"MARTIN LUTHER KING\"),(\"DR MARTIN L KING\",\"MARTIN LUTHER KING\"),\n",
    "    (\"MARTIN LUTHER KING\",\"MARTIN LUTHER KING\"),(\"MARTIN L KING JR\",\"MARTIN LUTHER KING\"),\n",
    "    (\"MARTIN L KING\",\"MARTIN LUTHER KING\"),(\"ST NICHOLAS\",\"SAINT NICHOLAS\"),(\"ST JOHN\",\"SAINT JOHN\"),\n",
    "    (\"ST MARK\",\"SAINT MARK\"),(\"ST ANN\",\"SAINT ANN\"),(\"ST LAWRENCE\",\"SAINT LAWRENCE\"),(\"ST PAUL\",\"SAINT PAUL\"),\n",
    "    (\"ST PETER\",\"SAINT PETER\"),(\"ST RAYMOND\",\"SAINT RAYMOND\"),(\"ST THERESA\",\"SAINT THERESA\"),(\"ST FELIX\",\"SAINT FELIX\"),\n",
    "    (\"ST MARY\",\"SAINT MARY\"),(\"ST OUEN\",\"SAINT OUEN\"),(\"ST JAMES\",\"SAINT JAMES\"),(\"ST GEORGE\",\"SAINT GEORGE\"),\n",
    "    (\"ST EDWARD\",\"SAINT EDWARD\"),(\"ST CHARLES\",\"SAINT CHARLES\"),(\"ST FRANCIS\",\"SAINT FRANCIS\"),\n",
    "    (\"ST ANDREW\",\"SAINT ANDREW\"),(\"ST JUDE\",\"SAINT JUDE\"),(\"ST LUKE\",\"SAINT LUKE\"),(\"ST JOSEPH\",\"SAINT JOSEPH\"),\n",
    "    (\"N D PERLMAN\",\"NATHAN PERLMAN\"),(\"O BRIEN\",\"OBRIEN\"),(\"F D R\",\"FDR\"),(\"EXPRESSWAY N SR\",\"EXPRESSWAY SR N\"),\n",
    "    (\"HOR HARDING\",\"HORACE HARDING\"),\n",
    "    (\"SERVICE ROAD\",\"\"), # These are always near a similarly named street. Lump together.\n",
    "    (\"DUMMY\",\"\"),(\"ADAM C POWELL\",\"ADAM CLAYTON POWELL\"),(\"POWELL COVE\",\"POWELLS COVE\")]\n",
    "def replace_phrases(raw):\n",
    "    result = raw\n",
    "    for (old,new) in phrase_replacements:\n",
    "        result = standardize_spaces(result.replace(old,new))\n",
    "    return result"
   ]
  },
  {
   "cell_type": "code",
   "execution_count": 23,
   "metadata": {},
   "outputs": [],
   "source": [
    "# 1ST, 2ND, 3RD, 4TH, ... nTH\n",
    "# Remove the suffixes leaving the numbers by themselves.\n",
    "number_suffixes = [\"ST\",\"ND\",\"RD\",\"TH\"]\n",
    "digits=[\"1\",\"2\",\"3\",\"4\",\"5\",\"6\",\"7\",\"8\",\"9\",\"0\"]\n",
    "def remove_number_suffixes(raw):\n",
    "    split_raw = raw.split()\n",
    "    for suffix in number_suffixes:\n",
    "        found_at_index = next((i for i, x in enumerate(split_raw) if x[0] in digits and x.endswith(suffix)), None) \n",
    "        if found_at_index!=None:            \n",
    "            split_raw[found_at_index] = split_raw[found_at_index][:-2]\n",
    "            return standardize_spaces(\" \".join(split_raw))\n",
    "    return raw"
   ]
  },
  {
   "cell_type": "code",
   "execution_count": 24,
   "metadata": {},
   "outputs": [],
   "source": [
    "def standardize_street(street):\n",
    "    r = street \n",
    "    r = standardize_spaces(r) \n",
    "    r = replace_problem_characters(r) \n",
    "    r = replace_phrases(r) \n",
    "    r = replace_words(r) \n",
    "    r = concatenate_prefixes(r) \n",
    "    r = remove_number_suffixes(r) \n",
    "    return r"
   ]
  },
  {
   "cell_type": "markdown",
   "metadata": {},
   "source": [
    "### Standardize the address in both the 311 and PLUTO data"
   ]
  },
  {
   "cell_type": "code",
   "execution_count": 25,
   "metadata": {},
   "outputs": [],
   "source": [
    "b311['incident_address'] = b311['incident_address'].apply(standardize_street)"
   ]
  },
  {
   "cell_type": "code",
   "execution_count": 26,
   "metadata": {},
   "outputs": [],
   "source": [
    "df['Address'] = df['Address'].apply(standardize_street)"
   ]
  },
  {
   "cell_type": "code",
   "execution_count": 27,
   "metadata": {},
   "outputs": [
    {
     "name": "stdout",
     "output_type": "stream",
     "text": [
      "Records not in PLUTO: 2436.  Percent: 11.24%\n",
      "---Top 3---\n",
      "2090 EAST TREMONT AVENUE             3748\n",
      "1425 MARTIN LUTHER KING BOULEVARD    2283\n",
      "223 NAPLES TERRACE                   1119\n",
      "Name: incident_address, dtype: int64\n"
     ]
    }
   ],
   "source": [
    "# See if there was an improvement in how well the 311 data can be merged with the PLUTO data by address.\n",
    "WhichAddressesNotInPluto(3)"
   ]
  },
  {
   "cell_type": "markdown",
   "metadata": {},
   "source": [
    "<p style=\"color:Red;\">The percentage of addresses in the 311 data that can be matched to an entry in the PLUTO data set improved measurably.</p>"
   ]
  },
  {
   "cell_type": "markdown",
   "metadata": {},
   "source": [
    "## Add latent variable to indicate if the address had any HEAT complaints.\n",
    "So that we can more conveniently see if it correlates to anything else in the data."
   ]
  },
  {
   "cell_type": "code",
   "execution_count": 28,
   "metadata": {},
   "outputs": [],
   "source": [
    "#Latent variable that indicates that there has been at least one complaint at the address.\n",
    "df['Complaints'] = df['Address'].isin(b311['incident_address'].unique()).astype('int64')"
   ]
  },
  {
   "cell_type": "code",
   "execution_count": 29,
   "metadata": {},
   "outputs": [
    {
     "name": "stdout",
     "output_type": "stream",
     "text": [
      "(89785, 21)\n"
     ]
    },
    {
     "data": {
      "text/plain": [
       "0    70520\n",
       "1    19265\n",
       "Name: Complaints, dtype: int64"
      ]
     },
     "execution_count": 29,
     "metadata": {},
     "output_type": "execute_result"
    }
   ],
   "source": [
    "del b311 # Maybe save a little memory later\n",
    "print (df.shape)\n",
    "df['Complaints'].value_counts()"
   ]
  },
  {
   "cell_type": "code",
   "execution_count": 30,
   "metadata": {},
   "outputs": [
    {
     "data": {
      "text/plain": [
       "89785"
      ]
     },
     "execution_count": 30,
     "metadata": {},
     "output_type": "execute_result"
    }
   ],
   "source": [
    "#Convert each unique address into a unique number.\n",
    "#A category with a lot of different values, not a continuous value.\n",
    "address_lookup = {k:v + 1 for v, k in enumerate(df['Address'].unique().tolist())}\n",
    "df[\"Address\"] = df[\"Address\"].map(address_lookup)\n",
    "len(df)"
   ]
  },
  {
   "cell_type": "code",
   "execution_count": 31,
   "metadata": {},
   "outputs": [],
   "source": [
    "#Save the file to aid in more quickly do the imputation work below.\n",
    "df.to_pickle(files_path + 'q3clean.pkl')"
   ]
  },
  {
   "cell_type": "markdown",
   "metadata": {},
   "source": [
    "<p style=\"color:Red;\">Saving the data allows restarting from this point without needing to wait for standardization of addresses and other time to be repeated as work continues.</p>"
   ]
  },
  {
   "cell_type": "markdown",
   "metadata": {},
   "source": [
    "## Imputation\n",
    "Handling \"missing\" features.  That are null or have a zero placeholder instead of a \"real\" value."
   ]
  },
  {
   "cell_type": "code",
   "execution_count": 32,
   "metadata": {},
   "outputs": [],
   "source": [
    "df = pd.read_pickle(files_path + 'q3clean.pkl')"
   ]
  },
  {
   "cell_type": "code",
   "execution_count": 33,
   "metadata": {},
   "outputs": [
    {
     "name": "stdout",
     "output_type": "stream",
     "text": [
      "ZipCode:  263 of 89785 (0.29%)\n",
      "XCoord:  3190 of 89785 (3.55%)\n",
      "YCoord:  3190 of 89785 (3.55%)\n"
     ]
    }
   ],
   "source": [
    "def check_nulls():\n",
    "    for col in df.columns:\n",
    "        nulls = len(df[df[col].isnull()])\n",
    "        if nulls > 0:\n",
    "            print(\"%s:  %i of %i (%s)\" % (col, nulls, df.shape[0], \"{:.2%}\".format(nulls / df.shape[0])))\n",
    "check_nulls()"
   ]
  },
  {
   "cell_type": "code",
   "execution_count": 34,
   "metadata": {},
   "outputs": [],
   "source": [
    "#Replace with zeroes to kick these forward to the next section.\n",
    "df['ZipCode'].replace(to_replace=np.nan, value=0, inplace=True)\n",
    "df['XCoord'].replace(to_replace=np.nan, value=0, inplace=True)\n",
    "df['YCoord'].replace(to_replace=np.nan, value=0, inplace=True)\n",
    "check_nulls()"
   ]
  },
  {
   "cell_type": "code",
   "execution_count": 35,
   "metadata": {},
   "outputs": [
    {
     "name": "stdout",
     "output_type": "stream",
     "text": [
      "ZipCode:  263 of 89785 (0.29%)\n",
      "LotArea:  234 of 89785 (0.26%)\n",
      "BldgArea:  6355 of 89785 (7.08%)\n",
      "ResArea:  14419 of 89785 (16.06%)\n",
      "OfficeArea:  87250 of 89785 (97.18%)\n",
      "RetailArea:  83893 of 89785 (93.44%)\n",
      "NumBldgs:  6002 of 89785 (6.68%)\n",
      "NumFloors:  6480 of 89785 (7.22%)\n",
      "LotDepth:  192 of 89785 (0.21%)\n",
      "BldgDepth:  6618 of 89785 (7.37%)\n",
      "YearBuilt:  6299 of 89785 (7.02%)\n",
      "YearAlter1:  81843 of 89785 (91.15%)\n",
      "BuiltFAR:  6452 of 89785 (7.19%)\n",
      "ResidFAR:  4295 of 89785 (4.78%)\n",
      "CommFAR:  83764 of 89785 (93.29%)\n",
      "FacilFAR:  1042 of 89785 (1.16%)\n",
      "XCoord:  3190 of 89785 (3.55%)\n",
      "YCoord:  3190 of 89785 (3.55%)\n",
      "Complaints:  70520 of 89785 (78.54%)\n"
     ]
    }
   ],
   "source": [
    "def check_zeroes():\n",
    "    for col in df.columns:\n",
    "        zeroes = len(df[df[col].eq(0)])\n",
    "        if zeroes > 0:\n",
    "            print(\"%s:  %i of %i (%s)\" % (col, zeroes, df.shape[0], \"{:.2%}\".format(zeroes / df.shape[0])))\n",
    "check_zeroes()"
   ]
  },
  {
   "cell_type": "code",
   "execution_count": 36,
   "metadata": {},
   "outputs": [
    {
     "name": "stdout",
     "output_type": "stream",
     "text": [
      "ResArea:  7463 of 82449 (9.05%)\n",
      "OfficeArea:  80067 of 82449 (97.11%)\n",
      "RetailArea:  76654 of 82449 (92.97%)\n",
      "NumBldgs:  61 of 82449 (0.07%)\n",
      "NumFloors:  114 of 82449 (0.14%)\n",
      "YearBuilt:  7 of 82449 (0.01%)\n",
      "YearAlter1:  74686 of 82449 (90.58%)\n",
      "ResidFAR:  2441 of 82449 (2.96%)\n",
      "CommFAR:  78220 of 82449 (94.87%)\n",
      "XCoord:  248 of 82449 (0.30%)\n",
      "YCoord:  248 of 82449 (0.30%)\n",
      "Complaints:  63424 of 82449 (76.93%)\n"
     ]
    }
   ],
   "source": [
    "# Drop rows that have only a small number of zero values in a column.\n",
    "df.drop(df[df[\"ZipCode\"].eq(0)].index, axis=0, inplace=True)\n",
    "df.drop(df[df[\"LotArea\"].eq(0)].index, axis=0, inplace=True)\n",
    "df.drop(df[df[\"LotDepth\"].eq(0)].index, axis=0, inplace=True)\n",
    "df.drop(df[df[\"BldgDepth\"].eq(0)].index, axis=0, inplace=True)\n",
    "df.drop(df[df[\"BuiltFAR\"].eq(0)].index, axis=0, inplace=True)\n",
    "df.drop(df[df[\"FacilFAR\"].eq(0)].index, axis=0, inplace=True)\n",
    "df.reset_index(drop=True, inplace=True)\n",
    "check_zeroes()"
   ]
  },
  {
   "cell_type": "code",
   "execution_count": 37,
   "metadata": {},
   "outputs": [
    {
     "name": "stdout",
     "output_type": "stream",
     "text": [
      "ResArea:  7284 of 82044 (8.88%)\n",
      "OfficeArea:  79675 of 82044 (97.11%)\n",
      "RetailArea:  76268 of 82044 (92.96%)\n",
      "YearAlter1:  74331 of 82044 (90.60%)\n",
      "ResidFAR:  2408 of 82044 (2.94%)\n",
      "CommFAR:  77883 of 82044 (94.93%)\n",
      "Complaints:  63065 of 82044 (76.87%)\n"
     ]
    }
   ],
   "source": [
    "# May need to drop more rows, that had columns with a lot of zeroes in multiple columns.\n",
    "df.drop(df[df[\"NumBldgs\"].eq(0)].index, axis=0, inplace=True)\n",
    "df.drop(df[df[\"NumFloors\"].eq(0)].index, axis=0, inplace=True)\n",
    "df.drop(df[df[\"YearBuilt\"].eq(0)].index, axis=0, inplace=True)\n",
    "df.drop(df[df[\"XCoord\"].eq(0)].index, axis=0, inplace=True)\n",
    "df.drop(df[df[\"YCoord\"].eq(0)].index, axis=0, inplace=True)\n",
    "df.reset_index(drop=True, inplace=True)\n",
    "check_zeroes()"
   ]
  },
  {
   "cell_type": "markdown",
   "metadata": {},
   "source": [
    "<p style=\"color:Red;\">Several features have a significant number of zeroes.  Some even a vast majority of zero values.  This means simply the fact that there was a zero or not could be an important thing to correlate.  I am going to create latent variables for each simply to record the presence of the value or not.  These latent variables can themselves be used to filter when doing regression checks on the root feature.  The latent variables themselves can even be the subject of regression checks.</p>"
   ]
  },
  {
   "cell_type": "code",
   "execution_count": 38,
   "metadata": {},
   "outputs": [],
   "source": [
    "df.insert(len(df.columns) - 1, 'IsResArea', df['ResArea'].ne(0).astype('int64'))\n",
    "df.insert(len(df.columns) - 1, 'IsOfficeArea', df['OfficeArea'].ne(0).astype('int64'))\n",
    "df.insert(len(df.columns) - 1, 'IsRetailArea', df['RetailArea'].ne(0).astype('int64'))\n",
    "df.insert(len(df.columns) - 1, 'IsYearAlter1', df['YearAlter1'].ne(0).astype('int64'))\n",
    "df.insert(len(df.columns) - 1, 'IsResidFAR', df['ResidFAR'].ne(0).astype('int64'))\n",
    "df.insert(len(df.columns) - 1, 'IsCommFAR', df['CommFAR'].ne(0).astype('int64'))"
   ]
  },
  {
   "cell_type": "code",
   "execution_count": 39,
   "metadata": {},
   "outputs": [
    {
     "data": {
      "text/html": [
       "<div>\n",
       "<style scoped>\n",
       "    .dataframe tbody tr th:only-of-type {\n",
       "        vertical-align: middle;\n",
       "    }\n",
       "\n",
       "    .dataframe tbody tr th {\n",
       "        vertical-align: top;\n",
       "    }\n",
       "\n",
       "    .dataframe thead th {\n",
       "        text-align: right;\n",
       "    }\n",
       "</style>\n",
       "<table border=\"1\" class=\"dataframe\">\n",
       "  <thead>\n",
       "    <tr style=\"text-align: right;\">\n",
       "      <th></th>\n",
       "      <th>Lot</th>\n",
       "      <th>ZipCode</th>\n",
       "      <th>Address</th>\n",
       "      <th>LotArea</th>\n",
       "      <th>BldgArea</th>\n",
       "      <th>ResArea</th>\n",
       "      <th>OfficeArea</th>\n",
       "      <th>RetailArea</th>\n",
       "      <th>NumBldgs</th>\n",
       "      <th>NumFloors</th>\n",
       "      <th>...</th>\n",
       "      <th>FacilFAR</th>\n",
       "      <th>XCoord</th>\n",
       "      <th>YCoord</th>\n",
       "      <th>IsResArea</th>\n",
       "      <th>IsOfficeArea</th>\n",
       "      <th>IsRetailArea</th>\n",
       "      <th>IsYearAlter1</th>\n",
       "      <th>IsResidFAR</th>\n",
       "      <th>IsCommFAR</th>\n",
       "      <th>Complaints</th>\n",
       "    </tr>\n",
       "  </thead>\n",
       "  <tbody>\n",
       "    <tr>\n",
       "      <th>0</th>\n",
       "      <td>4</td>\n",
       "      <td>10454.0</td>\n",
       "      <td>2</td>\n",
       "      <td>13770</td>\n",
       "      <td>752</td>\n",
       "      <td>0</td>\n",
       "      <td>272</td>\n",
       "      <td>0</td>\n",
       "      <td>2</td>\n",
       "      <td>1.0</td>\n",
       "      <td>...</td>\n",
       "      <td>6.5</td>\n",
       "      <td>1006076.0</td>\n",
       "      <td>232156.0</td>\n",
       "      <td>0</td>\n",
       "      <td>1</td>\n",
       "      <td>0</td>\n",
       "      <td>1</td>\n",
       "      <td>1</td>\n",
       "      <td>1</td>\n",
       "      <td>0</td>\n",
       "    </tr>\n",
       "    <tr>\n",
       "      <th>1</th>\n",
       "      <td>10</td>\n",
       "      <td>10454.0</td>\n",
       "      <td>3</td>\n",
       "      <td>35000</td>\n",
       "      <td>39375</td>\n",
       "      <td>0</td>\n",
       "      <td>0</td>\n",
       "      <td>0</td>\n",
       "      <td>1</td>\n",
       "      <td>2.0</td>\n",
       "      <td>...</td>\n",
       "      <td>6.5</td>\n",
       "      <td>1006187.0</td>\n",
       "      <td>232036.0</td>\n",
       "      <td>0</td>\n",
       "      <td>0</td>\n",
       "      <td>0</td>\n",
       "      <td>0</td>\n",
       "      <td>1</td>\n",
       "      <td>1</td>\n",
       "      <td>0</td>\n",
       "    </tr>\n",
       "    <tr>\n",
       "      <th>2</th>\n",
       "      <td>17</td>\n",
       "      <td>10454.0</td>\n",
       "      <td>4</td>\n",
       "      <td>2500</td>\n",
       "      <td>12500</td>\n",
       "      <td>12500</td>\n",
       "      <td>0</td>\n",
       "      <td>0</td>\n",
       "      <td>1</td>\n",
       "      <td>5.0</td>\n",
       "      <td>...</td>\n",
       "      <td>6.5</td>\n",
       "      <td>1006299.0</td>\n",
       "      <td>232033.0</td>\n",
       "      <td>1</td>\n",
       "      <td>0</td>\n",
       "      <td>0</td>\n",
       "      <td>1</td>\n",
       "      <td>1</td>\n",
       "      <td>1</td>\n",
       "      <td>1</td>\n",
       "    </tr>\n",
       "    <tr>\n",
       "      <th>3</th>\n",
       "      <td>18</td>\n",
       "      <td>10454.0</td>\n",
       "      <td>5</td>\n",
       "      <td>1875</td>\n",
       "      <td>8595</td>\n",
       "      <td>6876</td>\n",
       "      <td>0</td>\n",
       "      <td>1719</td>\n",
       "      <td>1</td>\n",
       "      <td>5.0</td>\n",
       "      <td>...</td>\n",
       "      <td>6.5</td>\n",
       "      <td>1006363.0</td>\n",
       "      <td>232040.0</td>\n",
       "      <td>1</td>\n",
       "      <td>0</td>\n",
       "      <td>1</td>\n",
       "      <td>1</td>\n",
       "      <td>1</td>\n",
       "      <td>1</td>\n",
       "      <td>1</td>\n",
       "    </tr>\n",
       "    <tr>\n",
       "      <th>4</th>\n",
       "      <td>34</td>\n",
       "      <td>10454.0</td>\n",
       "      <td>7</td>\n",
       "      <td>8700</td>\n",
       "      <td>5316</td>\n",
       "      <td>0</td>\n",
       "      <td>0</td>\n",
       "      <td>0</td>\n",
       "      <td>2</td>\n",
       "      <td>1.0</td>\n",
       "      <td>...</td>\n",
       "      <td>6.5</td>\n",
       "      <td>1006046.0</td>\n",
       "      <td>232055.0</td>\n",
       "      <td>0</td>\n",
       "      <td>0</td>\n",
       "      <td>0</td>\n",
       "      <td>0</td>\n",
       "      <td>1</td>\n",
       "      <td>1</td>\n",
       "      <td>0</td>\n",
       "    </tr>\n",
       "  </tbody>\n",
       "</table>\n",
       "<p>5 rows × 27 columns</p>\n",
       "</div>"
      ],
      "text/plain": [
       "   Lot  ZipCode  Address  LotArea  BldgArea  ResArea  OfficeArea  RetailArea  \\\n",
       "0    4  10454.0        2    13770       752        0         272           0   \n",
       "1   10  10454.0        3    35000     39375        0           0           0   \n",
       "2   17  10454.0        4     2500     12500    12500           0           0   \n",
       "3   18  10454.0        5     1875      8595     6876           0        1719   \n",
       "4   34  10454.0        7     8700      5316        0           0           0   \n",
       "\n",
       "   NumBldgs  NumFloors  ...  FacilFAR     XCoord    YCoord  IsResArea  \\\n",
       "0         2        1.0  ...       6.5  1006076.0  232156.0          0   \n",
       "1         1        2.0  ...       6.5  1006187.0  232036.0          0   \n",
       "2         1        5.0  ...       6.5  1006299.0  232033.0          1   \n",
       "3         1        5.0  ...       6.5  1006363.0  232040.0          1   \n",
       "4         2        1.0  ...       6.5  1006046.0  232055.0          0   \n",
       "\n",
       "   IsOfficeArea  IsRetailArea  IsYearAlter1  IsResidFAR  IsCommFAR  Complaints  \n",
       "0             1             0             1           1          1           0  \n",
       "1             0             0             0           1          1           0  \n",
       "2             0             0             1           1          1           1  \n",
       "3             0             1             1           1          1           1  \n",
       "4             0             0             0           1          1           0  \n",
       "\n",
       "[5 rows x 27 columns]"
      ]
     },
     "execution_count": 39,
     "metadata": {},
     "output_type": "execute_result"
    }
   ],
   "source": [
    "df.head()"
   ]
  },
  {
   "cell_type": "code",
   "execution_count": 40,
   "metadata": {},
   "outputs": [
    {
     "name": "stdout",
     "output_type": "stream",
     "text": [
      "1    74760\n",
      "0     7284\n",
      "Name: IsResArea, dtype: int64\n",
      "0    79675\n",
      "1     2369\n",
      "Name: IsOfficeArea, dtype: int64\n",
      "0    76268\n",
      "1     5776\n",
      "Name: IsRetailArea, dtype: int64\n",
      "0    74331\n",
      "1     7713\n",
      "Name: IsYearAlter1, dtype: int64\n",
      "1    79636\n",
      "0     2408\n",
      "Name: IsResidFAR, dtype: int64\n",
      "0    77883\n",
      "1     4161\n",
      "Name: IsCommFAR, dtype: int64\n"
     ]
    }
   ],
   "source": [
    "print(df['IsResArea'].value_counts())\n",
    "print(df['IsOfficeArea'].value_counts())\n",
    "print(df['IsRetailArea'].value_counts())\n",
    "print(df['IsYearAlter1'].value_counts())\n",
    "print(df['IsResidFAR'].value_counts())\n",
    "print(df['IsCommFAR'].value_counts())"
   ]
  },
  {
   "cell_type": "markdown",
   "metadata": {},
   "source": [
    "## Scaling, Centering"
   ]
  },
  {
   "cell_type": "code",
   "execution_count": 43,
   "metadata": {},
   "outputs": [],
   "source": [
    "def scale_and_center(column_name):\n",
    "    scale=MinMaxScaler()\n",
    "    scale.fit(df[[column_name]])\n",
    "    df[[column_name]]=scale.transform(df[[column_name]])\n",
    "scale_and_center('LotArea')\n",
    "scale_and_center('BldgArea')\n",
    "scale_and_center('NumBldgs')\n",
    "scale_and_center('NumFloors')\n",
    "scale_and_center('LotDepth')\n",
    "scale_and_center('BldgDepth')\n",
    "scale_and_center('YearBuilt')\n",
    "scale_and_center('BuiltFAR')\n",
    "scale_and_center('FacilFAR')\n",
    "scale_and_center('XCoord')\n",
    "scale_and_center('YCoord')"
   ]
  },
  {
   "cell_type": "code",
   "execution_count": 44,
   "metadata": {},
   "outputs": [],
   "source": [
    "def scale_and_center_latent(column_name, latent):\n",
    "    scale=MinMaxScaler()\n",
    "    #scale.fit(df.loc[df[latent].eq(1), column_name].to_frame())\n",
    "    df.loc[df[latent].eq(1), column_name] = scale.fit_transform(df.loc[df[latent].eq(1), column_name].to_frame())\n",
    "scale_and_center_latent('ResArea', 'IsResArea')\n",
    "scale_and_center_latent('OfficeArea', 'IsOfficeArea')\n",
    "scale_and_center_latent('RetailArea', 'IsRetailArea')\n",
    "scale_and_center_latent('YearAlter1', 'IsYearAlter1')\n",
    "scale_and_center_latent('ResidFAR', 'IsResidFAR')\n",
    "scale_and_center_latent('CommFAR', 'IsCommFAR')"
   ]
  },
  {
   "cell_type": "code",
   "execution_count": 45,
   "metadata": {},
   "outputs": [
    {
     "data": {
      "text/html": [
       "<div>\n",
       "<style scoped>\n",
       "    .dataframe tbody tr th:only-of-type {\n",
       "        vertical-align: middle;\n",
       "    }\n",
       "\n",
       "    .dataframe tbody tr th {\n",
       "        vertical-align: top;\n",
       "    }\n",
       "\n",
       "    .dataframe thead th {\n",
       "        text-align: right;\n",
       "    }\n",
       "</style>\n",
       "<table border=\"1\" class=\"dataframe\">\n",
       "  <thead>\n",
       "    <tr style=\"text-align: right;\">\n",
       "      <th></th>\n",
       "      <th>LotArea</th>\n",
       "      <th>BldgArea</th>\n",
       "      <th>ResArea</th>\n",
       "      <th>OfficeArea</th>\n",
       "      <th>RetailArea</th>\n",
       "      <th>NumBldgs</th>\n",
       "      <th>NumFloors</th>\n",
       "      <th>LotDepth</th>\n",
       "      <th>BldgDepth</th>\n",
       "      <th>YearBuilt</th>\n",
       "      <th>YearAlter1</th>\n",
       "      <th>BuiltFAR</th>\n",
       "      <th>ResidFAR</th>\n",
       "      <th>CommFAR</th>\n",
       "      <th>FacilFAR</th>\n",
       "      <th>XCoord</th>\n",
       "      <th>YCoord</th>\n",
       "    </tr>\n",
       "  </thead>\n",
       "  <tbody>\n",
       "    <tr>\n",
       "      <th>count</th>\n",
       "      <td>82044.000000</td>\n",
       "      <td>82044.000000</td>\n",
       "      <td>82044.000000</td>\n",
       "      <td>82044.000000</td>\n",
       "      <td>82044.000000</td>\n",
       "      <td>82044.000000</td>\n",
       "      <td>82044.000000</td>\n",
       "      <td>82044.000000</td>\n",
       "      <td>82044.000000</td>\n",
       "      <td>82044.000000</td>\n",
       "      <td>82044.000000</td>\n",
       "      <td>82044.000000</td>\n",
       "      <td>82044.000000</td>\n",
       "      <td>82044.000000</td>\n",
       "      <td>82044.000000</td>\n",
       "      <td>82044.000000</td>\n",
       "      <td>82044.000000</td>\n",
       "    </tr>\n",
       "    <tr>\n",
       "      <th>mean</th>\n",
       "      <td>0.000986</td>\n",
       "      <td>0.000594</td>\n",
       "      <td>0.000430</td>\n",
       "      <td>0.000373</td>\n",
       "      <td>0.000598</td>\n",
       "      <td>0.000985</td>\n",
       "      <td>0.046972</td>\n",
       "      <td>0.045696</td>\n",
       "      <td>0.050398</td>\n",
       "      <td>0.659232</td>\n",
       "      <td>0.077907</td>\n",
       "      <td>0.004918</td>\n",
       "      <td>0.126625</td>\n",
       "      <td>0.009000</td>\n",
       "      <td>0.207196</td>\n",
       "      <td>0.422278</td>\n",
       "      <td>0.465383</td>\n",
       "    </tr>\n",
       "    <tr>\n",
       "      <th>std</th>\n",
       "      <td>0.007975</td>\n",
       "      <td>0.004341</td>\n",
       "      <td>0.004044</td>\n",
       "      <td>0.008080</td>\n",
       "      <td>0.008139</td>\n",
       "      <td>0.005605</td>\n",
       "      <td>0.032583</td>\n",
       "      <td>0.020447</td>\n",
       "      <td>0.027970</td>\n",
       "      <td>0.135184</td>\n",
       "      <td>0.244450</td>\n",
       "      <td>0.005512</td>\n",
       "      <td>0.132991</td>\n",
       "      <td>0.050488</td>\n",
       "      <td>0.173818</td>\n",
       "      <td>0.189726</td>\n",
       "      <td>0.235406</td>\n",
       "    </tr>\n",
       "    <tr>\n",
       "      <th>min</th>\n",
       "      <td>0.000000</td>\n",
       "      <td>0.000000</td>\n",
       "      <td>0.000000</td>\n",
       "      <td>0.000000</td>\n",
       "      <td>0.000000</td>\n",
       "      <td>0.000000</td>\n",
       "      <td>0.000000</td>\n",
       "      <td>0.000000</td>\n",
       "      <td>0.000000</td>\n",
       "      <td>0.000000</td>\n",
       "      <td>0.000000</td>\n",
       "      <td>0.000000</td>\n",
       "      <td>0.000000</td>\n",
       "      <td>0.000000</td>\n",
       "      <td>0.000000</td>\n",
       "      <td>0.000000</td>\n",
       "      <td>0.000000</td>\n",
       "    </tr>\n",
       "    <tr>\n",
       "      <th>25%</th>\n",
       "      <td>0.000339</td>\n",
       "      <td>0.000126</td>\n",
       "      <td>0.000082</td>\n",
       "      <td>0.000000</td>\n",
       "      <td>0.000000</td>\n",
       "      <td>0.000000</td>\n",
       "      <td>0.036145</td>\n",
       "      <td>0.041667</td>\n",
       "      <td>0.034343</td>\n",
       "      <td>0.557604</td>\n",
       "      <td>0.000000</td>\n",
       "      <td>0.002604</td>\n",
       "      <td>0.042105</td>\n",
       "      <td>0.000000</td>\n",
       "      <td>0.111111</td>\n",
       "      <td>0.263244</td>\n",
       "      <td>0.269444</td>\n",
       "    </tr>\n",
       "    <tr>\n",
       "      <th>50%</th>\n",
       "      <td>0.000393</td>\n",
       "      <td>0.000171</td>\n",
       "      <td>0.000128</td>\n",
       "      <td>0.000000</td>\n",
       "      <td>0.000000</td>\n",
       "      <td>0.000000</td>\n",
       "      <td>0.036145</td>\n",
       "      <td>0.044118</td>\n",
       "      <td>0.044444</td>\n",
       "      <td>0.622120</td>\n",
       "      <td>0.000000</td>\n",
       "      <td>0.003738</td>\n",
       "      <td>0.063158</td>\n",
       "      <td>0.000000</td>\n",
       "      <td>0.111111</td>\n",
       "      <td>0.458214</td>\n",
       "      <td>0.433049</td>\n",
       "    </tr>\n",
       "    <tr>\n",
       "      <th>75%</th>\n",
       "      <td>0.000660</td>\n",
       "      <td>0.000246</td>\n",
       "      <td>0.000189</td>\n",
       "      <td>0.000000</td>\n",
       "      <td>0.000000</td>\n",
       "      <td>0.000000</td>\n",
       "      <td>0.060241</td>\n",
       "      <td>0.044814</td>\n",
       "      <td>0.055556</td>\n",
       "      <td>0.737327</td>\n",
       "      <td>0.000000</td>\n",
       "      <td>0.005376</td>\n",
       "      <td>0.203158</td>\n",
       "      <td>0.000000</td>\n",
       "      <td>0.422222</td>\n",
       "      <td>0.540490</td>\n",
       "      <td>0.659310</td>\n",
       "    </tr>\n",
       "    <tr>\n",
       "      <th>max</th>\n",
       "      <td>1.000000</td>\n",
       "      <td>1.000000</td>\n",
       "      <td>1.000000</td>\n",
       "      <td>1.000000</td>\n",
       "      <td>1.000000</td>\n",
       "      <td>1.000000</td>\n",
       "      <td>1.000000</td>\n",
       "      <td>1.000000</td>\n",
       "      <td>1.000000</td>\n",
       "      <td>1.000000</td>\n",
       "      <td>1.000000</td>\n",
       "      <td>1.000000</td>\n",
       "      <td>1.000000</td>\n",
       "      <td>1.000000</td>\n",
       "      <td>1.000000</td>\n",
       "      <td>1.000000</td>\n",
       "      <td>1.000000</td>\n",
       "    </tr>\n",
       "  </tbody>\n",
       "</table>\n",
       "</div>"
      ],
      "text/plain": [
       "            LotArea      BldgArea       ResArea    OfficeArea    RetailArea  \\\n",
       "count  82044.000000  82044.000000  82044.000000  82044.000000  82044.000000   \n",
       "mean       0.000986      0.000594      0.000430      0.000373      0.000598   \n",
       "std        0.007975      0.004341      0.004044      0.008080      0.008139   \n",
       "min        0.000000      0.000000      0.000000      0.000000      0.000000   \n",
       "25%        0.000339      0.000126      0.000082      0.000000      0.000000   \n",
       "50%        0.000393      0.000171      0.000128      0.000000      0.000000   \n",
       "75%        0.000660      0.000246      0.000189      0.000000      0.000000   \n",
       "max        1.000000      1.000000      1.000000      1.000000      1.000000   \n",
       "\n",
       "           NumBldgs     NumFloors      LotDepth     BldgDepth     YearBuilt  \\\n",
       "count  82044.000000  82044.000000  82044.000000  82044.000000  82044.000000   \n",
       "mean       0.000985      0.046972      0.045696      0.050398      0.659232   \n",
       "std        0.005605      0.032583      0.020447      0.027970      0.135184   \n",
       "min        0.000000      0.000000      0.000000      0.000000      0.000000   \n",
       "25%        0.000000      0.036145      0.041667      0.034343      0.557604   \n",
       "50%        0.000000      0.036145      0.044118      0.044444      0.622120   \n",
       "75%        0.000000      0.060241      0.044814      0.055556      0.737327   \n",
       "max        1.000000      1.000000      1.000000      1.000000      1.000000   \n",
       "\n",
       "         YearAlter1      BuiltFAR      ResidFAR       CommFAR      FacilFAR  \\\n",
       "count  82044.000000  82044.000000  82044.000000  82044.000000  82044.000000   \n",
       "mean       0.077907      0.004918      0.126625      0.009000      0.207196   \n",
       "std        0.244450      0.005512      0.132991      0.050488      0.173818   \n",
       "min        0.000000      0.000000      0.000000      0.000000      0.000000   \n",
       "25%        0.000000      0.002604      0.042105      0.000000      0.111111   \n",
       "50%        0.000000      0.003738      0.063158      0.000000      0.111111   \n",
       "75%        0.000000      0.005376      0.203158      0.000000      0.422222   \n",
       "max        1.000000      1.000000      1.000000      1.000000      1.000000   \n",
       "\n",
       "             XCoord        YCoord  \n",
       "count  82044.000000  82044.000000  \n",
       "mean       0.422278      0.465383  \n",
       "std        0.189726      0.235406  \n",
       "min        0.000000      0.000000  \n",
       "25%        0.263244      0.269444  \n",
       "50%        0.458214      0.433049  \n",
       "75%        0.540490      0.659310  \n",
       "max        1.000000      1.000000  "
      ]
     },
     "execution_count": 45,
     "metadata": {},
     "output_type": "execute_result"
    }
   ],
   "source": [
    "df[continuous].describe()"
   ]
  },
  {
   "cell_type": "markdown",
   "metadata": {},
   "source": [
    "## Save the cleaned data."
   ]
  },
  {
   "cell_type": "code",
   "execution_count": 46,
   "metadata": {},
   "outputs": [],
   "source": [
    "df.to_pickle(files_path + 'q3clean.pkl')"
   ]
  },
  {
   "cell_type": "markdown",
   "metadata": {},
   "source": [
    "<a id=\"analysis\"></a>\n",
    "# Analyzing and Visualizing\n",
    "---"
   ]
  },
  {
   "cell_type": "markdown",
   "metadata": {},
   "source": [
    "## Load combined and cleaned data"
   ]
  },
  {
   "cell_type": "code",
   "execution_count": 47,
   "metadata": {},
   "outputs": [
    {
     "name": "stdout",
     "output_type": "stream",
     "text": [
      "82044\n",
      "18979\n"
     ]
    }
   ],
   "source": [
    "df = pd.read_pickle(files_path + 'q3clean.pkl')\n",
    "print(df.shape[0])\n",
    "print(len(df[df['Complaints'].eq(1)]))"
   ]
  },
  {
   "cell_type": "markdown",
   "metadata": {},
   "source": [
    "## Analyze, using visualizations as necessary"
   ]
  },
  {
   "cell_type": "markdown",
   "metadata": {},
   "source": [
    "### Logistic Regression\n",
    "Logistic Regression instead of Linear chosen because the Y values are zero or one, so this is a classifier rather than continuous."
   ]
  },
  {
   "cell_type": "code",
   "execution_count": 48,
   "metadata": {},
   "outputs": [],
   "source": [
    "def regress_logistically(d):\n",
    "    print(\"-----\")\n",
    "    print(d.columns)\n",
    "    y_data = d['Complaints']\n",
    "    x_data = d.drop('Complaints',axis=1)\n",
    "    x_train,x_test,y_train,y_test = train_test_split(x_data,y_data,test_size=0.20,random_state=1)\n",
    "    print(\"number of test samples: \", x_test.shape[0])\n",
    "    print(\"number of training samples: \",x_train.shape[0])\n",
    "    m = linear_model.LogisticRegression(solver='lbfgs', multi_class='ovr', max_iter=250)\n",
    "    m.fit(x_train, y_train)\n",
    "    y_hat = m.predict(x_test)\n",
    "    print(\"Jaccard score: \", jaccard_score(y_test, y_hat))\n",
    "    print(\"Log loss: \", log_loss(y_test, m.predict_proba(x_test)))\n",
    "    print(confusion_matrix(y_test, y_hat, labels=[1,0]))\n",
    "    print(classification_report(y_test, y_hat))\n",
    "    coefficients = []\n",
    "    for i in range(m.coef_.size):\n",
    "        coefficients.append((d.columns[i], m.coef_[0,i]))\n",
    "    def sortco(a):\n",
    "        return abs(a[1])\n",
    "    coefficients.sort(key=sortco)\n",
    "    print(coefficients)"
   ]
  },
  {
   "cell_type": "code",
   "execution_count": 49,
   "metadata": {},
   "outputs": [
    {
     "name": "stdout",
     "output_type": "stream",
     "text": [
      "-----\n",
      "Index(['ResArea', 'Complaints'], dtype='object')\n",
      "number of test samples:  14952\n",
      "number of training samples:  59808\n",
      "Jaccard score:  0.0\n",
      "Log loss:  0.553445394068802\n",
      "[[    0  3639]\n",
      " [    0 11313]]\n",
      "              precision    recall  f1-score   support\n",
      "\n",
      "           0       0.76      1.00      0.86     11313\n",
      "           1       0.00      0.00      0.00      3639\n",
      "\n",
      "    accuracy                           0.76     14952\n",
      "   macro avg       0.38      0.50      0.43     14952\n",
      "weighted avg       0.57      0.76      0.65     14952\n",
      "\n",
      "[('ResArea', 8.831970982884092)]\n",
      "-----\n",
      "Index(['OfficeArea', 'Complaints'], dtype='object')\n",
      "number of test samples:  474\n",
      "number of training samples:  1895\n",
      "Jaccard score:  0.0\n",
      "Log loss:  0.5303347688696027\n",
      "[[  0 106]\n",
      " [  0 368]]\n",
      "              precision    recall  f1-score   support\n",
      "\n",
      "           0       0.78      1.00      0.87       368\n",
      "           1       0.00      0.00      0.00       106\n",
      "\n",
      "    accuracy                           0.78       474\n",
      "   macro avg       0.39      0.50      0.44       474\n",
      "weighted avg       0.60      0.78      0.68       474\n",
      "\n",
      "[('OfficeArea', 1.1828134102018002)]\n",
      "-----\n",
      "Index(['RetailArea', 'Complaints'], dtype='object')\n",
      "number of test samples:  1156\n",
      "number of training samples:  4620\n",
      "Jaccard score:  0.0\n",
      "Log loss:  0.6647247697086377\n",
      "[[  0 447]\n",
      " [  0 709]]\n",
      "              precision    recall  f1-score   support\n",
      "\n",
      "           0       0.61      1.00      0.76       709\n",
      "           1       0.00      0.00      0.00       447\n",
      "\n",
      "    accuracy                           0.61      1156\n",
      "   macro avg       0.31      0.50      0.38      1156\n",
      "weighted avg       0.38      0.61      0.47      1156\n",
      "\n",
      "[('RetailArea', -2.896113082968328)]\n",
      "-----\n",
      "Index(['YearAlter1', 'Complaints'], dtype='object')\n",
      "number of test samples:  1543\n",
      "number of training samples:  6170\n",
      "Jaccard score:  0.048589341692789965\n",
      "Log loss:  0.6586138088148414\n",
      "[[ 31 553]\n",
      " [ 54 905]]\n",
      "              precision    recall  f1-score   support\n",
      "\n",
      "           0       0.62      0.94      0.75       959\n",
      "           1       0.36      0.05      0.09       584\n",
      "\n",
      "    accuracy                           0.61      1543\n",
      "   macro avg       0.49      0.50      0.42      1543\n",
      "weighted avg       0.52      0.61      0.50      1543\n",
      "\n",
      "[('YearAlter1', -2.126858081659034)]\n",
      "-----\n",
      "Index(['ResidFAR', 'Complaints'], dtype='object')\n",
      "number of test samples:  15928\n",
      "number of training samples:  63708\n",
      "Jaccard score: "
     ]
    },
    {
     "name": "stderr",
     "output_type": "stream",
     "text": [
      "C:\\Users\\It_Co\\Anaconda3\\lib\\site-packages\\sklearn\\metrics\\classification.py:1437: UndefinedMetricWarning: Precision and F-score are ill-defined and being set to 0.0 in labels with no predicted samples.\n",
      "  'precision', 'predicted', average, warn_for)\n",
      "C:\\Users\\It_Co\\Anaconda3\\lib\\site-packages\\sklearn\\metrics\\classification.py:1437: UndefinedMetricWarning: Precision and F-score are ill-defined and being set to 0.0 in labels with no predicted samples.\n",
      "  'precision', 'predicted', average, warn_for)\n",
      "C:\\Users\\It_Co\\Anaconda3\\lib\\site-packages\\sklearn\\metrics\\classification.py:1437: UndefinedMetricWarning: Precision and F-score are ill-defined and being set to 0.0 in labels with no predicted samples.\n",
      "  'precision', 'predicted', average, warn_for)\n"
     ]
    },
    {
     "name": "stdout",
     "output_type": "stream",
     "text": [
      " 0.0809666168410563\n",
      "Log loss:  0.4985084048902488\n",
      "[[  325  3447]\n",
      " [  242 11914]]\n",
      "              precision    recall  f1-score   support\n",
      "\n",
      "           0       0.78      0.98      0.87     12156\n",
      "           1       0.57      0.09      0.15      3772\n",
      "\n",
      "    accuracy                           0.77     15928\n",
      "   macro avg       0.67      0.53      0.51     15928\n",
      "weighted avg       0.73      0.77      0.70     15928\n",
      "\n",
      "[('ResidFAR', 5.197561358992284)]\n",
      "-----\n",
      "Index(['CommFAR', 'Complaints'], dtype='object')\n",
      "number of test samples:  833\n",
      "number of training samples:  3328\n",
      "Jaccard score:  0.0\n",
      "Log loss:  0.48370523654028996\n",
      "[[  0 163]\n",
      " [  1 669]]\n",
      "              precision    recall  f1-score   support\n",
      "\n",
      "           0       0.80      1.00      0.89       670\n",
      "           1       0.00      0.00      0.00       163\n",
      "\n",
      "    accuracy                           0.80       833\n",
      "   macro avg       0.40      0.50      0.45       833\n",
      "weighted avg       0.65      0.80      0.72       833\n",
      "\n",
      "[('CommFAR', 2.1373710812567843)]\n"
     ]
    }
   ],
   "source": [
    "#See how the conditional items fare.\n",
    "regress_logistically(df[df['IsResArea'].eq(1)][['ResArea','Complaints']])\n",
    "regress_logistically(df[df['IsOfficeArea'].eq(1)][['OfficeArea','Complaints']])\n",
    "regress_logistically(df[df['IsRetailArea'].eq(1)][['RetailArea','Complaints']])\n",
    "regress_logistically(df[df['IsYearAlter1'].eq(1)][['YearAlter1','Complaints']])\n",
    "regress_logistically(df[df['IsResidFAR'].eq(1)][['ResidFAR','Complaints']])\n",
    "regress_logistically(df[df['IsCommFAR'].eq(1)][['CommFAR','Complaints']])"
   ]
  },
  {
   "cell_type": "code",
   "execution_count": 50,
   "metadata": {},
   "outputs": [
    {
     "name": "stdout",
     "output_type": "stream",
     "text": [
      "-----\n",
      "Index(['LotArea', 'BldgArea', 'NumBldgs', 'NumFloors', 'LotDepth', 'BldgDepth',\n",
      "       'YearBuilt', 'BuiltFAR', 'FacilFAR', 'XCoord', 'YCoord', 'Complaints'],\n",
      "      dtype='object')\n",
      "number of test samples:  16409\n",
      "number of training samples:  65635\n",
      "Jaccard score:  0.29942000966650556\n",
      "Log loss:  0.43710973184205615\n",
      "[[ 1239  2549]\n",
      " [  350 12271]]\n",
      "              precision    recall  f1-score   support\n",
      "\n",
      "           0       0.83      0.97      0.89     12621\n",
      "           1       0.78      0.33      0.46      3788\n",
      "\n",
      "    accuracy                           0.82     16409\n",
      "   macro avg       0.80      0.65      0.68     16409\n",
      "weighted avg       0.82      0.82      0.79     16409\n",
      "\n",
      "[('YCoord', 0.4603519843662252), ('XCoord', -0.4982983591157073), ('NumBldgs', -1.399852358154163), ('FacilFAR', 1.9146649149605606), ('YearBuilt', -1.9643248363550485), ('BldgArea', -2.985831301482826), ('LotArea', -3.1998051231896167), ('BuiltFAR', 7.788401251672593), ('BldgDepth', 10.299142964803975), ('LotDepth', -11.17029930719704), ('NumFloors', 22.4264412926222)]\n"
     ]
    }
   ],
   "source": [
    "# See how all the other items fare.\n",
    "regress_logistically(df[['LotArea','BldgArea', 'NumBldgs','NumFloors','LotDepth','BldgDepth','YearBuilt',\n",
    "                          'BuiltFAR','FacilFAR','XCoord','YCoord','Complaints']])"
   ]
  },
  {
   "cell_type": "code",
   "execution_count": 51,
   "metadata": {},
   "outputs": [
    {
     "name": "stdout",
     "output_type": "stream",
     "text": [
      "-----\n",
      "Index(['LotArea', 'BldgArea', 'NumBldgs', 'NumFloors', 'LotDepth', 'BldgDepth',\n",
      "       'YearBuilt', 'Complaints'],\n",
      "      dtype='object')\n",
      "number of test samples:  16409\n",
      "number of training samples:  65635\n",
      "Jaccard score:  0.29764243614931235\n",
      "Log loss:  0.44373285556912423\n",
      "[[ 1212  2576]\n",
      " [  284 12337]]\n",
      "              precision    recall  f1-score   support\n",
      "\n",
      "           0       0.83      0.98      0.90     12621\n",
      "           1       0.81      0.32      0.46      3788\n",
      "\n",
      "    accuracy                           0.83     16409\n",
      "   macro avg       0.82      0.65      0.68     16409\n",
      "weighted avg       0.82      0.83      0.80     16409\n",
      "\n",
      "[('NumBldgs', -2.19756829134847), ('YearBuilt', -2.2704847493047837), ('BldgArea', -2.975059374980164), ('LotArea', -3.683437252892287), ('LotDepth', -13.81699606644346), ('BldgDepth', 14.699235099616013), ('NumFloors', 26.638193045868963)]\n"
     ]
    }
   ],
   "source": [
    "# Take out the location based items and dubious items.\n",
    "regress_logistically(df[['LotArea','BldgArea', 'NumBldgs','NumFloors','LotDepth','BldgDepth','YearBuilt',\n",
    "                          'Complaints']])"
   ]
  },
  {
   "cell_type": "markdown",
   "metadata": {},
   "source": [
    "<p style=\"color:Red;\">The relationships are too weak to get a good scoring logistic regression.  The fact that about 85% of the properties did not have a complaint means that even a coin-toss model has high F1 score when it predicts \"tails\", but very poor scoring when predicting \"heads\".  The top row of the confusion matrix is always very poor.</p>"
   ]
  },
  {
   "cell_type": "markdown",
   "metadata": {},
   "source": [
    "### Pearson Correlation"
   ]
  },
  {
   "cell_type": "code",
   "execution_count": 52,
   "metadata": {},
   "outputs": [
    {
     "data": {
      "text/html": [
       "<div>\n",
       "<style scoped>\n",
       "    .dataframe tbody tr th:only-of-type {\n",
       "        vertical-align: middle;\n",
       "    }\n",
       "\n",
       "    .dataframe tbody tr th {\n",
       "        vertical-align: top;\n",
       "    }\n",
       "\n",
       "    .dataframe thead th {\n",
       "        text-align: right;\n",
       "    }\n",
       "</style>\n",
       "<table border=\"1\" class=\"dataframe\">\n",
       "  <thead>\n",
       "    <tr style=\"text-align: right;\">\n",
       "      <th></th>\n",
       "      <th>Lot</th>\n",
       "      <th>ZipCode</th>\n",
       "      <th>Address</th>\n",
       "      <th>LotArea</th>\n",
       "      <th>BldgArea</th>\n",
       "      <th>ResArea</th>\n",
       "      <th>OfficeArea</th>\n",
       "      <th>RetailArea</th>\n",
       "      <th>NumBldgs</th>\n",
       "      <th>NumFloors</th>\n",
       "      <th>...</th>\n",
       "      <th>FacilFAR</th>\n",
       "      <th>XCoord</th>\n",
       "      <th>YCoord</th>\n",
       "      <th>IsResArea</th>\n",
       "      <th>IsOfficeArea</th>\n",
       "      <th>IsRetailArea</th>\n",
       "      <th>IsYearAlter1</th>\n",
       "      <th>IsResidFAR</th>\n",
       "      <th>IsCommFAR</th>\n",
       "      <th>Complaints</th>\n",
       "    </tr>\n",
       "  </thead>\n",
       "  <tbody>\n",
       "    <tr>\n",
       "      <th>Lot</th>\n",
       "      <td>1.000000</td>\n",
       "      <td>0.053139</td>\n",
       "      <td>0.128293</td>\n",
       "      <td>0.033654</td>\n",
       "      <td>0.046245</td>\n",
       "      <td>0.033490</td>\n",
       "      <td>0.023628</td>\n",
       "      <td>0.066912</td>\n",
       "      <td>0.110101</td>\n",
       "      <td>0.075484</td>\n",
       "      <td>...</td>\n",
       "      <td>-0.041131</td>\n",
       "      <td>-0.117572</td>\n",
       "      <td>0.115325</td>\n",
       "      <td>0.011842</td>\n",
       "      <td>0.014027</td>\n",
       "      <td>0.015125</td>\n",
       "      <td>-0.003564</td>\n",
       "      <td>0.006884</td>\n",
       "      <td>0.004947</td>\n",
       "      <td>-0.013526</td>\n",
       "    </tr>\n",
       "    <tr>\n",
       "      <th>ZipCode</th>\n",
       "      <td>0.053139</td>\n",
       "      <td>1.000000</td>\n",
       "      <td>0.473155</td>\n",
       "      <td>-0.002171</td>\n",
       "      <td>-0.053663</td>\n",
       "      <td>-0.041071</td>\n",
       "      <td>-0.042102</td>\n",
       "      <td>-0.029946</td>\n",
       "      <td>0.029839</td>\n",
       "      <td>-0.225398</td>\n",
       "      <td>...</td>\n",
       "      <td>-0.510757</td>\n",
       "      <td>0.472132</td>\n",
       "      <td>0.285823</td>\n",
       "      <td>0.122255</td>\n",
       "      <td>-0.079698</td>\n",
       "      <td>-0.161575</td>\n",
       "      <td>-0.157137</td>\n",
       "      <td>0.022460</td>\n",
       "      <td>-0.108835</td>\n",
       "      <td>-0.158751</td>\n",
       "    </tr>\n",
       "    <tr>\n",
       "      <th>Address</th>\n",
       "      <td>0.128293</td>\n",
       "      <td>0.473155</td>\n",
       "      <td>1.000000</td>\n",
       "      <td>-0.006144</td>\n",
       "      <td>-0.066518</td>\n",
       "      <td>-0.051066</td>\n",
       "      <td>-0.040862</td>\n",
       "      <td>-0.038306</td>\n",
       "      <td>0.041296</td>\n",
       "      <td>-0.257619</td>\n",
       "      <td>...</td>\n",
       "      <td>-0.697765</td>\n",
       "      <td>0.729301</td>\n",
       "      <td>0.450058</td>\n",
       "      <td>0.163602</td>\n",
       "      <td>-0.085190</td>\n",
       "      <td>-0.163477</td>\n",
       "      <td>-0.164039</td>\n",
       "      <td>0.101521</td>\n",
       "      <td>-0.163475</td>\n",
       "      <td>-0.244832</td>\n",
       "    </tr>\n",
       "    <tr>\n",
       "      <th>LotArea</th>\n",
       "      <td>0.033654</td>\n",
       "      <td>-0.002171</td>\n",
       "      <td>-0.006144</td>\n",
       "      <td>1.000000</td>\n",
       "      <td>0.615170</td>\n",
       "      <td>0.482289</td>\n",
       "      <td>0.336575</td>\n",
       "      <td>0.110388</td>\n",
       "      <td>0.488403</td>\n",
       "      <td>0.160414</td>\n",
       "      <td>...</td>\n",
       "      <td>0.033102</td>\n",
       "      <td>-0.020460</td>\n",
       "      <td>-0.005012</td>\n",
       "      <td>-0.104623</td>\n",
       "      <td>0.103973</td>\n",
       "      <td>0.026487</td>\n",
       "      <td>0.074096</td>\n",
       "      <td>-0.048984</td>\n",
       "      <td>0.054362</td>\n",
       "      <td>0.014319</td>\n",
       "    </tr>\n",
       "    <tr>\n",
       "      <th>BldgArea</th>\n",
       "      <td>0.046245</td>\n",
       "      <td>-0.053663</td>\n",
       "      <td>-0.066518</td>\n",
       "      <td>0.615170</td>\n",
       "      <td>1.000000</td>\n",
       "      <td>0.934459</td>\n",
       "      <td>0.234340</td>\n",
       "      <td>0.154926</td>\n",
       "      <td>0.614317</td>\n",
       "      <td>0.389971</td>\n",
       "      <td>...</td>\n",
       "      <td>0.110809</td>\n",
       "      <td>-0.084618</td>\n",
       "      <td>-0.017364</td>\n",
       "      <td>-0.064864</td>\n",
       "      <td>0.105804</td>\n",
       "      <td>0.051741</td>\n",
       "      <td>0.103966</td>\n",
       "      <td>-0.020294</td>\n",
       "      <td>0.037685</td>\n",
       "      <td>0.086243</td>\n",
       "    </tr>\n",
       "  </tbody>\n",
       "</table>\n",
       "<p>5 rows × 27 columns</p>\n",
       "</div>"
      ],
      "text/plain": [
       "               Lot   ZipCode   Address   LotArea  BldgArea   ResArea  \\\n",
       "Lot       1.000000  0.053139  0.128293  0.033654  0.046245  0.033490   \n",
       "ZipCode   0.053139  1.000000  0.473155 -0.002171 -0.053663 -0.041071   \n",
       "Address   0.128293  0.473155  1.000000 -0.006144 -0.066518 -0.051066   \n",
       "LotArea   0.033654 -0.002171 -0.006144  1.000000  0.615170  0.482289   \n",
       "BldgArea  0.046245 -0.053663 -0.066518  0.615170  1.000000  0.934459   \n",
       "\n",
       "          OfficeArea  RetailArea  NumBldgs  NumFloors  ...  FacilFAR  \\\n",
       "Lot         0.023628    0.066912  0.110101   0.075484  ... -0.041131   \n",
       "ZipCode    -0.042102   -0.029946  0.029839  -0.225398  ... -0.510757   \n",
       "Address    -0.040862   -0.038306  0.041296  -0.257619  ... -0.697765   \n",
       "LotArea     0.336575    0.110388  0.488403   0.160414  ...  0.033102   \n",
       "BldgArea    0.234340    0.154926  0.614317   0.389971  ...  0.110809   \n",
       "\n",
       "            XCoord    YCoord  IsResArea  IsOfficeArea  IsRetailArea  \\\n",
       "Lot      -0.117572  0.115325   0.011842      0.014027      0.015125   \n",
       "ZipCode   0.472132  0.285823   0.122255     -0.079698     -0.161575   \n",
       "Address   0.729301  0.450058   0.163602     -0.085190     -0.163477   \n",
       "LotArea  -0.020460 -0.005012  -0.104623      0.103973      0.026487   \n",
       "BldgArea -0.084618 -0.017364  -0.064864      0.105804      0.051741   \n",
       "\n",
       "          IsYearAlter1  IsResidFAR  IsCommFAR  Complaints  \n",
       "Lot          -0.003564    0.006884   0.004947   -0.013526  \n",
       "ZipCode      -0.157137    0.022460  -0.108835   -0.158751  \n",
       "Address      -0.164039    0.101521  -0.163475   -0.244832  \n",
       "LotArea       0.074096   -0.048984   0.054362    0.014319  \n",
       "BldgArea      0.103966   -0.020294   0.037685    0.086243  \n",
       "\n",
       "[5 rows x 27 columns]"
      ]
     },
     "execution_count": 52,
     "metadata": {},
     "output_type": "execute_result"
    }
   ],
   "source": [
    "# Check for correlations with heatmap.\n",
    "AllForHeat = df.corr()\n",
    "#AllForHeat.shape\n",
    "AllForHeat.head()"
   ]
  },
  {
   "cell_type": "code",
   "execution_count": 53,
   "metadata": {
    "scrolled": true
   },
   "outputs": [
    {
     "data": {
      "image/png": "[encoded data removed]",
      "text/plain": [
       "<Figure size 432x288 with 2 Axes>"
      ]
     },
     "metadata": {
      "needs_background": "light"
     },
     "output_type": "display_data"
    }
   ],
   "source": [
    "fig, ax = plt.subplots()\n",
    "im = ax.pcolor(AllForHeat, cmap='RdBu_r')\n",
    "row_labels = df.columns; col_labels = df.columns\n",
    "ax.set_xticklabels(row_labels, minor = False);ax.set_yticklabels(col_labels, minor = False)\n",
    "#move ticks and labels to the center.\n",
    "ax.set_xticks(np.arange(AllForHeat.shape[1]) + 0.5, minor=False)\n",
    "ax.set_yticks(np.arange(AllForHeat.shape[0]) + 0.5, minor=False)\n",
    "ax.set_title(\"heat map of correlations\")\n",
    "plt.xticks(rotation=90)\n",
    "plt.colorbar(im)\n",
    "plt.show()"
   ]
  },
  {
   "cell_type": "markdown",
   "metadata": {},
   "source": [
    "<p style=\"color:Red;\">Looking along the top row or rightmost column, there appear to be some correlations, though none super strong.  Looking at the actual numbers might help see them better.</p>"
   ]
  },
  {
   "cell_type": "code",
   "execution_count": 54,
   "metadata": {},
   "outputs": [
    {
     "data": {
      "text/plain": [
       "Complaints      1.000000\n",
       "NumFloors       0.376514\n",
       "BuiltFAR        0.356877\n",
       "ResidFAR        0.321032\n",
       "FacilFAR        0.300355\n",
       "BldgDepth       0.261032\n",
       "IsYearAlter1    0.127841\n",
       "YearAlter1      0.120091\n",
       "IsResArea       0.105891\n",
       "ResArea         0.094226\n",
       "IsRetailArea    0.092069\n",
       "BldgArea        0.086243\n",
       "YearBuilt      -0.112769\n",
       "ZipCode        -0.158751\n",
       "Address        -0.244832\n",
       "XCoord         -0.256147\n",
       "Name: Complaints, dtype: float64"
      ]
     },
     "execution_count": 54,
     "metadata": {},
     "output_type": "execute_result"
    }
   ],
   "source": [
    "#See numerically what the strongest correlations are.\n",
    "AllForHeat[(AllForHeat['Complaints'].ge(0.05))|(AllForHeat['Complaints'].le(-0.05))]['Complaints'].sort_values(ascending=False)"
   ]
  },
  {
   "cell_type": "code",
   "execution_count": 55,
   "metadata": {},
   "outputs": [
    {
     "name": "stdout",
     "output_type": "stream",
     "text": [
      "Address -0.24483185483237313 0.0\n",
      "NumFloors 0.3765138871472273 0.0\n",
      "BldgDepth 0.26103169638585866 0.0\n",
      "BuiltFAR 0.35687706346204445 0.0\n",
      "ResidFAR 0.32103244325701963 0.0\n",
      "FacilFAR 0.3003546970260621 0.0\n",
      "XCoord -0.25614725800843524 0.0\n",
      "Complaints 1.0 0.0\n"
     ]
    }
   ],
   "source": [
    "# Get the pearson correlations and confidence measures\n",
    "for col in df.columns:\n",
    "    pearson_coef, p_value = stats.pearsonr(df[col], df['Complaints'])\n",
    "    if abs(pearson_coef) > 0.20 and p_value < 0.10:\n",
    "        print(col, pearson_coef, p_value)"
   ]
  },
  {
   "cell_type": "markdown",
   "metadata": {},
   "source": [
    "<p style=\"color:Red;\">Not really any \"strong\" correlations, but some weak ones with high confidence.  Double check the details of a few of these.</p>"
   ]
  },
  {
   "cell_type": "code",
   "execution_count": 56,
   "metadata": {},
   "outputs": [
    {
     "name": "stdout",
     "output_type": "stream",
     "text": [
      "82044 18979 0.23132709277948418\n"
     ]
    }
   ],
   "source": [
    "# Address correlates?  Why?\n",
    "total = df.shape[0]\n",
    "complainers = df[df['Complaints'].eq(1)].shape[0]\n",
    "print (total, complainers, complainers / total)"
   ]
  },
  {
   "cell_type": "markdown",
   "metadata": {},
   "source": [
    "<p style=\"color:Red;\">I think address correlates just because each address either had a complaint or not, so the correlation is about the same as the percentage that had a complaint.  Also, question 2 already narrowed it down geographically so I'm going to dismiss this \"correlation\" as not relevant to the question at hand.  To a lesser extent the X Coordinate and ZIP code are in the same boat, though there may be a higher (but still very low) correlation than there is with address.</p>"
   ]
  },
  {
   "cell_type": "code",
   "execution_count": 57,
   "metadata": {},
   "outputs": [
    {
     "name": "stdout",
     "output_type": "stream",
     "text": [
      "82044 63065 0.7686729072205158\n"
     ]
    }
   ],
   "source": [
    "#YearAlter1 correlates?  Why?\n",
    "total = df.shape[0]\n",
    "never_altered = df[df['Complaints'].eq(0)].shape[0]\n",
    "print (total, never_altered, never_altered / total)"
   ]
  },
  {
   "cell_type": "code",
   "execution_count": 58,
   "metadata": {},
   "outputs": [
    {
     "name": "stdout",
     "output_type": "stream",
     "text": [
      "YearAlter1 0.12009130862774794 3.672719811720478e-261\n",
      "Complaints 1.0 0.0\n",
      "0.0 -0.1278711652056584 4.2972167038339496e-296\n",
      "0.758928571428573 0.051992673343054865 3.185125843408488e-50\n",
      "0.7678571428571423 0.07350134368931642 1.177835419775041e-98\n",
      "0.7767857142857153 0.05415323249718258 2.4457386386692988e-54\n"
     ]
    }
   ],
   "source": [
    "#Alteration year - take a closer look.\n",
    "alterations = df[['YearAlter1','Complaints']]\n",
    "alterations = pd.concat([alterations, pd.get_dummies(alterations['YearAlter1'])], axis=1)\n",
    "for col in alterations.columns:\n",
    "    pearson_coef, p_value = stats.pearsonr(alterations[col], alterations['Complaints'])\n",
    "    if abs(pearson_coef) > 0.05 and p_value < 0.10:\n",
    "        print(col, pearson_coef, p_value)"
   ]
  },
  {
   "cell_type": "markdown",
   "metadata": {},
   "source": [
    "<p style=\"color:Red;\">The only even mildly significant YearAlter1 correlations are between the observations where this field is zero, which is about 2/3 of the data.  My conclusion is that this is a factor of the high number of zeroes, causing the correlation to skew toward lower numbers, hence the lowest numbers, the zeroes themselves, are considered more correlated.</p>"
   ]
  },
  {
   "cell_type": "code",
   "execution_count": 59,
   "metadata": {},
   "outputs": [
    {
     "name": "stdout",
     "output_type": "stream",
     "text": [
      "ResidFAR FacilFAR 0.8722458797097168 0.0\n",
      "ResidFAR BuiltFAR 0.3892262066891953 0.0\n",
      "FacilFAR BuiltFAR 0.37353437365841896 0.0\n"
     ]
    }
   ],
   "source": [
    "#check a few of these to see if they are different data points that capture the same relationship.\n",
    "def see_pearson(a,b):\n",
    "    pearson_coef, p_value = stats.pearsonr(df[a], df[b])\n",
    "    print(a, b, pearson_coef, p_value)\n",
    "see_pearson('ResidFAR','FacilFAR')\n",
    "see_pearson('ResidFAR','BuiltFAR')\n",
    "see_pearson('FacilFAR','BuiltFAR')"
   ]
  },
  {
   "cell_type": "markdown",
   "metadata": {},
   "source": [
    "<p style=\"color:Red;\">ResidFAR and FacilFAR are strongly correlated to each other.  The documentation says FAR is the \"Floor Area Ratio\" between the building and the LOT.  The Resid and Facility variations are about the same.  What they have in common is they are both \"not commercial\".</p>"
   ]
  },
  {
   "cell_type": "markdown",
   "metadata": {},
   "source": [
    "#### Visualize strongest Pearson correlations"
   ]
  },
  {
   "cell_type": "code",
   "execution_count": 60,
   "metadata": {
    "scrolled": true
   },
   "outputs": [
    {
     "data": {
      "image/png": "[encoded data removed]",
      "text/plain": [
       "<Figure size 576x216 with 1 Axes>"
      ]
     },
     "metadata": {
      "needs_background": "light"
     },
     "output_type": "display_data"
    }
   ],
   "source": [
    "#Visualize\n",
    "#df.corr()['Complaints'].map(abs).plot(kind='bar', title='Correlation with heating complaints',figsize=(8,3))\n",
    "df.corr()['Complaints'].plot(kind='bar', grid=True, title='Correlation with heating complaints',figsize=(8,3))\n",
    "plt.xlabel('Building Characteristics'); plt.ylabel('Correlation')\n",
    "plt.show()"
   ]
  },
  {
   "cell_type": "markdown",
   "metadata": {},
   "source": [
    "<a id=\"conclusion\"></a>\n",
    "# Concluding Remarks\n",
    "---"
   ]
  },
  {
   "cell_type": "markdown",
   "metadata": {},
   "source": [
    "The HEATING/HOT WATER complaint types (Question 1) reported in the BRONX borough (question 2) have an obvious relationship with the following housing characteristics:\n",
    "<ul>\n",
    "<li>NumFloors (Number of Floors):  0.37 correlation.\n",
    "<li>BuiltFAR (Total building floor area divided by the area of the tax lot):  0.35 correlation.\n",
    "<li>ResidFAR ():  0.32 correlation.\n",
    "</ul>\n",
    "The inability to compute an effective logistic regression is further evidence that the relationships are not especially strong, but the pearson correlation confidence numbers suggest these measurements are accurate."
   ]
  },
  {
   "cell_type": "markdown",
   "metadata": {},
   "source": [
    "So basically the taller and bigger the floor area of the building, the more heating complaints from that building.  Especially residential buildings."
   ]
  }
 ],
 "metadata": {
  "kernelspec": {
   "display_name": "Python 3",
   "language": "python",
   "name": "python3"
  },
  "language_info": {
   "codemirror_mode": {
    "name": "ipython",
    "version": 3
   },
   "file_extension": ".py",
   "mimetype": "text/x-python",
   "name": "python",
   "nbconvert_exporter": "python",
   "pygments_lexer": "ipython3",
   "version": "3.7.3"
  }
 },
 "nbformat": 4,
 "nbformat_minor": 1
}
