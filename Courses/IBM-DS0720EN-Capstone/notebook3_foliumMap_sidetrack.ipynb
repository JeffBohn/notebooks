{
 "cells": [
  {
   "cell_type": "markdown",
   "metadata": {},
   "source": [
    "<h1 style=\"text-align:center\">Data Science and Machine Learning Capstone Project</h1>\n",
    "<img style=\"float:right\" src=\"https://prod-edxapp.edx-cdn.org/static/edx.org/images/logo.790c9a5340cb.png\">\n",
    "<p style=\"text-align:center\">IBM: DS0720EN</p>\n",
    "<p style=\"text-align:center\">Question 3 of 4</p>"
   ]
  },
  {
   "cell_type": "markdown",
   "metadata": {},
   "source": [
    "1. [Problem Statement](#problem)\n",
    "2. [Question 3](#question)\n",
    "3. [Data Cleaning and Standardization](#wrangling)\n",
    "4. [Analyzing and Visualizing](#analysis)\n",
    "5. [Concluding Remarks](#conclusion)"
   ]
  },
  {
   "cell_type": "markdown",
   "metadata": {},
   "source": [
    "<a id=\"problem\"></a>\n",
    "# Problem Statement\n",
    "---"
   ]
  },
  {
   "cell_type": "markdown",
   "metadata": {},
   "source": [
    "The people of New York use the 311 system to report complaints about the non-emergency problems to local authorities. Various agencies in New York are assigned these problems. The Department of Housing Preservation and Development of New York City is the agency that processes 311 complaints that are related to housing and buildings.\n",
    "\n",
    "In the last few years, the number of 311 complaints coming to the Department of Housing Preservation and Development has increased significantly. Although these complaints are not necessarily urgent, the large volume of complaints and the sudden increase is impacting the overall efficiency of operations of the agency.\n",
    "\n",
    "Therefore, the Department of Housing Preservation and Development has approached your organization to help them manage the large volume of 311 complaints they are receiving every year.\n",
    "\n",
    "The agency needs answers to several questions. The answers to those questions must be supported by data and analytics. These are their  questions:"
   ]
  },
  {
   "cell_type": "markdown",
   "metadata": {},
   "source": [
    "<a id=\"question\"></a>\n",
    "# Question 3\n",
    "---"
   ]
  },
  {
   "cell_type": "markdown",
   "metadata": {},
   "source": [
    "Does the Complaint Type that you identified in response to Question 1 have an obvious relationship with any particular characteristic or characteristic of the Houses?"
   ]
  },
  {
   "cell_type": "markdown",
   "metadata": {},
   "source": [
    "## Approach\n",
    "Determine how to link the 311 data with the PLUTO data then identify whether or not there are any correlations between the HEAT/HOT WATER complaints from Question 1 to the PLUTO house information."
   ]
  },
  {
   "cell_type": "markdown",
   "metadata": {},
   "source": [
    "## Load Data\n",
    "Separately from this notebook:\n",
    "\n",
    "The [New York 311](https://data.cityofnewyork.us/Social-Services/311-Service-Requests-from-2010-to-Present/erm2-nwe9) data was loaded by [SODA](https://data.cityofnewyork.us/resource/fhrw-4uyv.csv?$limit=100000000&Agency=HPD&$select=created_date,unique_key,complaint_type,incident_zip,incident_address,street_name,address_type,city,resolution_description,borough,latitude,longitude,closed_date,location_type,status) into a Pandas DataFrame then saved to a pickle file.\n",
    "\n",
    "The [New York PLUTO](https://data.cityofnewyork.us/City-Government/Primary-Land-Use-Tax-Lot-Output-PLUTO-/xuk2-nczf) data was downloaded.  The instructions at ( Course / 1. Project Challenge Details and Setup / Datasets Used in this Course / Datasets ) said \"Use only the part that is specific to the borough that you are interested in based on your analysis.\"  My answer for Question 2 suggested the borough with the biggest HEAT/HOT WATER problem was BRONX.  For that reason, only the BX_18v1.csv file was loaded into a Pandas DataFrame then saved to a pickle file."
   ]
  },
  {
   "cell_type": "code",
   "execution_count": 1,
   "metadata": {
    "scrolled": true
   },
   "outputs": [
    {
     "name": "stdout",
     "output_type": "stream",
     "text": [
      "NY 311 shape (5862383, 15)\n",
      "BRONX PLUTO shape (89854, 21)\n"
     ]
    }
   ],
   "source": [
    "import pandas as pd\n",
    "files_path = 'C:\\\\Users\\\\It_Co\\\\Documents\\\\DataScience\\\\Capstone\\\\' #local\n",
    "#files_path = './' #IBM Cloud / Watson Studio\n",
    "\n",
    "b311 = pd.read_pickle(files_path + 'ny311full.pkl')\n",
    "\n",
    "#bPlu = pd.read_csv(files_path + 'BX_18v1.csv', usecols=['Address','BldgArea','BldgDepth','BuiltFAR','CommFAR','FacilFAR','Lot','LotArea','LotDepth','NumBldgs','NumFloors','OfficeArea','ResArea','ResidFAR','RetailArea','YearBuilt','YearAlter1','ZipCode','YCoord','XCoord','BBL'])\n",
    "#bPlu.to_pickle(files_path + 'BX_18v1.pkl')\n",
    "bPlu = pd.read_pickle(files_path + 'BX_18v1.pkl')\n",
    "\n",
    "print(\"NY 311 shape %s\" % (b311.shape,))\n",
    "print(\"BRONX PLUTO shape %s\" % (bPlu.shape,))"
   ]
  },
  {
   "cell_type": "markdown",
   "metadata": {},
   "source": [
    "<a id=\"wrangling\"></a>\n",
    "# Data Cleaning and Standardization\n",
    "---"
   ]
  },
  {
   "cell_type": "markdown",
   "metadata": {},
   "source": [
    "Observations with missing or malformed data elements will need to be corrected or removed.  The 311 and the PLUTO data sets will need to be \"joined\" together by the common \"address\" element, which means the addresses will need to be standardized to a consistent layout to allow the addresses to be compared consistently."
   ]
  },
  {
   "cell_type": "markdown",
   "metadata": {},
   "source": [
    "## NY 311"
   ]
  },
  {
   "cell_type": "markdown",
   "metadata": {},
   "source": [
    "### General"
   ]
  },
  {
   "cell_type": "code",
   "execution_count": 2,
   "metadata": {},
   "outputs": [],
   "source": [
    "#Normalize relevant strings to uppercase so different casing won't appear as separate values.\n",
    "b311['incident_address'] = b311['incident_address'].str.upper()\n",
    "b311['city'] = b311['city'].str.upper()\n",
    "b311['borough'] = b311['borough'].str.upper()\n",
    "#We only care if it is the combined \"heating and hot water\" from Question 1, or some other type of complaint.\n",
    "b311.loc[b311[b311[\"complaint_type\"].isin([\"HEAT/HOT WATER\",\"HEATING\"])==True].index,'complaint_type'] = \"HEAT/HOT WATER\"\n",
    "b311.loc[b311[b311[\"complaint_type\"].isin([\"HEAT/HOT WATER\",\"HEATING\"])==False].index,'complaint_type'] = \"OTHER\""
   ]
  },
  {
   "cell_type": "code",
   "execution_count": 3,
   "metadata": {},
   "outputs": [
    {
     "name": "stdout",
     "output_type": "stream",
     "text": [
      "shape (5862383, 15)\n",
      "--nulls below--\n",
      "created_date                   0\n",
      "unique_key                     0\n",
      "complaint_type                 0\n",
      "incident_zip               80611\n",
      "incident_address           52831\n",
      "street_name                52831\n",
      "address_type               84775\n",
      "city                       80210\n",
      "resolution_description     13194\n",
      "borough                        0\n",
      "latitude                   80585\n",
      "longitude                  80585\n",
      "closed_date               123122\n",
      "location_type                  0\n",
      "status                         0\n",
      "dtype: int64\n",
      "--types below--\n",
      "created_date               object\n",
      "unique_key                 object\n",
      "complaint_type             object\n",
      "incident_zip              float64\n",
      "incident_address           object\n",
      "street_name                object\n",
      "address_type               object\n",
      "city                       object\n",
      "resolution_description     object\n",
      "borough                    object\n",
      "latitude                  float64\n",
      "longitude                 float64\n",
      "closed_date                object\n",
      "location_type              object\n",
      "status                     object\n",
      "dtype: object\n"
     ]
    },
    {
     "data": {
      "text/html": [
       "<div>\n",
       "<style scoped>\n",
       "    .dataframe tbody tr th:only-of-type {\n",
       "        vertical-align: middle;\n",
       "    }\n",
       "\n",
       "    .dataframe tbody tr th {\n",
       "        vertical-align: top;\n",
       "    }\n",
       "\n",
       "    .dataframe thead th {\n",
       "        text-align: right;\n",
       "    }\n",
       "</style>\n",
       "<table border=\"1\" class=\"dataframe\">\n",
       "  <thead>\n",
       "    <tr style=\"text-align: right;\">\n",
       "      <th></th>\n",
       "      <th>created_date</th>\n",
       "      <th>unique_key</th>\n",
       "      <th>complaint_type</th>\n",
       "      <th>incident_zip</th>\n",
       "      <th>incident_address</th>\n",
       "      <th>street_name</th>\n",
       "      <th>address_type</th>\n",
       "      <th>city</th>\n",
       "      <th>resolution_description</th>\n",
       "      <th>borough</th>\n",
       "      <th>latitude</th>\n",
       "      <th>longitude</th>\n",
       "      <th>closed_date</th>\n",
       "      <th>location_type</th>\n",
       "      <th>status</th>\n",
       "    </tr>\n",
       "  </thead>\n",
       "  <tbody>\n",
       "    <tr>\n",
       "      <th>0</th>\n",
       "      <td>2019-09-28T20:31:44.000</td>\n",
       "      <td>43918968</td>\n",
       "      <td>OTHER</td>\n",
       "      <td>11435.0</td>\n",
       "      <td>141-40 PERSHING CRESCENT</td>\n",
       "      <td>PERSHING CRESCENT</td>\n",
       "      <td>ADDRESS</td>\n",
       "      <td>JAMAICA</td>\n",
       "      <td>The following complaint conditions are still o...</td>\n",
       "      <td>QUEENS</td>\n",
       "      <td>40.712047</td>\n",
       "      <td>-73.815983</td>\n",
       "      <td>NaN</td>\n",
       "      <td>RESIDENTIAL BUILDING</td>\n",
       "      <td>Open</td>\n",
       "    </tr>\n",
       "    <tr>\n",
       "      <th>1</th>\n",
       "      <td>2019-09-28T20:16:49.000</td>\n",
       "      <td>43917365</td>\n",
       "      <td>OTHER</td>\n",
       "      <td>11223.0</td>\n",
       "      <td>1702 WEST    1 STREET</td>\n",
       "      <td>WEST    1 STREET</td>\n",
       "      <td>ADDRESS</td>\n",
       "      <td>BROOKLYN</td>\n",
       "      <td>The following complaint conditions are still o...</td>\n",
       "      <td>BROOKLYN</td>\n",
       "      <td>40.606232</td>\n",
       "      <td>-73.974553</td>\n",
       "      <td>NaN</td>\n",
       "      <td>RESIDENTIAL BUILDING</td>\n",
       "      <td>Open</td>\n",
       "    </tr>\n",
       "    <tr>\n",
       "      <th>2</th>\n",
       "      <td>2019-09-28T16:10:10.000</td>\n",
       "      <td>43917912</td>\n",
       "      <td>HEAT/HOT WATER</td>\n",
       "      <td>11233.0</td>\n",
       "      <td>1711 FULTON STREET</td>\n",
       "      <td>FULTON STREET</td>\n",
       "      <td>ADDRESS</td>\n",
       "      <td>BROOKLYN</td>\n",
       "      <td>The complaint you filed is a duplicate of a co...</td>\n",
       "      <td>BROOKLYN</td>\n",
       "      <td>40.679340</td>\n",
       "      <td>-73.930435</td>\n",
       "      <td>NaN</td>\n",
       "      <td>RESIDENTIAL BUILDING</td>\n",
       "      <td>Open</td>\n",
       "    </tr>\n",
       "    <tr>\n",
       "      <th>3</th>\n",
       "      <td>2019-09-28T14:50:47.000</td>\n",
       "      <td>43918939</td>\n",
       "      <td>OTHER</td>\n",
       "      <td>10456.0</td>\n",
       "      <td>881 CAULDWELL AVENUE</td>\n",
       "      <td>CAULDWELL AVENUE</td>\n",
       "      <td>ADDRESS</td>\n",
       "      <td>BRONX</td>\n",
       "      <td>The following complaint conditions are still o...</td>\n",
       "      <td>BRONX</td>\n",
       "      <td>40.822361</td>\n",
       "      <td>-73.907267</td>\n",
       "      <td>NaN</td>\n",
       "      <td>RESIDENTIAL BUILDING</td>\n",
       "      <td>Open</td>\n",
       "    </tr>\n",
       "    <tr>\n",
       "      <th>4</th>\n",
       "      <td>2019-09-28T09:28:25.000</td>\n",
       "      <td>43916893</td>\n",
       "      <td>OTHER</td>\n",
       "      <td>11205.0</td>\n",
       "      <td>196 CLINTON AVENUE</td>\n",
       "      <td>CLINTON AVENUE</td>\n",
       "      <td>ADDRESS</td>\n",
       "      <td>BROOKLYN</td>\n",
       "      <td>The following complaint conditions are still o...</td>\n",
       "      <td>BROOKLYN</td>\n",
       "      <td>40.692252</td>\n",
       "      <td>-73.968649</td>\n",
       "      <td>NaN</td>\n",
       "      <td>RESIDENTIAL BUILDING</td>\n",
       "      <td>Open</td>\n",
       "    </tr>\n",
       "  </tbody>\n",
       "</table>\n",
       "</div>"
      ],
      "text/plain": [
       "              created_date unique_key  complaint_type  incident_zip  \\\n",
       "0  2019-09-28T20:31:44.000   43918968           OTHER       11435.0   \n",
       "1  2019-09-28T20:16:49.000   43917365           OTHER       11223.0   \n",
       "2  2019-09-28T16:10:10.000   43917912  HEAT/HOT WATER       11233.0   \n",
       "3  2019-09-28T14:50:47.000   43918939           OTHER       10456.0   \n",
       "4  2019-09-28T09:28:25.000   43916893           OTHER       11205.0   \n",
       "\n",
       "           incident_address        street_name address_type      city  \\\n",
       "0  141-40 PERSHING CRESCENT  PERSHING CRESCENT      ADDRESS   JAMAICA   \n",
       "1     1702 WEST    1 STREET   WEST    1 STREET      ADDRESS  BROOKLYN   \n",
       "2        1711 FULTON STREET      FULTON STREET      ADDRESS  BROOKLYN   \n",
       "3      881 CAULDWELL AVENUE   CAULDWELL AVENUE      ADDRESS     BRONX   \n",
       "4        196 CLINTON AVENUE     CLINTON AVENUE      ADDRESS  BROOKLYN   \n",
       "\n",
       "                              resolution_description   borough   latitude  \\\n",
       "0  The following complaint conditions are still o...    QUEENS  40.712047   \n",
       "1  The following complaint conditions are still o...  BROOKLYN  40.606232   \n",
       "2  The complaint you filed is a duplicate of a co...  BROOKLYN  40.679340   \n",
       "3  The following complaint conditions are still o...     BRONX  40.822361   \n",
       "4  The following complaint conditions are still o...  BROOKLYN  40.692252   \n",
       "\n",
       "   longitude closed_date         location_type status  \n",
       "0 -73.815983         NaN  RESIDENTIAL BUILDING   Open  \n",
       "1 -73.974553         NaN  RESIDENTIAL BUILDING   Open  \n",
       "2 -73.930435         NaN  RESIDENTIAL BUILDING   Open  \n",
       "3 -73.907267         NaN  RESIDENTIAL BUILDING   Open  \n",
       "4 -73.968649         NaN  RESIDENTIAL BUILDING   Open  "
      ]
     },
     "execution_count": 3,
     "metadata": {},
     "output_type": "execute_result"
    }
   ],
   "source": [
    "#Print some initial information for comparison during later steps.\n",
    "print(\"shape %s\" % str(b311.shape))\n",
    "print(\"--nulls below--\")\n",
    "print(b311.isnull().sum())\n",
    "print(\"--types below--\")\n",
    "print(b311.dtypes)\n",
    "b311.head()"
   ]
  },
  {
   "cell_type": "markdown",
   "metadata": {},
   "source": [
    "### Standardize Borough\n",
    "Leveraging findings found while standardizing during Question 2."
   ]
  },
  {
   "cell_type": "code",
   "execution_count": 4,
   "metadata": {},
   "outputs": [
    {
     "data": {
      "text/plain": [
       "BROOKLYN         1692795\n",
       "BRONX            1566246\n",
       "MANHATTAN        1020161\n",
       "UNSPECIFIED       873226\n",
       "QUEENS            624323\n",
       "STATEN ISLAND      85632\n",
       "Name: borough, dtype: int64"
      ]
     },
     "execution_count": 4,
     "metadata": {},
     "output_type": "execute_result"
    }
   ],
   "source": [
    "b311['borough'].value_counts()"
   ]
  },
  {
   "cell_type": "code",
   "execution_count": 5,
   "metadata": {},
   "outputs": [],
   "source": [
    "import numpy as np\n",
    "#Correct rows where borough was entered in the city column with \"UNSPECIFIED\" in the borough column.\n",
    "five_boroughs = [\"BROOKLYN\",\"BRONX\",\"MANHATTAN\",\"QUEENS\",\"STATEN ISLAND\"]\n",
    "which_rows_to_adjust = b311[(b311[\"borough\"]=='UNSPECIFIED')&b311[\"city\"].isin(five_boroughs)].index\n",
    "b311.loc[which_rows_to_adjust,'borough']=b311.loc[which_rows_to_adjust,'city']\n",
    "b311.loc[which_rows_to_adjust,'city']=np.nan\n",
    "#Drop a few rows of ambiguous data.\n",
    "b311.drop(b311[(b311[\"borough\"]=='MANHATTAN')&(b311[\"city\"]=='BRONX')].index, axis=0, inplace=True)\n",
    "b311.reset_index(drop=True, inplace=True)\n",
    "#Fill in UNSPECIFIED borough when city was entered as NEW YORK.\n",
    "which_rows_to_adjust = b311[(b311[\"borough\"]=='UNSPECIFIED')&(b311[\"city\"]=='NEW YORK')].index\n",
    "b311.loc[which_rows_to_adjust,'borough']=\"MANHATTAN\"\n",
    "b311.loc[which_rows_to_adjust,'city']=np.nan\n",
    "#Although the city for most of the \"NEW YORK\" ones are the only ones that technically got the \"city\" column valued correctly,\n",
    "#since every other row uses city as \"neighborhood\":  Standardize these.\n",
    "which_rows_to_adjust = b311[(b311[\"city\"]=='NEW YORK')].index\n",
    "b311.loc[which_rows_to_adjust,'city']=np.nan\n",
    "#Any still unspecified boroughs with a value in \"city\" are in the Queens borough.  The \"city\" is actually a \"neighborhood\".\n",
    "queens_neighborhoods = b311[(b311['borough']=='UNSPECIFIED')&(b311['city'].isnull()==False)]['city'].unique()\n",
    "#Standardize borough for Queens neighborhoods.\n",
    "which_rows_to_adjust = b311[(b311[\"borough\"]=='UNSPECIFIED')&b311[\"city\"].isin(queens_neighborhoods)].index\n",
    "b311.loc[which_rows_to_adjust,'borough']=\"QUEENS\"\n",
    "#Null the borough if it still shows up as unspecified borough as there is no other information from which to derive it.\n",
    "which_rows_to_adjust = b311[(b311[\"borough\"]=='UNSPECIFIED')&b311[\"city\"].isnull()].index\n",
    "b311.loc[which_rows_to_adjust,'borough']=np.nan"
   ]
  },
  {
   "cell_type": "code",
   "execution_count": 6,
   "metadata": {},
   "outputs": [
    {
     "data": {
      "text/plain": [
       "BROOKLYN         1988158\n",
       "BRONX            1816914\n",
       "MANHATTAN        1175218\n",
       "QUEENS            728676\n",
       "STATEN ISLAND      99998\n",
       "Name: borough, dtype: int64"
      ]
     },
     "execution_count": 6,
     "metadata": {},
     "output_type": "execute_result"
    }
   ],
   "source": [
    "b311['borough'].value_counts()"
   ]
  },
  {
   "cell_type": "markdown",
   "metadata": {},
   "source": [
    "### Filter NY 311 data by borough to only include BRONX"
   ]
  },
  {
   "cell_type": "code",
   "execution_count": 7,
   "metadata": {},
   "outputs": [
    {
     "data": {
      "text/plain": [
       "BRONX    1816914\n",
       "Name: borough, dtype: int64"
      ]
     },
     "execution_count": 7,
     "metadata": {},
     "output_type": "execute_result"
    }
   ],
   "source": [
    "b311.drop(b311[(b311[\"borough\"]!='BRONX')].index, axis=0, inplace=True)\n",
    "b311.reset_index(drop=True, inplace=True)\n",
    "b311['borough'].value_counts()"
   ]
  },
  {
   "cell_type": "markdown",
   "metadata": {},
   "source": [
    "### Remove unnecessary columns"
   ]
  },
  {
   "cell_type": "code",
   "execution_count": 8,
   "metadata": {},
   "outputs": [
    {
     "name": "stdout",
     "output_type": "stream",
     "text": [
      "(1816914, 5)\n",
      "complaint_type         0\n",
      "incident_zip        8083\n",
      "incident_address       1\n",
      "latitude            8083\n",
      "longitude           8083\n",
      "dtype: int64\n"
     ]
    },
    {
     "data": {
      "text/html": [
       "<div>\n",
       "<style scoped>\n",
       "    .dataframe tbody tr th:only-of-type {\n",
       "        vertical-align: middle;\n",
       "    }\n",
       "\n",
       "    .dataframe tbody tr th {\n",
       "        vertical-align: top;\n",
       "    }\n",
       "\n",
       "    .dataframe thead th {\n",
       "        text-align: right;\n",
       "    }\n",
       "</style>\n",
       "<table border=\"1\" class=\"dataframe\">\n",
       "  <thead>\n",
       "    <tr style=\"text-align: right;\">\n",
       "      <th></th>\n",
       "      <th>complaint_type</th>\n",
       "      <th>incident_zip</th>\n",
       "      <th>incident_address</th>\n",
       "      <th>latitude</th>\n",
       "      <th>longitude</th>\n",
       "    </tr>\n",
       "  </thead>\n",
       "  <tbody>\n",
       "    <tr>\n",
       "      <th>0</th>\n",
       "      <td>OTHER</td>\n",
       "      <td>10456.0</td>\n",
       "      <td>881 CAULDWELL AVENUE</td>\n",
       "      <td>40.822361</td>\n",
       "      <td>-73.907267</td>\n",
       "    </tr>\n",
       "    <tr>\n",
       "      <th>1</th>\n",
       "      <td>HEAT/HOT WATER</td>\n",
       "      <td>10457.0</td>\n",
       "      <td>4487 3 AVENUE</td>\n",
       "      <td>40.853236</td>\n",
       "      <td>-73.891742</td>\n",
       "    </tr>\n",
       "    <tr>\n",
       "      <th>2</th>\n",
       "      <td>OTHER</td>\n",
       "      <td>10452.0</td>\n",
       "      <td>133 CLARKE PLACE EAST</td>\n",
       "      <td>40.837417</td>\n",
       "      <td>-73.916512</td>\n",
       "    </tr>\n",
       "    <tr>\n",
       "      <th>3</th>\n",
       "      <td>OTHER</td>\n",
       "      <td>10453.0</td>\n",
       "      <td>2076 CRESTON AVENUE</td>\n",
       "      <td>40.853689</td>\n",
       "      <td>-73.903955</td>\n",
       "    </tr>\n",
       "    <tr>\n",
       "      <th>4</th>\n",
       "      <td>OTHER</td>\n",
       "      <td>10471.0</td>\n",
       "      <td>6035 BROADWAY</td>\n",
       "      <td>40.891859</td>\n",
       "      <td>-73.897216</td>\n",
       "    </tr>\n",
       "  </tbody>\n",
       "</table>\n",
       "</div>"
      ],
      "text/plain": [
       "   complaint_type  incident_zip       incident_address   latitude  longitude\n",
       "0           OTHER       10456.0   881 CAULDWELL AVENUE  40.822361 -73.907267\n",
       "1  HEAT/HOT WATER       10457.0          4487 3 AVENUE  40.853236 -73.891742\n",
       "2           OTHER       10452.0  133 CLARKE PLACE EAST  40.837417 -73.916512\n",
       "3           OTHER       10453.0    2076 CRESTON AVENUE  40.853689 -73.903955\n",
       "4           OTHER       10471.0          6035 BROADWAY  40.891859 -73.897216"
      ]
     },
     "execution_count": 8,
     "metadata": {},
     "output_type": "execute_result"
    }
   ],
   "source": [
    "#Remove columns deemed unnecessary for this question.\n",
    "b311.drop(['created_date','street_name','address_type','city','resolution_description','borough','closed_date','location_type','status','unique_key'], axis=1, inplace=True)\n",
    "print(b311.shape)\n",
    "print(b311.isnull().sum())\n",
    "b311.head()"
   ]
  },
  {
   "cell_type": "code",
   "execution_count": 9,
   "metadata": {},
   "outputs": [
    {
     "name": "stdout",
     "output_type": "stream",
     "text": [
      "complaint_type         0\n",
      "incident_zip        8082\n",
      "incident_address       0\n",
      "latitude            8082\n",
      "longitude           8082\n",
      "dtype: int64\n"
     ]
    },
    {
     "data": {
      "text/plain": [
       "1025 BOYNTON AVENUE        9854\n",
       "3810 BAILEY AVENUE         7171\n",
       "750 GRAND CONCOURSE        4412\n",
       "888 GRAND CONCOURSE        4271\n",
       "3555 BRUCKNER BOULEVARD    4076\n",
       "Name: incident_address, dtype: int64"
      ]
     },
     "execution_count": 9,
     "metadata": {},
     "output_type": "execute_result"
    }
   ],
   "source": [
    "# Drop the one observation with the missing address as there will be no way to tie it to any PLUTO data.\n",
    "b311.dropna(subset=['incident_address'], axis=0, inplace=True)\n",
    "b311.reset_index(drop=True, inplace=True)\n",
    "print(b311.isnull().sum())\n",
    "b311['incident_address'].value_counts().head()"
   ]
  },
  {
   "cell_type": "markdown",
   "metadata": {},
   "source": [
    "## BRONX PLUTO"
   ]
  },
  {
   "cell_type": "code",
   "execution_count": 10,
   "metadata": {},
   "outputs": [
    {
     "name": "stdout",
     "output_type": "stream",
     "text": [
      "shape (89854, 21)\n",
      "---isnull follows---\n",
      "Lot              0\n",
      "ZipCode        329\n",
      "Address         69\n",
      "LotArea          0\n",
      "BldgArea         0\n",
      "ResArea          0\n",
      "OfficeArea       0\n",
      "RetailArea       0\n",
      "NumBldgs         0\n",
      "NumFloors        0\n",
      "LotDepth         0\n",
      "BldgDepth        0\n",
      "YearBuilt        0\n",
      "YearAlter1       0\n",
      "BuiltFAR         0\n",
      "ResidFAR         0\n",
      "CommFAR          0\n",
      "FacilFAR         0\n",
      "BBL              0\n",
      "XCoord        3259\n",
      "YCoord        3259\n",
      "dtype: int64\n"
     ]
    },
    {
     "data": {
      "text/html": [
       "<div>\n",
       "<style scoped>\n",
       "    .dataframe tbody tr th:only-of-type {\n",
       "        vertical-align: middle;\n",
       "    }\n",
       "\n",
       "    .dataframe tbody tr th {\n",
       "        vertical-align: top;\n",
       "    }\n",
       "\n",
       "    .dataframe thead th {\n",
       "        text-align: right;\n",
       "    }\n",
       "</style>\n",
       "<table border=\"1\" class=\"dataframe\">\n",
       "  <thead>\n",
       "    <tr style=\"text-align: right;\">\n",
       "      <th></th>\n",
       "      <th>Lot</th>\n",
       "      <th>ZipCode</th>\n",
       "      <th>Address</th>\n",
       "      <th>LotArea</th>\n",
       "      <th>BldgArea</th>\n",
       "      <th>ResArea</th>\n",
       "      <th>OfficeArea</th>\n",
       "      <th>RetailArea</th>\n",
       "      <th>NumBldgs</th>\n",
       "      <th>NumFloors</th>\n",
       "      <th>...</th>\n",
       "      <th>BldgDepth</th>\n",
       "      <th>YearBuilt</th>\n",
       "      <th>YearAlter1</th>\n",
       "      <th>BuiltFAR</th>\n",
       "      <th>ResidFAR</th>\n",
       "      <th>CommFAR</th>\n",
       "      <th>FacilFAR</th>\n",
       "      <th>BBL</th>\n",
       "      <th>XCoord</th>\n",
       "      <th>YCoord</th>\n",
       "    </tr>\n",
       "  </thead>\n",
       "  <tbody>\n",
       "    <tr>\n",
       "      <th>0</th>\n",
       "      <td>1</td>\n",
       "      <td>10454.0</td>\n",
       "      <td>122 BRUCKNER BOULEVARD</td>\n",
       "      <td>15000</td>\n",
       "      <td>0</td>\n",
       "      <td>0</td>\n",
       "      <td>0</td>\n",
       "      <td>0</td>\n",
       "      <td>1</td>\n",
       "      <td>0.0</td>\n",
       "      <td>...</td>\n",
       "      <td>0.0</td>\n",
       "      <td>0</td>\n",
       "      <td>0</td>\n",
       "      <td>0.00</td>\n",
       "      <td>6.02</td>\n",
       "      <td>5.0</td>\n",
       "      <td>6.5</td>\n",
       "      <td>2022600001</td>\n",
       "      <td>1005957.0</td>\n",
       "      <td>232162.0</td>\n",
       "    </tr>\n",
       "    <tr>\n",
       "      <th>1</th>\n",
       "      <td>4</td>\n",
       "      <td>10454.0</td>\n",
       "      <td>126 BRUCKNER BOULEVARD</td>\n",
       "      <td>13770</td>\n",
       "      <td>752</td>\n",
       "      <td>0</td>\n",
       "      <td>272</td>\n",
       "      <td>0</td>\n",
       "      <td>2</td>\n",
       "      <td>1.0</td>\n",
       "      <td>...</td>\n",
       "      <td>16.0</td>\n",
       "      <td>1931</td>\n",
       "      <td>1994</td>\n",
       "      <td>0.05</td>\n",
       "      <td>6.02</td>\n",
       "      <td>5.0</td>\n",
       "      <td>6.5</td>\n",
       "      <td>2022600004</td>\n",
       "      <td>1006076.0</td>\n",
       "      <td>232156.0</td>\n",
       "    </tr>\n",
       "    <tr>\n",
       "      <th>2</th>\n",
       "      <td>10</td>\n",
       "      <td>10454.0</td>\n",
       "      <td>138 BRUCKNER BOULEVARD</td>\n",
       "      <td>35000</td>\n",
       "      <td>39375</td>\n",
       "      <td>0</td>\n",
       "      <td>0</td>\n",
       "      <td>0</td>\n",
       "      <td>1</td>\n",
       "      <td>2.0</td>\n",
       "      <td>...</td>\n",
       "      <td>200.0</td>\n",
       "      <td>1931</td>\n",
       "      <td>0</td>\n",
       "      <td>1.13</td>\n",
       "      <td>6.02</td>\n",
       "      <td>5.0</td>\n",
       "      <td>6.5</td>\n",
       "      <td>2022600010</td>\n",
       "      <td>1006187.0</td>\n",
       "      <td>232036.0</td>\n",
       "    </tr>\n",
       "    <tr>\n",
       "      <th>3</th>\n",
       "      <td>17</td>\n",
       "      <td>10454.0</td>\n",
       "      <td>144 BRUCKNER BOULEVARD</td>\n",
       "      <td>2500</td>\n",
       "      <td>12500</td>\n",
       "      <td>12500</td>\n",
       "      <td>0</td>\n",
       "      <td>0</td>\n",
       "      <td>1</td>\n",
       "      <td>5.0</td>\n",
       "      <td>...</td>\n",
       "      <td>85.0</td>\n",
       "      <td>1931</td>\n",
       "      <td>2001</td>\n",
       "      <td>5.00</td>\n",
       "      <td>6.02</td>\n",
       "      <td>5.0</td>\n",
       "      <td>6.5</td>\n",
       "      <td>2022600017</td>\n",
       "      <td>1006299.0</td>\n",
       "      <td>232033.0</td>\n",
       "    </tr>\n",
       "    <tr>\n",
       "      <th>4</th>\n",
       "      <td>18</td>\n",
       "      <td>10454.0</td>\n",
       "      <td>148 BRUCKNER BOULEVARD</td>\n",
       "      <td>1875</td>\n",
       "      <td>8595</td>\n",
       "      <td>6876</td>\n",
       "      <td>0</td>\n",
       "      <td>1719</td>\n",
       "      <td>1</td>\n",
       "      <td>5.0</td>\n",
       "      <td>...</td>\n",
       "      <td>70.0</td>\n",
       "      <td>1920</td>\n",
       "      <td>2009</td>\n",
       "      <td>4.58</td>\n",
       "      <td>6.02</td>\n",
       "      <td>5.0</td>\n",
       "      <td>6.5</td>\n",
       "      <td>2022600018</td>\n",
       "      <td>1006363.0</td>\n",
       "      <td>232040.0</td>\n",
       "    </tr>\n",
       "  </tbody>\n",
       "</table>\n",
       "<p>5 rows × 21 columns</p>\n",
       "</div>"
      ],
      "text/plain": [
       "   Lot  ZipCode                 Address  LotArea  BldgArea  ResArea  \\\n",
       "0    1  10454.0  122 BRUCKNER BOULEVARD    15000         0        0   \n",
       "1    4  10454.0  126 BRUCKNER BOULEVARD    13770       752        0   \n",
       "2   10  10454.0  138 BRUCKNER BOULEVARD    35000     39375        0   \n",
       "3   17  10454.0  144 BRUCKNER BOULEVARD     2500     12500    12500   \n",
       "4   18  10454.0  148 BRUCKNER BOULEVARD     1875      8595     6876   \n",
       "\n",
       "   OfficeArea  RetailArea  NumBldgs  NumFloors  ...  BldgDepth  YearBuilt  \\\n",
       "0           0           0         1        0.0  ...        0.0          0   \n",
       "1         272           0         2        1.0  ...       16.0       1931   \n",
       "2           0           0         1        2.0  ...      200.0       1931   \n",
       "3           0           0         1        5.0  ...       85.0       1931   \n",
       "4           0        1719         1        5.0  ...       70.0       1920   \n",
       "\n",
       "   YearAlter1  BuiltFAR  ResidFAR  CommFAR  FacilFAR         BBL     XCoord  \\\n",
       "0           0      0.00      6.02      5.0       6.5  2022600001  1005957.0   \n",
       "1        1994      0.05      6.02      5.0       6.5  2022600004  1006076.0   \n",
       "2           0      1.13      6.02      5.0       6.5  2022600010  1006187.0   \n",
       "3        2001      5.00      6.02      5.0       6.5  2022600017  1006299.0   \n",
       "4        2009      4.58      6.02      5.0       6.5  2022600018  1006363.0   \n",
       "\n",
       "     YCoord  \n",
       "0  232162.0  \n",
       "1  232156.0  \n",
       "2  232036.0  \n",
       "3  232033.0  \n",
       "4  232040.0  \n",
       "\n",
       "[5 rows x 21 columns]"
      ]
     },
     "execution_count": 10,
     "metadata": {},
     "output_type": "execute_result"
    }
   ],
   "source": [
    "print(\"shape %s\" % str(bPlu.shape))\n",
    "print(\"---isnull follows---\")\n",
    "print(bPlu.isnull().sum())\n",
    "bPlu.head()"
   ]
  },
  {
   "cell_type": "markdown",
   "metadata": {},
   "source": [
    "### General"
   ]
  },
  {
   "cell_type": "code",
   "execution_count": 11,
   "metadata": {},
   "outputs": [
    {
     "data": {
      "text/plain": [
       "Lot             int64\n",
       "ZipCode       float64\n",
       "Address        object\n",
       "LotArea         int64\n",
       "BldgArea        int64\n",
       "ResArea         int64\n",
       "OfficeArea      int64\n",
       "RetailArea      int64\n",
       "NumBldgs        int64\n",
       "NumFloors     float64\n",
       "LotDepth      float64\n",
       "BldgDepth     float64\n",
       "YearBuilt       int64\n",
       "YearAlter1      int64\n",
       "BuiltFAR      float64\n",
       "ResidFAR      float64\n",
       "CommFAR       float64\n",
       "FacilFAR      float64\n",
       "BBL             int64\n",
       "XCoord        float64\n",
       "YCoord        float64\n",
       "dtype: object"
      ]
     },
     "execution_count": 11,
     "metadata": {},
     "output_type": "execute_result"
    }
   ],
   "source": [
    "bPlu.dtypes"
   ]
  },
  {
   "cell_type": "code",
   "execution_count": 12,
   "metadata": {},
   "outputs": [],
   "source": [
    "#Normalize relevant strings to uppercase so different casing won't appear as separate values.\n",
    "bPlu['Address'] = bPlu['Address'].str.upper()"
   ]
  },
  {
   "cell_type": "code",
   "execution_count": 13,
   "metadata": {},
   "outputs": [],
   "source": [
    "# Drop the observations with missing address as there will be no way to tie it to any 311 data.\n",
    "bPlu.dropna(subset=['Address'], axis=0, inplace=True)\n",
    "bPlu.reset_index(drop=True, inplace=True)"
   ]
  },
  {
   "cell_type": "markdown",
   "metadata": {},
   "source": [
    "## Standardization of Addresses"
   ]
  },
  {
   "cell_type": "code",
   "execution_count": 14,
   "metadata": {},
   "outputs": [
    {
     "name": "stdout",
     "output_type": "stream",
     "text": [
      "BRONX 311 unique addresses: 29216\n",
      "BRONX PLUTO unique addresses: 87017\n"
     ]
    }
   ],
   "source": [
    "print(\"BRONX 311 unique addresses: %s\" % b311['incident_address'].unique().size)\n",
    "print(\"BRONX PLUTO unique addresses: %s\" % bPlu['Address'].unique().size)"
   ]
  },
  {
   "cell_type": "code",
   "execution_count": 15,
   "metadata": {},
   "outputs": [],
   "source": [
    "#Determine how much overlap.  Ideally all 29K BRONX 311 addresses will be represented in the PLUTO set."
   ]
  },
  {
   "cell_type": "code",
   "execution_count": 16,
   "metadata": {},
   "outputs": [],
   "source": [
    "def WhichAddressesNotInPluto():\n",
    "    complaints = set(b311['incident_address'].unique())\n",
    "    pluto = set(bPlu['Address'].unique())\n",
    "    #Determine which 311 addresses were not found in PLUTO to gain insight as to why.\n",
    "    differences = complaints.difference(pluto)\n",
    "    print(\"Records not in PLUTO: %s.  Percent: %s\" % (len(differences), \"{:.2%}\".format(len(differences) / len(complaints))))\n",
    "    print(\"---Top 5---\")\n",
    "    print(b311[b311['incident_address'].isin(differences)]['incident_address'].value_counts().head())"
   ]
  },
  {
   "cell_type": "code",
   "execution_count": 17,
   "metadata": {},
   "outputs": [
    {
     "name": "stdout",
     "output_type": "stream",
     "text": [
      "Records not in PLUTO: 6753.  Percent: 23.11%\n",
      "---Top 5---\n",
      "2090 EAST TREMONT AVENUE          3940\n",
      "266 BEDFORD PARK BOULEVARD        2594\n",
      "1425 DR M L KING JR BOULEVARD     2534\n",
      "116 EAST MOSHOLU PARKWAY SOUTH    2312\n",
      "1259 CLAY AVENUE                  2297\n",
      "Name: incident_address, dtype: int64\n"
     ]
    }
   ],
   "source": [
    "WhichAddressesNotInPluto()"
   ]
  },
  {
   "cell_type": "code",
   "execution_count": 18,
   "metadata": {},
   "outputs": [
    {
     "data": {
      "text/plain": [
       "11567     200 EAST TREMONT AVENUE\n",
       "13296     200 WEST TREMONT AVENUE\n",
       "38769    2000 EAST TREMONT AVENUE\n",
       "41028    2015 EAST TREMONT AVENUE\n",
       "38770    2020 EAST TREMONT AVENUE\n",
       "38771    2040 EAST TREMONT AVENUE\n",
       "Name: Address, dtype: object"
      ]
     },
     "execution_count": 18,
     "metadata": {},
     "output_type": "execute_result"
    }
   ],
   "source": [
    "#Try to find\n",
    "bPlu[(bPlu['Address'].str.startswith('20'))&(bPlu['Address'].str.contains('TREMONT'))]['Address'].sort_values()"
   ]
  },
  {
   "cell_type": "code",
   "execution_count": 25,
   "metadata": {},
   "outputs": [
    {
     "data": {
      "text/html": [
       "<div>\n",
       "<style scoped>\n",
       "    .dataframe tbody tr th:only-of-type {\n",
       "        vertical-align: middle;\n",
       "    }\n",
       "\n",
       "    .dataframe tbody tr th {\n",
       "        vertical-align: top;\n",
       "    }\n",
       "\n",
       "    .dataframe thead th {\n",
       "        text-align: right;\n",
       "    }\n",
       "</style>\n",
       "<table border=\"1\" class=\"dataframe\">\n",
       "  <thead>\n",
       "    <tr style=\"text-align: right;\">\n",
       "      <th></th>\n",
       "      <th>latitude</th>\n",
       "      <th>longitude</th>\n",
       "    </tr>\n",
       "  </thead>\n",
       "  <tbody>\n",
       "    <tr>\n",
       "      <th>28544</th>\n",
       "      <td>40.84196</td>\n",
       "      <td>-73.857725</td>\n",
       "    </tr>\n",
       "    <tr>\n",
       "      <th>90214</th>\n",
       "      <td>40.84196</td>\n",
       "      <td>-73.857736</td>\n",
       "    </tr>\n",
       "  </tbody>\n",
       "</table>\n",
       "</div>"
      ],
      "text/plain": [
       "       latitude  longitude\n",
       "28544  40.84196 -73.857725\n",
       "90214  40.84196 -73.857736"
      ]
     },
     "execution_count": 25,
     "metadata": {},
     "output_type": "execute_result"
    }
   ],
   "source": [
    "#Almost 4000 complaints at 2090 EAST TREMONT AVENUE, but the address isn't in PLUTO?\n",
    "#Google maps shows more than one building with this address, and those buildings also have other addresses in the same building.\n",
    "#See if there is a way to determine the real address by looking at latitude and longitude.\n",
    "locations = b311[b311['incident_address']==\"2090 EAST TREMONT AVENUE\"][[\"latitude\",\"longitude\"]].dropna(axis=0,inplace=False).drop_duplicates()\n",
    "locations"
   ]
  },
  {
   "cell_type": "code",
   "execution_count": 30,
   "metadata": {},
   "outputs": [
    {
     "data": {
      "text/html": [
       "<div style=\"width:100%;\"><div style=\"position:relative;width:100%;height:0;padding-bottom:60%;\"><iframe src=\"data:text/html;charset=utf-8;base64,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\" style=\"position:absolute;width:100%;height:100%;left:0;top:0;border:none !important;\" allowfullscreen webkitallowfullscreen mozallowfullscreen></iframe></div></div>"
      ],
      "text/plain": [
       "<folium.folium.Map at 0x1ba7964b6a0>"
      ]
     },
     "execution_count": 30,
     "metadata": {},
     "output_type": "execute_result"
    }
   ],
   "source": [
    "# Visualize where the properties are near these.\n",
    "center = [40.84196, -73.857725]\n",
    "radius = 0.002\n",
    "top = center[0] + radius\n",
    "bottom = center[0] - radius\n",
    "left = center[1] - radius\n",
    "right = center[1] + radius\n",
    "locations = b311[(b311['latitude'].ge(bottom))&(b311['latitude'].le(top))&(b311['longitude'].ge(left))&(b311['longitude'].le(right))][[\"latitude\",\"longitude\",\"incident_address\"]].dropna(axis=0,inplace=False).drop_duplicates()\n",
    "import folium\n",
    "area_map = folium.Map(location=center, zoom_start=16)\n",
    "markers = folium.map.FeatureGroup()\n",
    "markers.add_child(folium.features.RegularPolygonMarker(center,radius=150,color='blue',fill=True,fill_color='green',fill_opacity=0.1,popup=\"center\"))\n",
    "for lat, lng, pop in zip(locations['latitude'], locations['longitude'], locations['incident_address']):\n",
    "    markers.add_child(folium.features.RegularPolygonMarker([lat,lng],radius=5,color='red',fill=True,fill_color='orange',fill_opacity=1.0,popup=pop))\n",
    "area_map.add_child(markers)\n",
    "area_map"
   ]
  },
  {
   "cell_type": "code",
   "execution_count": null,
   "metadata": {},
   "outputs": [],
   "source": [
    "# Conclusion:  The GPS coordinates in the 311 database are on the actual streets, \n",
    "# Sp there is no certain way to equate them to a specific building.\n",
    "# Consequently there is no practical way to use the coordinates to map a 311 entry to a PLUTO entry."
   ]
  },
  {
   "cell_type": "code",
   "execution_count": null,
   "metadata": {},
   "outputs": [],
   "source": [
    "# Look up 2090 EAST TREMONT AVENUE on http://a030-goat.nyc.gov/goat/Function1A\n",
    "#Try to find in the PLUTO dataset based on information that website was able to pull up.\n",
    "#bPlu[(bPlu['BBL']>=2039442864)&(bPlu['BBL']<=2039442871)]['Address'].sort_values()\n",
    "bPlu[bPlu['BBL']==2039447501]['Address'].sort_values()"
   ]
  },
  {
   "cell_type": "markdown",
   "metadata": {},
   "source": [
    "## Using each data set to fill in missing items in the other."
   ]
  },
  {
   "cell_type": "code",
   "execution_count": null,
   "metadata": {},
   "outputs": [],
   "source": []
  },
  {
   "cell_type": "code",
   "execution_count": null,
   "metadata": {},
   "outputs": [],
   "source": []
  },
  {
   "cell_type": "code",
   "execution_count": null,
   "metadata": {},
   "outputs": [],
   "source": []
  },
  {
   "cell_type": "markdown",
   "metadata": {},
   "source": [
    "<a id=\"analysis\"></a>\n",
    "# Analyzing and Visualizing\n",
    "---"
   ]
  },
  {
   "cell_type": "code",
   "execution_count": null,
   "metadata": {},
   "outputs": [],
   "source": [
    "b311.complaint_type.isnull().sum()"
   ]
  },
  {
   "cell_type": "markdown",
   "metadata": {},
   "source": [
    "<p style=\"color:Red;\">None of the complaint types are null.</p>"
   ]
  },
  {
   "cell_type": "code",
   "execution_count": null,
   "metadata": {},
   "outputs": [],
   "source": [
    "b311['complaint_type'].describe()"
   ]
  },
  {
   "cell_type": "markdown",
   "metadata": {},
   "source": [
    "<p style=\"color:Red;\">HEAT/HOT WATER is the most common of the 29 unique complaint types, but closer examination is necessary to make a final answer to the question.</p>"
   ]
  },
  {
   "cell_type": "code",
   "execution_count": null,
   "metadata": {},
   "outputs": [],
   "source": [
    "unique_types = b311['complaint_type'].unique()\n",
    "unique_types.sort()\n",
    "unique_types"
   ]
  },
  {
   "cell_type": "markdown",
   "metadata": {},
   "source": [
    "<p style=\"color:Red;\">Some of these appear to be duplicate ways to represent the same thing.  The Open Data Page does not provide any clarification of these values, in case for example, water leaks should be lumped in with plumbing.  In a more real situation we could ask for such clarification.  If that was not available an analysis of whether apparent duplicates come from different Open_Data_Channel_Type could help formulate the best guess why there are apparent duplicates.</p>"
   ]
  },
  {
   "cell_type": "code",
   "execution_count": null,
   "metadata": {},
   "outputs": [],
   "source": [
    "#Although we may need dummy values for later questions, for now just normalize the data in-place.\n",
    "#Using best guess interpretation about which complaint types are equivalent to each other.\n",
    "b311['complaint_type'].replace('Appliance', 'APPLIANCE', inplace = True)\n",
    "b311['complaint_type'].replace('GENERAL CONSTRUCTION', 'CONSTRUCTION', inplace = True)\n",
    "b311['complaint_type'].replace('General', 'GENERAL', inplace = True)\n",
    "b311['complaint_type'].replace('HEATING', 'HEAT/HOT WATER', inplace = True)\n",
    "b311['complaint_type'].replace('Outside Building', 'OUTSIDE BUILDING', inplace = True)\n",
    "b311['complaint_type'].replace('PAINT - PLASTER', 'PAINT/PLASTER', inplace = True)\n",
    "b311['complaint_type'].replace('Plumbing', 'PLUMBING', inplace = True)\n",
    "b311['complaint_type'].replace('Safety', 'SAFETY', inplace = True)\n",
    "b311['complaint_type'].replace('Unsanitary Condition', 'UNSANITARY CONDITION', inplace = True)"
   ]
  },
  {
   "cell_type": "code",
   "execution_count": null,
   "metadata": {},
   "outputs": [],
   "source": [
    "print(b311['complaint_type'].describe())\n",
    "unique_types = b311['complaint_type'].unique()\n",
    "unique_types.sort()\n",
    "unique_types"
   ]
  },
  {
   "cell_type": "markdown",
   "metadata": {},
   "source": [
    "<p style=\"color:Red;\">Twenty complaint types after consolidating obvious duplicates."
   ]
  },
  {
   "cell_type": "code",
   "execution_count": null,
   "metadata": {},
   "outputs": [],
   "source": [
    "print (1 - 2040461.00 / 5862383.00) # taking values from the \"describe\" statement above."
   ]
  },
  {
   "cell_type": "markdown",
   "metadata": {},
   "source": [
    "<p style=\"color:Red;\">HEAT/HOT WATER represents almost 2/3 of the complaints.</p>"
   ]
  },
  {
   "cell_type": "code",
   "execution_count": null,
   "metadata": {},
   "outputs": [],
   "source": [
    "print(b311[\"complaint_type\"].value_counts())    "
   ]
  },
  {
   "cell_type": "markdown",
   "metadata": {},
   "source": [
    "<p style=\"color:Red;\">The next two or three most common complaints combined happen less.</p>"
   ]
  },
  {
   "cell_type": "markdown",
   "metadata": {},
   "source": [
    "<p style=\"color:Red;\">Let's take a more visual look, just to double check.</p>"
   ]
  },
  {
   "cell_type": "code",
   "execution_count": null,
   "metadata": {},
   "outputs": [],
   "source": [
    "#Plot a bar chart to show how many of each type of complaint.\n",
    "%matplotlib inline\n",
    "import matplotlib.pyplot as plt\n",
    "totals = pd.DataFrame(b311['complaint_type'].value_counts())\n",
    "totals.plot(kind='bar', figsize=(10,6), rot=90)\n",
    "plt.xlabel(\"Complaint Type\")\n",
    "plt.ylabel(\"Number of Complaints\")\n",
    "plt.title(\"Number of complaints by type\")\n",
    "plt.annotate('', xycoords='data', xy=(1, 2000000), xytext=(5, 1500000), arrowprops=dict(arrowstyle='->', connectionstyle='arc3', color='r', lw=2))\n",
    "plt.show()"
   ]
  },
  {
   "cell_type": "markdown",
   "metadata": {},
   "source": [
    "<p style=\"color:Red;\">Clearly, nothing else comes close to HEAT/HOT WATER over the entire data set.</p>"
   ]
  },
  {
   "cell_type": "markdown",
   "metadata": {},
   "source": [
    "<p style=\"color:Red;\">Perhaps the top complaint changes over time and HEAT/HOT WATER is only the top one in aggregate?  Let's see if that has been the case by also looking at totals for each individual year.</p>"
   ]
  },
  {
   "cell_type": "code",
   "execution_count": null,
   "metadata": {},
   "outputs": [],
   "source": [
    "#Add Year column.\n",
    "def strleft(s):\n",
    "    return s[0:4]\n",
    "b311['Year'] = b311['created_date'].apply(strleft)"
   ]
  },
  {
   "cell_type": "code",
   "execution_count": null,
   "metadata": {},
   "outputs": [],
   "source": [
    "#Determine unique list of years.\n",
    "unique_years = b311['Year'].unique()\n",
    "unique_years.sort()"
   ]
  },
  {
   "cell_type": "code",
   "execution_count": null,
   "metadata": {},
   "outputs": [],
   "source": [
    "#Calculate yearly totals\n",
    "import numpy as np\n",
    "yearly_totals = pd.DataFrame(index=unique_types, columns=unique_years)\n",
    "for y in unique_years:\n",
    "    values_this_year = b311[b311['Year']==y]['complaint_type'].value_counts()\n",
    "    for i in values_this_year.index:\n",
    "        yearly_totals.at[i,y] = values_this_year[i]\n",
    "yearly_totals.replace(np.nan, 0, inplace = True)\n",
    "yearly_totals = yearly_totals.transpose()"
   ]
  },
  {
   "cell_type": "code",
   "execution_count": null,
   "metadata": {
    "scrolled": true
   },
   "outputs": [],
   "source": [
    "#Plot the number of complaints by type and year.\n",
    "yearly_totals.plot(kind=\"line\")\n",
    "plt.title('Complaints Over the Years')\n",
    "plt.ylabel('Number of Complaints')\n",
    "plt.xlabel('Year')\n",
    "plt.legend(bbox_to_anchor=(1.05,1))\n",
    "plt.show()"
   ]
  },
  {
   "cell_type": "markdown",
   "metadata": {},
   "source": [
    "<p style=\"color:Red;\">The top complaint type consistently every year is HEAT/HOT WATER.</p>"
   ]
  },
  {
   "cell_type": "markdown",
   "metadata": {},
   "source": [
    "<p style=\"color:Red;\">All the totals drop off at the end.  This is because the data set is updated every day, but the final year 2019 is still in progress with almost three months to go.</p>"
   ]
  },
  {
   "cell_type": "markdown",
   "metadata": {},
   "source": [
    "<a id=\"conclusion\"></a>\n",
    "# Concluding Remarks\n",
    "---"
   ]
  },
  {
   "cell_type": "markdown",
   "metadata": {},
   "source": [
    "The HEAT/HOT WATER (including HEATING) complaint type identified in Question 1 as the most prevalent complaint type has (or does not have any????) an obvious relationship with the XXX house characteristics:"
   ]
  },
  {
   "cell_type": "code",
   "execution_count": null,
   "metadata": {},
   "outputs": [],
   "source": []
  }
 ],
 "metadata": {
  "kernelspec": {
   "display_name": "Python 3",
   "language": "python",
   "name": "python3"
  },
  "language_info": {
   "codemirror_mode": {
    "name": "ipython",
    "version": 3
   },
   "file_extension": ".py",
   "mimetype": "text/x-python",
   "name": "python",
   "nbconvert_exporter": "python",
   "pygments_lexer": "ipython3",
   "version": "3.7.3"
  }
 },
 "nbformat": 4,
 "nbformat_minor": 1
}
