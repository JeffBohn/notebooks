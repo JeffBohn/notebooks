{
 "cells": [
  {
   "cell_type": "markdown",
   "metadata": {},
   "source": [
    "<h1 style=\"text-align:center\">Data Science and Machine Learning Capstone Project</h1>\n",
    "<p style=\"text-align:center\">IBM: DS0720EN</p>\n",
    "<img style=\"text-align:center\" src=\"https://prod-edxapp.edx-cdn.org/static/edx.org/images/logo.790c9a5340cb.png\">"
   ]
  },
  {
   "cell_type": "code",
   "execution_count": null,
   "metadata": {},
   "outputs": [],
   "source": []
  },
  {
   "cell_type": "markdown",
   "metadata": {},
   "source": [
    "<hr>\n",
    "<h2 style=\"text-align:center\">Problem</h2>"
   ]
  },
  {
   "cell_type": "markdown",
   "metadata": {},
   "source": [
    "\n",
    "\n"
   ]
  },
  {
   "cell_type": "markdown",
   "metadata": {},
   "source": [
    "<hr>\n",
    "<h2 style=\"text-align:center\">Question</h2>"
   ]
  },
  {
   "cell_type": "markdown",
   "metadata": {},
   "source": [
    "<p style=\"color:red\">This Jupyter Notebook will focus on question one.</p>"
   ]
  },
  {
   "cell_type": "markdown",
   "metadata": {},
   "source": []
  },
  {
   "cell_type": "markdown",
   "metadata": {},
   "source": [
    "<hr>\n",
    "<h2 style=\"text-align:center\">Answer</h2>"
   ]
  },
  {
   "cell_type": "code",
   "execution_count": null,
   "metadata": {},
   "outputs": [],
   "source": []
  },
  {
   "cell_type": "markdown",
   "metadata": {},
   "source": [
    "<hr>\n",
    "<h2 style=\"text-align:center\">Approach</h2>"
   ]
  },
  {
   "cell_type": "code",
   "execution_count": null,
   "metadata": {},
   "outputs": [],
   "source": []
  },
  {
   "cell_type": "markdown",
   "metadata": {},
   "source": [
    "<hr>\n",
    "<h2 style=\"text-align:center\">Analysis</h2>"
   ]
  },
  {
   "cell_type": "markdown",
   "metadata": {},
   "source": [
    "<h3>Data</h3>"
   ]
  },
  {
   "cell_type": "markdown",
   "metadata": {},
   "source": [
    "This first notebook contains information about how to injest and use the data set."
   ]
  },
  {
   "cell_type": "markdown",
   "metadata": {},
   "source": [
    "<h4>SODA</h4>"
   ]
  },
  {
   "cell_type": "markdown",
   "metadata": {},
   "source": [
    "The Socrata Open Data API (SODA) provides programmatic access to this dataset including the ability to filter, query, and aggregate data."
   ]
  },
  {
   "cell_type": "markdown",
   "metadata": {},
   "source": [
    "<h4>The data to use to solve the problem</h4>"
   ]
  },
  {
   "cell_type": "markdown",
   "metadata": {
    "collapsed": true
   },
   "source": [
    "API Endpoint of New york City 311 dataset.<br/>\n",
    "https://data.cityofnewyork.us/resource/fhrw-4uyv.json<br/>\n",
    "<br/>\n",
    "Open Data page<br/>\n",
    "https://data.cityofnewyork.us/Social-Services/311-Service-Requests-from-2010-to-Present/erm2-nwe9<br/>\n",
    "<br/>\n",
    "Primary Land Use Tax Lot Output \"PLUTO\" housing dataset.  Five spreadsheets, one for each borough.<br/>\n",
    "https://www1.nyc.gov/assets/planning/download/zip/data-maps/open-data/nyc_pluto_18v1.zip<br/>"
   ]
  },
  {
   "cell_type": "markdown",
   "metadata": {},
   "source": [
    "<h4>Use SODA API to extract a relevant subset of the data for use in this project.</h4>"
   ]
  },
  {
   "cell_type": "markdown",
   "metadata": {},
   "source": [
    "The SODA documentation is here:"
   ]
  },
  {
   "cell_type": "markdown",
   "metadata": {},
   "source": [
    "https://dev.socrata.com/foundry/data.cityofnewyork.us/fhrw-4uyv"
   ]
  },
  {
   "cell_type": "markdown",
   "metadata": {},
   "source": [
    "This is the SODA url provided by the course materials.  It specifies just relevant columns, sets a maximum number of rows, and limits to the Department of Housing Preservation and Development."
   ]
  },
  {
   "cell_type": "markdown",
   "metadata": {},
   "source": [
    "https://data.cityofnewyork.us/resource/fhrw-4uyv.csv?$limit=100000000&Agency=HPD&$select=created_date,unique_key,complaint_type,incident_zip,incident_address,street_name,address_type,city,resolution_description,borough,latitude,longitude,closed_date,location_type,status"
   ]
  },
  {
   "cell_type": "markdown",
   "metadata": {},
   "source": [
    "<h4>Further adjusted SODA url that limits through year 2018</h4>\n",
    "Because the quiz question asks for only through December 2018.<br/>"
   ]
  },
  {
   "cell_type": "markdown",
   "metadata": {},
   "source": [
    "https://data.cityofnewyork.us/resource/fhrw-4uyv.csv?$limit=100000000&Agency=HPD&$select=created_date,unique_key,complaint_type,incident_zip,incident_address,street_name,address_type,city,resolution_description,borough,latitude,longitude,closed_date,location_type,status&$where=created_date%3C%3D%272018-12-31T23:59:59.999%27"
   ]
  },
  {
   "cell_type": "markdown",
   "metadata": {},
   "source": [
    "<h4>Further adjusted SODA url that limits only to 2018</h4>\n",
    "To give a smaller subset to use while exploring the data.<br/>"
   ]
  },
  {
   "cell_type": "markdown",
   "metadata": {},
   "source": [
    "https://data.cityofnewyork.us/resource/fhrw-4uyv.csv?$limit=100000000&Agency=HPD&$select=created_date,unique_key,complaint_type,incident_zip,incident_address,street_name,address_type,city,resolution_description,borough,latitude,longitude,closed_date,location_type,status&$where=created_date%20between%20'2018-01-01T00:00:00.000'%20and%20'2018-12-31T23:59:59.999'"
   ]
  },
  {
   "cell_type": "markdown",
   "metadata": {},
   "source": [
    "<h3>IBM Cloud Object Storage</h3>"
   ]
  },
  {
   "cell_type": "markdown",
   "metadata": {},
   "source": [
    "<h4>From Watson Studio, invoking the \"Insert to code\" functionality on any uploaded file (any small text file will do) inserts a code snippet into the notebook that includes the bucket and credentials.</h4>\n",
    "Fill them in below to use the various cloud functionalities.<br/>\n",
    "Remove them before placing the notebook anywhere public-facing.<br/>"
   ]
  },
  {
   "cell_type": "code",
   "execution_count": null,
   "metadata": {},
   "outputs": [],
   "source": [
    "# The \"Insert to code\" ends up in here."
   ]
  },
  {
   "cell_type": "markdown",
   "metadata": {},
   "source": [
    "<h4>Create Credential and Bucket Variables</h4>"
   ]
  },
  {
   "cell_type": "code",
   "execution_count": null,
   "metadata": {},
   "outputs": [],
   "source": [
    "# Need to add some imports here.\n",
    "client_cred = ibm_boto3.client(service_name='xxx',\n",
    "ibm_api_key_id='xxx',\n",
    "ibm_auth_endpoint='xxx',\n",
    "config=Config(signature_version='x'),\n",
    "endpoint_url='xxx')\n",
    "\n",
    "bucket = 'xxx'"
   ]
  },
  {
   "cell_type": "markdown",
   "metadata": {},
   "source": [
    "<h4>Upload a File to Cloud Object Store by Using the Credential and Bucket Variables</h4>"
   ]
  },
  {
   "cell_type": "code",
   "execution_count": null,
   "metadata": {},
   "outputs": [],
   "source": [
    "#Create a pickle (PKL) file out of the Dataframe:\n",
    "df.to_pickle('./df_raw.pkl')\n",
    "#Upload the pickle (PKL) file:\n",
    "client_cred.upload_file('./df_raw.pkl',bucket,'df_raw_cos.pkl')"
   ]
  },
  {
   "cell_type": "markdown",
   "metadata": {},
   "source": [
    "<h4>Download a File from Cloud Object Store by Using Credential and Bucket Variables</h4>"
   ]
  },
  {
   "cell_type": "code",
   "execution_count": null,
   "metadata": {},
   "outputs": [],
   "source": [
    "#Download the file from Cloud Object Store:\n",
    "client_cred.download_file(Bucket=bucket,Key='df_raw_cos.pkl',Filename='./df_raw_local.pkl')\n",
    "#Create a Dataframe out of the file:\n",
    "df = pd.read_pickle('./df_raw_local.pkl')"
   ]
  },
  {
   "cell_type": "markdown",
   "metadata": {},
   "source": [
    "<h3>When working outside of IBM cloud</h3>\n",
    "To avoid using up monthly Capacity Unit Hours (CUH) while working on the notebook, the notebook can be hosted on any machine runnning Jupyter Notebook.<br/>\n",
    "In which case the loading of the file into the Pandas dataframe is more direct."
   ]
  },
  {
   "cell_type": "code",
   "execution_count": null,
   "metadata": {},
   "outputs": [],
   "source": [
    "import pandas as pd\n",
    "local_file_path = 'C:\\\\Users\\\\It_Co\\\\Documents\\\\DataScience\\\\Capstone\\\\'\n",
    "full_dataset = 'fhrw-4uyv.csv'\n",
    "small_dataset = 'fhrw-4uyv-only2018.csv'\n",
    "truncated_dataset = 'fhrw-4uyv-thru2018.csv'"
   ]
  },
  {
   "cell_type": "code",
   "execution_count": null,
   "metadata": {},
   "outputs": [],
   "source": [
    "current_dataset = full_dataset"
   ]
  },
  {
   "cell_type": "code",
   "execution_count": null,
   "metadata": {},
   "outputs": [],
   "source": [
    "df = pd.read_csv(local_file_path + current_dataset, parse_dates=[1,13])"
   ]
  },
  {
   "cell_type": "markdown",
   "metadata": {},
   "source": [
    "<h1 style=\"color:Blue;\">Question 1 of 4</h1>"
   ]
  },
  {
   "cell_type": "markdown",
   "metadata": {},
   "source": [
    "<p style=\"color:Blue;\">Which type of complaint should the Department of Housing Preservation and Development of New York City focus on first?</p>"
   ]
  },
  {
   "cell_type": "markdown",
   "metadata": {},
   "source": [
    "<h4>Explore the datasets and identify the key problem.</h4>"
   ]
  },
  {
   "cell_type": "code",
   "execution_count": null,
   "metadata": {},
   "outputs": [],
   "source": [
    "df.complaint_type.isnull().sum()"
   ]
  },
  {
   "cell_type": "markdown",
   "metadata": {},
   "source": [
    "<p style=\"color:Red;\">None of the complaint types are null.</p>"
   ]
  },
  {
   "cell_type": "code",
   "execution_count": null,
   "metadata": {},
   "outputs": [],
   "source": [
    "df['complaint_type'].describe()"
   ]
  },
  {
   "cell_type": "markdown",
   "metadata": {},
   "source": [
    "<p style=\"color:Red;\">HEAT/HOT WATER is the most common of the 29 unique complaint types, but closer examination is necessary to make a final answer to the question.</p>"
   ]
  },
  {
   "cell_type": "code",
   "execution_count": null,
   "metadata": {},
   "outputs": [],
   "source": [
    "unique_types = df['complaint_type'].unique()\n",
    "unique_types.sort()\n",
    "unique_types"
   ]
  },
  {
   "cell_type": "markdown",
   "metadata": {},
   "source": [
    "<p style=\"color:Red;\">Some of these appear to be duplicate ways to represent the same thing.</p>"
   ]
  },
  {
   "cell_type": "code",
   "execution_count": null,
   "metadata": {},
   "outputs": [],
   "source": [
    "#Although we may need dummy values for later questions, for now just normalize the data in-place.\n",
    "df['complaint_type'].replace('Appliance', 'APPLIANCE', inplace = True)\n",
    "df['complaint_type'].replace('GENERAL CONSTRUCTION', 'CONSTRUCTION', inplace = True)\n",
    "df['complaint_type'].replace('General', 'GENERAL', inplace = True)\n",
    "df['complaint_type'].replace('HEATING', 'HEAT/HOT WATER', inplace = True)\n",
    "df['complaint_type'].replace('Outside Building', 'OUTSIDE BUILDING', inplace = True)\n",
    "df['complaint_type'].replace('PAINT - PLASTER', 'PAINT/PLASTER', inplace = True)\n",
    "df['complaint_type'].replace('Plumbing', 'PLUMBING', inplace = True)\n",
    "df['complaint_type'].replace('Safety', 'SAFETY', inplace = True)\n",
    "df['complaint_type'].replace('Unsanitary Condition', 'UNSANITARY CONDITION', inplace = True)"
   ]
  },
  {
   "cell_type": "code",
   "execution_count": null,
   "metadata": {},
   "outputs": [],
   "source": [
    "print(df['complaint_type'].describe())\n",
    "unique_types = df['complaint_type'].unique()\n",
    "unique_types.sort()\n",
    "unique_types"
   ]
  },
  {
   "cell_type": "markdown",
   "metadata": {},
   "source": [
    "<p style=\"color:Red;\">Need to go back to the Open Data Page to see if there are any descriptions of these values, in case for example, water leaks should be lumped in with plumbing.</p>"
   ]
  },
  {
   "cell_type": "code",
   "execution_count": null,
   "metadata": {},
   "outputs": [],
   "source": [
    "#Save the dataset as it is so far while breaking for a meal.\n",
    "df.to_pickle(local_file_path + 'save.pkl')"
   ]
  },
  {
   "cell_type": "markdown",
   "metadata": {},
   "source": [
    "<hr>\n",
    "<h2 style=\"text-align:center\">Insights</h2>"
   ]
  },
  {
   "cell_type": "code",
   "execution_count": null,
   "metadata": {},
   "outputs": [],
   "source": []
  },
  {
   "cell_type": "markdown",
   "metadata": {},
   "source": [
    "<hr>\n",
    "<h2 style=\"text-align:center\">Reasoning</h2>"
   ]
  },
  {
   "cell_type": "code",
   "execution_count": null,
   "metadata": {},
   "outputs": [],
   "source": []
  },
  {
   "cell_type": "code",
   "execution_count": null,
   "metadata": {},
   "outputs": [],
   "source": []
  }
 ],
 "metadata": {
  "celltoolbar": "Raw Cell Format",
  "kernelspec": {
   "display_name": "Python 3",
   "language": "python",
   "name": "python3"
  },
  "language_info": {
   "codemirror_mode": {
    "name": "ipython",
    "version": 3
   },
   "file_extension": ".py",
   "mimetype": "text/x-python",
   "name": "python",
   "nbconvert_exporter": "python",
   "pygments_lexer": "ipython3",
   "version": "3.7.3"
  }
 },
 "nbformat": 4,
 "nbformat_minor": 1
}
