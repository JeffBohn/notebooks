{
 "cells": [
  {
   "cell_type": "markdown",
   "metadata": {},
   "source": [
    "<h1>Python Notes</h1>"
   ]
  },
  {
   "cell_type": "markdown",
   "metadata": {},
   "source": [
    "<p>Some reference notes I am keeping as I study Python and Jupyter notebook.</p>"
   ]
  },
  {
   "cell_type": "markdown",
   "metadata": {},
   "source": [
    "<h2>Empty function</h2>"
   ]
  },
  {
   "cell_type": "code",
   "execution_count": 3,
   "metadata": {},
   "outputs": [
    {
     "name": "stdout",
     "output_type": "stream",
     "text": [
      "None\n"
     ]
    }
   ],
   "source": [
    "def ThisIsAnEmptyFunction():\n",
    "    pass # Like a NOP.  No operation.  Does nothing.  The function can't actually be empty.\n",
    "\n",
    "print (ThisIsAnEmptyFunction())"
   ]
  },
  {
   "cell_type": "markdown",
   "metadata": {},
   "source": [
    "<h2>API Documentation of Functions</h2>"
   ]
  },
  {
   "cell_type": "code",
   "execution_count": 4,
   "metadata": {},
   "outputs": [
    {
     "name": "stdout",
     "output_type": "stream",
     "text": [
      "Help on function FunctionWithApiDocs in module __main__:\n",
      "\n",
      "FunctionWithApiDocs(arg)\n",
      "    This function reminds Jeff how to add API documentation to functions.\n",
      "    Args:\n",
      "        arg:  Description of argument.\n",
      "    \n",
      "    Returns:\n",
      "        Description of return value.\n",
      "    \n",
      "    Raises:\n",
      "        ValueError:  Description of when and why it might raise this exception.\n",
      "\n"
     ]
    }
   ],
   "source": [
    "def FunctionWithApiDocs(arg):\n",
    "    '''This function reminds Jeff how to add API documentation to functions.\n",
    "    Args:\n",
    "        arg:  Description of argument.\n",
    "\n",
    "    Returns:\n",
    "        Description of return value.\n",
    "    \n",
    "    Raises:\n",
    "        ValueError:  Description of when and why it might raise this exception.\n",
    "    '''\n",
    "    pass\n",
    "\n",
    "help (FunctionWithApiDocs)"
   ]
  },
  {
   "cell_type": "markdown",
   "metadata": {},
   "source": [
    "<h2>Modules in programs set up so they can be used as script imports within other modules.</h2>"
   ]
  },
  {
   "cell_type": "code",
   "execution_count": 5,
   "metadata": {},
   "outputs": [],
   "source": [
    "if __name__ == '__main__':\n",
    "    #This detects if the PY file (module) containing this is being run as the main program.\n",
    "    #It will only do the things in this if block if that is the case.\n",
    "    #Compare and contrast with being imported for functions to be used by another script.\n",
    "    #In this example the function below is only invoked if the module with this block is the one launched\n",
    "    #such as with:\n",
    "    #python3 the_file.py\n",
    "    ThisIsAnEmptyFunction()"
   ]
  },
  {
   "cell_type": "markdown",
   "metadata": {},
   "source": [
    "<h2>Multi-platform system calls</h2>"
   ]
  },
  {
   "cell_type": "code",
   "execution_count": 6,
   "metadata": {},
   "outputs": [],
   "source": [
    "try:\n",
    "    import msvcrt\n",
    "    \"Such as when needing to make Windows System calls\"\n",
    "except (ValueError, TypeError) as e:\n",
    "    \"Notice it can accept a tuple of exception types\"\n",
    "    raise\n",
    "except ImportError:\n",
    "    import sys\n",
    "    import tty\n",
    "    import termios\n",
    "    \"This is an example of trying different platform specific libraries\""
   ]
  },
  {
   "cell_type": "markdown",
   "metadata": {},
   "source": [
    "<h2>Generator Comprehension</h2>"
   ]
  },
  {
   "cell_type": "code",
   "execution_count": 7,
   "metadata": {},
   "outputs": [],
   "source": [
    "one_hundred_squares = (x*x for x in range(1, 100))"
   ]
  },
  {
   "cell_type": "markdown",
   "metadata": {},
   "source": [
    "<h2>Generator</h2>"
   ]
  },
  {
   "cell_type": "code",
   "execution_count": 8,
   "metadata": {},
   "outputs": [
    {
     "name": "stdout",
     "output_type": "stream",
     "text": [
      "11\n",
      "22\n",
      "33\n"
     ]
    }
   ],
   "source": [
    "def this_is_a_generator():\n",
    "    yield 11\n",
    "    yield 22\n",
    "    yield 33\n",
    "    return\n",
    "\n",
    "for i in this_is_a_generator():\n",
    "    print(i)"
   ]
  },
  {
   "cell_type": "markdown",
   "metadata": {},
   "source": [
    "<h2>Build in Iterators</h2>"
   ]
  },
  {
   "cell_type": "code",
   "execution_count": 9,
   "metadata": {},
   "outputs": [
    {
     "name": "stdout",
     "output_type": "stream",
     "text": [
      "4066\n",
      "True\n",
      "[(11, 11), (22, 22), (33, 33)]\n",
      "True\n",
      "11\n",
      "33\n",
      "[(4000, 11), (4001, 22), (4002, 33)]\n"
     ]
    }
   ],
   "source": [
    "print (sum(this_is_a_generator(), 4000))\n",
    "print (any(this_is_a_generator())) # are ANY of them \"true\"?\n",
    "print (list(zip(this_is_a_generator(), this_is_a_generator())))\n",
    "print (all(this_is_a_generator())) # are ALL of them \"true\"?\n",
    "print (min(this_is_a_generator()))\n",
    "print (max(this_is_a_generator()))\n",
    "print (list(enumerate(this_is_a_generator(), 4000)))"
   ]
  },
  {
   "cell_type": "markdown",
   "metadata": {},
   "source": [
    "<h2>Standard Library Itertools module</h2>"
   ]
  },
  {
   "cell_type": "code",
   "execution_count": 19,
   "metadata": {},
   "outputs": [
    {
     "name": "stdout",
     "output_type": "stream",
     "text": [
      "['A', 'B', 'C', 'D', 'E', 'F']\n",
      "['A', 'B']\n",
      "['C', 'D', 'E', 'F', 'G']\n",
      "['D']\n",
      "['E', 'G']\n",
      "[(0, 'a'), (1, 'b'), (2, 'c')]\n"
     ]
    }
   ],
   "source": [
    "import itertools as it\n",
    "#just a few examples\n",
    "print (list(it.chain('ABC', 'DEF')))\n",
    "print (list(it.islice('ABCDEFG', 2)))\n",
    "print (list(it.islice('ABCDEFG', 2, None)))\n",
    "print (list(it.islice('ABCDEFG', 3, 4)))\n",
    "print (list(it.islice('ABCDEFG', 4, None, 2)))\n",
    "print (list(zip(it.count(), ['a', 'b', 'c']))) # Note count is infinite, but will only be called here until zip finishes."
   ]
  },
  {
   "cell_type": "code",
   "execution_count": null,
   "metadata": {},
   "outputs": [],
   "source": []
  }
 ],
 "metadata": {
  "kernelspec": {
   "display_name": "Python 3",
   "language": "python",
   "name": "python3"
  },
  "language_info": {
   "codemirror_mode": {
    "name": "ipython",
    "version": 3
   },
   "file_extension": ".py",
   "mimetype": "text/x-python",
   "name": "python",
   "nbconvert_exporter": "python",
   "pygments_lexer": "ipython3",
   "version": "3.7.3"
  }
 },
 "nbformat": 4,
 "nbformat_minor": 2
}
