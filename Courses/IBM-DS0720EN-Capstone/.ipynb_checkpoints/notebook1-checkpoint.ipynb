{
 "cells": [
  {
   "cell_type": "markdown",
   "metadata": {},
   "source": [
    "<h1 style=\"text-align:center\">Data Science and Machine Learning Capstone Project</h1>\n",
    "<p style=\"text-align:center\">IBM: DS0720EN</p>\n",
    "<img style=\"text-align:center\" src=\"https://prod-edxapp.edx-cdn.org/static/edx.org/images/logo.790c9a5340cb.png\">\n",
    "<p style=\"text-align:center\">1 of 4</p>"
   ]
  },
  {
   "cell_type": "markdown",
   "metadata": {},
   "source": [
    "# Table of Contents\n",
    "1. [Problem](#problem)\n",
    "    1. [Statement](#statement)\n",
    "    2. [Questions](#questions)\n",
    "2. [Question addressed by this Notebook](#questionheading)\n",
    "    1. [Which type of complaint should the Department of Housing Preservation and Development of New York City focus on first?](#question)\n",
    "3. [Answer](#answerheading)\n",
    "    1. [HEAT/HOT WATER (including HEATING)](#answer)\n",
    "4. [Approach](#approach)\n",
    "5. [Analysis](#analysis)\n",
    "    1. [Examination](#examination)\n",
    "    2. [Wrangling](#wrangling)\n",
    "    3. [Images](#images)\n",
    "        1. [Bar Chart](#barchart)\n",
    "6. [Insights](#insights)\n",
    "7. [Reasoning](#reasoning)\n",
    "8. [Appendix A: Data](#data)\n",
    "    1. [Source](#datasource)\n",
    "    2. [IBM Cloud](#datacloud)\n",
    "    3. [Local](#datalocal)"
   ]
  },
  {
   "cell_type": "markdown",
   "metadata": {},
   "source": [
    "<a id=\"problem\"></a>\n",
    "## Problem\n",
    "---"
   ]
  },
  {
   "cell_type": "markdown",
   "metadata": {},
   "source": [
    "<a id=\"statement\"></a>\n",
    "### Statement"
   ]
  },
  {
   "cell_type": "markdown",
   "metadata": {},
   "source": [
    "The people of New Yorker use the 311 system to report complaints about the non-emergency problems to local authorities. Various agencies in New York are assigned these problems. The Department of Housing Preservation and Development of New York City is the agency that processes 311 complaints that are related to housing and buildings.\n",
    "\n",
    "In the last few years, the number of 311 complaints coming to the Department of Housing Preservation and Development has increased significantly. Although these complaints are not necessarily urgent, the large volume of complaints and the sudden increase is impacting the overall efficiency of operations of the agency.\n",
    "\n",
    "Therefore, the Department of Housing Preservation and Development has approached your organization to help them manage the large volume of 311 complaints they are receiving every year.\n",
    "\n",
    "The agency needs answers to several questions. The answers to those questions must be supported by data and analytics. These are their  questions:"
   ]
  },
  {
   "cell_type": "markdown",
   "metadata": {},
   "source": [
    "<a id=\"questions\"></a>\n",
    "### Questions"
   ]
  },
  {
   "cell_type": "markdown",
   "metadata": {},
   "source": [
    "1.  Which type of complaint should the Department of Housing Preservation and Development of New York City focus on first?\n",
    "2.  Should the Department of Housing Preservation and Development of New York City focus on any particular set of boroughs, ZIP codes, or street (where the complaints are severe) for the specific type of complaints you identified in response to Question 1?\n",
    "3.  Does the Complaint Type that you identified in response to question 1 have an obvious relationship with any particular characteristic or characteristics of the houses or buildings?\n",
    "4.  Can a predictive model be built for a future prediction of the possibility of complaints of the type that you have identified in response to question 1?"
   ]
  },
  {
   "cell_type": "markdown",
   "metadata": {},
   "source": [
    "<a id=\"questionheading\"></a>\n",
    "## Question addressed by this Notebook\n",
    "---"
   ]
  },
  {
   "cell_type": "markdown",
   "metadata": {},
   "source": [
    "<a id=\"question\"></a>\n",
    "### Which type of complaint should the Department of Housing Preservation and Development of New York City focus on first?"
   ]
  },
  {
   "cell_type": "markdown",
   "metadata": {},
   "source": [
    "<a id=\"answerheading\"></a>\n",
    "## Answer\n",
    "---"
   ]
  },
  {
   "cell_type": "markdown",
   "metadata": {},
   "source": [
    "<a id=\"answer\"></a>\n",
    "### HEAT/HOT WATER (including HEATING)"
   ]
  },
  {
   "cell_type": "markdown",
   "metadata": {},
   "source": [
    "<a id=\"approach\"></a>\n",
    "## Approach\n",
    "---"
   ]
  },
  {
   "cell_type": "markdown",
   "metadata": {},
   "source": [
    "Examine the data to see if there is any complaint type that is more common than the others.  If there is no front-runner, then consider other factors."
   ]
  },
  {
   "cell_type": "markdown",
   "metadata": {},
   "source": [
    "<a id=\"analysis\"></a>\n",
    "## Analysis\n",
    "---"
   ]
  },
  {
   "cell_type": "markdown",
   "metadata": {},
   "source": [
    "Use code snippets from [Appendix A: Data](#data) as needed to load the dataframe first."
   ]
  },
  {
   "cell_type": "markdown",
   "metadata": {},
   "source": [
    "<a id=\"examination\"></a>\n",
    "### Examination"
   ]
  },
  {
   "cell_type": "code",
   "execution_count": 15,
   "metadata": {},
   "outputs": [
    {
     "data": {
      "text/plain": [
       "0"
      ]
     },
     "execution_count": 15,
     "metadata": {},
     "output_type": "execute_result"
    }
   ],
   "source": [
    "df.complaint_type.isnull().sum()"
   ]
  },
  {
   "cell_type": "markdown",
   "metadata": {},
   "source": [
    "<p style=\"color:Red;\">None of the complaint types are null.</p>"
   ]
  },
  {
   "cell_type": "code",
   "execution_count": 16,
   "metadata": {},
   "outputs": [
    {
     "data": {
      "text/plain": [
       "count            5862383\n",
       "unique                29\n",
       "top       HEAT/HOT WATER\n",
       "freq             1152592\n",
       "Name: complaint_type, dtype: object"
      ]
     },
     "execution_count": 16,
     "metadata": {},
     "output_type": "execute_result"
    }
   ],
   "source": [
    "df['complaint_type'].describe()"
   ]
  },
  {
   "cell_type": "markdown",
   "metadata": {},
   "source": [
    "<p style=\"color:Red;\">HEAT/HOT WATER is the most common of the 29 unique complaint types, but closer examination is necessary to make a final answer to the question.</p>"
   ]
  },
  {
   "cell_type": "code",
   "execution_count": 17,
   "metadata": {},
   "outputs": [
    {
     "data": {
      "text/plain": [
       "array(['AGENCY', 'APPLIANCE', 'Appliance', 'CONSTRUCTION', 'DOOR/WINDOW',\n",
       "       'ELECTRIC', 'ELEVATOR', 'FLOORING/STAIRS', 'GENERAL',\n",
       "       'GENERAL CONSTRUCTION', 'General', 'HEAT/HOT WATER', 'HEATING',\n",
       "       'HPD Literature Request', 'Mold', 'NONCONST', 'OUTSIDE BUILDING',\n",
       "       'Outside Building', 'PAINT - PLASTER', 'PAINT/PLASTER', 'PLUMBING',\n",
       "       'Plumbing', 'SAFETY', 'STRUCTURAL', 'Safety',\n",
       "       'UNSANITARY CONDITION', 'Unsanitary Condition', 'VACANT APARTMENT',\n",
       "       'WATER LEAK'], dtype=object)"
      ]
     },
     "execution_count": 17,
     "metadata": {},
     "output_type": "execute_result"
    }
   ],
   "source": [
    "unique_types = df['complaint_type'].unique()\n",
    "unique_types.sort()\n",
    "unique_types"
   ]
  },
  {
   "cell_type": "markdown",
   "metadata": {},
   "source": [
    "<a id=\"wrangling\"></a>\n",
    "### Wrangling\n",
    "Adjust and add columns. Including adjustments and new columns to facilitate graphing. "
   ]
  },
  {
   "cell_type": "markdown",
   "metadata": {},
   "source": [
    "<p style=\"color:Red;\">Some of these appear to be duplicate ways to represent the same thing.  The Open Data Page does not provide any clarification of these values, in case for example, water leaks should be lumped in with plumbing.  In a more real situation we could ask for such clarification.  If that was not available an analysis of whether apparent duplicates come from different Open_Data_Channel_Type could help formulate the best guess why there are apparent duplicates.</p>"
   ]
  },
  {
   "cell_type": "code",
   "execution_count": 22,
   "metadata": {},
   "outputs": [],
   "source": [
    "#Although we may need dummy values for later questions, for now just normalize the data in-place.\n",
    "#Using best guess interpretation about which complaint types are equivalent to each other.\n",
    "df['complaint_type'].replace('Appliance', 'APPLIANCE', inplace = True)\n",
    "df['complaint_type'].replace('GENERAL CONSTRUCTION', 'CONSTRUCTION', inplace = True)\n",
    "df['complaint_type'].replace('General', 'GENERAL', inplace = True)\n",
    "df['complaint_type'].replace('HEATING', 'HEAT/HOT WATER', inplace = True)\n",
    "df['complaint_type'].replace('Outside Building', 'OUTSIDE BUILDING', inplace = True)\n",
    "df['complaint_type'].replace('PAINT - PLASTER', 'PAINT/PLASTER', inplace = True)\n",
    "df['complaint_type'].replace('Plumbing', 'PLUMBING', inplace = True)\n",
    "df['complaint_type'].replace('Safety', 'SAFETY', inplace = True)\n",
    "df['complaint_type'].replace('Unsanitary Condition', 'UNSANITARY CONDITION', inplace = True)"
   ]
  },
  {
   "cell_type": "code",
   "execution_count": 23,
   "metadata": {},
   "outputs": [
    {
     "name": "stdout",
     "output_type": "stream",
     "text": [
      "count            5862383\n",
      "unique                20\n",
      "top       HEAT/HOT WATER\n",
      "freq             2040461\n",
      "Name: complaint_type, dtype: object\n"
     ]
    },
    {
     "data": {
      "text/plain": [
       "array(['AGENCY', 'APPLIANCE', 'CONSTRUCTION', 'DOOR/WINDOW', 'ELECTRIC',\n",
       "       'ELEVATOR', 'FLOORING/STAIRS', 'GENERAL', 'HEAT/HOT WATER',\n",
       "       'HPD Literature Request', 'Mold', 'NONCONST', 'OUTSIDE BUILDING',\n",
       "       'PAINT/PLASTER', 'PLUMBING', 'SAFETY', 'STRUCTURAL',\n",
       "       'UNSANITARY CONDITION', 'VACANT APARTMENT', 'WATER LEAK'],\n",
       "      dtype=object)"
      ]
     },
     "execution_count": 23,
     "metadata": {},
     "output_type": "execute_result"
    }
   ],
   "source": [
    "print(df['complaint_type'].describe())\n",
    "unique_types = df['complaint_type'].unique()\n",
    "unique_types.sort()\n",
    "unique_types"
   ]
  },
  {
   "cell_type": "markdown",
   "metadata": {},
   "source": [
    "<p style=\"color:Red;\">Twenty complaint types after consolidating obvious duplicates.  HEAT/HOT WATER still the most prevalent.</p>"
   ]
  },
  {
   "cell_type": "markdown",
   "metadata": {},
   "source": [
    "Add a column that converts the complaint type to a number."
   ]
  },
  {
   "cell_type": "code",
   "execution_count": 105,
   "metadata": {},
   "outputs": [],
   "source": [
    "import numpy as np\n",
    "complaint_types = dict(np.ndenumerate(unique_types)) #convert unique list to a dictionary.\n",
    "complaint_types = {v: k for k, v in complaint_types.items()} #transpose values and index.\n",
    "complaint_types = {k: v[0] for k, v in complaint_types.items()} #simplify the values from tuple to integer."
   ]
  },
  {
   "cell_type": "code",
   "execution_count": 109,
   "metadata": {},
   "outputs": [],
   "source": [
    "#copy the values to a new column\n",
    "df['numeric_type'] = df['complaint_type']\n",
    "#replace with the dictionary values.\n",
    "df['numeric_type'].replace(to_replace=complaint_types, inplace=True)"
   ]
  },
  {
   "cell_type": "markdown",
   "metadata": {},
   "source": [
    "<a id=\"images\"></a>\n",
    "### Images\n",
    "To double check any preliminary conclusions from the examination above and/or to gain other insights."
   ]
  },
  {
   "cell_type": "markdown",
   "metadata": {},
   "source": [
    "<a id=\"barchart\"></a>\n",
    "#### Bar Chart"
   ]
  },
  {
   "cell_type": "code",
   "execution_count": 77,
   "metadata": {},
   "outputs": [],
   "source": [
    "%matplotlib inline\n",
    "import matplotlib.pyplot as plt"
   ]
  },
  {
   "cell_type": "code",
   "execution_count": 78,
   "metadata": {},
   "outputs": [],
   "source": [
    "totals = pd.DataFrame(df['complaint_type'].value_counts())"
   ]
  },
  {
   "cell_type": "code",
   "execution_count": 80,
   "metadata": {},
   "outputs": [
    {
     "data": {
      "image/png": "[encoded data removed]",
      "text/plain": [
       "<Figure size 720x432 with 1 Axes>"
      ]
     },
     "metadata": {
      "needs_background": "light"
     },
     "output_type": "display_data"
    }
   ],
   "source": [
    "totals.plot(kind='bar',figsize=(10,6), rot=90)\n",
    "plt.xlabel(\"Complaint Type\")\n",
    "plt.ylabel(\"Number of Complaints\")\n",
    "plt.title(\"Number of complaints by type\")\n",
    "plt.annotate('', xycoords='data',\n",
    "             xy=(1, 2000000), # head\n",
    "             xytext=(5, 1500000), # tail\n",
    "             arrowprops=dict(arrowstyle='->', connectionstyle='arc3', color='blue', lw=2))\n",
    "plt.annotate('One complaint type is most common by far',\n",
    "             xy=(5, 1500000), # start \n",
    "             va='top', ha='left', rotation=-35,\n",
    "             color = 'r'\n",
    "            )\n",
    "plt.show()"
   ]
  },
  {
   "cell_type": "markdown",
   "metadata": {},
   "source": [
    "<a id=\"insights\"></a>\n",
    "## Insights\n",
    "---"
   ]
  },
  {
   "cell_type": "markdown",
   "metadata": {},
   "source": [
    "None of the complaint types are entered as null, but some are duplicates of each other."
   ]
  },
  {
   "cell_type": "markdown",
   "metadata": {},
   "source": [
    "One type of complaint is more common than the others."
   ]
  },
  {
   "cell_type": "markdown",
   "metadata": {},
   "source": [
    "<a id=\"reasoning\"></a>\n",
    "## Reasoning\n",
    "---"
   ]
  },
  {
   "cell_type": "markdown",
   "metadata": {},
   "source": [
    "Which complaint type should they focus on first?  The most common one."
   ]
  },
  {
   "cell_type": "markdown",
   "metadata": {},
   "source": [
    "<a id=\"data\"></a>\n",
    "## Appendix A: Data"
   ]
  },
  {
   "cell_type": "markdown",
   "metadata": {},
   "source": [
    "<a id=\"datasource\"></a>\n",
    "### Source"
   ]
  },
  {
   "cell_type": "markdown",
   "metadata": {},
   "source": [
    "<ul>\n",
    "<li>The course provides the data sources to use as these:\n",
    "    \n",
    "[New York City 311 SODA API Endpoint](https://data.cityofnewyork.us/Social-Services/311-Service-Requests-from-2010-to-Present/erm2-nwe9)<br/>\n",
    "[Primary Land Use Tax Lot Output PLUTO housing dataset](https://www1.nyc.gov/assets/planning/download/zip/data-maps/open-data/nyc_pluto_18v1.zip).\n",
    "\n",
    "<li>A little poking around yields two additional resources: \n",
    "    \n",
    "[Open Data Page schema](https://data.cityofnewyork.us/Social-Services/311-Service-Requests-from-2010-to-Present/erm2-nwe9)<br/>\n",
    "[SODA documentation](https://dev.socrata.com/foundry/data.cityofnewyork.us/fhrw-4uyv)\n",
    "\n",
    "<li>The course provides a link that lets us download a subset of the entire 311 data set.  Only certain columns, sets a maximum number of rows, and limits to the Department of Housing Preservation and Development:\n",
    "    \n",
    "[SODA URL](https://data.cityofnewyork.us/resource/fhrw-4uyv.csv?$limit=100000000&Agency=HPD&$select=created_date,unique_key,complaint_type,incident_zip,incident_address,street_name,address_type,city,resolution_description,borough,latitude,longitude,closed_date,location_type,status)\n",
    "\n",
    "<li>I will create two additional SODA URL to use for this project:\n",
    "<li>Because the first quiz asks questions only pertaining through December 2018:\n",
    "\n",
    "[Through 2018 Only](https://data.cityofnewyork.us/resource/fhrw-4uyv.csv?$limit=100000000&Agency=HPD&$select=created_date,unique_key,complaint_type,incident_zip,incident_address,street_name,address_type,city,resolution_description,borough,latitude,longitude,closed_date,location_type,status&$where=created_date%3C%3D%272018-12-31T23:59:59.999%27)\n",
    "\n",
    "<li>The data set is still very large, so I will break off just one year to use during initial examination when I am figuring out what approach I will take:  \n",
    "\n",
    "[2018 Only](https://data.cityofnewyork.us/resource/fhrw-4uyv.csv?$limit=100000000&Agency=HPD&$select=created_date,unique_key,complaint_type,incident_zip,incident_address,street_name,address_type,city,resolution_description,borough,latitude,longitude,closed_date,location_type,status&$where=created_date%20between%20%272018-01-01T00:00:00.000%27%20and%20%272018-12-31T23:59:59.999%27)\n",
    "\n",
    "<li>The data sets will be read directly into a Pandas Dataframe then saved as \"pickle\" files.  Either locally or in the IBM Cloud, depending on where the notebook is being run.\n",
    "</ul>"
   ]
  },
  {
   "cell_type": "code",
   "execution_count": 1,
   "metadata": {},
   "outputs": [],
   "source": [
    "import pandas as pd"
   ]
  },
  {
   "cell_type": "code",
   "execution_count": 8,
   "metadata": {},
   "outputs": [],
   "source": [
    "#df = pd.read_csv(\"https://data.cityofnewyork.us/resource/fhrw-4uyv.csv?$limit=100000000&Agency=HPD&$select=created_date,unique_key,complaint_type,incident_zip,incident_address,street_name,address_type,city,resolution_description,borough,latitude,longitude,closed_date,location_type,status&$where=created_date%3C%3D%272018-12-31T23:59:59.999%27\", parse_dates=[1,13])"
   ]
  },
  {
   "cell_type": "code",
   "execution_count": 7,
   "metadata": {},
   "outputs": [],
   "source": [
    "#df.head()"
   ]
  },
  {
   "cell_type": "markdown",
   "metadata": {},
   "source": [
    "<a id=\"datacloud\"></a>\n",
    "### IBM Cloud"
   ]
  },
  {
   "cell_type": "markdown",
   "metadata": {},
   "source": [
    "Code snippets for Uploading and Downloading pickle files between a Pandas data frame and the IBM Cloud."
   ]
  },
  {
   "cell_type": "code",
   "execution_count": 11,
   "metadata": {},
   "outputs": [],
   "source": [
    "# Import IBM specific imports here."
   ]
  },
  {
   "cell_type": "code",
   "execution_count": null,
   "metadata": {},
   "outputs": [],
   "source": [
    "# Create variables needed for IBM Cloud operations.\n",
    "\n",
    "# The values needed to replace the \"xxx\" placeholders in the following sections should be kept secret.\n",
    "# Do not keep them in any notebook that is then uploaded to anywhere publically visible.\n",
    "# These can be obtained by invoking the Watson Studio \"insert to code\" functionality on any uploaded file.\n",
    "# That will generate code with the required values.\n",
    "# Copy / paste from that generated code then discard the generated code.\n",
    "\n",
    "# Create a credentials variable.\n",
    "client_cred = ibm_boto3.client(service_name='xxx',\n",
    "ibm_api_key_id='xxx',\n",
    "ibm_auth_endpoint='xxx',\n",
    "config=Config(signature_version='xxx'),\n",
    "endpoint_url='xxx')\n",
    "\n",
    "# Create a bucket variable.\n",
    "bucket = 'xxx'"
   ]
  },
  {
   "cell_type": "code",
   "execution_count": null,
   "metadata": {},
   "outputs": [],
   "source": [
    "# \"Save\"\n",
    "#Create a pickle file from a dataframe:\n",
    "df.to_pickle('./df_raw.pkl')\n",
    "#Upload a pickle (PKL) file to the IBM Cloud Object Store:\n",
    "client_cred.upload_file('./df_raw.pkl',bucket,'df_raw_cos.pkl')"
   ]
  },
  {
   "cell_type": "code",
   "execution_count": null,
   "metadata": {},
   "outputs": [],
   "source": [
    "# \"Load\"\n",
    "#Download a pickle file from IBM Cloud Object Store:\n",
    "client_cred.download_file(Bucket=bucket,Key='df_raw_cos.pkl',Filename='./df_raw_local.pkl')\n",
    "#Fill a Dataframe from of the pickle file:\n",
    "df = pd.read_pickle('./df_raw_local.pkl')"
   ]
  },
  {
   "cell_type": "code",
   "execution_count": 9,
   "metadata": {},
   "outputs": [],
   "source": [
    "#df.head()"
   ]
  },
  {
   "cell_type": "markdown",
   "metadata": {},
   "source": [
    "<a id=\"datalocal\"></a>\n",
    "### Local"
   ]
  },
  {
   "cell_type": "markdown",
   "metadata": {},
   "source": [
    "To avoid using up IBM Cloud monthly Capacity Unit Hours (CUH) while working on the notebook, the notebook can be hosted on a local machine runnning Jupyter Notebook.  Here are some code snippets for saving and loading Pandas data frames as local files:"
   ]
  },
  {
   "cell_type": "code",
   "execution_count": 11,
   "metadata": {},
   "outputs": [],
   "source": [
    "import pandas as pd\n",
    "#set variables to make either operation easier\n",
    "file_path_local = 'C:\\\\Users\\\\It_Co\\\\Documents\\\\DataScience\\\\Capstone\\\\'\n",
    "filename_full = 'ny311full.pkl'\n",
    "filename_small = 'ny311small.pkl'\n",
    "filename_truncated = 'ny311truncated.pkl'"
   ]
  },
  {
   "cell_type": "code",
   "execution_count": 4,
   "metadata": {},
   "outputs": [],
   "source": [
    "#Save\n",
    "#Create a pickle file from a dataframe.\n",
    "df.to_pickle(file_path_local + filename_truncated)"
   ]
  },
  {
   "cell_type": "code",
   "execution_count": 12,
   "metadata": {},
   "outputs": [],
   "source": [
    "#Load\n",
    "#Fill a dataframe from a pickle file.\n",
    "df = pd.read_pickle(file_path_local + filename_full)"
   ]
  },
  {
   "cell_type": "code",
   "execution_count": 14,
   "metadata": {},
   "outputs": [],
   "source": [
    "#df.head()"
   ]
  }
 ],
 "metadata": {
  "kernelspec": {
   "display_name": "Python 3",
   "language": "python",
   "name": "python3"
  },
  "language_info": {
   "codemirror_mode": {
    "name": "ipython",
    "version": 3
   },
   "file_extension": ".py",
   "mimetype": "text/x-python",
   "name": "python",
   "nbconvert_exporter": "python",
   "pygments_lexer": "ipython3",
   "version": "3.7.3"
  }
 },
 "nbformat": 4,
 "nbformat_minor": 1
}
