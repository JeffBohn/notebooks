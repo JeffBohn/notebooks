{
 "cells": [
  {
   "cell_type": "code",
   "execution_count": 55,
   "metadata": {},
   "outputs": [],
   "source": [
    "#Higher order polynomials\n",
    "\n",
    "#Underfitting:  The model doesn't have the same curves as the data.\n",
    "#Overfitting:  The model has extra curves just to hit specific data, but \n",
    "#  will start to not work as well in areas of missing data.\n",
    "\n",
    "#The training data will have a decreasing training error as the order of the polynomial increases.\n",
    "#Because the model will fit the training data better and better.\n",
    "\n",
    "#The testing error will decrease as the model is better, but will start to rise again if \n",
    "#  it starts to get over-fitted to the test data.\n",
    "\n",
    "#So graph the training error and test error to see where they are both lowest."
   ]
  },
  {
   "cell_type": "code",
   "execution_count": 56,
   "metadata": {},
   "outputs": [],
   "source": [
    "import pandas as pd\n",
    "import numpy as np\n",
    "from sklearn.model_selection import train_test_split\n",
    "from sklearn.linear_model import LinearRegression\n",
    "from sklearn.model_selection import cross_val_score\n",
    "from sklearn.model_selection import cross_val_predict\n",
    "from sklearn.preprocessing import PolynomialFeatures\n",
    "%matplotlib inline\n",
    "from matplotlib import pyplot as plt"
   ]
  },
  {
   "cell_type": "code",
   "execution_count": 57,
   "metadata": {},
   "outputs": [],
   "source": [
    "df = pd.read_csv(\"wrangled_auto.csv\")\n",
    "\n",
    "Y=df['price']\n",
    "X=df[['horsepower', 'curb-weight', 'engine-size', 'highway-mpg']]\n",
    "\n",
    "x_train, x_test, y_train, y_test = train_test_split(X, Y, test_size=0.3, random_state=0) #random_state is a random seed.\n",
    "\n",
    "lr = LinearRegression()"
   ]
  },
  {
   "cell_type": "code",
   "execution_count": 85,
   "metadata": {},
   "outputs": [],
   "source": [
    "Rsqu_test=[]\n",
    "Rsqu_train=[]\n",
    "\n",
    "order=[1,2,3,4,5,6,7,8,9,10,11,12,13,14,15,16]\n",
    "\n",
    "for n in order:\n",
    "    pr=PolynomialFeatures(degree=n, include_bias=False)\n",
    "    x_train_pr=pr.fit_transform(x_train[['horsepower']])\n",
    "    x_test_pr=pr.fit_transform(x_test[['horsepower']])\n",
    "    lr.fit(x_train_pr,y_train)\n",
    "    Rsqu_test.append(lr.score(x_test_pr,y_test))\n",
    "    Rsqu_train.append(lr.score(x_train_pr,y_train))"
   ]
  },
  {
   "cell_type": "code",
   "execution_count": 86,
   "metadata": {},
   "outputs": [
    {
     "name": "stdout",
     "output_type": "stream",
     "text": [
      "[0.6959400486771934, 0.6970990397230485, 0.7038703642675694, 0.7047058309719165, 0.7403828134139383, 0.7406599921999266, 0.7004242492562038, 0.5751525247051001, 0.3086817906757017, 0.4440580685544164, 0.07796327822612548, -0.49971354078613534, -1.4686327578268843, -3.2102926209554763, -6.428046511235793, -12.279846081953453]\n"
     ]
    }
   ],
   "source": [
    "print(Rsqu_test)"
   ]
  },
  {
   "cell_type": "code",
   "execution_count": 87,
   "metadata": {},
   "outputs": [
    {
     "name": "stdout",
     "output_type": "stream",
     "text": [
      "[0.5967552540041712, 0.5967830565060884, 0.5972664637748262, 0.5972690620330716, 0.6065199315636003, 0.6078504527717158, 0.617531978874604, 0.6366558924418331, 0.6543811821159065, 0.6411756710231649, 0.6600979101181801, 0.6738422454655164, 0.681982588382362, 0.6845412801340287, 0.681229807430541, 0.6717861265304946]\n"
     ]
    }
   ],
   "source": [
    "print(Rsqu_train)"
   ]
  },
  {
   "cell_type": "markdown",
   "metadata": {},
   "source": [
    "<h2>Work in progress below</h2>\n",
    "Being pulled into other tasks at the moment."
   ]
  },
  {
   "cell_type": "code",
   "execution_count": 89,
   "metadata": {},
   "outputs": [
    {
     "data": {
      "image/png": "[encoded data removed]",
      "text/plain": [
       "<Figure size 432x288 with 1 Axes>"
      ]
     },
     "metadata": {
      "needs_background": "light"
     },
     "output_type": "display_data"
    }
   ],
   "source": [
    "#attempt to plot the test error vs the training error\n",
    "plt.title(\"Comparing test error with training error\")\n",
    "plt.plot(order, Rsqu_test, label=\"test\")\n",
    "plt.plot(order, Rsqu_train, label=\"train\")\n",
    "plt.legend()\n",
    "plt.ylim(0,1)\n",
    "plt.xlabel('Order')\n",
    "plt.ylabel('Error MSE')\n",
    "plt.show()"
   ]
  },
  {
   "cell_type": "code",
   "execution_count": null,
   "metadata": {},
   "outputs": [],
   "source": []
  }
 ],
 "metadata": {
  "kernelspec": {
   "display_name": "Python 3",
   "language": "python",
   "name": "python3"
  },
  "language_info": {
   "codemirror_mode": {
    "name": "ipython",
    "version": 3
   },
   "file_extension": ".py",
   "mimetype": "text/x-python",
   "name": "python",
   "nbconvert_exporter": "python",
   "pygments_lexer": "ipython3",
   "version": "3.7.3"
  }
 },
 "nbformat": 4,
 "nbformat_minor": 2
}
