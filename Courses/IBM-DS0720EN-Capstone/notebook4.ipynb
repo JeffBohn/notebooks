{
 "cells": [
  {
   "cell_type": "code",
   "execution_count": null,
   "metadata": {},
   "outputs": [],
   "source": [
    "#Remove incomplete years\n",
    "#Convert dates into something useful\n",
    "#Plot number of heating complaints over time\n",
    "#Work that into an equation.\n",
    "#Tune the equation to be more accurate...\n",
    "    #Test each year against all the other years.  What was that technical term again?\n",
    "    #Quantitatively measure the test vs. train accuracy as the model gets better fit but before over-fitting it."
   ]
  },
  {
   "cell_type": "markdown",
   "metadata": {},
   "source": [
    "#### <h1 style=\"text-align:center\">Data Science and Machine Learning Capstone Project</h1>\n",
    "<img style=\"float:right\" src=\"https://prod-edxapp.edx-cdn.org/static/edx.org/images/logo.790c9a5340cb.png\">\n",
    "<p style=\"text-align:center\">IBM: DS0720EN</p>\n",
    "<p style=\"text-align:center\">Question 4 of 4</p>"
   ]
  },
  {
   "cell_type": "markdown",
   "metadata": {},
   "source": [
    "1. [Problem Statement](#problem)\n",
    "2. [Question 4](#question)\n",
    "3. [Data Cleaning and Standardization](#wrangling)\n",
    "4. [Analyzing and Visualizing](#analysis)\n",
    "5. [Concluding Remarks](#conclusion)"
   ]
  },
  {
   "cell_type": "markdown",
   "metadata": {},
   "source": [
    "<a id=\"problem\"></a>\n",
    "# Problem Statement\n",
    "---"
   ]
  },
  {
   "cell_type": "markdown",
   "metadata": {},
   "source": [
    "The people of New York use the 311 system to report complaints about the non-emergency problems to local authorities. Various agencies in New York are assigned these problems. The Department of Housing Preservation and Development of New York City is the agency that processes 311 complaints that are related to housing and buildings.\n",
    "\n",
    "In the last few years, the number of 311 complaints coming to the Department of Housing Preservation and Development has increased significantly. Although these complaints are not necessarily urgent, the large volume of complaints and the sudden increase is impacting the overall efficiency of operations of the agency.\n",
    "\n",
    "Therefore, the Department of Housing Preservation and Development has approached your organization to help them manage the large volume of 311 complaints they are receiving every year.\n",
    "\n",
    "The agency needs answers to several questions. The answers to those questions must be supported by data and analytics. These are their  questions:"
   ]
  },
  {
   "cell_type": "markdown",
   "metadata": {},
   "source": [
    "<a id=\"question\"></a>\n",
    "# Question 4\n",
    "---"
   ]
  },
  {
   "cell_type": "markdown",
   "metadata": {},
   "source": [
    "Can a predictive model be built for future prediction of the possibility of complaints of the specific type that you identified in response to Question 1?"
   ]
  },
  {
   "cell_type": "markdown",
   "metadata": {},
   "source": [
    "## Approach\n",
    "Attempt to build a predictive model to predict heating complaints by using past data."
   ]
  },
  {
   "cell_type": "markdown",
   "metadata": {},
   "source": [
    "## Load Data\n",
    "Separately from this notebook:\n",
    "\n",
    "The [New York 311](https://data.cityofnewyork.us/Social-Services/311-Service-Requests-from-2010-to-Present/erm2-nwe9) data was loaded by [SODA](https://data.cityofnewyork.us/resource/fhrw-4uyv.csv?$limit=100000000&Agency=HPD&$select=created_date,unique_key,complaint_type,incident_zip,incident_address,street_name,address_type,city,resolution_description,borough,latitude,longitude,closed_date,location_type,status) into a Pandas DataFrame then saved to a pickle file.\n",
    "\n",
    "The [New York PLUTO](https://data.cityofnewyork.us/City-Government/Primary-Land-Use-Tax-Lot-Output-PLUTO-/xuk2-nczf) data was downloaded."
   ]
  },
  {
   "cell_type": "markdown",
   "metadata": {},
   "source": [
    "<p style=\"color:Red;\">The instructions at ( Course / 1. Project Challenge Details and Setup / Datasets Used in this Course / Datasets ) said \"Use only the part that is specific to the borough that you are interested in based on your analysis.\"  My answer for Question 2 suggested the borough with the biggest HEAT/HOT WATER problem was BRONX.  For that reason, only the BX_18v1.csv file was loaded into a Pandas DataFrame then saved to a pickle file. The 311 data is filtered by borough after borough standardization later in the notebook.</p>"
   ]
  },
  {
   "cell_type": "code",
   "execution_count": 1,
   "metadata": {},
   "outputs": [],
   "source": [
    "import pandas as pd\n",
    "import numpy as np\n",
    "%matplotlib inline\n",
    "from matplotlib import pyplot as plt\n",
    "from sklearn.preprocessing import StandardScaler\n",
    "import scipy.stats as stats\n",
    "from sklearn.linear_model import LinearRegression\n",
    "from sklearn.metrics import mean_squared_error\n",
    "from sklearn.preprocessing import PolynomialFeatures\n",
    "from math import sqrt\n",
    "\n",
    "files_path = 'C:\\\\Users\\\\It_Co\\\\Documents\\\\DataScience\\\\Capstone\\\\' #local\n",
    "#files_path = './' #IBM Cloud / Watson Studio"
   ]
  },
  {
   "cell_type": "code",
   "execution_count": 2,
   "metadata": {
    "scrolled": true
   },
   "outputs": [
    {
     "name": "stdout",
     "output_type": "stream",
     "text": [
      "NY 311 shape (5862383, 15)\n",
      "PLUTO shape (89854, 22)\n"
     ]
    }
   ],
   "source": [
    "b311 = pd.read_pickle(files_path + 'ny311full.pkl')\n",
    "\n",
    "#file_columns = ['Address','BldgArea','BldgDepth','BuiltFAR','CommFAR','FacilFAR','Lot','LotArea','LotDepth','NumBldgs','NumFloors','OfficeArea','ResArea','ResidFAR','RetailArea','YearBuilt','YearAlter1','ZipCode', 'YCoord', 'XCoord', 'BldgClass', 'LandUse']\n",
    "#df = pd.read_csv(files_path + 'BX_18v1.csv', usecols=file_columns)\n",
    "#df.to_pickle(files_path + 'q3.pkl')\n",
    "df = pd.read_pickle(files_path + 'q3.pkl')\n",
    "\n",
    "print(\"NY 311 shape %s\" % (b311.shape,))\n",
    "print(\"PLUTO shape %s\" % (df.shape,))"
   ]
  },
  {
   "cell_type": "code",
   "execution_count": 3,
   "metadata": {},
   "outputs": [
    {
     "data": {
      "text/html": [
       "<div>\n",
       "<style scoped>\n",
       "    .dataframe tbody tr th:only-of-type {\n",
       "        vertical-align: middle;\n",
       "    }\n",
       "\n",
       "    .dataframe tbody tr th {\n",
       "        vertical-align: top;\n",
       "    }\n",
       "\n",
       "    .dataframe thead th {\n",
       "        text-align: right;\n",
       "    }\n",
       "</style>\n",
       "<table border=\"1\" class=\"dataframe\">\n",
       "  <thead>\n",
       "    <tr style=\"text-align: right;\">\n",
       "      <th></th>\n",
       "      <th>Lot</th>\n",
       "      <th>ZipCode</th>\n",
       "      <th>Address</th>\n",
       "      <th>BldgClass</th>\n",
       "      <th>LandUse</th>\n",
       "      <th>LotArea</th>\n",
       "      <th>BldgArea</th>\n",
       "      <th>ResArea</th>\n",
       "      <th>OfficeArea</th>\n",
       "      <th>RetailArea</th>\n",
       "      <th>...</th>\n",
       "      <th>LotDepth</th>\n",
       "      <th>BldgDepth</th>\n",
       "      <th>YearBuilt</th>\n",
       "      <th>YearAlter1</th>\n",
       "      <th>BuiltFAR</th>\n",
       "      <th>ResidFAR</th>\n",
       "      <th>CommFAR</th>\n",
       "      <th>FacilFAR</th>\n",
       "      <th>XCoord</th>\n",
       "      <th>YCoord</th>\n",
       "    </tr>\n",
       "  </thead>\n",
       "  <tbody>\n",
       "    <tr>\n",
       "      <th>0</th>\n",
       "      <td>1</td>\n",
       "      <td>10454.0</td>\n",
       "      <td>122 BRUCKNER BOULEVARD</td>\n",
       "      <td>Z9</td>\n",
       "      <td>NaN</td>\n",
       "      <td>15000</td>\n",
       "      <td>0</td>\n",
       "      <td>0</td>\n",
       "      <td>0</td>\n",
       "      <td>0</td>\n",
       "      <td>...</td>\n",
       "      <td>200.0</td>\n",
       "      <td>0.0</td>\n",
       "      <td>0</td>\n",
       "      <td>0</td>\n",
       "      <td>0.00</td>\n",
       "      <td>6.02</td>\n",
       "      <td>5.0</td>\n",
       "      <td>6.5</td>\n",
       "      <td>1005957.0</td>\n",
       "      <td>232162.0</td>\n",
       "    </tr>\n",
       "    <tr>\n",
       "      <th>1</th>\n",
       "      <td>4</td>\n",
       "      <td>10454.0</td>\n",
       "      <td>126 BRUCKNER BOULEVARD</td>\n",
       "      <td>G5</td>\n",
       "      <td>7.0</td>\n",
       "      <td>13770</td>\n",
       "      <td>752</td>\n",
       "      <td>0</td>\n",
       "      <td>272</td>\n",
       "      <td>0</td>\n",
       "      <td>...</td>\n",
       "      <td>100.0</td>\n",
       "      <td>16.0</td>\n",
       "      <td>1931</td>\n",
       "      <td>1994</td>\n",
       "      <td>0.05</td>\n",
       "      <td>6.02</td>\n",
       "      <td>5.0</td>\n",
       "      <td>6.5</td>\n",
       "      <td>1006076.0</td>\n",
       "      <td>232156.0</td>\n",
       "    </tr>\n",
       "    <tr>\n",
       "      <th>2</th>\n",
       "      <td>10</td>\n",
       "      <td>10454.0</td>\n",
       "      <td>138 BRUCKNER BOULEVARD</td>\n",
       "      <td>F5</td>\n",
       "      <td>6.0</td>\n",
       "      <td>35000</td>\n",
       "      <td>39375</td>\n",
       "      <td>0</td>\n",
       "      <td>0</td>\n",
       "      <td>0</td>\n",
       "      <td>...</td>\n",
       "      <td>200.0</td>\n",
       "      <td>200.0</td>\n",
       "      <td>1931</td>\n",
       "      <td>0</td>\n",
       "      <td>1.13</td>\n",
       "      <td>6.02</td>\n",
       "      <td>5.0</td>\n",
       "      <td>6.5</td>\n",
       "      <td>1006187.0</td>\n",
       "      <td>232036.0</td>\n",
       "    </tr>\n",
       "    <tr>\n",
       "      <th>3</th>\n",
       "      <td>17</td>\n",
       "      <td>10454.0</td>\n",
       "      <td>144 BRUCKNER BOULEVARD</td>\n",
       "      <td>C1</td>\n",
       "      <td>2.0</td>\n",
       "      <td>2500</td>\n",
       "      <td>12500</td>\n",
       "      <td>12500</td>\n",
       "      <td>0</td>\n",
       "      <td>0</td>\n",
       "      <td>...</td>\n",
       "      <td>100.0</td>\n",
       "      <td>85.0</td>\n",
       "      <td>1931</td>\n",
       "      <td>2001</td>\n",
       "      <td>5.00</td>\n",
       "      <td>6.02</td>\n",
       "      <td>5.0</td>\n",
       "      <td>6.5</td>\n",
       "      <td>1006299.0</td>\n",
       "      <td>232033.0</td>\n",
       "    </tr>\n",
       "    <tr>\n",
       "      <th>4</th>\n",
       "      <td>18</td>\n",
       "      <td>10454.0</td>\n",
       "      <td>148 BRUCKNER BOULEVARD</td>\n",
       "      <td>C7</td>\n",
       "      <td>2.0</td>\n",
       "      <td>1875</td>\n",
       "      <td>8595</td>\n",
       "      <td>6876</td>\n",
       "      <td>0</td>\n",
       "      <td>1719</td>\n",
       "      <td>...</td>\n",
       "      <td>75.0</td>\n",
       "      <td>70.0</td>\n",
       "      <td>1920</td>\n",
       "      <td>2009</td>\n",
       "      <td>4.58</td>\n",
       "      <td>6.02</td>\n",
       "      <td>5.0</td>\n",
       "      <td>6.5</td>\n",
       "      <td>1006363.0</td>\n",
       "      <td>232040.0</td>\n",
       "    </tr>\n",
       "  </tbody>\n",
       "</table>\n",
       "<p>5 rows × 22 columns</p>\n",
       "</div>"
      ],
      "text/plain": [
       "   Lot  ZipCode                 Address BldgClass  LandUse  LotArea  BldgArea  \\\n",
       "0    1  10454.0  122 BRUCKNER BOULEVARD        Z9      NaN    15000         0   \n",
       "1    4  10454.0  126 BRUCKNER BOULEVARD        G5      7.0    13770       752   \n",
       "2   10  10454.0  138 BRUCKNER BOULEVARD        F5      6.0    35000     39375   \n",
       "3   17  10454.0  144 BRUCKNER BOULEVARD        C1      2.0     2500     12500   \n",
       "4   18  10454.0  148 BRUCKNER BOULEVARD        C7      2.0     1875      8595   \n",
       "\n",
       "   ResArea  OfficeArea  RetailArea  ...  LotDepth  BldgDepth  YearBuilt  \\\n",
       "0        0           0           0  ...     200.0        0.0          0   \n",
       "1        0         272           0  ...     100.0       16.0       1931   \n",
       "2        0           0           0  ...     200.0      200.0       1931   \n",
       "3    12500           0           0  ...     100.0       85.0       1931   \n",
       "4     6876           0        1719  ...      75.0       70.0       1920   \n",
       "\n",
       "   YearAlter1  BuiltFAR  ResidFAR  CommFAR  FacilFAR     XCoord    YCoord  \n",
       "0           0      0.00      6.02      5.0       6.5  1005957.0  232162.0  \n",
       "1        1994      0.05      6.02      5.0       6.5  1006076.0  232156.0  \n",
       "2           0      1.13      6.02      5.0       6.5  1006187.0  232036.0  \n",
       "3        2001      5.00      6.02      5.0       6.5  1006299.0  232033.0  \n",
       "4        2009      4.58      6.02      5.0       6.5  1006363.0  232040.0  \n",
       "\n",
       "[5 rows x 22 columns]"
      ]
     },
     "execution_count": 3,
     "metadata": {},
     "output_type": "execute_result"
    }
   ],
   "source": [
    "df.head()"
   ]
  },
  {
   "cell_type": "markdown",
   "metadata": {},
   "source": [
    "<a id=\"wrangling\"></a>\n",
    "# Data Cleaning and Standardization\n",
    "---"
   ]
  },
  {
   "cell_type": "markdown",
   "metadata": {},
   "source": [
    "Correct or remove observations with missing or malformed data.  The 311 and the PLUTO data sets will need to be \"joined\" together by the common \"address\" element, which means the addresses may need to be standardized to a consistent layout to allow the addresses to be compared consistently."
   ]
  },
  {
   "cell_type": "markdown",
   "metadata": {},
   "source": [
    "## NY 311"
   ]
  },
  {
   "cell_type": "markdown",
   "metadata": {},
   "source": [
    "### General"
   ]
  },
  {
   "cell_type": "code",
   "execution_count": 4,
   "metadata": {},
   "outputs": [],
   "source": [
    "#Remove columns deemed unnecessary for this question.\n",
    "b311.drop(['street_name','address_type','resolution_description','closed_date','location_type','status','unique_key','latitude','longitude'], axis=1, inplace=True)\n",
    "#Only use the combined \"heating and hot water\" complaints determined from Question 1.\n",
    "b311['complaint_type'] = b311['complaint_type'].str.upper()\n",
    "b311.drop(b311[b311[\"complaint_type\"].isin([\"HEAT/HOT WATER\",\"HEATING\"])==False].index, axis=0, inplace=True)\n",
    "b311.reset_index(drop=True, inplace=True)\n",
    "#Adjust all relevant strings to uppercase so different casing won't appear as separate values.\n",
    "b311['incident_address'] = b311['incident_address'].str.upper()\n",
    "b311['city'] = b311['city'].str.upper()\n",
    "b311['borough'] = b311['borough'].str.upper()"
   ]
  },
  {
   "cell_type": "code",
   "execution_count": 5,
   "metadata": {},
   "outputs": [
    {
     "name": "stdout",
     "output_type": "stream",
     "text": [
      "shape (2040461, 5)\n",
      "--nulls below--\n",
      "complaint_type          0\n",
      "incident_zip        18970\n",
      "incident_address        1\n",
      "city                18843\n",
      "borough                 0\n",
      "dtype: int64\n",
      "--types below--\n",
      "complaint_type       object\n",
      "incident_zip        float64\n",
      "incident_address     object\n",
      "city                 object\n",
      "borough              object\n",
      "dtype: object\n"
     ]
    },
    {
     "data": {
      "text/html": [
       "<div>\n",
       "<style scoped>\n",
       "    .dataframe tbody tr th:only-of-type {\n",
       "        vertical-align: middle;\n",
       "    }\n",
       "\n",
       "    .dataframe tbody tr th {\n",
       "        vertical-align: top;\n",
       "    }\n",
       "\n",
       "    .dataframe thead th {\n",
       "        text-align: right;\n",
       "    }\n",
       "</style>\n",
       "<table border=\"1\" class=\"dataframe\">\n",
       "  <thead>\n",
       "    <tr style=\"text-align: right;\">\n",
       "      <th></th>\n",
       "      <th>complaint_type</th>\n",
       "      <th>incident_zip</th>\n",
       "      <th>incident_address</th>\n",
       "      <th>city</th>\n",
       "      <th>borough</th>\n",
       "    </tr>\n",
       "  </thead>\n",
       "  <tbody>\n",
       "    <tr>\n",
       "      <th>0</th>\n",
       "      <td>HEAT/HOT WATER</td>\n",
       "      <td>11233.0</td>\n",
       "      <td>1711 FULTON STREET</td>\n",
       "      <td>BROOKLYN</td>\n",
       "      <td>BROOKLYN</td>\n",
       "    </tr>\n",
       "    <tr>\n",
       "      <th>1</th>\n",
       "      <td>HEAT/HOT WATER</td>\n",
       "      <td>10457.0</td>\n",
       "      <td>4487 3 AVENUE</td>\n",
       "      <td>BRONX</td>\n",
       "      <td>BRONX</td>\n",
       "    </tr>\n",
       "    <tr>\n",
       "      <th>2</th>\n",
       "      <td>HEAT/HOT WATER</td>\n",
       "      <td>11204.0</td>\n",
       "      <td>6802 18 AVENUE</td>\n",
       "      <td>BROOKLYN</td>\n",
       "      <td>BROOKLYN</td>\n",
       "    </tr>\n",
       "    <tr>\n",
       "      <th>3</th>\n",
       "      <td>HEAT/HOT WATER</td>\n",
       "      <td>10031.0</td>\n",
       "      <td>620 WEST  141 STREET</td>\n",
       "      <td>NEW YORK</td>\n",
       "      <td>MANHATTAN</td>\n",
       "    </tr>\n",
       "    <tr>\n",
       "      <th>4</th>\n",
       "      <td>HEAT/HOT WATER</td>\n",
       "      <td>10032.0</td>\n",
       "      <td>527 WEST  162 STREET</td>\n",
       "      <td>NEW YORK</td>\n",
       "      <td>MANHATTAN</td>\n",
       "    </tr>\n",
       "  </tbody>\n",
       "</table>\n",
       "</div>"
      ],
      "text/plain": [
       "   complaint_type  incident_zip      incident_address      city    borough\n",
       "0  HEAT/HOT WATER       11233.0    1711 FULTON STREET  BROOKLYN   BROOKLYN\n",
       "1  HEAT/HOT WATER       10457.0         4487 3 AVENUE     BRONX      BRONX\n",
       "2  HEAT/HOT WATER       11204.0        6802 18 AVENUE  BROOKLYN   BROOKLYN\n",
       "3  HEAT/HOT WATER       10031.0  620 WEST  141 STREET  NEW YORK  MANHATTAN\n",
       "4  HEAT/HOT WATER       10032.0  527 WEST  162 STREET  NEW YORK  MANHATTAN"
      ]
     },
     "execution_count": 5,
     "metadata": {},
     "output_type": "execute_result"
    }
   ],
   "source": [
    "#Print some initial information for comparison during later steps.\n",
    "print(\"shape %s\" % str(b311.shape))\n",
    "print(\"--nulls below--\")\n",
    "print(b311.isnull().sum())\n",
    "print(\"--types below--\")\n",
    "print(b311.dtypes)\n",
    "b311.head()"
   ]
  },
  {
   "cell_type": "markdown",
   "metadata": {},
   "source": [
    "### Standardize Borough\n",
    "Leveraging findings found while standardizing during Question 2."
   ]
  },
  {
   "cell_type": "code",
   "execution_count": 6,
   "metadata": {},
   "outputs": [
    {
     "data": {
      "text/plain": [
       "BRONX            569960\n",
       "BROOKLYN         543166\n",
       "MANHATTAN        398552\n",
       "UNSPECIFIED      282917\n",
       "QUEENS           228447\n",
       "STATEN ISLAND     17419\n",
       "Name: borough, dtype: int64"
      ]
     },
     "execution_count": 6,
     "metadata": {},
     "output_type": "execute_result"
    }
   ],
   "source": [
    "b311['borough'].value_counts()"
   ]
  },
  {
   "cell_type": "code",
   "execution_count": 7,
   "metadata": {},
   "outputs": [],
   "source": [
    "#Correct rows where borough was entered in the city column with \"UNSPECIFIED\" in the borough column.\n",
    "five_boroughs = [\"BROOKLYN\",\"BRONX\",\"MANHATTAN\",\"QUEENS\",\"STATEN ISLAND\"]\n",
    "which_rows_to_adjust = b311[(b311[\"borough\"]=='UNSPECIFIED')&b311[\"city\"].isin(five_boroughs)].index\n",
    "b311.loc[which_rows_to_adjust,'borough']=b311.loc[which_rows_to_adjust,'city']\n",
    "b311.loc[which_rows_to_adjust,'city']=np.nan\n",
    "#Drop a few rows of ambiguous data.\n",
    "b311.drop(b311[(b311[\"borough\"]=='MANHATTAN')&(b311[\"city\"]=='BRONX')].index, axis=0, inplace=True)\n",
    "b311.reset_index(drop=True, inplace=True)\n",
    "#Fill in UNSPECIFIED borough when city was entered as NEW YORK.\n",
    "which_rows_to_adjust = b311[(b311[\"borough\"]=='UNSPECIFIED')&(b311[\"city\"]=='NEW YORK')].index\n",
    "b311.loc[which_rows_to_adjust,'borough']=\"MANHATTAN\"\n",
    "b311.loc[which_rows_to_adjust,'city']=np.nan\n",
    "#Although the city for most of the \"NEW YORK\" ones are the only ones that technically got the \"city\" column valued correctly,\n",
    "#since every other row uses city as \"neighborhood\":  Standardize these.\n",
    "which_rows_to_adjust = b311[(b311[\"city\"]=='NEW YORK')].index\n",
    "b311.loc[which_rows_to_adjust,'city']=np.nan\n",
    "#Any still unspecified boroughs with a value in \"city\" are in the Queens borough.  The \"city\" is actually a \"neighborhood\".\n",
    "queens_neighborhoods = b311[(b311['borough']=='UNSPECIFIED')&(b311['city'].isnull()==False)]['city'].unique()\n",
    "#Standardize borough for Queens neighborhoods.\n",
    "which_rows_to_adjust = b311[(b311[\"borough\"]=='UNSPECIFIED')&b311[\"city\"].isin(queens_neighborhoods)].index\n",
    "b311.loc[which_rows_to_adjust,'borough']=\"QUEENS\"\n",
    "#Null the borough if it still shows up as unspecified borough as there is no other information from which to derive it.\n",
    "which_rows_to_adjust = b311[(b311[\"borough\"]=='UNSPECIFIED')&b311[\"city\"].isnull()].index\n",
    "b311.loc[which_rows_to_adjust,'borough']=np.nan"
   ]
  },
  {
   "cell_type": "code",
   "execution_count": 8,
   "metadata": {},
   "outputs": [
    {
     "data": {
      "text/plain": [
       "BRONX            658545\n",
       "BROOKLYN         636554\n",
       "MANHATTAN        457638\n",
       "QUEENS           266565\n",
       "STATEN ISLAND     20881\n",
       "Name: borough, dtype: int64"
      ]
     },
     "execution_count": 8,
     "metadata": {},
     "output_type": "execute_result"
    }
   ],
   "source": [
    "b311['borough'].value_counts()"
   ]
  },
  {
   "cell_type": "markdown",
   "metadata": {},
   "source": [
    "### Filter NY 311 data by borough to only include BRONX\n",
    "As described under the \"load data\" section at the top of the notebook."
   ]
  },
  {
   "cell_type": "code",
   "execution_count": 9,
   "metadata": {},
   "outputs": [
    {
     "data": {
      "text/plain": [
       "BRONX    658545\n",
       "Name: borough, dtype: int64"
      ]
     },
     "execution_count": 9,
     "metadata": {},
     "output_type": "execute_result"
    }
   ],
   "source": [
    "b311.drop(b311[(b311[\"borough\"]!='BRONX')].index, axis=0, inplace=True)\n",
    "b311.reset_index(drop=True, inplace=True)\n",
    "b311['borough'].value_counts()"
   ]
  },
  {
   "cell_type": "markdown",
   "metadata": {},
   "source": [
    "### Remove unnecessary rows"
   ]
  },
  {
   "cell_type": "code",
   "execution_count": 10,
   "metadata": {},
   "outputs": [
    {
     "name": "stdout",
     "output_type": "stream",
     "text": [
      "complaint_type          0\n",
      "incident_zip         5956\n",
      "incident_address        0\n",
      "city                94541\n",
      "borough                 0\n",
      "dtype: int64\n"
     ]
    },
    {
     "data": {
      "text/plain": [
       "3810 BAILEY AVENUE          7112\n",
       "1025 BOYNTON AVENUE         5773\n",
       "2090 EAST TREMONT AVENUE    3748\n",
       "888 GRAND CONCOURSE         3211\n",
       "2968 PERRY AVENUE           2830\n",
       "Name: incident_address, dtype: int64"
      ]
     },
     "execution_count": 10,
     "metadata": {},
     "output_type": "execute_result"
    }
   ],
   "source": [
    "# Drop observations with missing address as there will be no way to tie them to any PLUTO data.\n",
    "b311.dropna(subset=['incident_address'], axis=0, inplace=True)\n",
    "b311.reset_index(drop=True, inplace=True)\n",
    "print(b311.isnull().sum())\n",
    "b311['incident_address'].value_counts().head()"
   ]
  },
  {
   "cell_type": "markdown",
   "metadata": {},
   "source": [
    "## BRONX PLUTO"
   ]
  },
  {
   "cell_type": "code",
   "execution_count": 11,
   "metadata": {},
   "outputs": [
    {
     "name": "stdout",
     "output_type": "stream",
     "text": [
      "shape (89854, 22)\n",
      "---isnull follows---\n",
      "Lot              0\n",
      "ZipCode        329\n",
      "Address         69\n",
      "BldgClass       66\n",
      "LandUse        414\n",
      "LotArea          0\n",
      "BldgArea         0\n",
      "ResArea          0\n",
      "OfficeArea       0\n",
      "RetailArea       0\n",
      "NumBldgs         0\n",
      "NumFloors        0\n",
      "LotDepth         0\n",
      "BldgDepth        0\n",
      "YearBuilt        0\n",
      "YearAlter1       0\n",
      "BuiltFAR         0\n",
      "ResidFAR         0\n",
      "CommFAR          0\n",
      "FacilFAR         0\n",
      "XCoord        3259\n",
      "YCoord        3259\n",
      "dtype: int64\n"
     ]
    },
    {
     "data": {
      "text/html": [
       "<div>\n",
       "<style scoped>\n",
       "    .dataframe tbody tr th:only-of-type {\n",
       "        vertical-align: middle;\n",
       "    }\n",
       "\n",
       "    .dataframe tbody tr th {\n",
       "        vertical-align: top;\n",
       "    }\n",
       "\n",
       "    .dataframe thead th {\n",
       "        text-align: right;\n",
       "    }\n",
       "</style>\n",
       "<table border=\"1\" class=\"dataframe\">\n",
       "  <thead>\n",
       "    <tr style=\"text-align: right;\">\n",
       "      <th></th>\n",
       "      <th>Lot</th>\n",
       "      <th>ZipCode</th>\n",
       "      <th>Address</th>\n",
       "      <th>BldgClass</th>\n",
       "      <th>LandUse</th>\n",
       "      <th>LotArea</th>\n",
       "      <th>BldgArea</th>\n",
       "      <th>ResArea</th>\n",
       "      <th>OfficeArea</th>\n",
       "      <th>RetailArea</th>\n",
       "      <th>...</th>\n",
       "      <th>LotDepth</th>\n",
       "      <th>BldgDepth</th>\n",
       "      <th>YearBuilt</th>\n",
       "      <th>YearAlter1</th>\n",
       "      <th>BuiltFAR</th>\n",
       "      <th>ResidFAR</th>\n",
       "      <th>CommFAR</th>\n",
       "      <th>FacilFAR</th>\n",
       "      <th>XCoord</th>\n",
       "      <th>YCoord</th>\n",
       "    </tr>\n",
       "  </thead>\n",
       "  <tbody>\n",
       "    <tr>\n",
       "      <th>0</th>\n",
       "      <td>1</td>\n",
       "      <td>10454.0</td>\n",
       "      <td>122 BRUCKNER BOULEVARD</td>\n",
       "      <td>Z9</td>\n",
       "      <td>NaN</td>\n",
       "      <td>15000</td>\n",
       "      <td>0</td>\n",
       "      <td>0</td>\n",
       "      <td>0</td>\n",
       "      <td>0</td>\n",
       "      <td>...</td>\n",
       "      <td>200.0</td>\n",
       "      <td>0.0</td>\n",
       "      <td>0</td>\n",
       "      <td>0</td>\n",
       "      <td>0.00</td>\n",
       "      <td>6.02</td>\n",
       "      <td>5.0</td>\n",
       "      <td>6.5</td>\n",
       "      <td>1005957.0</td>\n",
       "      <td>232162.0</td>\n",
       "    </tr>\n",
       "    <tr>\n",
       "      <th>1</th>\n",
       "      <td>4</td>\n",
       "      <td>10454.0</td>\n",
       "      <td>126 BRUCKNER BOULEVARD</td>\n",
       "      <td>G5</td>\n",
       "      <td>7.0</td>\n",
       "      <td>13770</td>\n",
       "      <td>752</td>\n",
       "      <td>0</td>\n",
       "      <td>272</td>\n",
       "      <td>0</td>\n",
       "      <td>...</td>\n",
       "      <td>100.0</td>\n",
       "      <td>16.0</td>\n",
       "      <td>1931</td>\n",
       "      <td>1994</td>\n",
       "      <td>0.05</td>\n",
       "      <td>6.02</td>\n",
       "      <td>5.0</td>\n",
       "      <td>6.5</td>\n",
       "      <td>1006076.0</td>\n",
       "      <td>232156.0</td>\n",
       "    </tr>\n",
       "    <tr>\n",
       "      <th>2</th>\n",
       "      <td>10</td>\n",
       "      <td>10454.0</td>\n",
       "      <td>138 BRUCKNER BOULEVARD</td>\n",
       "      <td>F5</td>\n",
       "      <td>6.0</td>\n",
       "      <td>35000</td>\n",
       "      <td>39375</td>\n",
       "      <td>0</td>\n",
       "      <td>0</td>\n",
       "      <td>0</td>\n",
       "      <td>...</td>\n",
       "      <td>200.0</td>\n",
       "      <td>200.0</td>\n",
       "      <td>1931</td>\n",
       "      <td>0</td>\n",
       "      <td>1.13</td>\n",
       "      <td>6.02</td>\n",
       "      <td>5.0</td>\n",
       "      <td>6.5</td>\n",
       "      <td>1006187.0</td>\n",
       "      <td>232036.0</td>\n",
       "    </tr>\n",
       "    <tr>\n",
       "      <th>3</th>\n",
       "      <td>17</td>\n",
       "      <td>10454.0</td>\n",
       "      <td>144 BRUCKNER BOULEVARD</td>\n",
       "      <td>C1</td>\n",
       "      <td>2.0</td>\n",
       "      <td>2500</td>\n",
       "      <td>12500</td>\n",
       "      <td>12500</td>\n",
       "      <td>0</td>\n",
       "      <td>0</td>\n",
       "      <td>...</td>\n",
       "      <td>100.0</td>\n",
       "      <td>85.0</td>\n",
       "      <td>1931</td>\n",
       "      <td>2001</td>\n",
       "      <td>5.00</td>\n",
       "      <td>6.02</td>\n",
       "      <td>5.0</td>\n",
       "      <td>6.5</td>\n",
       "      <td>1006299.0</td>\n",
       "      <td>232033.0</td>\n",
       "    </tr>\n",
       "    <tr>\n",
       "      <th>4</th>\n",
       "      <td>18</td>\n",
       "      <td>10454.0</td>\n",
       "      <td>148 BRUCKNER BOULEVARD</td>\n",
       "      <td>C7</td>\n",
       "      <td>2.0</td>\n",
       "      <td>1875</td>\n",
       "      <td>8595</td>\n",
       "      <td>6876</td>\n",
       "      <td>0</td>\n",
       "      <td>1719</td>\n",
       "      <td>...</td>\n",
       "      <td>75.0</td>\n",
       "      <td>70.0</td>\n",
       "      <td>1920</td>\n",
       "      <td>2009</td>\n",
       "      <td>4.58</td>\n",
       "      <td>6.02</td>\n",
       "      <td>5.0</td>\n",
       "      <td>6.5</td>\n",
       "      <td>1006363.0</td>\n",
       "      <td>232040.0</td>\n",
       "    </tr>\n",
       "  </tbody>\n",
       "</table>\n",
       "<p>5 rows × 22 columns</p>\n",
       "</div>"
      ],
      "text/plain": [
       "   Lot  ZipCode                 Address BldgClass  LandUse  LotArea  BldgArea  \\\n",
       "0    1  10454.0  122 BRUCKNER BOULEVARD        Z9      NaN    15000         0   \n",
       "1    4  10454.0  126 BRUCKNER BOULEVARD        G5      7.0    13770       752   \n",
       "2   10  10454.0  138 BRUCKNER BOULEVARD        F5      6.0    35000     39375   \n",
       "3   17  10454.0  144 BRUCKNER BOULEVARD        C1      2.0     2500     12500   \n",
       "4   18  10454.0  148 BRUCKNER BOULEVARD        C7      2.0     1875      8595   \n",
       "\n",
       "   ResArea  OfficeArea  RetailArea  ...  LotDepth  BldgDepth  YearBuilt  \\\n",
       "0        0           0           0  ...     200.0        0.0          0   \n",
       "1        0         272           0  ...     100.0       16.0       1931   \n",
       "2        0           0           0  ...     200.0      200.0       1931   \n",
       "3    12500           0           0  ...     100.0       85.0       1931   \n",
       "4     6876           0        1719  ...      75.0       70.0       1920   \n",
       "\n",
       "   YearAlter1  BuiltFAR  ResidFAR  CommFAR  FacilFAR     XCoord    YCoord  \n",
       "0           0      0.00      6.02      5.0       6.5  1005957.0  232162.0  \n",
       "1        1994      0.05      6.02      5.0       6.5  1006076.0  232156.0  \n",
       "2           0      1.13      6.02      5.0       6.5  1006187.0  232036.0  \n",
       "3        2001      5.00      6.02      5.0       6.5  1006299.0  232033.0  \n",
       "4        2009      4.58      6.02      5.0       6.5  1006363.0  232040.0  \n",
       "\n",
       "[5 rows x 22 columns]"
      ]
     },
     "execution_count": 11,
     "metadata": {},
     "output_type": "execute_result"
    }
   ],
   "source": [
    "print(\"shape %s\" % str(df.shape))\n",
    "print(\"---isnull follows---\")\n",
    "print(df.isnull().sum())\n",
    "df.head()"
   ]
  },
  {
   "cell_type": "markdown",
   "metadata": {},
   "source": [
    "### General"
   ]
  },
  {
   "cell_type": "code",
   "execution_count": 12,
   "metadata": {},
   "outputs": [
    {
     "data": {
      "text/plain": [
       "Lot             int64\n",
       "ZipCode       float64\n",
       "Address        object\n",
       "BldgClass      object\n",
       "LandUse       float64\n",
       "LotArea         int64\n",
       "BldgArea        int64\n",
       "ResArea         int64\n",
       "OfficeArea      int64\n",
       "RetailArea      int64\n",
       "NumBldgs        int64\n",
       "NumFloors     float64\n",
       "LotDepth      float64\n",
       "BldgDepth     float64\n",
       "YearBuilt       int64\n",
       "YearAlter1      int64\n",
       "BuiltFAR      float64\n",
       "ResidFAR      float64\n",
       "CommFAR       float64\n",
       "FacilFAR      float64\n",
       "XCoord        float64\n",
       "YCoord        float64\n",
       "dtype: object"
      ]
     },
     "execution_count": 12,
     "metadata": {},
     "output_type": "execute_result"
    }
   ],
   "source": [
    "df.dtypes"
   ]
  },
  {
   "cell_type": "code",
   "execution_count": 13,
   "metadata": {},
   "outputs": [],
   "source": [
    "#Adjust relevant strings to uppercase so different casing won't appear as separate values.\n",
    "df['Address'] = df['Address'].str.upper()"
   ]
  },
  {
   "cell_type": "code",
   "execution_count": 14,
   "metadata": {},
   "outputs": [],
   "source": [
    "# Drop the observations with missing address as there will be no way to tie them to any 311 data.\n",
    "df.dropna(subset=['Address'], axis=0, inplace=True)\n",
    "df.reset_index(drop=True, inplace=True)"
   ]
  },
  {
   "cell_type": "code",
   "execution_count": 15,
   "metadata": {},
   "outputs": [],
   "source": [
    "# Drop the observations with missing land use.\n",
    "df.dropna(subset=['LandUse'], axis=0, inplace=True)\n",
    "df.reset_index(drop=True, inplace=True)"
   ]
  },
  {
   "cell_type": "markdown",
   "metadata": {},
   "source": [
    "## Standardization of Addresses\n",
    "Leveraging standardization methods developed during question 2."
   ]
  },
  {
   "cell_type": "code",
   "execution_count": 16,
   "metadata": {},
   "outputs": [
    {
     "name": "stdout",
     "output_type": "stream",
     "text": [
      "BRONX 311 unique addresses: 23690\n",
      "BRONX PLUTO unique addresses: 86739\n"
     ]
    }
   ],
   "source": [
    "print(\"BRONX 311 unique addresses: %s\" % b311['incident_address'].unique().size)\n",
    "print(\"BRONX PLUTO unique addresses: %s\" % df['Address'].unique().size)"
   ]
  },
  {
   "cell_type": "markdown",
   "metadata": {},
   "source": [
    "<p style=\"color:Red;\">Determine how much overlap.  Ideally all 29K BRONX 311 addresses will be represented in the PLUTO set.</p>"
   ]
  },
  {
   "cell_type": "code",
   "execution_count": 17,
   "metadata": {},
   "outputs": [],
   "source": [
    "def WhichAddressesNotInPluto(howManyTopToShow):\n",
    "    complaints = set(b311['incident_address'].unique())\n",
    "    pluto = set(df['Address'].unique())\n",
    "    #Determine which 311 addresses were not found in PLUTO to gain insight as to why.\n",
    "    differences = complaints.difference(pluto)\n",
    "    print(\"Records not in PLUTO: %s.  Percent: %s\" % (len(differences), \"{:.2%}\".format(len(differences) / len(complaints))))\n",
    "    print(\"---Top %i---\" % howManyTopToShow)\n",
    "    print(b311[b311['incident_address'].isin(differences)]['incident_address'].value_counts().head(howManyTopToShow))"
   ]
  },
  {
   "cell_type": "code",
   "execution_count": 18,
   "metadata": {},
   "outputs": [
    {
     "name": "stdout",
     "output_type": "stream",
     "text": [
      "Records not in PLUTO: 5338.  Percent: 22.53%\n",
      "---Top 3---\n",
      "2090 EAST TREMONT AVENUE         3748\n",
      "266 BEDFORD PARK BOULEVARD       2527\n",
      "1425 DR M L KING JR BOULEVARD    2283\n",
      "Name: incident_address, dtype: int64\n"
     ]
    }
   ],
   "source": [
    "WhichAddressesNotInPluto(3)"
   ]
  },
  {
   "cell_type": "markdown",
   "metadata": {},
   "source": [
    "<p style=\"color:Red;\">Over 20 percent of addresses in the BRONX 311 data cannot be merged to the BRONX PLUTO data prior to standardization.</p>"
   ]
  },
  {
   "cell_type": "markdown",
   "metadata": {},
   "source": [
    "### Borrow some python functions developed during question 2\n",
    "With minor improvements to better work with full addresses instead of just street names."
   ]
  },
  {
   "cell_type": "code",
   "execution_count": 19,
   "metadata": {},
   "outputs": [],
   "source": [
    "# Some street values have multiple spaces in a row.\n",
    "import re\n",
    "def standardize_spaces(raw):\n",
    "    result = raw.strip() #Remove leading and trailing spaces.\n",
    "    result = re.sub(' +', ' ', result) #Squeeze multiple adjacent spaces into just one space.\n",
    "    return result"
   ]
  },
  {
   "cell_type": "code",
   "execution_count": 20,
   "metadata": {},
   "outputs": [],
   "source": [
    "# Some streets have problematic characters.  For example:  ST. ANN'S AVENUE also exists without period or apostophe.\n",
    "problem_characters = ['.', '\\'']\n",
    "def replace_problem_characters(raw):\n",
    "    result = raw\n",
    "    for (character) in problem_characters:\n",
    "        result = result.replace(character,'')\n",
    "    return result"
   ]
  },
  {
   "cell_type": "code",
   "execution_count": 21,
   "metadata": {},
   "outputs": [],
   "source": [
    "#Some words are sometimes entered in a non-standard way or with typos need to be standardized.\n",
    "word_replacements = [(\"AVE\",\"AVENUE\"),(\"ST\",\"STREET\"),(\"RD\",\"ROAD\"),(\"FT\",\"FORT\"),(\"BX\",\"BRONX\"),(\"MT\",\"MOUNT\"),\n",
    "                     (\"NICHLAS\",\"NICHOLAS\"),(\"NICHALOS\",\"NICHOLAS\"),(\"EXPRE\",\"EXPRESSWAY\"),(\"HARACE\",\"HORACE\"),\n",
    "                     (\"NO\",\"NORTH\"),(\"AV\",\"AVENUE\"),(\"CRK\",\"CREEK\"),(\"FR\",\"FATHER\"),(\"JR\",\"JUNIOR\"),(\"GR\",\"GRAND\"),\n",
    "                     (\"CT\",\"COURT\"),\n",
    "                     (\"SR\",\"\"), # Service Road.  These are always near a similarly named street.  Lump together.\n",
    "                     (\"QN\",\"QUEENS\"),\n",
    "                     (\"ND\",\"\"), # A space between a number and ND such as EAST 52 ND STREET.  Note ST and RD can be street or road.\n",
    "                     (\"PO\",\"POND\"),(\"BO\",\"BOND\"),(\"GRA\",\"GRAND\"),(\"REV\",\"REVEREND\"),(\"CO-OP\",\"COOP\"),\n",
    "                     (\"GRANDCONCOURSE\", \"GRAND CONCOURSE\"),(\"CENTRL\", \"CENTRAL\"),(\"BLVD\",\"BOULEVARD\"),\n",
    "                     (\"FREDRICK\", \"FREDERICK\"),(\"DOUGLAS\", \"DOUGLASS\"),(\"MALCOM\", \"MALCOMN\"),\n",
    "                     (\"NORTHEN\", \"NORTHERN\"),(\"AVNEUE\",\"AVENUE\"),\n",
    "                    (\"N\",\"NORTH\"),(\"S\",\"SOUTH\"),(\"E\",\"EAST\"),(\"W\",\"WEST\"),(\"SW\",\"SOUTHWEST\"),\n",
    "                             (\"NW\",\"NORTHWEST\"),(\"SE\",\"SOUTHEAST\"),(\"NE\",\"NORTHEAST\")]\n",
    "def replace_words(raw):\n",
    "    split_raw = raw.split()\n",
    "    for (old, new) in word_replacements:\n",
    "        found_at_index = next((i for i, x in enumerate(split_raw) if x==old), None)\n",
    "        if found_at_index!=None:\n",
    "            split_raw[found_at_index] = new\n",
    "    return standardize_spaces(\" \".join(split_raw))"
   ]
  },
  {
   "cell_type": "code",
   "execution_count": 22,
   "metadata": {},
   "outputs": [],
   "source": [
    "#Some words are actually prefixes of the following word.  Example the LA prefix of LA GRANGE.\n",
    "word_prefixes = [\"DE\",\"MC\",\"LA\",\"VAN\",\"MAC\",\"CO\"]\n",
    "def concatenate_prefixes(raw):\n",
    "    split_raw = raw.split()\n",
    "    last_word = len(split_raw) - 1\n",
    "    for (prefix) in word_prefixes:\n",
    "        found_at_index = next((i for i, x in enumerate(split_raw) if x==prefix), None)\n",
    "        if found_at_index!=None:\n",
    "            if len(split_raw)>1:\n",
    "                if found_at_index != last_word:\n",
    "                    split_raw[found_at_index] = ''\n",
    "                    split_raw[found_at_index+1] = prefix + split_raw[found_at_index+1]\n",
    "                    return standardize_spaces(\" \".join(split_raw))\n",
    "    return raw"
   ]
  },
  {
   "cell_type": "code",
   "execution_count": 23,
   "metadata": {},
   "outputs": [],
   "source": [
    "#Some phrases need custom replacement because they involve multiple words or easily mis-interpretted out of context.\n",
    "phrase_replacements = [(\"DR M L KING JR\",\"MARTIN LUTHER KING\"),(\"DR MARTIN L KING\",\"MARTIN LUTHER KING\"),\n",
    "    (\"MARTIN LUTHER KING\",\"MARTIN LUTHER KING\"),(\"MARTIN L KING JR\",\"MARTIN LUTHER KING\"),\n",
    "    (\"MARTIN L KING\",\"MARTIN LUTHER KING\"),(\"ST NICHOLAS\",\"SAINT NICHOLAS\"),(\"ST JOHN\",\"SAINT JOHN\"),\n",
    "    (\"ST MARK\",\"SAINT MARK\"),(\"ST ANN\",\"SAINT ANN\"),(\"ST LAWRENCE\",\"SAINT LAWRENCE\"),(\"ST PAUL\",\"SAINT PAUL\"),\n",
    "    (\"ST PETER\",\"SAINT PETER\"),(\"ST RAYMOND\",\"SAINT RAYMOND\"),(\"ST THERESA\",\"SAINT THERESA\"),(\"ST FELIX\",\"SAINT FELIX\"),\n",
    "    (\"ST MARY\",\"SAINT MARY\"),(\"ST OUEN\",\"SAINT OUEN\"),(\"ST JAMES\",\"SAINT JAMES\"),(\"ST GEORGE\",\"SAINT GEORGE\"),\n",
    "    (\"ST EDWARD\",\"SAINT EDWARD\"),(\"ST CHARLES\",\"SAINT CHARLES\"),(\"ST FRANCIS\",\"SAINT FRANCIS\"),\n",
    "    (\"ST ANDREW\",\"SAINT ANDREW\"),(\"ST JUDE\",\"SAINT JUDE\"),(\"ST LUKE\",\"SAINT LUKE\"),(\"ST JOSEPH\",\"SAINT JOSEPH\"),\n",
    "    (\"N D PERLMAN\",\"NATHAN PERLMAN\"),(\"O BRIEN\",\"OBRIEN\"),(\"F D R\",\"FDR\"),(\"EXPRESSWAY N SR\",\"EXPRESSWAY SR N\"),\n",
    "    (\"HOR HARDING\",\"HORACE HARDING\"),\n",
    "    (\"SERVICE ROAD\",\"\"), # These are always near a similarly named street. Lump together.\n",
    "    (\"DUMMY\",\"\"),(\"ADAM C POWELL\",\"ADAM CLAYTON POWELL\"),(\"POWELL COVE\",\"POWELLS COVE\")]\n",
    "def replace_phrases(raw):\n",
    "    result = raw\n",
    "    for (old,new) in phrase_replacements:\n",
    "        result = standardize_spaces(result.replace(old,new))\n",
    "    return result"
   ]
  },
  {
   "cell_type": "code",
   "execution_count": 24,
   "metadata": {},
   "outputs": [],
   "source": [
    "# 1ST, 2ND, 3RD, 4TH, ... nTH\n",
    "# Remove the suffixes leaving the numbers by themselves.\n",
    "number_suffixes = [\"ST\",\"ND\",\"RD\",\"TH\"]\n",
    "digits=[\"1\",\"2\",\"3\",\"4\",\"5\",\"6\",\"7\",\"8\",\"9\",\"0\"]\n",
    "def remove_number_suffixes(raw):\n",
    "    split_raw = raw.split()\n",
    "    for suffix in number_suffixes:\n",
    "        found_at_index = next((i for i, x in enumerate(split_raw) if x[0] in digits and x.endswith(suffix)), None) \n",
    "        if found_at_index!=None:            \n",
    "            split_raw[found_at_index] = split_raw[found_at_index][:-2]\n",
    "            return standardize_spaces(\" \".join(split_raw))\n",
    "    return raw"
   ]
  },
  {
   "cell_type": "code",
   "execution_count": 25,
   "metadata": {},
   "outputs": [],
   "source": [
    "def standardize_street(street):\n",
    "    r = street \n",
    "    r = standardize_spaces(r) \n",
    "    r = replace_problem_characters(r) \n",
    "    r = replace_phrases(r) \n",
    "    r = replace_words(r) \n",
    "    r = concatenate_prefixes(r) \n",
    "    r = remove_number_suffixes(r) \n",
    "    return r"
   ]
  },
  {
   "cell_type": "markdown",
   "metadata": {},
   "source": [
    "### Standardize the address in both the 311 and PLUTO data"
   ]
  },
  {
   "cell_type": "code",
   "execution_count": 26,
   "metadata": {},
   "outputs": [],
   "source": [
    "b311['incident_address'] = b311['incident_address'].apply(standardize_street)"
   ]
  },
  {
   "cell_type": "code",
   "execution_count": 27,
   "metadata": {},
   "outputs": [],
   "source": [
    "df['Address'] = df['Address'].apply(standardize_street)"
   ]
  },
  {
   "cell_type": "code",
   "execution_count": 28,
   "metadata": {},
   "outputs": [
    {
     "name": "stdout",
     "output_type": "stream",
     "text": [
      "Records not in PLUTO: 2439.  Percent: 11.25%\n",
      "---Top 3---\n",
      "2090 EAST TREMONT AVENUE             3748\n",
      "1425 MARTIN LUTHER KING BOULEVARD    2283\n",
      "223 NAPLES TERRACE                   1119\n",
      "Name: incident_address, dtype: int64\n"
     ]
    }
   ],
   "source": [
    "# See if there was an improvement in how well the 311 data can be merged with the PLUTO data by address.\n",
    "WhichAddressesNotInPluto(3)"
   ]
  },
  {
   "cell_type": "markdown",
   "metadata": {},
   "source": [
    "<p style=\"color:Red;\">The percentage of addresses in the 311 data that can be matched to an entry in the PLUTO data set improved from over 20% to below 12%.</p>"
   ]
  },
  {
   "cell_type": "code",
   "execution_count": 29,
   "metadata": {},
   "outputs": [],
   "source": [
    "df.to_pickle(files_path + 'q3standardized.pkl')"
   ]
  },
  {
   "cell_type": "markdown",
   "metadata": {},
   "source": [
    "## Imputation\n",
    "Handling \"missing\" features.  That are null or have a zero placeholder instead of a \"real\" value."
   ]
  },
  {
   "cell_type": "code",
   "execution_count": 30,
   "metadata": {},
   "outputs": [],
   "source": [
    "df = pd.read_pickle(files_path + 'q3standardized.pkl')"
   ]
  },
  {
   "cell_type": "code",
   "execution_count": 31,
   "metadata": {},
   "outputs": [
    {
     "name": "stdout",
     "output_type": "stream",
     "text": [
      "ZipCode:  253 of 89437 (0.28%)\n",
      "XCoord:  3110 of 89437 (3.48%)\n",
      "YCoord:  3110 of 89437 (3.48%)\n"
     ]
    }
   ],
   "source": [
    "def check_nulls():\n",
    "    for col in df.columns:\n",
    "        nulls = len(df[df[col].isnull()])\n",
    "        if nulls > 0:\n",
    "            print(\"%s:  %i of %i (%s)\" % (col, nulls, df.shape[0], \"{:.2%}\".format(nulls / df.shape[0])))\n",
    "check_nulls()"
   ]
  },
  {
   "cell_type": "code",
   "execution_count": 32,
   "metadata": {},
   "outputs": [],
   "source": [
    "#Replace with zeroes to kick these forward to the next section.\n",
    "df['ZipCode'].replace(to_replace=np.nan, value=0, inplace=True)\n",
    "df['XCoord'].replace(to_replace=np.nan, value=0, inplace=True)\n",
    "df['YCoord'].replace(to_replace=np.nan, value=0, inplace=True)\n",
    "check_nulls()"
   ]
  },
  {
   "cell_type": "code",
   "execution_count": 33,
   "metadata": {},
   "outputs": [
    {
     "name": "stdout",
     "output_type": "stream",
     "text": [
      "ZipCode:  253 of 89437 (0.28%)\n",
      "LotArea:  232 of 89437 (0.26%)\n",
      "BldgArea:  6179 of 89437 (6.91%)\n",
      "ResArea:  14072 of 89437 (15.73%)\n",
      "OfficeArea:  86919 of 89437 (97.18%)\n",
      "RetailArea:  83554 of 89437 (93.42%)\n",
      "NumBldgs:  5887 of 89437 (6.58%)\n",
      "NumFloors:  6305 of 89437 (7.05%)\n",
      "LotDepth:  189 of 89437 (0.21%)\n",
      "BldgDepth:  6436 of 89437 (7.20%)\n",
      "YearBuilt:  6128 of 89437 (6.85%)\n",
      "YearAlter1:  81505 of 89437 (91.13%)\n",
      "BuiltFAR:  6273 of 89437 (7.01%)\n",
      "ResidFAR:  4107 of 89437 (4.59%)\n",
      "CommFAR:  83641 of 89437 (93.52%)\n",
      "FacilFAR:  980 of 89437 (1.10%)\n",
      "XCoord:  3110 of 89437 (3.48%)\n",
      "YCoord:  3110 of 89437 (3.48%)\n"
     ]
    }
   ],
   "source": [
    "def check_zeroes():\n",
    "    for col in df.columns:\n",
    "        zeroes = len(df[df[col].eq(0)])\n",
    "        if zeroes > 0:\n",
    "            print(\"%s:  %i of %i (%s)\" % (col, zeroes, df.shape[0], \"{:.2%}\".format(zeroes / df.shape[0])))\n",
    "check_zeroes()"
   ]
  },
  {
   "cell_type": "code",
   "execution_count": 34,
   "metadata": {},
   "outputs": [
    {
     "name": "stdout",
     "output_type": "stream",
     "text": [
      "ResArea:  7352 of 82337 (8.93%)\n",
      "OfficeArea:  79961 of 82337 (97.11%)\n",
      "RetailArea:  76551 of 82337 (92.97%)\n",
      "NumBldgs:  61 of 82337 (0.07%)\n",
      "NumFloors:  114 of 82337 (0.14%)\n",
      "YearBuilt:  6 of 82337 (0.01%)\n",
      "YearAlter1:  74579 of 82337 (90.58%)\n",
      "ResidFAR:  2387 of 82337 (2.90%)\n",
      "CommFAR:  78172 of 82337 (94.94%)\n",
      "XCoord:  234 of 82337 (0.28%)\n",
      "YCoord:  234 of 82337 (0.28%)\n"
     ]
    }
   ],
   "source": [
    "# Drop observations that have only a small number of zero values in a feature.\n",
    "df.drop(df[df[\"ZipCode\"].eq(0)].index, axis=0, inplace=True)\n",
    "df.drop(df[df[\"LotArea\"].eq(0)].index, axis=0, inplace=True)\n",
    "df.drop(df[df[\"LotDepth\"].eq(0)].index, axis=0, inplace=True)\n",
    "df.drop(df[df[\"BldgDepth\"].eq(0)].index, axis=0, inplace=True)\n",
    "df.drop(df[df[\"BuiltFAR\"].eq(0)].index, axis=0, inplace=True)\n",
    "df.drop(df[df[\"FacilFAR\"].eq(0)].index, axis=0, inplace=True)\n",
    "df.reset_index(drop=True, inplace=True)\n",
    "check_zeroes()"
   ]
  },
  {
   "cell_type": "code",
   "execution_count": 35,
   "metadata": {},
   "outputs": [
    {
     "name": "stdout",
     "output_type": "stream",
     "text": [
      "ResArea:  7188 of 81947 (8.77%)\n",
      "OfficeArea:  79584 of 81947 (97.12%)\n",
      "RetailArea:  76179 of 81947 (92.96%)\n",
      "YearAlter1:  74239 of 81947 (90.59%)\n",
      "ResidFAR:  2358 of 81947 (2.88%)\n",
      "CommFAR:  77843 of 81947 (94.99%)\n"
     ]
    }
   ],
   "source": [
    "# Need to drop more rows, for observations which had zeroes in multiple features.\n",
    "df.drop(df[df[\"NumBldgs\"].eq(0)].index, axis=0, inplace=True)\n",
    "df.drop(df[df[\"NumFloors\"].eq(0)].index, axis=0, inplace=True)\n",
    "df.drop(df[df[\"YearBuilt\"].eq(0)].index, axis=0, inplace=True)\n",
    "df.drop(df[df[\"XCoord\"].eq(0)].index, axis=0, inplace=True)\n",
    "df.drop(df[df[\"YCoord\"].eq(0)].index, axis=0, inplace=True)\n",
    "df.reset_index(drop=True, inplace=True)\n",
    "check_zeroes()"
   ]
  },
  {
   "cell_type": "code",
   "execution_count": 36,
   "metadata": {},
   "outputs": [
    {
     "data": {
      "text/html": [
       "<div>\n",
       "<style scoped>\n",
       "    .dataframe tbody tr th:only-of-type {\n",
       "        vertical-align: middle;\n",
       "    }\n",
       "\n",
       "    .dataframe tbody tr th {\n",
       "        vertical-align: top;\n",
       "    }\n",
       "\n",
       "    .dataframe thead th {\n",
       "        text-align: right;\n",
       "    }\n",
       "</style>\n",
       "<table border=\"1\" class=\"dataframe\">\n",
       "  <thead>\n",
       "    <tr style=\"text-align: right;\">\n",
       "      <th></th>\n",
       "      <th>Lot</th>\n",
       "      <th>ZipCode</th>\n",
       "      <th>Address</th>\n",
       "      <th>BldgClass</th>\n",
       "      <th>LandUse</th>\n",
       "      <th>LotArea</th>\n",
       "      <th>BldgArea</th>\n",
       "      <th>ResArea</th>\n",
       "      <th>OfficeArea</th>\n",
       "      <th>RetailArea</th>\n",
       "      <th>...</th>\n",
       "      <th>LotDepth</th>\n",
       "      <th>BldgDepth</th>\n",
       "      <th>YearBuilt</th>\n",
       "      <th>YearAlter1</th>\n",
       "      <th>BuiltFAR</th>\n",
       "      <th>ResidFAR</th>\n",
       "      <th>CommFAR</th>\n",
       "      <th>FacilFAR</th>\n",
       "      <th>XCoord</th>\n",
       "      <th>YCoord</th>\n",
       "    </tr>\n",
       "  </thead>\n",
       "  <tbody>\n",
       "    <tr>\n",
       "      <th>0</th>\n",
       "      <td>4</td>\n",
       "      <td>10454.0</td>\n",
       "      <td>126 BRUCKNER BOULEVARD</td>\n",
       "      <td>G5</td>\n",
       "      <td>7.0</td>\n",
       "      <td>13770</td>\n",
       "      <td>752</td>\n",
       "      <td>0</td>\n",
       "      <td>272</td>\n",
       "      <td>0</td>\n",
       "      <td>...</td>\n",
       "      <td>100.0</td>\n",
       "      <td>16.0</td>\n",
       "      <td>1931</td>\n",
       "      <td>1994</td>\n",
       "      <td>0.05</td>\n",
       "      <td>6.02</td>\n",
       "      <td>5.0</td>\n",
       "      <td>6.5</td>\n",
       "      <td>1006076.0</td>\n",
       "      <td>232156.0</td>\n",
       "    </tr>\n",
       "    <tr>\n",
       "      <th>1</th>\n",
       "      <td>10</td>\n",
       "      <td>10454.0</td>\n",
       "      <td>138 BRUCKNER BOULEVARD</td>\n",
       "      <td>F5</td>\n",
       "      <td>6.0</td>\n",
       "      <td>35000</td>\n",
       "      <td>39375</td>\n",
       "      <td>0</td>\n",
       "      <td>0</td>\n",
       "      <td>0</td>\n",
       "      <td>...</td>\n",
       "      <td>200.0</td>\n",
       "      <td>200.0</td>\n",
       "      <td>1931</td>\n",
       "      <td>0</td>\n",
       "      <td>1.13</td>\n",
       "      <td>6.02</td>\n",
       "      <td>5.0</td>\n",
       "      <td>6.5</td>\n",
       "      <td>1006187.0</td>\n",
       "      <td>232036.0</td>\n",
       "    </tr>\n",
       "    <tr>\n",
       "      <th>2</th>\n",
       "      <td>17</td>\n",
       "      <td>10454.0</td>\n",
       "      <td>144 BRUCKNER BOULEVARD</td>\n",
       "      <td>C1</td>\n",
       "      <td>2.0</td>\n",
       "      <td>2500</td>\n",
       "      <td>12500</td>\n",
       "      <td>12500</td>\n",
       "      <td>0</td>\n",
       "      <td>0</td>\n",
       "      <td>...</td>\n",
       "      <td>100.0</td>\n",
       "      <td>85.0</td>\n",
       "      <td>1931</td>\n",
       "      <td>2001</td>\n",
       "      <td>5.00</td>\n",
       "      <td>6.02</td>\n",
       "      <td>5.0</td>\n",
       "      <td>6.5</td>\n",
       "      <td>1006299.0</td>\n",
       "      <td>232033.0</td>\n",
       "    </tr>\n",
       "    <tr>\n",
       "      <th>3</th>\n",
       "      <td>18</td>\n",
       "      <td>10454.0</td>\n",
       "      <td>148 BRUCKNER BOULEVARD</td>\n",
       "      <td>C7</td>\n",
       "      <td>2.0</td>\n",
       "      <td>1875</td>\n",
       "      <td>8595</td>\n",
       "      <td>6876</td>\n",
       "      <td>0</td>\n",
       "      <td>1719</td>\n",
       "      <td>...</td>\n",
       "      <td>75.0</td>\n",
       "      <td>70.0</td>\n",
       "      <td>1920</td>\n",
       "      <td>2009</td>\n",
       "      <td>4.58</td>\n",
       "      <td>6.02</td>\n",
       "      <td>5.0</td>\n",
       "      <td>6.5</td>\n",
       "      <td>1006363.0</td>\n",
       "      <td>232040.0</td>\n",
       "    </tr>\n",
       "    <tr>\n",
       "      <th>4</th>\n",
       "      <td>34</td>\n",
       "      <td>10454.0</td>\n",
       "      <td>519 EAST 132 STREET</td>\n",
       "      <td>F5</td>\n",
       "      <td>6.0</td>\n",
       "      <td>8700</td>\n",
       "      <td>5316</td>\n",
       "      <td>0</td>\n",
       "      <td>0</td>\n",
       "      <td>0</td>\n",
       "      <td>...</td>\n",
       "      <td>100.0</td>\n",
       "      <td>100.0</td>\n",
       "      <td>1931</td>\n",
       "      <td>0</td>\n",
       "      <td>0.61</td>\n",
       "      <td>6.02</td>\n",
       "      <td>5.0</td>\n",
       "      <td>6.5</td>\n",
       "      <td>1006046.0</td>\n",
       "      <td>232055.0</td>\n",
       "    </tr>\n",
       "  </tbody>\n",
       "</table>\n",
       "<p>5 rows × 22 columns</p>\n",
       "</div>"
      ],
      "text/plain": [
       "   Lot  ZipCode                 Address BldgClass  LandUse  LotArea  BldgArea  \\\n",
       "0    4  10454.0  126 BRUCKNER BOULEVARD        G5      7.0    13770       752   \n",
       "1   10  10454.0  138 BRUCKNER BOULEVARD        F5      6.0    35000     39375   \n",
       "2   17  10454.0  144 BRUCKNER BOULEVARD        C1      2.0     2500     12500   \n",
       "3   18  10454.0  148 BRUCKNER BOULEVARD        C7      2.0     1875      8595   \n",
       "4   34  10454.0     519 EAST 132 STREET        F5      6.0     8700      5316   \n",
       "\n",
       "   ResArea  OfficeArea  RetailArea  ...  LotDepth  BldgDepth  YearBuilt  \\\n",
       "0        0         272           0  ...     100.0       16.0       1931   \n",
       "1        0           0           0  ...     200.0      200.0       1931   \n",
       "2    12500           0           0  ...     100.0       85.0       1931   \n",
       "3     6876           0        1719  ...      75.0       70.0       1920   \n",
       "4        0           0           0  ...     100.0      100.0       1931   \n",
       "\n",
       "   YearAlter1  BuiltFAR  ResidFAR  CommFAR  FacilFAR     XCoord    YCoord  \n",
       "0        1994      0.05      6.02      5.0       6.5  1006076.0  232156.0  \n",
       "1           0      1.13      6.02      5.0       6.5  1006187.0  232036.0  \n",
       "2        2001      5.00      6.02      5.0       6.5  1006299.0  232033.0  \n",
       "3        2009      4.58      6.02      5.0       6.5  1006363.0  232040.0  \n",
       "4           0      0.61      6.02      5.0       6.5  1006046.0  232055.0  \n",
       "\n",
       "[5 rows x 22 columns]"
      ]
     },
     "execution_count": 36,
     "metadata": {},
     "output_type": "execute_result"
    }
   ],
   "source": [
    "df.head()"
   ]
  },
  {
   "cell_type": "markdown",
   "metadata": {},
   "source": [
    "## Latent variables\n",
    "Derived from the other data"
   ]
  },
  {
   "cell_type": "markdown",
   "metadata": {},
   "source": [
    "### Add qualitative variables based on features with a lot of zeroes\n",
    "Which may indicate they are missing instead of actually zero."
   ]
  },
  {
   "cell_type": "code",
   "execution_count": 37,
   "metadata": {},
   "outputs": [],
   "source": [
    "df.insert(len(df.columns) - 1, 'IsResArea', df['ResArea'].ne(0).astype('int64'))\n",
    "df.insert(len(df.columns) - 1, 'IsOfficeArea', df['OfficeArea'].ne(0).astype('int64'))\n",
    "df.insert(len(df.columns) - 1, 'IsRetailArea', df['RetailArea'].ne(0).astype('int64'))\n",
    "df.insert(len(df.columns) - 1, 'IsYearAlter1', df['YearAlter1'].ne(0).astype('int64'))\n",
    "df.insert(len(df.columns) - 1, 'IsResidFAR', df['ResidFAR'].ne(0).astype('int64'))\n",
    "df.insert(len(df.columns) - 1, 'IsCommFAR', df['CommFAR'].ne(0).astype('int64'))"
   ]
  },
  {
   "cell_type": "code",
   "execution_count": 38,
   "metadata": {},
   "outputs": [
    {
     "name": "stdout",
     "output_type": "stream",
     "text": [
      "1    74759\n",
      "0     7188\n",
      "Name: IsResArea, dtype: int64\n",
      "0    79584\n",
      "1     2363\n",
      "Name: IsOfficeArea, dtype: int64\n",
      "0    76179\n",
      "1     5768\n",
      "Name: IsRetailArea, dtype: int64\n",
      "0    74239\n",
      "1     7708\n",
      "Name: IsYearAlter1, dtype: int64\n",
      "1    79589\n",
      "0     2358\n",
      "Name: IsResidFAR, dtype: int64\n",
      "0    77843\n",
      "1     4104\n",
      "Name: IsCommFAR, dtype: int64\n"
     ]
    }
   ],
   "source": [
    "print(df['IsResArea'].value_counts())\n",
    "print(df['IsOfficeArea'].value_counts())\n",
    "print(df['IsRetailArea'].value_counts())\n",
    "print(df['IsYearAlter1'].value_counts())\n",
    "print(df['IsResidFAR'].value_counts())\n",
    "print(df['IsCommFAR'].value_counts())"
   ]
  },
  {
   "cell_type": "markdown",
   "metadata": {},
   "source": [
    "### Add qualitative variables based on Building Class\n",
    "As they seem like an important \"building characteristic\" to consider."
   ]
  },
  {
   "cell_type": "code",
   "execution_count": 39,
   "metadata": {},
   "outputs": [],
   "source": [
    "class_dummies = pd.get_dummies(df['BldgClass'].str.get(0), prefix=\"BuildingClass\")\n",
    "df = pd.concat([df, class_dummies], axis=1)"
   ]
  },
  {
   "cell_type": "markdown",
   "metadata": {},
   "source": [
    "### Add qualitative variable to group two different types of apartments together\n",
    "As that seems like an important \"building characteristic\" to consider."
   ]
  },
  {
   "cell_type": "code",
   "execution_count": 40,
   "metadata": {},
   "outputs": [],
   "source": [
    "IsApartment = df['BldgClass'].str.get(0).isin({'C','D'})\n",
    "df['IsApartment'] = IsApartment.astype('int64')"
   ]
  },
  {
   "cell_type": "markdown",
   "metadata": {},
   "source": [
    "### Add qualitative variables based on Land Use\n",
    "This seem like an important building (or at least property) characteristic to consider."
   ]
  },
  {
   "cell_type": "code",
   "execution_count": 41,
   "metadata": {},
   "outputs": [],
   "source": [
    "class_dummies = pd.get_dummies(df['LandUse'].astype('int64'), prefix=\"LandUse\")\n",
    "df = pd.concat([df, class_dummies], axis=1)"
   ]
  },
  {
   "cell_type": "markdown",
   "metadata": {},
   "source": [
    "### Variables to indicate \"how many\" and \"if any\" HEAT complaints at each address.\n",
    "So that we can see if it correlates to anything else in the data."
   ]
  },
  {
   "cell_type": "code",
   "execution_count": 42,
   "metadata": {},
   "outputs": [],
   "source": [
    "df.insert(0, 'IsComplaints', df['Address'].isin(b311['incident_address'].unique()).astype('int64'))\n",
    "counts = b311['incident_address'].value_counts(sort=False).sort_index()\n",
    "df.insert(1, 'Complaints', df['Address'].map(counts))\n",
    "df['Complaints'].replace(to_replace=np.nan, value=0, inplace=True)"
   ]
  },
  {
   "cell_type": "markdown",
   "metadata": {},
   "source": [
    "### Variables to break the created_date into more useable units."
   ]
  },
  {
   "cell_type": "code",
   "execution_count": null,
   "metadata": {},
   "outputs": [],
   "source": []
  },
  {
   "cell_type": "markdown",
   "metadata": {},
   "source": [
    "## Scaling, Centering"
   ]
  },
  {
   "cell_type": "code",
   "execution_count": 43,
   "metadata": {},
   "outputs": [
    {
     "data": {
      "text/plain": [
       "Index(['IsComplaints', 'Complaints', 'Lot', 'ZipCode', 'Address', 'BldgClass',\n",
       "       'LandUse', 'LotArea', 'BldgArea', 'ResArea', 'OfficeArea', 'RetailArea',\n",
       "       'NumBldgs', 'NumFloors', 'LotDepth', 'BldgDepth', 'YearBuilt',\n",
       "       'YearAlter1', 'BuiltFAR', 'ResidFAR', 'CommFAR', 'FacilFAR', 'XCoord',\n",
       "       'IsResArea', 'IsOfficeArea', 'IsRetailArea', 'IsYearAlter1',\n",
       "       'IsResidFAR', 'IsCommFAR', 'YCoord', 'BuildingClass_A',\n",
       "       'BuildingClass_B', 'BuildingClass_C', 'BuildingClass_D',\n",
       "       'BuildingClass_E', 'BuildingClass_F', 'BuildingClass_G',\n",
       "       'BuildingClass_H', 'BuildingClass_I', 'BuildingClass_J',\n",
       "       'BuildingClass_K', 'BuildingClass_L', 'BuildingClass_M',\n",
       "       'BuildingClass_N', 'BuildingClass_O', 'BuildingClass_P',\n",
       "       'BuildingClass_Q', 'BuildingClass_R', 'BuildingClass_S',\n",
       "       'BuildingClass_T', 'BuildingClass_W', 'BuildingClass_Y',\n",
       "       'BuildingClass_Z', 'IsApartment', 'LandUse_1', 'LandUse_2', 'LandUse_3',\n",
       "       'LandUse_4', 'LandUse_5', 'LandUse_6', 'LandUse_7', 'LandUse_8',\n",
       "       'LandUse_9', 'LandUse_10'],\n",
       "      dtype='object')"
      ]
     },
     "execution_count": 43,
     "metadata": {},
     "output_type": "execute_result"
    }
   ],
   "source": [
    "df.columns"
   ]
  },
  {
   "cell_type": "code",
   "execution_count": 44,
   "metadata": {},
   "outputs": [],
   "source": [
    "def scale_and_center(column_name):\n",
    "    scale=StandardScaler()\n",
    "    scale.fit(df[[column_name]])\n",
    "    df[[column_name]]=scale.transform(df[[column_name]])\n",
    "scale_and_center('LotArea')\n",
    "scale_and_center('BldgArea')\n",
    "scale_and_center('NumBldgs')\n",
    "scale_and_center('NumFloors')\n",
    "scale_and_center('LotDepth')\n",
    "scale_and_center('BldgDepth')\n",
    "scale_and_center('YearBuilt')\n",
    "scale_and_center('BuiltFAR')\n",
    "scale_and_center('FacilFAR')\n",
    "scale_and_center('XCoord')\n",
    "scale_and_center('YCoord')\n",
    "scale_and_center('ResArea')\n",
    "scale_and_center('OfficeArea')\n",
    "scale_and_center('RetailArea')\n",
    "scale_and_center('YearAlter1')\n",
    "scale_and_center('ResidFAR')\n",
    "scale_and_center('CommFAR')"
   ]
  },
  {
   "cell_type": "markdown",
   "metadata": {},
   "source": [
    "## Drop columns no longer needed\n",
    "Such as those only needed to derive latent variables."
   ]
  },
  {
   "cell_type": "code",
   "execution_count": 45,
   "metadata": {},
   "outputs": [
    {
     "data": {
      "text/html": [
       "<div>\n",
       "<style scoped>\n",
       "    .dataframe tbody tr th:only-of-type {\n",
       "        vertical-align: middle;\n",
       "    }\n",
       "\n",
       "    .dataframe tbody tr th {\n",
       "        vertical-align: top;\n",
       "    }\n",
       "\n",
       "    .dataframe thead th {\n",
       "        text-align: right;\n",
       "    }\n",
       "</style>\n",
       "<table border=\"1\" class=\"dataframe\">\n",
       "  <thead>\n",
       "    <tr style=\"text-align: right;\">\n",
       "      <th></th>\n",
       "      <th>IsComplaints</th>\n",
       "      <th>Complaints</th>\n",
       "      <th>LotArea</th>\n",
       "      <th>BldgArea</th>\n",
       "      <th>ResArea</th>\n",
       "      <th>OfficeArea</th>\n",
       "      <th>RetailArea</th>\n",
       "      <th>NumBldgs</th>\n",
       "      <th>NumFloors</th>\n",
       "      <th>LotDepth</th>\n",
       "      <th>...</th>\n",
       "      <th>LandUse_1</th>\n",
       "      <th>LandUse_2</th>\n",
       "      <th>LandUse_3</th>\n",
       "      <th>LandUse_4</th>\n",
       "      <th>LandUse_5</th>\n",
       "      <th>LandUse_6</th>\n",
       "      <th>LandUse_7</th>\n",
       "      <th>LandUse_8</th>\n",
       "      <th>LandUse_9</th>\n",
       "      <th>LandUse_10</th>\n",
       "    </tr>\n",
       "  </thead>\n",
       "  <tbody>\n",
       "    <tr>\n",
       "      <th>count</th>\n",
       "      <td>81947.000000</td>\n",
       "      <td>81947.000000</td>\n",
       "      <td>8.194700e+04</td>\n",
       "      <td>8.194700e+04</td>\n",
       "      <td>8.194700e+04</td>\n",
       "      <td>8.194700e+04</td>\n",
       "      <td>8.194700e+04</td>\n",
       "      <td>8.194700e+04</td>\n",
       "      <td>8.194700e+04</td>\n",
       "      <td>8.194700e+04</td>\n",
       "      <td>...</td>\n",
       "      <td>81947.000000</td>\n",
       "      <td>81947.000000</td>\n",
       "      <td>81947.000000</td>\n",
       "      <td>81947.000000</td>\n",
       "      <td>81947.000000</td>\n",
       "      <td>81947.000000</td>\n",
       "      <td>81947.000000</td>\n",
       "      <td>81947.000000</td>\n",
       "      <td>81947.000000</td>\n",
       "      <td>81947.000000</td>\n",
       "    </tr>\n",
       "    <tr>\n",
       "      <th>mean</th>\n",
       "      <td>0.231564</td>\n",
       "      <td>7.098320</td>\n",
       "      <td>-2.137137e-15</td>\n",
       "      <td>7.639175e-16</td>\n",
       "      <td>-3.819584e-15</td>\n",
       "      <td>-4.643884e-15</td>\n",
       "      <td>2.574870e-14</td>\n",
       "      <td>1.993813e-14</td>\n",
       "      <td>2.630278e-14</td>\n",
       "      <td>1.954200e-15</td>\n",
       "      <td>...</td>\n",
       "      <td>0.626344</td>\n",
       "      <td>0.227464</td>\n",
       "      <td>0.024943</td>\n",
       "      <td>0.034461</td>\n",
       "      <td>0.034949</td>\n",
       "      <td>0.013619</td>\n",
       "      <td>0.002660</td>\n",
       "      <td>0.022746</td>\n",
       "      <td>0.000549</td>\n",
       "      <td>0.012264</td>\n",
       "    </tr>\n",
       "    <tr>\n",
       "      <th>std</th>\n",
       "      <td>0.421835</td>\n",
       "      <td>57.600869</td>\n",
       "      <td>1.000006e+00</td>\n",
       "      <td>1.000006e+00</td>\n",
       "      <td>1.000006e+00</td>\n",
       "      <td>1.000006e+00</td>\n",
       "      <td>1.000006e+00</td>\n",
       "      <td>1.000006e+00</td>\n",
       "      <td>1.000006e+00</td>\n",
       "      <td>1.000006e+00</td>\n",
       "      <td>...</td>\n",
       "      <td>0.483777</td>\n",
       "      <td>0.419197</td>\n",
       "      <td>0.155952</td>\n",
       "      <td>0.182412</td>\n",
       "      <td>0.183653</td>\n",
       "      <td>0.115902</td>\n",
       "      <td>0.051509</td>\n",
       "      <td>0.149095</td>\n",
       "      <td>0.023427</td>\n",
       "      <td>0.110063</td>\n",
       "    </tr>\n",
       "    <tr>\n",
       "      <th>min</th>\n",
       "      <td>0.000000</td>\n",
       "      <td>0.000000</td>\n",
       "      <td>-1.354417e-01</td>\n",
       "      <td>-1.368854e-01</td>\n",
       "      <td>-1.098859e-01</td>\n",
       "      <td>-4.617526e-02</td>\n",
       "      <td>-7.481987e-02</td>\n",
       "      <td>-1.754691e-01</td>\n",
       "      <td>-1.442815e+00</td>\n",
       "      <td>-2.269633e+00</td>\n",
       "      <td>...</td>\n",
       "      <td>0.000000</td>\n",
       "      <td>0.000000</td>\n",
       "      <td>0.000000</td>\n",
       "      <td>0.000000</td>\n",
       "      <td>0.000000</td>\n",
       "      <td>0.000000</td>\n",
       "      <td>0.000000</td>\n",
       "      <td>0.000000</td>\n",
       "      <td>0.000000</td>\n",
       "      <td>0.000000</td>\n",
       "    </tr>\n",
       "    <tr>\n",
       "      <th>25%</th>\n",
       "      <td>0.000000</td>\n",
       "      <td>0.000000</td>\n",
       "      <td>-8.821810e-02</td>\n",
       "      <td>-1.078577e-01</td>\n",
       "      <td>-8.594042e-02</td>\n",
       "      <td>-4.617526e-02</td>\n",
       "      <td>-7.481987e-02</td>\n",
       "      <td>-1.754691e-01</td>\n",
       "      <td>-3.334627e-01</td>\n",
       "      <td>-1.989001e-01</td>\n",
       "      <td>...</td>\n",
       "      <td>0.000000</td>\n",
       "      <td>0.000000</td>\n",
       "      <td>0.000000</td>\n",
       "      <td>0.000000</td>\n",
       "      <td>0.000000</td>\n",
       "      <td>0.000000</td>\n",
       "      <td>0.000000</td>\n",
       "      <td>0.000000</td>\n",
       "      <td>0.000000</td>\n",
       "      <td>0.000000</td>\n",
       "    </tr>\n",
       "    <tr>\n",
       "      <th>50%</th>\n",
       "      <td>0.000000</td>\n",
       "      <td>0.000000</td>\n",
       "      <td>-8.071598e-02</td>\n",
       "      <td>-9.757960e-02</td>\n",
       "      <td>-7.452888e-02</td>\n",
       "      <td>-4.617526e-02</td>\n",
       "      <td>-7.481987e-02</td>\n",
       "      <td>-1.754691e-01</td>\n",
       "      <td>-3.334627e-01</td>\n",
       "      <td>-7.709232e-02</td>\n",
       "      <td>...</td>\n",
       "      <td>1.000000</td>\n",
       "      <td>0.000000</td>\n",
       "      <td>0.000000</td>\n",
       "      <td>0.000000</td>\n",
       "      <td>0.000000</td>\n",
       "      <td>0.000000</td>\n",
       "      <td>0.000000</td>\n",
       "      <td>0.000000</td>\n",
       "      <td>0.000000</td>\n",
       "      <td>0.000000</td>\n",
       "    </tr>\n",
       "    <tr>\n",
       "      <th>75%</th>\n",
       "      <td>0.000000</td>\n",
       "      <td>0.000000</td>\n",
       "      <td>-4.345379e-02</td>\n",
       "      <td>-8.004026e-02</td>\n",
       "      <td>-5.941327e-02</td>\n",
       "      <td>-4.617526e-02</td>\n",
       "      <td>-7.481987e-02</td>\n",
       "      <td>-1.754691e-01</td>\n",
       "      <td>4.061054e-01</td>\n",
       "      <td>-4.347337e-02</td>\n",
       "      <td>...</td>\n",
       "      <td>1.000000</td>\n",
       "      <td>0.000000</td>\n",
       "      <td>0.000000</td>\n",
       "      <td>0.000000</td>\n",
       "      <td>0.000000</td>\n",
       "      <td>0.000000</td>\n",
       "      <td>0.000000</td>\n",
       "      <td>0.000000</td>\n",
       "      <td>0.000000</td>\n",
       "      <td>0.000000</td>\n",
       "    </tr>\n",
       "    <tr>\n",
       "      <th>max</th>\n",
       "      <td>1.000000</td>\n",
       "      <td>7112.000000</td>\n",
       "      <td>1.252705e+02</td>\n",
       "      <td>2.306543e+02</td>\n",
       "      <td>2.470416e+02</td>\n",
       "      <td>1.241325e+02</td>\n",
       "      <td>1.225698e+02</td>\n",
       "      <td>1.782793e+02</td>\n",
       "      <td>2.924926e+01</td>\n",
       "      <td>4.620987e+01</td>\n",
       "      <td>...</td>\n",
       "      <td>1.000000</td>\n",
       "      <td>1.000000</td>\n",
       "      <td>1.000000</td>\n",
       "      <td>1.000000</td>\n",
       "      <td>1.000000</td>\n",
       "      <td>1.000000</td>\n",
       "      <td>1.000000</td>\n",
       "      <td>1.000000</td>\n",
       "      <td>1.000000</td>\n",
       "      <td>1.000000</td>\n",
       "    </tr>\n",
       "  </tbody>\n",
       "</table>\n",
       "<p>8 rows × 57 columns</p>\n",
       "</div>"
      ],
      "text/plain": [
       "       IsComplaints    Complaints       LotArea      BldgArea       ResArea  \\\n",
       "count  81947.000000  81947.000000  8.194700e+04  8.194700e+04  8.194700e+04   \n",
       "mean       0.231564      7.098320 -2.137137e-15  7.639175e-16 -3.819584e-15   \n",
       "std        0.421835     57.600869  1.000006e+00  1.000006e+00  1.000006e+00   \n",
       "min        0.000000      0.000000 -1.354417e-01 -1.368854e-01 -1.098859e-01   \n",
       "25%        0.000000      0.000000 -8.821810e-02 -1.078577e-01 -8.594042e-02   \n",
       "50%        0.000000      0.000000 -8.071598e-02 -9.757960e-02 -7.452888e-02   \n",
       "75%        0.000000      0.000000 -4.345379e-02 -8.004026e-02 -5.941327e-02   \n",
       "max        1.000000   7112.000000  1.252705e+02  2.306543e+02  2.470416e+02   \n",
       "\n",
       "         OfficeArea    RetailArea      NumBldgs     NumFloors      LotDepth  \\\n",
       "count  8.194700e+04  8.194700e+04  8.194700e+04  8.194700e+04  8.194700e+04   \n",
       "mean  -4.643884e-15  2.574870e-14  1.993813e-14  2.630278e-14  1.954200e-15   \n",
       "std    1.000006e+00  1.000006e+00  1.000006e+00  1.000006e+00  1.000006e+00   \n",
       "min   -4.617526e-02 -7.481987e-02 -1.754691e-01 -1.442815e+00 -2.269633e+00   \n",
       "25%   -4.617526e-02 -7.481987e-02 -1.754691e-01 -3.334627e-01 -1.989001e-01   \n",
       "50%   -4.617526e-02 -7.481987e-02 -1.754691e-01 -3.334627e-01 -7.709232e-02   \n",
       "75%   -4.617526e-02 -7.481987e-02 -1.754691e-01  4.061054e-01 -4.347337e-02   \n",
       "max    1.241325e+02  1.225698e+02  1.782793e+02  2.924926e+01  4.620987e+01   \n",
       "\n",
       "       ...     LandUse_1     LandUse_2     LandUse_3     LandUse_4  \\\n",
       "count  ...  81947.000000  81947.000000  81947.000000  81947.000000   \n",
       "mean   ...      0.626344      0.227464      0.024943      0.034461   \n",
       "std    ...      0.483777      0.419197      0.155952      0.182412   \n",
       "min    ...      0.000000      0.000000      0.000000      0.000000   \n",
       "25%    ...      0.000000      0.000000      0.000000      0.000000   \n",
       "50%    ...      1.000000      0.000000      0.000000      0.000000   \n",
       "75%    ...      1.000000      0.000000      0.000000      0.000000   \n",
       "max    ...      1.000000      1.000000      1.000000      1.000000   \n",
       "\n",
       "          LandUse_5     LandUse_6     LandUse_7     LandUse_8     LandUse_9  \\\n",
       "count  81947.000000  81947.000000  81947.000000  81947.000000  81947.000000   \n",
       "mean       0.034949      0.013619      0.002660      0.022746      0.000549   \n",
       "std        0.183653      0.115902      0.051509      0.149095      0.023427   \n",
       "min        0.000000      0.000000      0.000000      0.000000      0.000000   \n",
       "25%        0.000000      0.000000      0.000000      0.000000      0.000000   \n",
       "50%        0.000000      0.000000      0.000000      0.000000      0.000000   \n",
       "75%        0.000000      0.000000      0.000000      0.000000      0.000000   \n",
       "max        1.000000      1.000000      1.000000      1.000000      1.000000   \n",
       "\n",
       "         LandUse_10  \n",
       "count  81947.000000  \n",
       "mean       0.012264  \n",
       "std        0.110063  \n",
       "min        0.000000  \n",
       "25%        0.000000  \n",
       "50%        0.000000  \n",
       "75%        0.000000  \n",
       "max        1.000000  \n",
       "\n",
       "[8 rows x 57 columns]"
      ]
     },
     "execution_count": 45,
     "metadata": {},
     "output_type": "execute_result"
    }
   ],
   "source": [
    "df.drop(['Lot','ZipCode','Address','XCoord','YCoord','BldgClass','LandUse'], axis=1, inplace=True)\n",
    "df.describe()"
   ]
  },
  {
   "cell_type": "markdown",
   "metadata": {},
   "source": [
    "## Save the cleaned data."
   ]
  },
  {
   "cell_type": "code",
   "execution_count": 46,
   "metadata": {},
   "outputs": [],
   "source": [
    "df.to_pickle(files_path + 'q3clean.pkl')"
   ]
  },
  {
   "cell_type": "markdown",
   "metadata": {},
   "source": [
    "<a id=\"analysis\"></a>\n",
    "# Analyzing and Visualizing\n",
    "---"
   ]
  },
  {
   "cell_type": "code",
   "execution_count": 47,
   "metadata": {},
   "outputs": [
    {
     "name": "stdout",
     "output_type": "stream",
     "text": [
      "81947\n",
      "18976\n"
     ]
    }
   ],
   "source": [
    "df = pd.read_pickle(files_path + 'q3clean.pkl')\n",
    "print(df.shape[0])\n",
    "print(len(df[df['Complaints'].ne(0)]))"
   ]
  },
  {
   "cell_type": "markdown",
   "metadata": {},
   "source": [
    "## Analyze including Visualizations"
   ]
  },
  {
   "cell_type": "markdown",
   "metadata": {},
   "source": [
    "### Pearson Correlation"
   ]
  },
  {
   "cell_type": "code",
   "execution_count": 48,
   "metadata": {},
   "outputs": [
    {
     "data": {
      "image/png": "[encoded data removed]",
      "text/plain": [
       "<Figure size 720x720 with 2 Axes>"
      ]
     },
     "metadata": {
      "needs_background": "light"
     },
     "output_type": "display_data"
    }
   ],
   "source": [
    "# Correlation heatmap\n",
    "AllForHeat = df.corr().transpose()\n",
    "fig, ax = plt.subplots(figsize=(10,10))\n",
    "im = ax.pcolor(AllForHeat, cmap='RdBu_r')\n",
    "row_labels = df.columns; col_labels = df.columns\n",
    "ax.set_xticklabels(row_labels, minor = False);ax.set_yticklabels(col_labels, minor = False)\n",
    "#move ticks and labels to the center.\n",
    "ax.set_xticks(np.arange(AllForHeat.shape[1]) + 0.5, minor=False)\n",
    "ax.set_yticks(np.arange(AllForHeat.shape[0]) + 0.5, minor=False)\n",
    "ax.set_title(\"heat map of correlations\")\n",
    "plt.xticks(rotation=90)\n",
    "plt.colorbar(im)\n",
    "plt.show()"
   ]
  },
  {
   "cell_type": "markdown",
   "metadata": {},
   "source": [
    "<p style=\"color:Red;\">Looking along the bottom 2 rows or leftmost 2 columns, there appear to be some correlations with complaints, though none super strong.  Try visualizing in a different way.</p>"
   ]
  },
  {
   "cell_type": "code",
   "execution_count": 49,
   "metadata": {},
   "outputs": [
    {
     "data": {
      "image/png": "[encoded data removed]",
      "text/plain": [
       "<Figure size 1008x504 with 1 Axes>"
      ]
     },
     "metadata": {
      "needs_background": "light"
     },
     "output_type": "display_data"
    }
   ],
   "source": [
    "# Bar graph of all correlations\n",
    "correlations = AllForHeat[['IsComplaints','Complaints']].plot(title=\"Broad Correlation View\",kind='bar',grid=True,figsize=(14,7))\n",
    "row_labels = df.columns\n",
    "plt.xticks(np.arange(0,AllForHeat.shape[0],1),labels=row_labels,rotation=90,color='blue')\n",
    "plt.yticks(np.arange(-0.4,1.1,0.1),color='blue')\n",
    "plt.ylabel(\"Correlation\")\n",
    "plt.xlabel(\"Feature\")\n",
    "plt.show()"
   ]
  },
  {
   "cell_type": "markdown",
   "metadata": {},
   "source": [
    "<p style=\"color:Red;\">Also look at a sorted list of the actual numbers.</p>"
   ]
  },
  {
   "cell_type": "code",
   "execution_count": 50,
   "metadata": {},
   "outputs": [
    {
     "name": "stdout",
     "output_type": "stream",
     "text": [
      "Correlations in descending strength\n"
     ]
    },
    {
     "data": {
      "text/html": [
       "<div>\n",
       "<style scoped>\n",
       "    .dataframe tbody tr th:only-of-type {\n",
       "        vertical-align: middle;\n",
       "    }\n",
       "\n",
       "    .dataframe tbody tr th {\n",
       "        vertical-align: top;\n",
       "    }\n",
       "\n",
       "    .dataframe thead th {\n",
       "        text-align: right;\n",
       "    }\n",
       "</style>\n",
       "<table border=\"1\" class=\"dataframe\">\n",
       "  <thead>\n",
       "    <tr style=\"text-align: right;\">\n",
       "      <th></th>\n",
       "      <th>IsComplaints</th>\n",
       "      <th>Complaints</th>\n",
       "    </tr>\n",
       "  </thead>\n",
       "  <tbody>\n",
       "    <tr>\n",
       "      <th>IsComplaints</th>\n",
       "      <td>1.000000</td>\n",
       "      <td>0.224490</td>\n",
       "    </tr>\n",
       "    <tr>\n",
       "      <th>Complaints</th>\n",
       "      <td>0.224490</td>\n",
       "      <td>1.000000</td>\n",
       "    </tr>\n",
       "    <tr>\n",
       "      <th>IsApartment</th>\n",
       "      <td>0.430642</td>\n",
       "      <td>0.190000</td>\n",
       "    </tr>\n",
       "    <tr>\n",
       "      <th>NumFloors</th>\n",
       "      <td>0.376281</td>\n",
       "      <td>0.272476</td>\n",
       "    </tr>\n",
       "    <tr>\n",
       "      <th>BuiltFAR</th>\n",
       "      <td>0.356718</td>\n",
       "      <td>0.236174</td>\n",
       "    </tr>\n",
       "    <tr>\n",
       "      <th>LandUse_1</th>\n",
       "      <td>-0.347156</td>\n",
       "      <td>-0.147378</td>\n",
       "    </tr>\n",
       "    <tr>\n",
       "      <th>LandUse_2</th>\n",
       "      <td>0.342127</td>\n",
       "      <td>0.079502</td>\n",
       "    </tr>\n",
       "    <tr>\n",
       "      <th>BuildingClass_C</th>\n",
       "      <td>0.341964</td>\n",
       "      <td>0.079674</td>\n",
       "    </tr>\n",
       "    <tr>\n",
       "      <th>ResidFAR</th>\n",
       "      <td>0.319841</td>\n",
       "      <td>0.163121</td>\n",
       "    </tr>\n",
       "    <tr>\n",
       "      <th>FacilFAR</th>\n",
       "      <td>0.300977</td>\n",
       "      <td>0.140097</td>\n",
       "    </tr>\n",
       "    <tr>\n",
       "      <th>BuildingClass_D</th>\n",
       "      <td>0.260713</td>\n",
       "      <td>0.287169</td>\n",
       "    </tr>\n",
       "    <tr>\n",
       "      <th>BuildingClass_A</th>\n",
       "      <td>-0.275174</td>\n",
       "      <td>-0.072933</td>\n",
       "    </tr>\n",
       "    <tr>\n",
       "      <th>BldgDepth</th>\n",
       "      <td>0.261325</td>\n",
       "      <td>0.178679</td>\n",
       "    </tr>\n",
       "    <tr>\n",
       "      <th>LandUse_3</th>\n",
       "      <td>0.229031</td>\n",
       "      <td>0.239462</td>\n",
       "    </tr>\n",
       "    <tr>\n",
       "      <th>IsYearAlter1</th>\n",
       "      <td>0.127849</td>\n",
       "      <td>0.067838</td>\n",
       "    </tr>\n",
       "    <tr>\n",
       "      <th>YearAlter1</th>\n",
       "      <td>0.127545</td>\n",
       "      <td>0.067546</td>\n",
       "    </tr>\n",
       "    <tr>\n",
       "      <th>YearBuilt</th>\n",
       "      <td>-0.112548</td>\n",
       "      <td>-0.045385</td>\n",
       "    </tr>\n",
       "    <tr>\n",
       "      <th>ResArea</th>\n",
       "      <td>0.094297</td>\n",
       "      <td>0.107553</td>\n",
       "    </tr>\n",
       "    <tr>\n",
       "      <th>IsResArea</th>\n",
       "      <td>0.104768</td>\n",
       "      <td>0.036060</td>\n",
       "    </tr>\n",
       "    <tr>\n",
       "      <th>LandUse_4</th>\n",
       "      <td>0.100239</td>\n",
       "      <td>0.058523</td>\n",
       "    </tr>\n",
       "    <tr>\n",
       "      <th>BldgArea</th>\n",
       "      <td>0.086552</td>\n",
       "      <td>0.097005</td>\n",
       "    </tr>\n",
       "    <tr>\n",
       "      <th>BuildingClass_B</th>\n",
       "      <td>-0.096334</td>\n",
       "      <td>-0.081347</td>\n",
       "    </tr>\n",
       "    <tr>\n",
       "      <th>IsRetailArea</th>\n",
       "      <td>0.092208</td>\n",
       "      <td>0.059250</td>\n",
       "    </tr>\n",
       "    <tr>\n",
       "      <th>LandUse_5</th>\n",
       "      <td>-0.065717</td>\n",
       "      <td>-0.022693</td>\n",
       "    </tr>\n",
       "    <tr>\n",
       "      <th>BuildingClass_G</th>\n",
       "      <td>-0.056409</td>\n",
       "      <td>-0.015461</td>\n",
       "    </tr>\n",
       "    <tr>\n",
       "      <th>BuildingClass_K</th>\n",
       "      <td>-0.054477</td>\n",
       "      <td>-0.021449</td>\n",
       "    </tr>\n",
       "    <tr>\n",
       "      <th>LandUse_6</th>\n",
       "      <td>-0.053770</td>\n",
       "      <td>-0.014263</td>\n",
       "    </tr>\n",
       "    <tr>\n",
       "      <th>BuildingClass_S</th>\n",
       "      <td>0.053019</td>\n",
       "      <td>-0.010435</td>\n",
       "    </tr>\n",
       "    <tr>\n",
       "      <th>LandUse_10</th>\n",
       "      <td>-0.051706</td>\n",
       "      <td>-0.013649</td>\n",
       "    </tr>\n",
       "  </tbody>\n",
       "</table>\n",
       "</div>"
      ],
      "text/plain": [
       "                 IsComplaints  Complaints\n",
       "IsComplaints         1.000000    0.224490\n",
       "Complaints           0.224490    1.000000\n",
       "IsApartment          0.430642    0.190000\n",
       "NumFloors            0.376281    0.272476\n",
       "BuiltFAR             0.356718    0.236174\n",
       "LandUse_1           -0.347156   -0.147378\n",
       "LandUse_2            0.342127    0.079502\n",
       "BuildingClass_C      0.341964    0.079674\n",
       "ResidFAR             0.319841    0.163121\n",
       "FacilFAR             0.300977    0.140097\n",
       "BuildingClass_D      0.260713    0.287169\n",
       "BuildingClass_A     -0.275174   -0.072933\n",
       "BldgDepth            0.261325    0.178679\n",
       "LandUse_3            0.229031    0.239462\n",
       "IsYearAlter1         0.127849    0.067838\n",
       "YearAlter1           0.127545    0.067546\n",
       "YearBuilt           -0.112548   -0.045385\n",
       "ResArea              0.094297    0.107553\n",
       "IsResArea            0.104768    0.036060\n",
       "LandUse_4            0.100239    0.058523\n",
       "BldgArea             0.086552    0.097005\n",
       "BuildingClass_B     -0.096334   -0.081347\n",
       "IsRetailArea         0.092208    0.059250\n",
       "LandUse_5           -0.065717   -0.022693\n",
       "BuildingClass_G     -0.056409   -0.015461\n",
       "BuildingClass_K     -0.054477   -0.021449\n",
       "LandUse_6           -0.053770   -0.014263\n",
       "BuildingClass_S      0.053019   -0.010435\n",
       "LandUse_10          -0.051706   -0.013649"
      ]
     },
     "execution_count": 50,
     "metadata": {},
     "output_type": "execute_result"
    }
   ],
   "source": [
    "#Sorted list of the strongest correlations.\n",
    "correlations = AllForHeat[['IsComplaints','Complaints']].abs()\n",
    "correlations.loc[:,'highest'] = correlations.max(axis=1)\n",
    "correlations['IsComplaints'] = AllForHeat['IsComplaints']\n",
    "correlations['Complaints'] = AllForHeat['Complaints']\n",
    "correlations = correlations[correlations['highest'].ge(0.05)]\n",
    "correlations.sort_values(by='highest', axis=0, ascending=False, inplace=True)\n",
    "correlations.drop(['highest'], axis=1, inplace=True)\n",
    "print(\"Correlations in descending strength\")\n",
    "correlations"
   ]
  },
  {
   "cell_type": "code",
   "execution_count": 51,
   "metadata": {},
   "outputs": [
    {
     "name": "stdout",
     "output_type": "stream",
     "text": [
      "IsComplaints          1.000 (0.0000)  0.224 (0.0000)\n",
      "Complaints            0.224 (0.0000)  1.000 (0.0000)\n",
      "BldgArea              0.087 (0.0000)  0.097 (0.0000)\n",
      "ResArea               0.094 (0.0000)  0.108 (0.0000)\n",
      "NumFloors             0.376 (0.0000)  0.272 (0.0000)\n",
      "BldgDepth             0.261 (0.0000)  0.179 (0.0000)\n",
      "YearBuilt            -0.113 (0.0000) -0.045 (0.0000)\n",
      "YearAlter1            0.128 (0.0000)  0.068 (0.0000)\n",
      "BuiltFAR              0.357 (0.0000)  0.236 (0.0000)\n",
      "ResidFAR              0.320 (0.0000)  0.163 (0.0000)\n",
      "FacilFAR              0.301 (0.0000)  0.140 (0.0000)\n",
      "IsResArea             0.105 (0.0000)  0.036 (0.0000)\n",
      "IsRetailArea          0.092 (0.0000)  0.059 (0.0000)\n",
      "IsYearAlter1          0.128 (0.0000)  0.068 (0.0000)\n",
      "BuildingClass_A      -0.275 (0.0000) -0.073 (0.0000)\n",
      "BuildingClass_B      -0.096 (0.0000) -0.081 (0.0000)\n",
      "BuildingClass_C       0.342 (0.0000)  0.080 (0.0000)\n",
      "BuildingClass_D       0.261 (0.0000)  0.287 (0.0000)\n",
      "BuildingClass_G      -0.056 (0.0000) -0.015 (0.0000)\n",
      "BuildingClass_K      -0.054 (0.0000) -0.021 (0.0000)\n",
      "BuildingClass_S       0.053 (0.0000) -0.010 (0.0028)\n",
      "IsApartment           0.431 (0.0000)  0.190 (0.0000)\n",
      "LandUse_1            -0.347 (0.0000) -0.147 (0.0000)\n",
      "LandUse_2             0.342 (0.0000)  0.080 (0.0000)\n",
      "LandUse_3             0.229 (0.0000)  0.239 (0.0000)\n",
      "LandUse_4             0.100 (0.0000)  0.059 (0.0000)\n",
      "LandUse_5            -0.066 (0.0000) -0.023 (0.0000)\n",
      "LandUse_6            -0.054 (0.0000) -0.014 (0.0000)\n",
      "LandUse_10           -0.052 (0.0000) -0.014 (0.0001)\n"
     ]
    }
   ],
   "source": [
    "# Get the pearson correlations and confidence measures for individual features.\n",
    "for col in df.columns:\n",
    "    pearson_coef1, p_value1 = stats.pearsonr(df[col], df['IsComplaints'])\n",
    "    pearson_coef2, p_value2 = stats.pearsonr(df[col], df['Complaints'])\n",
    "    threshold = 0.05\n",
    "    if (abs(pearson_coef1) > threshold and p_value1 < 0.10) or (abs(pearson_coef2) > threshold and p_value2 < 0.10):\n",
    "        print(\"%-20s % 1.3f (%1.4f) % 1.3f (%1.4f)\" % (col, pearson_coef1, p_value1, pearson_coef2, p_value2))"
   ]
  },
  {
   "cell_type": "code",
   "execution_count": 52,
   "metadata": {},
   "outputs": [
    {
     "name": "stdout",
     "output_type": "stream",
     "text": [
      "ResidFAR             FacilFAR              0.857 (0.0000)\n",
      "ResidFAR             BuiltFAR              0.385 (0.0000)\n",
      "FacilFAR             BuiltFAR              0.374 (0.0000)\n",
      "BuildingClass_A      LandUse_1             0.466 (0.0000)\n",
      "BuildingClass_C      LandUse_2             0.998 (0.0000)\n",
      "BuildingClass_D      LandUse_3             0.889 (0.0000)\n",
      "NumFloors            BuiltFAR              0.577 (0.0000)\n",
      "BldgDepth            BuiltFAR              0.379 (0.0000)\n",
      "NumFloors            BldgDepth             0.337 (0.0000)\n"
     ]
    }
   ],
   "source": [
    "#check a few of these to see if they are different data points that capture the same relationship.\n",
    "def see_pearson(a,b):\n",
    "    pearson_coef, p_value = stats.pearsonr(df[a], df[b])\n",
    "    print(\"%-20s %-20s % 1.3f (%1.4f)\" % (a, b, pearson_coef, p_value))\n",
    "see_pearson('ResidFAR','FacilFAR')\n",
    "see_pearson('ResidFAR','BuiltFAR')\n",
    "see_pearson('FacilFAR','BuiltFAR')\n",
    "see_pearson('BuildingClass_A','LandUse_1') #Single family\n",
    "see_pearson('BuildingClass_C','LandUse_2') #Walk up apartments\n",
    "see_pearson('BuildingClass_D','LandUse_3') #Elevator apartments\n",
    "see_pearson('NumFloors','BuiltFAR') #Taller buildings have more floor area?\n",
    "see_pearson('BldgDepth','BuiltFAR') #Deeper buildings have more floor area?\n",
    "see_pearson('NumFloors','BldgDepth') #Taller vs Deeper?"
   ]
  },
  {
   "cell_type": "markdown",
   "metadata": {},
   "source": [
    "<p style=\"color:Red;\">ResidFAR and FacilFAR are strongly correlated to each other.  The documentation says FAR is the \"Floor Area Ratio\" between the building and the LOT.  Residential and \"Community Facility\" seem to always be very similar to each other.  There is separate data for building category and land use category.  Similarly there is a strong correspondence between these two values.  The correlations drawn from some of these are essentially saying the same thing.  Furthermore, the ResidFAR and FacilFAR are indications of the \"maximum allowable\" floor area ratios.  The BuiltFAR is the ratio of the ACTUAL floor area to the lot area.</p>\n",
    "<p style=\"color:Red;\"><b>Conclusion:  </b>It Only makes sense to use one of two values that express the same information.  It doesn't make sense to concern ourselves with \"maximum allowable\" in cases where we also have \"actual\".</p>"
   ]
  },
  {
   "cell_type": "markdown",
   "metadata": {},
   "source": [
    "#### Visualize strongest Pearson correlations"
   ]
  },
  {
   "cell_type": "code",
   "execution_count": 53,
   "metadata": {},
   "outputs": [],
   "source": [
    "# Limit only to most relevant features.\n",
    "features_of_interest = ['NumFloors','BuiltFAR','BldgDepth',\n",
    "                        'LandUse_1', 'BuildingClass_A','BuildingClass_B',\n",
    "                        'IsApartment', 'LandUse_2','BuildingClass_C',\n",
    "                        'LandUse_3','BuildingClass_D',\n",
    "                        'YearBuilt']\n",
    "# Interpret feature names.\n",
    "friendly_names = {\"LandUse_1\":\"LU1 One and Two Family\",\n",
    "                  \"LandUse_2\":\"LU2 Walk Up Apartments\",\n",
    "                  \"LandUse_3\":\"LU3 Elevator Apartments\",\n",
    "                  'BuiltFAR':'Floor Area Ratio',\n",
    "                  \"IsComplaints\":\"Any Complaints?\",\n",
    "                  \"Complaints\":\"Complaints per Address\",\n",
    "                  'BuildingClass_A':'BA One Family','BuildingClass_B':'BB Two Family','BuildingClass_C':'BC Walk Up Apartments','BuildingClass_D':'BD Elevator Apartments'}"
   ]
  },
  {
   "cell_type": "code",
   "execution_count": 54,
   "metadata": {},
   "outputs": [
    {
     "data": {
      "image/png": "[encoded data removed]",
      "text/plain": [
       "<Figure size 864x288 with 1 Axes>"
      ]
     },
     "metadata": {
      "needs_background": "light"
     },
     "output_type": "display_data"
    }
   ],
   "source": [
    "strongest = correlations.copy(deep=True)\n",
    "strongest = strongest.loc[features_of_interest]\n",
    "strongest.rename(mapper=friendly_names, axis=1, inplace=True)\n",
    "strongest.rename(mapper=friendly_names, axis=0, inplace=True)\n",
    "strongest.plot(title=\"Strongest Pearson Correlations\",kind='bar',grid=True,figsize=(12,4))\n",
    "labels = strongest.index\n",
    "plt.ylabel(\"Correlation\")\n",
    "plt.xlabel(\"Feature\")\n",
    "plt.xticks(np.arange(0,strongest.shape[0],1),labels=labels, rotation=90,color='blue')\n",
    "plt.yticks(np.arange(-0.4,0.6,0.1),color='blue')\n",
    "plt.show()"
   ]
  },
  {
   "cell_type": "markdown",
   "metadata": {},
   "source": [
    "### Alternative approaches"
   ]
  },
  {
   "cell_type": "markdown",
   "metadata": {},
   "source": [
    "<p style=\"color:Red;\">A few attempts to build a model to see whether the correlations seen with Pearson Correlation above seem correct.</p>"
   ]
  },
  {
   "cell_type": "markdown",
   "metadata": {},
   "source": [
    "#### Multiple Linear Regression"
   ]
  },
  {
   "cell_type": "code",
   "execution_count": 55,
   "metadata": {},
   "outputs": [
    {
     "name": "stdout",
     "output_type": "stream",
     "text": [
      "---Equation of the model\n",
      "Number of Complaints =\n",
      "-1.6669086259\n",
      " +  4.7918540034 * NumFloors\n",
      " +  4.3043623441 * BuiltFAR\n",
      " +  4.2084829289 * BldgDepth\n",
      " +  15.7780039432 * LandUse_1\n",
      " + -8.4851793432 * BuildingClass_A\n",
      " + -10.0030669334 * BuildingClass_B\n",
      " +  4743386985398.2021484375 * IsApartment\n",
      " +  2.0688907506 * LandUse_2\n",
      " + -4743386985388.7949218750 * BuildingClass_C\n",
      " + -26.1174908985 * LandUse_3\n",
      " + -4743386985308.1503906250 * BuildingClass_D\n",
      " + -2.8242314581 * YearBuilt\n",
      "\n",
      "---Scores\n",
      "RMSE                  54.1936191033\n",
      "R Squared             0.1147956475\n"
     ]
    }
   ],
   "source": [
    "lm=LinearRegression()\n",
    "Z = df[features_of_interest]\n",
    "lm.fit(Z, df['Complaints'])\n",
    "Yhat=lm.predict(Z)\n",
    "print(\"---Equation of the model\")\n",
    "print(\"Number of Complaints =\")\n",
    "print(\"% 10.10f\" % (lm.intercept_))\n",
    "for i in range(len(features_of_interest)):\n",
    "    print(\" + % 10.10f * %s\" % (lm.coef_[i], features_of_interest[i]))\n",
    "print (\"\")\n",
    "print (\"---Scores\")\n",
    "#print (\"%-20s % 10.10f % 10.10f % 10.10f\" % (\"Complaints min/mean/max\", df['Complaints'].min(), df['Complaints'].mean(), df['Complaints'].max()))\n",
    "print (\"%-20s % 10.10f\" % (\"RMSE\", sqrt(mean_squared_error(df['Complaints'],Yhat))))\n",
    "print (\"%-20s % 10.10f\" % (\"R Squared\", lm.score(Z,df['Complaints'])))"
   ]
  },
  {
   "cell_type": "markdown",
   "metadata": {},
   "source": [
    "<p style=\"color:Red;\">The linear model does not fit the data well.  But then again, the Pearson correlation values were showing as weak correlations.  The coefficients appear to agree roughly with the Pearson correlations with apartment coefficients dominating the others.</p>"
   ]
  },
  {
   "cell_type": "markdown",
   "metadata": {},
   "source": [
    "#### Polynomial Regression\n",
    "The scaling normally done with this approach was done earlier."
   ]
  },
  {
   "cell_type": "code",
   "execution_count": 56,
   "metadata": {},
   "outputs": [
    {
     "name": "stdout",
     "output_type": "stream",
     "text": [
      "---Equation of the model\n",
      "Number of Complaints =\n",
      " 1.9249135660\n",
      " +  0.6088916935 * NumFloors\n",
      " +  2.0646877859 * BuiltFAR\n",
      " + -1.3358737862 * BldgDepth\n",
      " + -0.3382602591 * LandUse_1\n",
      " + -0.0345365636 * BuildingClass_A\n",
      " +  0.0552246732 * BuildingClass_B\n",
      " +  22.3004097134 * IsApartment\n",
      " + -7.0994164260 * LandUse_2\n",
      " + -2.3017184153 * BuildingClass_C\n",
      " + -73.5473532750 * LandUse_3\n",
      " +  24.6021261379 * BuildingClass_D\n",
      " + -2.0318522742 * YearBuilt\n",
      "\n",
      "---Scores\n",
      "RMSE                  52.4599226658\n",
      "R Squared             0.1705264851\n"
     ]
    }
   ],
   "source": [
    "pr=PolynomialFeatures(degree=4,include_bias=False)\n",
    "lm=LinearRegression()\n",
    "Z = pr.fit_transform(df[features_of_interest])\n",
    "\n",
    "lm.fit(Z, df['Complaints'])\n",
    "Yhat=lm.predict(Z)\n",
    "print(\"---Equation of the model\")\n",
    "print(\"Number of Complaints =\")\n",
    "print(\"% 10.10f\" % (lm.intercept_))\n",
    "for i in range(len(features_of_interest)):\n",
    "    print(\" + % 10.10f * %s\" % (lm.coef_[i], features_of_interest[i]))\n",
    "print (\"\")\n",
    "print (\"---Scores\")\n",
    "print (\"%-20s % 10.10f\" % (\"RMSE\", sqrt(mean_squared_error(df['Complaints'],Yhat))))\n",
    "print (\"%-20s % 10.10f\" % (\"R Squared\", lm.score(Z,df['Complaints'])))"
   ]
  },
  {
   "cell_type": "markdown",
   "metadata": {},
   "source": [
    "<p style=\"color:Red;\">This model predicts the data better than linear regression, but still only weakly.  I do notice however that the interplay between the coefficients agree with the Pearson correlations, but in more nuanced ways.  For example, the two family homes (B) coefficient actually comes out slighly positive, but it is merely tuning itself within the broader land use (1) coefficient relative to single family homes (A).</p>"
   ]
  },
  {
   "cell_type": "markdown",
   "metadata": {},
   "source": [
    "<a id=\"conclusion\"></a>\n",
    "# Concluding Remarks\n",
    "---"
   ]
  },
  {
   "cell_type": "code",
   "execution_count": null,
   "metadata": {},
   "outputs": [],
   "source": []
  },
  {
   "cell_type": "code",
   "execution_count": null,
   "metadata": {},
   "outputs": [],
   "source": []
  },
  {
   "cell_type": "code",
   "execution_count": null,
   "metadata": {},
   "outputs": [],
   "source": []
  },
  {
   "cell_type": "markdown",
   "metadata": {},
   "source": [
    "In this exercise, you will use a feature-engineered dataset to determine whether a predictive model can be built to predict the complaint (of the Complaint Type that you decided to focus on in Week 2) by using past data.\n",
    "\n",
    "Using the best model, you need to predict the number of future complaints (of the Complaint Type that you decided to focus on in Question 1)."
   ]
  },
  {
   "cell_type": "code",
   "execution_count": null,
   "metadata": {},
   "outputs": [],
   "source": []
  },
  {
   "cell_type": "code",
   "execution_count": null,
   "metadata": {},
   "outputs": [],
   "source": []
  },
  {
   "cell_type": "markdown",
   "metadata": {},
   "source": [
    "<b><u>Yes</u>, the HEATING/HOT WATER complaints (question 1) reported in the BRONX borough (question 2) have an obvious relationship with the housing characteristics.</b>  Some weak but distinct correlations:\n",
    "<ul>\n",
    "    <li><b><u>Building Type</u></b>.  Certain types are more or less prone to heating complaints than others:\n",
    "    <ul>\n",
    "        <li>Apartments!  <i>(Correlation:  0.43)</i>\n",
    "        <ul>\n",
    "            <li>Walk up apartments.  These are the most likely to have complaints.   <i>(Correlation:  0.34)</i>\n",
    "            <li>Elevator apartments.  These are the second most likely to have complaints. <i>(Correlation:  0.26)</i>\n",
    "        </ul>\n",
    "        <li>One and two family homes.  These are <u>less</u> likely to have heating complaints than other building types.  <i>(Correlation:  -0.34 <u>negative</u>)</i>\n",
    "    </ul>\n",
    "    <li><b><u>Size</u></b>.  The larger the building, the more heating complaints.\n",
    "    <ul>\n",
    "        <li>Number of Floors.  <i>(Correlation:  0.27~0.37)</i>\n",
    "        <li>Floor Area.  <i>(Correlation:  0.23~0.35)</i>\n",
    "        <li>Building Depth.  <i>(Correlation:  0.17~0.26)</i>\n",
    "    </ul>\n",
    "</ul>\n",
    "<u><b>Additional insights</b></u>:\n",
    "<ul>\n",
    "    <li>When there are complaints at elevator apartments it is much more likely there will be a <u>large number of complaints per address</u> with <i>0.28 correlation</i> compared to <i>only 0.07</i> for the walk up apartments.\n",
    "    <li>The land use category 1 encompasses both single and two family homes.  Breaking them down by building class A and B, shows that single family homes contribute much more to the negative correlation to complaints <i>(-0.27)</i> than two family homes. <i>(-0.09)</i>\n",
    "</ul>"
   ]
  }
 ],
 "metadata": {
  "kernelspec": {
   "display_name": "Python 3",
   "language": "python",
   "name": "python3"
  },
  "language_info": {
   "codemirror_mode": {
    "name": "ipython",
    "version": 3
   },
   "file_extension": ".py",
   "mimetype": "text/x-python",
   "name": "python",
   "nbconvert_exporter": "python",
   "pygments_lexer": "ipython3",
   "version": "3.7.3"
  }
 },
 "nbformat": 4,
 "nbformat_minor": 1
}
